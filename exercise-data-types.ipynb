{
 "cells": [
  {
   "cell_type": "markdown",
   "id": "ccded3e3",
   "metadata": {
    "papermill": {
     "duration": 0.008323,
     "end_time": "2022-07-28T15:42:18.520444",
     "exception": false,
     "start_time": "2022-07-28T15:42:18.512121",
     "status": "completed"
    },
    "tags": []
   },
   "source": [
    "**This notebook is an exercise in the [Intro to Programming](https://www.kaggle.com/learn/intro-to-programming) course.  You can reference the tutorial at [this link](https://www.kaggle.com/alexisbcook/data-types).**\n",
    "\n",
    "---\n"
   ]
  },
  {
   "cell_type": "markdown",
   "id": "513fc164",
   "metadata": {
    "papermill": {
     "duration": 0.006182,
     "end_time": "2022-07-28T15:42:18.533276",
     "exception": false,
     "start_time": "2022-07-28T15:42:18.527094",
     "status": "completed"
    },
    "tags": []
   },
   "source": [
    "In the tutorial, you learned about four different data types: floats, integers, strings, and booleans.  In this exercise, you'll experiment with them.\n",
    "\n",
    "# Set up the notebook\n",
    "\n",
    "Run the next code cell without changes to set up the notebook."
   ]
  },
  {
   "cell_type": "code",
   "execution_count": 1,
   "id": "dff79d18",
   "metadata": {
    "execution": {
     "iopub.execute_input": "2022-07-28T15:42:18.548385Z",
     "iopub.status.busy": "2022-07-28T15:42:18.547643Z",
     "iopub.status.idle": "2022-07-28T15:42:18.594728Z",
     "shell.execute_reply": "2022-07-28T15:42:18.593640Z"
    },
    "papermill": {
     "duration": 0.057754,
     "end_time": "2022-07-28T15:42:18.597354",
     "exception": false,
     "start_time": "2022-07-28T15:42:18.539600",
     "status": "completed"
    },
    "tags": []
   },
   "outputs": [
    {
     "name": "stdout",
     "output_type": "stream",
     "text": [
      "Setup complete.\n"
     ]
    }
   ],
   "source": [
    "# Set up the exercise\n",
    "from learntools.core import binder\n",
    "binder.bind(globals())\n",
    "from learntools.intro_to_programming.ex3 import *\n",
    "print('Setup complete.')"
   ]
  },
  {
   "cell_type": "markdown",
   "id": "cd1a2689",
   "metadata": {
    "papermill": {
     "duration": 0.006115,
     "end_time": "2022-07-28T15:42:18.610123",
     "exception": false,
     "start_time": "2022-07-28T15:42:18.604008",
     "status": "completed"
    },
    "tags": []
   },
   "source": [
    "# Question 1\n",
    "\n",
    "You have seen how to convert a float to an integer with the `int` function.  Try this out yourself by running the code cell below."
   ]
  },
  {
   "cell_type": "code",
   "execution_count": 2,
   "id": "f668b947",
   "metadata": {
    "execution": {
     "iopub.execute_input": "2022-07-28T15:42:18.624534Z",
     "iopub.status.busy": "2022-07-28T15:42:18.624117Z",
     "iopub.status.idle": "2022-07-28T15:42:18.630098Z",
     "shell.execute_reply": "2022-07-28T15:42:18.629084Z"
    },
    "papermill": {
     "duration": 0.016246,
     "end_time": "2022-07-28T15:42:18.632726",
     "exception": false,
     "start_time": "2022-07-28T15:42:18.616480",
     "status": "completed"
    },
    "tags": []
   },
   "outputs": [
    {
     "name": "stdout",
     "output_type": "stream",
     "text": [
      "1.0\n",
      "<class 'float'>\n",
      "1\n",
      "<class 'int'>\n"
     ]
    }
   ],
   "source": [
    "# Define a float\n",
    "y = 1.\n",
    "print(y)\n",
    "print(type(y))\n",
    "\n",
    "# Convert float to integer with the int function\n",
    "z = int(y)\n",
    "print(z)\n",
    "print(type(z))"
   ]
  },
  {
   "cell_type": "markdown",
   "id": "fb8fb687",
   "metadata": {
    "papermill": {
     "duration": 0.006123,
     "end_time": "2022-07-28T15:42:18.645362",
     "exception": false,
     "start_time": "2022-07-28T15:42:18.639239",
     "status": "completed"
    },
    "tags": []
   },
   "source": [
    "In this case, the float you are using has no numbers after the decimal.  \n",
    "- But what happens when you try to convert a float with a fractional part to an integer?  \n",
    "- How does the outcome of the `int` function change for positive and negative numbers?\n",
    "\n",
    "Use the next code cell to investigate and answer these questions.  Feel free to add or remove any lines of code -- it is your workspace!"
   ]
  },
  {
   "cell_type": "code",
   "execution_count": 3,
   "id": "35728e80",
   "metadata": {
    "execution": {
     "iopub.execute_input": "2022-07-28T15:42:18.660524Z",
     "iopub.status.busy": "2022-07-28T15:42:18.659877Z",
     "iopub.status.idle": "2022-07-28T15:42:18.665613Z",
     "shell.execute_reply": "2022-07-28T15:42:18.664255Z"
    },
    "papermill": {
     "duration": 0.015888,
     "end_time": "2022-07-28T15:42:18.667969",
     "exception": false,
     "start_time": "2022-07-28T15:42:18.652081",
     "status": "completed"
    },
    "tags": []
   },
   "outputs": [
    {
     "name": "stdout",
     "output_type": "stream",
     "text": [
      "1\n",
      "1\n",
      "-3\n",
      "-2\n"
     ]
    }
   ],
   "source": [
    "# Uncomment and run this code to get started!\n",
    "print(int(1.2321))\n",
    "print(int(1.747))\n",
    "print(int(-3.94535))\n",
    "print(int(-2.19774))"
   ]
  },
  {
   "cell_type": "markdown",
   "id": "ff52e0bc",
   "metadata": {
    "papermill": {
     "duration": 0.00635,
     "end_time": "2022-07-28T15:42:18.680997",
     "exception": false,
     "start_time": "2022-07-28T15:42:18.674647",
     "status": "completed"
    },
    "tags": []
   },
   "source": [
    "Once you have an answer, run the code cell below to see the solution.  Viewing the solution will give you credit for answering the problem."
   ]
  },
  {
   "cell_type": "code",
   "execution_count": 4,
   "id": "abedc4d2",
   "metadata": {
    "execution": {
     "iopub.execute_input": "2022-07-28T15:42:18.696060Z",
     "iopub.status.busy": "2022-07-28T15:42:18.695646Z",
     "iopub.status.idle": "2022-07-28T15:42:18.705108Z",
     "shell.execute_reply": "2022-07-28T15:42:18.704345Z"
    },
    "papermill": {
     "duration": 0.019506,
     "end_time": "2022-07-28T15:42:18.707121",
     "exception": false,
     "start_time": "2022-07-28T15:42:18.687615",
     "status": "completed"
    },
    "tags": []
   },
   "outputs": [
    {
     "data": {
      "application/javascript": [
       "parent.postMessage({\"jupyterEvent\": \"custom.exercise_interaction\", \"data\": {\"outcomeType\": 1, \"valueTowardsCompletion\": 0.2, \"interactionType\": 1, \"questionType\": 4, \"questionId\": \"1_FloatToInt\", \"learnToolsVersion\": \"0.3.4\", \"failureMessage\": \"\", \"exceptionClass\": \"\", \"trace\": \"\"}}, \"*\")"
      ],
      "text/plain": [
       "<IPython.core.display.Javascript object>"
      ]
     },
     "metadata": {},
     "output_type": "display_data"
    },
    {
     "data": {
      "text/markdown": [
       "<span style=\"color:#33cc33\">Correct:</span> \n",
       "\n",
       "Negative floats are always rounded UP to the closest integer (for instance, both -1.1 and -1.9 are rounded up to -1). Positive floats are always rounded DOWN to the closest integer (for instance, 2.1 and 2.9 are rounded down to 2)."
      ],
      "text/plain": [
       "Correct: \n",
       "\n",
       "Negative floats are always rounded UP to the closest integer (for instance, both -1.1 and -1.9 are rounded up to -1). Positive floats are always rounded DOWN to the closest integer (for instance, 2.1 and 2.9 are rounded down to 2)."
      ]
     },
     "metadata": {},
     "output_type": "display_data"
    }
   ],
   "source": [
    "# Check your answer (Run this code cell to receive credit!)\n",
    "q1.check()"
   ]
  },
  {
   "cell_type": "markdown",
   "id": "abe3dfbb",
   "metadata": {
    "papermill": {
     "duration": 0.006824,
     "end_time": "2022-07-28T15:42:18.721055",
     "exception": false,
     "start_time": "2022-07-28T15:42:18.714231",
     "status": "completed"
    },
    "tags": []
   },
   "source": [
    "# Question 2\n",
    "\n",
    "In the tutorial, you learned about booleans (which can take a value of `True` or `False`), in addition to integers, floats, and strings.  For this question, your goal is to determine what happens when you multiply a boolean by any of these data types.  Specifically, \n",
    "- What happens when you multiply an integer or float by `True`?  What happens when you multiply them by `False`?  How does the answer change if the numbers are positive or negative?\n",
    "- What happens when you multiply a string by `True`?  By `False`?\n",
    "\n",
    "Use the next code cell for your investigation. "
   ]
  },
  {
   "cell_type": "code",
   "execution_count": 5,
   "id": "4d108dca",
   "metadata": {
    "execution": {
     "iopub.execute_input": "2022-07-28T15:42:18.736853Z",
     "iopub.status.busy": "2022-07-28T15:42:18.735869Z",
     "iopub.status.idle": "2022-07-28T15:42:18.742846Z",
     "shell.execute_reply": "2022-07-28T15:42:18.741066Z"
    },
    "papermill": {
     "duration": 0.017199,
     "end_time": "2022-07-28T15:42:18.745109",
     "exception": false,
     "start_time": "2022-07-28T15:42:18.727910",
     "status": "completed"
    },
    "tags": []
   },
   "outputs": [
    {
     "name": "stdout",
     "output_type": "stream",
     "text": [
      "3\n",
      "-3.1\n",
      "<class 'str'>\n",
      "0\n"
     ]
    }
   ],
   "source": [
    "# Uncomment and run this code to get started!\n",
    "print(3 * True)\n",
    "print(-3.1 * True)\n",
    "print(type(\"abc\" * False))\n",
    "print(len(\"abc\" * False))"
   ]
  },
  {
   "cell_type": "markdown",
   "id": "1cd61d86",
   "metadata": {
    "papermill": {
     "duration": 0.006522,
     "end_time": "2022-07-28T15:42:18.758559",
     "exception": false,
     "start_time": "2022-07-28T15:42:18.752037",
     "status": "completed"
    },
    "tags": []
   },
   "source": [
    "Once you have an answer, run the code cell below to see the solution.  Viewing the solution will give you credit for answering the problem."
   ]
  },
  {
   "cell_type": "code",
   "execution_count": 6,
   "id": "cc75d342",
   "metadata": {
    "execution": {
     "iopub.execute_input": "2022-07-28T15:42:18.774301Z",
     "iopub.status.busy": "2022-07-28T15:42:18.773212Z",
     "iopub.status.idle": "2022-07-28T15:42:18.781041Z",
     "shell.execute_reply": "2022-07-28T15:42:18.780023Z"
    },
    "papermill": {
     "duration": 0.017934,
     "end_time": "2022-07-28T15:42:18.783268",
     "exception": false,
     "start_time": "2022-07-28T15:42:18.765334",
     "status": "completed"
    },
    "tags": []
   },
   "outputs": [
    {
     "data": {
      "application/javascript": [
       "parent.postMessage({\"jupyterEvent\": \"custom.exercise_interaction\", \"data\": {\"outcomeType\": 1, \"valueTowardsCompletion\": 0.2, \"interactionType\": 1, \"questionType\": 4, \"questionId\": \"2_MultiplyBooleans\", \"learnToolsVersion\": \"0.3.4\", \"failureMessage\": \"\", \"exceptionClass\": \"\", \"trace\": \"\"}}, \"*\")"
      ],
      "text/plain": [
       "<IPython.core.display.Javascript object>"
      ]
     },
     "metadata": {},
     "output_type": "display_data"
    },
    {
     "data": {
      "text/markdown": [
       "<span style=\"color:#33cc33\">Correct:</span> \n",
       "\n",
       "When you multiple an integer or float by a boolean with value `True`, it just returns that same integer or float (and is equivalent to multiplying by 1).  If you multiply an integer or float by a boolean with value `False`, it always returns 0.  This is true for both positive and negative numbers.  If you multiply a string by a boolean with value `True`, it just returns that same string.  And if you multiply a string by a boolean with value `False`, it returns an empty string (or a string with length zero)."
      ],
      "text/plain": [
       "Correct: \n",
       "\n",
       "When you multiple an integer or float by a boolean with value `True`, it just returns that same integer or float (and is equivalent to multiplying by 1).  If you multiply an integer or float by a boolean with value `False`, it always returns 0.  This is true for both positive and negative numbers.  If you multiply a string by a boolean with value `True`, it just returns that same string.  And if you multiply a string by a boolean with value `False`, it returns an empty string (or a string with length zero)."
      ]
     },
     "metadata": {},
     "output_type": "display_data"
    }
   ],
   "source": [
    "# Check your answer (Run this code cell to receive credit!)\n",
    "q2.check()"
   ]
  },
  {
   "cell_type": "markdown",
   "id": "7b597a98",
   "metadata": {
    "papermill": {
     "duration": 0.006708,
     "end_time": "2022-07-28T15:42:18.797690",
     "exception": false,
     "start_time": "2022-07-28T15:42:18.790982",
     "status": "completed"
    },
    "tags": []
   },
   "source": [
    "# Question 3\n",
    "\n",
    "In this question, you will build off your work from the previous exercise to write a function that estimates the value of a house.\n",
    "\n",
    "Use the next code cell to create a function `get_expected_cost` that takes as input three variables:\n",
    "- `beds` - number of bedrooms (data type float)\n",
    "- `baths` - number of bathrooms (data type float)\n",
    "- `has_basement` - whether or not the house has a basement (data type boolean)\n",
    "\n",
    "It should return the expected cost of a house with those characteristics. Assume that:\n",
    "- the expected cost for a house with 0 bedrooms and 0 bathrooms, and no basement is 80000, \n",
    "- each bedroom adds 30000 to the expected cost,\n",
    "- each bathroom adds 10000 to the expected cost, and\n",
    "- a basement adds 40000 to the expected cost.\n",
    "\n",
    "For instance,\n",
    "- a house with 1 bedroom, 1 bathroom, and no basement has an expected cost of 80000 + 30000 + 10000 = 120000.  This value will be calculated with `get_expected_cost(1, 1, False)`.\n",
    "- a house with 2 bedrooms, 1 bathroom, and a basement has an expected cost of 80000 + 2*30000 + 10000 + 40000 = 190000.  This value will be calculated with `get_expected_cost(2, 1, True)`.\n",
    "\n",
    "Remember you can always get a hint by uncommenting `q3.hint()` in the code cell following the next!"
   ]
  },
  {
   "cell_type": "code",
   "execution_count": 7,
   "id": "c96b1bb7",
   "metadata": {
    "execution": {
     "iopub.execute_input": "2022-07-28T15:42:18.813403Z",
     "iopub.status.busy": "2022-07-28T15:42:18.813000Z",
     "iopub.status.idle": "2022-07-28T15:42:18.822038Z",
     "shell.execute_reply": "2022-07-28T15:42:18.821290Z"
    },
    "papermill": {
     "duration": 0.019302,
     "end_time": "2022-07-28T15:42:18.823981",
     "exception": false,
     "start_time": "2022-07-28T15:42:18.804679",
     "status": "completed"
    },
    "tags": []
   },
   "outputs": [
    {
     "data": {
      "application/javascript": [
       "parent.postMessage({\"jupyterEvent\": \"custom.exercise_interaction\", \"data\": {\"outcomeType\": 1, \"valueTowardsCompletion\": 0.2, \"interactionType\": 1, \"questionType\": 2, \"questionId\": \"3_EstimateHouseValueBool\", \"learnToolsVersion\": \"0.3.4\", \"failureMessage\": \"\", \"exceptionClass\": \"\", \"trace\": \"\"}}, \"*\")"
      ],
      "text/plain": [
       "<IPython.core.display.Javascript object>"
      ]
     },
     "metadata": {},
     "output_type": "display_data"
    },
    {
     "data": {
      "text/markdown": [
       "<span style=\"color:#33cc33\">Correct</span>"
      ],
      "text/plain": [
       "Correct"
      ]
     },
     "metadata": {},
     "output_type": "display_data"
    }
   ],
   "source": [
    "# TODO: Complete the function\n",
    "def get_expected_cost(beds, baths, has_basement):\n",
    "    value = 80000 + (beds * 30000) + (baths * 10000) + (has_basement * 40000)\n",
    "    return value\n",
    "\n",
    "# Check your answer \n",
    "q3.check()"
   ]
  },
  {
   "cell_type": "code",
   "execution_count": 8,
   "id": "4c83cc10",
   "metadata": {
    "execution": {
     "iopub.execute_input": "2022-07-28T15:42:18.840343Z",
     "iopub.status.busy": "2022-07-28T15:42:18.839648Z",
     "iopub.status.idle": "2022-07-28T15:42:18.844680Z",
     "shell.execute_reply": "2022-07-28T15:42:18.843553Z"
    },
    "papermill": {
     "duration": 0.015566,
     "end_time": "2022-07-28T15:42:18.846821",
     "exception": false,
     "start_time": "2022-07-28T15:42:18.831255",
     "status": "completed"
    },
    "tags": []
   },
   "outputs": [],
   "source": [
    "# Uncomment to see a hint\n",
    "#q3.hint()\n",
    "\n",
    "# Uncomment to view the solution\n",
    "#q3.solution()"
   ]
  },
  {
   "cell_type": "markdown",
   "id": "03430e61",
   "metadata": {
    "papermill": {
     "duration": 0.00693,
     "end_time": "2022-07-28T15:42:18.861022",
     "exception": false,
     "start_time": "2022-07-28T15:42:18.854092",
     "status": "completed"
    },
    "tags": []
   },
   "source": [
    "# Question 4\n",
    "\n",
    "We'll continue our study of boolean arithmetic.  For this question, your task is to provide a description of what happpens when you add booleans. \n",
    "\n",
    "Use the next code cell for your investigation.  Feel free to add or remove any lines of code - use it as your workspace!"
   ]
  },
  {
   "cell_type": "code",
   "execution_count": 9,
   "id": "59fa6e35",
   "metadata": {
    "execution": {
     "iopub.execute_input": "2022-07-28T15:42:18.877904Z",
     "iopub.status.busy": "2022-07-28T15:42:18.877267Z",
     "iopub.status.idle": "2022-07-28T15:42:18.883121Z",
     "shell.execute_reply": "2022-07-28T15:42:18.882090Z"
    },
    "papermill": {
     "duration": 0.016918,
     "end_time": "2022-07-28T15:42:18.885400",
     "exception": false,
     "start_time": "2022-07-28T15:42:18.868482",
     "status": "completed"
    },
    "tags": []
   },
   "outputs": [
    {
     "name": "stdout",
     "output_type": "stream",
     "text": [
      "0\n",
      "1\n",
      "1\n",
      "2\n",
      "3\n"
     ]
    }
   ],
   "source": [
    "print(False + False)\n",
    "print(True + False)\n",
    "print(False + True)\n",
    "print(True + True)\n",
    "print(False + True + True + True)"
   ]
  },
  {
   "cell_type": "markdown",
   "id": "b3a079f4",
   "metadata": {
    "papermill": {
     "duration": 0.006963,
     "end_time": "2022-07-28T15:42:18.899676",
     "exception": false,
     "start_time": "2022-07-28T15:42:18.892713",
     "status": "completed"
    },
    "tags": []
   },
   "source": [
    "Once you have an answer, run the code cell below to see the solution.  Viewing the solution will give you credit for answering the problem."
   ]
  },
  {
   "cell_type": "code",
   "execution_count": 10,
   "id": "16201d3e",
   "metadata": {
    "execution": {
     "iopub.execute_input": "2022-07-28T15:42:18.916009Z",
     "iopub.status.busy": "2022-07-28T15:42:18.915372Z",
     "iopub.status.idle": "2022-07-28T15:42:18.923969Z",
     "shell.execute_reply": "2022-07-28T15:42:18.922912Z"
    },
    "papermill": {
     "duration": 0.019165,
     "end_time": "2022-07-28T15:42:18.926093",
     "exception": false,
     "start_time": "2022-07-28T15:42:18.906928",
     "status": "completed"
    },
    "tags": []
   },
   "outputs": [
    {
     "data": {
      "application/javascript": [
       "parent.postMessage({\"jupyterEvent\": \"custom.exercise_interaction\", \"data\": {\"outcomeType\": 1, \"valueTowardsCompletion\": 0.2, \"interactionType\": 1, \"questionType\": 4, \"questionId\": \"4_AddingBooleans\", \"learnToolsVersion\": \"0.3.4\", \"failureMessage\": \"\", \"exceptionClass\": \"\", \"trace\": \"\"}}, \"*\")"
      ],
      "text/plain": [
       "<IPython.core.display.Javascript object>"
      ]
     },
     "metadata": {},
     "output_type": "display_data"
    },
    {
     "data": {
      "text/markdown": [
       "<span style=\"color:#33cc33\">Correct:</span> \n",
       "\n",
       "When you add booleans, adding `False` is equivalent to adding 0, and adding `True` is equivalent to adding 1."
      ],
      "text/plain": [
       "Correct: \n",
       "\n",
       "When you add booleans, adding `False` is equivalent to adding 0, and adding `True` is equivalent to adding 1."
      ]
     },
     "metadata": {},
     "output_type": "display_data"
    }
   ],
   "source": [
    "# Check your answer (Run this code cell to receive credit!)\n",
    "q4.check()"
   ]
  },
  {
   "cell_type": "markdown",
   "id": "7f6d6182",
   "metadata": {
    "papermill": {
     "duration": 0.007564,
     "end_time": "2022-07-28T15:42:18.941363",
     "exception": false,
     "start_time": "2022-07-28T15:42:18.933799",
     "status": "completed"
    },
    "tags": []
   },
   "source": [
    "# 🌶️ Question 5\n",
    "\n",
    "You own an online shop where you sell rings with custom engravings.  You offer both gold plated and solid gold rings.\n",
    "- Gold plated rings have a base cost of \\\\$50, and you charge \\\\$7 per engraved unit.  \n",
    "- Solid gold rings have a base cost of \\\\$100, and you charge \\\\$10 per engraved unit.\n",
    "- Spaces and punctuation are counted as engraved units.\n",
    "\n",
    "Write a function `cost_of_project()` that takes two arguments:\n",
    "- `engraving` - a Python string with the text of the engraving\n",
    "- `solid_gold` - a Boolean that indicates whether the ring is solid gold\n",
    "\n",
    "It should return the cost of the project.  This question should be fairly challenging, and you may need a hint."
   ]
  },
  {
   "cell_type": "code",
   "execution_count": 11,
   "id": "3639dce8",
   "metadata": {
    "execution": {
     "iopub.execute_input": "2022-07-28T15:42:18.958282Z",
     "iopub.status.busy": "2022-07-28T15:42:18.957528Z",
     "iopub.status.idle": "2022-07-28T15:42:18.967895Z",
     "shell.execute_reply": "2022-07-28T15:42:18.966865Z"
    },
    "papermill": {
     "duration": 0.021086,
     "end_time": "2022-07-28T15:42:18.969914",
     "exception": false,
     "start_time": "2022-07-28T15:42:18.948828",
     "status": "completed"
    },
    "tags": []
   },
   "outputs": [
    {
     "data": {
      "application/javascript": [
       "parent.postMessage({\"jupyterEvent\": \"custom.exercise_interaction\", \"data\": {\"outcomeType\": 1, \"valueTowardsCompletion\": 0.2, \"interactionType\": 1, \"questionType\": 2, \"questionId\": \"5_CustomEngravings\", \"learnToolsVersion\": \"0.3.4\", \"failureMessage\": \"\", \"exceptionClass\": \"\", \"trace\": \"\"}}, \"*\")"
      ],
      "text/plain": [
       "<IPython.core.display.Javascript object>"
      ]
     },
     "metadata": {},
     "output_type": "display_data"
    },
    {
     "data": {
      "text/markdown": [
       "<span style=\"color:#33cc33\">Correct</span>"
      ],
      "text/plain": [
       "Correct"
      ]
     },
     "metadata": {},
     "output_type": "display_data"
    }
   ],
   "source": [
    "def cost_of_project(engraving, solid_gold):\n",
    "    if solid_gold:\n",
    "        cost = 100 + (len(engraving) * 10)\n",
    "    else:\n",
    "        cost = 50 + (len(engraving) * 7)\n",
    "    return cost\n",
    "\n",
    "# Check your answer\n",
    "q5.check()"
   ]
  },
  {
   "cell_type": "code",
   "execution_count": 12,
   "id": "8f5330db",
   "metadata": {
    "execution": {
     "iopub.execute_input": "2022-07-28T15:42:18.987189Z",
     "iopub.status.busy": "2022-07-28T15:42:18.986812Z",
     "iopub.status.idle": "2022-07-28T15:42:18.990994Z",
     "shell.execute_reply": "2022-07-28T15:42:18.989911Z"
    },
    "papermill": {
     "duration": 0.015541,
     "end_time": "2022-07-28T15:42:18.993157",
     "exception": false,
     "start_time": "2022-07-28T15:42:18.977616",
     "status": "completed"
    },
    "tags": []
   },
   "outputs": [],
   "source": [
    "# Uncomment to see a hint\n",
    "#q5.hint()\n",
    "\n",
    "# Uncomment to view the solution\n",
    "#q5.solution()"
   ]
  },
  {
   "cell_type": "markdown",
   "id": "a7c6d33d",
   "metadata": {
    "papermill": {
     "duration": 0.00744,
     "end_time": "2022-07-28T15:42:19.008547",
     "exception": false,
     "start_time": "2022-07-28T15:42:19.001107",
     "status": "completed"
    },
    "tags": []
   },
   "source": [
    "Run the next code cell to calculate the cost of engraving `Charlie+Denver` on a solid gold ring."
   ]
  },
  {
   "cell_type": "code",
   "execution_count": 13,
   "id": "e8c4e353",
   "metadata": {
    "execution": {
     "iopub.execute_input": "2022-07-28T15:42:19.026300Z",
     "iopub.status.busy": "2022-07-28T15:42:19.025263Z",
     "iopub.status.idle": "2022-07-28T15:42:19.031992Z",
     "shell.execute_reply": "2022-07-28T15:42:19.030730Z"
    },
    "papermill": {
     "duration": 0.018556,
     "end_time": "2022-07-28T15:42:19.034894",
     "exception": false,
     "start_time": "2022-07-28T15:42:19.016338",
     "status": "completed"
    },
    "tags": []
   },
   "outputs": [
    {
     "name": "stdout",
     "output_type": "stream",
     "text": [
      "240\n"
     ]
    }
   ],
   "source": [
    "project_one = cost_of_project(\"Charlie+Denver\", True)\n",
    "print(project_one)"
   ]
  },
  {
   "cell_type": "markdown",
   "id": "752d7081",
   "metadata": {
    "papermill": {
     "duration": 0.007504,
     "end_time": "2022-07-28T15:42:19.050667",
     "exception": false,
     "start_time": "2022-07-28T15:42:19.043163",
     "status": "completed"
    },
    "tags": []
   },
   "source": [
    "Use the next code cell to calculate the cost of engraving `08/10/2000` on a gold plated ring."
   ]
  },
  {
   "cell_type": "code",
   "execution_count": 14,
   "id": "d74f5ade",
   "metadata": {
    "execution": {
     "iopub.execute_input": "2022-07-28T15:42:19.068430Z",
     "iopub.status.busy": "2022-07-28T15:42:19.067994Z",
     "iopub.status.idle": "2022-07-28T15:42:19.073719Z",
     "shell.execute_reply": "2022-07-28T15:42:19.072231Z"
    },
    "papermill": {
     "duration": 0.018085,
     "end_time": "2022-07-28T15:42:19.076496",
     "exception": false,
     "start_time": "2022-07-28T15:42:19.058411",
     "status": "completed"
    },
    "tags": []
   },
   "outputs": [
    {
     "name": "stdout",
     "output_type": "stream",
     "text": [
      "120\n"
     ]
    }
   ],
   "source": [
    "project_two = cost_of_project(\"08/10/2000\", False)\n",
    "print(project_two)"
   ]
  },
  {
   "cell_type": "markdown",
   "id": "e04861bc",
   "metadata": {
    "papermill": {
     "duration": 0.007768,
     "end_time": "2022-07-28T15:42:19.093250",
     "exception": false,
     "start_time": "2022-07-28T15:42:19.085482",
     "status": "completed"
    },
    "tags": []
   },
   "source": [
    "# Keep going\n",
    "\n",
    "Continue to the next lesson to **[learn about conditions and conditional statements](https://www.kaggle.com/alexisbcook/conditions-and-conditional-statements)**."
   ]
  },
  {
   "cell_type": "markdown",
   "id": "20b8a693",
   "metadata": {
    "papermill": {
     "duration": 0.007661,
     "end_time": "2022-07-28T15:42:19.109062",
     "exception": false,
     "start_time": "2022-07-28T15:42:19.101401",
     "status": "completed"
    },
    "tags": []
   },
   "source": [
    "---\n",
    "\n",
    "\n",
    "\n",
    "\n",
    "*Have questions or comments? Visit the [course discussion forum](https://www.kaggle.com/learn/intro-to-programming/discussion) to chat with other learners.*"
   ]
  }
 ],
 "metadata": {
  "kernelspec": {
   "display_name": "Python 3",
   "language": "python",
   "name": "python3"
  },
  "language_info": {
   "codemirror_mode": {
    "name": "ipython",
    "version": 3
   },
   "file_extension": ".py",
   "mimetype": "text/x-python",
   "name": "python",
   "nbconvert_exporter": "python",
   "pygments_lexer": "ipython3",
   "version": "3.7.12"
  },
  "papermill": {
   "default_parameters": {},
   "duration": 10.450495,
   "end_time": "2022-07-28T15:42:19.740823",
   "environment_variables": {},
   "exception": null,
   "input_path": "__notebook__.ipynb",
   "output_path": "__notebook__.ipynb",
   "parameters": {},
   "start_time": "2022-07-28T15:42:09.290328",
   "version": "2.3.4"
  }
 },
 "nbformat": 4,
 "nbformat_minor": 5
}
