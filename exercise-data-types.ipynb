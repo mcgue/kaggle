{
 "cells": [
  {
   "cell_type": "markdown",
   "id": "0efb1dbc",
   "metadata": {
    "papermill": {
     "duration": 0.008234,
     "end_time": "2022-07-27T18:00:33.237247",
     "exception": false,
     "start_time": "2022-07-27T18:00:33.229013",
     "status": "completed"
    },
    "tags": []
   },
   "source": [
    "**This notebook is an exercise in the [Intro to Programming](https://www.kaggle.com/learn/intro-to-programming) course.  You can reference the tutorial at [this link](https://www.kaggle.com/alexisbcook/data-types).**\n",
    "\n",
    "---\n"
   ]
  },
  {
   "cell_type": "markdown",
   "id": "591ebdd2",
   "metadata": {
    "papermill": {
     "duration": 0.006937,
     "end_time": "2022-07-27T18:00:33.251521",
     "exception": false,
     "start_time": "2022-07-27T18:00:33.244584",
     "status": "completed"
    },
    "tags": []
   },
   "source": [
    "In the tutorial, you learned about four different data types: floats, integers, strings, and booleans.  In this exercise, you'll experiment with them.\n",
    "\n",
    "# Set up the notebook\n",
    "\n",
    "Run the next code cell without changes to set up the notebook."
   ]
  },
  {
   "cell_type": "code",
   "execution_count": 1,
   "id": "234f1eca",
   "metadata": {
    "execution": {
     "iopub.execute_input": "2022-07-27T18:00:33.268345Z",
     "iopub.status.busy": "2022-07-27T18:00:33.267741Z",
     "iopub.status.idle": "2022-07-27T18:00:33.332570Z",
     "shell.execute_reply": "2022-07-27T18:00:33.331412Z"
    },
    "papermill": {
     "duration": 0.076719,
     "end_time": "2022-07-27T18:00:33.335618",
     "exception": false,
     "start_time": "2022-07-27T18:00:33.258899",
     "status": "completed"
    },
    "tags": []
   },
   "outputs": [
    {
     "name": "stdout",
     "output_type": "stream",
     "text": [
      "Setup complete.\n"
     ]
    }
   ],
   "source": [
    "# Set up the exercise\n",
    "from learntools.core import binder\n",
    "binder.bind(globals())\n",
    "from learntools.intro_to_programming.ex3 import *\n",
    "print('Setup complete.')"
   ]
  },
  {
   "cell_type": "markdown",
   "id": "a69fcd50",
   "metadata": {
    "papermill": {
     "duration": 0.006807,
     "end_time": "2022-07-27T18:00:33.349784",
     "exception": false,
     "start_time": "2022-07-27T18:00:33.342977",
     "status": "completed"
    },
    "tags": []
   },
   "source": [
    "# Question 1\n",
    "\n",
    "You have seen how to convert a float to an integer with the `int` function.  Try this out yourself by running the code cell below."
   ]
  },
  {
   "cell_type": "code",
   "execution_count": 2,
   "id": "11a90cee",
   "metadata": {
    "execution": {
     "iopub.execute_input": "2022-07-27T18:00:33.366284Z",
     "iopub.status.busy": "2022-07-27T18:00:33.365893Z",
     "iopub.status.idle": "2022-07-27T18:00:33.372167Z",
     "shell.execute_reply": "2022-07-27T18:00:33.371048Z"
    },
    "papermill": {
     "duration": 0.01799,
     "end_time": "2022-07-27T18:00:33.374958",
     "exception": false,
     "start_time": "2022-07-27T18:00:33.356968",
     "status": "completed"
    },
    "tags": []
   },
   "outputs": [
    {
     "name": "stdout",
     "output_type": "stream",
     "text": [
      "1.0\n",
      "<class 'float'>\n",
      "1\n",
      "<class 'int'>\n"
     ]
    }
   ],
   "source": [
    "# Define a float\n",
    "y = 1.\n",
    "print(y)\n",
    "print(type(y))\n",
    "\n",
    "# Convert float to integer with the int function\n",
    "z = int(y)\n",
    "print(z)\n",
    "print(type(z))"
   ]
  },
  {
   "cell_type": "markdown",
   "id": "0b0063d8",
   "metadata": {
    "papermill": {
     "duration": 0.006989,
     "end_time": "2022-07-27T18:00:33.389606",
     "exception": false,
     "start_time": "2022-07-27T18:00:33.382617",
     "status": "completed"
    },
    "tags": []
   },
   "source": [
    "In this case, the float you are using has no numbers after the decimal.  \n",
    "- But what happens when you try to convert a float with a fractional part to an integer?  \n",
    "- How does the outcome of the `int` function change for positive and negative numbers?\n",
    "\n",
    "Use the next code cell to investigate and answer these questions.  Feel free to add or remove any lines of code -- it is your workspace!"
   ]
  },
  {
   "cell_type": "code",
   "execution_count": 3,
   "id": "8024a412",
   "metadata": {
    "execution": {
     "iopub.execute_input": "2022-07-27T18:00:33.406243Z",
     "iopub.status.busy": "2022-07-27T18:00:33.405767Z",
     "iopub.status.idle": "2022-07-27T18:00:33.412220Z",
     "shell.execute_reply": "2022-07-27T18:00:33.410772Z"
    },
    "papermill": {
     "duration": 0.017445,
     "end_time": "2022-07-27T18:00:33.414410",
     "exception": false,
     "start_time": "2022-07-27T18:00:33.396965",
     "status": "completed"
    },
    "tags": []
   },
   "outputs": [
    {
     "name": "stdout",
     "output_type": "stream",
     "text": [
      "1\n",
      "1\n",
      "-3\n",
      "-2\n"
     ]
    }
   ],
   "source": [
    "# Uncomment and run this code to get started!\n",
    "print(int(1.2321))\n",
    "print(int(1.747))\n",
    "print(int(-3.94535))\n",
    "print(int(-2.19774))"
   ]
  },
  {
   "cell_type": "markdown",
   "id": "0200e7ce",
   "metadata": {
    "papermill": {
     "duration": 0.007041,
     "end_time": "2022-07-27T18:00:33.428781",
     "exception": false,
     "start_time": "2022-07-27T18:00:33.421740",
     "status": "completed"
    },
    "tags": []
   },
   "source": [
    "Once you have an answer, run the code cell below to see the solution.  Viewing the solution will give you credit for answering the problem."
   ]
  },
  {
   "cell_type": "code",
   "execution_count": 4,
   "id": "2f87e4e8",
   "metadata": {
    "execution": {
     "iopub.execute_input": "2022-07-27T18:00:33.445060Z",
     "iopub.status.busy": "2022-07-27T18:00:33.444641Z",
     "iopub.status.idle": "2022-07-27T18:00:33.455384Z",
     "shell.execute_reply": "2022-07-27T18:00:33.454459Z"
    },
    "papermill": {
     "duration": 0.021274,
     "end_time": "2022-07-27T18:00:33.457414",
     "exception": false,
     "start_time": "2022-07-27T18:00:33.436140",
     "status": "completed"
    },
    "tags": []
   },
   "outputs": [
    {
     "data": {
      "application/javascript": [
       "parent.postMessage({\"jupyterEvent\": \"custom.exercise_interaction\", \"data\": {\"outcomeType\": 1, \"valueTowardsCompletion\": 0.2, \"interactionType\": 1, \"questionType\": 4, \"questionId\": \"1_FloatToInt\", \"learnToolsVersion\": \"0.3.4\", \"failureMessage\": \"\", \"exceptionClass\": \"\", \"trace\": \"\"}}, \"*\")"
      ],
      "text/plain": [
       "<IPython.core.display.Javascript object>"
      ]
     },
     "metadata": {},
     "output_type": "display_data"
    },
    {
     "data": {
      "text/markdown": [
       "<span style=\"color:#33cc33\">Correct:</span> \n",
       "\n",
       "Negative floats are always rounded UP to the closest integer (for instance, both -1.1 and -1.9 are rounded up to -1). Positive floats are always rounded DOWN to the closest integer (for instance, 2.1 and 2.9 are rounded down to 2)."
      ],
      "text/plain": [
       "Correct: \n",
       "\n",
       "Negative floats are always rounded UP to the closest integer (for instance, both -1.1 and -1.9 are rounded up to -1). Positive floats are always rounded DOWN to the closest integer (for instance, 2.1 and 2.9 are rounded down to 2)."
      ]
     },
     "metadata": {},
     "output_type": "display_data"
    }
   ],
   "source": [
    "# Check your answer (Run this code cell to receive credit!)\n",
    "q1.check()"
   ]
  },
  {
   "cell_type": "markdown",
   "id": "5fd32bd5",
   "metadata": {
    "papermill": {
     "duration": 0.007415,
     "end_time": "2022-07-27T18:00:33.472679",
     "exception": false,
     "start_time": "2022-07-27T18:00:33.465264",
     "status": "completed"
    },
    "tags": []
   },
   "source": [
    "# Question 2\n",
    "\n",
    "In the tutorial, you learned about booleans (which can take a value of `True` or `False`), in addition to integers, floats, and strings.  For this question, your goal is to determine what happens when you multiply a boolean by any of these data types.  Specifically, \n",
    "- What happens when you multiply an integer or float by `True`?  What happens when you multiply them by `False`?  How does the answer change if the numbers are positive or negative?\n",
    "- What happens when you multiply a string by `True`?  By `False`?\n",
    "\n",
    "Use the next code cell for your investigation. "
   ]
  },
  {
   "cell_type": "code",
   "execution_count": 5,
   "id": "f908c46b",
   "metadata": {
    "execution": {
     "iopub.execute_input": "2022-07-27T18:00:33.489454Z",
     "iopub.status.busy": "2022-07-27T18:00:33.489023Z",
     "iopub.status.idle": "2022-07-27T18:00:33.494809Z",
     "shell.execute_reply": "2022-07-27T18:00:33.494025Z"
    },
    "papermill": {
     "duration": 0.016886,
     "end_time": "2022-07-27T18:00:33.497208",
     "exception": false,
     "start_time": "2022-07-27T18:00:33.480322",
     "status": "completed"
    },
    "tags": []
   },
   "outputs": [
    {
     "name": "stdout",
     "output_type": "stream",
     "text": [
      "3\n",
      "-3.1\n",
      "<class 'str'>\n",
      "0\n"
     ]
    }
   ],
   "source": [
    "# Uncomment and run this code to get started!\n",
    "print(3 * True)\n",
    "print(-3.1 * True)\n",
    "print(type(\"abc\" * False))\n",
    "print(len(\"abc\" * False))"
   ]
  },
  {
   "cell_type": "markdown",
   "id": "b83e77c7",
   "metadata": {
    "papermill": {
     "duration": 0.007458,
     "end_time": "2022-07-27T18:00:33.512414",
     "exception": false,
     "start_time": "2022-07-27T18:00:33.504956",
     "status": "completed"
    },
    "tags": []
   },
   "source": [
    "Once you have an answer, run the code cell below to see the solution.  Viewing the solution will give you credit for answering the problem."
   ]
  },
  {
   "cell_type": "code",
   "execution_count": 6,
   "id": "575c0fe9",
   "metadata": {
    "execution": {
     "iopub.execute_input": "2022-07-27T18:00:33.530085Z",
     "iopub.status.busy": "2022-07-27T18:00:33.528982Z",
     "iopub.status.idle": "2022-07-27T18:00:33.537906Z",
     "shell.execute_reply": "2022-07-27T18:00:33.536478Z"
    },
    "papermill": {
     "duration": 0.019897,
     "end_time": "2022-07-27T18:00:33.540060",
     "exception": false,
     "start_time": "2022-07-27T18:00:33.520163",
     "status": "completed"
    },
    "tags": []
   },
   "outputs": [
    {
     "data": {
      "application/javascript": [
       "parent.postMessage({\"jupyterEvent\": \"custom.exercise_interaction\", \"data\": {\"outcomeType\": 1, \"valueTowardsCompletion\": 0.2, \"interactionType\": 1, \"questionType\": 4, \"questionId\": \"2_MultiplyBooleans\", \"learnToolsVersion\": \"0.3.4\", \"failureMessage\": \"\", \"exceptionClass\": \"\", \"trace\": \"\"}}, \"*\")"
      ],
      "text/plain": [
       "<IPython.core.display.Javascript object>"
      ]
     },
     "metadata": {},
     "output_type": "display_data"
    },
    {
     "data": {
      "text/markdown": [
       "<span style=\"color:#33cc33\">Correct:</span> \n",
       "\n",
       "When you multiple an integer or float by a boolean with value `True`, it just returns that same integer or float (and is equivalent to multiplying by 1).  If you multiply an integer or float by a boolean with value `False`, it always returns 0.  This is true for both positive and negative numbers.  If you multiply a string by a boolean with value `True`, it just returns that same string.  And if you multiply a string by a boolean with value `False`, it returns an empty string (or a string with length zero)."
      ],
      "text/plain": [
       "Correct: \n",
       "\n",
       "When you multiple an integer or float by a boolean with value `True`, it just returns that same integer or float (and is equivalent to multiplying by 1).  If you multiply an integer or float by a boolean with value `False`, it always returns 0.  This is true for both positive and negative numbers.  If you multiply a string by a boolean with value `True`, it just returns that same string.  And if you multiply a string by a boolean with value `False`, it returns an empty string (or a string with length zero)."
      ]
     },
     "metadata": {},
     "output_type": "display_data"
    }
   ],
   "source": [
    "# Check your answer (Run this code cell to receive credit!)\n",
    "q2.check()"
   ]
  },
  {
   "cell_type": "markdown",
   "id": "7ebcdd20",
   "metadata": {
    "papermill": {
     "duration": 0.007784,
     "end_time": "2022-07-27T18:00:33.556489",
     "exception": false,
     "start_time": "2022-07-27T18:00:33.548705",
     "status": "completed"
    },
    "tags": []
   },
   "source": [
    "# Question 3\n",
    "\n",
    "In this question, you will build off your work from the previous exercise to write a function that estimates the value of a house.\n",
    "\n",
    "Use the next code cell to create a function `get_expected_cost` that takes as input three variables:\n",
    "- `beds` - number of bedrooms (data type float)\n",
    "- `baths` - number of bathrooms (data type float)\n",
    "- `has_basement` - whether or not the house has a basement (data type boolean)\n",
    "\n",
    "It should return the expected cost of a house with those characteristics. Assume that:\n",
    "- the expected cost for a house with 0 bedrooms and 0 bathrooms, and no basement is 80000, \n",
    "- each bedroom adds 30000 to the expected cost,\n",
    "- each bathroom adds 10000 to the expected cost, and\n",
    "- a basement adds 40000 to the expected cost.\n",
    "\n",
    "For instance,\n",
    "- a house with 1 bedroom, 1 bathroom, and no basement has an expected cost of 80000 + 30000 + 10000 = 120000.  This value will be calculated with `get_expected_cost(1, 1, False)`.\n",
    "- a house with 2 bedrooms, 1 bathroom, and a basement has an expected cost of 80000 + 2*30000 + 10000 + 40000 = 190000.  This value will be calculated with `get_expected_cost(2, 1, True)`.\n",
    "\n",
    "Remember you can always get a hint by uncommenting `q3.hint()` in the code cell following the next!"
   ]
  },
  {
   "cell_type": "code",
   "execution_count": 7,
   "id": "44255de7",
   "metadata": {
    "execution": {
     "iopub.execute_input": "2022-07-27T18:00:33.574128Z",
     "iopub.status.busy": "2022-07-27T18:00:33.573686Z",
     "iopub.status.idle": "2022-07-27T18:00:33.582965Z",
     "shell.execute_reply": "2022-07-27T18:00:33.581725Z"
    },
    "papermill": {
     "duration": 0.020923,
     "end_time": "2022-07-27T18:00:33.585296",
     "exception": false,
     "start_time": "2022-07-27T18:00:33.564373",
     "status": "completed"
    },
    "tags": []
   },
   "outputs": [
    {
     "data": {
      "application/javascript": [
       "parent.postMessage({\"jupyterEvent\": \"custom.exercise_interaction\", \"data\": {\"outcomeType\": 2, \"failureMessage\": \"Expected return value of `120000` given `beds=1`, `baths=1`, `has_basement=False`, but got `<learntools.core.constants.PlaceholderValue object at 0x7ff0c7bfb590>` instead.\", \"interactionType\": 1, \"questionType\": 2, \"questionId\": \"3_EstimateHouseValueBool\", \"learnToolsVersion\": \"0.3.4\", \"valueTowardsCompletion\": 0.0, \"exceptionClass\": \"\", \"trace\": \"\"}}, \"*\")"
      ],
      "text/plain": [
       "<IPython.core.display.Javascript object>"
      ]
     },
     "metadata": {},
     "output_type": "display_data"
    },
    {
     "data": {
      "text/markdown": [
       "<span style=\"color:#cc3333\">Incorrect:</span> Expected return value of `120000` given `beds=1`, `baths=1`, `has_basement=False`, but got `<learntools.core.constants.PlaceholderValue object at 0x7ff0c7bfb590>` instead."
      ],
      "text/plain": [
       "Incorrect: Expected return value of `120000` given `beds=1`, `baths=1`, `has_basement=False`, but got `<learntools.core.constants.PlaceholderValue object at 0x7ff0c7bfb590>` instead."
      ]
     },
     "metadata": {},
     "output_type": "display_data"
    }
   ],
   "source": [
    "# TODO: Complete the function\n",
    "def get_expected_cost(beds, baths, has_basement):\n",
    "    value = ____\n",
    "    return value\n",
    "\n",
    "# Check your answer \n",
    "q3.check()"
   ]
  },
  {
   "cell_type": "code",
   "execution_count": 8,
   "id": "621e1267",
   "metadata": {
    "execution": {
     "iopub.execute_input": "2022-07-27T18:00:33.603717Z",
     "iopub.status.busy": "2022-07-27T18:00:33.603317Z",
     "iopub.status.idle": "2022-07-27T18:00:33.607923Z",
     "shell.execute_reply": "2022-07-27T18:00:33.606794Z"
    },
    "papermill": {
     "duration": 0.016547,
     "end_time": "2022-07-27T18:00:33.610112",
     "exception": false,
     "start_time": "2022-07-27T18:00:33.593565",
     "status": "completed"
    },
    "tags": []
   },
   "outputs": [],
   "source": [
    "# Uncomment to see a hint\n",
    "#q3.hint()\n",
    "\n",
    "# Uncomment to view the solution\n",
    "#q3.solution()"
   ]
  },
  {
   "cell_type": "markdown",
   "id": "bdec0185",
   "metadata": {
    "papermill": {
     "duration": 0.007788,
     "end_time": "2022-07-27T18:00:33.626047",
     "exception": false,
     "start_time": "2022-07-27T18:00:33.618259",
     "status": "completed"
    },
    "tags": []
   },
   "source": [
    "# Question 4\n",
    "\n",
    "We'll continue our study of boolean arithmetic.  For this question, your task is to provide a description of what happpens when you add booleans. \n",
    "\n",
    "Use the next code cell for your investigation.  Feel free to add or remove any lines of code - use it as your workspace!"
   ]
  },
  {
   "cell_type": "code",
   "execution_count": 9,
   "id": "e2edd670",
   "metadata": {
    "execution": {
     "iopub.execute_input": "2022-07-27T18:00:33.644486Z",
     "iopub.status.busy": "2022-07-27T18:00:33.643660Z",
     "iopub.status.idle": "2022-07-27T18:00:33.650219Z",
     "shell.execute_reply": "2022-07-27T18:00:33.649101Z"
    },
    "papermill": {
     "duration": 0.019529,
     "end_time": "2022-07-27T18:00:33.653791",
     "exception": false,
     "start_time": "2022-07-27T18:00:33.634262",
     "status": "completed"
    },
    "tags": []
   },
   "outputs": [
    {
     "name": "stdout",
     "output_type": "stream",
     "text": [
      "0\n",
      "1\n",
      "1\n",
      "2\n",
      "3\n"
     ]
    }
   ],
   "source": [
    "print(False + False)\n",
    "print(True + False)\n",
    "print(False + True)\n",
    "print(True + True)\n",
    "print(False + True + True + True)"
   ]
  },
  {
   "cell_type": "markdown",
   "id": "2df8b70b",
   "metadata": {
    "papermill": {
     "duration": 0.007976,
     "end_time": "2022-07-27T18:00:33.670453",
     "exception": false,
     "start_time": "2022-07-27T18:00:33.662477",
     "status": "completed"
    },
    "tags": []
   },
   "source": [
    "Once you have an answer, run the code cell below to see the solution.  Viewing the solution will give you credit for answering the problem."
   ]
  },
  {
   "cell_type": "code",
   "execution_count": 10,
   "id": "4dc66b89",
   "metadata": {
    "execution": {
     "iopub.execute_input": "2022-07-27T18:00:33.689982Z",
     "iopub.status.busy": "2022-07-27T18:00:33.689591Z",
     "iopub.status.idle": "2022-07-27T18:00:33.696896Z",
     "shell.execute_reply": "2022-07-27T18:00:33.696132Z"
    },
    "papermill": {
     "duration": 0.019127,
     "end_time": "2022-07-27T18:00:33.698886",
     "exception": false,
     "start_time": "2022-07-27T18:00:33.679759",
     "status": "completed"
    },
    "tags": []
   },
   "outputs": [
    {
     "data": {
      "application/javascript": [
       "parent.postMessage({\"jupyterEvent\": \"custom.exercise_interaction\", \"data\": {\"outcomeType\": 1, \"valueTowardsCompletion\": 0.2, \"interactionType\": 1, \"questionType\": 4, \"questionId\": \"4_AddingBooleans\", \"learnToolsVersion\": \"0.3.4\", \"failureMessage\": \"\", \"exceptionClass\": \"\", \"trace\": \"\"}}, \"*\")"
      ],
      "text/plain": [
       "<IPython.core.display.Javascript object>"
      ]
     },
     "metadata": {},
     "output_type": "display_data"
    },
    {
     "data": {
      "text/markdown": [
       "<span style=\"color:#33cc33\">Correct:</span> \n",
       "\n",
       "When you add booleans, adding `False` is equivalent to adding 0, and adding `True` is equivalent to adding 1."
      ],
      "text/plain": [
       "Correct: \n",
       "\n",
       "When you add booleans, adding `False` is equivalent to adding 0, and adding `True` is equivalent to adding 1."
      ]
     },
     "metadata": {},
     "output_type": "display_data"
    }
   ],
   "source": [
    "# Check your answer (Run this code cell to receive credit!)\n",
    "q4.check()"
   ]
  },
  {
   "cell_type": "markdown",
   "id": "4984391d",
   "metadata": {
    "papermill": {
     "duration": 0.00889,
     "end_time": "2022-07-27T18:00:33.716398",
     "exception": false,
     "start_time": "2022-07-27T18:00:33.707508",
     "status": "completed"
    },
    "tags": []
   },
   "source": [
    "# 🌶️ Question 5\n",
    "\n",
    "You own an online shop where you sell rings with custom engravings.  You offer both gold plated and solid gold rings.\n",
    "- Gold plated rings have a base cost of \\\\$50, and you charge \\\\$7 per engraved unit.  \n",
    "- Solid gold rings have a base cost of \\\\$100, and you charge \\\\$10 per engraved unit.\n",
    "- Spaces and punctuation are counted as engraved units.\n",
    "\n",
    "Write a function `cost_of_project()` that takes two arguments:\n",
    "- `engraving` - a Python string with the text of the engraving\n",
    "- `solid_gold` - a Boolean that indicates whether the ring is solid gold\n",
    "\n",
    "It should return the cost of the project.  This question should be fairly challenging, and you may need a hint."
   ]
  },
  {
   "cell_type": "code",
   "execution_count": 11,
   "id": "0d370db6",
   "metadata": {
    "execution": {
     "iopub.execute_input": "2022-07-27T18:00:33.736672Z",
     "iopub.status.busy": "2022-07-27T18:00:33.735940Z",
     "iopub.status.idle": "2022-07-27T18:00:33.743990Z",
     "shell.execute_reply": "2022-07-27T18:00:33.743100Z"
    },
    "papermill": {
     "duration": 0.0207,
     "end_time": "2022-07-27T18:00:33.746029",
     "exception": false,
     "start_time": "2022-07-27T18:00:33.725329",
     "status": "completed"
    },
    "tags": []
   },
   "outputs": [
    {
     "data": {
      "application/javascript": [
       "parent.postMessage({\"jupyterEvent\": \"custom.exercise_interaction\", \"data\": {\"outcomeType\": 2, \"failureMessage\": \"Expected return value of `240` given `engraving='Charlie+Denver'`, `solid_gold=True`, but got `<learntools.core.constants.PlaceholderValue object at 0x7ff0c7bfb590>` instead.\", \"interactionType\": 1, \"questionType\": 2, \"questionId\": \"5_CustomEngravings\", \"learnToolsVersion\": \"0.3.4\", \"valueTowardsCompletion\": 0.0, \"exceptionClass\": \"\", \"trace\": \"\"}}, \"*\")"
      ],
      "text/plain": [
       "<IPython.core.display.Javascript object>"
      ]
     },
     "metadata": {},
     "output_type": "display_data"
    },
    {
     "data": {
      "text/markdown": [
       "<span style=\"color:#cc3333\">Incorrect:</span> Expected return value of `240` given `engraving='Charlie+Denver'`, `solid_gold=True`, but got `<learntools.core.constants.PlaceholderValue object at 0x7ff0c7bfb590>` instead."
      ],
      "text/plain": [
       "Incorrect: Expected return value of `240` given `engraving='Charlie+Denver'`, `solid_gold=True`, but got `<learntools.core.constants.PlaceholderValue object at 0x7ff0c7bfb590>` instead."
      ]
     },
     "metadata": {},
     "output_type": "display_data"
    }
   ],
   "source": [
    "def cost_of_project(engraving, solid_gold):\n",
    "    cost = ____\n",
    "    return cost\n",
    "\n",
    "# Check your answer\n",
    "q5.check()"
   ]
  },
  {
   "cell_type": "code",
   "execution_count": 12,
   "id": "c761b0d6",
   "metadata": {
    "execution": {
     "iopub.execute_input": "2022-07-27T18:00:33.765869Z",
     "iopub.status.busy": "2022-07-27T18:00:33.765173Z",
     "iopub.status.idle": "2022-07-27T18:00:33.769399Z",
     "shell.execute_reply": "2022-07-27T18:00:33.768331Z"
    },
    "papermill": {
     "duration": 0.016799,
     "end_time": "2022-07-27T18:00:33.771789",
     "exception": false,
     "start_time": "2022-07-27T18:00:33.754990",
     "status": "completed"
    },
    "tags": []
   },
   "outputs": [],
   "source": [
    "# Uncomment to see a hint\n",
    "#q5.hint()\n",
    "\n",
    "# Uncomment to view the solution\n",
    "#q5.solution()"
   ]
  },
  {
   "cell_type": "markdown",
   "id": "685ae95e",
   "metadata": {
    "papermill": {
     "duration": 0.008948,
     "end_time": "2022-07-27T18:00:33.790200",
     "exception": false,
     "start_time": "2022-07-27T18:00:33.781252",
     "status": "completed"
    },
    "tags": []
   },
   "source": [
    "Run the next code cell to calculate the cost of engraving `Charlie+Denver` on a solid gold ring."
   ]
  },
  {
   "cell_type": "code",
   "execution_count": 13,
   "id": "e8114ea3",
   "metadata": {
    "execution": {
     "iopub.execute_input": "2022-07-27T18:00:33.809580Z",
     "iopub.status.busy": "2022-07-27T18:00:33.809196Z",
     "iopub.status.idle": "2022-07-27T18:00:33.814198Z",
     "shell.execute_reply": "2022-07-27T18:00:33.813332Z"
    },
    "papermill": {
     "duration": 0.017851,
     "end_time": "2022-07-27T18:00:33.817022",
     "exception": false,
     "start_time": "2022-07-27T18:00:33.799171",
     "status": "completed"
    },
    "tags": []
   },
   "outputs": [
    {
     "name": "stdout",
     "output_type": "stream",
     "text": [
      "<learntools.core.constants.PlaceholderValue object at 0x7ff0c7bfb590>\n"
     ]
    }
   ],
   "source": [
    "project_one = cost_of_project(\"Charlie+Denver\", True)\n",
    "print(project_one)"
   ]
  },
  {
   "cell_type": "markdown",
   "id": "f43ae1e7",
   "metadata": {
    "papermill": {
     "duration": 0.008604,
     "end_time": "2022-07-27T18:00:33.834791",
     "exception": false,
     "start_time": "2022-07-27T18:00:33.826187",
     "status": "completed"
    },
    "tags": []
   },
   "source": [
    "Use the next code cell to calculate the cost of engraving `08/10/2000` on a gold plated ring."
   ]
  },
  {
   "cell_type": "code",
   "execution_count": 14,
   "id": "bdea3388",
   "metadata": {
    "execution": {
     "iopub.execute_input": "2022-07-27T18:00:33.854861Z",
     "iopub.status.busy": "2022-07-27T18:00:33.854117Z",
     "iopub.status.idle": "2022-07-27T18:00:33.860206Z",
     "shell.execute_reply": "2022-07-27T18:00:33.858356Z"
    },
    "papermill": {
     "duration": 0.01937,
     "end_time": "2022-07-27T18:00:33.863006",
     "exception": false,
     "start_time": "2022-07-27T18:00:33.843636",
     "status": "completed"
    },
    "tags": []
   },
   "outputs": [
    {
     "name": "stdout",
     "output_type": "stream",
     "text": [
      "<learntools.core.constants.PlaceholderValue object at 0x7ff0c7bfb590>\n"
     ]
    }
   ],
   "source": [
    "project_two = cost_of_project(\"08/10/2000\", False)\n",
    "print(project_two)"
   ]
  },
  {
   "cell_type": "markdown",
   "id": "66ede4a6",
   "metadata": {
    "papermill": {
     "duration": 0.008678,
     "end_time": "2022-07-27T18:00:33.880854",
     "exception": false,
     "start_time": "2022-07-27T18:00:33.872176",
     "status": "completed"
    },
    "tags": []
   },
   "source": [
    "# Keep going\n",
    "\n",
    "Continue to the next lesson to **[learn about conditions and conditional statements](https://www.kaggle.com/alexisbcook/conditions-and-conditional-statements)**."
   ]
  },
  {
   "cell_type": "markdown",
   "id": "472150b8",
   "metadata": {
    "papermill": {
     "duration": 0.008627,
     "end_time": "2022-07-27T18:00:33.898461",
     "exception": false,
     "start_time": "2022-07-27T18:00:33.889834",
     "status": "completed"
    },
    "tags": []
   },
   "source": [
    "---\n",
    "\n",
    "\n",
    "\n",
    "\n",
    "*Have questions or comments? Visit the [course discussion forum](https://www.kaggle.com/learn/intro-to-programming/discussion) to chat with other learners.*"
   ]
  }
 ],
 "metadata": {
  "kernelspec": {
   "display_name": "Python 3",
   "language": "python",
   "name": "python3"
  },
  "language_info": {
   "codemirror_mode": {
    "name": "ipython",
    "version": 3
   },
   "file_extension": ".py",
   "mimetype": "text/x-python",
   "name": "python",
   "nbconvert_exporter": "python",
   "pygments_lexer": "ipython3",
   "version": "3.7.12"
  },
  "papermill": {
   "default_parameters": {},
   "duration": 12.439737,
   "end_time": "2022-07-27T18:00:34.529917",
   "environment_variables": {},
   "exception": null,
   "input_path": "__notebook__.ipynb",
   "output_path": "__notebook__.ipynb",
   "parameters": {},
   "start_time": "2022-07-27T18:00:22.090180",
   "version": "2.3.4"
  }
 },
 "nbformat": 4,
 "nbformat_minor": 5
}
