{
 "cells": [
  {
   "cell_type": "markdown",
   "id": "cb6260a3",
   "metadata": {
    "papermill": {
     "duration": 0.008471,
     "end_time": "2022-07-25T19:09:00.964106",
     "exception": false,
     "start_time": "2022-07-25T19:09:00.955635",
     "status": "completed"
    },
    "tags": []
   },
   "source": [
    "**This notebook is an exercise in the [Intro to Programming](https://www.kaggle.com/learn/intro-to-programming) course.  You can reference the tutorial at [this link](https://www.kaggle.com/alexisbcook/data-types).**\n",
    "\n",
    "---\n"
   ]
  },
  {
   "cell_type": "markdown",
   "id": "7ec982aa",
   "metadata": {
    "papermill": {
     "duration": 0.006987,
     "end_time": "2022-07-25T19:09:00.978587",
     "exception": false,
     "start_time": "2022-07-25T19:09:00.971600",
     "status": "completed"
    },
    "tags": []
   },
   "source": [
    "In the tutorial, you learned about four different data types: floats, integers, strings, and booleans.  In this exercise, you'll experiment with them.\n",
    "\n",
    "# Set up the notebook\n",
    "\n",
    "Run the next code cell without changes to set up the notebook."
   ]
  },
  {
   "cell_type": "code",
   "execution_count": 1,
   "id": "45d55e6e",
   "metadata": {
    "execution": {
     "iopub.execute_input": "2022-07-25T19:09:00.995469Z",
     "iopub.status.busy": "2022-07-25T19:09:00.994982Z",
     "iopub.status.idle": "2022-07-25T19:09:01.052659Z",
     "shell.execute_reply": "2022-07-25T19:09:01.051722Z"
    },
    "papermill": {
     "duration": 0.070624,
     "end_time": "2022-07-25T19:09:01.056477",
     "exception": false,
     "start_time": "2022-07-25T19:09:00.985853",
     "status": "completed"
    },
    "tags": []
   },
   "outputs": [
    {
     "name": "stdout",
     "output_type": "stream",
     "text": [
      "Setup complete.\n"
     ]
    }
   ],
   "source": [
    "# Set up the exercise\n",
    "from learntools.core import binder\n",
    "binder.bind(globals())\n",
    "from learntools.intro_to_programming.ex3 import *\n",
    "print('Setup complete.')"
   ]
  },
  {
   "cell_type": "markdown",
   "id": "ad678622",
   "metadata": {
    "papermill": {
     "duration": 0.007856,
     "end_time": "2022-07-25T19:09:01.073510",
     "exception": false,
     "start_time": "2022-07-25T19:09:01.065654",
     "status": "completed"
    },
    "tags": []
   },
   "source": [
    "# Question 1\n",
    "\n",
    "You have seen how to convert a float to an integer with the `int` function.  Try this out yourself by running the code cell below."
   ]
  },
  {
   "cell_type": "code",
   "execution_count": 2,
   "id": "45f58acf",
   "metadata": {
    "execution": {
     "iopub.execute_input": "2022-07-25T19:09:01.090899Z",
     "iopub.status.busy": "2022-07-25T19:09:01.090269Z",
     "iopub.status.idle": "2022-07-25T19:09:01.096605Z",
     "shell.execute_reply": "2022-07-25T19:09:01.095245Z"
    },
    "papermill": {
     "duration": 0.018245,
     "end_time": "2022-07-25T19:09:01.099383",
     "exception": false,
     "start_time": "2022-07-25T19:09:01.081138",
     "status": "completed"
    },
    "tags": []
   },
   "outputs": [
    {
     "name": "stdout",
     "output_type": "stream",
     "text": [
      "1.0\n",
      "<class 'float'>\n",
      "1\n",
      "<class 'int'>\n"
     ]
    }
   ],
   "source": [
    "# Define a float\n",
    "y = 1.\n",
    "print(y)\n",
    "print(type(y))\n",
    "\n",
    "# Convert float to integer with the int function\n",
    "z = int(y)\n",
    "print(z)\n",
    "print(type(z))"
   ]
  },
  {
   "cell_type": "markdown",
   "id": "01cdfd57",
   "metadata": {
    "papermill": {
     "duration": 0.007015,
     "end_time": "2022-07-25T19:09:01.114442",
     "exception": false,
     "start_time": "2022-07-25T19:09:01.107427",
     "status": "completed"
    },
    "tags": []
   },
   "source": [
    "In this case, the float you are using has no numbers after the decimal.  \n",
    "- But what happens when you try to convert a float with a fractional part to an integer?  \n",
    "- How does the outcome of the `int` function change for positive and negative numbers?\n",
    "\n",
    "Use the next code cell to investigate and answer these questions.  Feel free to add or remove any lines of code -- it is your workspace!"
   ]
  },
  {
   "cell_type": "code",
   "execution_count": 3,
   "id": "d4bedbeb",
   "metadata": {
    "execution": {
     "iopub.execute_input": "2022-07-25T19:09:01.132349Z",
     "iopub.status.busy": "2022-07-25T19:09:01.131572Z",
     "iopub.status.idle": "2022-07-25T19:09:01.138110Z",
     "shell.execute_reply": "2022-07-25T19:09:01.136710Z"
    },
    "papermill": {
     "duration": 0.018367,
     "end_time": "2022-07-25T19:09:01.141074",
     "exception": false,
     "start_time": "2022-07-25T19:09:01.122707",
     "status": "completed"
    },
    "tags": []
   },
   "outputs": [
    {
     "name": "stdout",
     "output_type": "stream",
     "text": [
      "1\n",
      "1\n",
      "-3\n",
      "-2\n"
     ]
    }
   ],
   "source": [
    "# Uncomment and run this code to get started!\n",
    "print(int(1.2321))\n",
    "print(int(1.747))\n",
    "print(int(-3.94535))\n",
    "print(int(-2.19774))"
   ]
  },
  {
   "cell_type": "markdown",
   "id": "b2c1f15b",
   "metadata": {
    "papermill": {
     "duration": 0.007356,
     "end_time": "2022-07-25T19:09:01.156477",
     "exception": false,
     "start_time": "2022-07-25T19:09:01.149121",
     "status": "completed"
    },
    "tags": []
   },
   "source": [
    "Once you have an answer, run the code cell below to see the solution.  Viewing the solution will give you credit for answering the problem."
   ]
  },
  {
   "cell_type": "code",
   "execution_count": 4,
   "id": "074c7a74",
   "metadata": {
    "execution": {
     "iopub.execute_input": "2022-07-25T19:09:01.173339Z",
     "iopub.status.busy": "2022-07-25T19:09:01.172940Z",
     "iopub.status.idle": "2022-07-25T19:09:01.185752Z",
     "shell.execute_reply": "2022-07-25T19:09:01.184762Z"
    },
    "papermill": {
     "duration": 0.023935,
     "end_time": "2022-07-25T19:09:01.188068",
     "exception": false,
     "start_time": "2022-07-25T19:09:01.164133",
     "status": "completed"
    },
    "tags": []
   },
   "outputs": [
    {
     "data": {
      "application/javascript": [
       "parent.postMessage({\"jupyterEvent\": \"custom.exercise_interaction\", \"data\": {\"outcomeType\": 1, \"valueTowardsCompletion\": 0.2, \"interactionType\": 1, \"questionType\": 4, \"questionId\": \"1_FloatToInt\", \"learnToolsVersion\": \"0.3.4\", \"failureMessage\": \"\", \"exceptionClass\": \"\", \"trace\": \"\"}}, \"*\")"
      ],
      "text/plain": [
       "<IPython.core.display.Javascript object>"
      ]
     },
     "metadata": {},
     "output_type": "display_data"
    },
    {
     "data": {
      "text/markdown": [
       "<span style=\"color:#33cc33\">Correct:</span> \n",
       "\n",
       "Negative floats are always rounded UP to the closest integer (for instance, both -1.1 and -1.9 are rounded up to -1). Positive floats are always rounded DOWN to the closest integer (for instance, 2.1 and 2.9 are rounded down to 2)."
      ],
      "text/plain": [
       "Correct: \n",
       "\n",
       "Negative floats are always rounded UP to the closest integer (for instance, both -1.1 and -1.9 are rounded up to -1). Positive floats are always rounded DOWN to the closest integer (for instance, 2.1 and 2.9 are rounded down to 2)."
      ]
     },
     "metadata": {},
     "output_type": "display_data"
    }
   ],
   "source": [
    "# Check your answer (Run this code cell to receive credit!)\n",
    "q1.check()"
   ]
  },
  {
   "cell_type": "markdown",
   "id": "6a76ccdf",
   "metadata": {
    "papermill": {
     "duration": 0.007846,
     "end_time": "2022-07-25T19:09:01.204350",
     "exception": false,
     "start_time": "2022-07-25T19:09:01.196504",
     "status": "completed"
    },
    "tags": []
   },
   "source": [
    "# Question 2\n",
    "\n",
    "In the tutorial, you learned about booleans (which can take a value of `True` or `False`), in addition to integers, floats, and strings.  For this question, your goal is to determine what happens when you multiply a boolean by any of these data types.  Specifically, \n",
    "- What happens when you multiply an integer or float by `True`?  What happens when you multiply them by `False`?  How does the answer change if the numbers are positive or negative?\n",
    "- What happens when you multiply a string by `True`?  By `False`?\n",
    "\n",
    "Use the next code cell for your investigation. "
   ]
  },
  {
   "cell_type": "code",
   "execution_count": 5,
   "id": "80ebedff",
   "metadata": {
    "execution": {
     "iopub.execute_input": "2022-07-25T19:09:01.222843Z",
     "iopub.status.busy": "2022-07-25T19:09:01.222405Z",
     "iopub.status.idle": "2022-07-25T19:09:01.228955Z",
     "shell.execute_reply": "2022-07-25T19:09:01.227982Z"
    },
    "papermill": {
     "duration": 0.020712,
     "end_time": "2022-07-25T19:09:01.233267",
     "exception": false,
     "start_time": "2022-07-25T19:09:01.212555",
     "status": "completed"
    },
    "tags": []
   },
   "outputs": [
    {
     "name": "stdout",
     "output_type": "stream",
     "text": [
      "3\n",
      "-3.1\n",
      "<class 'str'>\n",
      "0\n"
     ]
    }
   ],
   "source": [
    "# Uncomment and run this code to get started!\n",
    "print(3 * True)\n",
    "print(-3.1 * True)\n",
    "print(type(\"abc\" * False))\n",
    "print(len(\"abc\" * False))"
   ]
  },
  {
   "cell_type": "markdown",
   "id": "17cf588c",
   "metadata": {
    "papermill": {
     "duration": 0.007486,
     "end_time": "2022-07-25T19:09:01.249543",
     "exception": false,
     "start_time": "2022-07-25T19:09:01.242057",
     "status": "completed"
    },
    "tags": []
   },
   "source": [
    "Once you have an answer, run the code cell below to see the solution.  Viewing the solution will give you credit for answering the problem."
   ]
  },
  {
   "cell_type": "code",
   "execution_count": 6,
   "id": "6d6c11c3",
   "metadata": {
    "execution": {
     "iopub.execute_input": "2022-07-25T19:09:01.268038Z",
     "iopub.status.busy": "2022-07-25T19:09:01.266795Z",
     "iopub.status.idle": "2022-07-25T19:09:01.278056Z",
     "shell.execute_reply": "2022-07-25T19:09:01.276592Z"
    },
    "papermill": {
     "duration": 0.023035,
     "end_time": "2022-07-25T19:09:01.280644",
     "exception": false,
     "start_time": "2022-07-25T19:09:01.257609",
     "status": "completed"
    },
    "tags": []
   },
   "outputs": [
    {
     "data": {
      "application/javascript": [
       "parent.postMessage({\"jupyterEvent\": \"custom.exercise_interaction\", \"data\": {\"outcomeType\": 1, \"valueTowardsCompletion\": 0.2, \"interactionType\": 1, \"questionType\": 4, \"questionId\": \"2_MultiplyBooleans\", \"learnToolsVersion\": \"0.3.4\", \"failureMessage\": \"\", \"exceptionClass\": \"\", \"trace\": \"\"}}, \"*\")"
      ],
      "text/plain": [
       "<IPython.core.display.Javascript object>"
      ]
     },
     "metadata": {},
     "output_type": "display_data"
    },
    {
     "data": {
      "text/markdown": [
       "<span style=\"color:#33cc33\">Correct:</span> \n",
       "\n",
       "When you multiple an integer or float by a boolean with value `True`, it just returns that same integer or float (and is equivalent to multiplying by 1).  If you multiply an integer or float by a boolean with value `False`, it always returns 0.  This is true for both positive and negative numbers.  If you multiply a string by a boolean with value `True`, it just returns that same string.  And if you multiply a string by a boolean with value `False`, it returns an empty string (or a string with length zero)."
      ],
      "text/plain": [
       "Correct: \n",
       "\n",
       "When you multiple an integer or float by a boolean with value `True`, it just returns that same integer or float (and is equivalent to multiplying by 1).  If you multiply an integer or float by a boolean with value `False`, it always returns 0.  This is true for both positive and negative numbers.  If you multiply a string by a boolean with value `True`, it just returns that same string.  And if you multiply a string by a boolean with value `False`, it returns an empty string (or a string with length zero)."
      ]
     },
     "metadata": {},
     "output_type": "display_data"
    }
   ],
   "source": [
    "# Check your answer (Run this code cell to receive credit!)\n",
    "q2.check()"
   ]
  },
  {
   "cell_type": "markdown",
   "id": "d056f27f",
   "metadata": {
    "papermill": {
     "duration": 0.008096,
     "end_time": "2022-07-25T19:09:01.298282",
     "exception": false,
     "start_time": "2022-07-25T19:09:01.290186",
     "status": "completed"
    },
    "tags": []
   },
   "source": [
    "# Question 3\n",
    "\n",
    "In this question, you will build off your work from the previous exercise to write a function that estimates the value of a house.\n",
    "\n",
    "Use the next code cell to create a function `get_expected_cost` that takes as input three variables:\n",
    "- `beds` - number of bedrooms (data type float)\n",
    "- `baths` - number of bathrooms (data type float)\n",
    "- `has_basement` - whether or not the house has a basement (data type boolean)\n",
    "\n",
    "It should return the expected cost of a house with those characteristics. Assume that:\n",
    "- the expected cost for a house with 0 bedrooms and 0 bathrooms, and no basement is 80000, \n",
    "- each bedroom adds 30000 to the expected cost,\n",
    "- each bathroom adds 10000 to the expected cost, and\n",
    "- a basement adds 40000 to the expected cost.\n",
    "\n",
    "For instance,\n",
    "- a house with 1 bedroom, 1 bathroom, and no basement has an expected cost of 80000 + 30000 + 10000 = 120000.  This value will be calculated with `get_expected_cost(1, 1, False)`.\n",
    "- a house with 2 bedrooms, 1 bathroom, and a basement has an expected cost of 80000 + 2*30000 + 10000 + 40000 = 190000.  This value will be calculated with `get_expected_cost(2, 1, True)`.\n",
    "\n",
    "Remember you can always get a hint by uncommenting `q3.hint()` in the code cell following the next!"
   ]
  },
  {
   "cell_type": "code",
   "execution_count": 7,
   "id": "f5af7bd1",
   "metadata": {
    "execution": {
     "iopub.execute_input": "2022-07-25T19:09:01.317172Z",
     "iopub.status.busy": "2022-07-25T19:09:01.316464Z",
     "iopub.status.idle": "2022-07-25T19:09:01.327443Z",
     "shell.execute_reply": "2022-07-25T19:09:01.326242Z"
    },
    "papermill": {
     "duration": 0.023267,
     "end_time": "2022-07-25T19:09:01.329741",
     "exception": false,
     "start_time": "2022-07-25T19:09:01.306474",
     "status": "completed"
    },
    "tags": []
   },
   "outputs": [
    {
     "data": {
      "application/javascript": [
       "parent.postMessage({\"jupyterEvent\": \"custom.exercise_interaction\", \"data\": {\"outcomeType\": 2, \"failureMessage\": \"Expected return value of `120000` given `beds=1`, `baths=1`, `has_basement=False`, but got `<learntools.core.constants.PlaceholderValue object at 0x7efcf2d20850>` instead.\", \"interactionType\": 1, \"questionType\": 2, \"questionId\": \"3_EstimateHouseValueBool\", \"learnToolsVersion\": \"0.3.4\", \"valueTowardsCompletion\": 0.0, \"exceptionClass\": \"\", \"trace\": \"\"}}, \"*\")"
      ],
      "text/plain": [
       "<IPython.core.display.Javascript object>"
      ]
     },
     "metadata": {},
     "output_type": "display_data"
    },
    {
     "data": {
      "text/markdown": [
       "<span style=\"color:#cc3333\">Incorrect:</span> Expected return value of `120000` given `beds=1`, `baths=1`, `has_basement=False`, but got `<learntools.core.constants.PlaceholderValue object at 0x7efcf2d20850>` instead."
      ],
      "text/plain": [
       "Incorrect: Expected return value of `120000` given `beds=1`, `baths=1`, `has_basement=False`, but got `<learntools.core.constants.PlaceholderValue object at 0x7efcf2d20850>` instead."
      ]
     },
     "metadata": {},
     "output_type": "display_data"
    }
   ],
   "source": [
    "# TODO: Complete the function\n",
    "def get_expected_cost(beds, baths, has_basement):\n",
    "    value = ____\n",
    "    return value\n",
    "\n",
    "# Check your answer \n",
    "q3.check()"
   ]
  },
  {
   "cell_type": "code",
   "execution_count": 8,
   "id": "be41dd1e",
   "metadata": {
    "execution": {
     "iopub.execute_input": "2022-07-25T19:09:01.350179Z",
     "iopub.status.busy": "2022-07-25T19:09:01.349435Z",
     "iopub.status.idle": "2022-07-25T19:09:01.353656Z",
     "shell.execute_reply": "2022-07-25T19:09:01.352651Z"
    },
    "papermill": {
     "duration": 0.017785,
     "end_time": "2022-07-25T19:09:01.356098",
     "exception": false,
     "start_time": "2022-07-25T19:09:01.338313",
     "status": "completed"
    },
    "tags": []
   },
   "outputs": [],
   "source": [
    "# Uncomment to see a hint\n",
    "#q3.hint()\n",
    "\n",
    "# Uncomment to view the solution\n",
    "#q3.solution()"
   ]
  },
  {
   "cell_type": "markdown",
   "id": "72850936",
   "metadata": {
    "papermill": {
     "duration": 0.008395,
     "end_time": "2022-07-25T19:09:01.373149",
     "exception": false,
     "start_time": "2022-07-25T19:09:01.364754",
     "status": "completed"
    },
    "tags": []
   },
   "source": [
    "# Question 4\n",
    "\n",
    "We'll continue our study of boolean arithmetic.  For this question, your task is to provide a description of what happpens when you add booleans. \n",
    "\n",
    "Use the next code cell for your investigation.  Feel free to add or remove any lines of code - use it as your workspace!"
   ]
  },
  {
   "cell_type": "code",
   "execution_count": 9,
   "id": "8029fc36",
   "metadata": {
    "execution": {
     "iopub.execute_input": "2022-07-25T19:09:01.394050Z",
     "iopub.status.busy": "2022-07-25T19:09:01.393344Z",
     "iopub.status.idle": "2022-07-25T19:09:01.401358Z",
     "shell.execute_reply": "2022-07-25T19:09:01.399195Z"
    },
    "papermill": {
     "duration": 0.022102,
     "end_time": "2022-07-25T19:09:01.404210",
     "exception": false,
     "start_time": "2022-07-25T19:09:01.382108",
     "status": "completed"
    },
    "tags": []
   },
   "outputs": [
    {
     "name": "stdout",
     "output_type": "stream",
     "text": [
      "0\n",
      "1\n",
      "1\n",
      "2\n",
      "3\n"
     ]
    }
   ],
   "source": [
    "print(False + False)\n",
    "print(True + False)\n",
    "print(False + True)\n",
    "print(True + True)\n",
    "print(False + True + True + True)"
   ]
  },
  {
   "cell_type": "markdown",
   "id": "b678526a",
   "metadata": {
    "papermill": {
     "duration": 0.00878,
     "end_time": "2022-07-25T19:09:01.421782",
     "exception": false,
     "start_time": "2022-07-25T19:09:01.413002",
     "status": "completed"
    },
    "tags": []
   },
   "source": [
    "Once you have an answer, run the code cell below to see the solution.  Viewing the solution will give you credit for answering the problem."
   ]
  },
  {
   "cell_type": "code",
   "execution_count": 10,
   "id": "49acd20f",
   "metadata": {
    "execution": {
     "iopub.execute_input": "2022-07-25T19:09:01.442451Z",
     "iopub.status.busy": "2022-07-25T19:09:01.441732Z",
     "iopub.status.idle": "2022-07-25T19:09:01.449970Z",
     "shell.execute_reply": "2022-07-25T19:09:01.449049Z"
    },
    "papermill": {
     "duration": 0.021359,
     "end_time": "2022-07-25T19:09:01.452650",
     "exception": false,
     "start_time": "2022-07-25T19:09:01.431291",
     "status": "completed"
    },
    "tags": []
   },
   "outputs": [
    {
     "data": {
      "application/javascript": [
       "parent.postMessage({\"jupyterEvent\": \"custom.exercise_interaction\", \"data\": {\"outcomeType\": 1, \"valueTowardsCompletion\": 0.2, \"interactionType\": 1, \"questionType\": 4, \"questionId\": \"4_AddingBooleans\", \"learnToolsVersion\": \"0.3.4\", \"failureMessage\": \"\", \"exceptionClass\": \"\", \"trace\": \"\"}}, \"*\")"
      ],
      "text/plain": [
       "<IPython.core.display.Javascript object>"
      ]
     },
     "metadata": {},
     "output_type": "display_data"
    },
    {
     "data": {
      "text/markdown": [
       "<span style=\"color:#33cc33\">Correct:</span> \n",
       "\n",
       "When you add booleans, adding `False` is equivalent to adding 0, and adding `True` is equivalent to adding 1."
      ],
      "text/plain": [
       "Correct: \n",
       "\n",
       "When you add booleans, adding `False` is equivalent to adding 0, and adding `True` is equivalent to adding 1."
      ]
     },
     "metadata": {},
     "output_type": "display_data"
    }
   ],
   "source": [
    "# Check your answer (Run this code cell to receive credit!)\n",
    "q4.check()"
   ]
  },
  {
   "cell_type": "markdown",
   "id": "e5ba9e17",
   "metadata": {
    "papermill": {
     "duration": 0.009,
     "end_time": "2022-07-25T19:09:01.470880",
     "exception": false,
     "start_time": "2022-07-25T19:09:01.461880",
     "status": "completed"
    },
    "tags": []
   },
   "source": [
    "# 🌶️ Question 5\n",
    "\n",
    "You own an online shop where you sell rings with custom engravings.  You offer both gold plated and solid gold rings.\n",
    "- Gold plated rings have a base cost of \\\\$50, and you charge \\\\$7 per engraved unit.  \n",
    "- Solid gold rings have a base cost of \\\\$100, and you charge \\\\$10 per engraved unit.\n",
    "- Spaces and punctuation are counted as engraved units.\n",
    "\n",
    "Write a function `cost_of_project()` that takes two arguments:\n",
    "- `engraving` - a Python string with the text of the engraving\n",
    "- `solid_gold` - a Boolean that indicates whether the ring is solid gold\n",
    "\n",
    "It should return the cost of the project.  This question should be fairly challenging, and you may need a hint."
   ]
  },
  {
   "cell_type": "code",
   "execution_count": 11,
   "id": "5cb3e129",
   "metadata": {
    "execution": {
     "iopub.execute_input": "2022-07-25T19:09:01.491136Z",
     "iopub.status.busy": "2022-07-25T19:09:01.490416Z",
     "iopub.status.idle": "2022-07-25T19:09:01.499851Z",
     "shell.execute_reply": "2022-07-25T19:09:01.498765Z"
    },
    "papermill": {
     "duration": 0.022691,
     "end_time": "2022-07-25T19:09:01.502601",
     "exception": false,
     "start_time": "2022-07-25T19:09:01.479910",
     "status": "completed"
    },
    "tags": []
   },
   "outputs": [
    {
     "data": {
      "application/javascript": [
       "parent.postMessage({\"jupyterEvent\": \"custom.exercise_interaction\", \"data\": {\"outcomeType\": 2, \"failureMessage\": \"Expected return value of `240` given `engraving='Charlie+Denver'`, `solid_gold=True`, but got `<learntools.core.constants.PlaceholderValue object at 0x7efcf2d20850>` instead.\", \"interactionType\": 1, \"questionType\": 2, \"questionId\": \"5_CustomEngravings\", \"learnToolsVersion\": \"0.3.4\", \"valueTowardsCompletion\": 0.0, \"exceptionClass\": \"\", \"trace\": \"\"}}, \"*\")"
      ],
      "text/plain": [
       "<IPython.core.display.Javascript object>"
      ]
     },
     "metadata": {},
     "output_type": "display_data"
    },
    {
     "data": {
      "text/markdown": [
       "<span style=\"color:#cc3333\">Incorrect:</span> Expected return value of `240` given `engraving='Charlie+Denver'`, `solid_gold=True`, but got `<learntools.core.constants.PlaceholderValue object at 0x7efcf2d20850>` instead."
      ],
      "text/plain": [
       "Incorrect: Expected return value of `240` given `engraving='Charlie+Denver'`, `solid_gold=True`, but got `<learntools.core.constants.PlaceholderValue object at 0x7efcf2d20850>` instead."
      ]
     },
     "metadata": {},
     "output_type": "display_data"
    }
   ],
   "source": [
    "def cost_of_project(engraving, solid_gold):\n",
    "    cost = ____\n",
    "    return cost\n",
    "\n",
    "# Check your answer\n",
    "q5.check()"
   ]
  },
  {
   "cell_type": "code",
   "execution_count": 12,
   "id": "bcc2b143",
   "metadata": {
    "execution": {
     "iopub.execute_input": "2022-07-25T19:09:01.523948Z",
     "iopub.status.busy": "2022-07-25T19:09:01.523285Z",
     "iopub.status.idle": "2022-07-25T19:09:01.528599Z",
     "shell.execute_reply": "2022-07-25T19:09:01.527528Z"
    },
    "papermill": {
     "duration": 0.01863,
     "end_time": "2022-07-25T19:09:01.531174",
     "exception": false,
     "start_time": "2022-07-25T19:09:01.512544",
     "status": "completed"
    },
    "tags": []
   },
   "outputs": [],
   "source": [
    "# Uncomment to see a hint\n",
    "#q5.hint()\n",
    "\n",
    "# Uncomment to view the solution\n",
    "#q5.solution()"
   ]
  },
  {
   "cell_type": "markdown",
   "id": "d6c59b1c",
   "metadata": {
    "papermill": {
     "duration": 0.009734,
     "end_time": "2022-07-25T19:09:01.550499",
     "exception": false,
     "start_time": "2022-07-25T19:09:01.540765",
     "status": "completed"
    },
    "tags": []
   },
   "source": [
    "Run the next code cell to calculate the cost of engraving `Charlie+Denver` on a solid gold ring."
   ]
  },
  {
   "cell_type": "code",
   "execution_count": 13,
   "id": "7a12aaea",
   "metadata": {
    "execution": {
     "iopub.execute_input": "2022-07-25T19:09:01.574015Z",
     "iopub.status.busy": "2022-07-25T19:09:01.573227Z",
     "iopub.status.idle": "2022-07-25T19:09:01.580719Z",
     "shell.execute_reply": "2022-07-25T19:09:01.579258Z"
    },
    "papermill": {
     "duration": 0.02267,
     "end_time": "2022-07-25T19:09:01.583132",
     "exception": false,
     "start_time": "2022-07-25T19:09:01.560462",
     "status": "completed"
    },
    "tags": []
   },
   "outputs": [
    {
     "name": "stdout",
     "output_type": "stream",
     "text": [
      "<learntools.core.constants.PlaceholderValue object at 0x7efcf2d20850>\n"
     ]
    }
   ],
   "source": [
    "project_one = cost_of_project(\"Charlie+Denver\", True)\n",
    "print(project_one)"
   ]
  },
  {
   "cell_type": "markdown",
   "id": "f89ce01d",
   "metadata": {
    "papermill": {
     "duration": 0.00952,
     "end_time": "2022-07-25T19:09:01.602567",
     "exception": false,
     "start_time": "2022-07-25T19:09:01.593047",
     "status": "completed"
    },
    "tags": []
   },
   "source": [
    "Use the next code cell to calculate the cost of engraving `08/10/2000` on a gold plated ring."
   ]
  },
  {
   "cell_type": "code",
   "execution_count": 14,
   "id": "c7a5485f",
   "metadata": {
    "execution": {
     "iopub.execute_input": "2022-07-25T19:09:01.624957Z",
     "iopub.status.busy": "2022-07-25T19:09:01.624475Z",
     "iopub.status.idle": "2022-07-25T19:09:01.632590Z",
     "shell.execute_reply": "2022-07-25T19:09:01.630756Z"
    },
    "papermill": {
     "duration": 0.023321,
     "end_time": "2022-07-25T19:09:01.635922",
     "exception": false,
     "start_time": "2022-07-25T19:09:01.612601",
     "status": "completed"
    },
    "tags": []
   },
   "outputs": [
    {
     "name": "stdout",
     "output_type": "stream",
     "text": [
      "<learntools.core.constants.PlaceholderValue object at 0x7efcf2d20850>\n"
     ]
    }
   ],
   "source": [
    "project_two = cost_of_project(\"08/10/2000\", False)\n",
    "print(project_two)"
   ]
  },
  {
   "cell_type": "markdown",
   "id": "e9872fea",
   "metadata": {
    "papermill": {
     "duration": 0.009726,
     "end_time": "2022-07-25T19:09:01.655659",
     "exception": false,
     "start_time": "2022-07-25T19:09:01.645933",
     "status": "completed"
    },
    "tags": []
   },
   "source": [
    "# Keep going\n",
    "\n",
    "Continue to the next lesson to **[learn about conditions and conditional statements](https://www.kaggle.com/alexisbcook/conditions-and-conditional-statements)**."
   ]
  },
  {
   "cell_type": "markdown",
   "id": "a8f90758",
   "metadata": {
    "papermill": {
     "duration": 0.009455,
     "end_time": "2022-07-25T19:09:01.675267",
     "exception": false,
     "start_time": "2022-07-25T19:09:01.665812",
     "status": "completed"
    },
    "tags": []
   },
   "source": [
    "---\n",
    "\n",
    "\n",
    "\n",
    "\n",
    "*Have questions or comments? Visit the [course discussion forum](https://www.kaggle.com/learn/intro-to-programming/discussion) to chat with other learners.*"
   ]
  }
 ],
 "metadata": {
  "kernelspec": {
   "display_name": "Python 3",
   "language": "python",
   "name": "python3"
  },
  "language_info": {
   "codemirror_mode": {
    "name": "ipython",
    "version": 3
   },
   "file_extension": ".py",
   "mimetype": "text/x-python",
   "name": "python",
   "nbconvert_exporter": "python",
   "pygments_lexer": "ipython3",
   "version": "3.7.12"
  },
  "papermill": {
   "default_parameters": {},
   "duration": 11.940267,
   "end_time": "2022-07-25T19:09:02.407394",
   "environment_variables": {},
   "exception": null,
   "input_path": "__notebook__.ipynb",
   "output_path": "__notebook__.ipynb",
   "parameters": {},
   "start_time": "2022-07-25T19:08:50.467127",
   "version": "2.3.4"
  }
 },
 "nbformat": 4,
 "nbformat_minor": 5
}
