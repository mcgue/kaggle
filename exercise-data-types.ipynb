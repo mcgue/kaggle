{
 "cells": [
  {
   "cell_type": "markdown",
   "id": "08c69883",
   "metadata": {
    "papermill": {
     "duration": 0.007504,
     "end_time": "2022-07-23T21:28:56.088800",
     "exception": false,
     "start_time": "2022-07-23T21:28:56.081296",
     "status": "completed"
    },
    "tags": []
   },
   "source": [
    "**This notebook is an exercise in the [Intro to Programming](https://www.kaggle.com/learn/intro-to-programming) course.  You can reference the tutorial at [this link](https://www.kaggle.com/alexisbcook/data-types).**\n",
    "\n",
    "---\n"
   ]
  },
  {
   "cell_type": "markdown",
   "id": "86ddfc2c",
   "metadata": {
    "papermill": {
     "duration": 0.006374,
     "end_time": "2022-07-23T21:28:56.101786",
     "exception": false,
     "start_time": "2022-07-23T21:28:56.095412",
     "status": "completed"
    },
    "tags": []
   },
   "source": [
    "In the tutorial, you learned about four different data types: floats, integers, strings, and booleans.  In this exercise, you'll experiment with them.\n",
    "\n",
    "# Set up the notebook\n",
    "\n",
    "Run the next code cell without changes to set up the notebook."
   ]
  },
  {
   "cell_type": "code",
   "execution_count": 1,
   "id": "e886b816",
   "metadata": {
    "execution": {
     "iopub.execute_input": "2022-07-23T21:28:56.117020Z",
     "iopub.status.busy": "2022-07-23T21:28:56.116354Z",
     "iopub.status.idle": "2022-07-23T21:28:56.166323Z",
     "shell.execute_reply": "2022-07-23T21:28:56.165182Z"
    },
    "papermill": {
     "duration": 0.060762,
     "end_time": "2022-07-23T21:28:56.168979",
     "exception": false,
     "start_time": "2022-07-23T21:28:56.108217",
     "status": "completed"
    },
    "tags": []
   },
   "outputs": [
    {
     "name": "stdout",
     "output_type": "stream",
     "text": [
      "Setup complete.\n"
     ]
    }
   ],
   "source": [
    "# Set up the exercise\n",
    "from learntools.core import binder\n",
    "binder.bind(globals())\n",
    "from learntools.intro_to_programming.ex3 import *\n",
    "print('Setup complete.')"
   ]
  },
  {
   "cell_type": "markdown",
   "id": "0f00f097",
   "metadata": {
    "papermill": {
     "duration": 0.006471,
     "end_time": "2022-07-23T21:28:56.182547",
     "exception": false,
     "start_time": "2022-07-23T21:28:56.176076",
     "status": "completed"
    },
    "tags": []
   },
   "source": [
    "# Question 1\n",
    "\n",
    "You have seen how to convert a float to an integer with the `int` function.  Try this out yourself by running the code cell below."
   ]
  },
  {
   "cell_type": "code",
   "execution_count": 2,
   "id": "1d78e6e1",
   "metadata": {
    "execution": {
     "iopub.execute_input": "2022-07-23T21:28:56.197554Z",
     "iopub.status.busy": "2022-07-23T21:28:56.196948Z",
     "iopub.status.idle": "2022-07-23T21:28:56.202200Z",
     "shell.execute_reply": "2022-07-23T21:28:56.201040Z"
    },
    "papermill": {
     "duration": 0.015766,
     "end_time": "2022-07-23T21:28:56.204774",
     "exception": false,
     "start_time": "2022-07-23T21:28:56.189008",
     "status": "completed"
    },
    "tags": []
   },
   "outputs": [
    {
     "name": "stdout",
     "output_type": "stream",
     "text": [
      "1.0\n",
      "<class 'float'>\n",
      "1\n",
      "<class 'int'>\n"
     ]
    }
   ],
   "source": [
    "# Define a float\n",
    "y = 1.\n",
    "print(y)\n",
    "print(type(y))\n",
    "\n",
    "# Convert float to integer with the int function\n",
    "z = int(y)\n",
    "print(z)\n",
    "print(type(z))"
   ]
  },
  {
   "cell_type": "markdown",
   "id": "e53bb1c5",
   "metadata": {
    "papermill": {
     "duration": 0.006422,
     "end_time": "2022-07-23T21:28:56.218355",
     "exception": false,
     "start_time": "2022-07-23T21:28:56.211933",
     "status": "completed"
    },
    "tags": []
   },
   "source": [
    "In this case, the float you are using has no numbers after the decimal.  \n",
    "- But what happens when you try to convert a float with a fractional part to an integer?  \n",
    "- How does the outcome of the `int` function change for positive and negative numbers?\n",
    "\n",
    "Use the next code cell to investigate and answer these questions.  Feel free to add or remove any lines of code -- it is your workspace!"
   ]
  },
  {
   "cell_type": "code",
   "execution_count": 3,
   "id": "b611c7e1",
   "metadata": {
    "execution": {
     "iopub.execute_input": "2022-07-23T21:28:56.232199Z",
     "iopub.status.busy": "2022-07-23T21:28:56.231600Z",
     "iopub.status.idle": "2022-07-23T21:28:56.235089Z",
     "shell.execute_reply": "2022-07-23T21:28:56.234442Z"
    },
    "papermill": {
     "duration": 0.012254,
     "end_time": "2022-07-23T21:28:56.236856",
     "exception": false,
     "start_time": "2022-07-23T21:28:56.224602",
     "status": "completed"
    },
    "tags": []
   },
   "outputs": [],
   "source": [
    "# Uncomment and run this code to get started!\n",
    "#print(int(1.2321))\n",
    "#print(int(1.747))\n",
    "#print(int(-3.94535))\n",
    "#print(int(-2.19774))"
   ]
  },
  {
   "cell_type": "markdown",
   "id": "8af0b33f",
   "metadata": {
    "papermill": {
     "duration": 0.006004,
     "end_time": "2022-07-23T21:28:56.249140",
     "exception": false,
     "start_time": "2022-07-23T21:28:56.243136",
     "status": "completed"
    },
    "tags": []
   },
   "source": [
    "Once you have an answer, run the code cell below to see the solution.  Viewing the solution will give you credit for answering the problem."
   ]
  },
  {
   "cell_type": "code",
   "execution_count": 4,
   "id": "2839115d",
   "metadata": {
    "execution": {
     "iopub.execute_input": "2022-07-23T21:28:56.262886Z",
     "iopub.status.busy": "2022-07-23T21:28:56.262579Z",
     "iopub.status.idle": "2022-07-23T21:28:56.271692Z",
     "shell.execute_reply": "2022-07-23T21:28:56.270921Z"
    },
    "papermill": {
     "duration": 0.018047,
     "end_time": "2022-07-23T21:28:56.273334",
     "exception": false,
     "start_time": "2022-07-23T21:28:56.255287",
     "status": "completed"
    },
    "tags": []
   },
   "outputs": [
    {
     "data": {
      "application/javascript": [
       "parent.postMessage({\"jupyterEvent\": \"custom.exercise_interaction\", \"data\": {\"outcomeType\": 1, \"valueTowardsCompletion\": 0.2, \"interactionType\": 1, \"questionType\": 4, \"questionId\": \"1_FloatToInt\", \"learnToolsVersion\": \"0.3.4\", \"failureMessage\": \"\", \"exceptionClass\": \"\", \"trace\": \"\"}}, \"*\")"
      ],
      "text/plain": [
       "<IPython.core.display.Javascript object>"
      ]
     },
     "metadata": {},
     "output_type": "display_data"
    },
    {
     "data": {
      "text/markdown": [
       "<span style=\"color:#33cc33\">Correct:</span> \n",
       "\n",
       "Negative floats are always rounded UP to the closest integer (for instance, both -1.1 and -1.9 are rounded up to -1). Positive floats are always rounded DOWN to the closest integer (for instance, 2.1 and 2.9 are rounded down to 2)."
      ],
      "text/plain": [
       "Correct: \n",
       "\n",
       "Negative floats are always rounded UP to the closest integer (for instance, both -1.1 and -1.9 are rounded up to -1). Positive floats are always rounded DOWN to the closest integer (for instance, 2.1 and 2.9 are rounded down to 2)."
      ]
     },
     "metadata": {},
     "output_type": "display_data"
    }
   ],
   "source": [
    "# Check your answer (Run this code cell to receive credit!)\n",
    "q1.check()"
   ]
  },
  {
   "cell_type": "markdown",
   "id": "aefdee99",
   "metadata": {
    "papermill": {
     "duration": 0.005884,
     "end_time": "2022-07-23T21:28:56.285618",
     "exception": false,
     "start_time": "2022-07-23T21:28:56.279734",
     "status": "completed"
    },
    "tags": []
   },
   "source": [
    "# Question 2\n",
    "\n",
    "In the tutorial, you learned about booleans (which can take a value of `True` or `False`), in addition to integers, floats, and strings.  For this question, your goal is to determine what happens when you multiply a boolean by any of these data types.  Specifically, \n",
    "- What happens when you multiply an integer or float by `True`?  What happens when you multiply them by `False`?  How does the answer change if the numbers are positive or negative?\n",
    "- What happens when you multiply a string by `True`?  By `False`?\n",
    "\n",
    "Use the next code cell for your investigation. "
   ]
  },
  {
   "cell_type": "code",
   "execution_count": 5,
   "id": "e2026f60",
   "metadata": {
    "execution": {
     "iopub.execute_input": "2022-07-23T21:28:56.299528Z",
     "iopub.status.busy": "2022-07-23T21:28:56.299206Z",
     "iopub.status.idle": "2022-07-23T21:28:56.305475Z",
     "shell.execute_reply": "2022-07-23T21:28:56.304062Z"
    },
    "papermill": {
     "duration": 0.015574,
     "end_time": "2022-07-23T21:28:56.307469",
     "exception": false,
     "start_time": "2022-07-23T21:28:56.291895",
     "status": "completed"
    },
    "tags": []
   },
   "outputs": [
    {
     "name": "stdout",
     "output_type": "stream",
     "text": [
      "3\n",
      "-3.1\n",
      "<class 'str'>\n",
      "0\n"
     ]
    }
   ],
   "source": [
    "# Uncomment and run this code to get started!\n",
    "print(3 * True)\n",
    "print(-3.1 * True)\n",
    "print(type(\"abc\" * False))\n",
    "print(len(\"abc\" * False))"
   ]
  },
  {
   "cell_type": "markdown",
   "id": "752b34c0",
   "metadata": {
    "papermill": {
     "duration": 0.006337,
     "end_time": "2022-07-23T21:28:56.320500",
     "exception": false,
     "start_time": "2022-07-23T21:28:56.314163",
     "status": "completed"
    },
    "tags": []
   },
   "source": [
    "Once you have an answer, run the code cell below to see the solution.  Viewing the solution will give you credit for answering the problem."
   ]
  },
  {
   "cell_type": "code",
   "execution_count": 6,
   "id": "1d1db836",
   "metadata": {
    "execution": {
     "iopub.execute_input": "2022-07-23T21:28:56.334818Z",
     "iopub.status.busy": "2022-07-23T21:28:56.334511Z",
     "iopub.status.idle": "2022-07-23T21:28:56.340726Z",
     "shell.execute_reply": "2022-07-23T21:28:56.340042Z"
    },
    "papermill": {
     "duration": 0.015502,
     "end_time": "2022-07-23T21:28:56.342430",
     "exception": false,
     "start_time": "2022-07-23T21:28:56.326928",
     "status": "completed"
    },
    "tags": []
   },
   "outputs": [
    {
     "data": {
      "application/javascript": [
       "parent.postMessage({\"jupyterEvent\": \"custom.exercise_interaction\", \"data\": {\"outcomeType\": 1, \"valueTowardsCompletion\": 0.2, \"interactionType\": 1, \"questionType\": 4, \"questionId\": \"2_MultiplyBooleans\", \"learnToolsVersion\": \"0.3.4\", \"failureMessage\": \"\", \"exceptionClass\": \"\", \"trace\": \"\"}}, \"*\")"
      ],
      "text/plain": [
       "<IPython.core.display.Javascript object>"
      ]
     },
     "metadata": {},
     "output_type": "display_data"
    },
    {
     "data": {
      "text/markdown": [
       "<span style=\"color:#33cc33\">Correct:</span> \n",
       "\n",
       "When you multiple an integer or float by a boolean with value `True`, it just returns that same integer or float (and is equivalent to multiplying by 1).  If you multiply an integer or float by a boolean with value `False`, it always returns 0.  This is true for both positive and negative numbers.  If you multiply a string by a boolean with value `True`, it just returns that same string.  And if you multiply a string by a boolean with value `False`, it returns an empty string (or a string with length zero)."
      ],
      "text/plain": [
       "Correct: \n",
       "\n",
       "When you multiple an integer or float by a boolean with value `True`, it just returns that same integer or float (and is equivalent to multiplying by 1).  If you multiply an integer or float by a boolean with value `False`, it always returns 0.  This is true for both positive and negative numbers.  If you multiply a string by a boolean with value `True`, it just returns that same string.  And if you multiply a string by a boolean with value `False`, it returns an empty string (or a string with length zero)."
      ]
     },
     "metadata": {},
     "output_type": "display_data"
    }
   ],
   "source": [
    "# Check your answer (Run this code cell to receive credit!)\n",
    "q2.check()"
   ]
  },
  {
   "cell_type": "markdown",
   "id": "3d07f6f9",
   "metadata": {
    "papermill": {
     "duration": 0.007092,
     "end_time": "2022-07-23T21:28:56.356543",
     "exception": false,
     "start_time": "2022-07-23T21:28:56.349451",
     "status": "completed"
    },
    "tags": []
   },
   "source": [
    "# Question 3\n",
    "\n",
    "In this question, you will build off your work from the previous exercise to write a function that estimates the value of a house.\n",
    "\n",
    "Use the next code cell to create a function `get_expected_cost` that takes as input three variables:\n",
    "- `beds` - number of bedrooms (data type float)\n",
    "- `baths` - number of bathrooms (data type float)\n",
    "- `has_basement` - whether or not the house has a basement (data type boolean)\n",
    "\n",
    "It should return the expected cost of a house with those characteristics. Assume that:\n",
    "- the expected cost for a house with 0 bedrooms and 0 bathrooms, and no basement is 80000, \n",
    "- each bedroom adds 30000 to the expected cost,\n",
    "- each bathroom adds 10000 to the expected cost, and\n",
    "- a basement adds 40000 to the expected cost.\n",
    "\n",
    "For instance,\n",
    "- a house with 1 bedroom, 1 bathroom, and no basement has an expected cost of 80000 + 30000 + 10000 = 120000.  This value will be calculated with `get_expected_cost(1, 1, False)`.\n",
    "- a house with 2 bedrooms, 1 bathroom, and a basement has an expected cost of 80000 + 2*30000 + 10000 + 40000 = 190000.  This value will be calculated with `get_expected_cost(2, 1, True)`.\n",
    "\n",
    "Remember you can always get a hint by uncommenting `q3.hint()` in the code cell following the next!"
   ]
  },
  {
   "cell_type": "code",
   "execution_count": 7,
   "id": "2e8b70e7",
   "metadata": {
    "execution": {
     "iopub.execute_input": "2022-07-23T21:28:56.372188Z",
     "iopub.status.busy": "2022-07-23T21:28:56.371622Z",
     "iopub.status.idle": "2022-07-23T21:28:56.378523Z",
     "shell.execute_reply": "2022-07-23T21:28:56.377826Z"
    },
    "papermill": {
     "duration": 0.01665,
     "end_time": "2022-07-23T21:28:56.380291",
     "exception": false,
     "start_time": "2022-07-23T21:28:56.363641",
     "status": "completed"
    },
    "tags": []
   },
   "outputs": [
    {
     "data": {
      "application/javascript": [
       "parent.postMessage({\"jupyterEvent\": \"custom.exercise_interaction\", \"data\": {\"outcomeType\": 2, \"failureMessage\": \"Expected return value of `120000` given `beds=1`, `baths=1`, `has_basement=False`, but got `<learntools.core.constants.PlaceholderValue object at 0x7f97d16f0550>` instead.\", \"interactionType\": 1, \"questionType\": 2, \"questionId\": \"3_EstimateHouseValueBool\", \"learnToolsVersion\": \"0.3.4\", \"valueTowardsCompletion\": 0.0, \"exceptionClass\": \"\", \"trace\": \"\"}}, \"*\")"
      ],
      "text/plain": [
       "<IPython.core.display.Javascript object>"
      ]
     },
     "metadata": {},
     "output_type": "display_data"
    },
    {
     "data": {
      "text/markdown": [
       "<span style=\"color:#cc3333\">Incorrect:</span> Expected return value of `120000` given `beds=1`, `baths=1`, `has_basement=False`, but got `<learntools.core.constants.PlaceholderValue object at 0x7f97d16f0550>` instead."
      ],
      "text/plain": [
       "Incorrect: Expected return value of `120000` given `beds=1`, `baths=1`, `has_basement=False`, but got `<learntools.core.constants.PlaceholderValue object at 0x7f97d16f0550>` instead."
      ]
     },
     "metadata": {},
     "output_type": "display_data"
    }
   ],
   "source": [
    "# TODO: Complete the function\n",
    "def get_expected_cost(beds, baths, has_basement):\n",
    "    value = ____\n",
    "    return value\n",
    "\n",
    "# Check your answer \n",
    "q3.check()"
   ]
  },
  {
   "cell_type": "code",
   "execution_count": 8,
   "id": "3630730f",
   "metadata": {
    "execution": {
     "iopub.execute_input": "2022-07-23T21:28:56.396897Z",
     "iopub.status.busy": "2022-07-23T21:28:56.396595Z",
     "iopub.status.idle": "2022-07-23T21:28:56.399814Z",
     "shell.execute_reply": "2022-07-23T21:28:56.399144Z"
    },
    "papermill": {
     "duration": 0.013343,
     "end_time": "2022-07-23T21:28:56.401538",
     "exception": false,
     "start_time": "2022-07-23T21:28:56.388195",
     "status": "completed"
    },
    "tags": []
   },
   "outputs": [],
   "source": [
    "# Uncomment to see a hint\n",
    "#q3.hint()\n",
    "\n",
    "# Uncomment to view the solution\n",
    "#q3.solution()"
   ]
  },
  {
   "cell_type": "markdown",
   "id": "1524d6cf",
   "metadata": {
    "papermill": {
     "duration": 0.007028,
     "end_time": "2022-07-23T21:28:56.415608",
     "exception": false,
     "start_time": "2022-07-23T21:28:56.408580",
     "status": "completed"
    },
    "tags": []
   },
   "source": [
    "# Question 4\n",
    "\n",
    "We'll continue our study of boolean arithmetic.  For this question, your task is to provide a description of what happpens when you add booleans. \n",
    "\n",
    "Use the next code cell for your investigation.  Feel free to add or remove any lines of code - use it as your workspace!"
   ]
  },
  {
   "cell_type": "code",
   "execution_count": 9,
   "id": "a7b9bdd3",
   "metadata": {
    "execution": {
     "iopub.execute_input": "2022-07-23T21:28:56.431911Z",
     "iopub.status.busy": "2022-07-23T21:28:56.431349Z",
     "iopub.status.idle": "2022-07-23T21:28:56.437387Z",
     "shell.execute_reply": "2022-07-23T21:28:56.436023Z"
    },
    "papermill": {
     "duration": 0.017466,
     "end_time": "2022-07-23T21:28:56.440439",
     "exception": false,
     "start_time": "2022-07-23T21:28:56.422973",
     "status": "completed"
    },
    "tags": []
   },
   "outputs": [
    {
     "name": "stdout",
     "output_type": "stream",
     "text": [
      "0\n",
      "1\n",
      "1\n",
      "2\n",
      "3\n"
     ]
    }
   ],
   "source": [
    "print(False + False)\n",
    "print(True + False)\n",
    "print(False + True)\n",
    "print(True + True)\n",
    "print(False + True + True + True)"
   ]
  },
  {
   "cell_type": "markdown",
   "id": "20340589",
   "metadata": {
    "papermill": {
     "duration": 0.007112,
     "end_time": "2022-07-23T21:28:56.454838",
     "exception": false,
     "start_time": "2022-07-23T21:28:56.447726",
     "status": "completed"
    },
    "tags": []
   },
   "source": [
    "Once you have an answer, run the code cell below to see the solution.  Viewing the solution will give you credit for answering the problem."
   ]
  },
  {
   "cell_type": "code",
   "execution_count": 10,
   "id": "16662e3d",
   "metadata": {
    "execution": {
     "iopub.execute_input": "2022-07-23T21:28:56.471153Z",
     "iopub.status.busy": "2022-07-23T21:28:56.470870Z",
     "iopub.status.idle": "2022-07-23T21:28:56.477658Z",
     "shell.execute_reply": "2022-07-23T21:28:56.476791Z"
    },
    "papermill": {
     "duration": 0.017141,
     "end_time": "2022-07-23T21:28:56.479594",
     "exception": false,
     "start_time": "2022-07-23T21:28:56.462453",
     "status": "completed"
    },
    "tags": []
   },
   "outputs": [
    {
     "data": {
      "application/javascript": [
       "parent.postMessage({\"jupyterEvent\": \"custom.exercise_interaction\", \"data\": {\"outcomeType\": 1, \"valueTowardsCompletion\": 0.2, \"interactionType\": 1, \"questionType\": 4, \"questionId\": \"4_AddingBooleans\", \"learnToolsVersion\": \"0.3.4\", \"failureMessage\": \"\", \"exceptionClass\": \"\", \"trace\": \"\"}}, \"*\")"
      ],
      "text/plain": [
       "<IPython.core.display.Javascript object>"
      ]
     },
     "metadata": {},
     "output_type": "display_data"
    },
    {
     "data": {
      "text/markdown": [
       "<span style=\"color:#33cc33\">Correct:</span> \n",
       "\n",
       "When you add booleans, adding `False` is equivalent to adding 0, and adding `True` is equivalent to adding 1."
      ],
      "text/plain": [
       "Correct: \n",
       "\n",
       "When you add booleans, adding `False` is equivalent to adding 0, and adding `True` is equivalent to adding 1."
      ]
     },
     "metadata": {},
     "output_type": "display_data"
    }
   ],
   "source": [
    "# Check your answer (Run this code cell to receive credit!)\n",
    "q4.check()"
   ]
  },
  {
   "cell_type": "markdown",
   "id": "b2da3c0a",
   "metadata": {
    "papermill": {
     "duration": 0.00765,
     "end_time": "2022-07-23T21:28:56.495118",
     "exception": false,
     "start_time": "2022-07-23T21:28:56.487468",
     "status": "completed"
    },
    "tags": []
   },
   "source": [
    "# 🌶️ Question 5\n",
    "\n",
    "You own an online shop where you sell rings with custom engravings.  You offer both gold plated and solid gold rings.\n",
    "- Gold plated rings have a base cost of \\\\$50, and you charge \\\\$7 per engraved unit.  \n",
    "- Solid gold rings have a base cost of \\\\$100, and you charge \\\\$10 per engraved unit.\n",
    "- Spaces and punctuation are counted as engraved units.\n",
    "\n",
    "Write a function `cost_of_project()` that takes two arguments:\n",
    "- `engraving` - a Python string with the text of the engraving\n",
    "- `solid_gold` - a Boolean that indicates whether the ring is solid gold\n",
    "\n",
    "It should return the cost of the project.  This question should be fairly challenging, and you may need a hint."
   ]
  },
  {
   "cell_type": "code",
   "execution_count": 11,
   "id": "2824e957",
   "metadata": {
    "execution": {
     "iopub.execute_input": "2022-07-23T21:28:56.512707Z",
     "iopub.status.busy": "2022-07-23T21:28:56.512103Z",
     "iopub.status.idle": "2022-07-23T21:28:56.519096Z",
     "shell.execute_reply": "2022-07-23T21:28:56.518365Z"
    },
    "papermill": {
     "duration": 0.017895,
     "end_time": "2022-07-23T21:28:56.521017",
     "exception": false,
     "start_time": "2022-07-23T21:28:56.503122",
     "status": "completed"
    },
    "tags": []
   },
   "outputs": [
    {
     "data": {
      "application/javascript": [
       "parent.postMessage({\"jupyterEvent\": \"custom.exercise_interaction\", \"data\": {\"outcomeType\": 2, \"failureMessage\": \"Expected return value of `240` given `engraving='Charlie+Denver'`, `solid_gold=True`, but got `<learntools.core.constants.PlaceholderValue object at 0x7f97d16f0550>` instead.\", \"interactionType\": 1, \"questionType\": 2, \"questionId\": \"5_CustomEngravings\", \"learnToolsVersion\": \"0.3.4\", \"valueTowardsCompletion\": 0.0, \"exceptionClass\": \"\", \"trace\": \"\"}}, \"*\")"
      ],
      "text/plain": [
       "<IPython.core.display.Javascript object>"
      ]
     },
     "metadata": {},
     "output_type": "display_data"
    },
    {
     "data": {
      "text/markdown": [
       "<span style=\"color:#cc3333\">Incorrect:</span> Expected return value of `240` given `engraving='Charlie+Denver'`, `solid_gold=True`, but got `<learntools.core.constants.PlaceholderValue object at 0x7f97d16f0550>` instead."
      ],
      "text/plain": [
       "Incorrect: Expected return value of `240` given `engraving='Charlie+Denver'`, `solid_gold=True`, but got `<learntools.core.constants.PlaceholderValue object at 0x7f97d16f0550>` instead."
      ]
     },
     "metadata": {},
     "output_type": "display_data"
    }
   ],
   "source": [
    "def cost_of_project(engraving, solid_gold):\n",
    "    cost = ____\n",
    "    return cost\n",
    "\n",
    "# Check your answer\n",
    "q5.check()"
   ]
  },
  {
   "cell_type": "code",
   "execution_count": 12,
   "id": "61089770",
   "metadata": {
    "execution": {
     "iopub.execute_input": "2022-07-23T21:28:56.538819Z",
     "iopub.status.busy": "2022-07-23T21:28:56.538277Z",
     "iopub.status.idle": "2022-07-23T21:28:56.541571Z",
     "shell.execute_reply": "2022-07-23T21:28:56.540937Z"
    },
    "papermill": {
     "duration": 0.014255,
     "end_time": "2022-07-23T21:28:56.543291",
     "exception": false,
     "start_time": "2022-07-23T21:28:56.529036",
     "status": "completed"
    },
    "tags": []
   },
   "outputs": [],
   "source": [
    "# Uncomment to see a hint\n",
    "#q5.hint()\n",
    "\n",
    "# Uncomment to view the solution\n",
    "#q5.solution()"
   ]
  },
  {
   "cell_type": "markdown",
   "id": "9a2e2263",
   "metadata": {
    "papermill": {
     "duration": 0.007896,
     "end_time": "2022-07-23T21:28:56.559358",
     "exception": false,
     "start_time": "2022-07-23T21:28:56.551462",
     "status": "completed"
    },
    "tags": []
   },
   "source": [
    "Run the next code cell to calculate the cost of engraving `Charlie+Denver` on a solid gold ring."
   ]
  },
  {
   "cell_type": "code",
   "execution_count": 13,
   "id": "390d7112",
   "metadata": {
    "execution": {
     "iopub.execute_input": "2022-07-23T21:28:56.577276Z",
     "iopub.status.busy": "2022-07-23T21:28:56.576469Z",
     "iopub.status.idle": "2022-07-23T21:28:56.581303Z",
     "shell.execute_reply": "2022-07-23T21:28:56.580258Z"
    },
    "papermill": {
     "duration": 0.016032,
     "end_time": "2022-07-23T21:28:56.583498",
     "exception": false,
     "start_time": "2022-07-23T21:28:56.567466",
     "status": "completed"
    },
    "tags": []
   },
   "outputs": [
    {
     "name": "stdout",
     "output_type": "stream",
     "text": [
      "<learntools.core.constants.PlaceholderValue object at 0x7f97d16f0550>\n"
     ]
    }
   ],
   "source": [
    "project_one = cost_of_project(\"Charlie+Denver\", True)\n",
    "print(project_one)"
   ]
  },
  {
   "cell_type": "markdown",
   "id": "fafa2c9c",
   "metadata": {
    "papermill": {
     "duration": 0.00786,
     "end_time": "2022-07-23T21:28:56.598998",
     "exception": false,
     "start_time": "2022-07-23T21:28:56.591138",
     "status": "completed"
    },
    "tags": []
   },
   "source": [
    "Use the next code cell to calculate the cost of engraving `08/10/2000` on a gold plated ring."
   ]
  },
  {
   "cell_type": "code",
   "execution_count": 14,
   "id": "fdbcfca1",
   "metadata": {
    "execution": {
     "iopub.execute_input": "2022-07-23T21:28:56.616748Z",
     "iopub.status.busy": "2022-07-23T21:28:56.616097Z",
     "iopub.status.idle": "2022-07-23T21:28:56.621573Z",
     "shell.execute_reply": "2022-07-23T21:28:56.620287Z"
    },
    "papermill": {
     "duration": 0.01671,
     "end_time": "2022-07-23T21:28:56.623786",
     "exception": false,
     "start_time": "2022-07-23T21:28:56.607076",
     "status": "completed"
    },
    "tags": []
   },
   "outputs": [
    {
     "name": "stdout",
     "output_type": "stream",
     "text": [
      "<learntools.core.constants.PlaceholderValue object at 0x7f97d16f0550>\n"
     ]
    }
   ],
   "source": [
    "project_two = cost_of_project(\"08/10/2000\", False)\n",
    "print(project_two)"
   ]
  },
  {
   "cell_type": "markdown",
   "id": "1ab6e4d5",
   "metadata": {
    "papermill": {
     "duration": 0.007961,
     "end_time": "2022-07-23T21:28:56.639980",
     "exception": false,
     "start_time": "2022-07-23T21:28:56.632019",
     "status": "completed"
    },
    "tags": []
   },
   "source": [
    "# Keep going\n",
    "\n",
    "Continue to the next lesson to **[learn about conditions and conditional statements](https://www.kaggle.com/alexisbcook/conditions-and-conditional-statements)**."
   ]
  },
  {
   "cell_type": "markdown",
   "id": "1843ef43",
   "metadata": {
    "papermill": {
     "duration": 0.00797,
     "end_time": "2022-07-23T21:28:56.655916",
     "exception": false,
     "start_time": "2022-07-23T21:28:56.647946",
     "status": "completed"
    },
    "tags": []
   },
   "source": [
    "---\n",
    "\n",
    "\n",
    "\n",
    "\n",
    "*Have questions or comments? Visit the [course discussion forum](https://www.kaggle.com/learn/intro-to-programming/discussion) to chat with other learners.*"
   ]
  }
 ],
 "metadata": {
  "kernelspec": {
   "display_name": "Python 3",
   "language": "python",
   "name": "python3"
  },
  "language_info": {
   "codemirror_mode": {
    "name": "ipython",
    "version": 3
   },
   "file_extension": ".py",
   "mimetype": "text/x-python",
   "name": "python",
   "nbconvert_exporter": "python",
   "pygments_lexer": "ipython3",
   "version": "3.7.12"
  },
  "papermill": {
   "default_parameters": {},
   "duration": 10.011533,
   "end_time": "2022-07-23T21:28:57.183836",
   "environment_variables": {},
   "exception": null,
   "input_path": "__notebook__.ipynb",
   "output_path": "__notebook__.ipynb",
   "parameters": {},
   "start_time": "2022-07-23T21:28:47.172303",
   "version": "2.3.4"
  }
 },
 "nbformat": 4,
 "nbformat_minor": 5
}
