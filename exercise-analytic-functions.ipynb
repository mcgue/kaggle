{
 "cells": [
  {
   "cell_type": "markdown",
   "id": "31d76a14",
   "metadata": {
    "papermill": {
     "duration": 0.011691,
     "end_time": "2022-04-18T17:36:40.398057",
     "exception": false,
     "start_time": "2022-04-18T17:36:40.386366",
     "status": "completed"
    },
    "tags": []
   },
   "source": [
    "**This notebook is an exercise in the [Advanced SQL](https://www.kaggle.com/learn/advanced-sql) course.  You can reference the tutorial at [this link](https://www.kaggle.com/alexisbcook/analytic-functions).**\n",
    "\n",
    "---\n"
   ]
  },
  {
   "cell_type": "markdown",
   "id": "0176ea82",
   "metadata": {
    "papermill": {
     "duration": 0.01054,
     "end_time": "2022-04-18T17:36:40.419524",
     "exception": false,
     "start_time": "2022-04-18T17:36:40.408984",
     "status": "completed"
    },
    "tags": []
   },
   "source": [
    "# Introduction\n",
    "\n",
    "Here, you'll use window functions to answer questions about the [Chicago Taxi Trips](https://www.kaggle.com/chicago/chicago-taxi-trips-bq) dataset.\n",
    "\n",
    "Before you get started, run the code cell below to set everything up."
   ]
  },
  {
   "cell_type": "code",
   "execution_count": 1,
   "id": "2472c760",
   "metadata": {
    "execution": {
     "iopub.execute_input": "2022-04-18T17:36:40.443508Z",
     "iopub.status.busy": "2022-04-18T17:36:40.442960Z",
     "iopub.status.idle": "2022-04-18T17:36:55.212429Z",
     "shell.execute_reply": "2022-04-18T17:36:55.211709Z"
    },
    "papermill": {
     "duration": 14.784395,
     "end_time": "2022-04-18T17:36:55.214785",
     "exception": false,
     "start_time": "2022-04-18T17:36:40.430390",
     "status": "completed"
    },
    "tags": []
   },
   "outputs": [
    {
     "name": "stdout",
     "output_type": "stream",
     "text": [
      "Using Kaggle's public dataset BigQuery integration.\n"
     ]
    },
    {
     "name": "stderr",
     "output_type": "stream",
     "text": [
      "/opt/conda/lib/python3.7/site-packages/google/cloud/bigquery/client.py:440: UserWarning: Cannot create BigQuery Storage client, the dependency google-cloud-bigquery-storage is not installed.\n",
      "  \"Cannot create BigQuery Storage client, the dependency \"\n"
     ]
    },
    {
     "name": "stdout",
     "output_type": "stream",
     "text": [
      "Setup Complete\n"
     ]
    }
   ],
   "source": [
    "# Set up feedback system\n",
    "from learntools.core import binder\n",
    "binder.bind(globals())\n",
    "from learntools.sql_advanced.ex2 import *\n",
    "print(\"Setup Complete\")"
   ]
  },
  {
   "cell_type": "markdown",
   "id": "d09079ba",
   "metadata": {
    "papermill": {
     "duration": 0.011783,
     "end_time": "2022-04-18T17:36:55.239971",
     "exception": false,
     "start_time": "2022-04-18T17:36:55.228188",
     "status": "completed"
    },
    "tags": []
   },
   "source": [
    "The following code cell fetches the `taxi_trips` table from the `chicago_taxi_trips` dataset. We also preview the first five rows of the table.  You'll use the table to answer the questions below."
   ]
  },
  {
   "cell_type": "code",
   "execution_count": 2,
   "id": "c17ec926",
   "metadata": {
    "execution": {
     "iopub.execute_input": "2022-04-18T17:36:55.264521Z",
     "iopub.status.busy": "2022-04-18T17:36:55.264288Z",
     "iopub.status.idle": "2022-04-18T17:36:56.045156Z",
     "shell.execute_reply": "2022-04-18T17:36:56.044335Z"
    },
    "papermill": {
     "duration": 0.795568,
     "end_time": "2022-04-18T17:36:56.047360",
     "exception": false,
     "start_time": "2022-04-18T17:36:55.251792",
     "status": "completed"
    },
    "tags": []
   },
   "outputs": [
    {
     "name": "stdout",
     "output_type": "stream",
     "text": [
      "Using Kaggle's public dataset BigQuery integration.\n"
     ]
    },
    {
     "name": "stderr",
     "output_type": "stream",
     "text": [
      "/opt/conda/lib/python3.7/site-packages/ipykernel_launcher.py:19: UserWarning: Cannot use bqstorage_client if max_results is set, reverting to fetching data with the tabledata.list endpoint.\n"
     ]
    },
    {
     "data": {
      "text/html": [
       "<div>\n",
       "<style scoped>\n",
       "    .dataframe tbody tr th:only-of-type {\n",
       "        vertical-align: middle;\n",
       "    }\n",
       "\n",
       "    .dataframe tbody tr th {\n",
       "        vertical-align: top;\n",
       "    }\n",
       "\n",
       "    .dataframe thead th {\n",
       "        text-align: right;\n",
       "    }\n",
       "</style>\n",
       "<table border=\"1\" class=\"dataframe\">\n",
       "  <thead>\n",
       "    <tr style=\"text-align: right;\">\n",
       "      <th></th>\n",
       "      <th>unique_key</th>\n",
       "      <th>taxi_id</th>\n",
       "      <th>trip_start_timestamp</th>\n",
       "      <th>trip_end_timestamp</th>\n",
       "      <th>trip_seconds</th>\n",
       "      <th>trip_miles</th>\n",
       "      <th>pickup_census_tract</th>\n",
       "      <th>dropoff_census_tract</th>\n",
       "      <th>pickup_community_area</th>\n",
       "      <th>dropoff_community_area</th>\n",
       "      <th>...</th>\n",
       "      <th>extras</th>\n",
       "      <th>trip_total</th>\n",
       "      <th>payment_type</th>\n",
       "      <th>company</th>\n",
       "      <th>pickup_latitude</th>\n",
       "      <th>pickup_longitude</th>\n",
       "      <th>pickup_location</th>\n",
       "      <th>dropoff_latitude</th>\n",
       "      <th>dropoff_longitude</th>\n",
       "      <th>dropoff_location</th>\n",
       "    </tr>\n",
       "  </thead>\n",
       "  <tbody>\n",
       "    <tr>\n",
       "      <th>0</th>\n",
       "      <td>1635cc78e071c55379ba87d3d275a4f21333d213</td>\n",
       "      <td>d2602cb4eab81d9227cd17a415cec4099309d84ff8520c...</td>\n",
       "      <td>2016-09-22 11:30:00+00:00</td>\n",
       "      <td>2016-09-22 11:45:00+00:00</td>\n",
       "      <td>600</td>\n",
       "      <td>0.8</td>\n",
       "      <td>NaN</td>\n",
       "      <td>NaN</td>\n",
       "      <td>NaN</td>\n",
       "      <td>NaN</td>\n",
       "      <td>...</td>\n",
       "      <td>0.0</td>\n",
       "      <td>9.25</td>\n",
       "      <td>Credit Card</td>\n",
       "      <td>Chicago Independents</td>\n",
       "      <td>NaN</td>\n",
       "      <td>NaN</td>\n",
       "      <td>None</td>\n",
       "      <td>NaN</td>\n",
       "      <td>NaN</td>\n",
       "      <td>None</td>\n",
       "    </tr>\n",
       "    <tr>\n",
       "      <th>1</th>\n",
       "      <td>1e3168900f8090e1bab555b15210f6ad701af327</td>\n",
       "      <td>d2602cb4eab81d9227cd17a415cec4099309d84ff8520c...</td>\n",
       "      <td>2016-09-22 11:45:00+00:00</td>\n",
       "      <td>2016-09-22 12:00:00+00:00</td>\n",
       "      <td>960</td>\n",
       "      <td>7.6</td>\n",
       "      <td>NaN</td>\n",
       "      <td>NaN</td>\n",
       "      <td>NaN</td>\n",
       "      <td>NaN</td>\n",
       "      <td>...</td>\n",
       "      <td>0.0</td>\n",
       "      <td>21.50</td>\n",
       "      <td>Cash</td>\n",
       "      <td>Chicago Independents</td>\n",
       "      <td>NaN</td>\n",
       "      <td>NaN</td>\n",
       "      <td>None</td>\n",
       "      <td>NaN</td>\n",
       "      <td>NaN</td>\n",
       "      <td>None</td>\n",
       "    </tr>\n",
       "    <tr>\n",
       "      <th>2</th>\n",
       "      <td>c620405438b7bfcc6378f885f6aa56d1b8be9369</td>\n",
       "      <td>d2602cb4eab81d9227cd17a415cec4099309d84ff8520c...</td>\n",
       "      <td>2016-09-22 15:00:00+00:00</td>\n",
       "      <td>2016-09-22 15:45:00+00:00</td>\n",
       "      <td>3000</td>\n",
       "      <td>13.2</td>\n",
       "      <td>NaN</td>\n",
       "      <td>NaN</td>\n",
       "      <td>NaN</td>\n",
       "      <td>NaN</td>\n",
       "      <td>...</td>\n",
       "      <td>0.0</td>\n",
       "      <td>37.00</td>\n",
       "      <td>Cash</td>\n",
       "      <td>Chicago Independents</td>\n",
       "      <td>NaN</td>\n",
       "      <td>NaN</td>\n",
       "      <td>None</td>\n",
       "      <td>NaN</td>\n",
       "      <td>NaN</td>\n",
       "      <td>None</td>\n",
       "    </tr>\n",
       "    <tr>\n",
       "      <th>3</th>\n",
       "      <td>c8b56b9c599580efc1e4ffe36ac36cfb7ea85cbd</td>\n",
       "      <td>d2602cb4eab81d9227cd17a415cec4099309d84ff8520c...</td>\n",
       "      <td>2016-09-22 17:15:00+00:00</td>\n",
       "      <td>2016-09-22 17:45:00+00:00</td>\n",
       "      <td>2220</td>\n",
       "      <td>12.2</td>\n",
       "      <td>NaN</td>\n",
       "      <td>NaN</td>\n",
       "      <td>NaN</td>\n",
       "      <td>NaN</td>\n",
       "      <td>...</td>\n",
       "      <td>4.5</td>\n",
       "      <td>46.58</td>\n",
       "      <td>Credit Card</td>\n",
       "      <td>Chicago Independents</td>\n",
       "      <td>NaN</td>\n",
       "      <td>NaN</td>\n",
       "      <td>None</td>\n",
       "      <td>NaN</td>\n",
       "      <td>NaN</td>\n",
       "      <td>None</td>\n",
       "    </tr>\n",
       "    <tr>\n",
       "      <th>4</th>\n",
       "      <td>c876619a0a2869039533144d7105948e9cfc1951</td>\n",
       "      <td>1158f25979ad78fd3dafc867a540ad761b65922c312e61...</td>\n",
       "      <td>2016-09-19 21:00:00+00:00</td>\n",
       "      <td>2016-09-19 21:30:00+00:00</td>\n",
       "      <td>1560</td>\n",
       "      <td>15.6</td>\n",
       "      <td>NaN</td>\n",
       "      <td>NaN</td>\n",
       "      <td>NaN</td>\n",
       "      <td>NaN</td>\n",
       "      <td>...</td>\n",
       "      <td>4.0</td>\n",
       "      <td>52.40</td>\n",
       "      <td>Credit Card</td>\n",
       "      <td>Sun Taxi</td>\n",
       "      <td>NaN</td>\n",
       "      <td>NaN</td>\n",
       "      <td>None</td>\n",
       "      <td>NaN</td>\n",
       "      <td>NaN</td>\n",
       "      <td>None</td>\n",
       "    </tr>\n",
       "  </tbody>\n",
       "</table>\n",
       "<p>5 rows × 23 columns</p>\n",
       "</div>"
      ],
      "text/plain": [
       "                                 unique_key  \\\n",
       "0  1635cc78e071c55379ba87d3d275a4f21333d213   \n",
       "1  1e3168900f8090e1bab555b15210f6ad701af327   \n",
       "2  c620405438b7bfcc6378f885f6aa56d1b8be9369   \n",
       "3  c8b56b9c599580efc1e4ffe36ac36cfb7ea85cbd   \n",
       "4  c876619a0a2869039533144d7105948e9cfc1951   \n",
       "\n",
       "                                             taxi_id  \\\n",
       "0  d2602cb4eab81d9227cd17a415cec4099309d84ff8520c...   \n",
       "1  d2602cb4eab81d9227cd17a415cec4099309d84ff8520c...   \n",
       "2  d2602cb4eab81d9227cd17a415cec4099309d84ff8520c...   \n",
       "3  d2602cb4eab81d9227cd17a415cec4099309d84ff8520c...   \n",
       "4  1158f25979ad78fd3dafc867a540ad761b65922c312e61...   \n",
       "\n",
       "       trip_start_timestamp        trip_end_timestamp  trip_seconds  \\\n",
       "0 2016-09-22 11:30:00+00:00 2016-09-22 11:45:00+00:00           600   \n",
       "1 2016-09-22 11:45:00+00:00 2016-09-22 12:00:00+00:00           960   \n",
       "2 2016-09-22 15:00:00+00:00 2016-09-22 15:45:00+00:00          3000   \n",
       "3 2016-09-22 17:15:00+00:00 2016-09-22 17:45:00+00:00          2220   \n",
       "4 2016-09-19 21:00:00+00:00 2016-09-19 21:30:00+00:00          1560   \n",
       "\n",
       "   trip_miles  pickup_census_tract  dropoff_census_tract  \\\n",
       "0         0.8                  NaN                   NaN   \n",
       "1         7.6                  NaN                   NaN   \n",
       "2        13.2                  NaN                   NaN   \n",
       "3        12.2                  NaN                   NaN   \n",
       "4        15.6                  NaN                   NaN   \n",
       "\n",
       "   pickup_community_area  dropoff_community_area  ...  extras  trip_total  \\\n",
       "0                    NaN                     NaN  ...     0.0        9.25   \n",
       "1                    NaN                     NaN  ...     0.0       21.50   \n",
       "2                    NaN                     NaN  ...     0.0       37.00   \n",
       "3                    NaN                     NaN  ...     4.5       46.58   \n",
       "4                    NaN                     NaN  ...     4.0       52.40   \n",
       "\n",
       "   payment_type               company  pickup_latitude pickup_longitude  \\\n",
       "0   Credit Card  Chicago Independents              NaN              NaN   \n",
       "1          Cash  Chicago Independents              NaN              NaN   \n",
       "2          Cash  Chicago Independents              NaN              NaN   \n",
       "3   Credit Card  Chicago Independents              NaN              NaN   \n",
       "4   Credit Card              Sun Taxi              NaN              NaN   \n",
       "\n",
       "  pickup_location  dropoff_latitude  dropoff_longitude dropoff_location  \n",
       "0            None               NaN                NaN             None  \n",
       "1            None               NaN                NaN             None  \n",
       "2            None               NaN                NaN             None  \n",
       "3            None               NaN                NaN             None  \n",
       "4            None               NaN                NaN             None  \n",
       "\n",
       "[5 rows x 23 columns]"
      ]
     },
     "execution_count": 2,
     "metadata": {},
     "output_type": "execute_result"
    }
   ],
   "source": [
    "from google.cloud import bigquery\n",
    "\n",
    "# Create a \"Client\" object\n",
    "client = bigquery.Client()\n",
    "\n",
    "# Construct a reference to the \"chicago_taxi_trips\" dataset\n",
    "dataset_ref = client.dataset(\"chicago_taxi_trips\", project=\"bigquery-public-data\")\n",
    "\n",
    "# API request - fetch the dataset\n",
    "dataset = client.get_dataset(dataset_ref)\n",
    "\n",
    "# Construct a reference to the \"taxi_trips\" table\n",
    "table_ref = dataset_ref.table(\"taxi_trips\")\n",
    "\n",
    "# API request - fetch the table\n",
    "table = client.get_table(table_ref)\n",
    "\n",
    "# Preview the first five lines of the table\n",
    "client.list_rows(table, max_results=5).to_dataframe()"
   ]
  },
  {
   "cell_type": "markdown",
   "id": "e56f8614",
   "metadata": {
    "papermill": {
     "duration": 0.019786,
     "end_time": "2022-04-18T17:36:56.087345",
     "exception": false,
     "start_time": "2022-04-18T17:36:56.067559",
     "status": "completed"
    },
    "tags": []
   },
   "source": [
    "# Exercises\n",
    "\n",
    "### 1) How can you predict the demand for taxis?\n",
    "\n",
    "Say you work for a taxi company, and you're interested in predicting the demand for taxis.  Towards this goal, you'd like to create a plot that shows a rolling average of the daily number of taxi trips.  Amend the (partial) query below to return a DataFrame with two columns:\n",
    "- `trip_date` - contains one entry for each date from January 1, 2016, to December 31, 2017.\n",
    "- `avg_num_trips` - shows the average number of daily trips, calculated over a window including the value for the current date, along with the values for the preceding 15 days and the following 15 days, as long as the days fit within the two-year time frame.  For instance, when calculating the value in this column for January 5, 2016, the window will include the number of trips for the preceding 4 days, the current date, and the following 15 days.\n",
    "\n",
    "This query is partially completed for you, and you need only write the part that calculates the `avg_num_trips` column.  Note that this query uses a common table expression (CTE); if you need to review how to use CTEs, you're encouraged to check out [this tutorial](https://www.kaggle.com/dansbecker/as-with) in the [Intro to SQL](https://www.kaggle.com/learn/intro-to-sql) micro-course."
   ]
  },
  {
   "cell_type": "code",
   "execution_count": 3,
   "id": "c0b3e87e",
   "metadata": {
    "execution": {
     "iopub.execute_input": "2022-04-18T17:36:56.127386Z",
     "iopub.status.busy": "2022-04-18T17:36:56.127167Z",
     "iopub.status.idle": "2022-04-18T17:36:56.956356Z",
     "shell.execute_reply": "2022-04-18T17:36:56.955714Z"
    },
    "papermill": {
     "duration": 0.851894,
     "end_time": "2022-04-18T17:36:56.958657",
     "exception": false,
     "start_time": "2022-04-18T17:36:56.106763",
     "status": "completed"
    },
    "tags": []
   },
   "outputs": [
    {
     "name": "stderr",
     "output_type": "stream",
     "text": [
      "/opt/conda/lib/python3.7/site-packages/google/cloud/bigquery/client.py:440: UserWarning: Cannot create BigQuery Storage client, the dependency google-cloud-bigquery-storage is not installed.\n",
      "  \"Cannot create BigQuery Storage client, the dependency \"\n"
     ]
    },
    {
     "data": {
      "text/html": [
       "<div>\n",
       "<style scoped>\n",
       "    .dataframe tbody tr th:only-of-type {\n",
       "        vertical-align: middle;\n",
       "    }\n",
       "\n",
       "    .dataframe tbody tr th {\n",
       "        vertical-align: top;\n",
       "    }\n",
       "\n",
       "    .dataframe thead th {\n",
       "        text-align: right;\n",
       "    }\n",
       "</style>\n",
       "<table border=\"1\" class=\"dataframe\">\n",
       "  <thead>\n",
       "    <tr style=\"text-align: right;\">\n",
       "      <th></th>\n",
       "      <th>trip_date</th>\n",
       "      <th>avg_num_trips</th>\n",
       "    </tr>\n",
       "  </thead>\n",
       "  <tbody>\n",
       "    <tr>\n",
       "      <th>0</th>\n",
       "      <td>2016-01-01</td>\n",
       "      <td>80461.937500</td>\n",
       "    </tr>\n",
       "    <tr>\n",
       "      <th>1</th>\n",
       "      <td>2016-01-02</td>\n",
       "      <td>80150.647059</td>\n",
       "    </tr>\n",
       "    <tr>\n",
       "      <th>2</th>\n",
       "      <td>2016-01-03</td>\n",
       "      <td>79419.611111</td>\n",
       "    </tr>\n",
       "    <tr>\n",
       "      <th>3</th>\n",
       "      <td>2016-01-04</td>\n",
       "      <td>79810.421053</td>\n",
       "    </tr>\n",
       "    <tr>\n",
       "      <th>4</th>\n",
       "      <td>2016-01-05</td>\n",
       "      <td>80293.900000</td>\n",
       "    </tr>\n",
       "  </tbody>\n",
       "</table>\n",
       "</div>"
      ],
      "text/plain": [
       "    trip_date  avg_num_trips\n",
       "0  2016-01-01   80461.937500\n",
       "1  2016-01-02   80150.647059\n",
       "2  2016-01-03   79419.611111\n",
       "3  2016-01-04   79810.421053\n",
       "4  2016-01-05   80293.900000"
      ]
     },
     "metadata": {},
     "output_type": "display_data"
    },
    {
     "data": {
      "application/javascript": [
       "parent.postMessage({\"jupyterEvent\": \"custom.exercise_interaction\", \"data\": {\"outcomeType\": 1, \"valueTowardsCompletion\": 0.3333333333333333, \"interactionType\": 1, \"questionType\": 2, \"questionId\": \"1_TaxiDemand\", \"learnToolsVersion\": \"0.3.4\", \"failureMessage\": \"\", \"exceptionClass\": \"\", \"trace\": \"\"}}, \"*\")"
      ],
      "text/plain": [
       "<IPython.core.display.Javascript object>"
      ]
     },
     "metadata": {},
     "output_type": "display_data"
    },
    {
     "data": {
      "text/markdown": [
       "<span style=\"color:#33cc33\">Correct</span>"
      ],
      "text/plain": [
       "Correct"
      ]
     },
     "metadata": {},
     "output_type": "display_data"
    }
   ],
   "source": [
    "# Fill in the blank below\n",
    "avg_num_trips_query = \"\"\"\n",
    "                      WITH trips_by_day AS\n",
    "                      (\n",
    "                      SELECT DATE(trip_start_timestamp) AS trip_date,\n",
    "                          COUNT(*) as num_trips\n",
    "                      FROM `bigquery-public-data.chicago_taxi_trips.taxi_trips`\n",
    "                      WHERE trip_start_timestamp >= '2016-01-01' AND trip_start_timestamp < '2018-01-01'\n",
    "                      GROUP BY trip_date\n",
    "                      ORDER BY trip_date\n",
    "                      )\n",
    "                      SELECT trip_date,\n",
    "                          AVG(num_trips)\n",
    "                          OVER (\n",
    "                               ORDER BY trip_date\n",
    "                               ROWS BETWEEN 15 PRECEDING AND 15 FOLLOWING\n",
    "                               ) AS avg_num_trips\n",
    "                      FROM trips_by_day\n",
    "                      \"\"\"\n",
    "\n",
    "# Check your answer\n",
    "q_1.check()"
   ]
  },
  {
   "cell_type": "code",
   "execution_count": 4,
   "id": "ca0f7936",
   "metadata": {
    "execution": {
     "iopub.execute_input": "2022-04-18T17:36:57.005603Z",
     "iopub.status.busy": "2022-04-18T17:36:57.005372Z",
     "iopub.status.idle": "2022-04-18T17:36:57.008905Z",
     "shell.execute_reply": "2022-04-18T17:36:57.008146Z"
    },
    "papermill": {
     "duration": 0.029401,
     "end_time": "2022-04-18T17:36:57.011182",
     "exception": false,
     "start_time": "2022-04-18T17:36:56.981781",
     "status": "completed"
    },
    "tags": []
   },
   "outputs": [],
   "source": [
    "# Lines below will give you a hint or solution code\n",
    "#q_1.hint()\n",
    "#q_1.solution()"
   ]
  },
  {
   "cell_type": "markdown",
   "id": "df280a68",
   "metadata": {
    "papermill": {
     "duration": 0.022382,
     "end_time": "2022-04-18T17:36:57.056270",
     "exception": false,
     "start_time": "2022-04-18T17:36:57.033888",
     "status": "completed"
    },
    "tags": []
   },
   "source": [
    "### 2) Can you separate and order trips by community area?\n",
    "\n",
    "The query below returns a DataFrame with three columns from the table: `pickup_community_area`, `trip_start_timestamp`, and `trip_end_timestamp`.  \n",
    "\n",
    "Amend the query to return an additional column called `trip_number` which shows the order in which the trips were taken from their respective community areas.  So, the first trip of the day originating from community area 1 should receive a value of 1; the second trip of the day from the same area should receive a value of 2.  Likewise, the first trip of the day from community area 2 should receive a value of 1, and so on.\n",
    "\n",
    "Note that there are many numbering functions that can be used to solve this problem (depending on how you want to deal with trips that started at the same time from the same community area); to answer this question, please use the **RANK()** function."
   ]
  },
  {
   "cell_type": "code",
   "execution_count": 5,
   "id": "b64b05e7",
   "metadata": {
    "execution": {
     "iopub.execute_input": "2022-04-18T17:36:57.103825Z",
     "iopub.status.busy": "2022-04-18T17:36:57.103562Z",
     "iopub.status.idle": "2022-04-18T17:37:00.887759Z",
     "shell.execute_reply": "2022-04-18T17:37:00.886810Z"
    },
    "papermill": {
     "duration": 3.810816,
     "end_time": "2022-04-18T17:37:00.889339",
     "exception": false,
     "start_time": "2022-04-18T17:36:57.078523",
     "status": "completed"
    },
    "tags": []
   },
   "outputs": [
    {
     "name": "stderr",
     "output_type": "stream",
     "text": [
      "/opt/conda/lib/python3.7/site-packages/google/cloud/bigquery/client.py:440: UserWarning: Cannot create BigQuery Storage client, the dependency google-cloud-bigquery-storage is not installed.\n",
      "  \"Cannot create BigQuery Storage client, the dependency \"\n"
     ]
    },
    {
     "data": {
      "text/html": [
       "<div>\n",
       "<style scoped>\n",
       "    .dataframe tbody tr th:only-of-type {\n",
       "        vertical-align: middle;\n",
       "    }\n",
       "\n",
       "    .dataframe tbody tr th {\n",
       "        vertical-align: top;\n",
       "    }\n",
       "\n",
       "    .dataframe thead th {\n",
       "        text-align: right;\n",
       "    }\n",
       "</style>\n",
       "<table border=\"1\" class=\"dataframe\">\n",
       "  <thead>\n",
       "    <tr style=\"text-align: right;\">\n",
       "      <th></th>\n",
       "      <th>pickup_community_area</th>\n",
       "      <th>trip_start_timestamp</th>\n",
       "      <th>trip_end_timestamp</th>\n",
       "      <th>trip_number</th>\n",
       "    </tr>\n",
       "  </thead>\n",
       "  <tbody>\n",
       "    <tr>\n",
       "      <th>0</th>\n",
       "      <td>63.0</td>\n",
       "      <td>2017-05-01 07:45:00+00:00</td>\n",
       "      <td>2017-05-01 07:45:00+00:00</td>\n",
       "      <td>1</td>\n",
       "    </tr>\n",
       "    <tr>\n",
       "      <th>1</th>\n",
       "      <td>63.0</td>\n",
       "      <td>2017-05-01 13:15:00+00:00</td>\n",
       "      <td>2017-05-01 13:30:00+00:00</td>\n",
       "      <td>2</td>\n",
       "    </tr>\n",
       "    <tr>\n",
       "      <th>2</th>\n",
       "      <td>63.0</td>\n",
       "      <td>2017-05-01 16:15:00+00:00</td>\n",
       "      <td>2017-05-01 17:00:00+00:00</td>\n",
       "      <td>3</td>\n",
       "    </tr>\n",
       "    <tr>\n",
       "      <th>3</th>\n",
       "      <td>63.0</td>\n",
       "      <td>2017-05-01 16:45:00+00:00</td>\n",
       "      <td>2017-05-01 17:15:00+00:00</td>\n",
       "      <td>4</td>\n",
       "    </tr>\n",
       "    <tr>\n",
       "      <th>4</th>\n",
       "      <td>63.0</td>\n",
       "      <td>2017-05-01 20:00:00+00:00</td>\n",
       "      <td>2017-05-01 20:30:00+00:00</td>\n",
       "      <td>5</td>\n",
       "    </tr>\n",
       "  </tbody>\n",
       "</table>\n",
       "</div>"
      ],
      "text/plain": [
       "   pickup_community_area      trip_start_timestamp        trip_end_timestamp  \\\n",
       "0                   63.0 2017-05-01 07:45:00+00:00 2017-05-01 07:45:00+00:00   \n",
       "1                   63.0 2017-05-01 13:15:00+00:00 2017-05-01 13:30:00+00:00   \n",
       "2                   63.0 2017-05-01 16:15:00+00:00 2017-05-01 17:00:00+00:00   \n",
       "3                   63.0 2017-05-01 16:45:00+00:00 2017-05-01 17:15:00+00:00   \n",
       "4                   63.0 2017-05-01 20:00:00+00:00 2017-05-01 20:30:00+00:00   \n",
       "\n",
       "   trip_number  \n",
       "0            1  \n",
       "1            2  \n",
       "2            3  \n",
       "3            4  \n",
       "4            5  "
      ]
     },
     "metadata": {},
     "output_type": "display_data"
    },
    {
     "data": {
      "application/javascript": [
       "parent.postMessage({\"jupyterEvent\": \"custom.exercise_interaction\", \"data\": {\"outcomeType\": 1, \"valueTowardsCompletion\": 0.3333333333333333, \"interactionType\": 1, \"questionType\": 2, \"questionId\": \"2_CommunityArea\", \"learnToolsVersion\": \"0.3.4\", \"failureMessage\": \"\", \"exceptionClass\": \"\", \"trace\": \"\"}}, \"*\")"
      ],
      "text/plain": [
       "<IPython.core.display.Javascript object>"
      ]
     },
     "metadata": {},
     "output_type": "display_data"
    },
    {
     "data": {
      "text/markdown": [
       "<span style=\"color:#33cc33\">Correct</span>"
      ],
      "text/plain": [
       "Correct"
      ]
     },
     "metadata": {},
     "output_type": "display_data"
    }
   ],
   "source": [
    "# Amend the query below\n",
    "trip_number_query = \"\"\"\n",
    "                    SELECT pickup_community_area,\n",
    "                        trip_start_timestamp,\n",
    "                        trip_end_timestamp,\n",
    "                        RANK() \n",
    "                            OVER(\n",
    "                                PARTITION BY pickup_community_area \n",
    "                                ORDER BY trip_start_timestamp\n",
    "                                ) as trip_number\n",
    "                    FROM `bigquery-public-data.chicago_taxi_trips.taxi_trips`\n",
    "                    WHERE DATE(trip_start_timestamp) = '2017-05-01'\n",
    "                    \"\"\"\n",
    "\n",
    "# Check your answer\n",
    "q_2.check()"
   ]
  },
  {
   "cell_type": "code",
   "execution_count": 6,
   "id": "a36979b7",
   "metadata": {
    "execution": {
     "iopub.execute_input": "2022-04-18T17:37:00.924683Z",
     "iopub.status.busy": "2022-04-18T17:37:00.924121Z",
     "iopub.status.idle": "2022-04-18T17:37:00.926780Z",
     "shell.execute_reply": "2022-04-18T17:37:00.926419Z"
    },
    "papermill": {
     "duration": 0.021816,
     "end_time": "2022-04-18T17:37:00.928224",
     "exception": false,
     "start_time": "2022-04-18T17:37:00.906408",
     "status": "completed"
    },
    "tags": []
   },
   "outputs": [],
   "source": [
    "# Lines below will give you a hint or solution code\n",
    "#q_2.hint()\n",
    "#q_2.solution()"
   ]
  },
  {
   "cell_type": "markdown",
   "id": "6a55b285",
   "metadata": {
    "papermill": {
     "duration": 0.016437,
     "end_time": "2022-04-18T17:37:00.961581",
     "exception": false,
     "start_time": "2022-04-18T17:37:00.945144",
     "status": "completed"
    },
    "tags": []
   },
   "source": [
    "### 3) How much time elapses between trips?\n",
    "\n",
    "The (partial) query in the code cell below shows, for each trip in the selected time frame, the corresponding `taxi_id`, `trip_start_timestamp`, and `trip_end_timestamp`. \n",
    "\n",
    "Your task in this exercise is to edit the query to include an additional `prev_break` column that shows the length of the break (in minutes) that the driver had before each trip started (this corresponds to the time between `trip_start_timestamp` of the current trip and `trip_end_timestamp` of the previous trip).  Partition the calculation by `taxi_id`, and order the results within each partition by `trip_start_timestamp`.\n",
    "\n",
    "Some sample results are shown below, where all rows correspond to the same driver (or `taxi_id`).  Take the time now to make sure that the values in the `prev_break` column make sense to you!\n",
    "\n",
    "![first_commands](https://i.imgur.com/qjvQzg8.png)\n",
    "\n",
    "Note that the first trip of the day for each driver should have a value of **NaN** (not a number) in the `prev_break` column."
   ]
  },
  {
   "cell_type": "code",
   "execution_count": 7,
   "id": "e498904f",
   "metadata": {
    "execution": {
     "iopub.execute_input": "2022-04-18T17:37:00.997743Z",
     "iopub.status.busy": "2022-04-18T17:37:00.997527Z",
     "iopub.status.idle": "2022-04-18T17:37:11.240154Z",
     "shell.execute_reply": "2022-04-18T17:37:11.239456Z"
    },
    "papermill": {
     "duration": 10.262987,
     "end_time": "2022-04-18T17:37:11.241636",
     "exception": false,
     "start_time": "2022-04-18T17:37:00.978649",
     "status": "completed"
    },
    "tags": []
   },
   "outputs": [
    {
     "name": "stderr",
     "output_type": "stream",
     "text": [
      "/opt/conda/lib/python3.7/site-packages/google/cloud/bigquery/client.py:440: UserWarning: Cannot create BigQuery Storage client, the dependency google-cloud-bigquery-storage is not installed.\n",
      "  \"Cannot create BigQuery Storage client, the dependency \"\n"
     ]
    },
    {
     "data": {
      "text/html": [
       "<div>\n",
       "<style scoped>\n",
       "    .dataframe tbody tr th:only-of-type {\n",
       "        vertical-align: middle;\n",
       "    }\n",
       "\n",
       "    .dataframe tbody tr th {\n",
       "        vertical-align: top;\n",
       "    }\n",
       "\n",
       "    .dataframe thead th {\n",
       "        text-align: right;\n",
       "    }\n",
       "</style>\n",
       "<table border=\"1\" class=\"dataframe\">\n",
       "  <thead>\n",
       "    <tr style=\"text-align: right;\">\n",
       "      <th></th>\n",
       "      <th>taxi_id</th>\n",
       "      <th>trip_start_timestamp</th>\n",
       "      <th>trip_end_timestamp</th>\n",
       "      <th>prev_break</th>\n",
       "    </tr>\n",
       "  </thead>\n",
       "  <tbody>\n",
       "    <tr>\n",
       "      <th>0</th>\n",
       "      <td>0d0f699c5e82bbe8bacb23698b7a5371321b66d3835b18...</td>\n",
       "      <td>2017-05-01 06:15:00+00:00</td>\n",
       "      <td>2017-05-01 06:30:00+00:00</td>\n",
       "      <td>NaN</td>\n",
       "    </tr>\n",
       "    <tr>\n",
       "      <th>1</th>\n",
       "      <td>0efcdf71809e8156defa99d541c76837db2ab944a62e41...</td>\n",
       "      <td>2017-05-01 03:30:00+00:00</td>\n",
       "      <td>2017-05-01 03:30:00+00:00</td>\n",
       "      <td>NaN</td>\n",
       "    </tr>\n",
       "    <tr>\n",
       "      <th>2</th>\n",
       "      <td>0efcdf71809e8156defa99d541c76837db2ab944a62e41...</td>\n",
       "      <td>2017-05-01 03:45:00+00:00</td>\n",
       "      <td>2017-05-01 03:45:00+00:00</td>\n",
       "      <td>15.0</td>\n",
       "    </tr>\n",
       "    <tr>\n",
       "      <th>3</th>\n",
       "      <td>0efcdf71809e8156defa99d541c76837db2ab944a62e41...</td>\n",
       "      <td>2017-05-01 04:00:00+00:00</td>\n",
       "      <td>2017-05-01 04:30:00+00:00</td>\n",
       "      <td>15.0</td>\n",
       "    </tr>\n",
       "    <tr>\n",
       "      <th>4</th>\n",
       "      <td>0efcdf71809e8156defa99d541c76837db2ab944a62e41...</td>\n",
       "      <td>2017-05-01 04:30:00+00:00</td>\n",
       "      <td>2017-05-01 04:45:00+00:00</td>\n",
       "      <td>0.0</td>\n",
       "    </tr>\n",
       "  </tbody>\n",
       "</table>\n",
       "</div>"
      ],
      "text/plain": [
       "                                             taxi_id  \\\n",
       "0  0d0f699c5e82bbe8bacb23698b7a5371321b66d3835b18...   \n",
       "1  0efcdf71809e8156defa99d541c76837db2ab944a62e41...   \n",
       "2  0efcdf71809e8156defa99d541c76837db2ab944a62e41...   \n",
       "3  0efcdf71809e8156defa99d541c76837db2ab944a62e41...   \n",
       "4  0efcdf71809e8156defa99d541c76837db2ab944a62e41...   \n",
       "\n",
       "       trip_start_timestamp        trip_end_timestamp  prev_break  \n",
       "0 2017-05-01 06:15:00+00:00 2017-05-01 06:30:00+00:00         NaN  \n",
       "1 2017-05-01 03:30:00+00:00 2017-05-01 03:30:00+00:00         NaN  \n",
       "2 2017-05-01 03:45:00+00:00 2017-05-01 03:45:00+00:00        15.0  \n",
       "3 2017-05-01 04:00:00+00:00 2017-05-01 04:30:00+00:00        15.0  \n",
       "4 2017-05-01 04:30:00+00:00 2017-05-01 04:45:00+00:00         0.0  "
      ]
     },
     "metadata": {},
     "output_type": "display_data"
    },
    {
     "data": {
      "application/javascript": [
       "parent.postMessage({\"jupyterEvent\": \"custom.exercise_interaction\", \"data\": {\"outcomeType\": 1, \"valueTowardsCompletion\": 0.3333333333333333, \"interactionType\": 1, \"questionType\": 2, \"questionId\": \"3_BreakTime\", \"learnToolsVersion\": \"0.3.4\", \"failureMessage\": \"\", \"exceptionClass\": \"\", \"trace\": \"\"}}, \"*\")"
      ],
      "text/plain": [
       "<IPython.core.display.Javascript object>"
      ]
     },
     "metadata": {},
     "output_type": "display_data"
    },
    {
     "data": {
      "text/markdown": [
       "<span style=\"color:#33cc33\">Correct</span>"
      ],
      "text/plain": [
       "Correct"
      ]
     },
     "metadata": {},
     "output_type": "display_data"
    }
   ],
   "source": [
    "# Fill in the blanks below\n",
    "break_time_query = \"\"\"\n",
    "                   SELECT taxi_id,\n",
    "                       trip_start_timestamp,\n",
    "                       trip_end_timestamp,\n",
    "                       TIMESTAMP_DIFF(\n",
    "                           trip_start_timestamp, \n",
    "                           LAG(trip_end_timestamp, 1)\n",
    "                               OVER (\n",
    "                                    PARTITION BY taxi_id\n",
    "                                    ORDER BY trip_start_timestamp), \n",
    "                           MINUTE) as prev_break\n",
    "                   FROM `bigquery-public-data.chicago_taxi_trips.taxi_trips`\n",
    "                   WHERE DATE(trip_start_timestamp) = '2017-05-01' \n",
    "                   \"\"\"\n",
    "\n",
    "# Check your answer\n",
    "q_3.check()"
   ]
  },
  {
   "cell_type": "code",
   "execution_count": 8,
   "id": "4afce50e",
   "metadata": {
    "execution": {
     "iopub.execute_input": "2022-04-18T17:37:11.280286Z",
     "iopub.status.busy": "2022-04-18T17:37:11.280054Z",
     "iopub.status.idle": "2022-04-18T17:37:11.282751Z",
     "shell.execute_reply": "2022-04-18T17:37:11.282213Z"
    },
    "papermill": {
     "duration": 0.023591,
     "end_time": "2022-04-18T17:37:11.284110",
     "exception": false,
     "start_time": "2022-04-18T17:37:11.260519",
     "status": "completed"
    },
    "tags": []
   },
   "outputs": [],
   "source": [
    "# Lines below will give you a hint or solution code\n",
    "#q_3.hint()\n",
    "#q_3.solution()"
   ]
  },
  {
   "cell_type": "markdown",
   "id": "dec11bf7",
   "metadata": {
    "papermill": {
     "duration": 0.0188,
     "end_time": "2022-04-18T17:37:11.322149",
     "exception": false,
     "start_time": "2022-04-18T17:37:11.303349",
     "status": "completed"
    },
    "tags": []
   },
   "source": [
    "# Keep going\n",
    "\n",
    "Move on to learn how to query **[nested and repeated data](https://www.kaggle.com/alexisbcook/nested-and-repeated-data)**."
   ]
  },
  {
   "cell_type": "markdown",
   "id": "c3fb4e79",
   "metadata": {
    "papermill": {
     "duration": 0.018826,
     "end_time": "2022-04-18T17:37:11.360102",
     "exception": false,
     "start_time": "2022-04-18T17:37:11.341276",
     "status": "completed"
    },
    "tags": []
   },
   "source": [
    "---\n",
    "\n",
    "\n",
    "\n",
    "\n",
    "*Have questions or comments? Visit the [course discussion forum](https://www.kaggle.com/learn/advanced-sql/discussion) to chat with other learners.*"
   ]
  }
 ],
 "metadata": {
  "kernelspec": {
   "display_name": "Python 3",
   "language": "python",
   "name": "python3"
  },
  "language_info": {
   "codemirror_mode": {
    "name": "ipython",
    "version": 3
   },
   "file_extension": ".py",
   "mimetype": "text/x-python",
   "name": "python",
   "nbconvert_exporter": "python",
   "pygments_lexer": "ipython3",
   "version": "3.7.12"
  },
  "papermill": {
   "default_parameters": {},
   "duration": 41.04849,
   "end_time": "2022-04-18T17:37:12.099496",
   "environment_variables": {},
   "exception": null,
   "input_path": "__notebook__.ipynb",
   "output_path": "__notebook__.ipynb",
   "parameters": {},
   "start_time": "2022-04-18T17:36:31.051006",
   "version": "2.3.4"
  }
 },
 "nbformat": 4,
 "nbformat_minor": 5
}
