{
 "cells": [
  {
   "cell_type": "markdown",
   "id": "b5e287c8",
   "metadata": {
    "papermill": {
     "duration": 0.019326,
     "end_time": "2022-03-04T19:48:21.569520",
     "exception": false,
     "start_time": "2022-03-04T19:48:21.550194",
     "status": "completed"
    },
    "tags": []
   },
   "source": [
    "**This notebook is an exercise in the [Pandas](https://www.kaggle.com/learn/pandas) course.  You can reference the tutorial at [this link](https://www.kaggle.com/residentmario/creating-reading-and-writing).**\n",
    "\n",
    "---\n"
   ]
  },
  {
   "cell_type": "markdown",
   "id": "baa888da",
   "metadata": {
    "papermill": {
     "duration": 0.01787,
     "end_time": "2022-03-04T19:48:21.608344",
     "exception": false,
     "start_time": "2022-03-04T19:48:21.590474",
     "status": "completed"
    },
    "tags": []
   },
   "source": [
    "# Introduction\n",
    "\n",
    "The first step in most data analytics projects is reading the data file. In this exercise, you'll create Series and DataFrame objects, both by hand and by reading data files.\n",
    "\n",
    "Run the code cell below to load libraries you will need (including code to check your answers)."
   ]
  },
  {
   "cell_type": "code",
   "execution_count": 1,
   "id": "00a962ab",
   "metadata": {
    "execution": {
     "iopub.execute_input": "2022-03-04T19:48:21.649257Z",
     "iopub.status.busy": "2022-03-04T19:48:21.648054Z",
     "iopub.status.idle": "2022-03-04T19:48:23.271410Z",
     "shell.execute_reply": "2022-03-04T19:48:23.272076Z",
     "shell.execute_reply.started": "2022-03-04T19:46:25.189698Z"
    },
    "papermill": {
     "duration": 1.645579,
     "end_time": "2022-03-04T19:48:23.272390",
     "exception": false,
     "start_time": "2022-03-04T19:48:21.626811",
     "status": "completed"
    },
    "tags": []
   },
   "outputs": [
    {
     "name": "stdout",
     "output_type": "stream",
     "text": [
      "Setup complete.\n"
     ]
    }
   ],
   "source": [
    "import pandas as pd\n",
    "pd.set_option('max_rows', 5)\n",
    "from learntools.core import binder; binder.bind(globals())\n",
    "from learntools.pandas.creating_reading_and_writing import *\n",
    "print(\"Setup complete.\")"
   ]
  },
  {
   "cell_type": "markdown",
   "id": "2a3c56b0",
   "metadata": {
    "papermill": {
     "duration": 0.019222,
     "end_time": "2022-03-04T19:48:23.311861",
     "exception": false,
     "start_time": "2022-03-04T19:48:23.292639",
     "status": "completed"
    },
    "tags": []
   },
   "source": [
    "# Exercises"
   ]
  },
  {
   "cell_type": "markdown",
   "id": "969c3755",
   "metadata": {
    "papermill": {
     "duration": 0.018044,
     "end_time": "2022-03-04T19:48:23.348251",
     "exception": false,
     "start_time": "2022-03-04T19:48:23.330207",
     "status": "completed"
    },
    "tags": []
   },
   "source": [
    "## 1.\n",
    "\n",
    "In the cell below, create a DataFrame `fruits` that looks like this:\n",
    "\n",
    "![](https://i.imgur.com/Ax3pp2A.png)"
   ]
  },
  {
   "cell_type": "code",
   "execution_count": 2,
   "id": "28662221",
   "metadata": {
    "execution": {
     "iopub.execute_input": "2022-03-04T19:48:23.387629Z",
     "iopub.status.busy": "2022-03-04T19:48:23.387020Z",
     "iopub.status.idle": "2022-03-04T19:48:23.406043Z",
     "shell.execute_reply": "2022-03-04T19:48:23.406599Z",
     "shell.execute_reply.started": "2022-03-04T19:46:26.770582Z"
    },
    "papermill": {
     "duration": 0.04043,
     "end_time": "2022-03-04T19:48:23.406779",
     "exception": false,
     "start_time": "2022-03-04T19:48:23.366349",
     "status": "completed"
    },
    "tags": []
   },
   "outputs": [
    {
     "data": {
      "application/javascript": [
       "parent.postMessage({\"jupyterEvent\": \"custom.exercise_interaction\", \"data\": {\"outcomeType\": 1, \"valueTowardsCompletion\": 0.16666666666666666, \"interactionType\": 1, \"questionType\": 1, \"questionId\": \"1_FruitDfCreation\", \"learnToolsVersion\": \"0.3.4\", \"failureMessage\": \"\", \"exceptionClass\": \"\", \"trace\": \"\"}}, \"*\")"
      ],
      "text/plain": [
       "<IPython.core.display.Javascript object>"
      ]
     },
     "metadata": {},
     "output_type": "display_data"
    },
    {
     "data": {
      "text/markdown": [
       "<span style=\"color:#33cc33\">Correct</span>"
      ],
      "text/plain": [
       "Correct"
      ]
     },
     "metadata": {},
     "output_type": "display_data"
    },
    {
     "data": {
      "text/html": [
       "<div>\n",
       "<style scoped>\n",
       "    .dataframe tbody tr th:only-of-type {\n",
       "        vertical-align: middle;\n",
       "    }\n",
       "\n",
       "    .dataframe tbody tr th {\n",
       "        vertical-align: top;\n",
       "    }\n",
       "\n",
       "    .dataframe thead th {\n",
       "        text-align: right;\n",
       "    }\n",
       "</style>\n",
       "<table border=\"1\" class=\"dataframe\">\n",
       "  <thead>\n",
       "    <tr style=\"text-align: right;\">\n",
       "      <th></th>\n",
       "      <th>Apples</th>\n",
       "      <th>Bananas</th>\n",
       "    </tr>\n",
       "  </thead>\n",
       "  <tbody>\n",
       "    <tr>\n",
       "      <th>0</th>\n",
       "      <td>30</td>\n",
       "      <td>21</td>\n",
       "    </tr>\n",
       "  </tbody>\n",
       "</table>\n",
       "</div>"
      ],
      "text/plain": [
       "   Apples  Bananas\n",
       "0      30       21"
      ]
     },
     "execution_count": 2,
     "metadata": {},
     "output_type": "execute_result"
    }
   ],
   "source": [
    "# Your code goes here. Create a dataframe matching the above diagram and assign it to the variable fruits.\n",
    "fruits = pd.DataFrame({'Apples': [30], \n",
    "              'Bananas': [21]},\n",
    "             index=[0])\n",
    "\n",
    "# Check your answer\n",
    "q1.check()\n",
    "fruits"
   ]
  },
  {
   "cell_type": "code",
   "execution_count": 3,
   "id": "dafb8605",
   "metadata": {
    "execution": {
     "iopub.execute_input": "2022-03-04T19:48:23.449703Z",
     "iopub.status.busy": "2022-03-04T19:48:23.449115Z",
     "iopub.status.idle": "2022-03-04T19:48:23.451773Z",
     "shell.execute_reply": "2022-03-04T19:48:23.452377Z"
    },
    "papermill": {
     "duration": 0.025859,
     "end_time": "2022-03-04T19:48:23.452536",
     "exception": false,
     "start_time": "2022-03-04T19:48:23.426677",
     "status": "completed"
    },
    "tags": []
   },
   "outputs": [],
   "source": [
    "#q1.hint()\n",
    "#q1.solution()"
   ]
  },
  {
   "cell_type": "markdown",
   "id": "9791fd48",
   "metadata": {
    "papermill": {
     "duration": 0.019758,
     "end_time": "2022-03-04T19:48:23.492281",
     "exception": false,
     "start_time": "2022-03-04T19:48:23.472523",
     "status": "completed"
    },
    "tags": []
   },
   "source": [
    "## 2.\n",
    "\n",
    "Create a dataframe `fruit_sales` that matches the diagram below:\n",
    "\n",
    "![](https://i.imgur.com/CHPn7ZF.png)"
   ]
  },
  {
   "cell_type": "code",
   "execution_count": 4,
   "id": "40650238",
   "metadata": {
    "execution": {
     "iopub.execute_input": "2022-03-04T19:48:23.537626Z",
     "iopub.status.busy": "2022-03-04T19:48:23.536984Z",
     "iopub.status.idle": "2022-03-04T19:48:23.550200Z",
     "shell.execute_reply": "2022-03-04T19:48:23.550824Z",
     "shell.execute_reply.started": "2022-03-04T19:47:51.518313Z"
    },
    "papermill": {
     "duration": 0.038557,
     "end_time": "2022-03-04T19:48:23.551016",
     "exception": false,
     "start_time": "2022-03-04T19:48:23.512459",
     "status": "completed"
    },
    "tags": []
   },
   "outputs": [
    {
     "data": {
      "application/javascript": [
       "parent.postMessage({\"jupyterEvent\": \"custom.exercise_interaction\", \"data\": {\"outcomeType\": 1, \"valueTowardsCompletion\": 0.16666666666666666, \"interactionType\": 1, \"questionType\": 1, \"questionId\": \"2_FruitSalesDfCreation\", \"learnToolsVersion\": \"0.3.4\", \"failureMessage\": \"\", \"exceptionClass\": \"\", \"trace\": \"\"}}, \"*\")"
      ],
      "text/plain": [
       "<IPython.core.display.Javascript object>"
      ]
     },
     "metadata": {},
     "output_type": "display_data"
    },
    {
     "data": {
      "text/markdown": [
       "<span style=\"color:#33cc33\">Correct</span>"
      ],
      "text/plain": [
       "Correct"
      ]
     },
     "metadata": {},
     "output_type": "display_data"
    },
    {
     "data": {
      "text/html": [
       "<div>\n",
       "<style scoped>\n",
       "    .dataframe tbody tr th:only-of-type {\n",
       "        vertical-align: middle;\n",
       "    }\n",
       "\n",
       "    .dataframe tbody tr th {\n",
       "        vertical-align: top;\n",
       "    }\n",
       "\n",
       "    .dataframe thead th {\n",
       "        text-align: right;\n",
       "    }\n",
       "</style>\n",
       "<table border=\"1\" class=\"dataframe\">\n",
       "  <thead>\n",
       "    <tr style=\"text-align: right;\">\n",
       "      <th></th>\n",
       "      <th>Apples</th>\n",
       "      <th>Bananas</th>\n",
       "    </tr>\n",
       "  </thead>\n",
       "  <tbody>\n",
       "    <tr>\n",
       "      <th>2017 Sales</th>\n",
       "      <td>35</td>\n",
       "      <td>21</td>\n",
       "    </tr>\n",
       "    <tr>\n",
       "      <th>2018 Sales</th>\n",
       "      <td>41</td>\n",
       "      <td>34</td>\n",
       "    </tr>\n",
       "  </tbody>\n",
       "</table>\n",
       "</div>"
      ],
      "text/plain": [
       "            Apples  Bananas\n",
       "2017 Sales      35       21\n",
       "2018 Sales      41       34"
      ]
     },
     "execution_count": 4,
     "metadata": {},
     "output_type": "execute_result"
    }
   ],
   "source": [
    "# Your code goes here. Create a dataframe matching the above diagram and assign it to the variable fruit_sales.\n",
    "fruit_sales = pd.DataFrame({'Apples': [35,41], \n",
    "              'Bananas': [21, 34]},\n",
    "             index=['2017 Sales', '2018 Sales'])\n",
    "\n",
    "# Check your answer\n",
    "q2.check()\n",
    "fruit_sales"
   ]
  },
  {
   "cell_type": "code",
   "execution_count": 5,
   "id": "29bc8e21",
   "metadata": {
    "execution": {
     "iopub.execute_input": "2022-03-04T19:48:23.597549Z",
     "iopub.status.busy": "2022-03-04T19:48:23.596906Z",
     "iopub.status.idle": "2022-03-04T19:48:23.599587Z",
     "shell.execute_reply": "2022-03-04T19:48:23.600190Z"
    },
    "papermill": {
     "duration": 0.027542,
     "end_time": "2022-03-04T19:48:23.600368",
     "exception": false,
     "start_time": "2022-03-04T19:48:23.572826",
     "status": "completed"
    },
    "tags": []
   },
   "outputs": [],
   "source": [
    "#q2.hint()\n",
    "#q2.solution()"
   ]
  },
  {
   "cell_type": "markdown",
   "id": "b66fea80",
   "metadata": {
    "papermill": {
     "duration": 0.021714,
     "end_time": "2022-03-04T19:48:23.643978",
     "exception": false,
     "start_time": "2022-03-04T19:48:23.622264",
     "status": "completed"
    },
    "tags": []
   },
   "source": [
    "## 3.\n",
    "\n",
    "Create a variable `ingredients` with a Series that looks like:\n",
    "\n",
    "```\n",
    "Flour     4 cups\n",
    "Milk       1 cup\n",
    "Eggs     2 large\n",
    "Spam       1 can\n",
    "Name: Dinner, dtype: object\n",
    "```"
   ]
  },
  {
   "cell_type": "code",
   "execution_count": 6,
   "id": "fbe20640",
   "metadata": {
    "execution": {
     "iopub.execute_input": "2022-03-04T19:48:23.690969Z",
     "iopub.status.busy": "2022-03-04T19:48:23.690308Z",
     "iopub.status.idle": "2022-03-04T19:48:23.697792Z",
     "shell.execute_reply": "2022-03-04T19:48:23.698425Z"
    },
    "papermill": {
     "duration": 0.032726,
     "end_time": "2022-03-04T19:48:23.698591",
     "exception": false,
     "start_time": "2022-03-04T19:48:23.665865",
     "status": "completed"
    },
    "tags": []
   },
   "outputs": [
    {
     "data": {
      "application/javascript": [
       "parent.postMessage({\"jupyterEvent\": \"custom.exercise_interaction\", \"data\": {\"outcomeType\": 4, \"interactionType\": 1, \"questionType\": 2, \"questionId\": \"3_RecipeSeriesCreation\", \"learnToolsVersion\": \"0.3.4\", \"valueTowardsCompletion\": 0.0, \"failureMessage\": \"\", \"exceptionClass\": \"\", \"trace\": \"\"}}, \"*\")"
      ],
      "text/plain": [
       "<IPython.core.display.Javascript object>"
      ]
     },
     "metadata": {},
     "output_type": "display_data"
    },
    {
     "data": {
      "text/markdown": [
       "<span style=\"color:#ccaa33\">Check:</span> When you've updated the starter code, `check()` will tell you whether your code is correct. You need to update the code that creates variable `ingredients`"
      ],
      "text/plain": [
       "Check: When you've updated the starter code, `check()` will tell you whether your code is correct. You need to update the code that creates variable `ingredients`"
      ]
     },
     "metadata": {},
     "output_type": "display_data"
    },
    {
     "data": {
      "text/markdown": [],
      "text/plain": [
       "<learntools.core.constants.PlaceholderValue at 0x7f50dbeea510>"
      ]
     },
     "execution_count": 6,
     "metadata": {},
     "output_type": "execute_result"
    }
   ],
   "source": [
    "ingredients = ____\n",
    "\n",
    "# Check your answer\n",
    "q3.check()\n",
    "ingredients"
   ]
  },
  {
   "cell_type": "code",
   "execution_count": 7,
   "id": "cc28185d",
   "metadata": {
    "execution": {
     "iopub.execute_input": "2022-03-04T19:48:23.749248Z",
     "iopub.status.busy": "2022-03-04T19:48:23.748614Z",
     "iopub.status.idle": "2022-03-04T19:48:23.751252Z",
     "shell.execute_reply": "2022-03-04T19:48:23.751842Z"
    },
    "papermill": {
     "duration": 0.029778,
     "end_time": "2022-03-04T19:48:23.752036",
     "exception": false,
     "start_time": "2022-03-04T19:48:23.722258",
     "status": "completed"
    },
    "tags": []
   },
   "outputs": [],
   "source": [
    "#q3.hint()\n",
    "#q3.solution()"
   ]
  },
  {
   "cell_type": "markdown",
   "id": "156fd4ab",
   "metadata": {
    "papermill": {
     "duration": 0.023471,
     "end_time": "2022-03-04T19:48:23.799295",
     "exception": false,
     "start_time": "2022-03-04T19:48:23.775824",
     "status": "completed"
    },
    "tags": []
   },
   "source": [
    "## 4.\n",
    "\n",
    "Read the following csv dataset of wine reviews into a DataFrame called `reviews`:\n",
    "\n",
    "![](https://i.imgur.com/74RCZtU.png)\n",
    "\n",
    "The filepath to the csv file is `../input/wine-reviews/winemag-data_first150k.csv`. The first few lines look like:\n",
    "\n",
    "```\n",
    ",country,description,designation,points,price,province,region_1,region_2,variety,winery\n",
    "0,US,\"This tremendous 100% varietal wine[...]\",Martha's Vineyard,96,235.0,California,Napa Valley,Napa,Cabernet Sauvignon,Heitz\n",
    "1,Spain,\"Ripe aromas of fig, blackberry and[...]\",Carodorum Selección Especial Reserva,96,110.0,Northern Spain,Toro,,Tinta de Toro,Bodega Carmen Rodríguez\n",
    "```"
   ]
  },
  {
   "cell_type": "code",
   "execution_count": 8,
   "id": "acaf5d05",
   "metadata": {
    "execution": {
     "iopub.execute_input": "2022-03-04T19:48:23.850063Z",
     "iopub.status.busy": "2022-03-04T19:48:23.849394Z",
     "iopub.status.idle": "2022-03-04T19:48:23.857246Z",
     "shell.execute_reply": "2022-03-04T19:48:23.857836Z"
    },
    "papermill": {
     "duration": 0.034849,
     "end_time": "2022-03-04T19:48:23.858019",
     "exception": false,
     "start_time": "2022-03-04T19:48:23.823170",
     "status": "completed"
    },
    "tags": []
   },
   "outputs": [
    {
     "data": {
      "application/javascript": [
       "parent.postMessage({\"jupyterEvent\": \"custom.exercise_interaction\", \"data\": {\"outcomeType\": 4, \"interactionType\": 1, \"questionType\": 1, \"questionId\": \"4_ReadWineCsv\", \"learnToolsVersion\": \"0.3.4\", \"valueTowardsCompletion\": 0.0, \"failureMessage\": \"\", \"exceptionClass\": \"\", \"trace\": \"\"}}, \"*\")"
      ],
      "text/plain": [
       "<IPython.core.display.Javascript object>"
      ]
     },
     "metadata": {},
     "output_type": "display_data"
    },
    {
     "data": {
      "text/markdown": [
       "<span style=\"color:#ccaa33\">Check:</span> When you've updated the starter code, `check()` will tell you whether your code is correct. You need to update the code that creates variable `reviews`"
      ],
      "text/plain": [
       "Check: When you've updated the starter code, `check()` will tell you whether your code is correct. You need to update the code that creates variable `reviews`"
      ]
     },
     "metadata": {},
     "output_type": "display_data"
    },
    {
     "data": {
      "text/markdown": [],
      "text/plain": [
       "<learntools.core.constants.PlaceholderValue at 0x7f50dbeea510>"
      ]
     },
     "execution_count": 8,
     "metadata": {},
     "output_type": "execute_result"
    }
   ],
   "source": [
    "reviews = ____\n",
    "\n",
    "# Check your answer\n",
    "q4.check()\n",
    "reviews"
   ]
  },
  {
   "cell_type": "code",
   "execution_count": 9,
   "id": "3173591a",
   "metadata": {
    "execution": {
     "iopub.execute_input": "2022-03-04T19:48:23.912155Z",
     "iopub.status.busy": "2022-03-04T19:48:23.911544Z",
     "iopub.status.idle": "2022-03-04T19:48:23.914177Z",
     "shell.execute_reply": "2022-03-04T19:48:23.914764Z"
    },
    "papermill": {
     "duration": 0.031459,
     "end_time": "2022-03-04T19:48:23.914948",
     "exception": false,
     "start_time": "2022-03-04T19:48:23.883489",
     "status": "completed"
    },
    "tags": []
   },
   "outputs": [],
   "source": [
    "#q4.hint()\n",
    "#q4.solution()"
   ]
  },
  {
   "cell_type": "markdown",
   "id": "5e24d165",
   "metadata": {
    "papermill": {
     "duration": 0.026283,
     "end_time": "2022-03-04T19:48:23.967019",
     "exception": false,
     "start_time": "2022-03-04T19:48:23.940736",
     "status": "completed"
    },
    "tags": []
   },
   "source": [
    "## 5.\n",
    "\n",
    "Run the cell below to create and display a DataFrame called `animals`:"
   ]
  },
  {
   "cell_type": "code",
   "execution_count": 10,
   "id": "8b6acb37",
   "metadata": {
    "execution": {
     "iopub.execute_input": "2022-03-04T19:48:24.022951Z",
     "iopub.status.busy": "2022-03-04T19:48:24.022274Z",
     "iopub.status.idle": "2022-03-04T19:48:24.030913Z",
     "shell.execute_reply": "2022-03-04T19:48:24.031414Z"
    },
    "papermill": {
     "duration": 0.038562,
     "end_time": "2022-03-04T19:48:24.031578",
     "exception": false,
     "start_time": "2022-03-04T19:48:23.993016",
     "status": "completed"
    },
    "tags": []
   },
   "outputs": [
    {
     "data": {
      "text/html": [
       "<div>\n",
       "<style scoped>\n",
       "    .dataframe tbody tr th:only-of-type {\n",
       "        vertical-align: middle;\n",
       "    }\n",
       "\n",
       "    .dataframe tbody tr th {\n",
       "        vertical-align: top;\n",
       "    }\n",
       "\n",
       "    .dataframe thead th {\n",
       "        text-align: right;\n",
       "    }\n",
       "</style>\n",
       "<table border=\"1\" class=\"dataframe\">\n",
       "  <thead>\n",
       "    <tr style=\"text-align: right;\">\n",
       "      <th></th>\n",
       "      <th>Cows</th>\n",
       "      <th>Goats</th>\n",
       "    </tr>\n",
       "  </thead>\n",
       "  <tbody>\n",
       "    <tr>\n",
       "      <th>Year 1</th>\n",
       "      <td>12</td>\n",
       "      <td>22</td>\n",
       "    </tr>\n",
       "    <tr>\n",
       "      <th>Year 2</th>\n",
       "      <td>20</td>\n",
       "      <td>19</td>\n",
       "    </tr>\n",
       "  </tbody>\n",
       "</table>\n",
       "</div>"
      ],
      "text/plain": [
       "        Cows  Goats\n",
       "Year 1    12     22\n",
       "Year 2    20     19"
      ]
     },
     "execution_count": 10,
     "metadata": {},
     "output_type": "execute_result"
    }
   ],
   "source": [
    "animals = pd.DataFrame({'Cows': [12, 20], 'Goats': [22, 19]}, index=['Year 1', 'Year 2'])\n",
    "animals"
   ]
  },
  {
   "cell_type": "markdown",
   "id": "fdaa7fe9",
   "metadata": {
    "papermill": {
     "duration": 0.026418,
     "end_time": "2022-03-04T19:48:24.084596",
     "exception": false,
     "start_time": "2022-03-04T19:48:24.058178",
     "status": "completed"
    },
    "tags": []
   },
   "source": [
    "In the cell below, write code to save this DataFrame to disk as a csv file with the name `cows_and_goats.csv`."
   ]
  },
  {
   "cell_type": "code",
   "execution_count": 11,
   "id": "06bc9272",
   "metadata": {
    "execution": {
     "iopub.execute_input": "2022-03-04T19:48:24.140738Z",
     "iopub.status.busy": "2022-03-04T19:48:24.140116Z",
     "iopub.status.idle": "2022-03-04T19:48:24.145237Z",
     "shell.execute_reply": "2022-03-04T19:48:24.145799Z"
    },
    "papermill": {
     "duration": 0.034954,
     "end_time": "2022-03-04T19:48:24.146005",
     "exception": false,
     "start_time": "2022-03-04T19:48:24.111051",
     "status": "completed"
    },
    "tags": []
   },
   "outputs": [
    {
     "data": {
      "application/javascript": [
       "parent.postMessage({\"jupyterEvent\": \"custom.exercise_interaction\", \"data\": {\"outcomeType\": 2, \"failureMessage\": \"Expected file to exist with name `cows_and_goats.csv`\", \"interactionType\": 1, \"questionType\": 2, \"questionId\": \"5_SaveAnimalsCsv\", \"learnToolsVersion\": \"0.3.4\", \"valueTowardsCompletion\": 0.0, \"exceptionClass\": \"\", \"trace\": \"\"}}, \"*\")"
      ],
      "text/plain": [
       "<IPython.core.display.Javascript object>"
      ]
     },
     "metadata": {},
     "output_type": "display_data"
    },
    {
     "data": {
      "text/markdown": [
       "<span style=\"color:#cc3333\">Incorrect:</span> Expected file to exist with name `cows_and_goats.csv`"
      ],
      "text/plain": [
       "Incorrect: Expected file to exist with name `cows_and_goats.csv`"
      ]
     },
     "metadata": {},
     "output_type": "display_data"
    }
   ],
   "source": [
    "# Your code goes here\n",
    "\n",
    "# Check your answer\n",
    "q5.check()"
   ]
  },
  {
   "cell_type": "code",
   "execution_count": 12,
   "id": "5646ae69",
   "metadata": {
    "execution": {
     "iopub.execute_input": "2022-03-04T19:48:24.205338Z",
     "iopub.status.busy": "2022-03-04T19:48:24.204637Z",
     "iopub.status.idle": "2022-03-04T19:48:24.207530Z",
     "shell.execute_reply": "2022-03-04T19:48:24.208093Z"
    },
    "papermill": {
     "duration": 0.034137,
     "end_time": "2022-03-04T19:48:24.208277",
     "exception": false,
     "start_time": "2022-03-04T19:48:24.174140",
     "status": "completed"
    },
    "tags": []
   },
   "outputs": [],
   "source": [
    "#q5.hint()\n",
    "#q5.solution()"
   ]
  },
  {
   "cell_type": "markdown",
   "id": "52a1c6b0",
   "metadata": {
    "papermill": {
     "duration": 0.027993,
     "end_time": "2022-03-04T19:48:24.265016",
     "exception": false,
     "start_time": "2022-03-04T19:48:24.237023",
     "status": "completed"
    },
    "tags": []
   },
   "source": [
    "# Keep going\n",
    "\n",
    "Move on to learn about **[indexing, selecting and assigning](https://www.kaggle.com/residentmario/indexing-selecting-assigning)**."
   ]
  },
  {
   "cell_type": "markdown",
   "id": "0e94fe48",
   "metadata": {
    "papermill": {
     "duration": 0.027987,
     "end_time": "2022-03-04T19:48:24.321487",
     "exception": false,
     "start_time": "2022-03-04T19:48:24.293500",
     "status": "completed"
    },
    "tags": []
   },
   "source": [
    "---\n",
    "\n",
    "\n",
    "\n",
    "\n",
    "*Have questions or comments? Visit the [course discussion forum](https://www.kaggle.com/learn/pandas/discussion) to chat with other learners.*"
   ]
  }
 ],
 "metadata": {
  "kernelspec": {
   "display_name": "Python 3",
   "language": "python",
   "name": "python3"
  },
  "language_info": {
   "codemirror_mode": {
    "name": "ipython",
    "version": 3
   },
   "file_extension": ".py",
   "mimetype": "text/x-python",
   "name": "python",
   "nbconvert_exporter": "python",
   "pygments_lexer": "ipython3",
   "version": "3.7.12"
  },
  "papermill": {
   "default_parameters": {},
   "duration": 13.712764,
   "end_time": "2022-03-04T19:48:24.959465",
   "environment_variables": {},
   "exception": null,
   "input_path": "__notebook__.ipynb",
   "output_path": "__notebook__.ipynb",
   "parameters": {},
   "start_time": "2022-03-04T19:48:11.246701",
   "version": "2.3.3"
  }
 },
 "nbformat": 4,
 "nbformat_minor": 5
}
