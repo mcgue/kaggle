{
 "cells": [
  {
   "cell_type": "markdown",
   "id": "80d4ddae",
   "metadata": {
    "papermill": {
     "duration": 0.029234,
     "end_time": "2022-03-07T02:33:20.798254",
     "exception": false,
     "start_time": "2022-03-07T02:33:20.769020",
     "status": "completed"
    },
    "tags": []
   },
   "source": [
    "**This notebook is an exercise in the [Pandas](https://www.kaggle.com/learn/pandas) course.  You can reference the tutorial at [this link](https://www.kaggle.com/residentmario/indexing-selecting-assigning).**\n",
    "\n",
    "---\n"
   ]
  },
  {
   "cell_type": "markdown",
   "id": "b5eab231",
   "metadata": {
    "papermill": {
     "duration": 0.027634,
     "end_time": "2022-03-07T02:33:20.855636",
     "exception": false,
     "start_time": "2022-03-07T02:33:20.828002",
     "status": "completed"
    },
    "tags": []
   },
   "source": [
    "# Introduction\n",
    "\n",
    "In this set of exercises we will work with the [Wine Reviews dataset](https://www.kaggle.com/zynicide/wine-reviews). "
   ]
  },
  {
   "cell_type": "markdown",
   "id": "799b8975",
   "metadata": {
    "papermill": {
     "duration": 0.027733,
     "end_time": "2022-03-07T02:33:20.911898",
     "exception": false,
     "start_time": "2022-03-07T02:33:20.884165",
     "status": "completed"
    },
    "tags": []
   },
   "source": [
    "Run the following cell to load your data and some utility functions (including code to check your answers)."
   ]
  },
  {
   "cell_type": "code",
   "execution_count": 1,
   "id": "0d47f03f",
   "metadata": {
    "execution": {
     "iopub.execute_input": "2022-03-07T02:33:20.981973Z",
     "iopub.status.busy": "2022-03-07T02:33:20.981298Z",
     "iopub.status.idle": "2022-03-07T02:33:24.274473Z",
     "shell.execute_reply": "2022-03-07T02:33:24.273480Z",
     "shell.execute_reply.started": "2022-03-07T02:32:00.703735Z"
    },
    "papermill": {
     "duration": 3.334981,
     "end_time": "2022-03-07T02:33:24.274733",
     "exception": false,
     "start_time": "2022-03-07T02:33:20.939752",
     "status": "completed"
    },
    "tags": []
   },
   "outputs": [
    {
     "name": "stdout",
     "output_type": "stream",
     "text": [
      "Setup complete.\n"
     ]
    }
   ],
   "source": [
    "import pandas as pd\n",
    "\n",
    "reviews = pd.read_csv(\"../input/wine-reviews/winemag-data-130k-v2.csv\", index_col=0)\n",
    "pd.set_option(\"display.max_rows\", 5)\n",
    "\n",
    "from learntools.core import binder; binder.bind(globals())\n",
    "from learntools.pandas.indexing_selecting_and_assigning import *\n",
    "print(\"Setup complete.\")"
   ]
  },
  {
   "cell_type": "markdown",
   "id": "acdc8b99",
   "metadata": {
    "papermill": {
     "duration": 0.030182,
     "end_time": "2022-03-07T02:33:24.334836",
     "exception": false,
     "start_time": "2022-03-07T02:33:24.304654",
     "status": "completed"
    },
    "tags": []
   },
   "source": [
    "Look at an overview of your data by running the following line."
   ]
  },
  {
   "cell_type": "code",
   "execution_count": 2,
   "id": "7865bbe7",
   "metadata": {
    "execution": {
     "iopub.execute_input": "2022-03-07T02:33:24.401857Z",
     "iopub.status.busy": "2022-03-07T02:33:24.401149Z",
     "iopub.status.idle": "2022-03-07T02:33:24.424013Z",
     "shell.execute_reply": "2022-03-07T02:33:24.424556Z",
     "shell.execute_reply.started": "2022-03-07T02:22:06.674593Z"
    },
    "papermill": {
     "duration": 0.059854,
     "end_time": "2022-03-07T02:33:24.424754",
     "exception": false,
     "start_time": "2022-03-07T02:33:24.364900",
     "status": "completed"
    },
    "tags": []
   },
   "outputs": [
    {
     "data": {
      "text/html": [
       "<div>\n",
       "<style scoped>\n",
       "    .dataframe tbody tr th:only-of-type {\n",
       "        vertical-align: middle;\n",
       "    }\n",
       "\n",
       "    .dataframe tbody tr th {\n",
       "        vertical-align: top;\n",
       "    }\n",
       "\n",
       "    .dataframe thead th {\n",
       "        text-align: right;\n",
       "    }\n",
       "</style>\n",
       "<table border=\"1\" class=\"dataframe\">\n",
       "  <thead>\n",
       "    <tr style=\"text-align: right;\">\n",
       "      <th></th>\n",
       "      <th>country</th>\n",
       "      <th>description</th>\n",
       "      <th>designation</th>\n",
       "      <th>points</th>\n",
       "      <th>price</th>\n",
       "      <th>province</th>\n",
       "      <th>region_1</th>\n",
       "      <th>region_2</th>\n",
       "      <th>taster_name</th>\n",
       "      <th>taster_twitter_handle</th>\n",
       "      <th>title</th>\n",
       "      <th>variety</th>\n",
       "      <th>winery</th>\n",
       "    </tr>\n",
       "  </thead>\n",
       "  <tbody>\n",
       "    <tr>\n",
       "      <th>0</th>\n",
       "      <td>Italy</td>\n",
       "      <td>Aromas include tropical fruit, broom, brimston...</td>\n",
       "      <td>Vulkà Bianco</td>\n",
       "      <td>87</td>\n",
       "      <td>NaN</td>\n",
       "      <td>Sicily &amp; Sardinia</td>\n",
       "      <td>Etna</td>\n",
       "      <td>NaN</td>\n",
       "      <td>Kerin O’Keefe</td>\n",
       "      <td>@kerinokeefe</td>\n",
       "      <td>Nicosia 2013 Vulkà Bianco  (Etna)</td>\n",
       "      <td>White Blend</td>\n",
       "      <td>Nicosia</td>\n",
       "    </tr>\n",
       "    <tr>\n",
       "      <th>1</th>\n",
       "      <td>Portugal</td>\n",
       "      <td>This is ripe and fruity, a wine that is smooth...</td>\n",
       "      <td>Avidagos</td>\n",
       "      <td>87</td>\n",
       "      <td>15.0</td>\n",
       "      <td>Douro</td>\n",
       "      <td>NaN</td>\n",
       "      <td>NaN</td>\n",
       "      <td>Roger Voss</td>\n",
       "      <td>@vossroger</td>\n",
       "      <td>Quinta dos Avidagos 2011 Avidagos Red (Douro)</td>\n",
       "      <td>Portuguese Red</td>\n",
       "      <td>Quinta dos Avidagos</td>\n",
       "    </tr>\n",
       "    <tr>\n",
       "      <th>2</th>\n",
       "      <td>US</td>\n",
       "      <td>Tart and snappy, the flavors of lime flesh and...</td>\n",
       "      <td>NaN</td>\n",
       "      <td>87</td>\n",
       "      <td>14.0</td>\n",
       "      <td>Oregon</td>\n",
       "      <td>Willamette Valley</td>\n",
       "      <td>Willamette Valley</td>\n",
       "      <td>Paul Gregutt</td>\n",
       "      <td>@paulgwine</td>\n",
       "      <td>Rainstorm 2013 Pinot Gris (Willamette Valley)</td>\n",
       "      <td>Pinot Gris</td>\n",
       "      <td>Rainstorm</td>\n",
       "    </tr>\n",
       "    <tr>\n",
       "      <th>3</th>\n",
       "      <td>US</td>\n",
       "      <td>Pineapple rind, lemon pith and orange blossom ...</td>\n",
       "      <td>Reserve Late Harvest</td>\n",
       "      <td>87</td>\n",
       "      <td>13.0</td>\n",
       "      <td>Michigan</td>\n",
       "      <td>Lake Michigan Shore</td>\n",
       "      <td>NaN</td>\n",
       "      <td>Alexander Peartree</td>\n",
       "      <td>NaN</td>\n",
       "      <td>St. Julian 2013 Reserve Late Harvest Riesling ...</td>\n",
       "      <td>Riesling</td>\n",
       "      <td>St. Julian</td>\n",
       "    </tr>\n",
       "    <tr>\n",
       "      <th>4</th>\n",
       "      <td>US</td>\n",
       "      <td>Much like the regular bottling from 2012, this...</td>\n",
       "      <td>Vintner's Reserve Wild Child Block</td>\n",
       "      <td>87</td>\n",
       "      <td>65.0</td>\n",
       "      <td>Oregon</td>\n",
       "      <td>Willamette Valley</td>\n",
       "      <td>Willamette Valley</td>\n",
       "      <td>Paul Gregutt</td>\n",
       "      <td>@paulgwine</td>\n",
       "      <td>Sweet Cheeks 2012 Vintner's Reserve Wild Child...</td>\n",
       "      <td>Pinot Noir</td>\n",
       "      <td>Sweet Cheeks</td>\n",
       "    </tr>\n",
       "  </tbody>\n",
       "</table>\n",
       "</div>"
      ],
      "text/plain": [
       "    country                                        description  \\\n",
       "0     Italy  Aromas include tropical fruit, broom, brimston...   \n",
       "1  Portugal  This is ripe and fruity, a wine that is smooth...   \n",
       "2        US  Tart and snappy, the flavors of lime flesh and...   \n",
       "3        US  Pineapple rind, lemon pith and orange blossom ...   \n",
       "4        US  Much like the regular bottling from 2012, this...   \n",
       "\n",
       "                          designation  points  price           province  \\\n",
       "0                        Vulkà Bianco      87    NaN  Sicily & Sardinia   \n",
       "1                            Avidagos      87   15.0              Douro   \n",
       "2                                 NaN      87   14.0             Oregon   \n",
       "3                Reserve Late Harvest      87   13.0           Michigan   \n",
       "4  Vintner's Reserve Wild Child Block      87   65.0             Oregon   \n",
       "\n",
       "              region_1           region_2         taster_name  \\\n",
       "0                 Etna                NaN       Kerin O’Keefe   \n",
       "1                  NaN                NaN          Roger Voss   \n",
       "2    Willamette Valley  Willamette Valley        Paul Gregutt   \n",
       "3  Lake Michigan Shore                NaN  Alexander Peartree   \n",
       "4    Willamette Valley  Willamette Valley        Paul Gregutt   \n",
       "\n",
       "  taster_twitter_handle                                              title  \\\n",
       "0          @kerinokeefe                  Nicosia 2013 Vulkà Bianco  (Etna)   \n",
       "1            @vossroger      Quinta dos Avidagos 2011 Avidagos Red (Douro)   \n",
       "2           @paulgwine       Rainstorm 2013 Pinot Gris (Willamette Valley)   \n",
       "3                   NaN  St. Julian 2013 Reserve Late Harvest Riesling ...   \n",
       "4           @paulgwine   Sweet Cheeks 2012 Vintner's Reserve Wild Child...   \n",
       "\n",
       "          variety               winery  \n",
       "0     White Blend              Nicosia  \n",
       "1  Portuguese Red  Quinta dos Avidagos  \n",
       "2      Pinot Gris            Rainstorm  \n",
       "3        Riesling           St. Julian  \n",
       "4      Pinot Noir         Sweet Cheeks  "
      ]
     },
     "execution_count": 2,
     "metadata": {},
     "output_type": "execute_result"
    }
   ],
   "source": [
    "reviews.head()"
   ]
  },
  {
   "cell_type": "markdown",
   "id": "a99a43e7",
   "metadata": {
    "papermill": {
     "duration": 0.028229,
     "end_time": "2022-03-07T02:33:24.484398",
     "exception": false,
     "start_time": "2022-03-07T02:33:24.456169",
     "status": "completed"
    },
    "tags": []
   },
   "source": [
    "# Exercises"
   ]
  },
  {
   "cell_type": "markdown",
   "id": "4dee3eb3",
   "metadata": {
    "papermill": {
     "duration": 0.028211,
     "end_time": "2022-03-07T02:33:24.540911",
     "exception": false,
     "start_time": "2022-03-07T02:33:24.512700",
     "status": "completed"
    },
    "tags": []
   },
   "source": [
    "## 1.\n",
    "\n",
    "Select the `description` column from `reviews` and assign the result to the variable `desc`."
   ]
  },
  {
   "cell_type": "code",
   "execution_count": 3,
   "id": "41c86ab5",
   "metadata": {
    "execution": {
     "iopub.execute_input": "2022-03-07T02:33:24.605391Z",
     "iopub.status.busy": "2022-03-07T02:33:24.604369Z",
     "iopub.status.idle": "2022-03-07T02:33:24.609873Z",
     "shell.execute_reply": "2022-03-07T02:33:24.610387Z",
     "shell.execute_reply.started": "2022-03-07T02:32:19.429503Z"
    },
    "papermill": {
     "duration": 0.041401,
     "end_time": "2022-03-07T02:33:24.610569",
     "exception": false,
     "start_time": "2022-03-07T02:33:24.569168",
     "status": "completed"
    },
    "tags": []
   },
   "outputs": [
    {
     "data": {
      "application/javascript": [
       "parent.postMessage({\"jupyterEvent\": \"custom.exercise_interaction\", \"data\": {\"outcomeType\": 1, \"valueTowardsCompletion\": 0.1111111111111111, \"interactionType\": 1, \"questionType\": 1, \"questionId\": \"1_SelectDescCol\", \"learnToolsVersion\": \"0.3.4\", \"failureMessage\": \"\", \"exceptionClass\": \"\", \"trace\": \"\"}}, \"*\")"
      ],
      "text/plain": [
       "<IPython.core.display.Javascript object>"
      ]
     },
     "metadata": {},
     "output_type": "display_data"
    },
    {
     "data": {
      "text/markdown": [
       "<span style=\"color:#33cc33\">Correct</span>"
      ],
      "text/plain": [
       "Correct"
      ]
     },
     "metadata": {},
     "output_type": "display_data"
    }
   ],
   "source": [
    "# Your code here\n",
    "desc = reviews.description\n",
    "\n",
    "# Check your answer\n",
    "q1.check()"
   ]
  },
  {
   "cell_type": "markdown",
   "id": "27cd7317",
   "metadata": {
    "papermill": {
     "duration": 0.029485,
     "end_time": "2022-03-07T02:33:24.669772",
     "exception": false,
     "start_time": "2022-03-07T02:33:24.640287",
     "status": "completed"
    },
    "tags": []
   },
   "source": [
    "Follow-up question: what type of object is `desc`? If you're not sure, you can check by calling Python's `type` function: `type(desc)`."
   ]
  },
  {
   "cell_type": "code",
   "execution_count": 4,
   "id": "40a73cdf",
   "metadata": {
    "execution": {
     "iopub.execute_input": "2022-03-07T02:33:24.734423Z",
     "iopub.status.busy": "2022-03-07T02:33:24.733468Z",
     "iopub.status.idle": "2022-03-07T02:33:24.736743Z",
     "shell.execute_reply": "2022-03-07T02:33:24.737262Z",
     "shell.execute_reply.started": "2022-03-07T02:32:53.668673Z"
    },
    "papermill": {
     "duration": 0.038037,
     "end_time": "2022-03-07T02:33:24.737440",
     "exception": false,
     "start_time": "2022-03-07T02:33:24.699403",
     "status": "completed"
    },
    "tags": []
   },
   "outputs": [],
   "source": [
    "#q1.hint()\n",
    "#q1.solution()"
   ]
  },
  {
   "cell_type": "markdown",
   "id": "7b0703c8",
   "metadata": {
    "papermill": {
     "duration": 0.030047,
     "end_time": "2022-03-07T02:33:24.799017",
     "exception": false,
     "start_time": "2022-03-07T02:33:24.768970",
     "status": "completed"
    },
    "tags": []
   },
   "source": [
    "## 2.\n",
    "\n",
    "Select the first value from the description column of `reviews`, assigning it to variable `first_description`."
   ]
  },
  {
   "cell_type": "code",
   "execution_count": 5,
   "id": "5bfc3d99",
   "metadata": {
    "execution": {
     "iopub.execute_input": "2022-03-07T02:33:24.865501Z",
     "iopub.status.busy": "2022-03-07T02:33:24.864532Z",
     "iopub.status.idle": "2022-03-07T02:33:24.873773Z",
     "shell.execute_reply": "2022-03-07T02:33:24.874247Z"
    },
    "papermill": {
     "duration": 0.04397,
     "end_time": "2022-03-07T02:33:24.874429",
     "exception": false,
     "start_time": "2022-03-07T02:33:24.830459",
     "status": "completed"
    },
    "tags": []
   },
   "outputs": [
    {
     "data": {
      "application/javascript": [
       "parent.postMessage({\"jupyterEvent\": \"custom.exercise_interaction\", \"data\": {\"outcomeType\": 4, \"interactionType\": 1, \"questionType\": 1, \"questionId\": \"2_FirstDesc\", \"learnToolsVersion\": \"0.3.4\", \"valueTowardsCompletion\": 0.0, \"failureMessage\": \"\", \"exceptionClass\": \"\", \"trace\": \"\"}}, \"*\")"
      ],
      "text/plain": [
       "<IPython.core.display.Javascript object>"
      ]
     },
     "metadata": {},
     "output_type": "display_data"
    },
    {
     "data": {
      "text/markdown": [
       "<span style=\"color:#ccaa33\">Check:</span> When you've updated the starter code, `check()` will tell you whether your code is correct. You need to update the code that creates variable `first_description`"
      ],
      "text/plain": [
       "Check: When you've updated the starter code, `check()` will tell you whether your code is correct. You need to update the code that creates variable `first_description`"
      ]
     },
     "metadata": {},
     "output_type": "display_data"
    },
    {
     "data": {
      "text/markdown": [],
      "text/plain": [
       "<learntools.core.constants.PlaceholderValue at 0x7fdbd79c3590>"
      ]
     },
     "execution_count": 5,
     "metadata": {},
     "output_type": "execute_result"
    }
   ],
   "source": [
    "first_description = ____\n",
    "\n",
    "# Check your answer\n",
    "q2.check()\n",
    "first_description"
   ]
  },
  {
   "cell_type": "code",
   "execution_count": 6,
   "id": "31f04a0d",
   "metadata": {
    "execution": {
     "iopub.execute_input": "2022-03-07T02:33:24.943265Z",
     "iopub.status.busy": "2022-03-07T02:33:24.942251Z",
     "iopub.status.idle": "2022-03-07T02:33:24.944025Z",
     "shell.execute_reply": "2022-03-07T02:33:24.944625Z"
    },
    "papermill": {
     "duration": 0.038336,
     "end_time": "2022-03-07T02:33:24.944800",
     "exception": false,
     "start_time": "2022-03-07T02:33:24.906464",
     "status": "completed"
    },
    "tags": []
   },
   "outputs": [],
   "source": [
    "#q2.hint()\n",
    "#q2.solution()"
   ]
  },
  {
   "cell_type": "markdown",
   "id": "bead1b48",
   "metadata": {
    "papermill": {
     "duration": 0.033115,
     "end_time": "2022-03-07T02:33:25.009655",
     "exception": false,
     "start_time": "2022-03-07T02:33:24.976540",
     "status": "completed"
    },
    "tags": []
   },
   "source": [
    "## 3. \n",
    "\n",
    "Select the first row of data (the first record) from `reviews`, assigning it to the variable `first_row`."
   ]
  },
  {
   "cell_type": "code",
   "execution_count": 7,
   "id": "bf856614",
   "metadata": {
    "execution": {
     "iopub.execute_input": "2022-03-07T02:33:25.080633Z",
     "iopub.status.busy": "2022-03-07T02:33:25.079641Z",
     "iopub.status.idle": "2022-03-07T02:33:25.089073Z",
     "shell.execute_reply": "2022-03-07T02:33:25.089551Z"
    },
    "papermill": {
     "duration": 0.046454,
     "end_time": "2022-03-07T02:33:25.089729",
     "exception": false,
     "start_time": "2022-03-07T02:33:25.043275",
     "status": "completed"
    },
    "tags": []
   },
   "outputs": [
    {
     "data": {
      "application/javascript": [
       "parent.postMessage({\"jupyterEvent\": \"custom.exercise_interaction\", \"data\": {\"outcomeType\": 4, \"interactionType\": 1, \"questionType\": 1, \"questionId\": \"3_FirstRow\", \"learnToolsVersion\": \"0.3.4\", \"valueTowardsCompletion\": 0.0, \"failureMessage\": \"\", \"exceptionClass\": \"\", \"trace\": \"\"}}, \"*\")"
      ],
      "text/plain": [
       "<IPython.core.display.Javascript object>"
      ]
     },
     "metadata": {},
     "output_type": "display_data"
    },
    {
     "data": {
      "text/markdown": [
       "<span style=\"color:#ccaa33\">Check:</span> When you've updated the starter code, `check()` will tell you whether your code is correct. You need to update the code that creates variable `first_row`"
      ],
      "text/plain": [
       "Check: When you've updated the starter code, `check()` will tell you whether your code is correct. You need to update the code that creates variable `first_row`"
      ]
     },
     "metadata": {},
     "output_type": "display_data"
    },
    {
     "data": {
      "text/markdown": [],
      "text/plain": [
       "<learntools.core.constants.PlaceholderValue at 0x7fdbd79c3590>"
      ]
     },
     "execution_count": 7,
     "metadata": {},
     "output_type": "execute_result"
    }
   ],
   "source": [
    "first_row = ____\n",
    "\n",
    "# Check your answer\n",
    "q3.check()\n",
    "first_row"
   ]
  },
  {
   "cell_type": "code",
   "execution_count": 8,
   "id": "b200fe2e",
   "metadata": {
    "execution": {
     "iopub.execute_input": "2022-03-07T02:33:25.163712Z",
     "iopub.status.busy": "2022-03-07T02:33:25.162799Z",
     "iopub.status.idle": "2022-03-07T02:33:25.165959Z",
     "shell.execute_reply": "2022-03-07T02:33:25.166516Z"
    },
    "papermill": {
     "duration": 0.041705,
     "end_time": "2022-03-07T02:33:25.166698",
     "exception": false,
     "start_time": "2022-03-07T02:33:25.124993",
     "status": "completed"
    },
    "tags": []
   },
   "outputs": [],
   "source": [
    "#q3.hint()\n",
    "#q3.solution()"
   ]
  },
  {
   "cell_type": "markdown",
   "id": "512a3460",
   "metadata": {
    "papermill": {
     "duration": 0.034696,
     "end_time": "2022-03-07T02:33:25.235886",
     "exception": false,
     "start_time": "2022-03-07T02:33:25.201190",
     "status": "completed"
    },
    "tags": []
   },
   "source": [
    "## 4.\n",
    "\n",
    "Select the first 10 values from the `description` column in `reviews`, assigning the result to variable `first_descriptions`.\n",
    "\n",
    "Hint: format your output as a pandas Series."
   ]
  },
  {
   "cell_type": "code",
   "execution_count": 9,
   "id": "05b51074",
   "metadata": {
    "execution": {
     "iopub.execute_input": "2022-03-07T02:33:25.311540Z",
     "iopub.status.busy": "2022-03-07T02:33:25.310782Z",
     "iopub.status.idle": "2022-03-07T02:33:25.318382Z",
     "shell.execute_reply": "2022-03-07T02:33:25.318827Z"
    },
    "papermill": {
     "duration": 0.047549,
     "end_time": "2022-03-07T02:33:25.319013",
     "exception": false,
     "start_time": "2022-03-07T02:33:25.271464",
     "status": "completed"
    },
    "tags": []
   },
   "outputs": [
    {
     "data": {
      "application/javascript": [
       "parent.postMessage({\"jupyterEvent\": \"custom.exercise_interaction\", \"data\": {\"outcomeType\": 4, \"interactionType\": 1, \"questionType\": 1, \"questionId\": \"4_FirstDescs\", \"learnToolsVersion\": \"0.3.4\", \"valueTowardsCompletion\": 0.0, \"failureMessage\": \"\", \"exceptionClass\": \"\", \"trace\": \"\"}}, \"*\")"
      ],
      "text/plain": [
       "<IPython.core.display.Javascript object>"
      ]
     },
     "metadata": {},
     "output_type": "display_data"
    },
    {
     "data": {
      "text/markdown": [
       "<span style=\"color:#ccaa33\">Check:</span> When you've updated the starter code, `check()` will tell you whether your code is correct. You need to update the code that creates variable `first_descriptions`"
      ],
      "text/plain": [
       "Check: When you've updated the starter code, `check()` will tell you whether your code is correct. You need to update the code that creates variable `first_descriptions`"
      ]
     },
     "metadata": {},
     "output_type": "display_data"
    },
    {
     "data": {
      "text/markdown": [],
      "text/plain": [
       "<learntools.core.constants.PlaceholderValue at 0x7fdbd79c3590>"
      ]
     },
     "execution_count": 9,
     "metadata": {},
     "output_type": "execute_result"
    }
   ],
   "source": [
    "first_descriptions = ____\n",
    "\n",
    "# Check your answer\n",
    "q4.check()\n",
    "first_descriptions"
   ]
  },
  {
   "cell_type": "code",
   "execution_count": 10,
   "id": "38ecedff",
   "metadata": {
    "execution": {
     "iopub.execute_input": "2022-03-07T02:33:25.398726Z",
     "iopub.status.busy": "2022-03-07T02:33:25.397670Z",
     "iopub.status.idle": "2022-03-07T02:33:25.401193Z",
     "shell.execute_reply": "2022-03-07T02:33:25.401688Z"
    },
    "papermill": {
     "duration": 0.045474,
     "end_time": "2022-03-07T02:33:25.401868",
     "exception": false,
     "start_time": "2022-03-07T02:33:25.356394",
     "status": "completed"
    },
    "tags": []
   },
   "outputs": [],
   "source": [
    "#q4.hint()\n",
    "#q4.solution()"
   ]
  },
  {
   "cell_type": "markdown",
   "id": "70e41f8d",
   "metadata": {
    "papermill": {
     "duration": 0.036711,
     "end_time": "2022-03-07T02:33:25.474624",
     "exception": false,
     "start_time": "2022-03-07T02:33:25.437913",
     "status": "completed"
    },
    "tags": []
   },
   "source": [
    "## 5.\n",
    "\n",
    "Select the records with index labels `1`, `2`, `3`, `5`, and `8`, assigning the result to the variable `sample_reviews`.\n",
    "\n",
    "In other words, generate the following DataFrame:\n",
    "\n",
    "![](https://i.imgur.com/sHZvI1O.png)"
   ]
  },
  {
   "cell_type": "code",
   "execution_count": 11,
   "id": "5bb932fb",
   "metadata": {
    "execution": {
     "iopub.execute_input": "2022-03-07T02:33:25.553162Z",
     "iopub.status.busy": "2022-03-07T02:33:25.552088Z",
     "iopub.status.idle": "2022-03-07T02:33:25.562057Z",
     "shell.execute_reply": "2022-03-07T02:33:25.562577Z"
    },
    "papermill": {
     "duration": 0.050709,
     "end_time": "2022-03-07T02:33:25.562778",
     "exception": false,
     "start_time": "2022-03-07T02:33:25.512069",
     "status": "completed"
    },
    "tags": []
   },
   "outputs": [
    {
     "data": {
      "application/javascript": [
       "parent.postMessage({\"jupyterEvent\": \"custom.exercise_interaction\", \"data\": {\"outcomeType\": 4, \"interactionType\": 1, \"questionType\": 1, \"questionId\": \"5_SampleReviews\", \"learnToolsVersion\": \"0.3.4\", \"valueTowardsCompletion\": 0.0, \"failureMessage\": \"\", \"exceptionClass\": \"\", \"trace\": \"\"}}, \"*\")"
      ],
      "text/plain": [
       "<IPython.core.display.Javascript object>"
      ]
     },
     "metadata": {},
     "output_type": "display_data"
    },
    {
     "data": {
      "text/markdown": [
       "<span style=\"color:#ccaa33\">Check:</span> When you've updated the starter code, `check()` will tell you whether your code is correct. You need to update the code that creates variable `sample_reviews`"
      ],
      "text/plain": [
       "Check: When you've updated the starter code, `check()` will tell you whether your code is correct. You need to update the code that creates variable `sample_reviews`"
      ]
     },
     "metadata": {},
     "output_type": "display_data"
    },
    {
     "data": {
      "text/markdown": [],
      "text/plain": [
       "<learntools.core.constants.PlaceholderValue at 0x7fdbd79c3590>"
      ]
     },
     "execution_count": 11,
     "metadata": {},
     "output_type": "execute_result"
    }
   ],
   "source": [
    "sample_reviews = ____\n",
    "\n",
    "# Check your answer\n",
    "q5.check()\n",
    "sample_reviews"
   ]
  },
  {
   "cell_type": "code",
   "execution_count": 12,
   "id": "40b4abe8",
   "metadata": {
    "execution": {
     "iopub.execute_input": "2022-03-07T02:33:25.643450Z",
     "iopub.status.busy": "2022-03-07T02:33:25.642509Z",
     "iopub.status.idle": "2022-03-07T02:33:25.645645Z",
     "shell.execute_reply": "2022-03-07T02:33:25.646115Z"
    },
    "papermill": {
     "duration": 0.045654,
     "end_time": "2022-03-07T02:33:25.646338",
     "exception": false,
     "start_time": "2022-03-07T02:33:25.600684",
     "status": "completed"
    },
    "tags": []
   },
   "outputs": [],
   "source": [
    "#q5.hint()\n",
    "#q5.solution()"
   ]
  },
  {
   "cell_type": "markdown",
   "id": "5c43d505",
   "metadata": {
    "papermill": {
     "duration": 0.038691,
     "end_time": "2022-03-07T02:33:25.723468",
     "exception": false,
     "start_time": "2022-03-07T02:33:25.684777",
     "status": "completed"
    },
    "tags": []
   },
   "source": [
    "## 6.\n",
    "\n",
    "Create a variable `df` containing the `country`, `province`, `region_1`, and `region_2` columns of the records with the index labels `0`, `1`, `10`, and `100`. In other words, generate the following DataFrame:\n",
    "\n",
    "![](https://i.imgur.com/FUCGiKP.png)"
   ]
  },
  {
   "cell_type": "code",
   "execution_count": 13,
   "id": "c62b292c",
   "metadata": {
    "execution": {
     "iopub.execute_input": "2022-03-07T02:33:25.806636Z",
     "iopub.status.busy": "2022-03-07T02:33:25.805611Z",
     "iopub.status.idle": "2022-03-07T02:33:25.815462Z",
     "shell.execute_reply": "2022-03-07T02:33:25.815954Z"
    },
    "papermill": {
     "duration": 0.054316,
     "end_time": "2022-03-07T02:33:25.816160",
     "exception": false,
     "start_time": "2022-03-07T02:33:25.761844",
     "status": "completed"
    },
    "tags": []
   },
   "outputs": [
    {
     "data": {
      "application/javascript": [
       "parent.postMessage({\"jupyterEvent\": \"custom.exercise_interaction\", \"data\": {\"outcomeType\": 4, \"interactionType\": 1, \"questionType\": 1, \"questionId\": \"6_RowColSelect\", \"learnToolsVersion\": \"0.3.4\", \"valueTowardsCompletion\": 0.0, \"failureMessage\": \"\", \"exceptionClass\": \"\", \"trace\": \"\"}}, \"*\")"
      ],
      "text/plain": [
       "<IPython.core.display.Javascript object>"
      ]
     },
     "metadata": {},
     "output_type": "display_data"
    },
    {
     "data": {
      "text/markdown": [
       "<span style=\"color:#ccaa33\">Check:</span> When you've updated the starter code, `check()` will tell you whether your code is correct. You need to update the code that creates variable `df`"
      ],
      "text/plain": [
       "Check: When you've updated the starter code, `check()` will tell you whether your code is correct. You need to update the code that creates variable `df`"
      ]
     },
     "metadata": {},
     "output_type": "display_data"
    },
    {
     "data": {
      "text/markdown": [],
      "text/plain": [
       "<learntools.core.constants.PlaceholderValue at 0x7fdbd79c3590>"
      ]
     },
     "execution_count": 13,
     "metadata": {},
     "output_type": "execute_result"
    }
   ],
   "source": [
    "df = ____\n",
    "\n",
    "# Check your answer\n",
    "q6.check()\n",
    "df"
   ]
  },
  {
   "cell_type": "code",
   "execution_count": 14,
   "id": "249415c5",
   "metadata": {
    "execution": {
     "iopub.execute_input": "2022-03-07T02:33:25.903655Z",
     "iopub.status.busy": "2022-03-07T02:33:25.902984Z",
     "iopub.status.idle": "2022-03-07T02:33:25.904537Z",
     "shell.execute_reply": "2022-03-07T02:33:25.905114Z"
    },
    "papermill": {
     "duration": 0.046484,
     "end_time": "2022-03-07T02:33:25.905304",
     "exception": false,
     "start_time": "2022-03-07T02:33:25.858820",
     "status": "completed"
    },
    "tags": []
   },
   "outputs": [],
   "source": [
    "#q6.hint()\n",
    "#q6.solution()"
   ]
  },
  {
   "cell_type": "markdown",
   "id": "d2a2135f",
   "metadata": {
    "papermill": {
     "duration": 0.040667,
     "end_time": "2022-03-07T02:33:25.986120",
     "exception": false,
     "start_time": "2022-03-07T02:33:25.945453",
     "status": "completed"
    },
    "tags": []
   },
   "source": [
    "## 7.\n",
    "\n",
    "Create a variable `df` containing the `country` and `variety` columns of the first 100 records. \n",
    "\n",
    "Hint: you may use `loc` or `iloc`. When working on the answer this question and the several of the ones that follow, keep the following \"gotcha\" described in the tutorial:\n",
    "\n",
    "> `iloc` uses the Python stdlib indexing scheme, where the first element of the range is included and the last one excluded. \n",
    "`loc`, meanwhile, indexes inclusively. \n",
    "\n",
    "> This is particularly confusing when the DataFrame index is a simple numerical list, e.g. `0,...,1000`. In this case `df.iloc[0:1000]` will return 1000 entries, while `df.loc[0:1000]` return 1001 of them! To get 1000 elements using `loc`, you will need to go one lower and ask for `df.iloc[0:999]`. "
   ]
  },
  {
   "cell_type": "code",
   "execution_count": 15,
   "id": "8e728cb2",
   "metadata": {
    "execution": {
     "iopub.execute_input": "2022-03-07T02:33:26.072436Z",
     "iopub.status.busy": "2022-03-07T02:33:26.071767Z",
     "iopub.status.idle": "2022-03-07T02:33:26.079711Z",
     "shell.execute_reply": "2022-03-07T02:33:26.080228Z"
    },
    "papermill": {
     "duration": 0.05238,
     "end_time": "2022-03-07T02:33:26.080412",
     "exception": false,
     "start_time": "2022-03-07T02:33:26.028032",
     "status": "completed"
    },
    "tags": []
   },
   "outputs": [
    {
     "data": {
      "application/javascript": [
       "parent.postMessage({\"jupyterEvent\": \"custom.exercise_interaction\", \"data\": {\"outcomeType\": 4, \"interactionType\": 1, \"questionType\": 1, \"questionId\": \"7_RowColSelect2\", \"learnToolsVersion\": \"0.3.4\", \"valueTowardsCompletion\": 0.0, \"failureMessage\": \"\", \"exceptionClass\": \"\", \"trace\": \"\"}}, \"*\")"
      ],
      "text/plain": [
       "<IPython.core.display.Javascript object>"
      ]
     },
     "metadata": {},
     "output_type": "display_data"
    },
    {
     "data": {
      "text/markdown": [
       "<span style=\"color:#ccaa33\">Check:</span> When you've updated the starter code, `check()` will tell you whether your code is correct. You need to update the code that creates variable `df`"
      ],
      "text/plain": [
       "Check: When you've updated the starter code, `check()` will tell you whether your code is correct. You need to update the code that creates variable `df`"
      ]
     },
     "metadata": {},
     "output_type": "display_data"
    },
    {
     "data": {
      "text/markdown": [],
      "text/plain": [
       "<learntools.core.constants.PlaceholderValue at 0x7fdbd79c3590>"
      ]
     },
     "execution_count": 15,
     "metadata": {},
     "output_type": "execute_result"
    }
   ],
   "source": [
    "df = ____\n",
    "\n",
    "# Check your answer\n",
    "q7.check()\n",
    "df"
   ]
  },
  {
   "cell_type": "code",
   "execution_count": 16,
   "id": "df4235a9",
   "metadata": {
    "execution": {
     "iopub.execute_input": "2022-03-07T02:33:26.174460Z",
     "iopub.status.busy": "2022-03-07T02:33:26.173739Z",
     "iopub.status.idle": "2022-03-07T02:33:26.176624Z",
     "shell.execute_reply": "2022-03-07T02:33:26.176093Z"
    },
    "papermill": {
     "duration": 0.052492,
     "end_time": "2022-03-07T02:33:26.176772",
     "exception": false,
     "start_time": "2022-03-07T02:33:26.124280",
     "status": "completed"
    },
    "tags": []
   },
   "outputs": [],
   "source": [
    "#q7.hint()\n",
    "#q7.solution()"
   ]
  },
  {
   "cell_type": "markdown",
   "id": "a0bef2a6",
   "metadata": {
    "papermill": {
     "duration": 0.041872,
     "end_time": "2022-03-07T02:33:26.262795",
     "exception": false,
     "start_time": "2022-03-07T02:33:26.220923",
     "status": "completed"
    },
    "tags": []
   },
   "source": [
    "## 8.\n",
    "\n",
    "Create a DataFrame `italian_wines` containing reviews of wines made in `Italy`. Hint: `reviews.country` equals what?"
   ]
  },
  {
   "cell_type": "code",
   "execution_count": 17,
   "id": "977f1245",
   "metadata": {
    "execution": {
     "iopub.execute_input": "2022-03-07T02:33:26.353819Z",
     "iopub.status.busy": "2022-03-07T02:33:26.353146Z",
     "iopub.status.idle": "2022-03-07T02:33:26.358522Z",
     "shell.execute_reply": "2022-03-07T02:33:26.358967Z"
    },
    "papermill": {
     "duration": 0.053883,
     "end_time": "2022-03-07T02:33:26.359147",
     "exception": false,
     "start_time": "2022-03-07T02:33:26.305264",
     "status": "completed"
    },
    "tags": []
   },
   "outputs": [
    {
     "data": {
      "application/javascript": [
       "parent.postMessage({\"jupyterEvent\": \"custom.exercise_interaction\", \"data\": {\"outcomeType\": 4, \"interactionType\": 1, \"questionType\": 1, \"questionId\": \"8_ItalianWines\", \"learnToolsVersion\": \"0.3.4\", \"valueTowardsCompletion\": 0.0, \"failureMessage\": \"\", \"exceptionClass\": \"\", \"trace\": \"\"}}, \"*\")"
      ],
      "text/plain": [
       "<IPython.core.display.Javascript object>"
      ]
     },
     "metadata": {},
     "output_type": "display_data"
    },
    {
     "data": {
      "text/markdown": [
       "<span style=\"color:#ccaa33\">Check:</span> When you've updated the starter code, `check()` will tell you whether your code is correct. You need to update the code that creates variable `italian_wines`"
      ],
      "text/plain": [
       "Check: When you've updated the starter code, `check()` will tell you whether your code is correct. You need to update the code that creates variable `italian_wines`"
      ]
     },
     "metadata": {},
     "output_type": "display_data"
    }
   ],
   "source": [
    "italian_wines = ____\n",
    "\n",
    "# Check your answer\n",
    "q8.check()"
   ]
  },
  {
   "cell_type": "code",
   "execution_count": 18,
   "id": "727adad1",
   "metadata": {
    "execution": {
     "iopub.execute_input": "2022-03-07T02:33:26.451393Z",
     "iopub.status.busy": "2022-03-07T02:33:26.450723Z",
     "iopub.status.idle": "2022-03-07T02:33:26.453946Z",
     "shell.execute_reply": "2022-03-07T02:33:26.453423Z"
    },
    "papermill": {
     "duration": 0.050583,
     "end_time": "2022-03-07T02:33:26.454118",
     "exception": false,
     "start_time": "2022-03-07T02:33:26.403535",
     "status": "completed"
    },
    "tags": []
   },
   "outputs": [],
   "source": [
    "#q8.hint()\n",
    "#q8.solution()"
   ]
  },
  {
   "cell_type": "markdown",
   "id": "82facbab",
   "metadata": {
    "papermill": {
     "duration": 0.043798,
     "end_time": "2022-03-07T02:33:26.542540",
     "exception": false,
     "start_time": "2022-03-07T02:33:26.498742",
     "status": "completed"
    },
    "tags": []
   },
   "source": [
    "## 9.\n",
    "\n",
    "Create a DataFrame `top_oceania_wines` containing all reviews with at least 95 points (out of 100) for wines from Australia or New Zealand."
   ]
  },
  {
   "cell_type": "code",
   "execution_count": 19,
   "id": "68f02a60",
   "metadata": {
    "execution": {
     "iopub.execute_input": "2022-03-07T02:33:26.639246Z",
     "iopub.status.busy": "2022-03-07T02:33:26.638530Z",
     "iopub.status.idle": "2022-03-07T02:33:26.645644Z",
     "shell.execute_reply": "2022-03-07T02:33:26.644960Z"
    },
    "papermill": {
     "duration": 0.057757,
     "end_time": "2022-03-07T02:33:26.645799",
     "exception": false,
     "start_time": "2022-03-07T02:33:26.588042",
     "status": "completed"
    },
    "tags": []
   },
   "outputs": [
    {
     "data": {
      "application/javascript": [
       "parent.postMessage({\"jupyterEvent\": \"custom.exercise_interaction\", \"data\": {\"outcomeType\": 4, \"interactionType\": 1, \"questionType\": 1, \"questionId\": \"9_TopOceanicWines\", \"learnToolsVersion\": \"0.3.4\", \"valueTowardsCompletion\": 0.0, \"failureMessage\": \"\", \"exceptionClass\": \"\", \"trace\": \"\"}}, \"*\")"
      ],
      "text/plain": [
       "<IPython.core.display.Javascript object>"
      ]
     },
     "metadata": {},
     "output_type": "display_data"
    },
    {
     "data": {
      "text/markdown": [
       "<span style=\"color:#ccaa33\">Check:</span> When you've updated the starter code, `check()` will tell you whether your code is correct. You need to update the code that creates variable `top_oceania_wines`"
      ],
      "text/plain": [
       "Check: When you've updated the starter code, `check()` will tell you whether your code is correct. You need to update the code that creates variable `top_oceania_wines`"
      ]
     },
     "metadata": {},
     "output_type": "display_data"
    },
    {
     "data": {
      "text/markdown": [],
      "text/plain": [
       "<learntools.core.constants.PlaceholderValue at 0x7fdbd79c3590>"
      ]
     },
     "execution_count": 19,
     "metadata": {},
     "output_type": "execute_result"
    }
   ],
   "source": [
    "top_oceania_wines = ____\n",
    "\n",
    "# Check your answer\n",
    "q9.check()\n",
    "top_oceania_wines"
   ]
  },
  {
   "cell_type": "code",
   "execution_count": 20,
   "id": "017d8bc6",
   "metadata": {
    "execution": {
     "iopub.execute_input": "2022-03-07T02:33:26.745169Z",
     "iopub.status.busy": "2022-03-07T02:33:26.744514Z",
     "iopub.status.idle": "2022-03-07T02:33:26.747117Z",
     "shell.execute_reply": "2022-03-07T02:33:26.747770Z"
    },
    "papermill": {
     "duration": 0.055702,
     "end_time": "2022-03-07T02:33:26.747959",
     "exception": false,
     "start_time": "2022-03-07T02:33:26.692257",
     "status": "completed"
    },
    "tags": []
   },
   "outputs": [],
   "source": [
    "#q9.hint()\n",
    "#q9.solution()"
   ]
  },
  {
   "cell_type": "markdown",
   "id": "65b98a0d",
   "metadata": {
    "papermill": {
     "duration": 0.046376,
     "end_time": "2022-03-07T02:33:26.840292",
     "exception": false,
     "start_time": "2022-03-07T02:33:26.793916",
     "status": "completed"
    },
    "tags": []
   },
   "source": [
    "# Keep going\n",
    "\n",
    "Move on to learn about **[summary functions and maps](https://www.kaggle.com/residentmario/summary-functions-and-maps)**."
   ]
  },
  {
   "cell_type": "markdown",
   "id": "9eb1ccb5",
   "metadata": {
    "papermill": {
     "duration": 0.045062,
     "end_time": "2022-03-07T02:33:26.931372",
     "exception": false,
     "start_time": "2022-03-07T02:33:26.886310",
     "status": "completed"
    },
    "tags": []
   },
   "source": [
    "---\n",
    "\n",
    "\n",
    "\n",
    "\n",
    "*Have questions or comments? Visit the [course discussion forum](https://www.kaggle.com/learn/pandas/discussion) to chat with other learners.*"
   ]
  }
 ],
 "metadata": {
  "kernelspec": {
   "display_name": "Python 3",
   "language": "python",
   "name": "python3"
  },
  "language_info": {
   "codemirror_mode": {
    "name": "ipython",
    "version": 3
   },
   "file_extension": ".py",
   "mimetype": "text/x-python",
   "name": "python",
   "nbconvert_exporter": "python",
   "pygments_lexer": "ipython3",
   "version": "3.7.12"
  },
  "papermill": {
   "default_parameters": {},
   "duration": 17.911616,
   "end_time": "2022-03-07T02:33:27.889534",
   "environment_variables": {},
   "exception": null,
   "input_path": "__notebook__.ipynb",
   "output_path": "__notebook__.ipynb",
   "parameters": {},
   "start_time": "2022-03-07T02:33:09.977918",
   "version": "2.3.3"
  }
 },
 "nbformat": 4,
 "nbformat_minor": 5
}
