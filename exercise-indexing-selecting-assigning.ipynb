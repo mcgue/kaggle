{
 "cells": [
  {
   "cell_type": "markdown",
   "id": "74140f3d",
   "metadata": {
    "papermill": {
     "duration": 0.030523,
     "end_time": "2022-03-30T18:57:09.404125",
     "exception": false,
     "start_time": "2022-03-30T18:57:09.373602",
     "status": "completed"
    },
    "tags": []
   },
   "source": [
    "**This notebook is an exercise in the [Pandas](https://www.kaggle.com/learn/pandas) course.  You can reference the tutorial at [this link](https://www.kaggle.com/residentmario/indexing-selecting-assigning).**\n",
    "\n",
    "---\n"
   ]
  },
  {
   "cell_type": "markdown",
   "id": "68f0690f",
   "metadata": {
    "papermill": {
     "duration": 0.029507,
     "end_time": "2022-03-30T18:57:09.464721",
     "exception": false,
     "start_time": "2022-03-30T18:57:09.435214",
     "status": "completed"
    },
    "tags": []
   },
   "source": [
    "# Introduction\n",
    "\n",
    "In this set of exercises we will work with the [Wine Reviews dataset](https://www.kaggle.com/zynicide/wine-reviews). "
   ]
  },
  {
   "cell_type": "markdown",
   "id": "929cb306",
   "metadata": {
    "papermill": {
     "duration": 0.029084,
     "end_time": "2022-03-30T18:57:09.523259",
     "exception": false,
     "start_time": "2022-03-30T18:57:09.494175",
     "status": "completed"
    },
    "tags": []
   },
   "source": [
    "Run the following cell to load your data and some utility functions (including code to check your answers)."
   ]
  },
  {
   "cell_type": "code",
   "execution_count": 1,
   "id": "588d6848",
   "metadata": {
    "execution": {
     "iopub.execute_input": "2022-03-30T18:57:09.585972Z",
     "iopub.status.busy": "2022-03-30T18:57:09.584846Z",
     "iopub.status.idle": "2022-03-30T18:57:12.411364Z",
     "shell.execute_reply": "2022-03-30T18:57:12.410521Z",
     "shell.execute_reply.started": "2022-03-30T18:44:13.528704Z"
    },
    "papermill": {
     "duration": 2.85898,
     "end_time": "2022-03-30T18:57:12.411579",
     "exception": false,
     "start_time": "2022-03-30T18:57:09.552599",
     "status": "completed"
    },
    "tags": []
   },
   "outputs": [
    {
     "name": "stdout",
     "output_type": "stream",
     "text": [
      "Setup complete.\n"
     ]
    }
   ],
   "source": [
    "import pandas as pd\n",
    "\n",
    "reviews = pd.read_csv(\"../input/wine-reviews/winemag-data-130k-v2.csv\", index_col=0)\n",
    "pd.set_option(\"display.max_rows\", 5)\n",
    "\n",
    "from learntools.core import binder; binder.bind(globals())\n",
    "from learntools.pandas.indexing_selecting_and_assigning import *\n",
    "print(\"Setup complete.\")"
   ]
  },
  {
   "cell_type": "markdown",
   "id": "2e18e1b1",
   "metadata": {
    "papermill": {
     "duration": 0.02979,
     "end_time": "2022-03-30T18:57:12.473477",
     "exception": false,
     "start_time": "2022-03-30T18:57:12.443687",
     "status": "completed"
    },
    "tags": []
   },
   "source": [
    "Look at an overview of your data by running the following line."
   ]
  },
  {
   "cell_type": "code",
   "execution_count": 2,
   "id": "6e207a3b",
   "metadata": {
    "execution": {
     "iopub.execute_input": "2022-03-30T18:57:12.543290Z",
     "iopub.status.busy": "2022-03-30T18:57:12.542213Z",
     "iopub.status.idle": "2022-03-30T18:57:12.563161Z",
     "shell.execute_reply": "2022-03-30T18:57:12.563760Z",
     "shell.execute_reply.started": "2022-03-07T02:22:06.674593Z"
    },
    "papermill": {
     "duration": 0.059838,
     "end_time": "2022-03-30T18:57:12.563925",
     "exception": false,
     "start_time": "2022-03-30T18:57:12.504087",
     "status": "completed"
    },
    "tags": []
   },
   "outputs": [
    {
     "data": {
      "text/html": [
       "<div>\n",
       "<style scoped>\n",
       "    .dataframe tbody tr th:only-of-type {\n",
       "        vertical-align: middle;\n",
       "    }\n",
       "\n",
       "    .dataframe tbody tr th {\n",
       "        vertical-align: top;\n",
       "    }\n",
       "\n",
       "    .dataframe thead th {\n",
       "        text-align: right;\n",
       "    }\n",
       "</style>\n",
       "<table border=\"1\" class=\"dataframe\">\n",
       "  <thead>\n",
       "    <tr style=\"text-align: right;\">\n",
       "      <th></th>\n",
       "      <th>country</th>\n",
       "      <th>description</th>\n",
       "      <th>designation</th>\n",
       "      <th>points</th>\n",
       "      <th>price</th>\n",
       "      <th>province</th>\n",
       "      <th>region_1</th>\n",
       "      <th>region_2</th>\n",
       "      <th>taster_name</th>\n",
       "      <th>taster_twitter_handle</th>\n",
       "      <th>title</th>\n",
       "      <th>variety</th>\n",
       "      <th>winery</th>\n",
       "    </tr>\n",
       "  </thead>\n",
       "  <tbody>\n",
       "    <tr>\n",
       "      <th>0</th>\n",
       "      <td>Italy</td>\n",
       "      <td>Aromas include tropical fruit, broom, brimston...</td>\n",
       "      <td>Vulkà Bianco</td>\n",
       "      <td>87</td>\n",
       "      <td>NaN</td>\n",
       "      <td>Sicily &amp; Sardinia</td>\n",
       "      <td>Etna</td>\n",
       "      <td>NaN</td>\n",
       "      <td>Kerin O’Keefe</td>\n",
       "      <td>@kerinokeefe</td>\n",
       "      <td>Nicosia 2013 Vulkà Bianco  (Etna)</td>\n",
       "      <td>White Blend</td>\n",
       "      <td>Nicosia</td>\n",
       "    </tr>\n",
       "    <tr>\n",
       "      <th>1</th>\n",
       "      <td>Portugal</td>\n",
       "      <td>This is ripe and fruity, a wine that is smooth...</td>\n",
       "      <td>Avidagos</td>\n",
       "      <td>87</td>\n",
       "      <td>15.0</td>\n",
       "      <td>Douro</td>\n",
       "      <td>NaN</td>\n",
       "      <td>NaN</td>\n",
       "      <td>Roger Voss</td>\n",
       "      <td>@vossroger</td>\n",
       "      <td>Quinta dos Avidagos 2011 Avidagos Red (Douro)</td>\n",
       "      <td>Portuguese Red</td>\n",
       "      <td>Quinta dos Avidagos</td>\n",
       "    </tr>\n",
       "    <tr>\n",
       "      <th>2</th>\n",
       "      <td>US</td>\n",
       "      <td>Tart and snappy, the flavors of lime flesh and...</td>\n",
       "      <td>NaN</td>\n",
       "      <td>87</td>\n",
       "      <td>14.0</td>\n",
       "      <td>Oregon</td>\n",
       "      <td>Willamette Valley</td>\n",
       "      <td>Willamette Valley</td>\n",
       "      <td>Paul Gregutt</td>\n",
       "      <td>@paulgwine</td>\n",
       "      <td>Rainstorm 2013 Pinot Gris (Willamette Valley)</td>\n",
       "      <td>Pinot Gris</td>\n",
       "      <td>Rainstorm</td>\n",
       "    </tr>\n",
       "    <tr>\n",
       "      <th>3</th>\n",
       "      <td>US</td>\n",
       "      <td>Pineapple rind, lemon pith and orange blossom ...</td>\n",
       "      <td>Reserve Late Harvest</td>\n",
       "      <td>87</td>\n",
       "      <td>13.0</td>\n",
       "      <td>Michigan</td>\n",
       "      <td>Lake Michigan Shore</td>\n",
       "      <td>NaN</td>\n",
       "      <td>Alexander Peartree</td>\n",
       "      <td>NaN</td>\n",
       "      <td>St. Julian 2013 Reserve Late Harvest Riesling ...</td>\n",
       "      <td>Riesling</td>\n",
       "      <td>St. Julian</td>\n",
       "    </tr>\n",
       "    <tr>\n",
       "      <th>4</th>\n",
       "      <td>US</td>\n",
       "      <td>Much like the regular bottling from 2012, this...</td>\n",
       "      <td>Vintner's Reserve Wild Child Block</td>\n",
       "      <td>87</td>\n",
       "      <td>65.0</td>\n",
       "      <td>Oregon</td>\n",
       "      <td>Willamette Valley</td>\n",
       "      <td>Willamette Valley</td>\n",
       "      <td>Paul Gregutt</td>\n",
       "      <td>@paulgwine</td>\n",
       "      <td>Sweet Cheeks 2012 Vintner's Reserve Wild Child...</td>\n",
       "      <td>Pinot Noir</td>\n",
       "      <td>Sweet Cheeks</td>\n",
       "    </tr>\n",
       "  </tbody>\n",
       "</table>\n",
       "</div>"
      ],
      "text/plain": [
       "    country                                        description  \\\n",
       "0     Italy  Aromas include tropical fruit, broom, brimston...   \n",
       "1  Portugal  This is ripe and fruity, a wine that is smooth...   \n",
       "2        US  Tart and snappy, the flavors of lime flesh and...   \n",
       "3        US  Pineapple rind, lemon pith and orange blossom ...   \n",
       "4        US  Much like the regular bottling from 2012, this...   \n",
       "\n",
       "                          designation  points  price           province  \\\n",
       "0                        Vulkà Bianco      87    NaN  Sicily & Sardinia   \n",
       "1                            Avidagos      87   15.0              Douro   \n",
       "2                                 NaN      87   14.0             Oregon   \n",
       "3                Reserve Late Harvest      87   13.0           Michigan   \n",
       "4  Vintner's Reserve Wild Child Block      87   65.0             Oregon   \n",
       "\n",
       "              region_1           region_2         taster_name  \\\n",
       "0                 Etna                NaN       Kerin O’Keefe   \n",
       "1                  NaN                NaN          Roger Voss   \n",
       "2    Willamette Valley  Willamette Valley        Paul Gregutt   \n",
       "3  Lake Michigan Shore                NaN  Alexander Peartree   \n",
       "4    Willamette Valley  Willamette Valley        Paul Gregutt   \n",
       "\n",
       "  taster_twitter_handle                                              title  \\\n",
       "0          @kerinokeefe                  Nicosia 2013 Vulkà Bianco  (Etna)   \n",
       "1            @vossroger      Quinta dos Avidagos 2011 Avidagos Red (Douro)   \n",
       "2           @paulgwine       Rainstorm 2013 Pinot Gris (Willamette Valley)   \n",
       "3                   NaN  St. Julian 2013 Reserve Late Harvest Riesling ...   \n",
       "4           @paulgwine   Sweet Cheeks 2012 Vintner's Reserve Wild Child...   \n",
       "\n",
       "          variety               winery  \n",
       "0     White Blend              Nicosia  \n",
       "1  Portuguese Red  Quinta dos Avidagos  \n",
       "2      Pinot Gris            Rainstorm  \n",
       "3        Riesling           St. Julian  \n",
       "4      Pinot Noir         Sweet Cheeks  "
      ]
     },
     "execution_count": 2,
     "metadata": {},
     "output_type": "execute_result"
    }
   ],
   "source": [
    "reviews.head()"
   ]
  },
  {
   "cell_type": "markdown",
   "id": "632c7c16",
   "metadata": {
    "papermill": {
     "duration": 0.03112,
     "end_time": "2022-03-30T18:57:12.625744",
     "exception": false,
     "start_time": "2022-03-30T18:57:12.594624",
     "status": "completed"
    },
    "tags": []
   },
   "source": [
    "# Exercises"
   ]
  },
  {
   "cell_type": "markdown",
   "id": "ac9ca97b",
   "metadata": {
    "papermill": {
     "duration": 0.030269,
     "end_time": "2022-03-30T18:57:12.688230",
     "exception": false,
     "start_time": "2022-03-30T18:57:12.657961",
     "status": "completed"
    },
    "tags": []
   },
   "source": [
    "## 1.\n",
    "\n",
    "Select the `description` column from `reviews` and assign the result to the variable `desc`."
   ]
  },
  {
   "cell_type": "code",
   "execution_count": 3,
   "id": "7f13c6b8",
   "metadata": {
    "execution": {
     "iopub.execute_input": "2022-03-30T18:57:12.759968Z",
     "iopub.status.busy": "2022-03-30T18:57:12.759245Z",
     "iopub.status.idle": "2022-03-30T18:57:12.769769Z",
     "shell.execute_reply": "2022-03-30T18:57:12.770610Z",
     "shell.execute_reply.started": "2022-03-30T18:45:56.741068Z"
    },
    "papermill": {
     "duration": 0.05169,
     "end_time": "2022-03-30T18:57:12.770806",
     "exception": false,
     "start_time": "2022-03-30T18:57:12.719116",
     "status": "completed"
    },
    "tags": []
   },
   "outputs": [
    {
     "name": "stdout",
     "output_type": "stream",
     "text": [
      "<class 'pandas.core.series.Series'>\n"
     ]
    },
    {
     "data": {
      "application/javascript": [
       "parent.postMessage({\"jupyterEvent\": \"custom.exercise_interaction\", \"data\": {\"outcomeType\": 1, \"valueTowardsCompletion\": 0.1111111111111111, \"interactionType\": 1, \"questionType\": 1, \"questionId\": \"1_SelectDescCol\", \"learnToolsVersion\": \"0.3.4\", \"failureMessage\": \"\", \"exceptionClass\": \"\", \"trace\": \"\"}}, \"*\")"
      ],
      "text/plain": [
       "<IPython.core.display.Javascript object>"
      ]
     },
     "metadata": {},
     "output_type": "display_data"
    },
    {
     "data": {
      "text/markdown": [
       "<span style=\"color:#33cc33\">Correct</span>"
      ],
      "text/plain": [
       "Correct"
      ]
     },
     "metadata": {},
     "output_type": "display_data"
    }
   ],
   "source": [
    "# Your code here\n",
    "desc = reviews.description\n",
    "print(type(desc))\n",
    "\n",
    "# Check your answer\n",
    "q1.check()"
   ]
  },
  {
   "cell_type": "markdown",
   "id": "71eb4306",
   "metadata": {
    "papermill": {
     "duration": 0.031734,
     "end_time": "2022-03-30T18:57:12.836810",
     "exception": false,
     "start_time": "2022-03-30T18:57:12.805076",
     "status": "completed"
    },
    "tags": []
   },
   "source": [
    "Follow-up question: what type of object is `desc`? If you're not sure, you can check by calling Python's `type` function: `type(desc)`."
   ]
  },
  {
   "cell_type": "code",
   "execution_count": 4,
   "id": "ccd818bf",
   "metadata": {
    "execution": {
     "iopub.execute_input": "2022-03-30T18:57:12.904728Z",
     "iopub.status.busy": "2022-03-30T18:57:12.903574Z",
     "iopub.status.idle": "2022-03-30T18:57:12.906739Z",
     "shell.execute_reply": "2022-03-30T18:57:12.907253Z",
     "shell.execute_reply.started": "2022-03-30T18:46:26.509149Z"
    },
    "papermill": {
     "duration": 0.038597,
     "end_time": "2022-03-30T18:57:12.907422",
     "exception": false,
     "start_time": "2022-03-30T18:57:12.868825",
     "status": "completed"
    },
    "tags": []
   },
   "outputs": [],
   "source": [
    "#q1.hint()\n",
    "#q1.solution()"
   ]
  },
  {
   "cell_type": "markdown",
   "id": "13febdff",
   "metadata": {
    "papermill": {
     "duration": 0.032717,
     "end_time": "2022-03-30T18:57:12.974336",
     "exception": false,
     "start_time": "2022-03-30T18:57:12.941619",
     "status": "completed"
    },
    "tags": []
   },
   "source": [
    "## 2.\n",
    "\n",
    "Select the first value from the description column of `reviews`, assigning it to variable `first_description`."
   ]
  },
  {
   "cell_type": "code",
   "execution_count": 5,
   "id": "356a225e",
   "metadata": {
    "execution": {
     "iopub.execute_input": "2022-03-30T18:57:13.041517Z",
     "iopub.status.busy": "2022-03-30T18:57:13.040835Z",
     "iopub.status.idle": "2022-03-30T18:57:13.052438Z",
     "shell.execute_reply": "2022-03-30T18:57:13.053029Z",
     "shell.execute_reply.started": "2022-03-30T18:46:49.728889Z"
    },
    "papermill": {
     "duration": 0.046977,
     "end_time": "2022-03-30T18:57:13.053200",
     "exception": false,
     "start_time": "2022-03-30T18:57:13.006223",
     "status": "completed"
    },
    "tags": []
   },
   "outputs": [
    {
     "data": {
      "application/javascript": [
       "parent.postMessage({\"jupyterEvent\": \"custom.exercise_interaction\", \"data\": {\"outcomeType\": 1, \"valueTowardsCompletion\": 0.1111111111111111, \"interactionType\": 1, \"questionType\": 1, \"questionId\": \"2_FirstDesc\", \"learnToolsVersion\": \"0.3.4\", \"failureMessage\": \"\", \"exceptionClass\": \"\", \"trace\": \"\"}}, \"*\")"
      ],
      "text/plain": [
       "<IPython.core.display.Javascript object>"
      ]
     },
     "metadata": {},
     "output_type": "display_data"
    },
    {
     "data": {
      "text/markdown": [
       "<span style=\"color:#33cc33\">Correct:</span> \n",
       "\n",
       "\n",
       "```python\n",
       "first_description = reviews.description.iloc[0]\n",
       "```\n",
       "Note that while this is the preferred way to obtain the entry in the DataFrame, many other options will return a valid result, such as `reviews.description.loc[0]`, `reviews.description[0]`, and more!  \n"
      ],
      "text/plain": [
       "Correct: \n",
       "\n",
       "\n",
       "```python\n",
       "first_description = reviews.description.iloc[0]\n",
       "```\n",
       "Note that while this is the preferred way to obtain the entry in the DataFrame, many other options will return a valid result, such as `reviews.description.loc[0]`, `reviews.description[0]`, and more!  "
      ]
     },
     "metadata": {},
     "output_type": "display_data"
    }
   ],
   "source": [
    "first_description = reviews['description'][0]\n",
    "\n",
    "# Check your answer\n",
    "q2.check()"
   ]
  },
  {
   "cell_type": "code",
   "execution_count": 6,
   "id": "90e40ef5",
   "metadata": {
    "execution": {
     "iopub.execute_input": "2022-03-30T18:57:13.122879Z",
     "iopub.status.busy": "2022-03-30T18:57:13.122260Z",
     "iopub.status.idle": "2022-03-30T18:57:13.125027Z",
     "shell.execute_reply": "2022-03-30T18:57:13.125615Z"
    },
    "papermill": {
     "duration": 0.039181,
     "end_time": "2022-03-30T18:57:13.125774",
     "exception": false,
     "start_time": "2022-03-30T18:57:13.086593",
     "status": "completed"
    },
    "tags": []
   },
   "outputs": [],
   "source": [
    "#q2.hint()\n",
    "#q2.solution()"
   ]
  },
  {
   "cell_type": "markdown",
   "id": "c990f2e6",
   "metadata": {
    "papermill": {
     "duration": 0.033339,
     "end_time": "2022-03-30T18:57:13.194023",
     "exception": false,
     "start_time": "2022-03-30T18:57:13.160684",
     "status": "completed"
    },
    "tags": []
   },
   "source": [
    "## 3. \n",
    "\n",
    "Select the first row of data (the first record) from `reviews`, assigning it to the variable `first_row`."
   ]
  },
  {
   "cell_type": "code",
   "execution_count": 7,
   "id": "f9dfc48f",
   "metadata": {
    "execution": {
     "iopub.execute_input": "2022-03-30T18:57:13.268915Z",
     "iopub.status.busy": "2022-03-30T18:57:13.268237Z",
     "iopub.status.idle": "2022-03-30T18:57:13.272429Z",
     "shell.execute_reply": "2022-03-30T18:57:13.273006Z",
     "shell.execute_reply.started": "2022-03-30T18:47:49.111608Z"
    },
    "papermill": {
     "duration": 0.044522,
     "end_time": "2022-03-30T18:57:13.273171",
     "exception": false,
     "start_time": "2022-03-30T18:57:13.228649",
     "status": "completed"
    },
    "tags": []
   },
   "outputs": [
    {
     "data": {
      "application/javascript": [
       "parent.postMessage({\"jupyterEvent\": \"custom.exercise_interaction\", \"data\": {\"outcomeType\": 1, \"valueTowardsCompletion\": 0.1111111111111111, \"interactionType\": 1, \"questionType\": 1, \"questionId\": \"3_FirstRow\", \"learnToolsVersion\": \"0.3.4\", \"failureMessage\": \"\", \"exceptionClass\": \"\", \"trace\": \"\"}}, \"*\")"
      ],
      "text/plain": [
       "<IPython.core.display.Javascript object>"
      ]
     },
     "metadata": {},
     "output_type": "display_data"
    },
    {
     "data": {
      "text/markdown": [
       "<span style=\"color:#33cc33\">Correct</span>"
      ],
      "text/plain": [
       "Correct"
      ]
     },
     "metadata": {},
     "output_type": "display_data"
    }
   ],
   "source": [
    "first_row = reviews.iloc[0]\n",
    "\n",
    "# Check your answer\n",
    "q3.check()"
   ]
  },
  {
   "cell_type": "code",
   "execution_count": 8,
   "id": "a9c5b0b8",
   "metadata": {
    "execution": {
     "iopub.execute_input": "2022-03-30T18:57:13.346980Z",
     "iopub.status.busy": "2022-03-30T18:57:13.346357Z",
     "iopub.status.idle": "2022-03-30T18:57:13.348197Z",
     "shell.execute_reply": "2022-03-30T18:57:13.348698Z",
     "shell.execute_reply.started": "2022-03-30T18:48:16.092874Z"
    },
    "papermill": {
     "duration": 0.040853,
     "end_time": "2022-03-30T18:57:13.348862",
     "exception": false,
     "start_time": "2022-03-30T18:57:13.308009",
     "status": "completed"
    },
    "tags": []
   },
   "outputs": [],
   "source": [
    "#q3.hint()\n",
    "#q3.solution()"
   ]
  },
  {
   "cell_type": "markdown",
   "id": "004923dd",
   "metadata": {
    "papermill": {
     "duration": 0.034732,
     "end_time": "2022-03-30T18:57:13.418662",
     "exception": false,
     "start_time": "2022-03-30T18:57:13.383930",
     "status": "completed"
    },
    "tags": []
   },
   "source": [
    "## 4.\n",
    "\n",
    "Select the first 10 values from the `description` column in `reviews`, assigning the result to variable `first_descriptions`.\n",
    "\n",
    "Hint: format your output as a pandas Series."
   ]
  },
  {
   "cell_type": "code",
   "execution_count": 9,
   "id": "66e81688",
   "metadata": {
    "execution": {
     "iopub.execute_input": "2022-03-30T18:57:13.493897Z",
     "iopub.status.busy": "2022-03-30T18:57:13.490665Z",
     "iopub.status.idle": "2022-03-30T18:57:13.497940Z",
     "shell.execute_reply": "2022-03-30T18:57:13.498464Z",
     "shell.execute_reply.started": "2022-03-30T18:50:15.623739Z"
    },
    "papermill": {
     "duration": 0.045135,
     "end_time": "2022-03-30T18:57:13.498649",
     "exception": false,
     "start_time": "2022-03-30T18:57:13.453514",
     "status": "completed"
    },
    "tags": []
   },
   "outputs": [
    {
     "data": {
      "application/javascript": [
       "parent.postMessage({\"jupyterEvent\": \"custom.exercise_interaction\", \"data\": {\"outcomeType\": 1, \"valueTowardsCompletion\": 0.1111111111111111, \"interactionType\": 1, \"questionType\": 1, \"questionId\": \"4_FirstDescs\", \"learnToolsVersion\": \"0.3.4\", \"failureMessage\": \"\", \"exceptionClass\": \"\", \"trace\": \"\"}}, \"*\")"
      ],
      "text/plain": [
       "<IPython.core.display.Javascript object>"
      ]
     },
     "metadata": {},
     "output_type": "display_data"
    },
    {
     "data": {
      "text/markdown": [
       "<span style=\"color:#33cc33\">Correct:</span> \n",
       "\n",
       "\n",
       "```python\n",
       "first_descriptions = reviews.description.iloc[:10]\n",
       "```\n",
       "Note that many other options will return a valid result, such as `desc.head(10)` and `reviews.loc[:9, \"description\"]`.    \n"
      ],
      "text/plain": [
       "Correct: \n",
       "\n",
       "\n",
       "```python\n",
       "first_descriptions = reviews.description.iloc[:10]\n",
       "```\n",
       "Note that many other options will return a valid result, such as `desc.head(10)` and `reviews.loc[:9, \"description\"]`.    "
      ]
     },
     "metadata": {},
     "output_type": "display_data"
    }
   ],
   "source": [
    "first_descriptions = reviews.description.iloc[:10]\n",
    "\n",
    "# Check your answer\n",
    "q4.check()"
   ]
  },
  {
   "cell_type": "code",
   "execution_count": 10,
   "id": "60c082e0",
   "metadata": {
    "execution": {
     "iopub.execute_input": "2022-03-30T18:57:13.573617Z",
     "iopub.status.busy": "2022-03-30T18:57:13.572919Z",
     "iopub.status.idle": "2022-03-30T18:57:13.576647Z",
     "shell.execute_reply": "2022-03-30T18:57:13.577099Z"
    },
    "papermill": {
     "duration": 0.042725,
     "end_time": "2022-03-30T18:57:13.577264",
     "exception": false,
     "start_time": "2022-03-30T18:57:13.534539",
     "status": "completed"
    },
    "tags": []
   },
   "outputs": [],
   "source": [
    "#q4.hint()\n",
    "#q4.solution()"
   ]
  },
  {
   "cell_type": "markdown",
   "id": "2ed659b6",
   "metadata": {
    "papermill": {
     "duration": 0.035782,
     "end_time": "2022-03-30T18:57:13.649087",
     "exception": false,
     "start_time": "2022-03-30T18:57:13.613305",
     "status": "completed"
    },
    "tags": []
   },
   "source": [
    "## 5.\n",
    "\n",
    "Select the records with index labels `1`, `2`, `3`, `5`, and `8`, assigning the result to the variable `sample_reviews`.\n",
    "\n",
    "In other words, generate the following DataFrame:\n",
    "\n",
    "![](https://i.imgur.com/sHZvI1O.png)"
   ]
  },
  {
   "cell_type": "code",
   "execution_count": 11,
   "id": "4b0667bb",
   "metadata": {
    "execution": {
     "iopub.execute_input": "2022-03-30T18:57:13.729204Z",
     "iopub.status.busy": "2022-03-30T18:57:13.728541Z",
     "iopub.status.idle": "2022-03-30T18:57:13.733198Z",
     "shell.execute_reply": "2022-03-30T18:57:13.733693Z",
     "shell.execute_reply.started": "2022-03-30T18:52:37.251500Z"
    },
    "papermill": {
     "duration": 0.048564,
     "end_time": "2022-03-30T18:57:13.733858",
     "exception": false,
     "start_time": "2022-03-30T18:57:13.685294",
     "status": "completed"
    },
    "tags": []
   },
   "outputs": [
    {
     "data": {
      "application/javascript": [
       "parent.postMessage({\"jupyterEvent\": \"custom.exercise_interaction\", \"data\": {\"outcomeType\": 1, \"valueTowardsCompletion\": 0.1111111111111111, \"interactionType\": 1, \"questionType\": 1, \"questionId\": \"5_SampleReviews\", \"learnToolsVersion\": \"0.3.4\", \"failureMessage\": \"\", \"exceptionClass\": \"\", \"trace\": \"\"}}, \"*\")"
      ],
      "text/plain": [
       "<IPython.core.display.Javascript object>"
      ]
     },
     "metadata": {},
     "output_type": "display_data"
    },
    {
     "data": {
      "text/markdown": [
       "<span style=\"color:#33cc33\">Correct</span>"
      ],
      "text/plain": [
       "Correct"
      ]
     },
     "metadata": {},
     "output_type": "display_data"
    }
   ],
   "source": [
    "to_select = [1,2,3,5,8]\n",
    "sample_reviews = reviews.loc[to_select]\n",
    "\n",
    "# Check your answer\n",
    "q5.check()"
   ]
  },
  {
   "cell_type": "code",
   "execution_count": 12,
   "id": "f0641536",
   "metadata": {
    "execution": {
     "iopub.execute_input": "2022-03-30T18:57:13.812809Z",
     "iopub.status.busy": "2022-03-30T18:57:13.812190Z",
     "iopub.status.idle": "2022-03-30T18:57:13.813961Z",
     "shell.execute_reply": "2022-03-30T18:57:13.814432Z",
     "shell.execute_reply.started": "2022-03-30T18:52:54.997237Z"
    },
    "papermill": {
     "duration": 0.043385,
     "end_time": "2022-03-30T18:57:13.814604",
     "exception": false,
     "start_time": "2022-03-30T18:57:13.771219",
     "status": "completed"
    },
    "tags": []
   },
   "outputs": [],
   "source": [
    "#q5.hint()\n",
    "#q5.solution()"
   ]
  },
  {
   "cell_type": "markdown",
   "id": "9abdd9d9",
   "metadata": {
    "papermill": {
     "duration": 0.038427,
     "end_time": "2022-03-30T18:57:13.890415",
     "exception": false,
     "start_time": "2022-03-30T18:57:13.851988",
     "status": "completed"
    },
    "tags": []
   },
   "source": [
    "## 6.\n",
    "\n",
    "Create a variable `df` containing the `country`, `province`, `region_1`, and `region_2` columns of the records with the index labels `0`, `1`, `10`, and `100`. In other words, generate the following DataFrame:\n",
    "\n",
    "![](https://i.imgur.com/FUCGiKP.png)"
   ]
  },
  {
   "cell_type": "code",
   "execution_count": 13,
   "id": "a4af78d0",
   "metadata": {
    "execution": {
     "iopub.execute_input": "2022-03-30T18:57:13.974400Z",
     "iopub.status.busy": "2022-03-30T18:57:13.973745Z",
     "iopub.status.idle": "2022-03-30T18:57:13.985205Z",
     "shell.execute_reply": "2022-03-30T18:57:13.985782Z",
     "shell.execute_reply.started": "2022-03-30T18:53:29.326138Z"
    },
    "papermill": {
     "duration": 0.057479,
     "end_time": "2022-03-30T18:57:13.985950",
     "exception": false,
     "start_time": "2022-03-30T18:57:13.928471",
     "status": "completed"
    },
    "tags": []
   },
   "outputs": [
    {
     "data": {
      "application/javascript": [
       "parent.postMessage({\"jupyterEvent\": \"custom.exercise_interaction\", \"data\": {\"outcomeType\": 1, \"valueTowardsCompletion\": 0.1111111111111111, \"interactionType\": 1, \"questionType\": 1, \"questionId\": \"6_RowColSelect\", \"learnToolsVersion\": \"0.3.4\", \"failureMessage\": \"\", \"exceptionClass\": \"\", \"trace\": \"\"}}, \"*\")"
      ],
      "text/plain": [
       "<IPython.core.display.Javascript object>"
      ]
     },
     "metadata": {},
     "output_type": "display_data"
    },
    {
     "data": {
      "text/markdown": [
       "<span style=\"color:#33cc33\">Correct</span>"
      ],
      "text/plain": [
       "Correct"
      ]
     },
     "metadata": {},
     "output_type": "display_data"
    }
   ],
   "source": [
    "cols = ['country', 'province', 'region_1', 'region_2']\n",
    "indices = [0,1,10,100]\n",
    "\n",
    "df = reviews.loc[indices, cols]\n",
    "\n",
    "# Check your answer\n",
    "q6.check()"
   ]
  },
  {
   "cell_type": "code",
   "execution_count": 14,
   "id": "8515a042",
   "metadata": {
    "execution": {
     "iopub.execute_input": "2022-03-30T18:57:14.067892Z",
     "iopub.status.busy": "2022-03-30T18:57:14.066427Z",
     "iopub.status.idle": "2022-03-30T18:57:14.070900Z",
     "shell.execute_reply": "2022-03-30T18:57:14.070376Z",
     "shell.execute_reply.started": "2022-03-07T02:52:07.031253Z"
    },
    "papermill": {
     "duration": 0.046209,
     "end_time": "2022-03-30T18:57:14.071045",
     "exception": false,
     "start_time": "2022-03-30T18:57:14.024836",
     "status": "completed"
    },
    "tags": []
   },
   "outputs": [],
   "source": [
    "#q6.hint()\n",
    "#q6.solution()"
   ]
  },
  {
   "cell_type": "markdown",
   "id": "a1b58eba",
   "metadata": {
    "papermill": {
     "duration": 0.038295,
     "end_time": "2022-03-30T18:57:14.148007",
     "exception": false,
     "start_time": "2022-03-30T18:57:14.109712",
     "status": "completed"
    },
    "tags": []
   },
   "source": [
    "## 7.\n",
    "\n",
    "Create a variable `df` containing the `country` and `variety` columns of the first 100 records. \n",
    "\n",
    "Hint: you may use `loc` or `iloc`. When working on the answer this question and the several of the ones that follow, keep the following \"gotcha\" described in the tutorial:\n",
    "\n",
    "> `iloc` uses the Python stdlib indexing scheme, where the first element of the range is included and the last one excluded. \n",
    "`loc`, meanwhile, indexes inclusively. \n",
    "\n",
    "> This is particularly confusing when the DataFrame index is a simple numerical list, e.g. `0,...,1000`. In this case `df.iloc[0:1000]` will return 1000 entries, while `df.loc[0:1000]` return 1001 of them! To get 1000 elements using `loc`, you will need to go one lower and ask for `df.iloc[0:999]`. "
   ]
  },
  {
   "cell_type": "code",
   "execution_count": 15,
   "id": "85a73b18",
   "metadata": {
    "execution": {
     "iopub.execute_input": "2022-03-30T18:57:14.233915Z",
     "iopub.status.busy": "2022-03-30T18:57:14.233247Z",
     "iopub.status.idle": "2022-03-30T18:57:14.237579Z",
     "shell.execute_reply": "2022-03-30T18:57:14.238057Z",
     "shell.execute_reply.started": "2022-03-30T18:54:35.381925Z"
    },
    "papermill": {
     "duration": 0.051535,
     "end_time": "2022-03-30T18:57:14.238219",
     "exception": false,
     "start_time": "2022-03-30T18:57:14.186684",
     "status": "completed"
    },
    "tags": []
   },
   "outputs": [
    {
     "data": {
      "application/javascript": [
       "parent.postMessage({\"jupyterEvent\": \"custom.exercise_interaction\", \"data\": {\"outcomeType\": 1, \"valueTowardsCompletion\": 0.1111111111111111, \"interactionType\": 1, \"questionType\": 1, \"questionId\": \"7_RowColSelect2\", \"learnToolsVersion\": \"0.3.4\", \"failureMessage\": \"\", \"exceptionClass\": \"\", \"trace\": \"\"}}, \"*\")"
      ],
      "text/plain": [
       "<IPython.core.display.Javascript object>"
      ]
     },
     "metadata": {},
     "output_type": "display_data"
    },
    {
     "data": {
      "text/markdown": [
       "<span style=\"color:#33cc33\">Correct:</span> \n",
       "\n",
       "\n",
       "```python\n",
       "cols = ['country', 'variety']\n",
       "df = reviews.loc[:99, cols]\n",
       "```\n",
       "or \n",
       "```python\n",
       "cols_idx = [0, 11]\n",
       "df = reviews.iloc[:100, cols_idx]\n",
       "```\n"
      ],
      "text/plain": [
       "Correct: \n",
       "\n",
       "\n",
       "```python\n",
       "cols = ['country', 'variety']\n",
       "df = reviews.loc[:99, cols]\n",
       "```\n",
       "or \n",
       "```python\n",
       "cols_idx = [0, 11]\n",
       "df = reviews.iloc[:100, cols_idx]\n",
       "```"
      ]
     },
     "metadata": {},
     "output_type": "display_data"
    }
   ],
   "source": [
    "cols = ['country', 'variety']\n",
    "df = reviews.loc[:99, cols]\n",
    "\n",
    "# Check your answer\n",
    "q7.check()"
   ]
  },
  {
   "cell_type": "code",
   "execution_count": 16,
   "id": "fa4e6fc2",
   "metadata": {
    "execution": {
     "iopub.execute_input": "2022-03-30T18:57:14.321680Z",
     "iopub.status.busy": "2022-03-30T18:57:14.321053Z",
     "iopub.status.idle": "2022-03-30T18:57:14.324013Z",
     "shell.execute_reply": "2022-03-30T18:57:14.323462Z",
     "shell.execute_reply.started": "2022-03-30T18:55:03.221335Z"
    },
    "papermill": {
     "duration": 0.046222,
     "end_time": "2022-03-30T18:57:14.324158",
     "exception": false,
     "start_time": "2022-03-30T18:57:14.277936",
     "status": "completed"
    },
    "tags": []
   },
   "outputs": [],
   "source": [
    "#q7.hint()\n",
    "#q7.solution()"
   ]
  },
  {
   "cell_type": "markdown",
   "id": "9f638f0c",
   "metadata": {
    "papermill": {
     "duration": 0.039606,
     "end_time": "2022-03-30T18:57:14.403505",
     "exception": false,
     "start_time": "2022-03-30T18:57:14.363899",
     "status": "completed"
    },
    "tags": []
   },
   "source": [
    "## 8.\n",
    "\n",
    "Create a DataFrame `italian_wines` containing reviews of wines made in `Italy`. Hint: `reviews.country` equals what?"
   ]
  },
  {
   "cell_type": "code",
   "execution_count": 17,
   "id": "6093ef71",
   "metadata": {
    "execution": {
     "iopub.execute_input": "2022-03-30T18:57:14.487196Z",
     "iopub.status.busy": "2022-03-30T18:57:14.486540Z",
     "iopub.status.idle": "2022-03-30T18:57:14.516105Z",
     "shell.execute_reply": "2022-03-30T18:57:14.516647Z",
     "shell.execute_reply.started": "2022-03-30T18:55:25.181360Z"
    },
    "papermill": {
     "duration": 0.07349,
     "end_time": "2022-03-30T18:57:14.516816",
     "exception": false,
     "start_time": "2022-03-30T18:57:14.443326",
     "status": "completed"
    },
    "tags": []
   },
   "outputs": [],
   "source": [
    "italian_wines = reviews.loc[reviews.country == 'Italy']\n",
    "\n",
    "# Check your answer\n",
    "#q8.check()"
   ]
  },
  {
   "cell_type": "code",
   "execution_count": 18,
   "id": "6f3664bf",
   "metadata": {
    "execution": {
     "iopub.execute_input": "2022-03-30T18:57:14.604088Z",
     "iopub.status.busy": "2022-03-30T18:57:14.603467Z",
     "iopub.status.idle": "2022-03-30T18:57:14.606568Z",
     "shell.execute_reply": "2022-03-30T18:57:14.606059Z"
    },
    "papermill": {
     "duration": 0.048686,
     "end_time": "2022-03-30T18:57:14.606704",
     "exception": false,
     "start_time": "2022-03-30T18:57:14.558018",
     "status": "completed"
    },
    "tags": []
   },
   "outputs": [],
   "source": [
    "#q8.hint()\n",
    "#q8.solution()"
   ]
  },
  {
   "cell_type": "markdown",
   "id": "31e9c565",
   "metadata": {
    "papermill": {
     "duration": 0.039856,
     "end_time": "2022-03-30T18:57:14.686640",
     "exception": false,
     "start_time": "2022-03-30T18:57:14.646784",
     "status": "completed"
    },
    "tags": []
   },
   "source": [
    "## 9.\n",
    "\n",
    "Create a DataFrame `top_oceania_wines` containing all reviews with at least 95 points (out of 100) for wines from Australia or New Zealand."
   ]
  },
  {
   "cell_type": "code",
   "execution_count": 19,
   "id": "8495cb7d",
   "metadata": {
    "execution": {
     "iopub.execute_input": "2022-03-30T18:57:14.811241Z",
     "iopub.status.busy": "2022-03-30T18:57:14.810540Z",
     "iopub.status.idle": "2022-03-30T18:57:14.819996Z",
     "shell.execute_reply": "2022-03-30T18:57:14.819448Z",
     "shell.execute_reply.started": "2022-03-30T18:56:42.029344Z"
    },
    "papermill": {
     "duration": 0.092642,
     "end_time": "2022-03-30T18:57:14.820147",
     "exception": false,
     "start_time": "2022-03-30T18:57:14.727505",
     "status": "completed"
    },
    "tags": []
   },
   "outputs": [
    {
     "data": {
      "application/javascript": [
       "parent.postMessage({\"jupyterEvent\": \"custom.exercise_interaction\", \"data\": {\"outcomeType\": 1, \"valueTowardsCompletion\": 0.1111111111111111, \"interactionType\": 1, \"questionType\": 1, \"questionId\": \"9_TopOceanicWines\", \"learnToolsVersion\": \"0.3.4\", \"failureMessage\": \"\", \"exceptionClass\": \"\", \"trace\": \"\"}}, \"*\")"
      ],
      "text/plain": [
       "<IPython.core.display.Javascript object>"
      ]
     },
     "metadata": {},
     "output_type": "display_data"
    },
    {
     "data": {
      "text/markdown": [
       "<span style=\"color:#33cc33\">Correct</span>"
      ],
      "text/plain": [
       "Correct"
      ]
     },
     "metadata": {},
     "output_type": "display_data"
    }
   ],
   "source": [
    "top_oceania_wines = reviews.loc[((reviews.country == 'Australia') | (reviews.country == 'New Zealand')) & (reviews.points >= 95) ]\n",
    "\n",
    "# Check your answer\n",
    "q9.check()"
   ]
  },
  {
   "cell_type": "code",
   "execution_count": 20,
   "id": "73d78117",
   "metadata": {
    "execution": {
     "iopub.execute_input": "2022-03-30T18:57:14.908120Z",
     "iopub.status.busy": "2022-03-30T18:57:14.907376Z",
     "iopub.status.idle": "2022-03-30T18:57:14.910252Z",
     "shell.execute_reply": "2022-03-30T18:57:14.910709Z"
    },
    "papermill": {
     "duration": 0.04942,
     "end_time": "2022-03-30T18:57:14.910879",
     "exception": false,
     "start_time": "2022-03-30T18:57:14.861459",
     "status": "completed"
    },
    "tags": []
   },
   "outputs": [],
   "source": [
    "#q9.hint()\n",
    "#q9.solution()"
   ]
  },
  {
   "cell_type": "markdown",
   "id": "0fd4a72e",
   "metadata": {
    "papermill": {
     "duration": 0.041746,
     "end_time": "2022-03-30T18:57:14.994191",
     "exception": false,
     "start_time": "2022-03-30T18:57:14.952445",
     "status": "completed"
    },
    "tags": []
   },
   "source": [
    "# Keep going\n",
    "\n",
    "Move on to learn about **[summary functions and maps](https://www.kaggle.com/residentmario/summary-functions-and-maps)**."
   ]
  },
  {
   "cell_type": "markdown",
   "id": "e46eafad",
   "metadata": {
    "papermill": {
     "duration": 0.041283,
     "end_time": "2022-03-30T18:57:15.076755",
     "exception": false,
     "start_time": "2022-03-30T18:57:15.035472",
     "status": "completed"
    },
    "tags": []
   },
   "source": [
    "---\n",
    "\n",
    "\n",
    "\n",
    "\n",
    "*Have questions or comments? Visit the [course discussion forum](https://www.kaggle.com/learn/pandas/discussion) to chat with other learners.*"
   ]
  }
 ],
 "metadata": {
  "kernelspec": {
   "display_name": "Python 3",
   "language": "python",
   "name": "python3"
  },
  "language_info": {
   "codemirror_mode": {
    "name": "ipython",
    "version": 3
   },
   "file_extension": ".py",
   "mimetype": "text/x-python",
   "name": "python",
   "nbconvert_exporter": "python",
   "pygments_lexer": "ipython3",
   "version": "3.7.12"
  },
  "papermill": {
   "default_parameters": {},
   "duration": 16.18716,
   "end_time": "2022-03-30T18:57:15.828393",
   "environment_variables": {},
   "exception": null,
   "input_path": "__notebook__.ipynb",
   "output_path": "__notebook__.ipynb",
   "parameters": {},
   "start_time": "2022-03-30T18:56:59.641233",
   "version": "2.3.3"
  }
 },
 "nbformat": 4,
 "nbformat_minor": 5
}
