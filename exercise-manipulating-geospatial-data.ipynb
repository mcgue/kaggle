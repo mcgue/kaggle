{
 "cells": [
  {
   "cell_type": "markdown",
   "id": "937687f0",
   "metadata": {
    "papermill": {
     "duration": 0.035408,
     "end_time": "2022-03-18T20:21:34.550094",
     "exception": false,
     "start_time": "2022-03-18T20:21:34.514686",
     "status": "completed"
    },
    "tags": []
   },
   "source": [
    "**This notebook is an exercise in the [Geospatial Analysis](https://www.kaggle.com/learn/geospatial-analysis) course.  You can reference the tutorial at [this link](https://www.kaggle.com/alexisbcook/manipulating-geospatial-data).**\n",
    "\n",
    "---\n"
   ]
  },
  {
   "cell_type": "markdown",
   "id": "f1e8f2b1",
   "metadata": {
    "papermill": {
     "duration": 0.031973,
     "end_time": "2022-03-18T20:21:34.616694",
     "exception": false,
     "start_time": "2022-03-18T20:21:34.584721",
     "status": "completed"
    },
    "tags": []
   },
   "source": [
    "# Introduction\n",
    "\n",
    "You are a Starbucks big data analyst ([that’s a real job!](https://www.forbes.com/sites/bernardmarr/2018/05/28/starbucks-using-big-data-analytics-and-artificial-intelligence-to-boost-performance/#130c7d765cdc)) looking to find the next store into a [Starbucks Reserve Roastery](https://www.businessinsider.com/starbucks-reserve-roastery-compared-regular-starbucks-2018-12#also-on-the-first-floor-was-the-main-coffee-bar-five-hourglass-like-units-hold-the-freshly-roasted-coffee-beans-that-are-used-in-each-order-the-selection-rotates-seasonally-5).  These roasteries are much larger than a typical Starbucks store and have several additional features, including various food and wine options, along with upscale lounge areas.  You'll investigate the demographics of various counties in the state of California, to determine potentially suitable locations.\n",
    "\n",
    "<center>\n",
    "<img src=\"https://i.imgur.com/BIyE6kR.png\" width=\"450\"><br/><br/>\n",
    "</center>\n",
    "\n",
    "Before you get started, run the code cell below to set everything up."
   ]
  },
  {
   "cell_type": "code",
   "execution_count": 1,
   "id": "9abeba75",
   "metadata": {
    "execution": {
     "iopub.execute_input": "2022-03-18T20:21:34.685169Z",
     "iopub.status.busy": "2022-03-18T20:21:34.683961Z",
     "iopub.status.idle": "2022-03-18T20:21:36.703044Z",
     "shell.execute_reply": "2022-03-18T20:21:36.703636Z",
     "shell.execute_reply.started": "2022-03-18T20:07:25.568883Z"
    },
    "papermill": {
     "duration": 2.05521,
     "end_time": "2022-03-18T20:21:36.703941",
     "exception": false,
     "start_time": "2022-03-18T20:21:34.648731",
     "status": "completed"
    },
    "tags": []
   },
   "outputs": [
    {
     "name": "stderr",
     "output_type": "stream",
     "text": [
      "/opt/conda/lib/python3.7/site-packages/geopandas/_compat.py:115: UserWarning: The Shapely GEOS version (3.9.1-CAPI-1.14.2) is incompatible with the GEOS version PyGEOS was compiled with (3.10.1-CAPI-1.16.0). Conversions between both will be slow.\n",
      "  shapely_geos_version, geos_capi_version_string\n"
     ]
    }
   ],
   "source": [
    "import math\n",
    "import pandas as pd\n",
    "import geopandas as gpd\n",
    "#from geopy.geocoders import Nominatim            # What you'd normally run\n",
    "from learntools.geospatial.tools import Nominatim # Just for this exercise\n",
    "\n",
    "import folium \n",
    "from folium import Marker\n",
    "from folium.plugins import MarkerCluster\n",
    "\n",
    "from learntools.core import binder\n",
    "binder.bind(globals())\n",
    "from learntools.geospatial.ex4 import *"
   ]
  },
  {
   "cell_type": "markdown",
   "id": "aeb30d8f",
   "metadata": {
    "papermill": {
     "duration": 0.033125,
     "end_time": "2022-03-18T20:21:36.771128",
     "exception": false,
     "start_time": "2022-03-18T20:21:36.738003",
     "status": "completed"
    },
    "tags": []
   },
   "source": [
    "You'll use the `embed_map()` function from the previous exercise to visualize your maps."
   ]
  },
  {
   "cell_type": "code",
   "execution_count": 2,
   "id": "04f10be5",
   "metadata": {
    "execution": {
     "iopub.execute_input": "2022-03-18T20:21:36.841311Z",
     "iopub.status.busy": "2022-03-18T20:21:36.840619Z",
     "iopub.status.idle": "2022-03-18T20:21:36.845564Z",
     "shell.execute_reply": "2022-03-18T20:21:36.845035Z",
     "shell.execute_reply.started": "2022-03-18T20:07:40.595111Z"
    },
    "papermill": {
     "duration": 0.041393,
     "end_time": "2022-03-18T20:21:36.845701",
     "exception": false,
     "start_time": "2022-03-18T20:21:36.804308",
     "status": "completed"
    },
    "tags": []
   },
   "outputs": [],
   "source": [
    "def embed_map(m, file_name):\n",
    "    from IPython.display import IFrame\n",
    "    m.save(file_name)\n",
    "    return IFrame(file_name, width='100%', height='500px')"
   ]
  },
  {
   "cell_type": "markdown",
   "id": "be41b990",
   "metadata": {
    "papermill": {
     "duration": 0.034781,
     "end_time": "2022-03-18T20:21:36.913190",
     "exception": false,
     "start_time": "2022-03-18T20:21:36.878409",
     "status": "completed"
    },
    "tags": []
   },
   "source": [
    "# Exercises\n",
    "\n",
    "### 1) Geocode the missing locations.\n",
    "\n",
    "Run the next code cell to create a DataFrame `starbucks` containing Starbucks locations in the state of California."
   ]
  },
  {
   "cell_type": "code",
   "execution_count": 3,
   "id": "c2a0403b",
   "metadata": {
    "execution": {
     "iopub.execute_input": "2022-03-18T20:21:36.986350Z",
     "iopub.status.busy": "2022-03-18T20:21:36.985335Z",
     "iopub.status.idle": "2022-03-18T20:21:37.012433Z",
     "shell.execute_reply": "2022-03-18T20:21:37.013129Z",
     "shell.execute_reply.started": "2022-03-18T20:07:47.421336Z"
    },
    "papermill": {
     "duration": 0.067229,
     "end_time": "2022-03-18T20:21:37.013351",
     "exception": false,
     "start_time": "2022-03-18T20:21:36.946122",
     "status": "completed"
    },
    "tags": []
   },
   "outputs": [
    {
     "data": {
      "text/html": [
       "<div>\n",
       "<style scoped>\n",
       "    .dataframe tbody tr th:only-of-type {\n",
       "        vertical-align: middle;\n",
       "    }\n",
       "\n",
       "    .dataframe tbody tr th {\n",
       "        vertical-align: top;\n",
       "    }\n",
       "\n",
       "    .dataframe thead th {\n",
       "        text-align: right;\n",
       "    }\n",
       "</style>\n",
       "<table border=\"1\" class=\"dataframe\">\n",
       "  <thead>\n",
       "    <tr style=\"text-align: right;\">\n",
       "      <th></th>\n",
       "      <th>Store Number</th>\n",
       "      <th>Store Name</th>\n",
       "      <th>Address</th>\n",
       "      <th>City</th>\n",
       "      <th>Longitude</th>\n",
       "      <th>Latitude</th>\n",
       "    </tr>\n",
       "  </thead>\n",
       "  <tbody>\n",
       "    <tr>\n",
       "      <th>0</th>\n",
       "      <td>10429-100710</td>\n",
       "      <td>Palmdale &amp; Hwy 395</td>\n",
       "      <td>14136 US Hwy 395 Adelanto CA</td>\n",
       "      <td>Adelanto</td>\n",
       "      <td>-117.40</td>\n",
       "      <td>34.51</td>\n",
       "    </tr>\n",
       "    <tr>\n",
       "      <th>1</th>\n",
       "      <td>635-352</td>\n",
       "      <td>Kanan &amp; Thousand Oaks</td>\n",
       "      <td>5827 Kanan Road Agoura CA</td>\n",
       "      <td>Agoura</td>\n",
       "      <td>-118.76</td>\n",
       "      <td>34.16</td>\n",
       "    </tr>\n",
       "    <tr>\n",
       "      <th>2</th>\n",
       "      <td>74510-27669</td>\n",
       "      <td>Vons-Agoura Hills #2001</td>\n",
       "      <td>5671 Kanan Rd. Agoura Hills CA</td>\n",
       "      <td>Agoura Hills</td>\n",
       "      <td>-118.76</td>\n",
       "      <td>34.15</td>\n",
       "    </tr>\n",
       "    <tr>\n",
       "      <th>3</th>\n",
       "      <td>29839-255026</td>\n",
       "      <td>Target Anaheim T-0677</td>\n",
       "      <td>8148 E SANTA ANA CANYON ROAD AHAHEIM CA</td>\n",
       "      <td>AHAHEIM</td>\n",
       "      <td>-117.75</td>\n",
       "      <td>33.87</td>\n",
       "    </tr>\n",
       "    <tr>\n",
       "      <th>4</th>\n",
       "      <td>23463-230284</td>\n",
       "      <td>Safeway - Alameda 3281</td>\n",
       "      <td>2600 5th Street Alameda CA</td>\n",
       "      <td>Alameda</td>\n",
       "      <td>-122.28</td>\n",
       "      <td>37.79</td>\n",
       "    </tr>\n",
       "  </tbody>\n",
       "</table>\n",
       "</div>"
      ],
      "text/plain": [
       "   Store Number               Store Name  \\\n",
       "0  10429-100710       Palmdale & Hwy 395   \n",
       "1       635-352    Kanan & Thousand Oaks   \n",
       "2   74510-27669  Vons-Agoura Hills #2001   \n",
       "3  29839-255026    Target Anaheim T-0677   \n",
       "4  23463-230284   Safeway - Alameda 3281   \n",
       "\n",
       "                                   Address          City  Longitude  Latitude  \n",
       "0             14136 US Hwy 395 Adelanto CA      Adelanto    -117.40     34.51  \n",
       "1                5827 Kanan Road Agoura CA        Agoura    -118.76     34.16  \n",
       "2           5671 Kanan Rd. Agoura Hills CA  Agoura Hills    -118.76     34.15  \n",
       "3  8148 E SANTA ANA CANYON ROAD AHAHEIM CA       AHAHEIM    -117.75     33.87  \n",
       "4               2600 5th Street Alameda CA       Alameda    -122.28     37.79  "
      ]
     },
     "execution_count": 3,
     "metadata": {},
     "output_type": "execute_result"
    }
   ],
   "source": [
    "# Load and preview Starbucks locations in California\n",
    "starbucks = pd.read_csv(\"../input/geospatial-learn-course-data/starbucks_locations.csv\")\n",
    "starbucks.head()"
   ]
  },
  {
   "cell_type": "markdown",
   "id": "3b346d1b",
   "metadata": {
    "papermill": {
     "duration": 0.033567,
     "end_time": "2022-03-18T20:21:37.081702",
     "exception": false,
     "start_time": "2022-03-18T20:21:37.048135",
     "status": "completed"
    },
    "tags": []
   },
   "source": [
    "Most of the stores have known (latitude, longitude) locations.  But, all of the locations in the city of Berkeley are missing."
   ]
  },
  {
   "cell_type": "code",
   "execution_count": 4,
   "id": "f3031e03",
   "metadata": {
    "execution": {
     "iopub.execute_input": "2022-03-18T20:21:37.151327Z",
     "iopub.status.busy": "2022-03-18T20:21:37.150629Z",
     "iopub.status.idle": "2022-03-18T20:21:37.167513Z",
     "shell.execute_reply": "2022-03-18T20:21:37.168111Z",
     "shell.execute_reply.started": "2022-03-18T20:07:50.264545Z"
    },
    "papermill": {
     "duration": 0.053457,
     "end_time": "2022-03-18T20:21:37.168288",
     "exception": false,
     "start_time": "2022-03-18T20:21:37.114831",
     "status": "completed"
    },
    "tags": []
   },
   "outputs": [
    {
     "name": "stdout",
     "output_type": "stream",
     "text": [
      "Store Number    0\n",
      "Store Name      0\n",
      "Address         0\n",
      "City            0\n",
      "Longitude       5\n",
      "Latitude        5\n",
      "dtype: int64\n"
     ]
    },
    {
     "data": {
      "text/html": [
       "<div>\n",
       "<style scoped>\n",
       "    .dataframe tbody tr th:only-of-type {\n",
       "        vertical-align: middle;\n",
       "    }\n",
       "\n",
       "    .dataframe tbody tr th {\n",
       "        vertical-align: top;\n",
       "    }\n",
       "\n",
       "    .dataframe thead th {\n",
       "        text-align: right;\n",
       "    }\n",
       "</style>\n",
       "<table border=\"1\" class=\"dataframe\">\n",
       "  <thead>\n",
       "    <tr style=\"text-align: right;\">\n",
       "      <th></th>\n",
       "      <th>Store Number</th>\n",
       "      <th>Store Name</th>\n",
       "      <th>Address</th>\n",
       "      <th>City</th>\n",
       "      <th>Longitude</th>\n",
       "      <th>Latitude</th>\n",
       "    </tr>\n",
       "  </thead>\n",
       "  <tbody>\n",
       "    <tr>\n",
       "      <th>153</th>\n",
       "      <td>5406-945</td>\n",
       "      <td>2224 Shattuck - Berkeley</td>\n",
       "      <td>2224 Shattuck Avenue Berkeley CA</td>\n",
       "      <td>Berkeley</td>\n",
       "      <td>NaN</td>\n",
       "      <td>NaN</td>\n",
       "    </tr>\n",
       "    <tr>\n",
       "      <th>154</th>\n",
       "      <td>570-512</td>\n",
       "      <td>Solano Ave</td>\n",
       "      <td>1799 Solano Avenue Berkeley CA</td>\n",
       "      <td>Berkeley</td>\n",
       "      <td>NaN</td>\n",
       "      <td>NaN</td>\n",
       "    </tr>\n",
       "    <tr>\n",
       "      <th>155</th>\n",
       "      <td>17877-164526</td>\n",
       "      <td>Safeway - Berkeley #691</td>\n",
       "      <td>1444 Shattuck Place Berkeley CA</td>\n",
       "      <td>Berkeley</td>\n",
       "      <td>NaN</td>\n",
       "      <td>NaN</td>\n",
       "    </tr>\n",
       "    <tr>\n",
       "      <th>156</th>\n",
       "      <td>19864-202264</td>\n",
       "      <td>Telegraph &amp; Ashby</td>\n",
       "      <td>3001 Telegraph Avenue Berkeley CA</td>\n",
       "      <td>Berkeley</td>\n",
       "      <td>NaN</td>\n",
       "      <td>NaN</td>\n",
       "    </tr>\n",
       "    <tr>\n",
       "      <th>157</th>\n",
       "      <td>9217-9253</td>\n",
       "      <td>2128 Oxford St.</td>\n",
       "      <td>2128 Oxford Street Berkeley CA</td>\n",
       "      <td>Berkeley</td>\n",
       "      <td>NaN</td>\n",
       "      <td>NaN</td>\n",
       "    </tr>\n",
       "  </tbody>\n",
       "</table>\n",
       "</div>"
      ],
      "text/plain": [
       "     Store Number                Store Name  \\\n",
       "153      5406-945  2224 Shattuck - Berkeley   \n",
       "154       570-512                Solano Ave   \n",
       "155  17877-164526   Safeway - Berkeley #691   \n",
       "156  19864-202264         Telegraph & Ashby   \n",
       "157     9217-9253           2128 Oxford St.   \n",
       "\n",
       "                               Address      City  Longitude  Latitude  \n",
       "153   2224 Shattuck Avenue Berkeley CA  Berkeley        NaN       NaN  \n",
       "154     1799 Solano Avenue Berkeley CA  Berkeley        NaN       NaN  \n",
       "155    1444 Shattuck Place Berkeley CA  Berkeley        NaN       NaN  \n",
       "156  3001 Telegraph Avenue Berkeley CA  Berkeley        NaN       NaN  \n",
       "157     2128 Oxford Street Berkeley CA  Berkeley        NaN       NaN  "
      ]
     },
     "execution_count": 4,
     "metadata": {},
     "output_type": "execute_result"
    }
   ],
   "source": [
    "# How many rows in each column have missing values?\n",
    "print(starbucks.isnull().sum())\n",
    "\n",
    "# View rows with missing locations\n",
    "rows_with_missing = starbucks[starbucks[\"City\"]==\"Berkeley\"]\n",
    "rows_with_missing"
   ]
  },
  {
   "cell_type": "markdown",
   "id": "9f298aa2",
   "metadata": {
    "papermill": {
     "duration": 0.033756,
     "end_time": "2022-03-18T20:21:37.236404",
     "exception": false,
     "start_time": "2022-03-18T20:21:37.202648",
     "status": "completed"
    },
    "tags": []
   },
   "source": [
    "Use the code cell below to fill in these values with the Nominatim geocoder.\n",
    "\n",
    "Note that in the tutorial, we used `Nominatim()` (from `geopy.geocoders`) to geocode values, and this is what you can use in your own projects outside of this course.  \n",
    "\n",
    "In this exercise, you will use a slightly different function `Nominatim()` (from `learntools.geospatial.tools`).  This function was imported at the top of the notebook and works identically to the function from GeoPandas.\n",
    "\n",
    "So, in other words, as long as: \n",
    "- you don't change the import statements at the top of the notebook, and \n",
    "- you call the geocoding function as `geocode()` in the code cell below, \n",
    "\n",
    "your code will work as intended!"
   ]
  },
  {
   "cell_type": "code",
   "execution_count": 5,
   "id": "ab4be908",
   "metadata": {
    "execution": {
     "iopub.execute_input": "2022-03-18T20:21:37.308335Z",
     "iopub.status.busy": "2022-03-18T20:21:37.307539Z",
     "iopub.status.idle": "2022-03-18T20:21:37.583690Z",
     "shell.execute_reply": "2022-03-18T20:21:37.584219Z",
     "shell.execute_reply.started": "2022-03-18T20:07:57.274514Z"
    },
    "papermill": {
     "duration": 0.313771,
     "end_time": "2022-03-18T20:21:37.584390",
     "exception": false,
     "start_time": "2022-03-18T20:21:37.270619",
     "status": "completed"
    },
    "tags": []
   },
   "outputs": [
    {
     "data": {
      "application/javascript": [
       "parent.postMessage({\"jupyterEvent\": \"custom.exercise_interaction\", \"data\": {\"outcomeType\": 1, \"valueTowardsCompletion\": 0.2, \"interactionType\": 1, \"questionType\": 2, \"questionId\": \"1_Q1\", \"learnToolsVersion\": \"0.3.4\", \"failureMessage\": \"\", \"exceptionClass\": \"\", \"trace\": \"\"}}, \"*\")"
      ],
      "text/plain": [
       "<IPython.core.display.Javascript object>"
      ]
     },
     "metadata": {},
     "output_type": "display_data"
    },
    {
     "data": {
      "text/markdown": [
       "<span style=\"color:#33cc33\">Correct</span>"
      ],
      "text/plain": [
       "Correct"
      ]
     },
     "metadata": {},
     "output_type": "display_data"
    }
   ],
   "source": [
    "# Create the geocoder\n",
    "geolocator = Nominatim(user_agent=\"kaggle_learn\")\n",
    "\n",
    "# Your code here\n",
    "def my_geocoder(row):\n",
    "    point = geolocator.geocode(row).point\n",
    "    return pd.Series({'Latitude': point.latitude, 'Longitude': point.longitude})\n",
    "\n",
    "berkeley_locations = rows_with_missing.apply(lambda x: my_geocoder(x['Address']), axis=1)\n",
    "starbucks.update(berkeley_locations)\n",
    "\n",
    "# Check your answer\n",
    "q_1.check()"
   ]
  },
  {
   "cell_type": "code",
   "execution_count": 6,
   "id": "604de7e2",
   "metadata": {
    "execution": {
     "iopub.execute_input": "2022-03-18T20:21:37.659593Z",
     "iopub.status.busy": "2022-03-18T20:21:37.658610Z",
     "iopub.status.idle": "2022-03-18T20:21:37.661506Z",
     "shell.execute_reply": "2022-03-18T20:21:37.660974Z",
     "shell.execute_reply.started": "2022-03-18T19:30:21.494970Z"
    },
    "papermill": {
     "duration": 0.041998,
     "end_time": "2022-03-18T20:21:37.661638",
     "exception": false,
     "start_time": "2022-03-18T20:21:37.619640",
     "status": "completed"
    },
    "tags": []
   },
   "outputs": [],
   "source": [
    "# Line below will give you solution code\n",
    "#q_1.solution()"
   ]
  },
  {
   "cell_type": "markdown",
   "id": "7d675c6e",
   "metadata": {
    "papermill": {
     "duration": 0.034874,
     "end_time": "2022-03-18T20:21:37.731534",
     "exception": false,
     "start_time": "2022-03-18T20:21:37.696660",
     "status": "completed"
    },
    "tags": []
   },
   "source": [
    "### 2) View Berkeley locations.\n",
    "\n",
    "Let's take a look at the locations you just found.  Visualize the (latitude, longitude) locations in Berkeley in the OpenStreetMap style. "
   ]
  },
  {
   "cell_type": "code",
   "execution_count": 7,
   "id": "1ab0e3de",
   "metadata": {
    "execution": {
     "iopub.execute_input": "2022-03-18T20:21:37.808424Z",
     "iopub.status.busy": "2022-03-18T20:21:37.807631Z",
     "iopub.status.idle": "2022-03-18T20:21:37.832119Z",
     "shell.execute_reply": "2022-03-18T20:21:37.832709Z",
     "shell.execute_reply.started": "2022-03-18T20:08:04.309704Z"
    },
    "papermill": {
     "duration": 0.066266,
     "end_time": "2022-03-18T20:21:37.832892",
     "exception": false,
     "start_time": "2022-03-18T20:21:37.766626",
     "status": "completed"
    },
    "tags": []
   },
   "outputs": [
    {
     "data": {
      "text/html": [
       "\n",
       "        <iframe\n",
       "            width=\"100%\"\n",
       "            height=\"500px\"\n",
       "            src=\"q_2.html\"\n",
       "            frameborder=\"0\"\n",
       "            allowfullscreen\n",
       "            \n",
       "        ></iframe>\n",
       "        "
      ],
      "text/plain": [
       "<IPython.lib.display.IFrame at 0x7f074c273fd0>"
      ]
     },
     "execution_count": 7,
     "metadata": {},
     "output_type": "execute_result"
    }
   ],
   "source": [
    "# Create a base map\n",
    "m_2 = folium.Map(location=[37.88,-122.26], zoom_start=13)\n",
    "\n",
    "# Your code here: Add a marker for each Berkeley location\n",
    "for idx, row in starbucks[starbucks[\"City\"]=='Berkeley'].iterrows():\n",
    "    Marker([row['Latitude'], row['Longitude']]).add_to(m_2)\n",
    "\n",
    "# Uncomment to see a hint\n",
    "#q_2.a.hint()\n",
    "\n",
    "# Show the map\n",
    "embed_map(m_2, 'q_2.html')"
   ]
  },
  {
   "cell_type": "code",
   "execution_count": 8,
   "id": "1230a24a",
   "metadata": {
    "execution": {
     "iopub.execute_input": "2022-03-18T20:21:37.907938Z",
     "iopub.status.busy": "2022-03-18T20:21:37.906970Z",
     "iopub.status.idle": "2022-03-18T20:21:37.914434Z",
     "shell.execute_reply": "2022-03-18T20:21:37.914892Z",
     "shell.execute_reply.started": "2022-03-18T20:08:10.560338Z"
    },
    "papermill": {
     "duration": 0.046859,
     "end_time": "2022-03-18T20:21:37.915079",
     "exception": false,
     "start_time": "2022-03-18T20:21:37.868220",
     "status": "completed"
    },
    "tags": []
   },
   "outputs": [
    {
     "data": {
      "application/javascript": [
       "parent.postMessage({\"jupyterEvent\": \"custom.exercise_interaction\", \"data\": {\"outcomeType\": 1, \"valueTowardsCompletion\": 0.2, \"interactionType\": 1, \"questionType\": 2, \"questionId\": \"2.1_Q2P\", \"learnToolsVersion\": \"0.3.4\", \"failureMessage\": \"\", \"exceptionClass\": \"\", \"trace\": \"\"}}, \"*\")"
      ],
      "text/plain": [
       "<IPython.core.display.Javascript object>"
      ]
     },
     "metadata": {},
     "output_type": "display_data"
    },
    {
     "data": {
      "text/markdown": [
       "<span style=\"color:#33cc33\">Thank you for creating a map!</span>"
      ],
      "text/plain": [
       "Thank you for creating a map!"
      ]
     },
     "metadata": {},
     "output_type": "display_data"
    }
   ],
   "source": [
    "# Get credit for your work after you have created a map\n",
    "q_2.a.check()\n",
    "\n",
    "# Uncomment to see our solution (your code may look different!)\n",
    "#q_2.a.solution()"
   ]
  },
  {
   "cell_type": "markdown",
   "id": "cefef419",
   "metadata": {
    "papermill": {
     "duration": 0.036351,
     "end_time": "2022-03-18T20:21:37.988275",
     "exception": false,
     "start_time": "2022-03-18T20:21:37.951924",
     "status": "completed"
    },
    "tags": []
   },
   "source": [
    "Considering only the five locations in Berkeley, how many of the (latitude, longitude) locations seem potentially correct (are located in the correct city)?"
   ]
  },
  {
   "cell_type": "code",
   "execution_count": 9,
   "id": "55e4df61",
   "metadata": {
    "execution": {
     "iopub.execute_input": "2022-03-18T20:21:38.067957Z",
     "iopub.status.busy": "2022-03-18T20:21:38.067003Z",
     "iopub.status.idle": "2022-03-18T20:21:38.071474Z",
     "shell.execute_reply": "2022-03-18T20:21:38.072017Z",
     "shell.execute_reply.started": "2022-03-18T19:34:50.813067Z"
    },
    "papermill": {
     "duration": 0.047347,
     "end_time": "2022-03-18T20:21:38.072191",
     "exception": false,
     "start_time": "2022-03-18T20:21:38.024844",
     "status": "completed"
    },
    "tags": []
   },
   "outputs": [
    {
     "data": {
      "application/javascript": [
       "parent.postMessage({\"jupyterEvent\": \"custom.exercise_interaction\", \"data\": {\"interactionType\": 3, \"questionType\": 4, \"questionId\": \"2.2_Q2T\", \"learnToolsVersion\": \"0.3.4\", \"valueTowardsCompletion\": 0.0, \"failureMessage\": \"\", \"exceptionClass\": \"\", \"trace\": \"\", \"outcomeType\": 4}}, \"*\")"
      ],
      "text/plain": [
       "<IPython.core.display.Javascript object>"
      ]
     },
     "metadata": {},
     "output_type": "display_data"
    },
    {
     "data": {
      "text/markdown": [
       "<span style=\"color:#33cc99\">Solution:</span> All five locations appear to be correct!"
      ],
      "text/plain": [
       "Solution: All five locations appear to be correct!"
      ]
     },
     "metadata": {},
     "output_type": "display_data"
    }
   ],
   "source": [
    "# View the solution (Run this code cell to receive credit!)\n",
    "q_2.b.solution()"
   ]
  },
  {
   "cell_type": "markdown",
   "id": "cbbc7815",
   "metadata": {
    "papermill": {
     "duration": 0.038121,
     "end_time": "2022-03-18T20:21:38.149168",
     "exception": false,
     "start_time": "2022-03-18T20:21:38.111047",
     "status": "completed"
    },
    "tags": []
   },
   "source": [
    "### 3) Consolidate your data.\n",
    "\n",
    "Run the code below to load a GeoDataFrame `CA_counties` containing the name, area (in square kilometers), and a unique id (in the \"GEOID\" column) for each county in the state of California.  The \"geometry\" column contains a polygon with county boundaries."
   ]
  },
  {
   "cell_type": "code",
   "execution_count": 10,
   "id": "d899b301",
   "metadata": {
    "execution": {
     "iopub.execute_input": "2022-03-18T20:21:38.248385Z",
     "iopub.status.busy": "2022-03-18T20:21:38.247673Z",
     "iopub.status.idle": "2022-03-18T20:21:38.547034Z",
     "shell.execute_reply": "2022-03-18T20:21:38.546397Z",
     "shell.execute_reply.started": "2022-03-18T20:08:21.257573Z"
    },
    "papermill": {
     "duration": 0.359821,
     "end_time": "2022-03-18T20:21:38.547168",
     "exception": false,
     "start_time": "2022-03-18T20:21:38.187347",
     "status": "completed"
    },
    "tags": []
   },
   "outputs": [
    {
     "data": {
      "text/html": [
       "<div>\n",
       "<style scoped>\n",
       "    .dataframe tbody tr th:only-of-type {\n",
       "        vertical-align: middle;\n",
       "    }\n",
       "\n",
       "    .dataframe tbody tr th {\n",
       "        vertical-align: top;\n",
       "    }\n",
       "\n",
       "    .dataframe thead th {\n",
       "        text-align: right;\n",
       "    }\n",
       "</style>\n",
       "<table border=\"1\" class=\"dataframe\">\n",
       "  <thead>\n",
       "    <tr style=\"text-align: right;\">\n",
       "      <th></th>\n",
       "      <th>GEOID</th>\n",
       "      <th>name</th>\n",
       "      <th>area_sqkm</th>\n",
       "      <th>geometry</th>\n",
       "    </tr>\n",
       "  </thead>\n",
       "  <tbody>\n",
       "    <tr>\n",
       "      <th>0</th>\n",
       "      <td>6091</td>\n",
       "      <td>Sierra County</td>\n",
       "      <td>2491.995494</td>\n",
       "      <td>POLYGON ((-120.65560 39.69357, -120.65554 39.6...</td>\n",
       "    </tr>\n",
       "    <tr>\n",
       "      <th>1</th>\n",
       "      <td>6067</td>\n",
       "      <td>Sacramento County</td>\n",
       "      <td>2575.258262</td>\n",
       "      <td>POLYGON ((-121.18858 38.71431, -121.18732 38.7...</td>\n",
       "    </tr>\n",
       "    <tr>\n",
       "      <th>2</th>\n",
       "      <td>6083</td>\n",
       "      <td>Santa Barbara County</td>\n",
       "      <td>9813.817958</td>\n",
       "      <td>MULTIPOLYGON (((-120.58191 34.09856, -120.5822...</td>\n",
       "    </tr>\n",
       "    <tr>\n",
       "      <th>3</th>\n",
       "      <td>6009</td>\n",
       "      <td>Calaveras County</td>\n",
       "      <td>2685.626726</td>\n",
       "      <td>POLYGON ((-120.63095 38.34111, -120.63058 38.3...</td>\n",
       "    </tr>\n",
       "    <tr>\n",
       "      <th>4</th>\n",
       "      <td>6111</td>\n",
       "      <td>Ventura County</td>\n",
       "      <td>5719.321379</td>\n",
       "      <td>MULTIPOLYGON (((-119.63631 33.27304, -119.6360...</td>\n",
       "    </tr>\n",
       "  </tbody>\n",
       "</table>\n",
       "</div>"
      ],
      "text/plain": [
       "   GEOID                  name    area_sqkm  \\\n",
       "0   6091         Sierra County  2491.995494   \n",
       "1   6067     Sacramento County  2575.258262   \n",
       "2   6083  Santa Barbara County  9813.817958   \n",
       "3   6009      Calaveras County  2685.626726   \n",
       "4   6111        Ventura County  5719.321379   \n",
       "\n",
       "                                            geometry  \n",
       "0  POLYGON ((-120.65560 39.69357, -120.65554 39.6...  \n",
       "1  POLYGON ((-121.18858 38.71431, -121.18732 38.7...  \n",
       "2  MULTIPOLYGON (((-120.58191 34.09856, -120.5822...  \n",
       "3  POLYGON ((-120.63095 38.34111, -120.63058 38.3...  \n",
       "4  MULTIPOLYGON (((-119.63631 33.27304, -119.6360...  "
      ]
     },
     "execution_count": 10,
     "metadata": {},
     "output_type": "execute_result"
    }
   ],
   "source": [
    "CA_counties = gpd.read_file(\"../input/geospatial-learn-course-data/CA_county_boundaries/CA_county_boundaries/CA_county_boundaries.shp\")\n",
    "CA_counties.head()"
   ]
  },
  {
   "cell_type": "markdown",
   "id": "109b2de1",
   "metadata": {
    "papermill": {
     "duration": 0.038437,
     "end_time": "2022-03-18T20:21:38.624287",
     "exception": false,
     "start_time": "2022-03-18T20:21:38.585850",
     "status": "completed"
    },
    "tags": []
   },
   "source": [
    "Next, we create three DataFrames:\n",
    "- `CA_pop` contains an estimate of the population of each county.\n",
    "- `CA_high_earners` contains the number of households with an income of at least $150,000 per year.\n",
    "- `CA_median_age` contains the median age for each county."
   ]
  },
  {
   "cell_type": "code",
   "execution_count": 11,
   "id": "78cae343",
   "metadata": {
    "execution": {
     "iopub.execute_input": "2022-03-18T20:21:38.707381Z",
     "iopub.status.busy": "2022-03-18T20:21:38.706676Z",
     "iopub.status.idle": "2022-03-18T20:21:38.717300Z",
     "shell.execute_reply": "2022-03-18T20:21:38.716732Z",
     "shell.execute_reply.started": "2022-03-18T20:08:51.222367Z"
    },
    "papermill": {
     "duration": 0.054441,
     "end_time": "2022-03-18T20:21:38.717445",
     "exception": false,
     "start_time": "2022-03-18T20:21:38.663004",
     "status": "completed"
    },
    "tags": []
   },
   "outputs": [],
   "source": [
    "CA_pop = pd.read_csv(\"../input/geospatial-learn-course-data/CA_county_population.csv\", index_col=\"GEOID\")\n",
    "CA_high_earners = pd.read_csv(\"../input/geospatial-learn-course-data/CA_county_high_earners.csv\", index_col=\"GEOID\")\n",
    "CA_median_age = pd.read_csv(\"../input/geospatial-learn-course-data/CA_county_median_age.csv\", index_col=\"GEOID\")"
   ]
  },
  {
   "cell_type": "markdown",
   "id": "83e73b3c",
   "metadata": {
    "papermill": {
     "duration": 0.038259,
     "end_time": "2022-03-18T20:21:38.795293",
     "exception": false,
     "start_time": "2022-03-18T20:21:38.757034",
     "status": "completed"
    },
    "tags": []
   },
   "source": [
    "Use the next code cell to join the `CA_counties` GeoDataFrame with `CA_pop`, `CA_high_earners`, and `CA_median_age`.\n",
    "\n",
    "Name the resultant GeoDataFrame `CA_stats`, and make sure it has 8 columns: \"GEOID\", \"name\", \"area_sqkm\", \"geometry\", \"population\", \"high_earners\", and \"median_age\".  Also, make sure the CRS is set to `{'init': 'epsg:4326'}`."
   ]
  },
  {
   "cell_type": "code",
   "execution_count": 12,
   "id": "cdee667f",
   "metadata": {
    "execution": {
     "iopub.execute_input": "2022-03-18T20:21:38.880414Z",
     "iopub.status.busy": "2022-03-18T20:21:38.879747Z",
     "iopub.status.idle": "2022-03-18T20:21:39.187201Z",
     "shell.execute_reply": "2022-03-18T20:21:39.187691Z",
     "shell.execute_reply.started": "2022-03-18T20:15:00.822608Z"
    },
    "papermill": {
     "duration": 0.354097,
     "end_time": "2022-03-18T20:21:39.187854",
     "exception": false,
     "start_time": "2022-03-18T20:21:38.833757",
     "status": "completed"
    },
    "tags": []
   },
   "outputs": [
    {
     "name": "stderr",
     "output_type": "stream",
     "text": [
      "/opt/conda/lib/python3.7/site-packages/pyproj/crs/crs.py:68: FutureWarning: '+init=<authority>:<code>' syntax is deprecated. '<authority>:<code>' is the preferred initialization method. When making the change, be mindful of axis order changes: https://pyproj4.github.io/pyproj/stable/gotchas.html#axis-order-changes-in-proj-6\n",
      "  return _prepare_from_string(\" \".join(pjargs))\n"
     ]
    },
    {
     "data": {
      "application/javascript": [
       "parent.postMessage({\"jupyterEvent\": \"custom.exercise_interaction\", \"data\": {\"outcomeType\": 1, \"valueTowardsCompletion\": 0.2, \"interactionType\": 1, \"questionType\": 2, \"questionId\": \"3_Q3\", \"learnToolsVersion\": \"0.3.4\", \"failureMessage\": \"\", \"exceptionClass\": \"\", \"trace\": \"\"}}, \"*\")"
      ],
      "text/plain": [
       "<IPython.core.display.Javascript object>"
      ]
     },
     "metadata": {},
     "output_type": "display_data"
    },
    {
     "data": {
      "text/markdown": [
       "<span style=\"color:#33cc33\">Correct</span>"
      ],
      "text/plain": [
       "Correct"
      ]
     },
     "metadata": {},
     "output_type": "display_data"
    }
   ],
   "source": [
    "# Your code here\n",
    "cols_to_add = CA_pop.join([CA_high_earners, CA_median_age]).reset_index()\n",
    "CA_stats = CA_counties.merge(cols_to_add, on=\"GEOID\")\n",
    "CA_stats.crs = {'init': 'epsg:4326'}\n",
    "\n",
    "# Check your answer\n",
    "q_3.check()"
   ]
  },
  {
   "cell_type": "code",
   "execution_count": 13,
   "id": "801935a7",
   "metadata": {
    "execution": {
     "iopub.execute_input": "2022-03-18T20:21:39.273440Z",
     "iopub.status.busy": "2022-03-18T20:21:39.272766Z",
     "iopub.status.idle": "2022-03-18T20:21:39.274421Z",
     "shell.execute_reply": "2022-03-18T20:21:39.274860Z",
     "shell.execute_reply.started": "2022-03-18T20:15:09.417696Z"
    },
    "papermill": {
     "duration": 0.047252,
     "end_time": "2022-03-18T20:21:39.275051",
     "exception": false,
     "start_time": "2022-03-18T20:21:39.227799",
     "status": "completed"
    },
    "tags": []
   },
   "outputs": [],
   "source": [
    "# Lines below will give you a hint or solution code\n",
    "#q_3.hint()\n",
    "#q_3.solution()"
   ]
  },
  {
   "cell_type": "markdown",
   "id": "8ae4667f",
   "metadata": {
    "papermill": {
     "duration": 0.039881,
     "end_time": "2022-03-18T20:21:39.355898",
     "exception": false,
     "start_time": "2022-03-18T20:21:39.316017",
     "status": "completed"
    },
    "tags": []
   },
   "source": [
    "Now that we have all of the data in one place, it's much easier to calculate statistics that use a combination of columns.  Run the next code cell to create a \"density\" column with the population density."
   ]
  },
  {
   "cell_type": "code",
   "execution_count": 14,
   "id": "31599a95",
   "metadata": {
    "execution": {
     "iopub.execute_input": "2022-03-18T20:21:39.443340Z",
     "iopub.status.busy": "2022-03-18T20:21:39.442657Z",
     "iopub.status.idle": "2022-03-18T20:21:39.445127Z",
     "shell.execute_reply": "2022-03-18T20:21:39.444538Z",
     "shell.execute_reply.started": "2022-03-18T20:16:41.514080Z"
    },
    "papermill": {
     "duration": 0.048296,
     "end_time": "2022-03-18T20:21:39.445264",
     "exception": false,
     "start_time": "2022-03-18T20:21:39.396968",
     "status": "completed"
    },
    "tags": []
   },
   "outputs": [],
   "source": [
    "CA_stats[\"density\"] = CA_stats[\"population\"] / CA_stats[\"area_sqkm\"]"
   ]
  },
  {
   "cell_type": "markdown",
   "id": "0306927e",
   "metadata": {
    "papermill": {
     "duration": 0.040113,
     "end_time": "2022-03-18T20:21:39.525896",
     "exception": false,
     "start_time": "2022-03-18T20:21:39.485783",
     "status": "completed"
    },
    "tags": []
   },
   "source": [
    "### 4) Which counties look promising?\n",
    "\n",
    "Collapsing all of the information into a single GeoDataFrame also makes it much easier to select counties that meet specific criteria.\n",
    "\n",
    "Use the next code cell to create a GeoDataFrame `sel_counties` that contains a subset of the rows (and all of the columns) from the `CA_stats` GeoDataFrame.  In particular, you should select counties where:\n",
    "- there are at least 100,000 households making \\$150,000 per year,\n",
    "- the median age is less than 38.5, and\n",
    "- the density of inhabitants is at least 285 (per square kilometer).\n",
    "\n",
    "Additionally, selected counties should satisfy at least one of the following criteria:\n",
    "- there are at least 500,000 households making \\$150,000 per year,\n",
    "- the median age is less than 35.5, or\n",
    "- the density of inhabitants is at least 1400 (per square kilometer)."
   ]
  },
  {
   "cell_type": "code",
   "execution_count": 15,
   "id": "fb417e50",
   "metadata": {
    "execution": {
     "iopub.execute_input": "2022-03-18T20:21:39.610662Z",
     "iopub.status.busy": "2022-03-18T20:21:39.609955Z",
     "iopub.status.idle": "2022-03-18T20:21:39.625091Z",
     "shell.execute_reply": "2022-03-18T20:21:39.625624Z",
     "shell.execute_reply.started": "2022-03-18T20:17:38.102646Z"
    },
    "papermill": {
     "duration": 0.059572,
     "end_time": "2022-03-18T20:21:39.625786",
     "exception": false,
     "start_time": "2022-03-18T20:21:39.566214",
     "status": "completed"
    },
    "tags": []
   },
   "outputs": [
    {
     "data": {
      "application/javascript": [
       "parent.postMessage({\"jupyterEvent\": \"custom.exercise_interaction\", \"data\": {\"outcomeType\": 1, \"valueTowardsCompletion\": 0.2, \"interactionType\": 1, \"questionType\": 2, \"questionId\": \"4_Q4\", \"learnToolsVersion\": \"0.3.4\", \"failureMessage\": \"\", \"exceptionClass\": \"\", \"trace\": \"\"}}, \"*\")"
      ],
      "text/plain": [
       "<IPython.core.display.Javascript object>"
      ]
     },
     "metadata": {},
     "output_type": "display_data"
    },
    {
     "data": {
      "text/markdown": [
       "<span style=\"color:#33cc33\">Correct</span>"
      ],
      "text/plain": [
       "Correct"
      ]
     },
     "metadata": {},
     "output_type": "display_data"
    }
   ],
   "source": [
    "# Your code here\n",
    "sel_counties = CA_stats[((CA_stats.high_earners > 100000) &\n",
    "                         (CA_stats.median_age < 38.5) &\n",
    "                         (CA_stats.density > 285) &\n",
    "                         ((CA_stats.median_age < 35.5) |\n",
    "                         (CA_stats.density > 1400) |\n",
    "                         (CA_stats.high_earners > 500000)))]\n",
    "\n",
    "# Check your answer\n",
    "q_4.check()"
   ]
  },
  {
   "cell_type": "code",
   "execution_count": 16,
   "id": "0c3843c0",
   "metadata": {
    "execution": {
     "iopub.execute_input": "2022-03-18T20:21:39.711773Z",
     "iopub.status.busy": "2022-03-18T20:21:39.711163Z",
     "iopub.status.idle": "2022-03-18T20:21:39.714061Z",
     "shell.execute_reply": "2022-03-18T20:21:39.714618Z",
     "shell.execute_reply.started": "2022-03-18T20:17:55.503751Z"
    },
    "papermill": {
     "duration": 0.047496,
     "end_time": "2022-03-18T20:21:39.714776",
     "exception": false,
     "start_time": "2022-03-18T20:21:39.667280",
     "status": "completed"
    },
    "tags": []
   },
   "outputs": [],
   "source": [
    "# Lines below will give you a hint or solution code\n",
    "#q_4.hint()\n",
    "#q_4.solution()"
   ]
  },
  {
   "cell_type": "markdown",
   "id": "27697a68",
   "metadata": {
    "papermill": {
     "duration": 0.041025,
     "end_time": "2022-03-18T20:21:39.797172",
     "exception": false,
     "start_time": "2022-03-18T20:21:39.756147",
     "status": "completed"
    },
    "tags": []
   },
   "source": [
    "### 5) How many stores did you identify?\n",
    "\n",
    "When looking for the next Starbucks Reserve Roastery location, you'd like to consider all of the stores within the counties that you selected.  So, how many stores are within the selected counties?\n",
    "\n",
    "To prepare to answer this question, run the next code cell to create a GeoDataFrame `starbucks_gdf` with all of the starbucks locations."
   ]
  },
  {
   "cell_type": "code",
   "execution_count": 17,
   "id": "38e71a42",
   "metadata": {
    "execution": {
     "iopub.execute_input": "2022-03-18T20:21:39.885862Z",
     "iopub.status.busy": "2022-03-18T20:21:39.885222Z",
     "iopub.status.idle": "2022-03-18T20:21:39.900251Z",
     "shell.execute_reply": "2022-03-18T20:21:39.899615Z",
     "shell.execute_reply.started": "2022-03-18T20:18:11.157251Z"
    },
    "papermill": {
     "duration": 0.062024,
     "end_time": "2022-03-18T20:21:39.900387",
     "exception": false,
     "start_time": "2022-03-18T20:21:39.838363",
     "status": "completed"
    },
    "tags": []
   },
   "outputs": [
    {
     "name": "stderr",
     "output_type": "stream",
     "text": [
      "/opt/conda/lib/python3.7/site-packages/pyproj/crs/crs.py:68: FutureWarning: '+init=<authority>:<code>' syntax is deprecated. '<authority>:<code>' is the preferred initialization method. When making the change, be mindful of axis order changes: https://pyproj4.github.io/pyproj/stable/gotchas.html#axis-order-changes-in-proj-6\n",
      "  return _prepare_from_string(\" \".join(pjargs))\n"
     ]
    }
   ],
   "source": [
    "starbucks_gdf = gpd.GeoDataFrame(starbucks, geometry=gpd.points_from_xy(starbucks.Longitude, starbucks.Latitude))\n",
    "starbucks_gdf.crs = {'init': 'epsg:4326'}"
   ]
  },
  {
   "cell_type": "markdown",
   "id": "ca4ee7c1",
   "metadata": {
    "papermill": {
     "duration": 0.041438,
     "end_time": "2022-03-18T20:21:39.983890",
     "exception": false,
     "start_time": "2022-03-18T20:21:39.942452",
     "status": "completed"
    },
    "tags": []
   },
   "source": [
    "So, how many stores are in the counties you selected?"
   ]
  },
  {
   "cell_type": "code",
   "execution_count": 18,
   "id": "4e37f2b5",
   "metadata": {
    "execution": {
     "iopub.execute_input": "2022-03-18T20:21:40.074746Z",
     "iopub.status.busy": "2022-03-18T20:21:40.074101Z",
     "iopub.status.idle": "2022-03-18T20:21:40.168953Z",
     "shell.execute_reply": "2022-03-18T20:21:40.169448Z",
     "shell.execute_reply.started": "2022-03-18T20:19:19.999191Z"
    },
    "papermill": {
     "duration": 0.144029,
     "end_time": "2022-03-18T20:21:40.169614",
     "exception": false,
     "start_time": "2022-03-18T20:21:40.025585",
     "status": "completed"
    },
    "tags": []
   },
   "outputs": [
    {
     "data": {
      "application/javascript": [
       "parent.postMessage({\"jupyterEvent\": \"custom.exercise_interaction\", \"data\": {\"outcomeType\": 1, \"valueTowardsCompletion\": 0.2, \"interactionType\": 1, \"questionType\": 2, \"questionId\": \"5_Q5\", \"learnToolsVersion\": \"0.3.4\", \"failureMessage\": \"\", \"exceptionClass\": \"\", \"trace\": \"\"}}, \"*\")"
      ],
      "text/plain": [
       "<IPython.core.display.Javascript object>"
      ]
     },
     "metadata": {},
     "output_type": "display_data"
    },
    {
     "data": {
      "text/markdown": [
       "<span style=\"color:#33cc33\">Correct</span>"
      ],
      "text/plain": [
       "Correct"
      ]
     },
     "metadata": {},
     "output_type": "display_data"
    }
   ],
   "source": [
    "# Fill in your answer\n",
    "locations_of_interest = gpd.sjoin(starbucks_gdf, sel_counties)\n",
    "num_stores = len(locations_of_interest)\n",
    "\n",
    "# Check your answer\n",
    "q_5.check()"
   ]
  },
  {
   "cell_type": "code",
   "execution_count": 19,
   "id": "cee171cc",
   "metadata": {
    "execution": {
     "iopub.execute_input": "2022-03-18T20:21:40.260188Z",
     "iopub.status.busy": "2022-03-18T20:21:40.259519Z",
     "iopub.status.idle": "2022-03-18T20:21:40.261426Z",
     "shell.execute_reply": "2022-03-18T20:21:40.261859Z",
     "shell.execute_reply.started": "2022-03-18T20:19:13.594513Z"
    },
    "papermill": {
     "duration": 0.04945,
     "end_time": "2022-03-18T20:21:40.262052",
     "exception": false,
     "start_time": "2022-03-18T20:21:40.212602",
     "status": "completed"
    },
    "tags": []
   },
   "outputs": [],
   "source": [
    "# Lines below will give you a hint or solution code\n",
    "#q_5.hint()\n",
    "#q_5.solution()"
   ]
  },
  {
   "cell_type": "markdown",
   "id": "eab82538",
   "metadata": {
    "papermill": {
     "duration": 0.043646,
     "end_time": "2022-03-18T20:21:40.349402",
     "exception": false,
     "start_time": "2022-03-18T20:21:40.305756",
     "status": "completed"
    },
    "tags": []
   },
   "source": [
    "### 6) Visualize the store locations.\n",
    "\n",
    "Create a map that shows the locations of the stores that you identified in the previous question."
   ]
  },
  {
   "cell_type": "code",
   "execution_count": 20,
   "id": "cfdd9e8c",
   "metadata": {
    "execution": {
     "iopub.execute_input": "2022-03-18T20:21:40.441477Z",
     "iopub.status.busy": "2022-03-18T20:21:40.440547Z",
     "iopub.status.idle": "2022-03-18T20:21:41.252283Z",
     "shell.execute_reply": "2022-03-18T20:21:41.251603Z",
     "shell.execute_reply.started": "2022-03-18T20:20:55.434752Z"
    },
    "papermill": {
     "duration": 0.85997,
     "end_time": "2022-03-18T20:21:41.252424",
     "exception": false,
     "start_time": "2022-03-18T20:21:40.392454",
     "status": "completed"
    },
    "tags": []
   },
   "outputs": [
    {
     "data": {
      "text/html": [
       "\n",
       "        <iframe\n",
       "            width=\"100%\"\n",
       "            height=\"500px\"\n",
       "            src=\"q_6.html\"\n",
       "            frameborder=\"0\"\n",
       "            allowfullscreen\n",
       "            \n",
       "        ></iframe>\n",
       "        "
      ],
      "text/plain": [
       "<IPython.lib.display.IFrame at 0x7f074befea10>"
      ]
     },
     "execution_count": 20,
     "metadata": {},
     "output_type": "execute_result"
    }
   ],
   "source": [
    "# Create a base map\n",
    "m_6 = folium.Map(location=[37,-120], zoom_start=6)\n",
    "\n",
    "# Your code here: show selected store locations\n",
    "for idx, row in locations_of_interest.iterrows():\n",
    "    Marker([row['Latitude'], row['Longitude']]).add_to(m_6)\n",
    "\n",
    "# Uncomment to see a hint\n",
    "#q_6.hint()\n",
    "\n",
    "# Show the map\n",
    "embed_map(m_6, 'q_6.html')"
   ]
  },
  {
   "cell_type": "code",
   "execution_count": 21,
   "id": "ef61fdfd",
   "metadata": {
    "execution": {
     "iopub.execute_input": "2022-03-18T20:21:41.346221Z",
     "iopub.status.busy": "2022-03-18T20:21:41.343592Z",
     "iopub.status.idle": "2022-03-18T20:21:41.350912Z",
     "shell.execute_reply": "2022-03-18T20:21:41.351405Z",
     "shell.execute_reply.started": "2022-03-18T20:21:04.668330Z"
    },
    "papermill": {
     "duration": 0.054816,
     "end_time": "2022-03-18T20:21:41.351568",
     "exception": false,
     "start_time": "2022-03-18T20:21:41.296752",
     "status": "completed"
    },
    "tags": []
   },
   "outputs": [
    {
     "data": {
      "application/javascript": [
       "parent.postMessage({\"jupyterEvent\": \"custom.exercise_interaction\", \"data\": {\"outcomeType\": 1, \"valueTowardsCompletion\": 0.2, \"interactionType\": 1, \"questionType\": 2, \"questionId\": \"6_Q6\", \"learnToolsVersion\": \"0.3.4\", \"failureMessage\": \"\", \"exceptionClass\": \"\", \"trace\": \"\"}}, \"*\")"
      ],
      "text/plain": [
       "<IPython.core.display.Javascript object>"
      ]
     },
     "metadata": {},
     "output_type": "display_data"
    },
    {
     "data": {
      "text/markdown": [
       "<span style=\"color:#33cc33\">Thank you for creating a map!</span>"
      ],
      "text/plain": [
       "Thank you for creating a map!"
      ]
     },
     "metadata": {},
     "output_type": "display_data"
    }
   ],
   "source": [
    "# Get credit for your work after you have created a map\n",
    "q_6.check()\n",
    "\n",
    "# Uncomment to see our solution (your code may look different!)\n",
    "#q_6.solution()"
   ]
  },
  {
   "cell_type": "markdown",
   "id": "faee977e",
   "metadata": {
    "papermill": {
     "duration": 0.045035,
     "end_time": "2022-03-18T20:21:41.442178",
     "exception": false,
     "start_time": "2022-03-18T20:21:41.397143",
     "status": "completed"
    },
    "tags": []
   },
   "source": [
    "# Keep going\n",
    "\n",
    "Learn about how **[proximity analysis](https://www.kaggle.com/alexisbcook/proximity-analysis)** can help you to understand the relationships between points on a map."
   ]
  },
  {
   "cell_type": "markdown",
   "id": "e9e7f263",
   "metadata": {
    "papermill": {
     "duration": 0.045519,
     "end_time": "2022-03-18T20:21:41.533519",
     "exception": false,
     "start_time": "2022-03-18T20:21:41.488000",
     "status": "completed"
    },
    "tags": []
   },
   "source": [
    "---\n",
    "\n",
    "\n",
    "\n",
    "\n",
    "*Have questions or comments? Visit the [course discussion forum](https://www.kaggle.com/learn/geospatial-analysis/discussion) to chat with other learners.*"
   ]
  }
 ],
 "metadata": {
  "kernelspec": {
   "display_name": "Python 3",
   "language": "python",
   "name": "python3"
  },
  "language_info": {
   "codemirror_mode": {
    "name": "ipython",
    "version": 3
   },
   "file_extension": ".py",
   "mimetype": "text/x-python",
   "name": "python",
   "nbconvert_exporter": "python",
   "pygments_lexer": "ipython3",
   "version": "3.7.12"
  },
  "papermill": {
   "default_parameters": {},
   "duration": 17.565182,
   "end_time": "2022-03-18T20:21:42.289794",
   "environment_variables": {},
   "exception": null,
   "input_path": "__notebook__.ipynb",
   "output_path": "__notebook__.ipynb",
   "parameters": {},
   "start_time": "2022-03-18T20:21:24.724612",
   "version": "2.3.3"
  }
 },
 "nbformat": 4,
 "nbformat_minor": 5
}
