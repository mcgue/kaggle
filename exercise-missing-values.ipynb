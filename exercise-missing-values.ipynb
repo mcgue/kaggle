{
 "cells": [
  {
   "cell_type": "markdown",
   "id": "0372d47b",
   "metadata": {
    "papermill": {
     "duration": 0.026939,
     "end_time": "2022-03-31T20:20:45.165847",
     "exception": false,
     "start_time": "2022-03-31T20:20:45.138908",
     "status": "completed"
    },
    "tags": []
   },
   "source": [
    "**This notebook is an exercise in the [Intermediate Machine Learning](https://www.kaggle.com/learn/intermediate-machine-learning) course.  You can reference the tutorial at [this link](https://www.kaggle.com/alexisbcook/missing-values).**\n",
    "\n",
    "---\n"
   ]
  },
  {
   "cell_type": "markdown",
   "id": "e20c5521",
   "metadata": {
    "papermill": {
     "duration": 0.02458,
     "end_time": "2022-03-31T20:20:45.216045",
     "exception": false,
     "start_time": "2022-03-31T20:20:45.191465",
     "status": "completed"
    },
    "tags": []
   },
   "source": [
    "Now it's your turn to test your new knowledge of **missing values** handling. You'll probably find it makes a big difference.\n",
    "\n",
    "# Setup\n",
    "\n",
    "The questions will give you feedback on your work. Run the following cell to set up the feedback system."
   ]
  },
  {
   "cell_type": "code",
   "execution_count": 1,
   "id": "0bffb129",
   "metadata": {
    "execution": {
     "iopub.execute_input": "2022-03-31T20:20:45.271943Z",
     "iopub.status.busy": "2022-03-31T20:20:45.269880Z",
     "iopub.status.idle": "2022-03-31T20:20:45.319275Z",
     "shell.execute_reply": "2022-03-31T20:20:45.319820Z",
     "shell.execute_reply.started": "2022-03-31T20:08:58.474697Z"
    },
    "papermill": {
     "duration": 0.079363,
     "end_time": "2022-03-31T20:20:45.320170",
     "exception": false,
     "start_time": "2022-03-31T20:20:45.240807",
     "status": "completed"
    },
    "tags": []
   },
   "outputs": [
    {
     "name": "stdout",
     "output_type": "stream",
     "text": [
      "Setup Complete\n"
     ]
    }
   ],
   "source": [
    "# Set up code checking\n",
    "import os\n",
    "if not os.path.exists(\"../input/train.csv\"):\n",
    "    os.symlink(\"../input/home-data-for-ml-course/train.csv\", \"../input/train.csv\")  \n",
    "    os.symlink(\"../input/home-data-for-ml-course/test.csv\", \"../input/test.csv\") \n",
    "from learntools.core import binder\n",
    "binder.bind(globals())\n",
    "from learntools.ml_intermediate.ex2 import *\n",
    "print(\"Setup Complete\")"
   ]
  },
  {
   "cell_type": "markdown",
   "id": "3a00f412",
   "metadata": {
    "papermill": {
     "duration": 0.025508,
     "end_time": "2022-03-31T20:20:45.371998",
     "exception": false,
     "start_time": "2022-03-31T20:20:45.346490",
     "status": "completed"
    },
    "tags": []
   },
   "source": [
    "In this exercise, you will work with data from the [Housing Prices Competition for Kaggle Learn Users](https://www.kaggle.com/c/home-data-for-ml-course). \n",
    "\n",
    "![Ames Housing dataset image](https://i.imgur.com/lTJVG4e.png)\n",
    "\n",
    "Run the next code cell without changes to load the training and validation sets in `X_train`, `X_valid`, `y_train`, and `y_valid`.  The test set is loaded in `X_test`."
   ]
  },
  {
   "cell_type": "code",
   "execution_count": 2,
   "id": "e336677e",
   "metadata": {
    "execution": {
     "iopub.execute_input": "2022-03-31T20:20:45.426895Z",
     "iopub.status.busy": "2022-03-31T20:20:45.426257Z",
     "iopub.status.idle": "2022-03-31T20:20:46.732578Z",
     "shell.execute_reply": "2022-03-31T20:20:46.733117Z",
     "shell.execute_reply.started": "2022-03-31T20:09:04.295607Z"
    },
    "papermill": {
     "duration": 1.33547,
     "end_time": "2022-03-31T20:20:46.733302",
     "exception": false,
     "start_time": "2022-03-31T20:20:45.397832",
     "status": "completed"
    },
    "tags": []
   },
   "outputs": [],
   "source": [
    "import pandas as pd\n",
    "from sklearn.model_selection import train_test_split\n",
    "\n",
    "# Read the data\n",
    "X_full = pd.read_csv('../input/train.csv', index_col='Id')\n",
    "X_test_full = pd.read_csv('../input/test.csv', index_col='Id')\n",
    "\n",
    "# Remove rows with missing target, separate target from predictors\n",
    "X_full.dropna(axis=0, subset=['SalePrice'], inplace=True)\n",
    "y = X_full.SalePrice\n",
    "X_full.drop(['SalePrice'], axis=1, inplace=True)\n",
    "\n",
    "# To keep things simple, we'll use only numerical predictors\n",
    "X = X_full.select_dtypes(exclude=['object'])\n",
    "X_test = X_test_full.select_dtypes(exclude=['object'])\n",
    "\n",
    "# Break off validation set from training data\n",
    "X_train, X_valid, y_train, y_valid = train_test_split(X, y, train_size=0.8, test_size=0.2,\n",
    "                                                      random_state=0)"
   ]
  },
  {
   "cell_type": "markdown",
   "id": "3bcac832",
   "metadata": {
    "papermill": {
     "duration": 0.026705,
     "end_time": "2022-03-31T20:20:46.785424",
     "exception": false,
     "start_time": "2022-03-31T20:20:46.758719",
     "status": "completed"
    },
    "tags": []
   },
   "source": [
    "Use the next code cell to print the first five rows of the data."
   ]
  },
  {
   "cell_type": "code",
   "execution_count": 3,
   "id": "0d0a87f9",
   "metadata": {
    "execution": {
     "iopub.execute_input": "2022-03-31T20:20:46.839598Z",
     "iopub.status.busy": "2022-03-31T20:20:46.838974Z",
     "iopub.status.idle": "2022-03-31T20:20:46.864558Z",
     "shell.execute_reply": "2022-03-31T20:20:46.865007Z",
     "shell.execute_reply.started": "2022-03-31T18:55:18.290442Z"
    },
    "papermill": {
     "duration": 0.054258,
     "end_time": "2022-03-31T20:20:46.865191",
     "exception": false,
     "start_time": "2022-03-31T20:20:46.810933",
     "status": "completed"
    },
    "tags": []
   },
   "outputs": [
    {
     "data": {
      "text/html": [
       "<div>\n",
       "<style scoped>\n",
       "    .dataframe tbody tr th:only-of-type {\n",
       "        vertical-align: middle;\n",
       "    }\n",
       "\n",
       "    .dataframe tbody tr th {\n",
       "        vertical-align: top;\n",
       "    }\n",
       "\n",
       "    .dataframe thead th {\n",
       "        text-align: right;\n",
       "    }\n",
       "</style>\n",
       "<table border=\"1\" class=\"dataframe\">\n",
       "  <thead>\n",
       "    <tr style=\"text-align: right;\">\n",
       "      <th></th>\n",
       "      <th>MSSubClass</th>\n",
       "      <th>LotFrontage</th>\n",
       "      <th>LotArea</th>\n",
       "      <th>OverallQual</th>\n",
       "      <th>OverallCond</th>\n",
       "      <th>YearBuilt</th>\n",
       "      <th>YearRemodAdd</th>\n",
       "      <th>MasVnrArea</th>\n",
       "      <th>BsmtFinSF1</th>\n",
       "      <th>BsmtFinSF2</th>\n",
       "      <th>...</th>\n",
       "      <th>GarageArea</th>\n",
       "      <th>WoodDeckSF</th>\n",
       "      <th>OpenPorchSF</th>\n",
       "      <th>EnclosedPorch</th>\n",
       "      <th>3SsnPorch</th>\n",
       "      <th>ScreenPorch</th>\n",
       "      <th>PoolArea</th>\n",
       "      <th>MiscVal</th>\n",
       "      <th>MoSold</th>\n",
       "      <th>YrSold</th>\n",
       "    </tr>\n",
       "    <tr>\n",
       "      <th>Id</th>\n",
       "      <th></th>\n",
       "      <th></th>\n",
       "      <th></th>\n",
       "      <th></th>\n",
       "      <th></th>\n",
       "      <th></th>\n",
       "      <th></th>\n",
       "      <th></th>\n",
       "      <th></th>\n",
       "      <th></th>\n",
       "      <th></th>\n",
       "      <th></th>\n",
       "      <th></th>\n",
       "      <th></th>\n",
       "      <th></th>\n",
       "      <th></th>\n",
       "      <th></th>\n",
       "      <th></th>\n",
       "      <th></th>\n",
       "      <th></th>\n",
       "      <th></th>\n",
       "    </tr>\n",
       "  </thead>\n",
       "  <tbody>\n",
       "    <tr>\n",
       "      <th>619</th>\n",
       "      <td>20</td>\n",
       "      <td>90.0</td>\n",
       "      <td>11694</td>\n",
       "      <td>9</td>\n",
       "      <td>5</td>\n",
       "      <td>2007</td>\n",
       "      <td>2007</td>\n",
       "      <td>452.0</td>\n",
       "      <td>48</td>\n",
       "      <td>0</td>\n",
       "      <td>...</td>\n",
       "      <td>774</td>\n",
       "      <td>0</td>\n",
       "      <td>108</td>\n",
       "      <td>0</td>\n",
       "      <td>0</td>\n",
       "      <td>260</td>\n",
       "      <td>0</td>\n",
       "      <td>0</td>\n",
       "      <td>7</td>\n",
       "      <td>2007</td>\n",
       "    </tr>\n",
       "    <tr>\n",
       "      <th>871</th>\n",
       "      <td>20</td>\n",
       "      <td>60.0</td>\n",
       "      <td>6600</td>\n",
       "      <td>5</td>\n",
       "      <td>5</td>\n",
       "      <td>1962</td>\n",
       "      <td>1962</td>\n",
       "      <td>0.0</td>\n",
       "      <td>0</td>\n",
       "      <td>0</td>\n",
       "      <td>...</td>\n",
       "      <td>308</td>\n",
       "      <td>0</td>\n",
       "      <td>0</td>\n",
       "      <td>0</td>\n",
       "      <td>0</td>\n",
       "      <td>0</td>\n",
       "      <td>0</td>\n",
       "      <td>0</td>\n",
       "      <td>8</td>\n",
       "      <td>2009</td>\n",
       "    </tr>\n",
       "    <tr>\n",
       "      <th>93</th>\n",
       "      <td>30</td>\n",
       "      <td>80.0</td>\n",
       "      <td>13360</td>\n",
       "      <td>5</td>\n",
       "      <td>7</td>\n",
       "      <td>1921</td>\n",
       "      <td>2006</td>\n",
       "      <td>0.0</td>\n",
       "      <td>713</td>\n",
       "      <td>0</td>\n",
       "      <td>...</td>\n",
       "      <td>432</td>\n",
       "      <td>0</td>\n",
       "      <td>0</td>\n",
       "      <td>44</td>\n",
       "      <td>0</td>\n",
       "      <td>0</td>\n",
       "      <td>0</td>\n",
       "      <td>0</td>\n",
       "      <td>8</td>\n",
       "      <td>2009</td>\n",
       "    </tr>\n",
       "    <tr>\n",
       "      <th>818</th>\n",
       "      <td>20</td>\n",
       "      <td>NaN</td>\n",
       "      <td>13265</td>\n",
       "      <td>8</td>\n",
       "      <td>5</td>\n",
       "      <td>2002</td>\n",
       "      <td>2002</td>\n",
       "      <td>148.0</td>\n",
       "      <td>1218</td>\n",
       "      <td>0</td>\n",
       "      <td>...</td>\n",
       "      <td>857</td>\n",
       "      <td>150</td>\n",
       "      <td>59</td>\n",
       "      <td>0</td>\n",
       "      <td>0</td>\n",
       "      <td>0</td>\n",
       "      <td>0</td>\n",
       "      <td>0</td>\n",
       "      <td>7</td>\n",
       "      <td>2008</td>\n",
       "    </tr>\n",
       "    <tr>\n",
       "      <th>303</th>\n",
       "      <td>20</td>\n",
       "      <td>118.0</td>\n",
       "      <td>13704</td>\n",
       "      <td>7</td>\n",
       "      <td>5</td>\n",
       "      <td>2001</td>\n",
       "      <td>2002</td>\n",
       "      <td>150.0</td>\n",
       "      <td>0</td>\n",
       "      <td>0</td>\n",
       "      <td>...</td>\n",
       "      <td>843</td>\n",
       "      <td>468</td>\n",
       "      <td>81</td>\n",
       "      <td>0</td>\n",
       "      <td>0</td>\n",
       "      <td>0</td>\n",
       "      <td>0</td>\n",
       "      <td>0</td>\n",
       "      <td>1</td>\n",
       "      <td>2006</td>\n",
       "    </tr>\n",
       "  </tbody>\n",
       "</table>\n",
       "<p>5 rows × 36 columns</p>\n",
       "</div>"
      ],
      "text/plain": [
       "     MSSubClass  LotFrontage  LotArea  OverallQual  OverallCond  YearBuilt  \\\n",
       "Id                                                                           \n",
       "619          20         90.0    11694            9            5       2007   \n",
       "871          20         60.0     6600            5            5       1962   \n",
       "93           30         80.0    13360            5            7       1921   \n",
       "818          20          NaN    13265            8            5       2002   \n",
       "303          20        118.0    13704            7            5       2001   \n",
       "\n",
       "     YearRemodAdd  MasVnrArea  BsmtFinSF1  BsmtFinSF2  ...  GarageArea  \\\n",
       "Id                                                     ...               \n",
       "619          2007       452.0          48           0  ...         774   \n",
       "871          1962         0.0           0           0  ...         308   \n",
       "93           2006         0.0         713           0  ...         432   \n",
       "818          2002       148.0        1218           0  ...         857   \n",
       "303          2002       150.0           0           0  ...         843   \n",
       "\n",
       "     WoodDeckSF  OpenPorchSF  EnclosedPorch  3SsnPorch  ScreenPorch  PoolArea  \\\n",
       "Id                                                                              \n",
       "619           0          108              0          0          260         0   \n",
       "871           0            0              0          0            0         0   \n",
       "93            0            0             44          0            0         0   \n",
       "818         150           59              0          0            0         0   \n",
       "303         468           81              0          0            0         0   \n",
       "\n",
       "     MiscVal  MoSold  YrSold  \n",
       "Id                            \n",
       "619        0       7    2007  \n",
       "871        0       8    2009  \n",
       "93         0       8    2009  \n",
       "818        0       7    2008  \n",
       "303        0       1    2006  \n",
       "\n",
       "[5 rows x 36 columns]"
      ]
     },
     "execution_count": 3,
     "metadata": {},
     "output_type": "execute_result"
    }
   ],
   "source": [
    "X_train.head()"
   ]
  },
  {
   "cell_type": "markdown",
   "id": "cb8cfa6e",
   "metadata": {
    "papermill": {
     "duration": 0.025458,
     "end_time": "2022-03-31T20:20:46.916751",
     "exception": false,
     "start_time": "2022-03-31T20:20:46.891293",
     "status": "completed"
    },
    "tags": []
   },
   "source": [
    "You can already see a few missing values in the first several rows.  In the next step, you'll obtain a more comprehensive understanding of the missing values in the dataset.\n",
    "\n",
    "# Step 1: Preliminary investigation\n",
    "\n",
    "Run the code cell below without changes."
   ]
  },
  {
   "cell_type": "code",
   "execution_count": 4,
   "id": "259e5d40",
   "metadata": {
    "execution": {
     "iopub.execute_input": "2022-03-31T20:20:46.971953Z",
     "iopub.status.busy": "2022-03-31T20:20:46.971341Z",
     "iopub.status.idle": "2022-03-31T20:20:46.978600Z",
     "shell.execute_reply": "2022-03-31T20:20:46.979101Z",
     "shell.execute_reply.started": "2022-03-31T18:55:25.765571Z"
    },
    "papermill": {
     "duration": 0.036692,
     "end_time": "2022-03-31T20:20:46.979299",
     "exception": false,
     "start_time": "2022-03-31T20:20:46.942607",
     "status": "completed"
    },
    "tags": []
   },
   "outputs": [
    {
     "name": "stdout",
     "output_type": "stream",
     "text": [
      "(1168, 36)\n",
      "LotFrontage    212\n",
      "MasVnrArea       6\n",
      "GarageYrBlt     58\n",
      "dtype: int64\n"
     ]
    }
   ],
   "source": [
    "# Shape of training data (num_rows, num_columns)\n",
    "print(X_train.shape)\n",
    "\n",
    "# Number of missing values in each column of training data\n",
    "missing_val_count_by_column = (X_train.isnull().sum())\n",
    "print(missing_val_count_by_column[missing_val_count_by_column > 0])"
   ]
  },
  {
   "cell_type": "markdown",
   "id": "b20afa6a",
   "metadata": {
    "papermill": {
     "duration": 0.026262,
     "end_time": "2022-03-31T20:20:47.032622",
     "exception": false,
     "start_time": "2022-03-31T20:20:47.006360",
     "status": "completed"
    },
    "tags": []
   },
   "source": [
    "### Part A\n",
    "\n",
    "Use the above output to answer the questions below."
   ]
  },
  {
   "cell_type": "code",
   "execution_count": 5,
   "id": "0abd3c2e",
   "metadata": {
    "execution": {
     "iopub.execute_input": "2022-03-31T20:20:47.089750Z",
     "iopub.status.busy": "2022-03-31T20:20:47.089112Z",
     "iopub.status.idle": "2022-03-31T20:20:47.095653Z",
     "shell.execute_reply": "2022-03-31T20:20:47.095169Z",
     "shell.execute_reply.started": "2022-03-31T18:55:31.862779Z"
    },
    "papermill": {
     "duration": 0.03665,
     "end_time": "2022-03-31T20:20:47.095803",
     "exception": false,
     "start_time": "2022-03-31T20:20:47.059153",
     "status": "completed"
    },
    "tags": []
   },
   "outputs": [
    {
     "data": {
      "application/javascript": [
       "parent.postMessage({\"jupyterEvent\": \"custom.exercise_interaction\", \"data\": {\"outcomeType\": 1, \"valueTowardsCompletion\": 1.0, \"interactionType\": 1, \"questionType\": 1, \"questionId\": \"1.1_InvestigateEquality\", \"learnToolsVersion\": \"0.3.4\", \"failureMessage\": \"\", \"exceptionClass\": \"\", \"trace\": \"\"}}, \"*\")"
      ],
      "text/plain": [
       "<IPython.core.display.Javascript object>"
      ]
     },
     "metadata": {},
     "output_type": "display_data"
    },
    {
     "data": {
      "text/markdown": [
       "<span style=\"color:#33cc33\">Correct</span>"
      ],
      "text/plain": [
       "Correct"
      ]
     },
     "metadata": {},
     "output_type": "display_data"
    }
   ],
   "source": [
    "# Fill in the line below: How many rows are in the training data?\n",
    "num_rows = 1168\n",
    "\n",
    "# Fill in the line below: How many columns in the training data\n",
    "# have missing values?\n",
    "num_cols_with_missing = 3\n",
    "\n",
    "# Fill in the line below: How many missing entries are contained in \n",
    "# all of the training data?\n",
    "tot_missing = 218 + 58\n",
    "\n",
    "# Check your answers\n",
    "step_1.a.check()"
   ]
  },
  {
   "cell_type": "code",
   "execution_count": 6,
   "id": "20d44338",
   "metadata": {
    "execution": {
     "iopub.execute_input": "2022-03-31T20:20:47.155983Z",
     "iopub.status.busy": "2022-03-31T20:20:47.154983Z",
     "iopub.status.idle": "2022-03-31T20:20:47.158625Z",
     "shell.execute_reply": "2022-03-31T20:20:47.159073Z",
     "shell.execute_reply.started": "2022-03-25T20:21:35.140987Z"
    },
    "papermill": {
     "duration": 0.03439,
     "end_time": "2022-03-31T20:20:47.159253",
     "exception": false,
     "start_time": "2022-03-31T20:20:47.124863",
     "status": "completed"
    },
    "tags": []
   },
   "outputs": [],
   "source": [
    "# Lines below will give you a hint or solution code\n",
    "#step_1.a.hint()\n",
    "#step_1.a.solution()"
   ]
  },
  {
   "cell_type": "markdown",
   "id": "f5052466",
   "metadata": {
    "papermill": {
     "duration": 0.026939,
     "end_time": "2022-03-31T20:20:47.213628",
     "exception": false,
     "start_time": "2022-03-31T20:20:47.186689",
     "status": "completed"
    },
    "tags": []
   },
   "source": [
    "### Part B\n",
    "Considering your answers above, what do you think is likely the best approach to dealing with the missing values?"
   ]
  },
  {
   "cell_type": "code",
   "execution_count": 7,
   "id": "d5332ee1",
   "metadata": {
    "execution": {
     "iopub.execute_input": "2022-03-31T20:20:47.273484Z",
     "iopub.status.busy": "2022-03-31T20:20:47.270688Z",
     "iopub.status.idle": "2022-03-31T20:20:47.277103Z",
     "shell.execute_reply": "2022-03-31T20:20:47.277585Z",
     "shell.execute_reply.started": "2022-03-31T18:57:28.618010Z"
    },
    "papermill": {
     "duration": 0.037127,
     "end_time": "2022-03-31T20:20:47.277766",
     "exception": false,
     "start_time": "2022-03-31T20:20:47.240639",
     "status": "completed"
    },
    "tags": []
   },
   "outputs": [
    {
     "data": {
      "application/javascript": [
       "parent.postMessage({\"jupyterEvent\": \"custom.exercise_interaction\", \"data\": {\"outcomeType\": 1, \"valueTowardsCompletion\": 1.0, \"interactionType\": 1, \"questionType\": 4, \"questionId\": \"1.2_InvestigateThought\", \"learnToolsVersion\": \"0.3.4\", \"failureMessage\": \"\", \"exceptionClass\": \"\", \"trace\": \"\"}}, \"*\")"
      ],
      "text/plain": [
       "<IPython.core.display.Javascript object>"
      ]
     },
     "metadata": {},
     "output_type": "display_data"
    },
    {
     "data": {
      "text/markdown": [
       "<span style=\"color:#33cc33\">Correct:</span> \n",
       "\n",
       "Since there are relatively few missing entries in the data (the column with the greatest percentage of missing values is missing less than 20% of its entries), we can expect that dropping columns is unlikely to yield good results.  This is because we'd be throwing away a lot of valuable data, and so imputation will likely perform better."
      ],
      "text/plain": [
       "Correct: \n",
       "\n",
       "Since there are relatively few missing entries in the data (the column with the greatest percentage of missing values is missing less than 20% of its entries), we can expect that dropping columns is unlikely to yield good results.  This is because we'd be throwing away a lot of valuable data, and so imputation will likely perform better."
      ]
     },
     "metadata": {},
     "output_type": "display_data"
    }
   ],
   "source": [
    "# Check your answer (Run this code cell to receive credit!)\n",
    "step_1.b.check()"
   ]
  },
  {
   "cell_type": "code",
   "execution_count": 8,
   "id": "c083c652",
   "metadata": {
    "execution": {
     "iopub.execute_input": "2022-03-31T20:20:47.339527Z",
     "iopub.status.busy": "2022-03-31T20:20:47.337996Z",
     "iopub.status.idle": "2022-03-31T20:20:47.341790Z",
     "shell.execute_reply": "2022-03-31T20:20:47.342268Z"
    },
    "papermill": {
     "duration": 0.03579,
     "end_time": "2022-03-31T20:20:47.342444",
     "exception": false,
     "start_time": "2022-03-31T20:20:47.306654",
     "status": "completed"
    },
    "tags": []
   },
   "outputs": [],
   "source": [
    "#step_1.b.hint()"
   ]
  },
  {
   "cell_type": "markdown",
   "id": "2c14cb71",
   "metadata": {
    "papermill": {
     "duration": 0.028553,
     "end_time": "2022-03-31T20:20:47.400040",
     "exception": false,
     "start_time": "2022-03-31T20:20:47.371487",
     "status": "completed"
    },
    "tags": []
   },
   "source": [
    "To compare different approaches to dealing with missing values, you'll use the same `score_dataset()` function from the tutorial.  This function reports the [mean absolute error](https://en.wikipedia.org/wiki/Mean_absolute_error) (MAE) from a random forest model."
   ]
  },
  {
   "cell_type": "code",
   "execution_count": 9,
   "id": "28a1d1d7",
   "metadata": {
    "execution": {
     "iopub.execute_input": "2022-03-31T20:20:47.465492Z",
     "iopub.status.busy": "2022-03-31T20:20:47.464778Z",
     "iopub.status.idle": "2022-03-31T20:20:47.702806Z",
     "shell.execute_reply": "2022-03-31T20:20:47.701688Z",
     "shell.execute_reply.started": "2022-03-31T20:09:29.834750Z"
    },
    "papermill": {
     "duration": 0.271655,
     "end_time": "2022-03-31T20:20:47.702960",
     "exception": false,
     "start_time": "2022-03-31T20:20:47.431305",
     "status": "completed"
    },
    "tags": []
   },
   "outputs": [],
   "source": [
    "from sklearn.ensemble import RandomForestRegressor\n",
    "from sklearn.metrics import mean_absolute_error\n",
    "\n",
    "# Function for comparing different approaches\n",
    "def score_dataset(X_train, X_valid, y_train, y_valid):\n",
    "    model = RandomForestRegressor(n_estimators=100, random_state=0)\n",
    "    model.fit(X_train, y_train)\n",
    "    preds = model.predict(X_valid)\n",
    "    return mean_absolute_error(y_valid, preds)"
   ]
  },
  {
   "cell_type": "markdown",
   "id": "4f980dc6",
   "metadata": {
    "papermill": {
     "duration": 0.028428,
     "end_time": "2022-03-31T20:20:47.759982",
     "exception": false,
     "start_time": "2022-03-31T20:20:47.731554",
     "status": "completed"
    },
    "tags": []
   },
   "source": [
    "# Step 2: Drop columns with missing values\n",
    "\n",
    "In this step, you'll preprocess the data in `X_train` and `X_valid` to remove columns with missing values.  Set the preprocessed DataFrames to `reduced_X_train` and `reduced_X_valid`, respectively.  "
   ]
  },
  {
   "cell_type": "code",
   "execution_count": 10,
   "id": "9db09624",
   "metadata": {
    "execution": {
     "iopub.execute_input": "2022-03-31T20:20:47.825314Z",
     "iopub.status.busy": "2022-03-31T20:20:47.824644Z",
     "iopub.status.idle": "2022-03-31T20:20:47.844903Z",
     "shell.execute_reply": "2022-03-31T20:20:47.845378Z",
     "shell.execute_reply.started": "2022-03-31T20:09:35.468562Z"
    },
    "papermill": {
     "duration": 0.05695,
     "end_time": "2022-03-31T20:20:47.845548",
     "exception": false,
     "start_time": "2022-03-31T20:20:47.788598",
     "status": "completed"
    },
    "tags": []
   },
   "outputs": [
    {
     "data": {
      "application/javascript": [
       "parent.postMessage({\"jupyterEvent\": \"custom.exercise_interaction\", \"data\": {\"outcomeType\": 1, \"valueTowardsCompletion\": 1.0, \"interactionType\": 1, \"questionType\": 2, \"questionId\": \"2_DropMissing\", \"learnToolsVersion\": \"0.3.4\", \"failureMessage\": \"\", \"exceptionClass\": \"\", \"trace\": \"\"}}, \"*\")"
      ],
      "text/plain": [
       "<IPython.core.display.Javascript object>"
      ]
     },
     "metadata": {},
     "output_type": "display_data"
    },
    {
     "data": {
      "text/markdown": [
       "<span style=\"color:#33cc33\">Correct</span>"
      ],
      "text/plain": [
       "Correct"
      ]
     },
     "metadata": {},
     "output_type": "display_data"
    }
   ],
   "source": [
    "# Fill in the line below: get names of columns with missing values\n",
    "cols_with_missing = [col for col in X_train.columns\n",
    "                     if X_train[col].isnull().any()]\n",
    "\n",
    "# Fill in the lines below: drop columns in training and validation data\n",
    "reduced_X_train = X_train.drop(cols_with_missing, axis=1)\n",
    "reduced_X_valid = X_valid.drop(cols_with_missing, axis=1)\n",
    "\n",
    "# Check your answers\n",
    "step_2.check()"
   ]
  },
  {
   "cell_type": "code",
   "execution_count": 11,
   "id": "6b29390c",
   "metadata": {
    "execution": {
     "iopub.execute_input": "2022-03-31T20:20:47.909373Z",
     "iopub.status.busy": "2022-03-31T20:20:47.908702Z",
     "iopub.status.idle": "2022-03-31T20:20:47.911777Z",
     "shell.execute_reply": "2022-03-31T20:20:47.912226Z",
     "shell.execute_reply.started": "2022-03-28T22:19:04.006447Z"
    },
    "papermill": {
     "duration": 0.035591,
     "end_time": "2022-03-31T20:20:47.912414",
     "exception": false,
     "start_time": "2022-03-31T20:20:47.876823",
     "status": "completed"
    },
    "tags": []
   },
   "outputs": [],
   "source": [
    "# Lines below will give you a hint or solution code\n",
    "#step_2.hint()\n",
    "#step_2.solution()"
   ]
  },
  {
   "cell_type": "markdown",
   "id": "303a2a99",
   "metadata": {
    "papermill": {
     "duration": 0.029086,
     "end_time": "2022-03-31T20:20:47.971279",
     "exception": false,
     "start_time": "2022-03-31T20:20:47.942193",
     "status": "completed"
    },
    "tags": []
   },
   "source": [
    "Run the next code cell without changes to obtain the MAE for this approach."
   ]
  },
  {
   "cell_type": "code",
   "execution_count": 12,
   "id": "bdf107c8",
   "metadata": {
    "execution": {
     "iopub.execute_input": "2022-03-31T20:20:48.034807Z",
     "iopub.status.busy": "2022-03-31T20:20:48.034067Z",
     "iopub.status.idle": "2022-03-31T20:20:49.105987Z",
     "shell.execute_reply": "2022-03-31T20:20:49.106769Z",
     "shell.execute_reply.started": "2022-03-31T18:58:02.389153Z"
    },
    "papermill": {
     "duration": 1.105694,
     "end_time": "2022-03-31T20:20:49.107009",
     "exception": false,
     "start_time": "2022-03-31T20:20:48.001315",
     "status": "completed"
    },
    "tags": []
   },
   "outputs": [
    {
     "name": "stdout",
     "output_type": "stream",
     "text": [
      "MAE (Drop columns with missing values):\n",
      "17837.82570776256\n"
     ]
    }
   ],
   "source": [
    "print(\"MAE (Drop columns with missing values):\")\n",
    "print(score_dataset(reduced_X_train, reduced_X_valid, y_train, y_valid))"
   ]
  },
  {
   "cell_type": "markdown",
   "id": "0d01abed",
   "metadata": {
    "papermill": {
     "duration": 0.030357,
     "end_time": "2022-03-31T20:20:49.168165",
     "exception": false,
     "start_time": "2022-03-31T20:20:49.137808",
     "status": "completed"
    },
    "tags": []
   },
   "source": [
    "# Step 3: Imputation\n",
    "\n",
    "### Part A\n",
    "\n",
    "Use the next code cell to impute missing values with the mean value along each column.  Set the preprocessed DataFrames to `imputed_X_train` and `imputed_X_valid`.  Make sure that the column names match those in `X_train` and `X_valid`."
   ]
  },
  {
   "cell_type": "code",
   "execution_count": 13,
   "id": "7eebf2c9",
   "metadata": {
    "execution": {
     "iopub.execute_input": "2022-03-31T20:20:49.230966Z",
     "iopub.status.busy": "2022-03-31T20:20:49.230384Z",
     "iopub.status.idle": "2022-03-31T20:20:49.261800Z",
     "shell.execute_reply": "2022-03-31T20:20:49.261199Z",
     "shell.execute_reply.started": "2022-03-31T20:09:45.827074Z"
    },
    "papermill": {
     "duration": 0.063994,
     "end_time": "2022-03-31T20:20:49.261940",
     "exception": false,
     "start_time": "2022-03-31T20:20:49.197946",
     "status": "completed"
    },
    "tags": []
   },
   "outputs": [
    {
     "data": {
      "application/javascript": [
       "parent.postMessage({\"jupyterEvent\": \"custom.exercise_interaction\", \"data\": {\"outcomeType\": 1, \"valueTowardsCompletion\": 1.0, \"interactionType\": 1, \"questionType\": 2, \"questionId\": \"3.1_ImputeCode\", \"learnToolsVersion\": \"0.3.4\", \"failureMessage\": \"\", \"exceptionClass\": \"\", \"trace\": \"\"}}, \"*\")"
      ],
      "text/plain": [
       "<IPython.core.display.Javascript object>"
      ]
     },
     "metadata": {},
     "output_type": "display_data"
    },
    {
     "data": {
      "text/markdown": [
       "<span style=\"color:#33cc33\">Correct</span>"
      ],
      "text/plain": [
       "Correct"
      ]
     },
     "metadata": {},
     "output_type": "display_data"
    }
   ],
   "source": [
    "from sklearn.impute import SimpleImputer\n",
    "\n",
    "# Fill in the lines below: imputation\n",
    "my_imputer = SimpleImputer()\n",
    "imputed_X_train = pd.DataFrame(my_imputer.fit_transform(X_train))\n",
    "imputed_X_valid = pd.DataFrame(my_imputer.transform(X_valid))\n",
    "\n",
    "# Fill in the lines below: imputation removed column names; put them back\n",
    "imputed_X_train.columns = X_train.columns\n",
    "imputed_X_valid.columns = X_valid.columns\n",
    "\n",
    "# Check your answers\n",
    "step_3.a.check()"
   ]
  },
  {
   "cell_type": "code",
   "execution_count": 14,
   "id": "c6e1646a",
   "metadata": {
    "execution": {
     "iopub.execute_input": "2022-03-31T20:20:49.328464Z",
     "iopub.status.busy": "2022-03-31T20:20:49.327802Z",
     "iopub.status.idle": "2022-03-31T20:20:49.330638Z",
     "shell.execute_reply": "2022-03-31T20:20:49.330068Z"
    },
    "papermill": {
     "duration": 0.037871,
     "end_time": "2022-03-31T20:20:49.330788",
     "exception": false,
     "start_time": "2022-03-31T20:20:49.292917",
     "status": "completed"
    },
    "tags": []
   },
   "outputs": [],
   "source": [
    "# Lines below will give you a hint or solution code\n",
    "#step_3.a.hint()\n",
    "#step_3.a.solution()"
   ]
  },
  {
   "cell_type": "markdown",
   "id": "df13574b",
   "metadata": {
    "papermill": {
     "duration": 0.031767,
     "end_time": "2022-03-31T20:20:49.393385",
     "exception": false,
     "start_time": "2022-03-31T20:20:49.361618",
     "status": "completed"
    },
    "tags": []
   },
   "source": [
    "Run the next code cell without changes to obtain the MAE for this approach."
   ]
  },
  {
   "cell_type": "code",
   "execution_count": 15,
   "id": "9476b6b8",
   "metadata": {
    "execution": {
     "iopub.execute_input": "2022-03-31T20:20:49.463748Z",
     "iopub.status.busy": "2022-03-31T20:20:49.462997Z",
     "iopub.status.idle": "2022-03-31T20:20:50.617707Z",
     "shell.execute_reply": "2022-03-31T20:20:50.618197Z",
     "shell.execute_reply.started": "2022-03-31T20:09:54.138895Z"
    },
    "papermill": {
     "duration": 1.192373,
     "end_time": "2022-03-31T20:20:50.618387",
     "exception": false,
     "start_time": "2022-03-31T20:20:49.426014",
     "status": "completed"
    },
    "tags": []
   },
   "outputs": [
    {
     "name": "stdout",
     "output_type": "stream",
     "text": [
      "MAE (Imputation):\n",
      "18062.894611872147\n"
     ]
    }
   ],
   "source": [
    "print(\"MAE (Imputation):\")\n",
    "print(score_dataset(imputed_X_train, imputed_X_valid, y_train, y_valid))"
   ]
  },
  {
   "cell_type": "markdown",
   "id": "3b73eaf4",
   "metadata": {
    "papermill": {
     "duration": 0.031338,
     "end_time": "2022-03-31T20:20:50.682037",
     "exception": false,
     "start_time": "2022-03-31T20:20:50.650699",
     "status": "completed"
    },
    "tags": []
   },
   "source": [
    "### Part B\n",
    "\n",
    "Compare the MAE from each approach.  Does anything surprise you about the results?  Why do you think one approach performed better than the other?"
   ]
  },
  {
   "cell_type": "code",
   "execution_count": 16,
   "id": "de62812e",
   "metadata": {
    "execution": {
     "iopub.execute_input": "2022-03-31T20:20:50.748341Z",
     "iopub.status.busy": "2022-03-31T20:20:50.747648Z",
     "iopub.status.idle": "2022-03-31T20:20:50.752958Z",
     "shell.execute_reply": "2022-03-31T20:20:50.753473Z",
     "shell.execute_reply.started": "2022-03-31T20:10:04.205670Z"
    },
    "papermill": {
     "duration": 0.040365,
     "end_time": "2022-03-31T20:20:50.753645",
     "exception": false,
     "start_time": "2022-03-31T20:20:50.713280",
     "status": "completed"
    },
    "tags": []
   },
   "outputs": [
    {
     "data": {
      "application/javascript": [
       "parent.postMessage({\"jupyterEvent\": \"custom.exercise_interaction\", \"data\": {\"outcomeType\": 1, \"valueTowardsCompletion\": 1.0, \"interactionType\": 1, \"questionType\": 4, \"questionId\": \"3.2_ImputeThought\", \"learnToolsVersion\": \"0.3.4\", \"failureMessage\": \"\", \"exceptionClass\": \"\", \"trace\": \"\"}}, \"*\")"
      ],
      "text/plain": [
       "<IPython.core.display.Javascript object>"
      ]
     },
     "metadata": {},
     "output_type": "display_data"
    },
    {
     "data": {
      "text/markdown": [
       "<span style=\"color:#33cc33\">Correct:</span> \n",
       "\n",
       "Given that thre are so few missing values in the dataset, we'd expect imputation to perform better than dropping columns entirely.  However, we see that dropping columns performs slightly better!  While this can probably partially be attributed to noise in the dataset, another potential explanation is that the imputation method is not a great match to this dataset.  That is, maybe instead of filling in the mean value, it makes more sense to set every missing value to a value of 0, to fill in the most frequently encountered value, or to use some other method.  For instance, consider the `GarageYrBlt` column (which indicates the year that the garage was built).  It's likely that in some cases, a missing value could indicate a house that does not have a garage.  Does it make more sense to fill in the median value along each column in this case?  Or could we get better results by filling in the minimum value along each column?  It's not quite clear what's best in this case, but perhaps we can rule out some options immediately - for instance, setting missing values in this column to 0 is likely to yield horrible results!"
      ],
      "text/plain": [
       "Correct: \n",
       "\n",
       "Given that thre are so few missing values in the dataset, we'd expect imputation to perform better than dropping columns entirely.  However, we see that dropping columns performs slightly better!  While this can probably partially be attributed to noise in the dataset, another potential explanation is that the imputation method is not a great match to this dataset.  That is, maybe instead of filling in the mean value, it makes more sense to set every missing value to a value of 0, to fill in the most frequently encountered value, or to use some other method.  For instance, consider the `GarageYrBlt` column (which indicates the year that the garage was built).  It's likely that in some cases, a missing value could indicate a house that does not have a garage.  Does it make more sense to fill in the median value along each column in this case?  Or could we get better results by filling in the minimum value along each column?  It's not quite clear what's best in this case, but perhaps we can rule out some options immediately - for instance, setting missing values in this column to 0 is likely to yield horrible results!"
      ]
     },
     "metadata": {},
     "output_type": "display_data"
    }
   ],
   "source": [
    "# Check your answer (Run this code cell to receive credit!)\n",
    "step_3.b.check()"
   ]
  },
  {
   "cell_type": "code",
   "execution_count": 17,
   "id": "49372746",
   "metadata": {
    "execution": {
     "iopub.execute_input": "2022-03-31T20:20:50.821829Z",
     "iopub.status.busy": "2022-03-31T20:20:50.821225Z",
     "iopub.status.idle": "2022-03-31T20:20:50.823830Z",
     "shell.execute_reply": "2022-03-31T20:20:50.824388Z"
    },
    "papermill": {
     "duration": 0.03883,
     "end_time": "2022-03-31T20:20:50.824548",
     "exception": false,
     "start_time": "2022-03-31T20:20:50.785718",
     "status": "completed"
    },
    "tags": []
   },
   "outputs": [],
   "source": [
    "#step_3.b.hint()"
   ]
  },
  {
   "cell_type": "markdown",
   "id": "4d4a6829",
   "metadata": {
    "papermill": {
     "duration": 0.032292,
     "end_time": "2022-03-31T20:20:50.889162",
     "exception": false,
     "start_time": "2022-03-31T20:20:50.856870",
     "status": "completed"
    },
    "tags": []
   },
   "source": [
    "# Step 4: Generate test predictions\n",
    "\n",
    "In this final step, you'll use any approach of your choosing to deal with missing values.  Once you've preprocessed the training and validation features, you'll train and evaluate a random forest model.  Then, you'll preprocess the test data before generating predictions that can be submitted to the competition!\n",
    "\n",
    "### Part A\n",
    "\n",
    "Use the next code cell to preprocess the training and validation data.  Set the preprocessed DataFrames to `final_X_train` and `final_X_valid`.  **You can use any approach of your choosing here!**  in order for this step to be marked as correct, you need only ensure:\n",
    "- the preprocessed DataFrames have the same number of columns,\n",
    "- the preprocessed DataFrames have no missing values, \n",
    "- `final_X_train` and `y_train` have the same number of rows, and\n",
    "- `final_X_valid` and `y_valid` have the same number of rows."
   ]
  },
  {
   "cell_type": "code",
   "execution_count": 18,
   "id": "e2afb5d8",
   "metadata": {
    "execution": {
     "iopub.execute_input": "2022-03-31T20:20:50.957024Z",
     "iopub.status.busy": "2022-03-31T20:20:50.956477Z",
     "iopub.status.idle": "2022-03-31T20:20:50.982524Z",
     "shell.execute_reply": "2022-03-31T20:20:50.983086Z",
     "shell.execute_reply.started": "2022-03-31T20:17:44.825664Z"
    },
    "papermill": {
     "duration": 0.061651,
     "end_time": "2022-03-31T20:20:50.983280",
     "exception": false,
     "start_time": "2022-03-31T20:20:50.921629",
     "status": "completed"
    },
    "tags": []
   },
   "outputs": [
    {
     "data": {
      "application/javascript": [
       "parent.postMessage({\"jupyterEvent\": \"custom.exercise_interaction\", \"data\": {\"outcomeType\": 1, \"valueTowardsCompletion\": 1.0, \"interactionType\": 1, \"questionType\": 2, \"questionId\": \"4.1_PredsCodeA\", \"learnToolsVersion\": \"0.3.4\", \"failureMessage\": \"\", \"exceptionClass\": \"\", \"trace\": \"\"}}, \"*\")"
      ],
      "text/plain": [
       "<IPython.core.display.Javascript object>"
      ]
     },
     "metadata": {},
     "output_type": "display_data"
    },
    {
     "data": {
      "text/markdown": [
       "<span style=\"color:#33cc33\">Correct</span>"
      ],
      "text/plain": [
       "Correct"
      ]
     },
     "metadata": {},
     "output_type": "display_data"
    }
   ],
   "source": [
    "# Preprocessed training and validation features\n",
    "final_imputer = SimpleImputer(strategy='median')\n",
    "final_X_train = pd.DataFrame(final_imputer.fit_transform(X_train))\n",
    "final_X_valid = pd.DataFrame(final_imputer.transform(X_valid))\n",
    "\n",
    "# Check your answers\n",
    "step_4.a.check()"
   ]
  },
  {
   "cell_type": "code",
   "execution_count": 19,
   "id": "78918a5c",
   "metadata": {
    "execution": {
     "iopub.execute_input": "2022-03-31T20:20:51.055263Z",
     "iopub.status.busy": "2022-03-31T20:20:51.054641Z",
     "iopub.status.idle": "2022-03-31T20:20:51.056238Z",
     "shell.execute_reply": "2022-03-31T20:20:51.056764Z",
     "shell.execute_reply.started": "2022-03-31T20:15:19.080492Z"
    },
    "papermill": {
     "duration": 0.039182,
     "end_time": "2022-03-31T20:20:51.056924",
     "exception": false,
     "start_time": "2022-03-31T20:20:51.017742",
     "status": "completed"
    },
    "tags": []
   },
   "outputs": [],
   "source": [
    "# Lines below will give you a hint or solution code\n",
    "#step_4.a.hint()\n",
    "#step_4.a.solution()"
   ]
  },
  {
   "cell_type": "markdown",
   "id": "ddf392dc",
   "metadata": {
    "papermill": {
     "duration": 0.032879,
     "end_time": "2022-03-31T20:20:51.123515",
     "exception": false,
     "start_time": "2022-03-31T20:20:51.090636",
     "status": "completed"
    },
    "tags": []
   },
   "source": [
    "Run the next code cell to train and evaluate a random forest model.  (*Note that we don't use the `score_dataset()` function above, because we will soon use the trained model to generate test predictions!*)"
   ]
  },
  {
   "cell_type": "code",
   "execution_count": 20,
   "id": "7633926b",
   "metadata": {
    "execution": {
     "iopub.execute_input": "2022-03-31T20:20:51.193949Z",
     "iopub.status.busy": "2022-03-31T20:20:51.193389Z",
     "iopub.status.idle": "2022-03-31T20:20:52.353239Z",
     "shell.execute_reply": "2022-03-31T20:20:52.353952Z",
     "shell.execute_reply.started": "2022-03-31T20:17:49.643531Z"
    },
    "papermill": {
     "duration": 1.196551,
     "end_time": "2022-03-31T20:20:52.354263",
     "exception": false,
     "start_time": "2022-03-31T20:20:51.157712",
     "status": "completed"
    },
    "tags": []
   },
   "outputs": [
    {
     "name": "stdout",
     "output_type": "stream",
     "text": [
      "MAE (Your approach):\n",
      "17791.59899543379\n"
     ]
    }
   ],
   "source": [
    "# Define and fit model\n",
    "model = RandomForestRegressor(n_estimators=100, random_state=0)\n",
    "model.fit(final_X_train, y_train)\n",
    "\n",
    "# Get validation predictions and MAE\n",
    "preds_valid = model.predict(final_X_valid)\n",
    "print(\"MAE (Your approach):\")\n",
    "print(mean_absolute_error(y_valid, preds_valid))"
   ]
  },
  {
   "cell_type": "markdown",
   "id": "6be882ec",
   "metadata": {
    "papermill": {
     "duration": 0.033814,
     "end_time": "2022-03-31T20:20:52.423522",
     "exception": false,
     "start_time": "2022-03-31T20:20:52.389708",
     "status": "completed"
    },
    "tags": []
   },
   "source": [
    "### Part B\n",
    "\n",
    "Use the next code cell to preprocess your test data.  Make sure that you use a method that agrees with how you preprocessed the training and validation data, and set the preprocessed test features to `final_X_test`.\n",
    "\n",
    "Then, use the preprocessed test features and the trained model to generate test predictions in `preds_test`.\n",
    "\n",
    "In order for this step to be marked correct, you need only ensure:\n",
    "- the preprocessed test DataFrame has no missing values, and\n",
    "- `final_X_test` has the same number of rows as `X_test`."
   ]
  },
  {
   "cell_type": "code",
   "execution_count": 21,
   "id": "dc9b6b6d",
   "metadata": {
    "execution": {
     "iopub.execute_input": "2022-03-31T20:20:52.495148Z",
     "iopub.status.busy": "2022-03-31T20:20:52.494474Z",
     "iopub.status.idle": "2022-03-31T20:20:52.541768Z",
     "shell.execute_reply": "2022-03-31T20:20:52.542412Z",
     "shell.execute_reply.started": "2022-03-31T20:19:27.508449Z"
    },
    "papermill": {
     "duration": 0.085626,
     "end_time": "2022-03-31T20:20:52.542589",
     "exception": false,
     "start_time": "2022-03-31T20:20:52.456963",
     "status": "completed"
    },
    "tags": []
   },
   "outputs": [
    {
     "data": {
      "application/javascript": [
       "parent.postMessage({\"jupyterEvent\": \"custom.exercise_interaction\", \"data\": {\"outcomeType\": 1, \"valueTowardsCompletion\": 1.0, \"interactionType\": 1, \"questionType\": 2, \"questionId\": \"4.2_PredsCodeB\", \"learnToolsVersion\": \"0.3.4\", \"failureMessage\": \"\", \"exceptionClass\": \"\", \"trace\": \"\"}}, \"*\")"
      ],
      "text/plain": [
       "<IPython.core.display.Javascript object>"
      ]
     },
     "metadata": {},
     "output_type": "display_data"
    },
    {
     "data": {
      "text/markdown": [
       "<span style=\"color:#33cc33\">Correct</span>"
      ],
      "text/plain": [
       "Correct"
      ]
     },
     "metadata": {},
     "output_type": "display_data"
    }
   ],
   "source": [
    "# Fill in the line below: preprocess test data\n",
    "final_X_test = pd.DataFrame(final_imputer.transform(X_test))\n",
    "\n",
    "# Fill in the line below: get test predictions\n",
    "preds_test = model.predict(final_X_test)\n",
    "\n",
    "# Check your answers\n",
    "step_4.b.check()"
   ]
  },
  {
   "cell_type": "code",
   "execution_count": 22,
   "id": "4671ec06",
   "metadata": {
    "execution": {
     "iopub.execute_input": "2022-03-31T20:20:52.616206Z",
     "iopub.status.busy": "2022-03-31T20:20:52.615570Z",
     "iopub.status.idle": "2022-03-31T20:20:52.618543Z",
     "shell.execute_reply": "2022-03-31T20:20:52.619019Z",
     "shell.execute_reply.started": "2022-03-31T20:19:36.153738Z"
    },
    "papermill": {
     "duration": 0.041617,
     "end_time": "2022-03-31T20:20:52.619209",
     "exception": false,
     "start_time": "2022-03-31T20:20:52.577592",
     "status": "completed"
    },
    "tags": []
   },
   "outputs": [],
   "source": [
    "# Lines below will give you a hint or solution code\n",
    "#step_4.b.hint()\n",
    "#step_4.b.solution()"
   ]
  },
  {
   "cell_type": "markdown",
   "id": "83aff6df",
   "metadata": {
    "papermill": {
     "duration": 0.034093,
     "end_time": "2022-03-31T20:20:52.688348",
     "exception": false,
     "start_time": "2022-03-31T20:20:52.654255",
     "status": "completed"
    },
    "tags": []
   },
   "source": [
    "Run the next code cell without changes to save your results to a CSV file that can be submitted directly to the competition."
   ]
  },
  {
   "cell_type": "code",
   "execution_count": 23,
   "id": "cf6330a0",
   "metadata": {
    "execution": {
     "iopub.execute_input": "2022-03-31T20:20:52.760861Z",
     "iopub.status.busy": "2022-03-31T20:20:52.760242Z",
     "iopub.status.idle": "2022-03-31T20:20:52.770735Z",
     "shell.execute_reply": "2022-03-31T20:20:52.771260Z",
     "shell.execute_reply.started": "2022-03-31T20:19:44.043265Z"
    },
    "papermill": {
     "duration": 0.048803,
     "end_time": "2022-03-31T20:20:52.771437",
     "exception": false,
     "start_time": "2022-03-31T20:20:52.722634",
     "status": "completed"
    },
    "tags": []
   },
   "outputs": [],
   "source": [
    "# Save test predictions to file\n",
    "output = pd.DataFrame({'Id': X_test.index,\n",
    "                       'SalePrice': preds_test})\n",
    "output.to_csv('submission.csv', index=False)"
   ]
  },
  {
   "cell_type": "markdown",
   "id": "5da317ec",
   "metadata": {
    "papermill": {
     "duration": 0.034149,
     "end_time": "2022-03-31T20:20:52.840262",
     "exception": false,
     "start_time": "2022-03-31T20:20:52.806113",
     "status": "completed"
    },
    "tags": []
   },
   "source": [
    "# Submit your results\n",
    "\n",
    "Once you have successfully completed Step 4, you're ready to submit your results to the leaderboard!  (_You also learned how to do this in the previous exercise.  If you need a reminder of how to do this, please use the instructions below._)  \n",
    "\n",
    "First, you'll need to join the competition if you haven't already.  So open a new window by clicking on [this link](https://www.kaggle.com/c/home-data-for-ml-course).  Then click on the **Join Competition** button.\n",
    "\n",
    "![join competition image](https://i.imgur.com/wLmFtH3.png)\n",
    "\n",
    "Next, follow the instructions below:\n",
    "1. Begin by clicking on the **Save Version** button in the top right corner of the window.  This will generate a pop-up window.  \n",
    "2. Ensure that the **Save and Run All** option is selected, and then click on the **Save** button.\n",
    "3. This generates a window in the bottom left corner of the notebook.  After it has finished running, click on the number to the right of the **Save Version** button.  This pulls up a list of versions on the right of the screen.  Click on the ellipsis **(...)** to the right of the most recent version, and select **Open in Viewer**.  This brings you into view mode of the same page. You will need to scroll down to get back to these instructions.\n",
    "4. Click on the **Output** tab on the right of the screen.  Then, click on the file you would like to submit, and click on the **Submit** button to submit your results to the leaderboard.\n",
    "\n",
    "You have now successfully submitted to the competition!\n",
    "\n",
    "If you want to keep working to improve your performance, select the **Edit** button in the top right of the screen. Then you can change your code and repeat the process. There's a lot of room to improve, and you will climb up the leaderboard as you work.\n",
    "\n",
    "\n",
    "# Keep going\n",
    "\n",
    "Move on to learn what **[categorical variables](https://www.kaggle.com/alexisbcook/categorical-variables)** are, along with how to incorporate them into your machine learning models.  Categorical variables are very common in real-world data, but you'll get an error if you try to plug them into your models without processing them first!"
   ]
  },
  {
   "cell_type": "markdown",
   "id": "0548b4c2",
   "metadata": {
    "papermill": {
     "duration": 0.034828,
     "end_time": "2022-03-31T20:20:52.910038",
     "exception": false,
     "start_time": "2022-03-31T20:20:52.875210",
     "status": "completed"
    },
    "tags": []
   },
   "source": [
    "---\n",
    "\n",
    "\n",
    "\n",
    "\n",
    "*Have questions or comments? Visit the [course discussion forum](https://www.kaggle.com/learn/intermediate-machine-learning/discussion) to chat with other learners.*"
   ]
  }
 ],
 "metadata": {
  "kernelspec": {
   "display_name": "Python 3",
   "language": "python",
   "name": "python3"
  },
  "language_info": {
   "codemirror_mode": {
    "name": "ipython",
    "version": 3
   },
   "file_extension": ".py",
   "mimetype": "text/x-python",
   "name": "python",
   "nbconvert_exporter": "python",
   "pygments_lexer": "ipython3",
   "version": "3.7.12"
  },
  "papermill": {
   "default_parameters": {},
   "duration": 17.862812,
   "end_time": "2022-03-31T20:20:53.655282",
   "environment_variables": {},
   "exception": null,
   "input_path": "__notebook__.ipynb",
   "output_path": "__notebook__.ipynb",
   "parameters": {},
   "start_time": "2022-03-31T20:20:35.792470",
   "version": "2.3.3"
  }
 },
 "nbformat": 4,
 "nbformat_minor": 5
}
