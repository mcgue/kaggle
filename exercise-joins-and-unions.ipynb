{
 "cells": [
  {
   "cell_type": "markdown",
   "id": "0409253f",
   "metadata": {
    "papermill": {
     "duration": 0.020671,
     "end_time": "2022-04-09T18:11:36.542489",
     "exception": false,
     "start_time": "2022-04-09T18:11:36.521818",
     "status": "completed"
    },
    "tags": []
   },
   "source": [
    "**This notebook is an exercise in the [Advanced SQL](https://www.kaggle.com/learn/advanced-sql) course.  You can reference the tutorial at [this link](https://www.kaggle.com/alexisbcook/joins-and-unions).**\n",
    "\n",
    "---\n"
   ]
  },
  {
   "cell_type": "markdown",
   "id": "f0adaad3",
   "metadata": {
    "papermill": {
     "duration": 0.018981,
     "end_time": "2022-04-09T18:11:36.581311",
     "exception": false,
     "start_time": "2022-04-09T18:11:36.562330",
     "status": "completed"
    },
    "tags": []
   },
   "source": [
    "# Introduction\n",
    "\n",
    "Here, you'll use different types of SQL **JOINs** to answer questions about the [Stack Overflow](https://www.kaggle.com/stackoverflow/stackoverflow) dataset.\n",
    "\n",
    "Before you get started, run the following cell to set everything up."
   ]
  },
  {
   "cell_type": "code",
   "execution_count": 1,
   "id": "50a921db",
   "metadata": {
    "execution": {
     "iopub.execute_input": "2022-04-09T18:11:36.626718Z",
     "iopub.status.busy": "2022-04-09T18:11:36.624864Z",
     "iopub.status.idle": "2022-04-09T18:11:52.879154Z",
     "shell.execute_reply": "2022-04-09T18:11:52.878099Z",
     "shell.execute_reply.started": "2022-04-09T18:07:32.335371Z"
    },
    "papermill": {
     "duration": 16.278545,
     "end_time": "2022-04-09T18:11:52.879361",
     "exception": false,
     "start_time": "2022-04-09T18:11:36.600816",
     "status": "completed"
    },
    "tags": []
   },
   "outputs": [
    {
     "name": "stdout",
     "output_type": "stream",
     "text": [
      "Using Kaggle's public dataset BigQuery integration.\n"
     ]
    },
    {
     "name": "stderr",
     "output_type": "stream",
     "text": [
      "/opt/conda/lib/python3.7/site-packages/google/cloud/bigquery/client.py:440: UserWarning: Cannot create BigQuery Storage client, the dependency google-cloud-bigquery-storage is not installed.\n",
      "  \"Cannot create BigQuery Storage client, the dependency \"\n"
     ]
    },
    {
     "name": "stdout",
     "output_type": "stream",
     "text": [
      "Setup Complete\n"
     ]
    }
   ],
   "source": [
    "# Set up feedback system\n",
    "from learntools.core import binder\n",
    "binder.bind(globals())\n",
    "from learntools.sql_advanced.ex1 import *\n",
    "print(\"Setup Complete\")"
   ]
  },
  {
   "cell_type": "markdown",
   "id": "6c8d2e45",
   "metadata": {
    "papermill": {
     "duration": 0.020193,
     "end_time": "2022-04-09T18:11:52.921420",
     "exception": false,
     "start_time": "2022-04-09T18:11:52.901227",
     "status": "completed"
    },
    "tags": []
   },
   "source": [
    "The code cell below fetches the `posts_questions` table from the `stackoverflow` dataset.  We also preview the first five rows of the table."
   ]
  },
  {
   "cell_type": "code",
   "execution_count": 2,
   "id": "582b2e05",
   "metadata": {
    "execution": {
     "iopub.execute_input": "2022-04-09T18:11:52.965978Z",
     "iopub.status.busy": "2022-04-09T18:11:52.965288Z",
     "iopub.status.idle": "2022-04-09T18:11:54.000049Z",
     "shell.execute_reply": "2022-04-09T18:11:54.000572Z",
     "shell.execute_reply.started": "2022-04-09T18:07:47.521767Z"
    },
    "papermill": {
     "duration": 1.058246,
     "end_time": "2022-04-09T18:11:54.000744",
     "exception": false,
     "start_time": "2022-04-09T18:11:52.942498",
     "status": "completed"
    },
    "tags": []
   },
   "outputs": [
    {
     "name": "stdout",
     "output_type": "stream",
     "text": [
      "Using Kaggle's public dataset BigQuery integration.\n"
     ]
    },
    {
     "name": "stderr",
     "output_type": "stream",
     "text": [
      "/opt/conda/lib/python3.7/site-packages/ipykernel_launcher.py:19: UserWarning: Cannot use bqstorage_client if max_results is set, reverting to fetching data with the tabledata.list endpoint.\n"
     ]
    },
    {
     "data": {
      "text/html": [
       "<div>\n",
       "<style scoped>\n",
       "    .dataframe tbody tr th:only-of-type {\n",
       "        vertical-align: middle;\n",
       "    }\n",
       "\n",
       "    .dataframe tbody tr th {\n",
       "        vertical-align: top;\n",
       "    }\n",
       "\n",
       "    .dataframe thead th {\n",
       "        text-align: right;\n",
       "    }\n",
       "</style>\n",
       "<table border=\"1\" class=\"dataframe\">\n",
       "  <thead>\n",
       "    <tr style=\"text-align: right;\">\n",
       "      <th></th>\n",
       "      <th>id</th>\n",
       "      <th>title</th>\n",
       "      <th>body</th>\n",
       "      <th>accepted_answer_id</th>\n",
       "      <th>answer_count</th>\n",
       "      <th>comment_count</th>\n",
       "      <th>community_owned_date</th>\n",
       "      <th>creation_date</th>\n",
       "      <th>favorite_count</th>\n",
       "      <th>last_activity_date</th>\n",
       "      <th>last_edit_date</th>\n",
       "      <th>last_editor_display_name</th>\n",
       "      <th>last_editor_user_id</th>\n",
       "      <th>owner_display_name</th>\n",
       "      <th>owner_user_id</th>\n",
       "      <th>parent_id</th>\n",
       "      <th>post_type_id</th>\n",
       "      <th>score</th>\n",
       "      <th>tags</th>\n",
       "      <th>view_count</th>\n",
       "    </tr>\n",
       "  </thead>\n",
       "  <tbody>\n",
       "    <tr>\n",
       "      <th>0</th>\n",
       "      <td>71102071</td>\n",
       "      <td>How to generate a DateTime range by step of 5 ...</td>\n",
       "      <td>&lt;p&gt;How to generate a DateTime range by step of...</td>\n",
       "      <td>71103999.0</td>\n",
       "      <td>4</td>\n",
       "      <td>0</td>\n",
       "      <td>NaT</td>\n",
       "      <td>2022-02-13 15:22:57.060000+00:00</td>\n",
       "      <td>NaN</td>\n",
       "      <td>2022-02-14 02:29:36.017000+00:00</td>\n",
       "      <td>NaT</td>\n",
       "      <td>None</td>\n",
       "      <td>NaN</td>\n",
       "      <td>None</td>\n",
       "      <td>5829526</td>\n",
       "      <td>None</td>\n",
       "      <td>1</td>\n",
       "      <td>9</td>\n",
       "      <td>datetime|raku</td>\n",
       "      <td>512</td>\n",
       "    </tr>\n",
       "    <tr>\n",
       "      <th>1</th>\n",
       "      <td>71174390</td>\n",
       "      <td>exception event is counted as others not error...</td>\n",
       "      <td>&lt;p&gt;One picture worth any words, please take a ...</td>\n",
       "      <td>NaN</td>\n",
       "      <td>0</td>\n",
       "      <td>0</td>\n",
       "      <td>NaT</td>\n",
       "      <td>2022-02-18 13:36:38.667000+00:00</td>\n",
       "      <td>NaN</td>\n",
       "      <td>2022-02-18 13:36:38.667000+00:00</td>\n",
       "      <td>NaT</td>\n",
       "      <td>None</td>\n",
       "      <td>NaN</td>\n",
       "      <td>None</td>\n",
       "      <td>10974338</td>\n",
       "      <td>None</td>\n",
       "      <td>1</td>\n",
       "      <td>0</td>\n",
       "      <td>google-analytics-4</td>\n",
       "      <td>1</td>\n",
       "    </tr>\n",
       "    <tr>\n",
       "      <th>2</th>\n",
       "      <td>71055438</td>\n",
       "      <td>Promo tab is not rendering on my new iPhone 13...</td>\n",
       "      <td>&lt;p&gt;I'm responsible for creating and testing th...</td>\n",
       "      <td>NaN</td>\n",
       "      <td>0</td>\n",
       "      <td>0</td>\n",
       "      <td>NaT</td>\n",
       "      <td>2022-02-09 19:16:58.180000+00:00</td>\n",
       "      <td>NaN</td>\n",
       "      <td>2022-02-09 19:16:58.180000+00:00</td>\n",
       "      <td>NaT</td>\n",
       "      <td>None</td>\n",
       "      <td>NaN</td>\n",
       "      <td>None</td>\n",
       "      <td>18164503</td>\n",
       "      <td>None</td>\n",
       "      <td>1</td>\n",
       "      <td>0</td>\n",
       "      <td>gmail-promo-tab</td>\n",
       "      <td>2</td>\n",
       "    </tr>\n",
       "    <tr>\n",
       "      <th>3</th>\n",
       "      <td>71065295</td>\n",
       "      <td>How to calculate Session Duration of a subscri...</td>\n",
       "      <td>&lt;p&gt;We have a publisher and a lot of subscriber...</td>\n",
       "      <td>NaN</td>\n",
       "      <td>0</td>\n",
       "      <td>0</td>\n",
       "      <td>NaT</td>\n",
       "      <td>2022-02-10 12:42:24.747000+00:00</td>\n",
       "      <td>NaN</td>\n",
       "      <td>2022-02-22 19:46:03.107000+00:00</td>\n",
       "      <td>2022-02-22 19:46:03.107000+00:00</td>\n",
       "      <td>None</td>\n",
       "      <td>446477.0</td>\n",
       "      <td>None</td>\n",
       "      <td>18089656</td>\n",
       "      <td>None</td>\n",
       "      <td>1</td>\n",
       "      <td>0</td>\n",
       "      <td>opentok</td>\n",
       "      <td>2</td>\n",
       "    </tr>\n",
       "    <tr>\n",
       "      <th>4</th>\n",
       "      <td>71066950</td>\n",
       "      <td>In extent reports test tab ss null and in exce...</td>\n",
       "      <td>&lt;pre&gt;&lt;code&gt;'public void logo(Method method, IT...</td>\n",
       "      <td>NaN</td>\n",
       "      <td>0</td>\n",
       "      <td>0</td>\n",
       "      <td>NaT</td>\n",
       "      <td>2022-02-10 14:32:31.617000+00:00</td>\n",
       "      <td>NaN</td>\n",
       "      <td>2022-02-10 14:32:31.617000+00:00</td>\n",
       "      <td>NaT</td>\n",
       "      <td>None</td>\n",
       "      <td>NaN</td>\n",
       "      <td>None</td>\n",
       "      <td>8193498</td>\n",
       "      <td>None</td>\n",
       "      <td>1</td>\n",
       "      <td>0</td>\n",
       "      <td>selenium|automated-tests|reporting|extentrepor...</td>\n",
       "      <td>2</td>\n",
       "    </tr>\n",
       "  </tbody>\n",
       "</table>\n",
       "</div>"
      ],
      "text/plain": [
       "         id                                              title  \\\n",
       "0  71102071  How to generate a DateTime range by step of 5 ...   \n",
       "1  71174390  exception event is counted as others not error...   \n",
       "2  71055438  Promo tab is not rendering on my new iPhone 13...   \n",
       "3  71065295  How to calculate Session Duration of a subscri...   \n",
       "4  71066950  In extent reports test tab ss null and in exce...   \n",
       "\n",
       "                                                body  accepted_answer_id  \\\n",
       "0  <p>How to generate a DateTime range by step of...          71103999.0   \n",
       "1  <p>One picture worth any words, please take a ...                 NaN   \n",
       "2  <p>I'm responsible for creating and testing th...                 NaN   \n",
       "3  <p>We have a publisher and a lot of subscriber...                 NaN   \n",
       "4  <pre><code>'public void logo(Method method, IT...                 NaN   \n",
       "\n",
       "   answer_count  comment_count community_owned_date  \\\n",
       "0             4              0                  NaT   \n",
       "1             0              0                  NaT   \n",
       "2             0              0                  NaT   \n",
       "3             0              0                  NaT   \n",
       "4             0              0                  NaT   \n",
       "\n",
       "                     creation_date  favorite_count  \\\n",
       "0 2022-02-13 15:22:57.060000+00:00             NaN   \n",
       "1 2022-02-18 13:36:38.667000+00:00             NaN   \n",
       "2 2022-02-09 19:16:58.180000+00:00             NaN   \n",
       "3 2022-02-10 12:42:24.747000+00:00             NaN   \n",
       "4 2022-02-10 14:32:31.617000+00:00             NaN   \n",
       "\n",
       "                last_activity_date                   last_edit_date  \\\n",
       "0 2022-02-14 02:29:36.017000+00:00                              NaT   \n",
       "1 2022-02-18 13:36:38.667000+00:00                              NaT   \n",
       "2 2022-02-09 19:16:58.180000+00:00                              NaT   \n",
       "3 2022-02-22 19:46:03.107000+00:00 2022-02-22 19:46:03.107000+00:00   \n",
       "4 2022-02-10 14:32:31.617000+00:00                              NaT   \n",
       "\n",
       "  last_editor_display_name  last_editor_user_id owner_display_name  \\\n",
       "0                     None                  NaN               None   \n",
       "1                     None                  NaN               None   \n",
       "2                     None                  NaN               None   \n",
       "3                     None             446477.0               None   \n",
       "4                     None                  NaN               None   \n",
       "\n",
       "   owner_user_id parent_id  post_type_id  score  \\\n",
       "0        5829526      None             1      9   \n",
       "1       10974338      None             1      0   \n",
       "2       18164503      None             1      0   \n",
       "3       18089656      None             1      0   \n",
       "4        8193498      None             1      0   \n",
       "\n",
       "                                                tags  view_count  \n",
       "0                                      datetime|raku         512  \n",
       "1                                 google-analytics-4           1  \n",
       "2                                    gmail-promo-tab           2  \n",
       "3                                            opentok           2  \n",
       "4  selenium|automated-tests|reporting|extentrepor...           2  "
      ]
     },
     "execution_count": 2,
     "metadata": {},
     "output_type": "execute_result"
    }
   ],
   "source": [
    "from google.cloud import bigquery\n",
    "\n",
    "# Create a \"Client\" object\n",
    "client = bigquery.Client()\n",
    "\n",
    "# Construct a reference to the \"stackoverflow\" dataset\n",
    "dataset_ref = client.dataset(\"stackoverflow\", project=\"bigquery-public-data\")\n",
    "\n",
    "# API request - fetch the dataset\n",
    "dataset = client.get_dataset(dataset_ref)\n",
    "\n",
    "# Construct a reference to the \"posts_questions\" table\n",
    "table_ref = dataset_ref.table(\"posts_questions\")\n",
    "\n",
    "# API request - fetch the table\n",
    "table = client.get_table(table_ref)\n",
    "\n",
    "# Preview the first five lines of the table\n",
    "client.list_rows(table, max_results=5).to_dataframe()"
   ]
  },
  {
   "cell_type": "markdown",
   "id": "2c2bf823",
   "metadata": {
    "papermill": {
     "duration": 0.021635,
     "end_time": "2022-04-09T18:11:54.044414",
     "exception": false,
     "start_time": "2022-04-09T18:11:54.022779",
     "status": "completed"
    },
    "tags": []
   },
   "source": [
    "We also take a look at the `posts_answers` table."
   ]
  },
  {
   "cell_type": "code",
   "execution_count": 3,
   "id": "93b1a36c",
   "metadata": {
    "execution": {
     "iopub.execute_input": "2022-04-09T18:11:54.093055Z",
     "iopub.status.busy": "2022-04-09T18:11:54.092080Z",
     "iopub.status.idle": "2022-04-09T18:11:54.855208Z",
     "shell.execute_reply": "2022-04-09T18:11:54.855992Z",
     "shell.execute_reply.started": "2022-04-09T18:07:48.524738Z"
    },
    "papermill": {
     "duration": 0.789193,
     "end_time": "2022-04-09T18:11:54.856249",
     "exception": false,
     "start_time": "2022-04-09T18:11:54.067056",
     "status": "completed"
    },
    "tags": []
   },
   "outputs": [
    {
     "name": "stderr",
     "output_type": "stream",
     "text": [
      "/opt/conda/lib/python3.7/site-packages/ipykernel_launcher.py:8: UserWarning: Cannot use bqstorage_client if max_results is set, reverting to fetching data with the tabledata.list endpoint.\n",
      "  \n"
     ]
    },
    {
     "data": {
      "text/html": [
       "<div>\n",
       "<style scoped>\n",
       "    .dataframe tbody tr th:only-of-type {\n",
       "        vertical-align: middle;\n",
       "    }\n",
       "\n",
       "    .dataframe tbody tr th {\n",
       "        vertical-align: top;\n",
       "    }\n",
       "\n",
       "    .dataframe thead th {\n",
       "        text-align: right;\n",
       "    }\n",
       "</style>\n",
       "<table border=\"1\" class=\"dataframe\">\n",
       "  <thead>\n",
       "    <tr style=\"text-align: right;\">\n",
       "      <th></th>\n",
       "      <th>id</th>\n",
       "      <th>title</th>\n",
       "      <th>body</th>\n",
       "      <th>accepted_answer_id</th>\n",
       "      <th>answer_count</th>\n",
       "      <th>comment_count</th>\n",
       "      <th>community_owned_date</th>\n",
       "      <th>creation_date</th>\n",
       "      <th>favorite_count</th>\n",
       "      <th>last_activity_date</th>\n",
       "      <th>last_edit_date</th>\n",
       "      <th>last_editor_display_name</th>\n",
       "      <th>last_editor_user_id</th>\n",
       "      <th>owner_display_name</th>\n",
       "      <th>owner_user_id</th>\n",
       "      <th>parent_id</th>\n",
       "      <th>post_type_id</th>\n",
       "      <th>score</th>\n",
       "      <th>tags</th>\n",
       "      <th>view_count</th>\n",
       "    </tr>\n",
       "  </thead>\n",
       "  <tbody>\n",
       "    <tr>\n",
       "      <th>0</th>\n",
       "      <td>70773922</td>\n",
       "      <td>None</td>\n",
       "      <td>&lt;p&gt;The project was pointing to the wrong SDK d...</td>\n",
       "      <td>None</td>\n",
       "      <td>None</td>\n",
       "      <td>0</td>\n",
       "      <td>NaT</td>\n",
       "      <td>2022-01-19 16:06:31.310000+00:00</td>\n",
       "      <td>None</td>\n",
       "      <td>2022-01-19 16:06:31.310000+00:00</td>\n",
       "      <td>NaT</td>\n",
       "      <td>None</td>\n",
       "      <td>NaN</td>\n",
       "      <td>None</td>\n",
       "      <td>6697428</td>\n",
       "      <td>70772710</td>\n",
       "      <td>2</td>\n",
       "      <td>0</td>\n",
       "      <td>None</td>\n",
       "      <td>None</td>\n",
       "    </tr>\n",
       "    <tr>\n",
       "      <th>1</th>\n",
       "      <td>70773926</td>\n",
       "      <td>None</td>\n",
       "      <td>&lt;p&gt;You can create a basic function like this :...</td>\n",
       "      <td>None</td>\n",
       "      <td>None</td>\n",
       "      <td>0</td>\n",
       "      <td>NaT</td>\n",
       "      <td>2022-01-19 16:06:33.967000+00:00</td>\n",
       "      <td>None</td>\n",
       "      <td>2022-01-19 16:06:33.967000+00:00</td>\n",
       "      <td>NaT</td>\n",
       "      <td>None</td>\n",
       "      <td>NaN</td>\n",
       "      <td>None</td>\n",
       "      <td>13158827</td>\n",
       "      <td>70773096</td>\n",
       "      <td>2</td>\n",
       "      <td>0</td>\n",
       "      <td>None</td>\n",
       "      <td>None</td>\n",
       "    </tr>\n",
       "    <tr>\n",
       "      <th>2</th>\n",
       "      <td>70773929</td>\n",
       "      <td>None</td>\n",
       "      <td>&lt;p&gt;After many attempts, I finally found the an...</td>\n",
       "      <td>None</td>\n",
       "      <td>None</td>\n",
       "      <td>0</td>\n",
       "      <td>NaT</td>\n",
       "      <td>2022-01-19 16:06:38.970000+00:00</td>\n",
       "      <td>None</td>\n",
       "      <td>2022-01-19 16:06:38.970000+00:00</td>\n",
       "      <td>NaT</td>\n",
       "      <td>None</td>\n",
       "      <td>NaN</td>\n",
       "      <td>None</td>\n",
       "      <td>9593504</td>\n",
       "      <td>70742449</td>\n",
       "      <td>2</td>\n",
       "      <td>0</td>\n",
       "      <td>None</td>\n",
       "      <td>None</td>\n",
       "    </tr>\n",
       "    <tr>\n",
       "      <th>3</th>\n",
       "      <td>70773930</td>\n",
       "      <td>None</td>\n",
       "      <td>&lt;p&gt;Yes it is possible. I try to understand you...</td>\n",
       "      <td>None</td>\n",
       "      <td>None</td>\n",
       "      <td>2</td>\n",
       "      <td>NaT</td>\n",
       "      <td>2022-01-19 16:06:39.693000+00:00</td>\n",
       "      <td>None</td>\n",
       "      <td>2022-01-19 16:06:39.693000+00:00</td>\n",
       "      <td>NaT</td>\n",
       "      <td>None</td>\n",
       "      <td>NaN</td>\n",
       "      <td>None</td>\n",
       "      <td>17117701</td>\n",
       "      <td>70772703</td>\n",
       "      <td>2</td>\n",
       "      <td>0</td>\n",
       "      <td>None</td>\n",
       "      <td>None</td>\n",
       "    </tr>\n",
       "    <tr>\n",
       "      <th>4</th>\n",
       "      <td>70773938</td>\n",
       "      <td>None</td>\n",
       "      <td>&lt;p&gt;Personally, I discovered using &lt;code&gt;free&lt;/...</td>\n",
       "      <td>None</td>\n",
       "      <td>None</td>\n",
       "      <td>1</td>\n",
       "      <td>NaT</td>\n",
       "      <td>2022-01-19 16:07:07.450000+00:00</td>\n",
       "      <td>None</td>\n",
       "      <td>2022-01-19 16:07:07.450000+00:00</td>\n",
       "      <td>NaT</td>\n",
       "      <td>None</td>\n",
       "      <td>NaN</td>\n",
       "      <td>None</td>\n",
       "      <td>17976046</td>\n",
       "      <td>32573924</td>\n",
       "      <td>2</td>\n",
       "      <td>0</td>\n",
       "      <td>None</td>\n",
       "      <td>None</td>\n",
       "    </tr>\n",
       "  </tbody>\n",
       "</table>\n",
       "</div>"
      ],
      "text/plain": [
       "         id title                                               body  \\\n",
       "0  70773922  None  <p>The project was pointing to the wrong SDK d...   \n",
       "1  70773926  None  <p>You can create a basic function like this :...   \n",
       "2  70773929  None  <p>After many attempts, I finally found the an...   \n",
       "3  70773930  None  <p>Yes it is possible. I try to understand you...   \n",
       "4  70773938  None  <p>Personally, I discovered using <code>free</...   \n",
       "\n",
       "  accepted_answer_id answer_count  comment_count community_owned_date  \\\n",
       "0               None         None              0                  NaT   \n",
       "1               None         None              0                  NaT   \n",
       "2               None         None              0                  NaT   \n",
       "3               None         None              2                  NaT   \n",
       "4               None         None              1                  NaT   \n",
       "\n",
       "                     creation_date favorite_count  \\\n",
       "0 2022-01-19 16:06:31.310000+00:00           None   \n",
       "1 2022-01-19 16:06:33.967000+00:00           None   \n",
       "2 2022-01-19 16:06:38.970000+00:00           None   \n",
       "3 2022-01-19 16:06:39.693000+00:00           None   \n",
       "4 2022-01-19 16:07:07.450000+00:00           None   \n",
       "\n",
       "                last_activity_date last_edit_date last_editor_display_name  \\\n",
       "0 2022-01-19 16:06:31.310000+00:00            NaT                     None   \n",
       "1 2022-01-19 16:06:33.967000+00:00            NaT                     None   \n",
       "2 2022-01-19 16:06:38.970000+00:00            NaT                     None   \n",
       "3 2022-01-19 16:06:39.693000+00:00            NaT                     None   \n",
       "4 2022-01-19 16:07:07.450000+00:00            NaT                     None   \n",
       "\n",
       "   last_editor_user_id owner_display_name  owner_user_id  parent_id  \\\n",
       "0                  NaN               None        6697428   70772710   \n",
       "1                  NaN               None       13158827   70773096   \n",
       "2                  NaN               None        9593504   70742449   \n",
       "3                  NaN               None       17117701   70772703   \n",
       "4                  NaN               None       17976046   32573924   \n",
       "\n",
       "   post_type_id  score  tags view_count  \n",
       "0             2      0  None       None  \n",
       "1             2      0  None       None  \n",
       "2             2      0  None       None  \n",
       "3             2      0  None       None  \n",
       "4             2      0  None       None  "
      ]
     },
     "execution_count": 3,
     "metadata": {},
     "output_type": "execute_result"
    }
   ],
   "source": [
    "# Construct a reference to the \"posts_answers\" table\n",
    "table_ref = dataset_ref.table(\"posts_answers\")\n",
    "\n",
    "# API request - fetch the table\n",
    "table = client.get_table(table_ref)\n",
    "\n",
    "# Preview the first five lines of the table\n",
    "client.list_rows(table, max_results=5).to_dataframe()"
   ]
  },
  {
   "cell_type": "markdown",
   "id": "1340752c",
   "metadata": {
    "papermill": {
     "duration": 0.032182,
     "end_time": "2022-04-09T18:11:54.916052",
     "exception": false,
     "start_time": "2022-04-09T18:11:54.883870",
     "status": "completed"
    },
    "tags": []
   },
   "source": [
    "You will work with both of these tables to answer the questions below.\n",
    "\n",
    "# Exercises\n",
    "\n",
    "### 1) How long does it take for questions to receive answers?\n",
    "\n",
    "You're interested in exploring the data to have a better understanding of how long it generally takes for questions to receive answers.  Armed with this knowledge, you plan to use this information to better design the order in which questions are presented to Stack Overflow users.\n",
    "\n",
    "With this goal in mind, you write the query below, which focuses on questions asked in January 2018.  It returns a table with two columns:\n",
    "- `q_id` - the ID of the question\n",
    "- `time_to_answer` - how long it took (in seconds) for the question to receive an answer\n",
    "\n",
    "Run the query below (without changes), and take a look at the output."
   ]
  },
  {
   "cell_type": "code",
   "execution_count": 4,
   "id": "4dbc9f34",
   "metadata": {
    "execution": {
     "iopub.execute_input": "2022-04-09T18:11:54.980354Z",
     "iopub.status.busy": "2022-04-09T18:11:54.979327Z",
     "iopub.status.idle": "2022-04-09T18:12:00.046282Z",
     "shell.execute_reply": "2022-04-09T18:12:00.046772Z",
     "shell.execute_reply.started": "2022-04-09T18:07:55.847797Z"
    },
    "papermill": {
     "duration": 5.103445,
     "end_time": "2022-04-09T18:12:00.046949",
     "exception": false,
     "start_time": "2022-04-09T18:11:54.943504",
     "status": "completed"
    },
    "tags": []
   },
   "outputs": [
    {
     "name": "stderr",
     "output_type": "stream",
     "text": [
      "/opt/conda/lib/python3.7/site-packages/google/cloud/bigquery/client.py:440: UserWarning: Cannot create BigQuery Storage client, the dependency google-cloud-bigquery-storage is not installed.\n",
      "  \"Cannot create BigQuery Storage client, the dependency \"\n"
     ]
    },
    {
     "name": "stdout",
     "output_type": "stream",
     "text": [
      "Percentage of answered questions: 100.0%\n",
      "Number of questions: 134731\n"
     ]
    },
    {
     "data": {
      "text/html": [
       "<div>\n",
       "<style scoped>\n",
       "    .dataframe tbody tr th:only-of-type {\n",
       "        vertical-align: middle;\n",
       "    }\n",
       "\n",
       "    .dataframe tbody tr th {\n",
       "        vertical-align: top;\n",
       "    }\n",
       "\n",
       "    .dataframe thead th {\n",
       "        text-align: right;\n",
       "    }\n",
       "</style>\n",
       "<table border=\"1\" class=\"dataframe\">\n",
       "  <thead>\n",
       "    <tr style=\"text-align: right;\">\n",
       "      <th></th>\n",
       "      <th>q_id</th>\n",
       "      <th>time_to_answer</th>\n",
       "    </tr>\n",
       "  </thead>\n",
       "  <tbody>\n",
       "    <tr>\n",
       "      <th>0</th>\n",
       "      <td>48382183</td>\n",
       "      <td>-132444692</td>\n",
       "    </tr>\n",
       "    <tr>\n",
       "      <th>1</th>\n",
       "      <td>48277909</td>\n",
       "      <td>0</td>\n",
       "    </tr>\n",
       "    <tr>\n",
       "      <th>2</th>\n",
       "      <td>48147923</td>\n",
       "      <td>0</td>\n",
       "    </tr>\n",
       "    <tr>\n",
       "      <th>3</th>\n",
       "      <td>48064955</td>\n",
       "      <td>0</td>\n",
       "    </tr>\n",
       "    <tr>\n",
       "      <th>4</th>\n",
       "      <td>48413160</td>\n",
       "      <td>0</td>\n",
       "    </tr>\n",
       "  </tbody>\n",
       "</table>\n",
       "</div>"
      ],
      "text/plain": [
       "       q_id  time_to_answer\n",
       "0  48382183      -132444692\n",
       "1  48277909               0\n",
       "2  48147923               0\n",
       "3  48064955               0\n",
       "4  48413160               0"
      ]
     },
     "execution_count": 4,
     "metadata": {},
     "output_type": "execute_result"
    }
   ],
   "source": [
    "first_query = \"\"\"\n",
    "              SELECT q.id AS q_id,\n",
    "                  MIN(TIMESTAMP_DIFF(a.creation_date, q.creation_date, SECOND)) as time_to_answer\n",
    "              FROM `bigquery-public-data.stackoverflow.posts_questions` AS q\n",
    "                  INNER JOIN `bigquery-public-data.stackoverflow.posts_answers` AS a\n",
    "              ON q.id = a.parent_id\n",
    "              WHERE q.creation_date >= '2018-01-01' and q.creation_date < '2018-02-01'\n",
    "              GROUP BY q_id\n",
    "              ORDER BY time_to_answer\n",
    "              \"\"\"\n",
    "\n",
    "first_result = client.query(first_query).result().to_dataframe()\n",
    "print(\"Percentage of answered questions: %s%%\" % \\\n",
    "      (sum(first_result[\"time_to_answer\"].notnull()) / len(first_result) * 100))\n",
    "print(\"Number of questions:\", len(first_result))\n",
    "first_result.head()"
   ]
  },
  {
   "cell_type": "markdown",
   "id": "8173d957",
   "metadata": {
    "papermill": {
     "duration": 0.02385,
     "end_time": "2022-04-09T18:12:00.095412",
     "exception": false,
     "start_time": "2022-04-09T18:12:00.071562",
     "status": "completed"
    },
    "tags": []
   },
   "source": [
    "You're surprised at the results and strongly suspect that something is wrong with your query.  In particular,\n",
    "- According to the query, 100% of the questions from January 2018 received an answer.  But, you know that ~80% of the questions on the site usually receive an answer.\n",
    "- The total number of questions is surprisingly low.  You expected to see at least 150,000 questions represented in the table.\n",
    "\n",
    "Given these observations, you think that the type of **JOIN** you have chosen has inadvertently excluded unanswered questions.  Using the code cell below, can you figure out what type of **JOIN** to use to fix the problem so that the table includes unanswered questions?\n",
    "\n",
    "**Note**: You need only amend the type of **JOIN** (i.e., **INNER**, **LEFT**, **RIGHT**, or **FULL**) to answer the question successfully."
   ]
  },
  {
   "cell_type": "code",
   "execution_count": 5,
   "id": "bbf9ef4b",
   "metadata": {
    "execution": {
     "iopub.execute_input": "2022-04-09T18:12:00.147883Z",
     "iopub.status.busy": "2022-04-09T18:12:00.146902Z",
     "iopub.status.idle": "2022-04-09T18:12:11.692255Z",
     "shell.execute_reply": "2022-04-09T18:12:11.691734Z",
     "shell.execute_reply.started": "2022-04-09T18:08:35.287847Z"
    },
    "papermill": {
     "duration": 11.572793,
     "end_time": "2022-04-09T18:12:11.692399",
     "exception": false,
     "start_time": "2022-04-09T18:12:00.119606",
     "status": "completed"
    },
    "tags": []
   },
   "outputs": [
    {
     "name": "stderr",
     "output_type": "stream",
     "text": [
      "/opt/conda/lib/python3.7/site-packages/google/cloud/bigquery/client.py:440: UserWarning: Cannot create BigQuery Storage client, the dependency google-cloud-bigquery-storage is not installed.\n",
      "  \"Cannot create BigQuery Storage client, the dependency \"\n"
     ]
    },
    {
     "data": {
      "text/html": [
       "<div>\n",
       "<style scoped>\n",
       "    .dataframe tbody tr th:only-of-type {\n",
       "        vertical-align: middle;\n",
       "    }\n",
       "\n",
       "    .dataframe tbody tr th {\n",
       "        vertical-align: top;\n",
       "    }\n",
       "\n",
       "    .dataframe thead th {\n",
       "        text-align: right;\n",
       "    }\n",
       "</style>\n",
       "<table border=\"1\" class=\"dataframe\">\n",
       "  <thead>\n",
       "    <tr style=\"text-align: right;\">\n",
       "      <th></th>\n",
       "      <th>q_id</th>\n",
       "      <th>time_to_answer</th>\n",
       "    </tr>\n",
       "  </thead>\n",
       "  <tbody>\n",
       "    <tr>\n",
       "      <th>0</th>\n",
       "      <td>48531075</td>\n",
       "      <td>NaN</td>\n",
       "    </tr>\n",
       "    <tr>\n",
       "      <th>1</th>\n",
       "      <td>48224464</td>\n",
       "      <td>NaN</td>\n",
       "    </tr>\n",
       "    <tr>\n",
       "      <th>2</th>\n",
       "      <td>48384707</td>\n",
       "      <td>NaN</td>\n",
       "    </tr>\n",
       "    <tr>\n",
       "      <th>3</th>\n",
       "      <td>48171462</td>\n",
       "      <td>NaN</td>\n",
       "    </tr>\n",
       "    <tr>\n",
       "      <th>4</th>\n",
       "      <td>48378057</td>\n",
       "      <td>NaN</td>\n",
       "    </tr>\n",
       "  </tbody>\n",
       "</table>\n",
       "</div>"
      ],
      "text/plain": [
       "       q_id  time_to_answer\n",
       "0  48531075             NaN\n",
       "1  48224464             NaN\n",
       "2  48384707             NaN\n",
       "3  48171462             NaN\n",
       "4  48378057             NaN"
      ]
     },
     "metadata": {},
     "output_type": "display_data"
    },
    {
     "data": {
      "application/javascript": [
       "parent.postMessage({\"jupyterEvent\": \"custom.exercise_interaction\", \"data\": {\"outcomeType\": 1, \"valueTowardsCompletion\": 0.25, \"interactionType\": 1, \"questionType\": 2, \"questionId\": \"1_CorrectQuery\", \"learnToolsVersion\": \"0.3.4\", \"failureMessage\": \"\", \"exceptionClass\": \"\", \"trace\": \"\"}}, \"*\")"
      ],
      "text/plain": [
       "<IPython.core.display.Javascript object>"
      ]
     },
     "metadata": {},
     "output_type": "display_data"
    },
    {
     "data": {
      "text/markdown": [
       "<span style=\"color:#33cc33\">Correct</span>"
      ],
      "text/plain": [
       "Correct"
      ]
     },
     "metadata": {},
     "output_type": "display_data"
    },
    {
     "name": "stderr",
     "output_type": "stream",
     "text": [
      "/opt/conda/lib/python3.7/site-packages/google/cloud/bigquery/client.py:440: UserWarning: Cannot create BigQuery Storage client, the dependency google-cloud-bigquery-storage is not installed.\n",
      "  \"Cannot create BigQuery Storage client, the dependency \"\n"
     ]
    },
    {
     "name": "stdout",
     "output_type": "stream",
     "text": [
      "Percentage of answered questions: 83.25104889487571%\n",
      "Number of questions: 161837\n"
     ]
    }
   ],
   "source": [
    "# Your code here\n",
    "correct_query = \"\"\"\n",
    "            SELECT q.id AS q_id,\n",
    "                  MIN(TIMESTAMP_DIFF(a.creation_date, q.creation_date, SECOND)) as time_to_answer\n",
    "              FROM `bigquery-public-data.stackoverflow.posts_questions` AS q\n",
    "                  LEFT JOIN `bigquery-public-data.stackoverflow.posts_answers` AS a\n",
    "              ON q.id = a.parent_id\n",
    "              WHERE q.creation_date >= '2018-01-01' and q.creation_date < '2018-02-01'\n",
    "              GROUP BY q_id\n",
    "              ORDER BY time_to_answer\n",
    "                \"\"\"\n",
    "\n",
    "# Check your answer\n",
    "q_1.check()\n",
    "\n",
    "# Run the query, and return a pandas DataFrame\n",
    "correct_result = client.query(correct_query).result().to_dataframe()\n",
    "print(\"Percentage of answered questions: %s%%\" % \\\n",
    "      (sum(correct_result[\"time_to_answer\"].notnull()) / len(correct_result) * 100))\n",
    "print(\"Number of questions:\", len(correct_result))"
   ]
  },
  {
   "cell_type": "code",
   "execution_count": 6,
   "id": "12ca56e3",
   "metadata": {
    "execution": {
     "iopub.execute_input": "2022-04-09T18:12:11.757246Z",
     "iopub.status.busy": "2022-04-09T18:12:11.756488Z",
     "iopub.status.idle": "2022-04-09T18:12:11.759669Z",
     "shell.execute_reply": "2022-04-09T18:12:11.759069Z"
    },
    "papermill": {
     "duration": 0.036041,
     "end_time": "2022-04-09T18:12:11.759817",
     "exception": false,
     "start_time": "2022-04-09T18:12:11.723776",
     "status": "completed"
    },
    "tags": []
   },
   "outputs": [],
   "source": [
    "# Lines below will give you a hint or solution code\n",
    "#q_1.hint()\n",
    "#q_1.solution()"
   ]
  },
  {
   "cell_type": "markdown",
   "id": "7893c853",
   "metadata": {
    "papermill": {
     "duration": 0.027252,
     "end_time": "2022-04-09T18:12:11.816114",
     "exception": false,
     "start_time": "2022-04-09T18:12:11.788862",
     "status": "completed"
    },
    "tags": []
   },
   "source": [
    "### 2) Initial questions and answers, Part 1\n",
    "\n",
    "You're interested in understanding the initial experiences that users typically have with the Stack Overflow website.  Is it more common for users to first ask questions or provide answers?  After signing up, how long does it take for users to first interact with the website?  To explore this further, you draft the (partial) query in the code cell below.\n",
    "\n",
    "The query returns a table with three columns:\n",
    "- `owner_user_id` - the user ID\n",
    "- `q_creation_date` - the first time the user asked a question \n",
    "- `a_creation_date` - the first time the user contributed an answer \n",
    "\n",
    "You want to keep track of users who have asked questions, but have yet to provide answers.  And, your table should also include users who have answered questions, but have yet to pose their own questions.  \n",
    "\n",
    "With this in mind, please fill in the appropriate **JOIN** (i.e., **INNER**, **LEFT**, **RIGHT**, or **FULL**) to return the correct information.  \n",
    "\n",
    "**Note**: You need only fill in the appropriate **JOIN**.  All other parts of the query should be left as-is.  (You also don't need to write any additional code to run the query, since the `check()` method will take care of this for you.)\n",
    "\n",
    "To avoid returning too much data, we'll restrict our attention to questions and answers posed in January 2019.  We'll amend the timeframe in Part 2 of this question to be more realistic!"
   ]
  },
  {
   "cell_type": "code",
   "execution_count": 7,
   "id": "54702192",
   "metadata": {
    "execution": {
     "iopub.execute_input": "2022-04-09T18:12:11.876203Z",
     "iopub.status.busy": "2022-04-09T18:12:11.875584Z",
     "iopub.status.idle": "2022-04-09T18:12:14.819925Z",
     "shell.execute_reply": "2022-04-09T18:12:14.820391Z",
     "shell.execute_reply.started": "2022-04-09T18:09:14.661376Z"
    },
    "papermill": {
     "duration": 2.97551,
     "end_time": "2022-04-09T18:12:14.820599",
     "exception": false,
     "start_time": "2022-04-09T18:12:11.845089",
     "status": "completed"
    },
    "tags": []
   },
   "outputs": [
    {
     "data": {
      "text/html": [
       "<div>\n",
       "<style scoped>\n",
       "    .dataframe tbody tr th:only-of-type {\n",
       "        vertical-align: middle;\n",
       "    }\n",
       "\n",
       "    .dataframe tbody tr th {\n",
       "        vertical-align: top;\n",
       "    }\n",
       "\n",
       "    .dataframe thead th {\n",
       "        text-align: right;\n",
       "    }\n",
       "</style>\n",
       "<table border=\"1\" class=\"dataframe\">\n",
       "  <thead>\n",
       "    <tr style=\"text-align: right;\">\n",
       "      <th></th>\n",
       "      <th>owner_user_id</th>\n",
       "      <th>q_creation_date</th>\n",
       "      <th>a_creation_date</th>\n",
       "    </tr>\n",
       "  </thead>\n",
       "  <tbody>\n",
       "    <tr>\n",
       "      <th>0</th>\n",
       "      <td>1283776</td>\n",
       "      <td>2019-01-10 11:46:11.927000+00:00</td>\n",
       "      <td>2019-01-17 09:23:48.203000+00:00</td>\n",
       "    </tr>\n",
       "    <tr>\n",
       "      <th>1</th>\n",
       "      <td>8813684</td>\n",
       "      <td>2019-01-27 16:55:50.920000+00:00</td>\n",
       "      <td>2019-01-28 03:45:28.677000+00:00</td>\n",
       "    </tr>\n",
       "    <tr>\n",
       "      <th>2</th>\n",
       "      <td>10988663</td>\n",
       "      <td>2019-01-30 08:19:57.097000+00:00</td>\n",
       "      <td>2019-01-30 07:23:21.807000+00:00</td>\n",
       "    </tr>\n",
       "    <tr>\n",
       "      <th>3</th>\n",
       "      <td>1948328</td>\n",
       "      <td>2019-01-30 16:58:00.040000+00:00</td>\n",
       "      <td>2019-01-08 12:13:39.523000+00:00</td>\n",
       "    </tr>\n",
       "    <tr>\n",
       "      <th>4</th>\n",
       "      <td>2339738</td>\n",
       "      <td>2019-01-27 23:00:35.990000+00:00</td>\n",
       "      <td>2019-01-27 23:02:25.703000+00:00</td>\n",
       "    </tr>\n",
       "  </tbody>\n",
       "</table>\n",
       "</div>"
      ],
      "text/plain": [
       "   owner_user_id                  q_creation_date  \\\n",
       "0        1283776 2019-01-10 11:46:11.927000+00:00   \n",
       "1        8813684 2019-01-27 16:55:50.920000+00:00   \n",
       "2       10988663 2019-01-30 08:19:57.097000+00:00   \n",
       "3        1948328 2019-01-30 16:58:00.040000+00:00   \n",
       "4        2339738 2019-01-27 23:00:35.990000+00:00   \n",
       "\n",
       "                   a_creation_date  \n",
       "0 2019-01-17 09:23:48.203000+00:00  \n",
       "1 2019-01-28 03:45:28.677000+00:00  \n",
       "2 2019-01-30 07:23:21.807000+00:00  \n",
       "3 2019-01-08 12:13:39.523000+00:00  \n",
       "4 2019-01-27 23:02:25.703000+00:00  "
      ]
     },
     "metadata": {},
     "output_type": "display_data"
    },
    {
     "data": {
      "application/javascript": [
       "parent.postMessage({\"jupyterEvent\": \"custom.exercise_interaction\", \"data\": {\"outcomeType\": 1, \"valueTowardsCompletion\": 0.25, \"interactionType\": 1, \"questionType\": 2, \"questionId\": \"2_QA_One\", \"learnToolsVersion\": \"0.3.4\", \"failureMessage\": \"\", \"exceptionClass\": \"\", \"trace\": \"\"}}, \"*\")"
      ],
      "text/plain": [
       "<IPython.core.display.Javascript object>"
      ]
     },
     "metadata": {},
     "output_type": "display_data"
    },
    {
     "data": {
      "text/markdown": [
       "<span style=\"color:#33cc33\">Correct</span>"
      ],
      "text/plain": [
       "Correct"
      ]
     },
     "metadata": {},
     "output_type": "display_data"
    }
   ],
   "source": [
    "# Your code here\n",
    "q_and_a_query = \"\"\"\n",
    "                SELECT q.owner_user_id AS owner_user_id,\n",
    "                    MIN(q.creation_date) AS q_creation_date,\n",
    "                    MIN(a.creation_date) AS a_creation_date\n",
    "                FROM `bigquery-public-data.stackoverflow.posts_questions` AS q\n",
    "                    FULL JOIN `bigquery-public-data.stackoverflow.posts_answers` AS a\n",
    "                ON q.owner_user_id = a.owner_user_id \n",
    "                WHERE q.creation_date >= '2019-01-01' AND q.creation_date < '2019-02-01' \n",
    "                    AND a.creation_date >= '2019-01-01' AND a.creation_date < '2019-02-01'\n",
    "                GROUP BY owner_user_id\n",
    "                \"\"\"\n",
    "\n",
    "# Check your answer\n",
    "q_2.check()"
   ]
  },
  {
   "cell_type": "code",
   "execution_count": 8,
   "id": "35cd9f6a",
   "metadata": {
    "execution": {
     "iopub.execute_input": "2022-04-09T18:12:14.884135Z",
     "iopub.status.busy": "2022-04-09T18:12:14.883300Z",
     "iopub.status.idle": "2022-04-09T18:12:14.885930Z",
     "shell.execute_reply": "2022-04-09T18:12:14.886507Z"
    },
    "papermill": {
     "duration": 0.036636,
     "end_time": "2022-04-09T18:12:14.886673",
     "exception": false,
     "start_time": "2022-04-09T18:12:14.850037",
     "status": "completed"
    },
    "tags": []
   },
   "outputs": [],
   "source": [
    "# Lines below will give you a hint or solution code\n",
    "#q_2.hint()\n",
    "#q_2.solution()"
   ]
  },
  {
   "cell_type": "markdown",
   "id": "f4647696",
   "metadata": {
    "papermill": {
     "duration": 0.029739,
     "end_time": "2022-04-09T18:12:14.948800",
     "exception": false,
     "start_time": "2022-04-09T18:12:14.919061",
     "status": "completed"
    },
    "tags": []
   },
   "source": [
    "### 3) Initial questions and answers, Part 2\n",
    "\n",
    "Now you'll address a more realistic (and complex!) scenario.  To answer this question, you'll need to pull information from *three* different tables!  This syntax very similar to the case when we have to join only two tables.  For instance, consider the three tables below.\n",
    "\n",
    "![three tables](https://i.imgur.com/OyhYtD1.png)\n",
    "\n",
    "We can use two different **JOINs** to link together information from all three tables, in a single query.\n",
    "\n",
    "![double join](https://i.imgur.com/G6buS7P.png)\n",
    "\n",
    "With this in mind, say you're interested in understanding users who joined the site in January 2019.  You want to track their activity on the site: when did they post their first questions and answers, if ever?\n",
    "\n",
    "Write a query that returns the following columns:\n",
    "- `id` - the IDs of all users who created Stack Overflow accounts in January 2019 (January 1, 2019, to January 31, 2019, inclusive)\n",
    "- `q_creation_date` - the first time the user posted a question on the site; if the user has never posted a question, the value should be null\n",
    "- `a_creation_date` - the first time the user posted a question on the site; if the user has never posted a question, the value should be null\n",
    "\n",
    "Note that questions and answers posted after January 31, 2019, should still be included in the results.  And, all users who joined the site in January 2019 should be included (even if they have never posted a question or provided an answer).\n",
    "\n",
    "The query from the previous question should be a nice starting point to answering this question!  You'll need to use the `posts_answers` and `posts_questions` tables.  You'll also need to use the `users` table from the Stack Overflow dataset.  The relevant columns from the `users` table are `id` (the ID of each user) and `creation_date` (when the user joined the Stack Overflow site, in DATETIME format)."
   ]
  },
  {
   "cell_type": "code",
   "execution_count": 9,
   "id": "ddd629bd",
   "metadata": {
    "execution": {
     "iopub.execute_input": "2022-04-09T18:12:15.013988Z",
     "iopub.status.busy": "2022-04-09T18:12:15.013004Z",
     "iopub.status.idle": "2022-04-09T18:12:21.167194Z",
     "shell.execute_reply": "2022-04-09T18:12:21.166669Z",
     "shell.execute_reply.started": "2022-04-09T18:10:13.007554Z"
    },
    "papermill": {
     "duration": 6.189008,
     "end_time": "2022-04-09T18:12:21.167339",
     "exception": false,
     "start_time": "2022-04-09T18:12:14.978331",
     "status": "completed"
    },
    "tags": []
   },
   "outputs": [
    {
     "name": "stderr",
     "output_type": "stream",
     "text": [
      "/opt/conda/lib/python3.7/site-packages/google/cloud/bigquery/client.py:440: UserWarning: Cannot create BigQuery Storage client, the dependency google-cloud-bigquery-storage is not installed.\n",
      "  \"Cannot create BigQuery Storage client, the dependency \"\n"
     ]
    },
    {
     "data": {
      "text/html": [
       "<div>\n",
       "<style scoped>\n",
       "    .dataframe tbody tr th:only-of-type {\n",
       "        vertical-align: middle;\n",
       "    }\n",
       "\n",
       "    .dataframe tbody tr th {\n",
       "        vertical-align: top;\n",
       "    }\n",
       "\n",
       "    .dataframe thead th {\n",
       "        text-align: right;\n",
       "    }\n",
       "</style>\n",
       "<table border=\"1\" class=\"dataframe\">\n",
       "  <thead>\n",
       "    <tr style=\"text-align: right;\">\n",
       "      <th></th>\n",
       "      <th>id</th>\n",
       "      <th>q_creation_date</th>\n",
       "      <th>a_creation_date</th>\n",
       "    </tr>\n",
       "  </thead>\n",
       "  <tbody>\n",
       "    <tr>\n",
       "      <th>0</th>\n",
       "      <td>10927208</td>\n",
       "      <td>2019-01-17 10:13:16+00:00</td>\n",
       "      <td>2019-01-17 17:33:31.097000+00:00</td>\n",
       "    </tr>\n",
       "    <tr>\n",
       "      <th>1</th>\n",
       "      <td>10978237</td>\n",
       "      <td>NaT</td>\n",
       "      <td>NaT</td>\n",
       "    </tr>\n",
       "    <tr>\n",
       "      <th>2</th>\n",
       "      <td>10880567</td>\n",
       "      <td>NaT</td>\n",
       "      <td>NaT</td>\n",
       "    </tr>\n",
       "    <tr>\n",
       "      <th>3</th>\n",
       "      <td>10906098</td>\n",
       "      <td>NaT</td>\n",
       "      <td>NaT</td>\n",
       "    </tr>\n",
       "    <tr>\n",
       "      <th>4</th>\n",
       "      <td>10998385</td>\n",
       "      <td>NaT</td>\n",
       "      <td>NaT</td>\n",
       "    </tr>\n",
       "  </tbody>\n",
       "</table>\n",
       "</div>"
      ],
      "text/plain": [
       "         id           q_creation_date                  a_creation_date\n",
       "0  10927208 2019-01-17 10:13:16+00:00 2019-01-17 17:33:31.097000+00:00\n",
       "1  10978237                       NaT                              NaT\n",
       "2  10880567                       NaT                              NaT\n",
       "3  10906098                       NaT                              NaT\n",
       "4  10998385                       NaT                              NaT"
      ]
     },
     "metadata": {},
     "output_type": "display_data"
    },
    {
     "data": {
      "application/javascript": [
       "parent.postMessage({\"jupyterEvent\": \"custom.exercise_interaction\", \"data\": {\"outcomeType\": 1, \"valueTowardsCompletion\": 0.25, \"interactionType\": 1, \"questionType\": 2, \"questionId\": \"3_QA_Two\", \"learnToolsVersion\": \"0.3.4\", \"failureMessage\": \"\", \"exceptionClass\": \"\", \"trace\": \"\"}}, \"*\")"
      ],
      "text/plain": [
       "<IPython.core.display.Javascript object>"
      ]
     },
     "metadata": {},
     "output_type": "display_data"
    },
    {
     "data": {
      "text/markdown": [
       "<span style=\"color:#33cc33\">Correct</span>"
      ],
      "text/plain": [
       "Correct"
      ]
     },
     "metadata": {},
     "output_type": "display_data"
    }
   ],
   "source": [
    "# Your code here\n",
    "three_tables_query = \"\"\"\n",
    "                        SELECT u.id AS id,\n",
    "                         MIN(q.creation_date) AS q_creation_date,\n",
    "                         MIN(a.creation_date) AS a_creation_date\n",
    "                         FROM `bigquery-public-data.stackoverflow.users` AS u\n",
    "                         LEFT JOIN `bigquery-public-data.stackoverflow.posts_answers` AS a\n",
    "                             ON u.id = a.owner_user_id\n",
    "                         LEFT JOIN `bigquery-public-data.stackoverflow.posts_questions` AS q\n",
    "                             ON q.owner_user_id = u.id\n",
    "                         WHERE u.creation_date >= '2019-01-01' and u.creation_date < '2019-02-01'\n",
    "                         GROUP BY id\n",
    "                     \"\"\"\n",
    "\n",
    "# Check your answer\n",
    "q_3.check()"
   ]
  },
  {
   "cell_type": "code",
   "execution_count": 10,
   "id": "004a1e9e",
   "metadata": {
    "execution": {
     "iopub.execute_input": "2022-04-09T18:12:21.235909Z",
     "iopub.status.busy": "2022-04-09T18:12:21.235188Z",
     "iopub.status.idle": "2022-04-09T18:12:21.238204Z",
     "shell.execute_reply": "2022-04-09T18:12:21.237597Z",
     "shell.execute_reply.started": "2022-03-25T20:04:38.086289Z"
    },
    "papermill": {
     "duration": 0.039112,
     "end_time": "2022-04-09T18:12:21.238340",
     "exception": false,
     "start_time": "2022-04-09T18:12:21.199228",
     "status": "completed"
    },
    "tags": []
   },
   "outputs": [],
   "source": [
    "# Lines below will give you a hint or solution code\n",
    "#q_3.hint()\n",
    "#q_3.solution()"
   ]
  },
  {
   "cell_type": "markdown",
   "id": "a432f139",
   "metadata": {
    "papermill": {
     "duration": 0.031521,
     "end_time": "2022-04-09T18:12:21.302058",
     "exception": false,
     "start_time": "2022-04-09T18:12:21.270537",
     "status": "completed"
    },
    "tags": []
   },
   "source": [
    "### 4) How many distinct users posted on January 1, 2019?\n",
    "\n",
    "In the code cell below, write a query that returns a table with a single column:\n",
    "- `owner_user_id` - the IDs of all users who posted at least one question or answer on January 1, 2019.  Each user ID should appear at most once.\n",
    "\n",
    "In the `posts_questions` (and `posts_answers`) tables, you can get the ID of the original poster from the `owner_user_id` column.  Likewise, the date of the original posting can be found in the `creation_date` column.  \n",
    "\n",
    "In order for your answer to be marked correct, your query must use a **UNION**."
   ]
  },
  {
   "cell_type": "code",
   "execution_count": 11,
   "id": "2fdce469",
   "metadata": {
    "execution": {
     "iopub.execute_input": "2022-04-09T18:12:21.373773Z",
     "iopub.status.busy": "2022-04-09T18:12:21.373120Z",
     "iopub.status.idle": "2022-04-09T18:12:22.393917Z",
     "shell.execute_reply": "2022-04-09T18:12:22.393358Z",
     "shell.execute_reply.started": "2022-04-09T18:10:40.648363Z"
    },
    "papermill": {
     "duration": 1.059949,
     "end_time": "2022-04-09T18:12:22.394069",
     "exception": false,
     "start_time": "2022-04-09T18:12:21.334120",
     "status": "completed"
    },
    "tags": []
   },
   "outputs": [
    {
     "name": "stderr",
     "output_type": "stream",
     "text": [
      "/opt/conda/lib/python3.7/site-packages/google/cloud/bigquery/client.py:440: UserWarning: Cannot create BigQuery Storage client, the dependency google-cloud-bigquery-storage is not installed.\n",
      "  \"Cannot create BigQuery Storage client, the dependency \"\n"
     ]
    },
    {
     "data": {
      "text/html": [
       "<div>\n",
       "<style scoped>\n",
       "    .dataframe tbody tr th:only-of-type {\n",
       "        vertical-align: middle;\n",
       "    }\n",
       "\n",
       "    .dataframe tbody tr th {\n",
       "        vertical-align: top;\n",
       "    }\n",
       "\n",
       "    .dataframe thead th {\n",
       "        text-align: right;\n",
       "    }\n",
       "</style>\n",
       "<table border=\"1\" class=\"dataframe\">\n",
       "  <thead>\n",
       "    <tr style=\"text-align: right;\">\n",
       "      <th></th>\n",
       "      <th>owner_user_id</th>\n",
       "    </tr>\n",
       "  </thead>\n",
       "  <tbody>\n",
       "    <tr>\n",
       "      <th>0</th>\n",
       "      <td>1480500.0</td>\n",
       "    </tr>\n",
       "    <tr>\n",
       "      <th>1</th>\n",
       "      <td>10180283.0</td>\n",
       "    </tr>\n",
       "    <tr>\n",
       "      <th>2</th>\n",
       "      <td>7609684.0</td>\n",
       "    </tr>\n",
       "    <tr>\n",
       "      <th>3</th>\n",
       "      <td>2896120.0</td>\n",
       "    </tr>\n",
       "    <tr>\n",
       "      <th>4</th>\n",
       "      <td>10557927.0</td>\n",
       "    </tr>\n",
       "  </tbody>\n",
       "</table>\n",
       "</div>"
      ],
      "text/plain": [
       "   owner_user_id\n",
       "0      1480500.0\n",
       "1     10180283.0\n",
       "2      7609684.0\n",
       "3      2896120.0\n",
       "4     10557927.0"
      ]
     },
     "metadata": {},
     "output_type": "display_data"
    },
    {
     "data": {
      "application/javascript": [
       "parent.postMessage({\"jupyterEvent\": \"custom.exercise_interaction\", \"data\": {\"outcomeType\": 1, \"valueTowardsCompletion\": 0.25, \"interactionType\": 1, \"questionType\": 2, \"questionId\": \"4_AllUsers\", \"learnToolsVersion\": \"0.3.4\", \"failureMessage\": \"\", \"exceptionClass\": \"\", \"trace\": \"\"}}, \"*\")"
      ],
      "text/plain": [
       "<IPython.core.display.Javascript object>"
      ]
     },
     "metadata": {},
     "output_type": "display_data"
    },
    {
     "data": {
      "text/markdown": [
       "<span style=\"color:#33cc33\">Correct</span>"
      ],
      "text/plain": [
       "Correct"
      ]
     },
     "metadata": {},
     "output_type": "display_data"
    }
   ],
   "source": [
    "# Your code here\n",
    "all_users_query = \"\"\"\n",
    "                    SELECT q.owner_user_id \n",
    "                      FROM `bigquery-public-data.stackoverflow.posts_questions` AS q\n",
    "                      WHERE EXTRACT(DATE FROM q.creation_date) = '2019-01-01'\n",
    "                      UNION DISTINCT\n",
    "                    SELECT a.owner_user_id\n",
    "                      FROM `bigquery-public-data.stackoverflow.posts_answers` AS a\n",
    "                      WHERE EXTRACT(DATE FROM a.creation_date) = '2019-01-01'\n",
    "                  \"\"\"\n",
    "\n",
    "# Check your answer\n",
    "q_4.check()"
   ]
  },
  {
   "cell_type": "code",
   "execution_count": 12,
   "id": "be2b6545",
   "metadata": {
    "execution": {
     "iopub.execute_input": "2022-04-09T18:12:22.467753Z",
     "iopub.status.busy": "2022-04-09T18:12:22.467099Z",
     "iopub.status.idle": "2022-04-09T18:12:22.468910Z",
     "shell.execute_reply": "2022-04-09T18:12:22.469460Z",
     "shell.execute_reply.started": "2022-03-25T20:13:28.708053Z"
    },
    "papermill": {
     "duration": 0.041159,
     "end_time": "2022-04-09T18:12:22.469635",
     "exception": false,
     "start_time": "2022-04-09T18:12:22.428476",
     "status": "completed"
    },
    "tags": []
   },
   "outputs": [],
   "source": [
    "# Lines below will give you a hint or solution code\n",
    "#q_4.hint()\n",
    "#q_4.solution()"
   ]
  },
  {
   "cell_type": "markdown",
   "id": "72f20ec2",
   "metadata": {
    "papermill": {
     "duration": 0.033828,
     "end_time": "2022-04-09T18:12:22.537840",
     "exception": false,
     "start_time": "2022-04-09T18:12:22.504012",
     "status": "completed"
    },
    "tags": []
   },
   "source": [
    "# Keep going\n",
    "\n",
    "Learn how to use **[analytic functions](https://www.kaggle.com/alexisbcook/analytic-functions)** to perform complex calculations with minimal SQL code."
   ]
  },
  {
   "cell_type": "markdown",
   "id": "40790d8a",
   "metadata": {
    "papermill": {
     "duration": 0.034018,
     "end_time": "2022-04-09T18:12:22.606135",
     "exception": false,
     "start_time": "2022-04-09T18:12:22.572117",
     "status": "completed"
    },
    "tags": []
   },
   "source": [
    "---\n",
    "\n",
    "\n",
    "\n",
    "\n",
    "*Have questions or comments? Visit the [course discussion forum](https://www.kaggle.com/learn/advanced-sql/discussion) to chat with other learners.*"
   ]
  }
 ],
 "metadata": {
  "kernelspec": {
   "display_name": "Python 3",
   "language": "python",
   "name": "python3"
  },
  "language_info": {
   "codemirror_mode": {
    "name": "ipython",
    "version": 3
   },
   "file_extension": ".py",
   "mimetype": "text/x-python",
   "name": "python",
   "nbconvert_exporter": "python",
   "pygments_lexer": "ipython3",
   "version": "3.7.12"
  },
  "papermill": {
   "default_parameters": {},
   "duration": 56.405698,
   "end_time": "2022-04-09T18:12:23.250287",
   "environment_variables": {},
   "exception": null,
   "input_path": "__notebook__.ipynb",
   "output_path": "__notebook__.ipynb",
   "parameters": {},
   "start_time": "2022-04-09T18:11:26.844589",
   "version": "2.3.3"
  }
 },
 "nbformat": 4,
 "nbformat_minor": 5
}
