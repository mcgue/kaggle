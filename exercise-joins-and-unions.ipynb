{
 "cells": [
  {
   "cell_type": "markdown",
   "id": "0cee4bd4",
   "metadata": {
    "papermill": {
     "duration": 0.015362,
     "end_time": "2022-03-25T20:05:06.667010",
     "exception": false,
     "start_time": "2022-03-25T20:05:06.651648",
     "status": "completed"
    },
    "tags": []
   },
   "source": [
    "**This notebook is an exercise in the [Advanced SQL](https://www.kaggle.com/learn/advanced-sql) course.  You can reference the tutorial at [this link](https://www.kaggle.com/alexisbcook/joins-and-unions).**\n",
    "\n",
    "---\n"
   ]
  },
  {
   "cell_type": "markdown",
   "id": "a4dd4bc1",
   "metadata": {
    "papermill": {
     "duration": 0.014358,
     "end_time": "2022-03-25T20:05:06.695750",
     "exception": false,
     "start_time": "2022-03-25T20:05:06.681392",
     "status": "completed"
    },
    "tags": []
   },
   "source": [
    "# Introduction\n",
    "\n",
    "Here, you'll use different types of SQL **JOINs** to answer questions about the [Stack Overflow](https://www.kaggle.com/stackoverflow/stackoverflow) dataset.\n",
    "\n",
    "Before you get started, run the following cell to set everything up."
   ]
  },
  {
   "cell_type": "code",
   "execution_count": 1,
   "id": "50c43189",
   "metadata": {
    "execution": {
     "iopub.execute_input": "2022-03-25T20:05:06.737564Z",
     "iopub.status.busy": "2022-03-25T20:05:06.736827Z",
     "iopub.status.idle": "2022-03-25T20:05:22.903831Z",
     "shell.execute_reply": "2022-03-25T20:05:22.904475Z",
     "shell.execute_reply.started": "2022-03-25T19:51:35.393727Z"
    },
    "papermill": {
     "duration": 16.192152,
     "end_time": "2022-03-25T20:05:22.904750",
     "exception": false,
     "start_time": "2022-03-25T20:05:06.712598",
     "status": "completed"
    },
    "tags": []
   },
   "outputs": [
    {
     "name": "stdout",
     "output_type": "stream",
     "text": [
      "Using Kaggle's public dataset BigQuery integration.\n"
     ]
    },
    {
     "name": "stderr",
     "output_type": "stream",
     "text": [
      "/opt/conda/lib/python3.7/site-packages/google/cloud/bigquery/client.py:440: UserWarning: Cannot create BigQuery Storage client, the dependency google-cloud-bigquery-storage is not installed.\n",
      "  \"Cannot create BigQuery Storage client, the dependency \"\n"
     ]
    },
    {
     "name": "stdout",
     "output_type": "stream",
     "text": [
      "Setup Complete\n"
     ]
    }
   ],
   "source": [
    "# Set up feedback system\n",
    "from learntools.core import binder\n",
    "binder.bind(globals())\n",
    "from learntools.sql_advanced.ex1 import *\n",
    "print(\"Setup Complete\")"
   ]
  },
  {
   "cell_type": "markdown",
   "id": "718bcb1a",
   "metadata": {
    "papermill": {
     "duration": 0.01501,
     "end_time": "2022-03-25T20:05:22.935921",
     "exception": false,
     "start_time": "2022-03-25T20:05:22.920911",
     "status": "completed"
    },
    "tags": []
   },
   "source": [
    "The code cell below fetches the `posts_questions` table from the `stackoverflow` dataset.  We also preview the first five rows of the table."
   ]
  },
  {
   "cell_type": "code",
   "execution_count": 2,
   "id": "45dbed5f",
   "metadata": {
    "execution": {
     "iopub.execute_input": "2022-03-25T20:05:22.974854Z",
     "iopub.status.busy": "2022-03-25T20:05:22.969921Z",
     "iopub.status.idle": "2022-03-25T20:05:24.495153Z",
     "shell.execute_reply": "2022-03-25T20:05:24.494584Z",
     "shell.execute_reply.started": "2022-03-25T19:52:02.773007Z"
    },
    "papermill": {
     "duration": 1.544019,
     "end_time": "2022-03-25T20:05:24.495315",
     "exception": false,
     "start_time": "2022-03-25T20:05:22.951296",
     "status": "completed"
    },
    "tags": []
   },
   "outputs": [
    {
     "name": "stdout",
     "output_type": "stream",
     "text": [
      "Using Kaggle's public dataset BigQuery integration.\n"
     ]
    },
    {
     "name": "stderr",
     "output_type": "stream",
     "text": [
      "/opt/conda/lib/python3.7/site-packages/ipykernel_launcher.py:19: UserWarning: Cannot use bqstorage_client if max_results is set, reverting to fetching data with the tabledata.list endpoint.\n"
     ]
    },
    {
     "data": {
      "text/html": [
       "<div>\n",
       "<style scoped>\n",
       "    .dataframe tbody tr th:only-of-type {\n",
       "        vertical-align: middle;\n",
       "    }\n",
       "\n",
       "    .dataframe tbody tr th {\n",
       "        vertical-align: top;\n",
       "    }\n",
       "\n",
       "    .dataframe thead th {\n",
       "        text-align: right;\n",
       "    }\n",
       "</style>\n",
       "<table border=\"1\" class=\"dataframe\">\n",
       "  <thead>\n",
       "    <tr style=\"text-align: right;\">\n",
       "      <th></th>\n",
       "      <th>id</th>\n",
       "      <th>title</th>\n",
       "      <th>body</th>\n",
       "      <th>accepted_answer_id</th>\n",
       "      <th>answer_count</th>\n",
       "      <th>comment_count</th>\n",
       "      <th>community_owned_date</th>\n",
       "      <th>creation_date</th>\n",
       "      <th>favorite_count</th>\n",
       "      <th>last_activity_date</th>\n",
       "      <th>last_edit_date</th>\n",
       "      <th>last_editor_display_name</th>\n",
       "      <th>last_editor_user_id</th>\n",
       "      <th>owner_display_name</th>\n",
       "      <th>owner_user_id</th>\n",
       "      <th>parent_id</th>\n",
       "      <th>post_type_id</th>\n",
       "      <th>score</th>\n",
       "      <th>tags</th>\n",
       "      <th>view_count</th>\n",
       "    </tr>\n",
       "  </thead>\n",
       "  <tbody>\n",
       "    <tr>\n",
       "      <th>0</th>\n",
       "      <td>3216259</td>\n",
       "      <td>Function overloading and inheritance</td>\n",
       "      <td>&lt;blockquote&gt;\\n  &lt;p&gt;&lt;strong&gt;Possible Duplicate:...</td>\n",
       "      <td>NaN</td>\n",
       "      <td>0</td>\n",
       "      <td>4</td>\n",
       "      <td>NaT</td>\n",
       "      <td>2010-07-09 20:18:51.660000+00:00</td>\n",
       "      <td>1</td>\n",
       "      <td>2010-07-09 20:49:47.220000+00:00</td>\n",
       "      <td>2017-05-23 12:26:47.287000+00:00</td>\n",
       "      <td>None</td>\n",
       "      <td>-1</td>\n",
       "      <td>None</td>\n",
       "      <td>204623</td>\n",
       "      <td>None</td>\n",
       "      <td>1</td>\n",
       "      <td>0</td>\n",
       "      <td>c++|inheritance|overloading</td>\n",
       "      <td>218</td>\n",
       "    </tr>\n",
       "    <tr>\n",
       "      <th>1</th>\n",
       "      <td>3217039</td>\n",
       "      <td>how to pass a double with [n][n] values into a...</td>\n",
       "      <td>&lt;blockquote&gt;\\n  &lt;p&gt;&lt;strong&gt;Possible Duplicate:...</td>\n",
       "      <td>3217086.0</td>\n",
       "      <td>0</td>\n",
       "      <td>0</td>\n",
       "      <td>NaT</td>\n",
       "      <td>2010-07-09 22:54:42.847000+00:00</td>\n",
       "      <td>0</td>\n",
       "      <td>2010-07-09 23:17:58.993000+00:00</td>\n",
       "      <td>2017-05-23 11:47:37.667000+00:00</td>\n",
       "      <td>None</td>\n",
       "      <td>-1</td>\n",
       "      <td>None</td>\n",
       "      <td>383217</td>\n",
       "      <td>None</td>\n",
       "      <td>1</td>\n",
       "      <td>0</td>\n",
       "      <td>iphone|objective-c</td>\n",
       "      <td>82</td>\n",
       "    </tr>\n",
       "    <tr>\n",
       "      <th>2</th>\n",
       "      <td>3217358</td>\n",
       "      <td>Convert simple code from Perl to PHP (issue)</td>\n",
       "      <td>&lt;blockquote&gt;\\n  &lt;p&gt;&lt;strong&gt;Possible Duplicate:...</td>\n",
       "      <td>NaN</td>\n",
       "      <td>0</td>\n",
       "      <td>0</td>\n",
       "      <td>NaT</td>\n",
       "      <td>2010-07-10 00:50:50.480000+00:00</td>\n",
       "      <td>0</td>\n",
       "      <td>2010-07-11 00:01:51.583000+00:00</td>\n",
       "      <td>2017-05-23 12:18:35.953000+00:00</td>\n",
       "      <td>None</td>\n",
       "      <td>-1</td>\n",
       "      <td>None</td>\n",
       "      <td>388226</td>\n",
       "      <td>None</td>\n",
       "      <td>1</td>\n",
       "      <td>0</td>\n",
       "      <td>php|perl|function|pack</td>\n",
       "      <td>302</td>\n",
       "    </tr>\n",
       "    <tr>\n",
       "      <th>3</th>\n",
       "      <td>3227205</td>\n",
       "      <td>how to send more than three variables by using...</td>\n",
       "      <td>&lt;p&gt;how can i send 3 text box,1 select button v...</td>\n",
       "      <td>NaN</td>\n",
       "      <td>0</td>\n",
       "      <td>0</td>\n",
       "      <td>NaT</td>\n",
       "      <td>2010-07-12 09:24:01.383000+00:00</td>\n",
       "      <td>0</td>\n",
       "      <td>2010-07-12 09:52:52.373000+00:00</td>\n",
       "      <td>2010-07-12 09:25:48.027000+00:00</td>\n",
       "      <td>None</td>\n",
       "      <td>47738</td>\n",
       "      <td>None</td>\n",
       "      <td>386361</td>\n",
       "      <td>None</td>\n",
       "      <td>1</td>\n",
       "      <td>0</td>\n",
       "      <td>html</td>\n",
       "      <td>114</td>\n",
       "    </tr>\n",
       "    <tr>\n",
       "      <th>4</th>\n",
       "      <td>3232809</td>\n",
       "      <td>bitshift equivalent of math.round</td>\n",
       "      <td>&lt;p&gt;(Math.round(var/var1)*var1)&lt;/p&gt;\\n\\n&lt;p&gt;What ...</td>\n",
       "      <td>NaN</td>\n",
       "      <td>0</td>\n",
       "      <td>0</td>\n",
       "      <td>NaT</td>\n",
       "      <td>2010-07-12 22:34:26.247000+00:00</td>\n",
       "      <td>0</td>\n",
       "      <td>2010-07-13 00:00:32.173000+00:00</td>\n",
       "      <td>2010-07-13 00:00:32.173000+00:00</td>\n",
       "      <td>None</td>\n",
       "      <td>354992</td>\n",
       "      <td>None</td>\n",
       "      <td>354992</td>\n",
       "      <td>None</td>\n",
       "      <td>1</td>\n",
       "      <td>0</td>\n",
       "      <td>javascript</td>\n",
       "      <td>191</td>\n",
       "    </tr>\n",
       "  </tbody>\n",
       "</table>\n",
       "</div>"
      ],
      "text/plain": [
       "        id                                              title  \\\n",
       "0  3216259               Function overloading and inheritance   \n",
       "1  3217039  how to pass a double with [n][n] values into a...   \n",
       "2  3217358       Convert simple code from Perl to PHP (issue)   \n",
       "3  3227205  how to send more than three variables by using...   \n",
       "4  3232809                  bitshift equivalent of math.round   \n",
       "\n",
       "                                                body  accepted_answer_id  \\\n",
       "0  <blockquote>\\n  <p><strong>Possible Duplicate:...                 NaN   \n",
       "1  <blockquote>\\n  <p><strong>Possible Duplicate:...           3217086.0   \n",
       "2  <blockquote>\\n  <p><strong>Possible Duplicate:...                 NaN   \n",
       "3  <p>how can i send 3 text box,1 select button v...                 NaN   \n",
       "4  <p>(Math.round(var/var1)*var1)</p>\\n\\n<p>What ...                 NaN   \n",
       "\n",
       "   answer_count  comment_count community_owned_date  \\\n",
       "0             0              4                  NaT   \n",
       "1             0              0                  NaT   \n",
       "2             0              0                  NaT   \n",
       "3             0              0                  NaT   \n",
       "4             0              0                  NaT   \n",
       "\n",
       "                     creation_date  favorite_count  \\\n",
       "0 2010-07-09 20:18:51.660000+00:00               1   \n",
       "1 2010-07-09 22:54:42.847000+00:00               0   \n",
       "2 2010-07-10 00:50:50.480000+00:00               0   \n",
       "3 2010-07-12 09:24:01.383000+00:00               0   \n",
       "4 2010-07-12 22:34:26.247000+00:00               0   \n",
       "\n",
       "                last_activity_date                   last_edit_date  \\\n",
       "0 2010-07-09 20:49:47.220000+00:00 2017-05-23 12:26:47.287000+00:00   \n",
       "1 2010-07-09 23:17:58.993000+00:00 2017-05-23 11:47:37.667000+00:00   \n",
       "2 2010-07-11 00:01:51.583000+00:00 2017-05-23 12:18:35.953000+00:00   \n",
       "3 2010-07-12 09:52:52.373000+00:00 2010-07-12 09:25:48.027000+00:00   \n",
       "4 2010-07-13 00:00:32.173000+00:00 2010-07-13 00:00:32.173000+00:00   \n",
       "\n",
       "  last_editor_display_name  last_editor_user_id owner_display_name  \\\n",
       "0                     None                   -1               None   \n",
       "1                     None                   -1               None   \n",
       "2                     None                   -1               None   \n",
       "3                     None                47738               None   \n",
       "4                     None               354992               None   \n",
       "\n",
       "   owner_user_id parent_id  post_type_id  score                         tags  \\\n",
       "0         204623      None             1      0  c++|inheritance|overloading   \n",
       "1         383217      None             1      0           iphone|objective-c   \n",
       "2         388226      None             1      0       php|perl|function|pack   \n",
       "3         386361      None             1      0                         html   \n",
       "4         354992      None             1      0                   javascript   \n",
       "\n",
       "   view_count  \n",
       "0         218  \n",
       "1          82  \n",
       "2         302  \n",
       "3         114  \n",
       "4         191  "
      ]
     },
     "execution_count": 2,
     "metadata": {},
     "output_type": "execute_result"
    }
   ],
   "source": [
    "from google.cloud import bigquery\n",
    "\n",
    "# Create a \"Client\" object\n",
    "client = bigquery.Client()\n",
    "\n",
    "# Construct a reference to the \"stackoverflow\" dataset\n",
    "dataset_ref = client.dataset(\"stackoverflow\", project=\"bigquery-public-data\")\n",
    "\n",
    "# API request - fetch the dataset\n",
    "dataset = client.get_dataset(dataset_ref)\n",
    "\n",
    "# Construct a reference to the \"posts_questions\" table\n",
    "table_ref = dataset_ref.table(\"posts_questions\")\n",
    "\n",
    "# API request - fetch the table\n",
    "table = client.get_table(table_ref)\n",
    "\n",
    "# Preview the first five lines of the table\n",
    "client.list_rows(table, max_results=5).to_dataframe()"
   ]
  },
  {
   "cell_type": "markdown",
   "id": "86634385",
   "metadata": {
    "papermill": {
     "duration": 0.016655,
     "end_time": "2022-03-25T20:05:24.528745",
     "exception": false,
     "start_time": "2022-03-25T20:05:24.512090",
     "status": "completed"
    },
    "tags": []
   },
   "source": [
    "We also take a look at the `posts_answers` table."
   ]
  },
  {
   "cell_type": "code",
   "execution_count": 3,
   "id": "ccd3a42e",
   "metadata": {
    "execution": {
     "iopub.execute_input": "2022-03-25T20:05:24.568979Z",
     "iopub.status.busy": "2022-03-25T20:05:24.568334Z",
     "iopub.status.idle": "2022-03-25T20:05:25.287821Z",
     "shell.execute_reply": "2022-03-25T20:05:25.287253Z",
     "shell.execute_reply.started": "2022-03-25T19:52:18.749829Z"
    },
    "papermill": {
     "duration": 0.742359,
     "end_time": "2022-03-25T20:05:25.287969",
     "exception": false,
     "start_time": "2022-03-25T20:05:24.545610",
     "status": "completed"
    },
    "tags": []
   },
   "outputs": [
    {
     "name": "stderr",
     "output_type": "stream",
     "text": [
      "/opt/conda/lib/python3.7/site-packages/ipykernel_launcher.py:8: UserWarning: Cannot use bqstorage_client if max_results is set, reverting to fetching data with the tabledata.list endpoint.\n",
      "  \n"
     ]
    },
    {
     "data": {
      "text/html": [
       "<div>\n",
       "<style scoped>\n",
       "    .dataframe tbody tr th:only-of-type {\n",
       "        vertical-align: middle;\n",
       "    }\n",
       "\n",
       "    .dataframe tbody tr th {\n",
       "        vertical-align: top;\n",
       "    }\n",
       "\n",
       "    .dataframe thead th {\n",
       "        text-align: right;\n",
       "    }\n",
       "</style>\n",
       "<table border=\"1\" class=\"dataframe\">\n",
       "  <thead>\n",
       "    <tr style=\"text-align: right;\">\n",
       "      <th></th>\n",
       "      <th>id</th>\n",
       "      <th>title</th>\n",
       "      <th>body</th>\n",
       "      <th>accepted_answer_id</th>\n",
       "      <th>answer_count</th>\n",
       "      <th>comment_count</th>\n",
       "      <th>community_owned_date</th>\n",
       "      <th>creation_date</th>\n",
       "      <th>favorite_count</th>\n",
       "      <th>last_activity_date</th>\n",
       "      <th>last_edit_date</th>\n",
       "      <th>last_editor_display_name</th>\n",
       "      <th>last_editor_user_id</th>\n",
       "      <th>owner_display_name</th>\n",
       "      <th>owner_user_id</th>\n",
       "      <th>parent_id</th>\n",
       "      <th>post_type_id</th>\n",
       "      <th>score</th>\n",
       "      <th>tags</th>\n",
       "      <th>view_count</th>\n",
       "    </tr>\n",
       "  </thead>\n",
       "  <tbody>\n",
       "    <tr>\n",
       "      <th>0</th>\n",
       "      <td>69637232</td>\n",
       "      <td>None</td>\n",
       "      <td>&lt;p&gt;I'd suggest trying pyspark/spark&lt;/p&gt;\\n&lt;pre&gt;...</td>\n",
       "      <td>None</td>\n",
       "      <td>None</td>\n",
       "      <td>1</td>\n",
       "      <td>NaT</td>\n",
       "      <td>2021-10-19 20:23:05.930000+00:00</td>\n",
       "      <td>None</td>\n",
       "      <td>2021-10-19 20:23:05.930000+00:00</td>\n",
       "      <td>NaT</td>\n",
       "      <td>None</td>\n",
       "      <td>NaN</td>\n",
       "      <td>None</td>\n",
       "      <td>13535120</td>\n",
       "      <td>69588989</td>\n",
       "      <td>2</td>\n",
       "      <td>0</td>\n",
       "      <td>None</td>\n",
       "      <td>None</td>\n",
       "    </tr>\n",
       "    <tr>\n",
       "      <th>1</th>\n",
       "      <td>69637234</td>\n",
       "      <td>None</td>\n",
       "      <td>&lt;p&gt;If you want to use higher-level functions y...</td>\n",
       "      <td>None</td>\n",
       "      <td>None</td>\n",
       "      <td>0</td>\n",
       "      <td>NaT</td>\n",
       "      <td>2021-10-19 20:23:26.823000+00:00</td>\n",
       "      <td>None</td>\n",
       "      <td>2021-10-19 20:23:26.823000+00:00</td>\n",
       "      <td>NaT</td>\n",
       "      <td>None</td>\n",
       "      <td>NaN</td>\n",
       "      <td>None</td>\n",
       "      <td>5003756</td>\n",
       "      <td>69637076</td>\n",
       "      <td>2</td>\n",
       "      <td>0</td>\n",
       "      <td>None</td>\n",
       "      <td>None</td>\n",
       "    </tr>\n",
       "    <tr>\n",
       "      <th>2</th>\n",
       "      <td>69637236</td>\n",
       "      <td>None</td>\n",
       "      <td>&lt;p&gt;To the first question&lt;/p&gt;\\n&lt;blockquote&gt;\\n&lt;p...</td>\n",
       "      <td>None</td>\n",
       "      <td>None</td>\n",
       "      <td>0</td>\n",
       "      <td>NaT</td>\n",
       "      <td>2021-10-19 20:23:32.983000+00:00</td>\n",
       "      <td>None</td>\n",
       "      <td>2021-10-19 20:23:32.983000+00:00</td>\n",
       "      <td>NaT</td>\n",
       "      <td>None</td>\n",
       "      <td>NaN</td>\n",
       "      <td>None</td>\n",
       "      <td>16523370</td>\n",
       "      <td>69635990</td>\n",
       "      <td>2</td>\n",
       "      <td>0</td>\n",
       "      <td>None</td>\n",
       "      <td>None</td>\n",
       "    </tr>\n",
       "    <tr>\n",
       "      <th>3</th>\n",
       "      <td>69637246</td>\n",
       "      <td>None</td>\n",
       "      <td>&lt;p&gt;If you want to access a class in another cl...</td>\n",
       "      <td>None</td>\n",
       "      <td>None</td>\n",
       "      <td>0</td>\n",
       "      <td>NaT</td>\n",
       "      <td>2021-10-19 20:24:13.700000+00:00</td>\n",
       "      <td>None</td>\n",
       "      <td>2021-10-19 20:24:13.700000+00:00</td>\n",
       "      <td>NaT</td>\n",
       "      <td>None</td>\n",
       "      <td>NaN</td>\n",
       "      <td>None</td>\n",
       "      <td>16653398</td>\n",
       "      <td>69637090</td>\n",
       "      <td>2</td>\n",
       "      <td>0</td>\n",
       "      <td>None</td>\n",
       "      <td>None</td>\n",
       "    </tr>\n",
       "    <tr>\n",
       "      <th>4</th>\n",
       "      <td>69637250</td>\n",
       "      <td>None</td>\n",
       "      <td>&lt;p&gt;putting content inside an extra &lt;code&gt;&amp;lt;p...</td>\n",
       "      <td>None</td>\n",
       "      <td>None</td>\n",
       "      <td>0</td>\n",
       "      <td>NaT</td>\n",
       "      <td>2021-10-19 20:24:28.950000+00:00</td>\n",
       "      <td>None</td>\n",
       "      <td>2021-10-19 20:24:28.950000+00:00</td>\n",
       "      <td>NaT</td>\n",
       "      <td>None</td>\n",
       "      <td>NaN</td>\n",
       "      <td>None</td>\n",
       "      <td>4016922</td>\n",
       "      <td>69632918</td>\n",
       "      <td>2</td>\n",
       "      <td>0</td>\n",
       "      <td>None</td>\n",
       "      <td>None</td>\n",
       "    </tr>\n",
       "  </tbody>\n",
       "</table>\n",
       "</div>"
      ],
      "text/plain": [
       "         id title                                               body  \\\n",
       "0  69637232  None  <p>I'd suggest trying pyspark/spark</p>\\n<pre>...   \n",
       "1  69637234  None  <p>If you want to use higher-level functions y...   \n",
       "2  69637236  None  <p>To the first question</p>\\n<blockquote>\\n<p...   \n",
       "3  69637246  None  <p>If you want to access a class in another cl...   \n",
       "4  69637250  None  <p>putting content inside an extra <code>&lt;p...   \n",
       "\n",
       "  accepted_answer_id answer_count  comment_count community_owned_date  \\\n",
       "0               None         None              1                  NaT   \n",
       "1               None         None              0                  NaT   \n",
       "2               None         None              0                  NaT   \n",
       "3               None         None              0                  NaT   \n",
       "4               None         None              0                  NaT   \n",
       "\n",
       "                     creation_date favorite_count  \\\n",
       "0 2021-10-19 20:23:05.930000+00:00           None   \n",
       "1 2021-10-19 20:23:26.823000+00:00           None   \n",
       "2 2021-10-19 20:23:32.983000+00:00           None   \n",
       "3 2021-10-19 20:24:13.700000+00:00           None   \n",
       "4 2021-10-19 20:24:28.950000+00:00           None   \n",
       "\n",
       "                last_activity_date last_edit_date last_editor_display_name  \\\n",
       "0 2021-10-19 20:23:05.930000+00:00            NaT                     None   \n",
       "1 2021-10-19 20:23:26.823000+00:00            NaT                     None   \n",
       "2 2021-10-19 20:23:32.983000+00:00            NaT                     None   \n",
       "3 2021-10-19 20:24:13.700000+00:00            NaT                     None   \n",
       "4 2021-10-19 20:24:28.950000+00:00            NaT                     None   \n",
       "\n",
       "   last_editor_user_id owner_display_name  owner_user_id  parent_id  \\\n",
       "0                  NaN               None       13535120   69588989   \n",
       "1                  NaN               None        5003756   69637076   \n",
       "2                  NaN               None       16523370   69635990   \n",
       "3                  NaN               None       16653398   69637090   \n",
       "4                  NaN               None        4016922   69632918   \n",
       "\n",
       "   post_type_id  score  tags view_count  \n",
       "0             2      0  None       None  \n",
       "1             2      0  None       None  \n",
       "2             2      0  None       None  \n",
       "3             2      0  None       None  \n",
       "4             2      0  None       None  "
      ]
     },
     "execution_count": 3,
     "metadata": {},
     "output_type": "execute_result"
    }
   ],
   "source": [
    "# Construct a reference to the \"posts_answers\" table\n",
    "table_ref = dataset_ref.table(\"posts_answers\")\n",
    "\n",
    "# API request - fetch the table\n",
    "table = client.get_table(table_ref)\n",
    "\n",
    "# Preview the first five lines of the table\n",
    "client.list_rows(table, max_results=5).to_dataframe()"
   ]
  },
  {
   "cell_type": "markdown",
   "id": "1588229c",
   "metadata": {
    "papermill": {
     "duration": 0.016586,
     "end_time": "2022-03-25T20:05:25.321773",
     "exception": false,
     "start_time": "2022-03-25T20:05:25.305187",
     "status": "completed"
    },
    "tags": []
   },
   "source": [
    "You will work with both of these tables to answer the questions below.\n",
    "\n",
    "# Exercises\n",
    "\n",
    "### 1) How long does it take for questions to receive answers?\n",
    "\n",
    "You're interested in exploring the data to have a better understanding of how long it generally takes for questions to receive answers.  Armed with this knowledge, you plan to use this information to better design the order in which questions are presented to Stack Overflow users.\n",
    "\n",
    "With this goal in mind, you write the query below, which focuses on questions asked in January 2018.  It returns a table with two columns:\n",
    "- `q_id` - the ID of the question\n",
    "- `time_to_answer` - how long it took (in seconds) for the question to receive an answer\n",
    "\n",
    "Run the query below (without changes), and take a look at the output."
   ]
  },
  {
   "cell_type": "code",
   "execution_count": 4,
   "id": "d0c4741c",
   "metadata": {
    "execution": {
     "iopub.execute_input": "2022-03-25T20:05:25.363856Z",
     "iopub.status.busy": "2022-03-25T20:05:25.363235Z",
     "iopub.status.idle": "2022-03-25T20:05:31.680700Z",
     "shell.execute_reply": "2022-03-25T20:05:31.681150Z",
     "shell.execute_reply.started": "2022-03-25T19:52:45.275801Z"
    },
    "papermill": {
     "duration": 6.342493,
     "end_time": "2022-03-25T20:05:31.681324",
     "exception": false,
     "start_time": "2022-03-25T20:05:25.338831",
     "status": "completed"
    },
    "tags": []
   },
   "outputs": [
    {
     "name": "stderr",
     "output_type": "stream",
     "text": [
      "/opt/conda/lib/python3.7/site-packages/google/cloud/bigquery/client.py:440: UserWarning: Cannot create BigQuery Storage client, the dependency google-cloud-bigquery-storage is not installed.\n",
      "  \"Cannot create BigQuery Storage client, the dependency \"\n"
     ]
    },
    {
     "name": "stdout",
     "output_type": "stream",
     "text": [
      "Percentage of answered questions: 100.0%\n",
      "Number of questions: 134700\n"
     ]
    },
    {
     "data": {
      "text/html": [
       "<div>\n",
       "<style scoped>\n",
       "    .dataframe tbody tr th:only-of-type {\n",
       "        vertical-align: middle;\n",
       "    }\n",
       "\n",
       "    .dataframe tbody tr th {\n",
       "        vertical-align: top;\n",
       "    }\n",
       "\n",
       "    .dataframe thead th {\n",
       "        text-align: right;\n",
       "    }\n",
       "</style>\n",
       "<table border=\"1\" class=\"dataframe\">\n",
       "  <thead>\n",
       "    <tr style=\"text-align: right;\">\n",
       "      <th></th>\n",
       "      <th>q_id</th>\n",
       "      <th>time_to_answer</th>\n",
       "    </tr>\n",
       "  </thead>\n",
       "  <tbody>\n",
       "    <tr>\n",
       "      <th>0</th>\n",
       "      <td>48382183</td>\n",
       "      <td>-132444692</td>\n",
       "    </tr>\n",
       "    <tr>\n",
       "      <th>1</th>\n",
       "      <td>48122871</td>\n",
       "      <td>0</td>\n",
       "    </tr>\n",
       "    <tr>\n",
       "      <th>2</th>\n",
       "      <td>48088669</td>\n",
       "      <td>0</td>\n",
       "    </tr>\n",
       "    <tr>\n",
       "      <th>3</th>\n",
       "      <td>48066866</td>\n",
       "      <td>0</td>\n",
       "    </tr>\n",
       "    <tr>\n",
       "      <th>4</th>\n",
       "      <td>48135427</td>\n",
       "      <td>0</td>\n",
       "    </tr>\n",
       "  </tbody>\n",
       "</table>\n",
       "</div>"
      ],
      "text/plain": [
       "       q_id  time_to_answer\n",
       "0  48382183      -132444692\n",
       "1  48122871               0\n",
       "2  48088669               0\n",
       "3  48066866               0\n",
       "4  48135427               0"
      ]
     },
     "execution_count": 4,
     "metadata": {},
     "output_type": "execute_result"
    }
   ],
   "source": [
    "first_query = \"\"\"\n",
    "              SELECT q.id AS q_id,\n",
    "                  MIN(TIMESTAMP_DIFF(a.creation_date, q.creation_date, SECOND)) as time_to_answer\n",
    "              FROM `bigquery-public-data.stackoverflow.posts_questions` AS q\n",
    "                  INNER JOIN `bigquery-public-data.stackoverflow.posts_answers` AS a\n",
    "              ON q.id = a.parent_id\n",
    "              WHERE q.creation_date >= '2018-01-01' and q.creation_date < '2018-02-01'\n",
    "              GROUP BY q_id\n",
    "              ORDER BY time_to_answer\n",
    "              \"\"\"\n",
    "\n",
    "first_result = client.query(first_query).result().to_dataframe()\n",
    "print(\"Percentage of answered questions: %s%%\" % \\\n",
    "      (sum(first_result[\"time_to_answer\"].notnull()) / len(first_result) * 100))\n",
    "print(\"Number of questions:\", len(first_result))\n",
    "first_result.head()"
   ]
  },
  {
   "cell_type": "markdown",
   "id": "984d80f5",
   "metadata": {
    "papermill": {
     "duration": 0.017729,
     "end_time": "2022-03-25T20:05:31.718389",
     "exception": false,
     "start_time": "2022-03-25T20:05:31.700660",
     "status": "completed"
    },
    "tags": []
   },
   "source": [
    "You're surprised at the results and strongly suspect that something is wrong with your query.  In particular,\n",
    "- According to the query, 100% of the questions from January 2018 received an answer.  But, you know that ~80% of the questions on the site usually receive an answer.\n",
    "- The total number of questions is surprisingly low.  You expected to see at least 150,000 questions represented in the table.\n",
    "\n",
    "Given these observations, you think that the type of **JOIN** you have chosen has inadvertently excluded unanswered questions.  Using the code cell below, can you figure out what type of **JOIN** to use to fix the problem so that the table includes unanswered questions?\n",
    "\n",
    "**Note**: You need only amend the type of **JOIN** (i.e., **INNER**, **LEFT**, **RIGHT**, or **FULL**) to answer the question successfully."
   ]
  },
  {
   "cell_type": "code",
   "execution_count": 5,
   "id": "5e38e4e3",
   "metadata": {
    "execution": {
     "iopub.execute_input": "2022-03-25T20:05:31.762036Z",
     "iopub.status.busy": "2022-03-25T20:05:31.761439Z",
     "iopub.status.idle": "2022-03-25T20:05:43.664969Z",
     "shell.execute_reply": "2022-03-25T20:05:43.665630Z",
     "shell.execute_reply.started": "2022-03-25T19:53:18.862732Z"
    },
    "papermill": {
     "duration": 11.929587,
     "end_time": "2022-03-25T20:05:43.665890",
     "exception": false,
     "start_time": "2022-03-25T20:05:31.736303",
     "status": "completed"
    },
    "tags": []
   },
   "outputs": [
    {
     "name": "stderr",
     "output_type": "stream",
     "text": [
      "/opt/conda/lib/python3.7/site-packages/google/cloud/bigquery/client.py:440: UserWarning: Cannot create BigQuery Storage client, the dependency google-cloud-bigquery-storage is not installed.\n",
      "  \"Cannot create BigQuery Storage client, the dependency \"\n"
     ]
    },
    {
     "data": {
      "text/html": [
       "<div>\n",
       "<style scoped>\n",
       "    .dataframe tbody tr th:only-of-type {\n",
       "        vertical-align: middle;\n",
       "    }\n",
       "\n",
       "    .dataframe tbody tr th {\n",
       "        vertical-align: top;\n",
       "    }\n",
       "\n",
       "    .dataframe thead th {\n",
       "        text-align: right;\n",
       "    }\n",
       "</style>\n",
       "<table border=\"1\" class=\"dataframe\">\n",
       "  <thead>\n",
       "    <tr style=\"text-align: right;\">\n",
       "      <th></th>\n",
       "      <th>q_id</th>\n",
       "      <th>time_to_answer</th>\n",
       "    </tr>\n",
       "  </thead>\n",
       "  <tbody>\n",
       "    <tr>\n",
       "      <th>0</th>\n",
       "      <td>48544598</td>\n",
       "      <td>NaN</td>\n",
       "    </tr>\n",
       "    <tr>\n",
       "      <th>1</th>\n",
       "      <td>48512197</td>\n",
       "      <td>NaN</td>\n",
       "    </tr>\n",
       "    <tr>\n",
       "      <th>2</th>\n",
       "      <td>48488866</td>\n",
       "      <td>NaN</td>\n",
       "    </tr>\n",
       "    <tr>\n",
       "      <th>3</th>\n",
       "      <td>48482583</td>\n",
       "      <td>NaN</td>\n",
       "    </tr>\n",
       "    <tr>\n",
       "      <th>4</th>\n",
       "      <td>48397005</td>\n",
       "      <td>NaN</td>\n",
       "    </tr>\n",
       "  </tbody>\n",
       "</table>\n",
       "</div>"
      ],
      "text/plain": [
       "       q_id  time_to_answer\n",
       "0  48544598             NaN\n",
       "1  48512197             NaN\n",
       "2  48488866             NaN\n",
       "3  48482583             NaN\n",
       "4  48397005             NaN"
      ]
     },
     "metadata": {},
     "output_type": "display_data"
    },
    {
     "data": {
      "application/javascript": [
       "parent.postMessage({\"jupyterEvent\": \"custom.exercise_interaction\", \"data\": {\"outcomeType\": 1, \"valueTowardsCompletion\": 0.25, \"interactionType\": 1, \"questionType\": 2, \"questionId\": \"1_CorrectQuery\", \"learnToolsVersion\": \"0.3.4\", \"failureMessage\": \"\", \"exceptionClass\": \"\", \"trace\": \"\"}}, \"*\")"
      ],
      "text/plain": [
       "<IPython.core.display.Javascript object>"
      ]
     },
     "metadata": {},
     "output_type": "display_data"
    },
    {
     "data": {
      "text/markdown": [
       "<span style=\"color:#33cc33\">Correct</span>"
      ],
      "text/plain": [
       "Correct"
      ]
     },
     "metadata": {},
     "output_type": "display_data"
    },
    {
     "name": "stderr",
     "output_type": "stream",
     "text": [
      "/opt/conda/lib/python3.7/site-packages/google/cloud/bigquery/client.py:440: UserWarning: Cannot create BigQuery Storage client, the dependency google-cloud-bigquery-storage is not installed.\n",
      "  \"Cannot create BigQuery Storage client, the dependency \"\n"
     ]
    },
    {
     "name": "stdout",
     "output_type": "stream",
     "text": [
      "Percentage of answered questions: 83.20053366934737%\n",
      "Number of questions: 161898\n"
     ]
    }
   ],
   "source": [
    "# Your code here\n",
    "correct_query = \"\"\"\n",
    "            SELECT q.id AS q_id,\n",
    "                  MIN(TIMESTAMP_DIFF(a.creation_date, q.creation_date, SECOND)) as time_to_answer\n",
    "              FROM `bigquery-public-data.stackoverflow.posts_questions` AS q\n",
    "                  LEFT JOIN `bigquery-public-data.stackoverflow.posts_answers` AS a\n",
    "              ON q.id = a.parent_id\n",
    "              WHERE q.creation_date >= '2018-01-01' and q.creation_date < '2018-02-01'\n",
    "              GROUP BY q_id\n",
    "              ORDER BY time_to_answer\n",
    "                \"\"\"\n",
    "\n",
    "# Check your answer\n",
    "q_1.check()\n",
    "\n",
    "# Run the query, and return a pandas DataFrame\n",
    "correct_result = client.query(correct_query).result().to_dataframe()\n",
    "print(\"Percentage of answered questions: %s%%\" % \\\n",
    "      (sum(correct_result[\"time_to_answer\"].notnull()) / len(correct_result) * 100))\n",
    "print(\"Number of questions:\", len(correct_result))"
   ]
  },
  {
   "cell_type": "code",
   "execution_count": 6,
   "id": "a4bfbdb7",
   "metadata": {
    "execution": {
     "iopub.execute_input": "2022-03-25T20:05:43.712561Z",
     "iopub.status.busy": "2022-03-25T20:05:43.711710Z",
     "iopub.status.idle": "2022-03-25T20:05:43.714643Z",
     "shell.execute_reply": "2022-03-25T20:05:43.714153Z"
    },
    "papermill": {
     "duration": 0.026945,
     "end_time": "2022-03-25T20:05:43.714768",
     "exception": false,
     "start_time": "2022-03-25T20:05:43.687823",
     "status": "completed"
    },
    "tags": []
   },
   "outputs": [],
   "source": [
    "# Lines below will give you a hint or solution code\n",
    "#q_1.hint()\n",
    "#q_1.solution()"
   ]
  },
  {
   "cell_type": "markdown",
   "id": "77f1ae36",
   "metadata": {
    "papermill": {
     "duration": 0.0216,
     "end_time": "2022-03-25T20:05:43.756919",
     "exception": false,
     "start_time": "2022-03-25T20:05:43.735319",
     "status": "completed"
    },
    "tags": []
   },
   "source": [
    "### 2) Initial questions and answers, Part 1\n",
    "\n",
    "You're interested in understanding the initial experiences that users typically have with the Stack Overflow website.  Is it more common for users to first ask questions or provide answers?  After signing up, how long does it take for users to first interact with the website?  To explore this further, you draft the (partial) query in the code cell below.\n",
    "\n",
    "The query returns a table with three columns:\n",
    "- `owner_user_id` - the user ID\n",
    "- `q_creation_date` - the first time the user asked a question \n",
    "- `a_creation_date` - the first time the user contributed an answer \n",
    "\n",
    "You want to keep track of users who have asked questions, but have yet to provide answers.  And, your table should also include users who have answered questions, but have yet to pose their own questions.  \n",
    "\n",
    "With this in mind, please fill in the appropriate **JOIN** (i.e., **INNER**, **LEFT**, **RIGHT**, or **FULL**) to return the correct information.  \n",
    "\n",
    "**Note**: You need only fill in the appropriate **JOIN**.  All other parts of the query should be left as-is.  (You also don't need to write any additional code to run the query, since the `check()` method will take care of this for you.)\n",
    "\n",
    "To avoid returning too much data, we'll restrict our attention to questions and answers posed in January 2019.  We'll amend the timeframe in Part 2 of this question to be more realistic!"
   ]
  },
  {
   "cell_type": "code",
   "execution_count": 7,
   "id": "ec357d36",
   "metadata": {
    "execution": {
     "iopub.execute_input": "2022-03-25T20:05:43.804971Z",
     "iopub.status.busy": "2022-03-25T20:05:43.804333Z",
     "iopub.status.idle": "2022-03-25T20:05:46.332278Z",
     "shell.execute_reply": "2022-03-25T20:05:46.331667Z",
     "shell.execute_reply.started": "2022-03-25T19:53:59.978986Z"
    },
    "papermill": {
     "duration": 2.555117,
     "end_time": "2022-03-25T20:05:46.332411",
     "exception": false,
     "start_time": "2022-03-25T20:05:43.777294",
     "status": "completed"
    },
    "tags": []
   },
   "outputs": [
    {
     "data": {
      "text/html": [
       "<div>\n",
       "<style scoped>\n",
       "    .dataframe tbody tr th:only-of-type {\n",
       "        vertical-align: middle;\n",
       "    }\n",
       "\n",
       "    .dataframe tbody tr th {\n",
       "        vertical-align: top;\n",
       "    }\n",
       "\n",
       "    .dataframe thead th {\n",
       "        text-align: right;\n",
       "    }\n",
       "</style>\n",
       "<table border=\"1\" class=\"dataframe\">\n",
       "  <thead>\n",
       "    <tr style=\"text-align: right;\">\n",
       "      <th></th>\n",
       "      <th>owner_user_id</th>\n",
       "      <th>q_creation_date</th>\n",
       "      <th>a_creation_date</th>\n",
       "    </tr>\n",
       "  </thead>\n",
       "  <tbody>\n",
       "    <tr>\n",
       "      <th>0</th>\n",
       "      <td>2346731</td>\n",
       "      <td>2019-01-17 17:30:37.507000+00:00</td>\n",
       "      <td>2019-01-01 05:23:00.653000+00:00</td>\n",
       "    </tr>\n",
       "    <tr>\n",
       "      <th>1</th>\n",
       "      <td>4527628</td>\n",
       "      <td>2019-01-14 05:08:07.400000+00:00</td>\n",
       "      <td>2019-01-01 06:32:25.467000+00:00</td>\n",
       "    </tr>\n",
       "    <tr>\n",
       "      <th>2</th>\n",
       "      <td>1034637</td>\n",
       "      <td>2019-01-14 22:37:47.517000+00:00</td>\n",
       "      <td>2019-01-01 07:04:37.627000+00:00</td>\n",
       "    </tr>\n",
       "    <tr>\n",
       "      <th>3</th>\n",
       "      <td>6530785</td>\n",
       "      <td>2019-01-01 06:59:14.123000+00:00</td>\n",
       "      <td>2019-01-01 08:52:27.940000+00:00</td>\n",
       "    </tr>\n",
       "    <tr>\n",
       "      <th>4</th>\n",
       "      <td>9299259</td>\n",
       "      <td>2019-01-04 13:35:21.653000+00:00</td>\n",
       "      <td>2019-01-01 11:45:26.073000+00:00</td>\n",
       "    </tr>\n",
       "  </tbody>\n",
       "</table>\n",
       "</div>"
      ],
      "text/plain": [
       "   owner_user_id                  q_creation_date  \\\n",
       "0        2346731 2019-01-17 17:30:37.507000+00:00   \n",
       "1        4527628 2019-01-14 05:08:07.400000+00:00   \n",
       "2        1034637 2019-01-14 22:37:47.517000+00:00   \n",
       "3        6530785 2019-01-01 06:59:14.123000+00:00   \n",
       "4        9299259 2019-01-04 13:35:21.653000+00:00   \n",
       "\n",
       "                   a_creation_date  \n",
       "0 2019-01-01 05:23:00.653000+00:00  \n",
       "1 2019-01-01 06:32:25.467000+00:00  \n",
       "2 2019-01-01 07:04:37.627000+00:00  \n",
       "3 2019-01-01 08:52:27.940000+00:00  \n",
       "4 2019-01-01 11:45:26.073000+00:00  "
      ]
     },
     "metadata": {},
     "output_type": "display_data"
    },
    {
     "data": {
      "application/javascript": [
       "parent.postMessage({\"jupyterEvent\": \"custom.exercise_interaction\", \"data\": {\"outcomeType\": 1, \"valueTowardsCompletion\": 0.25, \"interactionType\": 1, \"questionType\": 2, \"questionId\": \"2_QA_One\", \"learnToolsVersion\": \"0.3.4\", \"failureMessage\": \"\", \"exceptionClass\": \"\", \"trace\": \"\"}}, \"*\")"
      ],
      "text/plain": [
       "<IPython.core.display.Javascript object>"
      ]
     },
     "metadata": {},
     "output_type": "display_data"
    },
    {
     "data": {
      "text/markdown": [
       "<span style=\"color:#33cc33\">Correct</span>"
      ],
      "text/plain": [
       "Correct"
      ]
     },
     "metadata": {},
     "output_type": "display_data"
    }
   ],
   "source": [
    "# Your code here\n",
    "q_and_a_query = \"\"\"\n",
    "                SELECT q.owner_user_id AS owner_user_id,\n",
    "                    MIN(q.creation_date) AS q_creation_date,\n",
    "                    MIN(a.creation_date) AS a_creation_date\n",
    "                FROM `bigquery-public-data.stackoverflow.posts_questions` AS q\n",
    "                    FULL JOIN `bigquery-public-data.stackoverflow.posts_answers` AS a\n",
    "                ON q.owner_user_id = a.owner_user_id \n",
    "                WHERE q.creation_date >= '2019-01-01' AND q.creation_date < '2019-02-01' \n",
    "                    AND a.creation_date >= '2019-01-01' AND a.creation_date < '2019-02-01'\n",
    "                GROUP BY owner_user_id\n",
    "                \"\"\"\n",
    "\n",
    "# Check your answer\n",
    "q_2.check()"
   ]
  },
  {
   "cell_type": "code",
   "execution_count": 8,
   "id": "2f69367b",
   "metadata": {
    "execution": {
     "iopub.execute_input": "2022-03-25T20:05:46.381317Z",
     "iopub.status.busy": "2022-03-25T20:05:46.380283Z",
     "iopub.status.idle": "2022-03-25T20:05:46.383359Z",
     "shell.execute_reply": "2022-03-25T20:05:46.382743Z"
    },
    "papermill": {
     "duration": 0.02908,
     "end_time": "2022-03-25T20:05:46.383507",
     "exception": false,
     "start_time": "2022-03-25T20:05:46.354427",
     "status": "completed"
    },
    "tags": []
   },
   "outputs": [],
   "source": [
    "# Lines below will give you a hint or solution code\n",
    "#q_2.hint()\n",
    "#q_2.solution()"
   ]
  },
  {
   "cell_type": "markdown",
   "id": "fa6e0256",
   "metadata": {
    "papermill": {
     "duration": 0.021954,
     "end_time": "2022-03-25T20:05:46.430417",
     "exception": false,
     "start_time": "2022-03-25T20:05:46.408463",
     "status": "completed"
    },
    "tags": []
   },
   "source": [
    "### 3) Initial questions and answers, Part 2\n",
    "\n",
    "Now you'll address a more realistic (and complex!) scenario.  To answer this question, you'll need to pull information from *three* different tables!  This syntax very similar to the case when we have to join only two tables.  For instance, consider the three tables below.\n",
    "\n",
    "![three tables](https://i.imgur.com/OyhYtD1.png)\n",
    "\n",
    "We can use two different **JOINs** to link together information from all three tables, in a single query.\n",
    "\n",
    "![double join](https://i.imgur.com/G6buS7P.png)\n",
    "\n",
    "With this in mind, say you're interested in understanding users who joined the site in January 2019.  You want to track their activity on the site: when did they post their first questions and answers, if ever?\n",
    "\n",
    "Write a query that returns the following columns:\n",
    "- `id` - the IDs of all users who created Stack Overflow accounts in January 2019 (January 1, 2019, to January 31, 2019, inclusive)\n",
    "- `q_creation_date` - the first time the user posted a question on the site; if the user has never posted a question, the value should be null\n",
    "- `a_creation_date` - the first time the user posted a question on the site; if the user has never posted a question, the value should be null\n",
    "\n",
    "Note that questions and answers posted after January 31, 2019, should still be included in the results.  And, all users who joined the site in January 2019 should be included (even if they have never posted a question or provided an answer).\n",
    "\n",
    "The query from the previous question should be a nice starting point to answering this question!  You'll need to use the `posts_answers` and `posts_questions` tables.  You'll also need to use the `users` table from the Stack Overflow dataset.  The relevant columns from the `users` table are `id` (the ID of each user) and `creation_date` (when the user joined the Stack Overflow site, in DATETIME format)."
   ]
  },
  {
   "cell_type": "code",
   "execution_count": 9,
   "id": "d50e56e6",
   "metadata": {
    "execution": {
     "iopub.execute_input": "2022-03-25T20:05:46.482552Z",
     "iopub.status.busy": "2022-03-25T20:05:46.481944Z",
     "iopub.status.idle": "2022-03-25T20:05:52.573720Z",
     "shell.execute_reply": "2022-03-25T20:05:52.574180Z",
     "shell.execute_reply.started": "2022-03-25T20:04:04.778264Z"
    },
    "papermill": {
     "duration": 6.12179,
     "end_time": "2022-03-25T20:05:52.574348",
     "exception": false,
     "start_time": "2022-03-25T20:05:46.452558",
     "status": "completed"
    },
    "tags": []
   },
   "outputs": [
    {
     "name": "stderr",
     "output_type": "stream",
     "text": [
      "/opt/conda/lib/python3.7/site-packages/google/cloud/bigquery/client.py:440: UserWarning: Cannot create BigQuery Storage client, the dependency google-cloud-bigquery-storage is not installed.\n",
      "  \"Cannot create BigQuery Storage client, the dependency \"\n"
     ]
    },
    {
     "data": {
      "text/html": [
       "<div>\n",
       "<style scoped>\n",
       "    .dataframe tbody tr th:only-of-type {\n",
       "        vertical-align: middle;\n",
       "    }\n",
       "\n",
       "    .dataframe tbody tr th {\n",
       "        vertical-align: top;\n",
       "    }\n",
       "\n",
       "    .dataframe thead th {\n",
       "        text-align: right;\n",
       "    }\n",
       "</style>\n",
       "<table border=\"1\" class=\"dataframe\">\n",
       "  <thead>\n",
       "    <tr style=\"text-align: right;\">\n",
       "      <th></th>\n",
       "      <th>id</th>\n",
       "      <th>q_creation_date</th>\n",
       "      <th>a_creation_date</th>\n",
       "    </tr>\n",
       "  </thead>\n",
       "  <tbody>\n",
       "    <tr>\n",
       "      <th>0</th>\n",
       "      <td>10905738</td>\n",
       "      <td>NaT</td>\n",
       "      <td>NaT</td>\n",
       "    </tr>\n",
       "    <tr>\n",
       "      <th>1</th>\n",
       "      <td>10873797</td>\n",
       "      <td>2020-01-12 04:56:35.563000+00:00</td>\n",
       "      <td>2019-01-06 05:25:30.560000+00:00</td>\n",
       "    </tr>\n",
       "    <tr>\n",
       "      <th>2</th>\n",
       "      <td>10935074</td>\n",
       "      <td>NaT</td>\n",
       "      <td>NaT</td>\n",
       "    </tr>\n",
       "    <tr>\n",
       "      <th>3</th>\n",
       "      <td>10984584</td>\n",
       "      <td>NaT</td>\n",
       "      <td>NaT</td>\n",
       "    </tr>\n",
       "    <tr>\n",
       "      <th>4</th>\n",
       "      <td>10985070</td>\n",
       "      <td>2019-01-30 20:18:31.773000+00:00</td>\n",
       "      <td>NaT</td>\n",
       "    </tr>\n",
       "  </tbody>\n",
       "</table>\n",
       "</div>"
      ],
      "text/plain": [
       "         id                  q_creation_date                  a_creation_date\n",
       "0  10905738                              NaT                              NaT\n",
       "1  10873797 2020-01-12 04:56:35.563000+00:00 2019-01-06 05:25:30.560000+00:00\n",
       "2  10935074                              NaT                              NaT\n",
       "3  10984584                              NaT                              NaT\n",
       "4  10985070 2019-01-30 20:18:31.773000+00:00                              NaT"
      ]
     },
     "metadata": {},
     "output_type": "display_data"
    },
    {
     "data": {
      "application/javascript": [
       "parent.postMessage({\"jupyterEvent\": \"custom.exercise_interaction\", \"data\": {\"outcomeType\": 1, \"valueTowardsCompletion\": 0.25, \"interactionType\": 1, \"questionType\": 2, \"questionId\": \"3_QA_Two\", \"learnToolsVersion\": \"0.3.4\", \"failureMessage\": \"\", \"exceptionClass\": \"\", \"trace\": \"\"}}, \"*\")"
      ],
      "text/plain": [
       "<IPython.core.display.Javascript object>"
      ]
     },
     "metadata": {},
     "output_type": "display_data"
    },
    {
     "data": {
      "text/markdown": [
       "<span style=\"color:#33cc33\">Correct</span>"
      ],
      "text/plain": [
       "Correct"
      ]
     },
     "metadata": {},
     "output_type": "display_data"
    }
   ],
   "source": [
    "# Your code here\n",
    "three_tables_query = \"\"\"\n",
    "                        SELECT u.id AS id,\n",
    "                         MIN(q.creation_date) AS q_creation_date,\n",
    "                         MIN(a.creation_date) AS a_creation_date\n",
    "                         FROM `bigquery-public-data.stackoverflow.users` AS u\n",
    "                         LEFT JOIN `bigquery-public-data.stackoverflow.posts_answers` AS a\n",
    "                             ON u.id = a.owner_user_id\n",
    "                         LEFT JOIN `bigquery-public-data.stackoverflow.posts_questions` AS q\n",
    "                             ON q.owner_user_id = u.id\n",
    "                         WHERE u.creation_date >= '2019-01-01' and u.creation_date < '2019-02-01'\n",
    "                         GROUP BY id\n",
    "                     \"\"\"\n",
    "\n",
    "# Check your answer\n",
    "q_3.check()"
   ]
  },
  {
   "cell_type": "code",
   "execution_count": 10,
   "id": "f56cfa6e",
   "metadata": {
    "execution": {
     "iopub.execute_input": "2022-03-25T20:05:52.628128Z",
     "iopub.status.busy": "2022-03-25T20:05:52.627399Z",
     "iopub.status.idle": "2022-03-25T20:05:52.630075Z",
     "shell.execute_reply": "2022-03-25T20:05:52.629618Z",
     "shell.execute_reply.started": "2022-03-25T20:04:38.086289Z"
    },
    "papermill": {
     "duration": 0.031496,
     "end_time": "2022-03-25T20:05:52.630211",
     "exception": false,
     "start_time": "2022-03-25T20:05:52.598715",
     "status": "completed"
    },
    "tags": []
   },
   "outputs": [],
   "source": [
    "# Lines below will give you a hint or solution code\n",
    "#q_3.hint()\n",
    "#q_3.solution()"
   ]
  },
  {
   "cell_type": "markdown",
   "id": "018f0903",
   "metadata": {
    "papermill": {
     "duration": 0.023789,
     "end_time": "2022-03-25T20:05:52.678787",
     "exception": false,
     "start_time": "2022-03-25T20:05:52.654998",
     "status": "completed"
    },
    "tags": []
   },
   "source": [
    "### 4) How many distinct users posted on January 1, 2019?\n",
    "\n",
    "In the code cell below, write a query that returns a table with a single column:\n",
    "- `owner_user_id` - the IDs of all users who posted at least one question or answer on January 1, 2019.  Each user ID should appear at most once.\n",
    "\n",
    "In the `posts_questions` (and `posts_answers`) tables, you can get the ID of the original poster from the `owner_user_id` column.  Likewise, the date of the original posting can be found in the `creation_date` column.  \n",
    "\n",
    "In order for your answer to be marked correct, your query must use a **UNION**."
   ]
  },
  {
   "cell_type": "code",
   "execution_count": 11,
   "id": "8cb3f001",
   "metadata": {
    "execution": {
     "iopub.execute_input": "2022-03-25T20:05:52.734110Z",
     "iopub.status.busy": "2022-03-25T20:05:52.733494Z",
     "iopub.status.idle": "2022-03-25T20:05:53.059773Z",
     "shell.execute_reply": "2022-03-25T20:05:53.060217Z"
    },
    "papermill": {
     "duration": 0.357536,
     "end_time": "2022-03-25T20:05:53.060389",
     "exception": false,
     "start_time": "2022-03-25T20:05:52.702853",
     "status": "completed"
    },
    "tags": []
   },
   "outputs": [
    {
     "data": {
      "application/javascript": [
       "parent.postMessage({\"jupyterEvent\": \"custom.exercise_interaction\", \"data\": {\"outcomeType\": 2, \"failureMessage\": \"You don't have a valid query yet.  Try again.\", \"interactionType\": 1, \"questionType\": 2, \"questionId\": \"4_AllUsers\", \"learnToolsVersion\": \"0.3.4\", \"valueTowardsCompletion\": 0.0, \"exceptionClass\": \"\", \"trace\": \"\"}}, \"*\")"
      ],
      "text/plain": [
       "<IPython.core.display.Javascript object>"
      ]
     },
     "metadata": {},
     "output_type": "display_data"
    },
    {
     "data": {
      "text/markdown": [
       "<span style=\"color:#cc3333\">Incorrect:</span> You don't have a valid query yet.  Try again."
      ],
      "text/plain": [
       "Incorrect: You don't have a valid query yet.  Try again."
      ]
     },
     "metadata": {},
     "output_type": "display_data"
    }
   ],
   "source": [
    "# Your code here\n",
    "all_users_query = \"\"\"\n",
    "                  \"\"\"\n",
    "\n",
    "# Check your answer\n",
    "q_4.check()"
   ]
  },
  {
   "cell_type": "code",
   "execution_count": 12,
   "id": "61d81e50",
   "metadata": {
    "execution": {
     "iopub.execute_input": "2022-03-25T20:05:53.116268Z",
     "iopub.status.busy": "2022-03-25T20:05:53.115272Z",
     "iopub.status.idle": "2022-03-25T20:05:53.118041Z",
     "shell.execute_reply": "2022-03-25T20:05:53.117479Z"
    },
    "papermill": {
     "duration": 0.032129,
     "end_time": "2022-03-25T20:05:53.118173",
     "exception": false,
     "start_time": "2022-03-25T20:05:53.086044",
     "status": "completed"
    },
    "tags": []
   },
   "outputs": [],
   "source": [
    "# Lines below will give you a hint or solution code\n",
    "#q_4.hint()\n",
    "#q_4.solution()"
   ]
  },
  {
   "cell_type": "markdown",
   "id": "897eb293",
   "metadata": {
    "papermill": {
     "duration": 0.025161,
     "end_time": "2022-03-25T20:05:53.170230",
     "exception": false,
     "start_time": "2022-03-25T20:05:53.145069",
     "status": "completed"
    },
    "tags": []
   },
   "source": [
    "# Keep going\n",
    "\n",
    "Learn how to use **[analytic functions](https://www.kaggle.com/alexisbcook/analytic-functions)** to perform complex calculations with minimal SQL code."
   ]
  },
  {
   "cell_type": "markdown",
   "id": "79e68a3d",
   "metadata": {
    "papermill": {
     "duration": 0.024771,
     "end_time": "2022-03-25T20:05:53.220399",
     "exception": false,
     "start_time": "2022-03-25T20:05:53.195628",
     "status": "completed"
    },
    "tags": []
   },
   "source": [
    "---\n",
    "\n",
    "\n",
    "\n",
    "\n",
    "*Have questions or comments? Visit the [course discussion forum](https://www.kaggle.com/learn/advanced-sql/discussion) to chat with other learners.*"
   ]
  }
 ],
 "metadata": {
  "kernelspec": {
   "display_name": "Python 3",
   "language": "python",
   "name": "python3"
  },
  "language_info": {
   "codemirror_mode": {
    "name": "ipython",
    "version": 3
   },
   "file_extension": ".py",
   "mimetype": "text/x-python",
   "name": "python",
   "nbconvert_exporter": "python",
   "pygments_lexer": "ipython3",
   "version": "3.7.12"
  },
  "papermill": {
   "default_parameters": {},
   "duration": 55.728533,
   "end_time": "2022-03-25T20:05:53.855965",
   "environment_variables": {},
   "exception": null,
   "input_path": "__notebook__.ipynb",
   "output_path": "__notebook__.ipynb",
   "parameters": {},
   "start_time": "2022-03-25T20:04:58.127432",
   "version": "2.3.3"
  }
 },
 "nbformat": 4,
 "nbformat_minor": 5
}
