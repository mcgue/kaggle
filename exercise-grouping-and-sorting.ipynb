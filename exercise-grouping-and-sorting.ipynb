{
 "cells": [
  {
   "cell_type": "markdown",
   "id": "145ec73f",
   "metadata": {
    "papermill": {
     "duration": 0.028335,
     "end_time": "2022-03-14T21:19:46.525053",
     "exception": false,
     "start_time": "2022-03-14T21:19:46.496718",
     "status": "completed"
    },
    "tags": []
   },
   "source": [
    "**This notebook is an exercise in the [Pandas](https://www.kaggle.com/learn/pandas) course.  You can reference the tutorial at [this link](https://www.kaggle.com/residentmario/grouping-and-sorting).**\n",
    "\n",
    "---\n"
   ]
  },
  {
   "cell_type": "markdown",
   "id": "43d05e71",
   "metadata": {
    "papermill": {
     "duration": 0.027107,
     "end_time": "2022-03-14T21:19:46.580228",
     "exception": false,
     "start_time": "2022-03-14T21:19:46.553121",
     "status": "completed"
    },
    "tags": []
   },
   "source": [
    "# Introduction\n",
    "\n",
    "In these exercises we'll apply groupwise analysis to our dataset.\n",
    "\n",
    "Run the code cell below to load the data before running the exercises."
   ]
  },
  {
   "cell_type": "code",
   "execution_count": 1,
   "id": "f523596b",
   "metadata": {
    "execution": {
     "iopub.execute_input": "2022-03-14T21:19:46.640953Z",
     "iopub.status.busy": "2022-03-14T21:19:46.639679Z",
     "iopub.status.idle": "2022-03-14T21:19:49.420545Z",
     "shell.execute_reply": "2022-03-14T21:19:49.419882Z",
     "shell.execute_reply.started": "2022-03-14T20:59:15.262911Z"
    },
    "papermill": {
     "duration": 2.812439,
     "end_time": "2022-03-14T21:19:49.420765",
     "exception": false,
     "start_time": "2022-03-14T21:19:46.608326",
     "status": "completed"
    },
    "tags": []
   },
   "outputs": [
    {
     "name": "stdout",
     "output_type": "stream",
     "text": [
      "Setup complete.\n"
     ]
    }
   ],
   "source": [
    "import pandas as pd\n",
    "\n",
    "reviews = pd.read_csv(\"../input/wine-reviews/winemag-data-130k-v2.csv\", index_col=0)\n",
    "#pd.set_option(\"display.max_rows\", 5)\n",
    "\n",
    "from learntools.core import binder; binder.bind(globals())\n",
    "from learntools.pandas.grouping_and_sorting import *\n",
    "print(\"Setup complete.\")"
   ]
  },
  {
   "cell_type": "markdown",
   "id": "44717376",
   "metadata": {
    "papermill": {
     "duration": 0.028109,
     "end_time": "2022-03-14T21:19:49.476833",
     "exception": false,
     "start_time": "2022-03-14T21:19:49.448724",
     "status": "completed"
    },
    "tags": []
   },
   "source": [
    "# Exercises"
   ]
  },
  {
   "cell_type": "markdown",
   "id": "27680ee3",
   "metadata": {
    "papermill": {
     "duration": 0.031276,
     "end_time": "2022-03-14T21:19:49.535734",
     "exception": false,
     "start_time": "2022-03-14T21:19:49.504458",
     "status": "completed"
    },
    "tags": []
   },
   "source": [
    "## 1.\n",
    "Who are the most common wine reviewers in the dataset? Create a `Series` whose index is the `taster_twitter_handle` category from the dataset, and whose values count how many reviews each person wrote."
   ]
  },
  {
   "cell_type": "code",
   "execution_count": 2,
   "id": "d5d5ddd7",
   "metadata": {
    "execution": {
     "iopub.execute_input": "2022-03-14T21:19:49.602840Z",
     "iopub.status.busy": "2022-03-14T21:19:49.601532Z",
     "iopub.status.idle": "2022-03-14T21:19:49.618043Z",
     "shell.execute_reply": "2022-03-14T21:19:49.618569Z",
     "shell.execute_reply.started": "2022-03-14T21:08:16.914999Z"
    },
    "papermill": {
     "duration": 0.053916,
     "end_time": "2022-03-14T21:19:49.618761",
     "exception": false,
     "start_time": "2022-03-14T21:19:49.564845",
     "status": "completed"
    },
    "tags": []
   },
   "outputs": [
    {
     "data": {
      "application/javascript": [
       "parent.postMessage({\"jupyterEvent\": \"custom.exercise_interaction\", \"data\": {\"outcomeType\": 1, \"valueTowardsCompletion\": 0.16666666666666666, \"interactionType\": 1, \"questionType\": 1, \"questionId\": \"1_ReviewsWritten\", \"learnToolsVersion\": \"0.3.4\", \"failureMessage\": \"\", \"exceptionClass\": \"\", \"trace\": \"\"}}, \"*\")"
      ],
      "text/plain": [
       "<IPython.core.display.Javascript object>"
      ]
     },
     "metadata": {},
     "output_type": "display_data"
    },
    {
     "data": {
      "text/markdown": [
       "<span style=\"color:#33cc33\">Correct:</span> \n",
       "\n",
       "\n",
       "```python\n",
       "reviews_written = reviews.groupby('taster_twitter_handle').size()\n",
       "```\n",
       "or\n",
       "```python\n",
       "reviews_written = reviews.groupby('taster_twitter_handle').taster_twitter_handle.count()\n",
       "```\n"
      ],
      "text/plain": [
       "Correct: \n",
       "\n",
       "\n",
       "```python\n",
       "reviews_written = reviews.groupby('taster_twitter_handle').size()\n",
       "```\n",
       "or\n",
       "```python\n",
       "reviews_written = reviews.groupby('taster_twitter_handle').taster_twitter_handle.count()\n",
       "```"
      ]
     },
     "metadata": {},
     "output_type": "display_data"
    }
   ],
   "source": [
    "# Your code here\n",
    "reviews_written = reviews.groupby('taster_twitter_handle').points.count()\n",
    "\n",
    "# Check your answer\n",
    "q1.check()"
   ]
  },
  {
   "cell_type": "code",
   "execution_count": 3,
   "id": "9e7964b3",
   "metadata": {
    "execution": {
     "iopub.execute_input": "2022-03-14T21:19:49.683822Z",
     "iopub.status.busy": "2022-03-14T21:19:49.683147Z",
     "iopub.status.idle": "2022-03-14T21:19:49.685584Z",
     "shell.execute_reply": "2022-03-14T21:19:49.686240Z"
    },
    "papermill": {
     "duration": 0.036346,
     "end_time": "2022-03-14T21:19:49.686443",
     "exception": false,
     "start_time": "2022-03-14T21:19:49.650097",
     "status": "completed"
    },
    "tags": []
   },
   "outputs": [],
   "source": [
    "#q1.hint()\n",
    "#q1.solution()"
   ]
  },
  {
   "cell_type": "markdown",
   "id": "9d2ef578",
   "metadata": {
    "papermill": {
     "duration": 0.028987,
     "end_time": "2022-03-14T21:19:49.744979",
     "exception": false,
     "start_time": "2022-03-14T21:19:49.715992",
     "status": "completed"
    },
    "tags": []
   },
   "source": [
    "## 2.\n",
    "What is the best wine I can buy for a given amount of money? Create a `Series` whose index is wine prices and whose values is the maximum number of points a wine costing that much was given in a review. Sort the values by price, ascending (so that `4.0` dollars is at the top and `3300.0` dollars is at the bottom)."
   ]
  },
  {
   "cell_type": "code",
   "execution_count": 4,
   "id": "b7111e24",
   "metadata": {
    "execution": {
     "iopub.execute_input": "2022-03-14T21:19:49.809187Z",
     "iopub.status.busy": "2022-03-14T21:19:49.808471Z",
     "iopub.status.idle": "2022-03-14T21:19:49.825165Z",
     "shell.execute_reply": "2022-03-14T21:19:49.824338Z",
     "shell.execute_reply.started": "2022-03-14T21:11:08.027391Z"
    },
    "papermill": {
     "duration": 0.050875,
     "end_time": "2022-03-14T21:19:49.825311",
     "exception": false,
     "start_time": "2022-03-14T21:19:49.774436",
     "status": "completed"
    },
    "tags": []
   },
   "outputs": [
    {
     "name": "stdout",
     "output_type": "stream",
     "text": [
      "price\n",
      "4.0       86\n",
      "5.0       87\n",
      "6.0       88\n",
      "7.0       91\n",
      "8.0       91\n",
      "          ..\n",
      "1900.0    98\n",
      "2000.0    97\n",
      "2013.0    91\n",
      "2500.0    96\n",
      "3300.0    88\n",
      "Name: points, Length: 390, dtype: int64\n"
     ]
    },
    {
     "data": {
      "application/javascript": [
       "parent.postMessage({\"jupyterEvent\": \"custom.exercise_interaction\", \"data\": {\"outcomeType\": 1, \"valueTowardsCompletion\": 0.16666666666666666, \"interactionType\": 1, \"questionType\": 1, \"questionId\": \"2_BestRatingPerPrice\", \"learnToolsVersion\": \"0.3.4\", \"failureMessage\": \"\", \"exceptionClass\": \"\", \"trace\": \"\"}}, \"*\")"
      ],
      "text/plain": [
       "<IPython.core.display.Javascript object>"
      ]
     },
     "metadata": {},
     "output_type": "display_data"
    },
    {
     "data": {
      "text/markdown": [
       "<span style=\"color:#33cc33\">Correct</span>"
      ],
      "text/plain": [
       "Correct"
      ]
     },
     "metadata": {},
     "output_type": "display_data"
    }
   ],
   "source": [
    "best_rating_per_price = reviews.groupby('price').points.max()\n",
    "print(best_rating_per_price)\n",
    "\n",
    "# Check your answer\n",
    "q2.check()"
   ]
  },
  {
   "cell_type": "code",
   "execution_count": 5,
   "id": "4cfe2292",
   "metadata": {
    "execution": {
     "iopub.execute_input": "2022-03-14T21:19:49.894660Z",
     "iopub.status.busy": "2022-03-14T21:19:49.893904Z",
     "iopub.status.idle": "2022-03-14T21:19:49.896241Z",
     "shell.execute_reply": "2022-03-14T21:19:49.896852Z"
    },
    "papermill": {
     "duration": 0.040451,
     "end_time": "2022-03-14T21:19:49.897024",
     "exception": false,
     "start_time": "2022-03-14T21:19:49.856573",
     "status": "completed"
    },
    "tags": []
   },
   "outputs": [],
   "source": [
    "#q2.hint()\n",
    "#q2.solution()"
   ]
  },
  {
   "cell_type": "markdown",
   "id": "c868bd2f",
   "metadata": {
    "papermill": {
     "duration": 0.031118,
     "end_time": "2022-03-14T21:19:49.958848",
     "exception": false,
     "start_time": "2022-03-14T21:19:49.927730",
     "status": "completed"
    },
    "tags": []
   },
   "source": [
    "## 3.\n",
    "What are the minimum and maximum prices for each `variety` of wine? Create a `DataFrame` whose index is the `variety` category from the dataset and whose values are the `min` and `max` values thereof."
   ]
  },
  {
   "cell_type": "code",
   "execution_count": 6,
   "id": "0437ceef",
   "metadata": {
    "execution": {
     "iopub.execute_input": "2022-03-14T21:19:50.038759Z",
     "iopub.status.busy": "2022-03-14T21:19:50.025735Z",
     "iopub.status.idle": "2022-03-14T21:19:50.049051Z",
     "shell.execute_reply": "2022-03-14T21:19:50.049661Z",
     "shell.execute_reply.started": "2022-03-14T21:13:24.013433Z"
    },
    "papermill": {
     "duration": 0.059898,
     "end_time": "2022-03-14T21:19:50.049865",
     "exception": false,
     "start_time": "2022-03-14T21:19:49.989967",
     "status": "completed"
    },
    "tags": []
   },
   "outputs": [
    {
     "data": {
      "application/javascript": [
       "parent.postMessage({\"jupyterEvent\": \"custom.exercise_interaction\", \"data\": {\"outcomeType\": 1, \"valueTowardsCompletion\": 0.16666666666666666, \"interactionType\": 1, \"questionType\": 1, \"questionId\": \"3_PriceExtremes\", \"learnToolsVersion\": \"0.3.4\", \"failureMessage\": \"\", \"exceptionClass\": \"\", \"trace\": \"\"}}, \"*\")"
      ],
      "text/plain": [
       "<IPython.core.display.Javascript object>"
      ]
     },
     "metadata": {},
     "output_type": "display_data"
    },
    {
     "data": {
      "text/markdown": [
       "<span style=\"color:#33cc33\">Correct</span>"
      ],
      "text/plain": [
       "Correct"
      ]
     },
     "metadata": {},
     "output_type": "display_data"
    }
   ],
   "source": [
    "price_extremes = reviews.groupby('variety').price.agg([min, max])\n",
    "\n",
    "# Check your answer\n",
    "q3.check()"
   ]
  },
  {
   "cell_type": "code",
   "execution_count": 7,
   "id": "a4454aa1",
   "metadata": {
    "execution": {
     "iopub.execute_input": "2022-03-14T21:19:50.124364Z",
     "iopub.status.busy": "2022-03-14T21:19:50.123681Z",
     "iopub.status.idle": "2022-03-14T21:19:50.126059Z",
     "shell.execute_reply": "2022-03-14T21:19:50.126582Z"
    },
    "papermill": {
     "duration": 0.042361,
     "end_time": "2022-03-14T21:19:50.126798",
     "exception": false,
     "start_time": "2022-03-14T21:19:50.084437",
     "status": "completed"
    },
    "tags": []
   },
   "outputs": [],
   "source": [
    "#q3.hint()\n",
    "#q3.solution()"
   ]
  },
  {
   "cell_type": "markdown",
   "id": "5cd6123a",
   "metadata": {
    "papermill": {
     "duration": 0.032336,
     "end_time": "2022-03-14T21:19:50.192348",
     "exception": false,
     "start_time": "2022-03-14T21:19:50.160012",
     "status": "completed"
    },
    "tags": []
   },
   "source": [
    "## 4.\n",
    "What are the most expensive wine varieties? Create a variable `sorted_varieties` containing a copy of the dataframe from the previous question where varieties are sorted in descending order based on minimum price, then on maximum price (to break ties)."
   ]
  },
  {
   "cell_type": "code",
   "execution_count": 8,
   "id": "0f672c5a",
   "metadata": {
    "execution": {
     "iopub.execute_input": "2022-03-14T21:19:50.264975Z",
     "iopub.status.busy": "2022-03-14T21:19:50.264186Z",
     "iopub.status.idle": "2022-03-14T21:19:50.272440Z",
     "shell.execute_reply": "2022-03-14T21:19:50.273139Z",
     "shell.execute_reply.started": "2022-03-14T21:16:07.934739Z"
    },
    "papermill": {
     "duration": 0.046651,
     "end_time": "2022-03-14T21:19:50.273328",
     "exception": false,
     "start_time": "2022-03-14T21:19:50.226677",
     "status": "completed"
    },
    "tags": []
   },
   "outputs": [
    {
     "data": {
      "application/javascript": [
       "parent.postMessage({\"jupyterEvent\": \"custom.exercise_interaction\", \"data\": {\"outcomeType\": 1, \"valueTowardsCompletion\": 0.16666666666666666, \"interactionType\": 1, \"questionType\": 1, \"questionId\": \"4_SortedVarieties\", \"learnToolsVersion\": \"0.3.4\", \"failureMessage\": \"\", \"exceptionClass\": \"\", \"trace\": \"\"}}, \"*\")"
      ],
      "text/plain": [
       "<IPython.core.display.Javascript object>"
      ]
     },
     "metadata": {},
     "output_type": "display_data"
    },
    {
     "data": {
      "text/markdown": [
       "<span style=\"color:#33cc33\">Correct</span>"
      ],
      "text/plain": [
       "Correct"
      ]
     },
     "metadata": {},
     "output_type": "display_data"
    }
   ],
   "source": [
    "sorted_varieties = price_extremes.sort_values(by=['min', 'max'], ascending=False)\n",
    "\n",
    "# Check your answer\n",
    "q4.check()"
   ]
  },
  {
   "cell_type": "code",
   "execution_count": 9,
   "id": "82e14a67",
   "metadata": {
    "execution": {
     "iopub.execute_input": "2022-03-14T21:19:50.354681Z",
     "iopub.status.busy": "2022-03-14T21:19:50.353871Z",
     "iopub.status.idle": "2022-03-14T21:19:50.355870Z",
     "shell.execute_reply": "2022-03-14T21:19:50.356246Z"
    },
    "papermill": {
     "duration": 0.045532,
     "end_time": "2022-03-14T21:19:50.356403",
     "exception": false,
     "start_time": "2022-03-14T21:19:50.310871",
     "status": "completed"
    },
    "tags": []
   },
   "outputs": [],
   "source": [
    "#q4.hint()\n",
    "#q4.solution()"
   ]
  },
  {
   "cell_type": "markdown",
   "id": "46494c99",
   "metadata": {
    "papermill": {
     "duration": 0.023014,
     "end_time": "2022-03-14T21:19:50.402833",
     "exception": false,
     "start_time": "2022-03-14T21:19:50.379819",
     "status": "completed"
    },
    "tags": []
   },
   "source": [
    "## 5.\n",
    "Create a `Series` whose index is reviewers and whose values is the average review score given out by that reviewer. Hint: you will need the `taster_name` and `points` columns."
   ]
  },
  {
   "cell_type": "code",
   "execution_count": 10,
   "id": "d7e220e9",
   "metadata": {
    "execution": {
     "iopub.execute_input": "2022-03-14T21:19:50.454803Z",
     "iopub.status.busy": "2022-03-14T21:19:50.454156Z",
     "iopub.status.idle": "2022-03-14T21:19:50.490593Z",
     "shell.execute_reply": "2022-03-14T21:19:50.489832Z",
     "shell.execute_reply.started": "2022-03-14T21:18:56.373581Z"
    },
    "papermill": {
     "duration": 0.063615,
     "end_time": "2022-03-14T21:19:50.490763",
     "exception": false,
     "start_time": "2022-03-14T21:19:50.427148",
     "status": "completed"
    },
    "tags": []
   },
   "outputs": [
    {
     "data": {
      "application/javascript": [
       "parent.postMessage({\"jupyterEvent\": \"custom.exercise_interaction\", \"data\": {\"outcomeType\": 1, \"valueTowardsCompletion\": 0.16666666666666666, \"interactionType\": 1, \"questionType\": 1, \"questionId\": \"5_ReviewerMeanRatings\", \"learnToolsVersion\": \"0.3.4\", \"failureMessage\": \"\", \"exceptionClass\": \"\", \"trace\": \"\"}}, \"*\")"
      ],
      "text/plain": [
       "<IPython.core.display.Javascript object>"
      ]
     },
     "metadata": {},
     "output_type": "display_data"
    },
    {
     "data": {
      "text/markdown": [
       "<span style=\"color:#33cc33\">Correct</span>"
      ],
      "text/plain": [
       "Correct"
      ]
     },
     "metadata": {},
     "output_type": "display_data"
    }
   ],
   "source": [
    "reviewer_mean_ratings = reviews.groupby('taster_name').points.mean()\n",
    "\n",
    "# Check your answer\n",
    "q5.check()"
   ]
  },
  {
   "cell_type": "code",
   "execution_count": 11,
   "id": "6097b41e",
   "metadata": {
    "execution": {
     "iopub.execute_input": "2022-03-14T21:19:50.572411Z",
     "iopub.status.busy": "2022-03-14T21:19:50.571400Z",
     "iopub.status.idle": "2022-03-14T21:19:50.575128Z",
     "shell.execute_reply": "2022-03-14T21:19:50.574520Z",
     "shell.execute_reply.started": "2022-03-14T21:19:01.901097Z"
    },
    "papermill": {
     "duration": 0.04643,
     "end_time": "2022-03-14T21:19:50.575283",
     "exception": false,
     "start_time": "2022-03-14T21:19:50.528853",
     "status": "completed"
    },
    "tags": []
   },
   "outputs": [],
   "source": [
    "#q5.hint()\n",
    "#q5.solution()"
   ]
  },
  {
   "cell_type": "markdown",
   "id": "efd3da74",
   "metadata": {
    "papermill": {
     "duration": 0.037383,
     "end_time": "2022-03-14T21:19:50.651662",
     "exception": false,
     "start_time": "2022-03-14T21:19:50.614279",
     "status": "completed"
    },
    "tags": []
   },
   "source": [
    "Are there significant differences in the average scores assigned by the various reviewers? Run the cell below to use the `describe()` method to see a summary of the range of values."
   ]
  },
  {
   "cell_type": "code",
   "execution_count": 12,
   "id": "d9dc882c",
   "metadata": {
    "execution": {
     "iopub.execute_input": "2022-03-14T21:19:50.734576Z",
     "iopub.status.busy": "2022-03-14T21:19:50.733878Z",
     "iopub.status.idle": "2022-03-14T21:19:50.741809Z",
     "shell.execute_reply": "2022-03-14T21:19:50.742351Z",
     "shell.execute_reply.started": "2022-03-14T21:19:10.395518Z"
    },
    "papermill": {
     "duration": 0.052908,
     "end_time": "2022-03-14T21:19:50.742554",
     "exception": false,
     "start_time": "2022-03-14T21:19:50.689646",
     "status": "completed"
    },
    "tags": []
   },
   "outputs": [
    {
     "data": {
      "text/plain": [
       "count    19.000000\n",
       "mean     88.233026\n",
       "std       1.243610\n",
       "min      85.855422\n",
       "25%      87.323501\n",
       "50%      88.536235\n",
       "75%      88.975256\n",
       "max      90.562551\n",
       "Name: points, dtype: float64"
      ]
     },
     "execution_count": 12,
     "metadata": {},
     "output_type": "execute_result"
    }
   ],
   "source": [
    "reviewer_mean_ratings.describe()"
   ]
  },
  {
   "cell_type": "markdown",
   "id": "8a1ad1f3",
   "metadata": {
    "papermill": {
     "duration": 0.03753,
     "end_time": "2022-03-14T21:19:50.817403",
     "exception": false,
     "start_time": "2022-03-14T21:19:50.779873",
     "status": "completed"
    },
    "tags": []
   },
   "source": [
    "## 6.\n",
    "What combination of countries and varieties are most common? Create a `Series` whose index is a `MultiIndex`of `{country, variety}` pairs. For example, a pinot noir produced in the US should map to `{\"US\", \"Pinot Noir\"}`. Sort the values in the `Series` in descending order based on wine count."
   ]
  },
  {
   "cell_type": "code",
   "execution_count": 13,
   "id": "1c9bb6fe",
   "metadata": {
    "execution": {
     "iopub.execute_input": "2022-03-14T21:19:50.896061Z",
     "iopub.status.busy": "2022-03-14T21:19:50.895319Z",
     "iopub.status.idle": "2022-03-14T21:19:50.900396Z",
     "shell.execute_reply": "2022-03-14T21:19:50.900943Z"
    },
    "papermill": {
     "duration": 0.046543,
     "end_time": "2022-03-14T21:19:50.901141",
     "exception": false,
     "start_time": "2022-03-14T21:19:50.854598",
     "status": "completed"
    },
    "tags": []
   },
   "outputs": [
    {
     "data": {
      "application/javascript": [
       "parent.postMessage({\"jupyterEvent\": \"custom.exercise_interaction\", \"data\": {\"outcomeType\": 4, \"interactionType\": 1, \"questionType\": 1, \"questionId\": \"6_GroupbyCountryVariety\", \"learnToolsVersion\": \"0.3.4\", \"valueTowardsCompletion\": 0.0, \"failureMessage\": \"\", \"exceptionClass\": \"\", \"trace\": \"\"}}, \"*\")"
      ],
      "text/plain": [
       "<IPython.core.display.Javascript object>"
      ]
     },
     "metadata": {},
     "output_type": "display_data"
    },
    {
     "data": {
      "text/markdown": [
       "<span style=\"color:#ccaa33\">Check:</span> When you've updated the starter code, `check()` will tell you whether your code is correct. You need to update the code that creates variable `country_variety_counts`"
      ],
      "text/plain": [
       "Check: When you've updated the starter code, `check()` will tell you whether your code is correct. You need to update the code that creates variable `country_variety_counts`"
      ]
     },
     "metadata": {},
     "output_type": "display_data"
    }
   ],
   "source": [
    "country_variety_counts = ____\n",
    "\n",
    "# Check your answer\n",
    "q6.check()"
   ]
  },
  {
   "cell_type": "code",
   "execution_count": 14,
   "id": "226c6400",
   "metadata": {
    "execution": {
     "iopub.execute_input": "2022-03-14T21:19:50.984640Z",
     "iopub.status.busy": "2022-03-14T21:19:50.983926Z",
     "iopub.status.idle": "2022-03-14T21:19:50.988697Z",
     "shell.execute_reply": "2022-03-14T21:19:50.989495Z"
    },
    "papermill": {
     "duration": 0.04781,
     "end_time": "2022-03-14T21:19:50.989709",
     "exception": false,
     "start_time": "2022-03-14T21:19:50.941899",
     "status": "completed"
    },
    "tags": []
   },
   "outputs": [],
   "source": [
    "#q6.hint()\n",
    "#q6.solution()"
   ]
  },
  {
   "cell_type": "markdown",
   "id": "8cf616d4",
   "metadata": {
    "papermill": {
     "duration": 0.039201,
     "end_time": "2022-03-14T21:19:51.068776",
     "exception": false,
     "start_time": "2022-03-14T21:19:51.029575",
     "status": "completed"
    },
    "tags": []
   },
   "source": [
    "# Keep going\n",
    "\n",
    "Move on to the [**data types and missing data**](https://www.kaggle.com/residentmario/data-types-and-missing-values)."
   ]
  },
  {
   "cell_type": "markdown",
   "id": "1aa0e1b1",
   "metadata": {
    "papermill": {
     "duration": 0.042873,
     "end_time": "2022-03-14T21:19:51.155775",
     "exception": false,
     "start_time": "2022-03-14T21:19:51.112902",
     "status": "completed"
    },
    "tags": []
   },
   "source": [
    "---\n",
    "\n",
    "\n",
    "\n",
    "\n",
    "*Have questions or comments? Visit the [course discussion forum](https://www.kaggle.com/learn/pandas/discussion) to chat with other learners.*"
   ]
  }
 ],
 "metadata": {
  "kernelspec": {
   "display_name": "Python 3",
   "language": "python",
   "name": "python3"
  },
  "language_info": {
   "codemirror_mode": {
    "name": "ipython",
    "version": 3
   },
   "file_extension": ".py",
   "mimetype": "text/x-python",
   "name": "python",
   "nbconvert_exporter": "python",
   "pygments_lexer": "ipython3",
   "version": "3.7.12"
  },
  "papermill": {
   "default_parameters": {},
   "duration": 15.436568,
   "end_time": "2022-03-14T21:19:52.111901",
   "environment_variables": {},
   "exception": null,
   "input_path": "__notebook__.ipynb",
   "output_path": "__notebook__.ipynb",
   "parameters": {},
   "start_time": "2022-03-14T21:19:36.675333",
   "version": "2.3.3"
  }
 },
 "nbformat": 4,
 "nbformat_minor": 5
}
