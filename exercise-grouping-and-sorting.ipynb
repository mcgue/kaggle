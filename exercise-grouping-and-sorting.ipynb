{
 "cells": [
  {
   "cell_type": "markdown",
   "id": "2606352d",
   "metadata": {
    "papermill": {
     "duration": 0.025337,
     "end_time": "2022-03-14T21:24:31.026378",
     "exception": false,
     "start_time": "2022-03-14T21:24:31.001041",
     "status": "completed"
    },
    "tags": []
   },
   "source": [
    "**This notebook is an exercise in the [Pandas](https://www.kaggle.com/learn/pandas) course.  You can reference the tutorial at [this link](https://www.kaggle.com/residentmario/grouping-and-sorting).**\n",
    "\n",
    "---\n"
   ]
  },
  {
   "cell_type": "markdown",
   "id": "d23ae84e",
   "metadata": {
    "papermill": {
     "duration": 0.022986,
     "end_time": "2022-03-14T21:24:31.073355",
     "exception": false,
     "start_time": "2022-03-14T21:24:31.050369",
     "status": "completed"
    },
    "tags": []
   },
   "source": [
    "# Introduction\n",
    "\n",
    "In these exercises we'll apply groupwise analysis to our dataset.\n",
    "\n",
    "Run the code cell below to load the data before running the exercises."
   ]
  },
  {
   "cell_type": "code",
   "execution_count": 1,
   "id": "538a2bc6",
   "metadata": {
    "execution": {
     "iopub.execute_input": "2022-03-14T21:24:31.126922Z",
     "iopub.status.busy": "2022-03-14T21:24:31.124888Z",
     "iopub.status.idle": "2022-03-14T21:24:33.889091Z",
     "shell.execute_reply": "2022-03-14T21:24:33.889829Z",
     "shell.execute_reply.started": "2022-03-14T20:59:15.262911Z"
    },
    "papermill": {
     "duration": 2.793605,
     "end_time": "2022-03-14T21:24:33.890156",
     "exception": false,
     "start_time": "2022-03-14T21:24:31.096551",
     "status": "completed"
    },
    "tags": []
   },
   "outputs": [
    {
     "name": "stdout",
     "output_type": "stream",
     "text": [
      "Setup complete.\n"
     ]
    }
   ],
   "source": [
    "import pandas as pd\n",
    "\n",
    "reviews = pd.read_csv(\"../input/wine-reviews/winemag-data-130k-v2.csv\", index_col=0)\n",
    "#pd.set_option(\"display.max_rows\", 5)\n",
    "\n",
    "from learntools.core import binder; binder.bind(globals())\n",
    "from learntools.pandas.grouping_and_sorting import *\n",
    "print(\"Setup complete.\")"
   ]
  },
  {
   "cell_type": "markdown",
   "id": "758b8fe1",
   "metadata": {
    "papermill": {
     "duration": 0.023748,
     "end_time": "2022-03-14T21:24:33.939027",
     "exception": false,
     "start_time": "2022-03-14T21:24:33.915279",
     "status": "completed"
    },
    "tags": []
   },
   "source": [
    "# Exercises"
   ]
  },
  {
   "cell_type": "markdown",
   "id": "32f22e00",
   "metadata": {
    "papermill": {
     "duration": 0.023663,
     "end_time": "2022-03-14T21:24:33.986626",
     "exception": false,
     "start_time": "2022-03-14T21:24:33.962963",
     "status": "completed"
    },
    "tags": []
   },
   "source": [
    "## 1.\n",
    "Who are the most common wine reviewers in the dataset? Create a `Series` whose index is the `taster_twitter_handle` category from the dataset, and whose values count how many reviews each person wrote."
   ]
  },
  {
   "cell_type": "code",
   "execution_count": 2,
   "id": "c6eb79be",
   "metadata": {
    "execution": {
     "iopub.execute_input": "2022-03-14T21:24:34.055153Z",
     "iopub.status.busy": "2022-03-14T21:24:34.054073Z",
     "iopub.status.idle": "2022-03-14T21:24:34.065657Z",
     "shell.execute_reply": "2022-03-14T21:24:34.066271Z",
     "shell.execute_reply.started": "2022-03-14T21:08:16.914999Z"
    },
    "papermill": {
     "duration": 0.055714,
     "end_time": "2022-03-14T21:24:34.066519",
     "exception": false,
     "start_time": "2022-03-14T21:24:34.010805",
     "status": "completed"
    },
    "tags": []
   },
   "outputs": [
    {
     "data": {
      "application/javascript": [
       "parent.postMessage({\"jupyterEvent\": \"custom.exercise_interaction\", \"data\": {\"outcomeType\": 1, \"valueTowardsCompletion\": 0.16666666666666666, \"interactionType\": 1, \"questionType\": 1, \"questionId\": \"1_ReviewsWritten\", \"learnToolsVersion\": \"0.3.4\", \"failureMessage\": \"\", \"exceptionClass\": \"\", \"trace\": \"\"}}, \"*\")"
      ],
      "text/plain": [
       "<IPython.core.display.Javascript object>"
      ]
     },
     "metadata": {},
     "output_type": "display_data"
    },
    {
     "data": {
      "text/markdown": [
       "<span style=\"color:#33cc33\">Correct:</span> \n",
       "\n",
       "\n",
       "```python\n",
       "reviews_written = reviews.groupby('taster_twitter_handle').size()\n",
       "```\n",
       "or\n",
       "```python\n",
       "reviews_written = reviews.groupby('taster_twitter_handle').taster_twitter_handle.count()\n",
       "```\n"
      ],
      "text/plain": [
       "Correct: \n",
       "\n",
       "\n",
       "```python\n",
       "reviews_written = reviews.groupby('taster_twitter_handle').size()\n",
       "```\n",
       "or\n",
       "```python\n",
       "reviews_written = reviews.groupby('taster_twitter_handle').taster_twitter_handle.count()\n",
       "```"
      ]
     },
     "metadata": {},
     "output_type": "display_data"
    }
   ],
   "source": [
    "# Your code here\n",
    "reviews_written = reviews.groupby('taster_twitter_handle').points.count()\n",
    "\n",
    "# Check your answer\n",
    "q1.check()"
   ]
  },
  {
   "cell_type": "code",
   "execution_count": 3,
   "id": "b39bdcf1",
   "metadata": {
    "execution": {
     "iopub.execute_input": "2022-03-14T21:24:34.120552Z",
     "iopub.status.busy": "2022-03-14T21:24:34.119819Z",
     "iopub.status.idle": "2022-03-14T21:24:34.122706Z",
     "shell.execute_reply": "2022-03-14T21:24:34.123322Z"
    },
    "papermill": {
     "duration": 0.031469,
     "end_time": "2022-03-14T21:24:34.123557",
     "exception": false,
     "start_time": "2022-03-14T21:24:34.092088",
     "status": "completed"
    },
    "tags": []
   },
   "outputs": [],
   "source": [
    "#q1.hint()\n",
    "#q1.solution()"
   ]
  },
  {
   "cell_type": "markdown",
   "id": "c4f46e46",
   "metadata": {
    "papermill": {
     "duration": 0.025059,
     "end_time": "2022-03-14T21:24:34.173664",
     "exception": false,
     "start_time": "2022-03-14T21:24:34.148605",
     "status": "completed"
    },
    "tags": []
   },
   "source": [
    "## 2.\n",
    "What is the best wine I can buy for a given amount of money? Create a `Series` whose index is wine prices and whose values is the maximum number of points a wine costing that much was given in a review. Sort the values by price, ascending (so that `4.0` dollars is at the top and `3300.0` dollars is at the bottom)."
   ]
  },
  {
   "cell_type": "code",
   "execution_count": 4,
   "id": "da9a623e",
   "metadata": {
    "execution": {
     "iopub.execute_input": "2022-03-14T21:24:34.229294Z",
     "iopub.status.busy": "2022-03-14T21:24:34.228638Z",
     "iopub.status.idle": "2022-03-14T21:24:34.244146Z",
     "shell.execute_reply": "2022-03-14T21:24:34.245009Z",
     "shell.execute_reply.started": "2022-03-14T21:11:08.027391Z"
    },
    "papermill": {
     "duration": 0.046173,
     "end_time": "2022-03-14T21:24:34.245269",
     "exception": false,
     "start_time": "2022-03-14T21:24:34.199096",
     "status": "completed"
    },
    "tags": []
   },
   "outputs": [
    {
     "name": "stdout",
     "output_type": "stream",
     "text": [
      "price\n",
      "4.0       86\n",
      "5.0       87\n",
      "6.0       88\n",
      "7.0       91\n",
      "8.0       91\n",
      "          ..\n",
      "1900.0    98\n",
      "2000.0    97\n",
      "2013.0    91\n",
      "2500.0    96\n",
      "3300.0    88\n",
      "Name: points, Length: 390, dtype: int64\n"
     ]
    },
    {
     "data": {
      "application/javascript": [
       "parent.postMessage({\"jupyterEvent\": \"custom.exercise_interaction\", \"data\": {\"outcomeType\": 1, \"valueTowardsCompletion\": 0.16666666666666666, \"interactionType\": 1, \"questionType\": 1, \"questionId\": \"2_BestRatingPerPrice\", \"learnToolsVersion\": \"0.3.4\", \"failureMessage\": \"\", \"exceptionClass\": \"\", \"trace\": \"\"}}, \"*\")"
      ],
      "text/plain": [
       "<IPython.core.display.Javascript object>"
      ]
     },
     "metadata": {},
     "output_type": "display_data"
    },
    {
     "data": {
      "text/markdown": [
       "<span style=\"color:#33cc33\">Correct</span>"
      ],
      "text/plain": [
       "Correct"
      ]
     },
     "metadata": {},
     "output_type": "display_data"
    }
   ],
   "source": [
    "best_rating_per_price = reviews.groupby('price').points.max()\n",
    "print(best_rating_per_price)\n",
    "\n",
    "# Check your answer\n",
    "q2.check()"
   ]
  },
  {
   "cell_type": "code",
   "execution_count": 5,
   "id": "06e55eb3",
   "metadata": {
    "execution": {
     "iopub.execute_input": "2022-03-14T21:24:34.304343Z",
     "iopub.status.busy": "2022-03-14T21:24:34.302478Z",
     "iopub.status.idle": "2022-03-14T21:24:34.307235Z",
     "shell.execute_reply": "2022-03-14T21:24:34.306495Z"
    },
    "papermill": {
     "duration": 0.034681,
     "end_time": "2022-03-14T21:24:34.307394",
     "exception": false,
     "start_time": "2022-03-14T21:24:34.272713",
     "status": "completed"
    },
    "tags": []
   },
   "outputs": [],
   "source": [
    "#q2.hint()\n",
    "#q2.solution()"
   ]
  },
  {
   "cell_type": "markdown",
   "id": "c7bca9a2",
   "metadata": {
    "papermill": {
     "duration": 0.027386,
     "end_time": "2022-03-14T21:24:34.362884",
     "exception": false,
     "start_time": "2022-03-14T21:24:34.335498",
     "status": "completed"
    },
    "tags": []
   },
   "source": [
    "## 3.\n",
    "What are the minimum and maximum prices for each `variety` of wine? Create a `DataFrame` whose index is the `variety` category from the dataset and whose values are the `min` and `max` values thereof."
   ]
  },
  {
   "cell_type": "code",
   "execution_count": 6,
   "id": "e6e728af",
   "metadata": {
    "execution": {
     "iopub.execute_input": "2022-03-14T21:24:34.429203Z",
     "iopub.status.busy": "2022-03-14T21:24:34.428079Z",
     "iopub.status.idle": "2022-03-14T21:24:34.450620Z",
     "shell.execute_reply": "2022-03-14T21:24:34.451294Z",
     "shell.execute_reply.started": "2022-03-14T21:13:24.013433Z"
    },
    "papermill": {
     "duration": 0.061612,
     "end_time": "2022-03-14T21:24:34.451524",
     "exception": false,
     "start_time": "2022-03-14T21:24:34.389912",
     "status": "completed"
    },
    "tags": []
   },
   "outputs": [
    {
     "data": {
      "application/javascript": [
       "parent.postMessage({\"jupyterEvent\": \"custom.exercise_interaction\", \"data\": {\"outcomeType\": 1, \"valueTowardsCompletion\": 0.16666666666666666, \"interactionType\": 1, \"questionType\": 1, \"questionId\": \"3_PriceExtremes\", \"learnToolsVersion\": \"0.3.4\", \"failureMessage\": \"\", \"exceptionClass\": \"\", \"trace\": \"\"}}, \"*\")"
      ],
      "text/plain": [
       "<IPython.core.display.Javascript object>"
      ]
     },
     "metadata": {},
     "output_type": "display_data"
    },
    {
     "data": {
      "text/markdown": [
       "<span style=\"color:#33cc33\">Correct</span>"
      ],
      "text/plain": [
       "Correct"
      ]
     },
     "metadata": {},
     "output_type": "display_data"
    }
   ],
   "source": [
    "price_extremes = reviews.groupby('variety').price.agg([min, max])\n",
    "\n",
    "# Check your answer\n",
    "q3.check()"
   ]
  },
  {
   "cell_type": "code",
   "execution_count": 7,
   "id": "bf4eec34",
   "metadata": {
    "execution": {
     "iopub.execute_input": "2022-03-14T21:24:34.515625Z",
     "iopub.status.busy": "2022-03-14T21:24:34.514622Z",
     "iopub.status.idle": "2022-03-14T21:24:34.518242Z",
     "shell.execute_reply": "2022-03-14T21:24:34.518848Z"
    },
    "papermill": {
     "duration": 0.037571,
     "end_time": "2022-03-14T21:24:34.519037",
     "exception": false,
     "start_time": "2022-03-14T21:24:34.481466",
     "status": "completed"
    },
    "tags": []
   },
   "outputs": [],
   "source": [
    "#q3.hint()\n",
    "#q3.solution()"
   ]
  },
  {
   "cell_type": "markdown",
   "id": "cf58c925",
   "metadata": {
    "papermill": {
     "duration": 0.028307,
     "end_time": "2022-03-14T21:24:34.576012",
     "exception": false,
     "start_time": "2022-03-14T21:24:34.547705",
     "status": "completed"
    },
    "tags": []
   },
   "source": [
    "## 4.\n",
    "What are the most expensive wine varieties? Create a variable `sorted_varieties` containing a copy of the dataframe from the previous question where varieties are sorted in descending order based on minimum price, then on maximum price (to break ties)."
   ]
  },
  {
   "cell_type": "code",
   "execution_count": 8,
   "id": "792c2c80",
   "metadata": {
    "execution": {
     "iopub.execute_input": "2022-03-14T21:24:34.639626Z",
     "iopub.status.busy": "2022-03-14T21:24:34.638916Z",
     "iopub.status.idle": "2022-03-14T21:24:34.647246Z",
     "shell.execute_reply": "2022-03-14T21:24:34.647856Z",
     "shell.execute_reply.started": "2022-03-14T21:16:07.934739Z"
    },
    "papermill": {
     "duration": 0.043347,
     "end_time": "2022-03-14T21:24:34.648040",
     "exception": false,
     "start_time": "2022-03-14T21:24:34.604693",
     "status": "completed"
    },
    "tags": []
   },
   "outputs": [
    {
     "data": {
      "application/javascript": [
       "parent.postMessage({\"jupyterEvent\": \"custom.exercise_interaction\", \"data\": {\"outcomeType\": 1, \"valueTowardsCompletion\": 0.16666666666666666, \"interactionType\": 1, \"questionType\": 1, \"questionId\": \"4_SortedVarieties\", \"learnToolsVersion\": \"0.3.4\", \"failureMessage\": \"\", \"exceptionClass\": \"\", \"trace\": \"\"}}, \"*\")"
      ],
      "text/plain": [
       "<IPython.core.display.Javascript object>"
      ]
     },
     "metadata": {},
     "output_type": "display_data"
    },
    {
     "data": {
      "text/markdown": [
       "<span style=\"color:#33cc33\">Correct</span>"
      ],
      "text/plain": [
       "Correct"
      ]
     },
     "metadata": {},
     "output_type": "display_data"
    }
   ],
   "source": [
    "sorted_varieties = price_extremes.sort_values(by=['min', 'max'], ascending=False)\n",
    "\n",
    "# Check your answer\n",
    "q4.check()"
   ]
  },
  {
   "cell_type": "code",
   "execution_count": 9,
   "id": "527bf24a",
   "metadata": {
    "execution": {
     "iopub.execute_input": "2022-03-14T21:24:34.714113Z",
     "iopub.status.busy": "2022-03-14T21:24:34.713130Z",
     "iopub.status.idle": "2022-03-14T21:24:34.716450Z",
     "shell.execute_reply": "2022-03-14T21:24:34.716971Z"
    },
    "papermill": {
     "duration": 0.038721,
     "end_time": "2022-03-14T21:24:34.717166",
     "exception": false,
     "start_time": "2022-03-14T21:24:34.678445",
     "status": "completed"
    },
    "tags": []
   },
   "outputs": [],
   "source": [
    "#q4.hint()\n",
    "#q4.solution()"
   ]
  },
  {
   "cell_type": "markdown",
   "id": "93ef44d4",
   "metadata": {
    "papermill": {
     "duration": 0.03064,
     "end_time": "2022-03-14T21:24:34.778452",
     "exception": false,
     "start_time": "2022-03-14T21:24:34.747812",
     "status": "completed"
    },
    "tags": []
   },
   "source": [
    "## 5.\n",
    "Create a `Series` whose index is reviewers and whose values is the average review score given out by that reviewer. Hint: you will need the `taster_name` and `points` columns."
   ]
  },
  {
   "cell_type": "code",
   "execution_count": 10,
   "id": "00abbb88",
   "metadata": {
    "execution": {
     "iopub.execute_input": "2022-03-14T21:24:34.844059Z",
     "iopub.status.busy": "2022-03-14T21:24:34.842987Z",
     "iopub.status.idle": "2022-03-14T21:24:34.867551Z",
     "shell.execute_reply": "2022-03-14T21:24:34.868072Z",
     "shell.execute_reply.started": "2022-03-14T21:18:56.373581Z"
    },
    "papermill": {
     "duration": 0.059085,
     "end_time": "2022-03-14T21:24:34.868263",
     "exception": false,
     "start_time": "2022-03-14T21:24:34.809178",
     "status": "completed"
    },
    "tags": []
   },
   "outputs": [
    {
     "data": {
      "application/javascript": [
       "parent.postMessage({\"jupyterEvent\": \"custom.exercise_interaction\", \"data\": {\"outcomeType\": 1, \"valueTowardsCompletion\": 0.16666666666666666, \"interactionType\": 1, \"questionType\": 1, \"questionId\": \"5_ReviewerMeanRatings\", \"learnToolsVersion\": \"0.3.4\", \"failureMessage\": \"\", \"exceptionClass\": \"\", \"trace\": \"\"}}, \"*\")"
      ],
      "text/plain": [
       "<IPython.core.display.Javascript object>"
      ]
     },
     "metadata": {},
     "output_type": "display_data"
    },
    {
     "data": {
      "text/markdown": [
       "<span style=\"color:#33cc33\">Correct</span>"
      ],
      "text/plain": [
       "Correct"
      ]
     },
     "metadata": {},
     "output_type": "display_data"
    }
   ],
   "source": [
    "reviewer_mean_ratings = reviews.groupby('taster_name').points.mean()\n",
    "\n",
    "# Check your answer\n",
    "q5.check()"
   ]
  },
  {
   "cell_type": "code",
   "execution_count": 11,
   "id": "c7151f5a",
   "metadata": {
    "execution": {
     "iopub.execute_input": "2022-03-14T21:24:34.936590Z",
     "iopub.status.busy": "2022-03-14T21:24:34.935574Z",
     "iopub.status.idle": "2022-03-14T21:24:34.939058Z",
     "shell.execute_reply": "2022-03-14T21:24:34.939643Z",
     "shell.execute_reply.started": "2022-03-14T21:19:01.901097Z"
    },
    "papermill": {
     "duration": 0.039263,
     "end_time": "2022-03-14T21:24:34.939832",
     "exception": false,
     "start_time": "2022-03-14T21:24:34.900569",
     "status": "completed"
    },
    "tags": []
   },
   "outputs": [],
   "source": [
    "#q5.hint()\n",
    "#q5.solution()"
   ]
  },
  {
   "cell_type": "markdown",
   "id": "a782b9f1",
   "metadata": {
    "papermill": {
     "duration": 0.031569,
     "end_time": "2022-03-14T21:24:35.004351",
     "exception": false,
     "start_time": "2022-03-14T21:24:34.972782",
     "status": "completed"
    },
    "tags": []
   },
   "source": [
    "Are there significant differences in the average scores assigned by the various reviewers? Run the cell below to use the `describe()` method to see a summary of the range of values."
   ]
  },
  {
   "cell_type": "code",
   "execution_count": 12,
   "id": "9e1295ad",
   "metadata": {
    "execution": {
     "iopub.execute_input": "2022-03-14T21:24:35.073204Z",
     "iopub.status.busy": "2022-03-14T21:24:35.072112Z",
     "iopub.status.idle": "2022-03-14T21:24:35.083834Z",
     "shell.execute_reply": "2022-03-14T21:24:35.084609Z",
     "shell.execute_reply.started": "2022-03-14T21:19:10.395518Z"
    },
    "papermill": {
     "duration": 0.047913,
     "end_time": "2022-03-14T21:24:35.084811",
     "exception": false,
     "start_time": "2022-03-14T21:24:35.036898",
     "status": "completed"
    },
    "tags": []
   },
   "outputs": [
    {
     "data": {
      "text/plain": [
       "count    19.000000\n",
       "mean     88.233026\n",
       "std       1.243610\n",
       "min      85.855422\n",
       "25%      87.323501\n",
       "50%      88.536235\n",
       "75%      88.975256\n",
       "max      90.562551\n",
       "Name: points, dtype: float64"
      ]
     },
     "execution_count": 12,
     "metadata": {},
     "output_type": "execute_result"
    }
   ],
   "source": [
    "reviewer_mean_ratings.describe()"
   ]
  },
  {
   "cell_type": "markdown",
   "id": "66d15d6b",
   "metadata": {
    "papermill": {
     "duration": 0.032495,
     "end_time": "2022-03-14T21:24:35.150938",
     "exception": false,
     "start_time": "2022-03-14T21:24:35.118443",
     "status": "completed"
    },
    "tags": []
   },
   "source": [
    "## 6.\n",
    "What combination of countries and varieties are most common? Create a `Series` whose index is a `MultiIndex`of `{country, variety}` pairs. For example, a pinot noir produced in the US should map to `{\"US\", \"Pinot Noir\"}`. Sort the values in the `Series` in descending order based on wine count."
   ]
  },
  {
   "cell_type": "code",
   "execution_count": 13,
   "id": "a686c510",
   "metadata": {
    "execution": {
     "iopub.execute_input": "2022-03-14T21:24:35.221709Z",
     "iopub.status.busy": "2022-03-14T21:24:35.220613Z",
     "iopub.status.idle": "2022-03-14T21:24:35.265816Z",
     "shell.execute_reply": "2022-03-14T21:24:35.265201Z",
     "shell.execute_reply.started": "2022-03-14T21:23:57.366584Z"
    },
    "papermill": {
     "duration": 0.082352,
     "end_time": "2022-03-14T21:24:35.265981",
     "exception": false,
     "start_time": "2022-03-14T21:24:35.183629",
     "status": "completed"
    },
    "tags": []
   },
   "outputs": [
    {
     "data": {
      "application/javascript": [
       "parent.postMessage({\"jupyterEvent\": \"custom.exercise_interaction\", \"data\": {\"outcomeType\": 1, \"valueTowardsCompletion\": 0.16666666666666666, \"interactionType\": 1, \"questionType\": 1, \"questionId\": \"6_GroupbyCountryVariety\", \"learnToolsVersion\": \"0.3.4\", \"failureMessage\": \"\", \"exceptionClass\": \"\", \"trace\": \"\"}}, \"*\")"
      ],
      "text/plain": [
       "<IPython.core.display.Javascript object>"
      ]
     },
     "metadata": {},
     "output_type": "display_data"
    },
    {
     "data": {
      "text/markdown": [
       "<span style=\"color:#33cc33\">Correct</span>"
      ],
      "text/plain": [
       "Correct"
      ]
     },
     "metadata": {},
     "output_type": "display_data"
    }
   ],
   "source": [
    "country_variety_counts = reviews.groupby(['country', 'variety']).size().sort_values(ascending=False)\n",
    "\n",
    "# Check your answer\n",
    "q6.check()"
   ]
  },
  {
   "cell_type": "code",
   "execution_count": 14,
   "id": "898410b7",
   "metadata": {
    "execution": {
     "iopub.execute_input": "2022-03-14T21:24:35.339064Z",
     "iopub.status.busy": "2022-03-14T21:24:35.338003Z",
     "iopub.status.idle": "2022-03-14T21:24:35.341766Z",
     "shell.execute_reply": "2022-03-14T21:24:35.342362Z",
     "shell.execute_reply.started": "2022-03-14T21:24:04.487379Z"
    },
    "papermill": {
     "duration": 0.041691,
     "end_time": "2022-03-14T21:24:35.342570",
     "exception": false,
     "start_time": "2022-03-14T21:24:35.300879",
     "status": "completed"
    },
    "tags": []
   },
   "outputs": [],
   "source": [
    "#q6.hint()\n",
    "#q6.solution()"
   ]
  },
  {
   "cell_type": "markdown",
   "id": "bf5c01b4",
   "metadata": {
    "papermill": {
     "duration": 0.033618,
     "end_time": "2022-03-14T21:24:35.410340",
     "exception": false,
     "start_time": "2022-03-14T21:24:35.376722",
     "status": "completed"
    },
    "tags": []
   },
   "source": [
    "# Keep going\n",
    "\n",
    "Move on to the [**data types and missing data**](https://www.kaggle.com/residentmario/data-types-and-missing-values)."
   ]
  },
  {
   "cell_type": "markdown",
   "id": "648e738b",
   "metadata": {
    "papermill": {
     "duration": 0.034259,
     "end_time": "2022-03-14T21:24:35.478840",
     "exception": false,
     "start_time": "2022-03-14T21:24:35.444581",
     "status": "completed"
    },
    "tags": []
   },
   "source": [
    "---\n",
    "\n",
    "\n",
    "\n",
    "\n",
    "*Have questions or comments? Visit the [course discussion forum](https://www.kaggle.com/learn/pandas/discussion) to chat with other learners.*"
   ]
  }
 ],
 "metadata": {
  "kernelspec": {
   "display_name": "Python 3",
   "language": "python",
   "name": "python3"
  },
  "language_info": {
   "codemirror_mode": {
    "name": "ipython",
    "version": 3
   },
   "file_extension": ".py",
   "mimetype": "text/x-python",
   "name": "python",
   "nbconvert_exporter": "python",
   "pygments_lexer": "ipython3",
   "version": "3.7.12"
  },
  "papermill": {
   "default_parameters": {},
   "duration": 15.402647,
   "end_time": "2022-03-14T21:24:36.224328",
   "environment_variables": {},
   "exception": null,
   "input_path": "__notebook__.ipynb",
   "output_path": "__notebook__.ipynb",
   "parameters": {},
   "start_time": "2022-03-14T21:24:20.821681",
   "version": "2.3.3"
  }
 },
 "nbformat": 4,
 "nbformat_minor": 5
}
