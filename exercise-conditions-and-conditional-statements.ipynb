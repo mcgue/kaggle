{
 "cells": [
  {
   "cell_type": "markdown",
   "id": "b7f9113e",
   "metadata": {
    "papermill": {
     "duration": 0.008998,
     "end_time": "2022-08-08T16:58:05.649302",
     "exception": false,
     "start_time": "2022-08-08T16:58:05.640304",
     "status": "completed"
    },
    "tags": []
   },
   "source": [
    "**This notebook is an exercise in the [Intro to Programming](https://www.kaggle.com/learn/intro-to-programming) course.  You can reference the tutorial at [this link](https://www.kaggle.com/alexisbcook/conditions-and-conditional-statements).**\n",
    "\n",
    "---\n"
   ]
  },
  {
   "cell_type": "markdown",
   "id": "d0787df6",
   "metadata": {
    "papermill": {
     "duration": 0.007832,
     "end_time": "2022-08-08T16:58:05.666965",
     "exception": false,
     "start_time": "2022-08-08T16:58:05.659133",
     "status": "completed"
    },
    "tags": []
   },
   "source": [
    "In the tutorial, you learned about conditions and conditional statements. In this exercise, you will use what you learned to answer several questions.\n",
    "\n",
    "# Set up the notebook\n",
    "\n",
    "Run the next code cell without changes to set up the notebook."
   ]
  },
  {
   "cell_type": "code",
   "execution_count": 1,
   "id": "868f3c68",
   "metadata": {
    "execution": {
     "iopub.execute_input": "2022-08-08T16:58:05.684170Z",
     "iopub.status.busy": "2022-08-08T16:58:05.683269Z",
     "iopub.status.idle": "2022-08-08T16:58:05.745607Z",
     "shell.execute_reply": "2022-08-08T16:58:05.744233Z"
    },
    "papermill": {
     "duration": 0.074811,
     "end_time": "2022-08-08T16:58:05.749146",
     "exception": false,
     "start_time": "2022-08-08T16:58:05.674335",
     "status": "completed"
    },
    "tags": []
   },
   "outputs": [
    {
     "name": "stdout",
     "output_type": "stream",
     "text": [
      "Setup complete.\n"
     ]
    }
   ],
   "source": [
    "from learntools.core import binder\n",
    "binder.bind(globals())\n",
    "from learntools.intro_to_programming.ex4 import *\n",
    "print('Setup complete.')"
   ]
  },
  {
   "cell_type": "markdown",
   "id": "73336c34",
   "metadata": {
    "papermill": {
     "duration": 0.006989,
     "end_time": "2022-08-08T16:58:05.763659",
     "exception": false,
     "start_time": "2022-08-08T16:58:05.756670",
     "status": "completed"
    },
    "tags": []
   },
   "source": [
    "# Question 1\n",
    "\n",
    "You work at a college admissions office.  When inspecting a dataset of college applicants, you notice that some students have represented their grades with letters (`\"A\"`, `\"B\"`, `\"C\"`, `\"D\"`, `\"F\"`), whereas others have represented their grades with a number between 0 and 100.\n",
    "\n",
    "You realize that for consistency, all of the grades should be formatted in the same way, and you decide to format them all as letters.  For the conversion, you decide to assign:\n",
    "- `\"A\"` - any grade 90-100, inclusive\n",
    "- `\"B\"` - any grade 80-89, inclusive\n",
    "- `\"C\"` - any grade 70-79, inclusive\n",
    "- `\"D\"` - any grade 60-69, inclusive\n",
    "- `\"F\"` - any grade <60\n",
    "\n",
    "Write a function `get_grade()` that takes as input:\n",
    "- `score` - an integer 0-100 corresponding to a numerical grade\n",
    "\n",
    "It should return a Python string with the letter grade that it corresponds to.  For instance,\n",
    "- A score of 85 corresponds to a B grade.  In other words, `get_grade(85)` should return `\"B\"`.\n",
    "- A score of 49 corresponds to an F grade.  In other words, `get_grade(49)` should return `\"F\"`.\n",
    "\n",
    "Make sure that when supplying the grade that is returned by the function, it is enclosed in quotes.  (For instance, if you want to return `\"A\"`, you should write `return \"A\"` and not `return A`.)"
   ]
  },
  {
   "cell_type": "code",
   "execution_count": 2,
   "id": "0353c13b",
   "metadata": {
    "execution": {
     "iopub.execute_input": "2022-08-08T16:58:05.779600Z",
     "iopub.status.busy": "2022-08-08T16:58:05.779174Z",
     "iopub.status.idle": "2022-08-08T16:58:05.791878Z",
     "shell.execute_reply": "2022-08-08T16:58:05.790695Z"
    },
    "papermill": {
     "duration": 0.023448,
     "end_time": "2022-08-08T16:58:05.794333",
     "exception": false,
     "start_time": "2022-08-08T16:58:05.770885",
     "status": "completed"
    },
    "tags": []
   },
   "outputs": [
    {
     "data": {
      "application/javascript": [
       "parent.postMessage({\"jupyterEvent\": \"custom.exercise_interaction\", \"data\": {\"outcomeType\": 1, \"valueTowardsCompletion\": 0.2, \"interactionType\": 1, \"questionType\": 2, \"questionId\": \"1_GetGrade\", \"learnToolsVersion\": \"0.3.4\", \"failureMessage\": \"\", \"exceptionClass\": \"\", \"trace\": \"\"}}, \"*\")"
      ],
      "text/plain": [
       "<IPython.core.display.Javascript object>"
      ]
     },
     "metadata": {},
     "output_type": "display_data"
    },
    {
     "data": {
      "text/markdown": [
       "<span style=\"color:#33cc33\">Correct</span>"
      ],
      "text/plain": [
       "Correct"
      ]
     },
     "metadata": {},
     "output_type": "display_data"
    }
   ],
   "source": [
    "# TODO: Edit the function to return the correct grade for different scores\n",
    "def get_grade(score):\n",
    "    if score > 89:\n",
    "        grade = \"A\"\n",
    "    elif score > 79:\n",
    "        grade = \"B\"\n",
    "    elif score > 69:\n",
    "        grade = \"C\"\n",
    "    elif score > 59:\n",
    "        grade = \"D\"\n",
    "    else:\n",
    "        grade = \"F\"\n",
    "    return grade\n",
    "    \n",
    "# Check your answer\n",
    "q1.check()"
   ]
  },
  {
   "cell_type": "code",
   "execution_count": 3,
   "id": "6cabb940",
   "metadata": {
    "execution": {
     "iopub.execute_input": "2022-08-08T16:58:05.811163Z",
     "iopub.status.busy": "2022-08-08T16:58:05.810418Z",
     "iopub.status.idle": "2022-08-08T16:58:05.814416Z",
     "shell.execute_reply": "2022-08-08T16:58:05.813539Z"
    },
    "papermill": {
     "duration": 0.01515,
     "end_time": "2022-08-08T16:58:05.816903",
     "exception": false,
     "start_time": "2022-08-08T16:58:05.801753",
     "status": "completed"
    },
    "tags": []
   },
   "outputs": [],
   "source": [
    "# Uncomment to see a hint\n",
    "#q1.hint()\n",
    "\n",
    "# Uncomment to see the solution\n",
    "#q1.solution()"
   ]
  },
  {
   "cell_type": "markdown",
   "id": "707f4796",
   "metadata": {
    "papermill": {
     "duration": 0.006854,
     "end_time": "2022-08-08T16:58:05.831152",
     "exception": false,
     "start_time": "2022-08-08T16:58:05.824298",
     "status": "completed"
    },
    "tags": []
   },
   "source": [
    "# Question 2\n",
    "\n",
    "In the exercise for the previous lesson, you wrote a function `cost_of_project()` that estimated the price of rings for an online shop that sells rings with custom engravings.  This function did not use conditional statements.  In this exercise, you will rewrite the function to use conditional statements.  Recall that the online shop has the following price structure:\n",
    "- Gold plated rings have a base cost of \\\\$50, and you charge \\\\$7 per engraved unit.  \n",
    "- Solid gold rings have a base cost of \\\\$100, and you charge \\\\$10 per engraved unit.\n",
    "- Spaces and punctuation are counted as engraved units.\n",
    "\n",
    "Your function `cost_of_project()` takes two arguments:\n",
    "- `engraving` - a Python string with the text of the engraving\n",
    "- `solid_gold` - a Boolean that indicates whether the ring is solid gold\n",
    "\n",
    "It should return the cost of the project.  \n",
    "\n",
    "The function has been partially completed for you, and you need to fill in the blanks to complete the function."
   ]
  },
  {
   "cell_type": "code",
   "execution_count": 4,
   "id": "dd42f6fd",
   "metadata": {
    "execution": {
     "iopub.execute_input": "2022-08-08T16:58:05.847706Z",
     "iopub.status.busy": "2022-08-08T16:58:05.846889Z",
     "iopub.status.idle": "2022-08-08T16:58:05.856389Z",
     "shell.execute_reply": "2022-08-08T16:58:05.855482Z"
    },
    "papermill": {
     "duration": 0.020416,
     "end_time": "2022-08-08T16:58:05.858787",
     "exception": false,
     "start_time": "2022-08-08T16:58:05.838371",
     "status": "completed"
    },
    "tags": []
   },
   "outputs": [
    {
     "data": {
      "application/javascript": [
       "parent.postMessage({\"jupyterEvent\": \"custom.exercise_interaction\", \"data\": {\"outcomeType\": 1, \"valueTowardsCompletion\": 0.2, \"interactionType\": 1, \"questionType\": 2, \"questionId\": \"2_CostProjectPartDeux\", \"learnToolsVersion\": \"0.3.4\", \"failureMessage\": \"\", \"exceptionClass\": \"\", \"trace\": \"\"}}, \"*\")"
      ],
      "text/plain": [
       "<IPython.core.display.Javascript object>"
      ]
     },
     "metadata": {},
     "output_type": "display_data"
    },
    {
     "data": {
      "text/markdown": [
       "<span style=\"color:#33cc33\">Correct</span>"
      ],
      "text/plain": [
       "Correct"
      ]
     },
     "metadata": {},
     "output_type": "display_data"
    }
   ],
   "source": [
    "def cost_of_project(engraving, solid_gold):\n",
    "    if solid_gold:\n",
    "        cost = 100 + (len(engraving) * 10)\n",
    "    else:\n",
    "        cost = 50 + (len(engraving) * 7)\n",
    "    return cost\n",
    "\n",
    "# Check your answer\n",
    "q2.check()"
   ]
  },
  {
   "cell_type": "code",
   "execution_count": 5,
   "id": "5950d0d3",
   "metadata": {
    "execution": {
     "iopub.execute_input": "2022-08-08T16:58:05.876301Z",
     "iopub.status.busy": "2022-08-08T16:58:05.875474Z",
     "iopub.status.idle": "2022-08-08T16:58:05.879957Z",
     "shell.execute_reply": "2022-08-08T16:58:05.879023Z"
    },
    "papermill": {
     "duration": 0.016146,
     "end_time": "2022-08-08T16:58:05.882575",
     "exception": false,
     "start_time": "2022-08-08T16:58:05.866429",
     "status": "completed"
    },
    "tags": []
   },
   "outputs": [],
   "source": [
    "# Uncomment to see a hint\n",
    "#q2.hint()\n",
    "\n",
    "# Uncomment to see the solution\n",
    "#q2.solution()"
   ]
  },
  {
   "cell_type": "markdown",
   "id": "39b9c641",
   "metadata": {
    "papermill": {
     "duration": 0.007958,
     "end_time": "2022-08-08T16:58:05.898153",
     "exception": false,
     "start_time": "2022-08-08T16:58:05.890195",
     "status": "completed"
    },
    "tags": []
   },
   "source": [
    "# Question 3\n",
    "\n",
    "You are a programmer at a water agency.  Recently, you have been tasked to write a function `get_water_bill()` that takes as input:\n",
    "- `num_gallons` = the number of gallons of water that a customer used that month.  (This will always be an integer with no decimal part.)\n",
    "\n",
    "It should output the water bill.  \n",
    "\n",
    "The water agency uses this pricing structure:\n",
    "<table style=\"width: 100%;\">\n",
    "<tbody>\n",
    "<tr><th><b>Tier</b></th><th><b>Amount in gallons</b></th><th><b>Price per 1000 gallons</b></th></tr>\n",
    "<tr>\n",
    "<td>Tier 1</td>\n",
    "<td>0 - 8,000</td>\n",
    "<td>\\$5</td>\n",
    "</tr>\n",
    "<tr>\n",
    "<td>Tier 2</td>\n",
    "<td>8,001 - 22,000</td>\n",
    "<td>\\$6</td>\n",
    "</tr>\n",
    "<tr>\n",
    "<td>Tier 3</td>\n",
    "<td>22,001 - 30,000</td>\n",
    "<td>\\$7</td>\n",
    "</tr>\n",
    "<tr>\n",
    "<td>Tier 4</td>\n",
    "<td>30,001+</td>\n",
    "<td>\\$10</td>\n",
    "</tr>\n",
    "</tbody>\n",
    "</table>\n",
    "\n",
    "For example: \n",
    "- Someone who uses 10,000 gallons of water in a month is placed in Tier 2, and needs to pay a water bill of \\\\$6 * 10 = \\\\$60.  In other words, `get_water_bill(10000)` should return `60.0`.\n",
    "- Someone who uses 25,000 gallons of water in a month is placed in Tier 3, and needs to pay a water bill of \\\\$7 * 25 = \\\\$175.  In other words, `get_water_bill(25000)` should return `175.0`.\n",
    "\n",
    "**Do not round your answer.**  So, your answer might return fractions of a penny."
   ]
  },
  {
   "cell_type": "code",
   "execution_count": 6,
   "id": "e8d663dc",
   "metadata": {
    "execution": {
     "iopub.execute_input": "2022-08-08T16:58:05.915242Z",
     "iopub.status.busy": "2022-08-08T16:58:05.914467Z",
     "iopub.status.idle": "2022-08-08T16:58:05.924209Z",
     "shell.execute_reply": "2022-08-08T16:58:05.923349Z"
    },
    "papermill": {
     "duration": 0.020883,
     "end_time": "2022-08-08T16:58:05.926485",
     "exception": false,
     "start_time": "2022-08-08T16:58:05.905602",
     "status": "completed"
    },
    "tags": []
   },
   "outputs": [
    {
     "data": {
      "application/javascript": [
       "parent.postMessage({\"jupyterEvent\": \"custom.exercise_interaction\", \"data\": {\"outcomeType\": 1, \"valueTowardsCompletion\": 0.2, \"interactionType\": 1, \"questionType\": 2, \"questionId\": \"3_GetWaterBill\", \"learnToolsVersion\": \"0.3.4\", \"failureMessage\": \"\", \"exceptionClass\": \"\", \"trace\": \"\"}}, \"*\")"
      ],
      "text/plain": [
       "<IPython.core.display.Javascript object>"
      ]
     },
     "metadata": {},
     "output_type": "display_data"
    },
    {
     "data": {
      "text/markdown": [
       "<span style=\"color:#33cc33\">Correct</span>"
      ],
      "text/plain": [
       "Correct"
      ]
     },
     "metadata": {},
     "output_type": "display_data"
    }
   ],
   "source": [
    "# TODO: Edit the function to return the correct bill for different\n",
    "# values of num_gallons\n",
    "def get_water_bill(num_gallons):\n",
    "    if num_gallons < 8001:\n",
    "        bill = (num_gallons/1000) * 5\n",
    "    elif num_gallons < 22001:\n",
    "        bill = (num_gallons/1000) * 6\n",
    "    elif num_gallons < 30001:\n",
    "        bill = (num_gallons/1000) * 7\n",
    "    else:\n",
    "        bill = (num_gallons/1000) * 10\n",
    "    return bill\n",
    "\n",
    "# Check your answer\n",
    "q3.check()"
   ]
  },
  {
   "cell_type": "code",
   "execution_count": 7,
   "id": "bf15c94b",
   "metadata": {
    "execution": {
     "iopub.execute_input": "2022-08-08T16:58:05.944474Z",
     "iopub.status.busy": "2022-08-08T16:58:05.943634Z",
     "iopub.status.idle": "2022-08-08T16:58:05.948090Z",
     "shell.execute_reply": "2022-08-08T16:58:05.947121Z"
    },
    "papermill": {
     "duration": 0.016071,
     "end_time": "2022-08-08T16:58:05.950425",
     "exception": false,
     "start_time": "2022-08-08T16:58:05.934354",
     "status": "completed"
    },
    "tags": []
   },
   "outputs": [],
   "source": [
    "# Uncomment to see a hint\n",
    "#q3.hint()\n",
    "\n",
    "# Uncomment to see the solution\n",
    "#q3.solution()"
   ]
  },
  {
   "cell_type": "markdown",
   "id": "22256d6d",
   "metadata": {
    "papermill": {
     "duration": 0.007381,
     "end_time": "2022-08-08T16:58:05.965593",
     "exception": false,
     "start_time": "2022-08-08T16:58:05.958212",
     "status": "completed"
    },
    "tags": []
   },
   "source": [
    "# Question 4\n",
    "\n",
    "You work for a company that provides data services.  For \\\\$100/month, your company provides 15 gigabytes (GB) of data.  Then, any additional data is billed at \\\\$0.10/MB (or \\\\$100/GB, since 1,000 MB are in 1 GB).\n",
    "\n",
    "Use the next code cell to write a function `get_phone_bill()` that takes as input:\n",
    "- `gb` = number of GB that the customer used in a month\n",
    "\n",
    "It should return the customer's total phone bill.\n",
    "\n",
    "For instance:\n",
    "- A customer who uses 10 GB of data in one month is billed only \\\\$100, since the usage stayed under 15 GB.  In other words, `get_phone_bill(10)` should return `100`.\n",
    "- A customer who uses 15.1 GB (or 15 GB + 100 MB) of data in one month has gone over by .1 GB, so they must pay \\\\$100 (cost of plan), plus \\\\$0.10 * 100 = \\\\$10, for a total bill of \\\\$110.  In other words, `get_phone_bill(15.1)` should return `110`.\n",
    "\n",
    "Do not round your answer."
   ]
  },
  {
   "cell_type": "code",
   "execution_count": 8,
   "id": "f4c441c3",
   "metadata": {
    "execution": {
     "iopub.execute_input": "2022-08-08T16:58:05.983166Z",
     "iopub.status.busy": "2022-08-08T16:58:05.982679Z",
     "iopub.status.idle": "2022-08-08T16:58:05.993892Z",
     "shell.execute_reply": "2022-08-08T16:58:05.992692Z"
    },
    "papermill": {
     "duration": 0.023048,
     "end_time": "2022-08-08T16:58:05.996346",
     "exception": false,
     "start_time": "2022-08-08T16:58:05.973298",
     "status": "completed"
    },
    "tags": []
   },
   "outputs": [
    {
     "data": {
      "application/javascript": [
       "parent.postMessage({\"jupyterEvent\": \"custom.exercise_interaction\", \"data\": {\"outcomeType\": 1, \"valueTowardsCompletion\": 0.2, \"interactionType\": 1, \"questionType\": 2, \"questionId\": \"4_GetPhoneBill\", \"learnToolsVersion\": \"0.3.4\", \"failureMessage\": \"\", \"exceptionClass\": \"\", \"trace\": \"\"}}, \"*\")"
      ],
      "text/plain": [
       "<IPython.core.display.Javascript object>"
      ]
     },
     "metadata": {},
     "output_type": "display_data"
    },
    {
     "data": {
      "text/markdown": [
       "<span style=\"color:#33cc33\">Correct</span>"
      ],
      "text/plain": [
       "Correct"
      ]
     },
     "metadata": {},
     "output_type": "display_data"
    }
   ],
   "source": [
    "# TODO: Edit the function to return the correct bill for different\n",
    "# values of GB\n",
    "def get_phone_bill(gb):\n",
    "    if gb > 15.1:\n",
    "        bill = 100 + ((gb-15) *100)\n",
    "    else:\n",
    "        bill = 100\n",
    "    return bill\n",
    "\n",
    "# Check your answer\n",
    "q4.check()"
   ]
  },
  {
   "cell_type": "code",
   "execution_count": 9,
   "id": "d08d2f33",
   "metadata": {
    "execution": {
     "iopub.execute_input": "2022-08-08T16:58:06.014852Z",
     "iopub.status.busy": "2022-08-08T16:58:06.013635Z",
     "iopub.status.idle": "2022-08-08T16:58:06.018823Z",
     "shell.execute_reply": "2022-08-08T16:58:06.017564Z"
    },
    "papermill": {
     "duration": 0.016871,
     "end_time": "2022-08-08T16:58:06.021218",
     "exception": false,
     "start_time": "2022-08-08T16:58:06.004347",
     "status": "completed"
    },
    "tags": []
   },
   "outputs": [],
   "source": [
    "# Uncomment to see a hint\n",
    "#q4.hint()\n",
    "\n",
    "# Uncomment to see the solution\n",
    "#q4.solution()"
   ]
  },
  {
   "cell_type": "markdown",
   "id": "ad50bb1c",
   "metadata": {
    "papermill": {
     "duration": 0.007595,
     "end_time": "2022-08-08T16:58:06.036929",
     "exception": false,
     "start_time": "2022-08-08T16:58:06.029334",
     "status": "completed"
    },
    "tags": []
   },
   "source": [
    "# 🌶️ Question 5\n",
    "\n",
    "In Mexico, foods and beverages that are high in saturated fat, trans fat, sugar, sodium, and/or calories appear with warning labels that are designed to help consumers make healthy food choices.\n",
    "\n",
    "For instance, the [box of cookies](https://world.openfoodfacts.org/product/7501000673209/florentinas-gamesa) in the image below appears with two labels (in the upper right corner):\n",
    "- EXCESO CALORÍAS (in English, EXCESS CALORIES)\n",
    "- EXCESO AZÚCARES (in English, EXCESS SUGAR)\n",
    "\n",
    "<center><img src=\"https://i.imgur.com/VXYKHnM.png\" alt=\"drawing\" width=\"500\"/></center>\n",
    "\n",
    "In this question, you'll work with a function `get_labels()` that takes the nutritional details about a food item and prints the needed warning labels.  This function takes several inputs:\n",
    "- `food_type` = one of `\"solid\"` or `\"liquid\"`\n",
    "- `serving_size` = size of one serving (if solid, in grams; if liquid, in milliliters)\n",
    "- `calories_per_serving` = calories in one serving\n",
    "- `saturated_fat_g` = grams of saturated fat in one serving\n",
    "- `trans_fat_g` = grams of trans fat in one serving\n",
    "- `sodium_mg` = mg of sodium in one serving\n",
    "- `sugars_g` = grams of sugar in one serving\n",
    "\n",
    "Note that some of the code here should feel unfamiliar to you, since we have not shared the details of how some of the functions like `excess_sugar()` or `excess_saturated_fat()` work.  But at a high level, these are functions that return a value of `True` if the food is deemed to have an excess of sugar or saturated fat, respectively.  These functions are used within the `get_labels()` function, and whenever there is an excess (of sugar or saturated fat, but also of trans fat, sodium, or calories), it prints the corresponding label."
   ]
  },
  {
   "cell_type": "code",
   "execution_count": 10,
   "id": "6c98388b",
   "metadata": {
    "execution": {
     "iopub.execute_input": "2022-08-08T16:58:06.055853Z",
     "iopub.status.busy": "2022-08-08T16:58:06.055079Z",
     "iopub.status.idle": "2022-08-08T16:58:06.064389Z",
     "shell.execute_reply": "2022-08-08T16:58:06.063370Z"
    },
    "papermill": {
     "duration": 0.021748,
     "end_time": "2022-08-08T16:58:06.067286",
     "exception": false,
     "start_time": "2022-08-08T16:58:06.045538",
     "status": "completed"
    },
    "tags": []
   },
   "outputs": [],
   "source": [
    "# import functions needed to make get_labels work\n",
    "from learntools.intro_to_programming.ex4q5 import excess_sugar, excess_saturated_fat, excess_trans_fat, excess_sodium, excess_calories\n",
    "\n",
    "def get_labels(food_type, serving_size, calories_per_serving, saturated_fat_g, trans_fat_g, sodium_mg, sugars_g):\n",
    "    # Print messages based on findings\n",
    "    if excess_sugar(sugars_g, calories_per_serving) == True:\n",
    "        print(\"EXCESO AZÚCARES / EXCESS SUGAR\")\n",
    "    if excess_saturated_fat(saturated_fat_g, calories_per_serving) == True:\n",
    "        print(\"EXCESO GRASAS SATURADAS / EXCESS SATURATED FAT\")\n",
    "    if excess_trans_fat(trans_fat_g, calories_per_serving) == True:\n",
    "        print(\"EXCESO GRASAS TRANS / EXCESS TRANS FAT\")\n",
    "    if excess_sodium(calories_per_serving, sodium_mg) == True:\n",
    "        print(\"EXCESO SODIO / EXCESS SODIUM\")\n",
    "    if excess_calories(food_type, calories_per_serving, serving_size) == True:\n",
    "        print(\"EXCESO CALORÍAS / EXCESS CALORIES\")"
   ]
  },
  {
   "cell_type": "markdown",
   "id": "f2a202a6",
   "metadata": {
    "papermill": {
     "duration": 0.007658,
     "end_time": "2022-08-08T16:58:06.083126",
     "exception": false,
     "start_time": "2022-08-08T16:58:06.075468",
     "status": "completed"
    },
    "tags": []
   },
   "source": [
    "The next code cell demonstrates how to use `get_labels()` to get the warning labels that the food item should contain.  We begin with [bologna](https://world.openfoodfacts.org/product/4099100179378/bologna).  Here is [an image](https://imgur.com/Cfcx72e) with all of the nutritional information.  Note that for this food,\n",
    "- `food_type = \"solid\"` (because bologna is a solid and not a liquid)\n",
    "- `serving_size = 32` (the serving size is 32 grams)\n",
    "- `calories_per_serving = 110` (there are 110 calories per serving)\n",
    "- `saturated_fat_g = 2.5` (there are 2.5 grams of saturated fat per serving)\n",
    "- `trans_fat_g = 0` (there are 0 grams of trans fat per serving)\n",
    "- `sodium_mg = 400` (there are 400 mg of sodium per serving)\n",
    "- `sugars_g = 1` (the nutrition facts say <1g, but we will round it up to 1 gram per serving to be safe)\n",
    "\n",
    "By supplying all of these values to the function, we can print the warning labels."
   ]
  },
  {
   "cell_type": "code",
   "execution_count": 11,
   "id": "1cef8984",
   "metadata": {
    "execution": {
     "iopub.execute_input": "2022-08-08T16:58:06.101604Z",
     "iopub.status.busy": "2022-08-08T16:58:06.100905Z",
     "iopub.status.idle": "2022-08-08T16:58:06.106987Z",
     "shell.execute_reply": "2022-08-08T16:58:06.105517Z"
    },
    "papermill": {
     "duration": 0.018203,
     "end_time": "2022-08-08T16:58:06.109477",
     "exception": false,
     "start_time": "2022-08-08T16:58:06.091274",
     "status": "completed"
    },
    "tags": []
   },
   "outputs": [
    {
     "name": "stdout",
     "output_type": "stream",
     "text": [
      "EXCESO GRASAS SATURADAS / EXCESS SATURATED FAT\n",
      "EXCESO SODIO / EXCESS SODIUM\n",
      "EXCESO CALORÍAS / EXCESS CALORIES\n"
     ]
    }
   ],
   "source": [
    "# bologna https://world.openfoodfacts.org/product/4099100179378/bologna\n",
    "get_labels(\"solid\", 32, 110, 2.5, 0, 400, 1)"
   ]
  },
  {
   "cell_type": "markdown",
   "id": "255b09f3",
   "metadata": {
    "papermill": {
     "duration": 0.007828,
     "end_time": "2022-08-08T16:58:06.125337",
     "exception": false,
     "start_time": "2022-08-08T16:58:06.117509",
     "status": "completed"
    },
    "tags": []
   },
   "source": [
    "This bologna has three labels, printed in the output above.\n",
    "\n",
    "For the rest of this question, you will use the same `get_labels()` function to determine the labels for more foods.  This question is designed to help you get practice with feeling comfortable with code that other people have written, and where you don't have time to review every single line of code before interacting with it.  For instance, when you take the [Intro to Machine Learning course](http://www.kaggle.com/learn/intro-to-machine-learning), you'll work with a Python package called \"scikit-learn\", which is a large collection of code that you'll learn how to run without reviewing all of the code in detail (as it would take too long, and you can trust that it was implemented correctly).\n",
    "\n",
    "In general, as you continue coding in Python, you will often be running code that other people have written.  This is common practice for advanced programmers.\n",
    "\n",
    "In the next code cell, fill in the values for [this cereal](https://world.openfoodfacts.org/product/7501008023624/zucaritas-kellogg-s).  Here is [an image](https://imgur.com/a/MUxzHVU) with all of the nutritional information.\n",
    "\n",
    "**Note**: running the line of code below as-is will return an error.  You have to fill in the nutritional values first."
   ]
  },
  {
   "cell_type": "code",
   "execution_count": 12,
   "id": "949b7368",
   "metadata": {
    "execution": {
     "iopub.execute_input": "2022-08-08T16:58:06.143536Z",
     "iopub.status.busy": "2022-08-08T16:58:06.142790Z",
     "iopub.status.idle": "2022-08-08T16:58:06.148978Z",
     "shell.execute_reply": "2022-08-08T16:58:06.147476Z"
    },
    "papermill": {
     "duration": 0.018189,
     "end_time": "2022-08-08T16:58:06.151510",
     "exception": false,
     "start_time": "2022-08-08T16:58:06.133321",
     "status": "completed"
    },
    "tags": []
   },
   "outputs": [
    {
     "name": "stdout",
     "output_type": "stream",
     "text": [
      "EXCESO AZÚCARES / EXCESS SUGAR\n",
      "EXCESO SODIO / EXCESS SODIUM\n",
      "EXCESO CALORÍAS / EXCESS CALORIES\n"
     ]
    }
   ],
   "source": [
    "# zucaritas cereal https://world.openfoodfacts.org/product/7501008023624/zucaritas-kellogg-s\n",
    "# TODO: Uncomment the line below, fill in the values, and run the function\n",
    "get_labels(\"solid\", 40, 150, 0, 0, 150, 16)"
   ]
  },
  {
   "cell_type": "markdown",
   "id": "7094d856",
   "metadata": {
    "papermill": {
     "duration": 0.007841,
     "end_time": "2022-08-08T16:58:06.167858",
     "exception": false,
     "start_time": "2022-08-08T16:58:06.160017",
     "status": "completed"
    },
    "tags": []
   },
   "source": [
    "Next, try [these mozzarella sticks](https://world-es.openfoodfacts.org/producto/0062325540104/mozzarella-cheese-sticks).  Here is [an image](https://imgur.com/rcdB7VH) with all of the nutritional information."
   ]
  },
  {
   "cell_type": "code",
   "execution_count": 13,
   "id": "10b9e0db",
   "metadata": {
    "execution": {
     "iopub.execute_input": "2022-08-08T16:58:06.186195Z",
     "iopub.status.busy": "2022-08-08T16:58:06.185499Z",
     "iopub.status.idle": "2022-08-08T16:58:06.191938Z",
     "shell.execute_reply": "2022-08-08T16:58:06.190393Z"
    },
    "papermill": {
     "duration": 0.019549,
     "end_time": "2022-08-08T16:58:06.195505",
     "exception": false,
     "start_time": "2022-08-08T16:58:06.175956",
     "status": "completed"
    },
    "tags": []
   },
   "outputs": [
    {
     "name": "stdout",
     "output_type": "stream",
     "text": [
      "EXCESO GRASAS SATURADAS / EXCESS SATURATED FAT\n",
      "EXCESO GRASAS TRANS / EXCESS TRANS FAT\n",
      "EXCESO SODIO / EXCESS SODIUM\n",
      "EXCESO CALORÍAS / EXCESS CALORIES\n"
     ]
    }
   ],
   "source": [
    "# mozzarella sticks https://world-es.openfoodfacts.org/producto/0062325540104/mozzarella-cheese-sticks\n",
    "# TODO: Uncomment the line below, fill in the values, and run the function\n",
    "get_labels(\"solid\", 21, 68, 3, .2, 208, 0)"
   ]
  },
  {
   "cell_type": "markdown",
   "id": "b47e93fe",
   "metadata": {
    "papermill": {
     "duration": 0.008386,
     "end_time": "2022-08-08T16:58:06.212626",
     "exception": false,
     "start_time": "2022-08-08T16:58:06.204240",
     "status": "completed"
    },
    "tags": []
   },
   "source": [
    "Feel free to skip to the end of the notebook now and run `q5.check()` to complete the exercise.  If you want to try more foods, \n",
    "- try [these cookies](https://world.openfoodfacts.org/product/0069700118545/biscuits-au-sucre-pretraches).  Here is [an image](https://imgur.com/2Bc271o) with all of the nutritional information.\n",
    "- try [this soda](https://world-es.openfoodfacts.org/producto/0078000113464/orange-soda-sunkist).  Here is [an image](https://imgur.com/RsBYa8E) with all of the nutritional information.\n",
    "\n",
    "Use the two code cells below for this."
   ]
  },
  {
   "cell_type": "code",
   "execution_count": 14,
   "id": "8af86ee9",
   "metadata": {
    "execution": {
     "iopub.execute_input": "2022-08-08T16:58:06.231066Z",
     "iopub.status.busy": "2022-08-08T16:58:06.230649Z",
     "iopub.status.idle": "2022-08-08T16:58:06.234724Z",
     "shell.execute_reply": "2022-08-08T16:58:06.233780Z"
    },
    "papermill": {
     "duration": 0.01591,
     "end_time": "2022-08-08T16:58:06.236830",
     "exception": false,
     "start_time": "2022-08-08T16:58:06.220920",
     "status": "completed"
    },
    "tags": []
   },
   "outputs": [],
   "source": [
    "# pillsbury cookies https://world.openfoodfacts.org/product/0069700118545/biscuits-au-sucre-pretraches\n",
    "# TODO: Uncomment the line below, fill in the values, and run the function\n",
    "#get_labels()"
   ]
  },
  {
   "cell_type": "code",
   "execution_count": 15,
   "id": "caf5df02",
   "metadata": {
    "execution": {
     "iopub.execute_input": "2022-08-08T16:58:06.255707Z",
     "iopub.status.busy": "2022-08-08T16:58:06.254569Z",
     "iopub.status.idle": "2022-08-08T16:58:06.259468Z",
     "shell.execute_reply": "2022-08-08T16:58:06.258323Z"
    },
    "papermill": {
     "duration": 0.016612,
     "end_time": "2022-08-08T16:58:06.261713",
     "exception": false,
     "start_time": "2022-08-08T16:58:06.245101",
     "status": "completed"
    },
    "tags": []
   },
   "outputs": [],
   "source": [
    "# sunkist orange soda https://world-es.openfoodfacts.org/producto/0078000113464/orange-soda-sunkist\n",
    "# TODO: Uncomment the line below, fill in the values, and run the function\n",
    "#get_labels()"
   ]
  },
  {
   "cell_type": "markdown",
   "id": "5d9f72c4",
   "metadata": {
    "papermill": {
     "duration": 0.007832,
     "end_time": "2022-08-08T16:58:06.277691",
     "exception": false,
     "start_time": "2022-08-08T16:58:06.269859",
     "status": "completed"
    },
    "tags": []
   },
   "source": [
    "Once you have finished investigating the food items in this question, run the final code cell to get credit for completing this problem."
   ]
  },
  {
   "cell_type": "code",
   "execution_count": 16,
   "id": "61df8fce",
   "metadata": {
    "execution": {
     "iopub.execute_input": "2022-08-08T16:58:06.296838Z",
     "iopub.status.busy": "2022-08-08T16:58:06.295984Z",
     "iopub.status.idle": "2022-08-08T16:58:06.303758Z",
     "shell.execute_reply": "2022-08-08T16:58:06.302762Z"
    },
    "papermill": {
     "duration": 0.019793,
     "end_time": "2022-08-08T16:58:06.306031",
     "exception": false,
     "start_time": "2022-08-08T16:58:06.286238",
     "status": "completed"
    },
    "tags": []
   },
   "outputs": [
    {
     "data": {
      "application/javascript": [
       "parent.postMessage({\"jupyterEvent\": \"custom.exercise_interaction\", \"data\": {\"outcomeType\": 1, \"valueTowardsCompletion\": 0.2, \"interactionType\": 1, \"questionType\": 2, \"questionId\": \"5_GetLabels\", \"learnToolsVersion\": \"0.3.4\", \"failureMessage\": \"\", \"exceptionClass\": \"\", \"trace\": \"\"}}, \"*\")"
      ],
      "text/plain": [
       "<IPython.core.display.Javascript object>"
      ]
     },
     "metadata": {},
     "output_type": "display_data"
    },
    {
     "data": {
      "text/markdown": [
       "<span style=\"color:#33cc33\">Once you have determined the labels for all of the food items, you're ready to move on to the next lesson!</span>"
      ],
      "text/plain": [
       "Once you have determined the labels for all of the food items, you're ready to move on to the next lesson!"
      ]
     },
     "metadata": {},
     "output_type": "display_data"
    }
   ],
   "source": [
    "# Get credit for completing the problem\n",
    "q5.check()"
   ]
  },
  {
   "cell_type": "markdown",
   "id": "aed880f3",
   "metadata": {
    "papermill": {
     "duration": 0.008414,
     "end_time": "2022-08-08T16:58:06.323083",
     "exception": false,
     "start_time": "2022-08-08T16:58:06.314669",
     "status": "completed"
    },
    "tags": []
   },
   "source": [
    "# Keep going\n",
    "\n",
    "Continue to the next lesson to **[learn about Python lists](https://www.kaggle.com/alexisbcook/intro-to-lists)**."
   ]
  },
  {
   "cell_type": "markdown",
   "id": "12ee47fe",
   "metadata": {
    "papermill": {
     "duration": 0.008325,
     "end_time": "2022-08-08T16:58:06.339979",
     "exception": false,
     "start_time": "2022-08-08T16:58:06.331654",
     "status": "completed"
    },
    "tags": []
   },
   "source": [
    "---\n",
    "\n",
    "\n",
    "\n",
    "\n",
    "*Have questions or comments? Visit the [course discussion forum](https://www.kaggle.com/learn/intro-to-programming/discussion) to chat with other learners.*"
   ]
  }
 ],
 "metadata": {
  "kernelspec": {
   "display_name": "Python 3",
   "language": "python",
   "name": "python3"
  },
  "language_info": {
   "codemirror_mode": {
    "name": "ipython",
    "version": 3
   },
   "file_extension": ".py",
   "mimetype": "text/x-python",
   "name": "python",
   "nbconvert_exporter": "python",
   "pygments_lexer": "ipython3",
   "version": "3.7.12"
  },
  "papermill": {
   "default_parameters": {},
   "duration": 11.309274,
   "end_time": "2022-08-08T16:58:06.970090",
   "environment_variables": {},
   "exception": null,
   "input_path": "__notebook__.ipynb",
   "output_path": "__notebook__.ipynb",
   "parameters": {},
   "start_time": "2022-08-08T16:57:55.660816",
   "version": "2.3.4"
  }
 },
 "nbformat": 4,
 "nbformat_minor": 5
}
