{
 "cells": [
  {
   "cell_type": "markdown",
   "id": "478dbc29",
   "metadata": {
    "papermill": {
     "duration": 0.008245,
     "end_time": "2022-08-06T22:54:05.711757",
     "exception": false,
     "start_time": "2022-08-06T22:54:05.703512",
     "status": "completed"
    },
    "tags": []
   },
   "source": [
    "**This notebook is an exercise in the [Intro to Programming](https://www.kaggle.com/learn/intro-to-programming) course.  You can reference the tutorial at [this link](https://www.kaggle.com/alexisbcook/conditions-and-conditional-statements).**\n",
    "\n",
    "---\n"
   ]
  },
  {
   "cell_type": "markdown",
   "id": "b27b2392",
   "metadata": {
    "papermill": {
     "duration": 0.006632,
     "end_time": "2022-08-06T22:54:05.725082",
     "exception": false,
     "start_time": "2022-08-06T22:54:05.718450",
     "status": "completed"
    },
    "tags": []
   },
   "source": [
    "In the tutorial, you learned about conditions and conditional statements. In this exercise, you will use what you learned to answer several questions.\n",
    "\n",
    "# Set up the notebook\n",
    "\n",
    "Run the next code cell without changes to set up the notebook."
   ]
  },
  {
   "cell_type": "code",
   "execution_count": 1,
   "id": "71a3552d",
   "metadata": {
    "execution": {
     "iopub.execute_input": "2022-08-06T22:54:05.740473Z",
     "iopub.status.busy": "2022-08-06T22:54:05.739780Z",
     "iopub.status.idle": "2022-08-06T22:54:05.800214Z",
     "shell.execute_reply": "2022-08-06T22:54:05.798895Z"
    },
    "papermill": {
     "duration": 0.071803,
     "end_time": "2022-08-06T22:54:05.803431",
     "exception": false,
     "start_time": "2022-08-06T22:54:05.731628",
     "status": "completed"
    },
    "tags": []
   },
   "outputs": [
    {
     "name": "stdout",
     "output_type": "stream",
     "text": [
      "Setup complete.\n"
     ]
    }
   ],
   "source": [
    "from learntools.core import binder\n",
    "binder.bind(globals())\n",
    "from learntools.intro_to_programming.ex4 import *\n",
    "print('Setup complete.')"
   ]
  },
  {
   "cell_type": "markdown",
   "id": "c6dea2e1",
   "metadata": {
    "papermill": {
     "duration": 0.007252,
     "end_time": "2022-08-06T22:54:05.817649",
     "exception": false,
     "start_time": "2022-08-06T22:54:05.810397",
     "status": "completed"
    },
    "tags": []
   },
   "source": [
    "# Question 1\n",
    "\n",
    "You work at a college admissions office.  When inspecting a dataset of college applicants, you notice that some students have represented their grades with letters (`\"A\"`, `\"B\"`, `\"C\"`, `\"D\"`, `\"F\"`), whereas others have represented their grades with a number between 0 and 100.\n",
    "\n",
    "You realize that for consistency, all of the grades should be formatted in the same way, and you decide to format them all as letters.  For the conversion, you decide to assign:\n",
    "- `\"A\"` - any grade 90-100, inclusive\n",
    "- `\"B\"` - any grade 80-89, inclusive\n",
    "- `\"C\"` - any grade 70-79, inclusive\n",
    "- `\"D\"` - any grade 60-69, inclusive\n",
    "- `\"F\"` - any grade <60\n",
    "\n",
    "Write a function `get_grade()` that takes as input:\n",
    "- `score` - an integer 0-100 corresponding to a numerical grade\n",
    "\n",
    "It should return a Python string with the letter grade that it corresponds to.  For instance,\n",
    "- A score of 85 corresponds to a B grade.  In other words, `get_grade(85)` should return `\"B\"`.\n",
    "- A score of 49 corresponds to an F grade.  In other words, `get_grade(49)` should return `\"F\"`.\n",
    "\n",
    "Make sure that when supplying the grade that is returned by the function, it is enclosed in quotes.  (For instance, if you want to return `\"A\"`, you should write `return \"A\"` and not `return A`.)"
   ]
  },
  {
   "cell_type": "code",
   "execution_count": 2,
   "id": "ba85a0a0",
   "metadata": {
    "execution": {
     "iopub.execute_input": "2022-08-06T22:54:05.833058Z",
     "iopub.status.busy": "2022-08-06T22:54:05.832640Z",
     "iopub.status.idle": "2022-08-06T22:54:05.847141Z",
     "shell.execute_reply": "2022-08-06T22:54:05.845576Z"
    },
    "papermill": {
     "duration": 0.025333,
     "end_time": "2022-08-06T22:54:05.849521",
     "exception": false,
     "start_time": "2022-08-06T22:54:05.824188",
     "status": "completed"
    },
    "tags": []
   },
   "outputs": [
    {
     "data": {
      "application/javascript": [
       "parent.postMessage({\"jupyterEvent\": \"custom.exercise_interaction\", \"data\": {\"outcomeType\": 1, \"valueTowardsCompletion\": 0.2, \"interactionType\": 1, \"questionType\": 2, \"questionId\": \"1_GetGrade\", \"learnToolsVersion\": \"0.3.4\", \"failureMessage\": \"\", \"exceptionClass\": \"\", \"trace\": \"\"}}, \"*\")"
      ],
      "text/plain": [
       "<IPython.core.display.Javascript object>"
      ]
     },
     "metadata": {},
     "output_type": "display_data"
    },
    {
     "data": {
      "text/markdown": [
       "<span style=\"color:#33cc33\">Correct</span>"
      ],
      "text/plain": [
       "Correct"
      ]
     },
     "metadata": {},
     "output_type": "display_data"
    }
   ],
   "source": [
    "# TODO: Edit the function to return the correct grade for different scores\n",
    "def get_grade(score):\n",
    "    if score > 89:\n",
    "        grade = \"A\"\n",
    "    elif score > 79:\n",
    "        grade = \"B\"\n",
    "    elif score > 69:\n",
    "        grade = \"C\"\n",
    "    elif score > 59:\n",
    "        grade = \"D\"\n",
    "    else:\n",
    "        grade = \"F\"\n",
    "    return grade\n",
    "    \n",
    "# Check your answer\n",
    "q1.check()"
   ]
  },
  {
   "cell_type": "code",
   "execution_count": 3,
   "id": "81afb12d",
   "metadata": {
    "execution": {
     "iopub.execute_input": "2022-08-06T22:54:05.865321Z",
     "iopub.status.busy": "2022-08-06T22:54:05.864645Z",
     "iopub.status.idle": "2022-08-06T22:54:05.869856Z",
     "shell.execute_reply": "2022-08-06T22:54:05.868571Z"
    },
    "papermill": {
     "duration": 0.015645,
     "end_time": "2022-08-06T22:54:05.872118",
     "exception": false,
     "start_time": "2022-08-06T22:54:05.856473",
     "status": "completed"
    },
    "tags": []
   },
   "outputs": [],
   "source": [
    "# Uncomment to see a hint\n",
    "#q1.hint()\n",
    "\n",
    "# Uncomment to see the solution\n",
    "#q1.solution()"
   ]
  },
  {
   "cell_type": "markdown",
   "id": "91c3c4d9",
   "metadata": {
    "papermill": {
     "duration": 0.006325,
     "end_time": "2022-08-06T22:54:05.885256",
     "exception": false,
     "start_time": "2022-08-06T22:54:05.878931",
     "status": "completed"
    },
    "tags": []
   },
   "source": [
    "# Question 2\n",
    "\n",
    "In the exercise for the previous lesson, you wrote a function `cost_of_project()` that estimated the price of rings for an online shop that sells rings with custom engravings.  This function did not use conditional statements.  In this exercise, you will rewrite the function to use conditional statements.  Recall that the online shop has the following price structure:\n",
    "- Gold plated rings have a base cost of \\\\$50, and you charge \\\\$7 per engraved unit.  \n",
    "- Solid gold rings have a base cost of \\\\$100, and you charge \\\\$10 per engraved unit.\n",
    "- Spaces and punctuation are counted as engraved units.\n",
    "\n",
    "Your function `cost_of_project()` takes two arguments:\n",
    "- `engraving` - a Python string with the text of the engraving\n",
    "- `solid_gold` - a Boolean that indicates whether the ring is solid gold\n",
    "\n",
    "It should return the cost of the project.  \n",
    "\n",
    "The function has been partially completed for you, and you need to fill in the blanks to complete the function."
   ]
  },
  {
   "cell_type": "code",
   "execution_count": 4,
   "id": "53f90bae",
   "metadata": {
    "execution": {
     "iopub.execute_input": "2022-08-06T22:54:05.900662Z",
     "iopub.status.busy": "2022-08-06T22:54:05.899900Z",
     "iopub.status.idle": "2022-08-06T22:54:05.909268Z",
     "shell.execute_reply": "2022-08-06T22:54:05.907982Z"
    },
    "papermill": {
     "duration": 0.019852,
     "end_time": "2022-08-06T22:54:05.911645",
     "exception": false,
     "start_time": "2022-08-06T22:54:05.891793",
     "status": "completed"
    },
    "tags": []
   },
   "outputs": [
    {
     "data": {
      "application/javascript": [
       "parent.postMessage({\"jupyterEvent\": \"custom.exercise_interaction\", \"data\": {\"outcomeType\": 1, \"valueTowardsCompletion\": 0.2, \"interactionType\": 1, \"questionType\": 2, \"questionId\": \"2_CostProjectPartDeux\", \"learnToolsVersion\": \"0.3.4\", \"failureMessage\": \"\", \"exceptionClass\": \"\", \"trace\": \"\"}}, \"*\")"
      ],
      "text/plain": [
       "<IPython.core.display.Javascript object>"
      ]
     },
     "metadata": {},
     "output_type": "display_data"
    },
    {
     "data": {
      "text/markdown": [
       "<span style=\"color:#33cc33\">Correct</span>"
      ],
      "text/plain": [
       "Correct"
      ]
     },
     "metadata": {},
     "output_type": "display_data"
    }
   ],
   "source": [
    "def cost_of_project(engraving, solid_gold):\n",
    "    if solid_gold:\n",
    "        cost = 100 + (len(engraving) * 10)\n",
    "    else:\n",
    "        cost = 50 + (len(engraving) * 7)\n",
    "    return cost\n",
    "\n",
    "# Check your answer\n",
    "q2.check()"
   ]
  },
  {
   "cell_type": "code",
   "execution_count": 5,
   "id": "b2e09ae5",
   "metadata": {
    "execution": {
     "iopub.execute_input": "2022-08-06T22:54:05.928073Z",
     "iopub.status.busy": "2022-08-06T22:54:05.927221Z",
     "iopub.status.idle": "2022-08-06T22:54:05.931859Z",
     "shell.execute_reply": "2022-08-06T22:54:05.930706Z"
    },
    "papermill": {
     "duration": 0.01521,
     "end_time": "2022-08-06T22:54:05.934057",
     "exception": false,
     "start_time": "2022-08-06T22:54:05.918847",
     "status": "completed"
    },
    "tags": []
   },
   "outputs": [],
   "source": [
    "# Uncomment to see a hint\n",
    "#q2.hint()\n",
    "\n",
    "# Uncomment to see the solution\n",
    "#q2.solution()"
   ]
  },
  {
   "cell_type": "markdown",
   "id": "9c5d574b",
   "metadata": {
    "papermill": {
     "duration": 0.006727,
     "end_time": "2022-08-06T22:54:05.947891",
     "exception": false,
     "start_time": "2022-08-06T22:54:05.941164",
     "status": "completed"
    },
    "tags": []
   },
   "source": [
    "# Question 3\n",
    "\n",
    "You are a programmer at a water agency.  Recently, you have been tasked to write a function `get_water_bill()` that takes as input:\n",
    "- `num_gallons` = the number of gallons of water that a customer used that month.  (This will always be an integer with no decimal part.)\n",
    "\n",
    "It should output the water bill.  \n",
    "\n",
    "The water agency uses this pricing structure:\n",
    "<table style=\"width: 100%;\">\n",
    "<tbody>\n",
    "<tr><th><b>Tier</b></th><th><b>Amount in gallons</b></th><th><b>Price per 1000 gallons</b></th></tr>\n",
    "<tr>\n",
    "<td>Tier 1</td>\n",
    "<td>0 - 8,000</td>\n",
    "<td>\\$5</td>\n",
    "</tr>\n",
    "<tr>\n",
    "<td>Tier 2</td>\n",
    "<td>8,001 - 22,000</td>\n",
    "<td>\\$6</td>\n",
    "</tr>\n",
    "<tr>\n",
    "<td>Tier 3</td>\n",
    "<td>22,001 - 30,000</td>\n",
    "<td>\\$7</td>\n",
    "</tr>\n",
    "<tr>\n",
    "<td>Tier 4</td>\n",
    "<td>30,001+</td>\n",
    "<td>\\$10</td>\n",
    "</tr>\n",
    "</tbody>\n",
    "</table>\n",
    "\n",
    "For example: \n",
    "- Someone who uses 10,000 gallons of water in a month is placed in Tier 2, and needs to pay a water bill of \\\\$6 * 10 = \\\\$60.  In other words, `get_water_bill(10000)` should return `60.0`.\n",
    "- Someone who uses 25,000 gallons of water in a month is placed in Tier 3, and needs to pay a water bill of \\\\$7 * 25 = \\\\$175.  In other words, `get_water_bill(25000)` should return `175.0`.\n",
    "\n",
    "**Do not round your answer.**  So, your answer might return fractions of a penny."
   ]
  },
  {
   "cell_type": "code",
   "execution_count": 6,
   "id": "9703175c",
   "metadata": {
    "execution": {
     "iopub.execute_input": "2022-08-06T22:54:05.964195Z",
     "iopub.status.busy": "2022-08-06T22:54:05.963434Z",
     "iopub.status.idle": "2022-08-06T22:54:05.973228Z",
     "shell.execute_reply": "2022-08-06T22:54:05.972247Z"
    },
    "papermill": {
     "duration": 0.020486,
     "end_time": "2022-08-06T22:54:05.975358",
     "exception": false,
     "start_time": "2022-08-06T22:54:05.954872",
     "status": "completed"
    },
    "tags": []
   },
   "outputs": [
    {
     "data": {
      "application/javascript": [
       "parent.postMessage({\"jupyterEvent\": \"custom.exercise_interaction\", \"data\": {\"outcomeType\": 1, \"valueTowardsCompletion\": 0.2, \"interactionType\": 1, \"questionType\": 2, \"questionId\": \"3_GetWaterBill\", \"learnToolsVersion\": \"0.3.4\", \"failureMessage\": \"\", \"exceptionClass\": \"\", \"trace\": \"\"}}, \"*\")"
      ],
      "text/plain": [
       "<IPython.core.display.Javascript object>"
      ]
     },
     "metadata": {},
     "output_type": "display_data"
    },
    {
     "data": {
      "text/markdown": [
       "<span style=\"color:#33cc33\">Correct</span>"
      ],
      "text/plain": [
       "Correct"
      ]
     },
     "metadata": {},
     "output_type": "display_data"
    }
   ],
   "source": [
    "# TODO: Edit the function to return the correct bill for different\n",
    "# values of num_gallons\n",
    "def get_water_bill(num_gallons):\n",
    "    if num_gallons < 8001:\n",
    "        bill = (num_gallons/1000) * 5\n",
    "    elif num_gallons < 22001:\n",
    "        bill = (num_gallons/1000) * 6\n",
    "    elif num_gallons < 30001:\n",
    "        bill = (num_gallons/1000) * 7\n",
    "    else:\n",
    "        bill = (num_gallons/1000) * 10\n",
    "    return bill\n",
    "\n",
    "# Check your answer\n",
    "q3.check()"
   ]
  },
  {
   "cell_type": "code",
   "execution_count": 7,
   "id": "33d4d93b",
   "metadata": {
    "execution": {
     "iopub.execute_input": "2022-08-06T22:54:05.992818Z",
     "iopub.status.busy": "2022-08-06T22:54:05.992111Z",
     "iopub.status.idle": "2022-08-06T22:54:05.996333Z",
     "shell.execute_reply": "2022-08-06T22:54:05.995309Z"
    },
    "papermill": {
     "duration": 0.015682,
     "end_time": "2022-08-06T22:54:05.998434",
     "exception": false,
     "start_time": "2022-08-06T22:54:05.982752",
     "status": "completed"
    },
    "tags": []
   },
   "outputs": [],
   "source": [
    "# Uncomment to see a hint\n",
    "#q3.hint()\n",
    "\n",
    "# Uncomment to see the solution\n",
    "#q3.solution()"
   ]
  },
  {
   "cell_type": "markdown",
   "id": "2f079b3a",
   "metadata": {
    "papermill": {
     "duration": 0.007144,
     "end_time": "2022-08-06T22:54:06.013029",
     "exception": false,
     "start_time": "2022-08-06T22:54:06.005885",
     "status": "completed"
    },
    "tags": []
   },
   "source": [
    "# Question 4\n",
    "\n",
    "You work for a company that provides data services.  For \\\\$100/month, your company provides 15 gigabytes (GB) of data.  Then, any additional data is billed at \\\\$0.10/MB (or \\\\$100/GB, since 1,000 MB are in 1 GB).\n",
    "\n",
    "Use the next code cell to write a function `get_phone_bill()` that takes as input:\n",
    "- `gb` = number of GB that the customer used in a month\n",
    "\n",
    "It should return the customer's total phone bill.\n",
    "\n",
    "For instance:\n",
    "- A customer who uses 10 GB of data in one month is billed only \\\\$100, since the usage stayed under 15 GB.  In other words, `get_phone_bill(10)` should return `100`.\n",
    "- A customer who uses 15.1 GB (or 15 GB + 100 MB) of data in one month has gone over by .1 GB, so they must pay \\\\$100 (cost of plan), plus \\\\$0.10 * 100 = \\\\$10, for a total bill of \\\\$110.  In other words, `get_phone_bill(15.1)` should return `110`.\n",
    "\n",
    "Do not round your answer."
   ]
  },
  {
   "cell_type": "code",
   "execution_count": 8,
   "id": "c51cf045",
   "metadata": {
    "execution": {
     "iopub.execute_input": "2022-08-06T22:54:06.030047Z",
     "iopub.status.busy": "2022-08-06T22:54:06.029332Z",
     "iopub.status.idle": "2022-08-06T22:54:06.038239Z",
     "shell.execute_reply": "2022-08-06T22:54:06.037300Z"
    },
    "papermill": {
     "duration": 0.020035,
     "end_time": "2022-08-06T22:54:06.040409",
     "exception": false,
     "start_time": "2022-08-06T22:54:06.020374",
     "status": "completed"
    },
    "tags": []
   },
   "outputs": [
    {
     "data": {
      "application/javascript": [
       "parent.postMessage({\"jupyterEvent\": \"custom.exercise_interaction\", \"data\": {\"outcomeType\": 1, \"valueTowardsCompletion\": 0.2, \"interactionType\": 1, \"questionType\": 2, \"questionId\": \"4_GetPhoneBill\", \"learnToolsVersion\": \"0.3.4\", \"failureMessage\": \"\", \"exceptionClass\": \"\", \"trace\": \"\"}}, \"*\")"
      ],
      "text/plain": [
       "<IPython.core.display.Javascript object>"
      ]
     },
     "metadata": {},
     "output_type": "display_data"
    },
    {
     "data": {
      "text/markdown": [
       "<span style=\"color:#33cc33\">Correct</span>"
      ],
      "text/plain": [
       "Correct"
      ]
     },
     "metadata": {},
     "output_type": "display_data"
    }
   ],
   "source": [
    "# TODO: Edit the function to return the correct bill for different\n",
    "# values of GB\n",
    "def get_phone_bill(gb):\n",
    "    if gb > 15.1:\n",
    "        bill = 100 + ((gb-15) *100)\n",
    "    else:\n",
    "        bill = 100\n",
    "    return bill\n",
    "\n",
    "# Check your answer\n",
    "q4.check()"
   ]
  },
  {
   "cell_type": "code",
   "execution_count": 9,
   "id": "e4758b07",
   "metadata": {
    "execution": {
     "iopub.execute_input": "2022-08-06T22:54:06.058226Z",
     "iopub.status.busy": "2022-08-06T22:54:06.057401Z",
     "iopub.status.idle": "2022-08-06T22:54:06.062662Z",
     "shell.execute_reply": "2022-08-06T22:54:06.061724Z"
    },
    "papermill": {
     "duration": 0.017371,
     "end_time": "2022-08-06T22:54:06.065481",
     "exception": false,
     "start_time": "2022-08-06T22:54:06.048110",
     "status": "completed"
    },
    "tags": []
   },
   "outputs": [],
   "source": [
    "# Uncomment to see a hint\n",
    "#q4.hint()\n",
    "\n",
    "# Uncomment to see the solution\n",
    "#q4.solution()"
   ]
  },
  {
   "cell_type": "markdown",
   "id": "840ca45f",
   "metadata": {
    "papermill": {
     "duration": 0.007262,
     "end_time": "2022-08-06T22:54:06.080666",
     "exception": false,
     "start_time": "2022-08-06T22:54:06.073404",
     "status": "completed"
    },
    "tags": []
   },
   "source": [
    "# 🌶️ Question 5\n",
    "\n",
    "In Mexico, foods and beverages that are high in saturated fat, trans fat, sugar, sodium, and/or calories appear with warning labels that are designed to help consumers make healthy food choices.\n",
    "\n",
    "For instance, the [box of cookies](https://world.openfoodfacts.org/product/7501000673209/florentinas-gamesa) in the image below appears with two labels (in the upper right corner):\n",
    "- EXCESO CALORÍAS (in English, EXCESS CALORIES)\n",
    "- EXCESO AZÚCARES (in English, EXCESS SUGAR)\n",
    "\n",
    "<center><img src=\"https://i.imgur.com/VXYKHnM.png\" alt=\"drawing\" width=\"500\"/></center>\n",
    "\n",
    "In this question, you'll work with a function `get_labels()` that takes the nutritional details about a food item and prints the needed warning labels.  This function takes several inputs:\n",
    "- `food_type` = one of `\"solid\"` or `\"liquid\"`\n",
    "- `serving_size` = size of one serving (if solid, in grams; if liquid, in milliliters)\n",
    "- `calories_per_serving` = calories in one serving\n",
    "- `saturated_fat_g` = grams of saturated fat in one serving\n",
    "- `trans_fat_g` = grams of trans fat in one serving\n",
    "- `sodium_mg` = mg of sodium in one serving\n",
    "- `sugars_g` = grams of sugar in one serving\n",
    "\n",
    "Note that some of the code here should feel unfamiliar to you, since we have not shared the details of how some of the functions like `excess_sugar()` or `excess_saturated_fat()` work.  But at a high level, these are functions that return a value of `True` if the food is deemed to have an excess of sugar or saturated fat, respectively.  These functions are used within the `get_labels()` function, and whenever there is an excess (of sugar or saturated fat, but also of trans fat, sodium, or calories), it prints the corresponding label."
   ]
  },
  {
   "cell_type": "code",
   "execution_count": 10,
   "id": "f129f1b0",
   "metadata": {
    "execution": {
     "iopub.execute_input": "2022-08-06T22:54:06.098136Z",
     "iopub.status.busy": "2022-08-06T22:54:06.097417Z",
     "iopub.status.idle": "2022-08-06T22:54:06.107244Z",
     "shell.execute_reply": "2022-08-06T22:54:06.105966Z"
    },
    "papermill": {
     "duration": 0.024012,
     "end_time": "2022-08-06T22:54:06.112286",
     "exception": false,
     "start_time": "2022-08-06T22:54:06.088274",
     "status": "completed"
    },
    "tags": []
   },
   "outputs": [],
   "source": [
    "# import functions needed to make get_labels work\n",
    "from learntools.intro_to_programming.ex4q5 import excess_sugar, excess_saturated_fat, excess_trans_fat, excess_sodium, excess_calories\n",
    "\n",
    "def get_labels(food_type, serving_size, calories_per_serving, saturated_fat_g, trans_fat_g, sodium_mg, sugars_g):\n",
    "    # Print messages based on findings\n",
    "    if excess_sugar(sugars_g, calories_per_serving) == True:\n",
    "        print(\"EXCESO AZÚCARES / EXCESS SUGAR\")\n",
    "    if excess_saturated_fat(saturated_fat_g, calories_per_serving) == True:\n",
    "        print(\"EXCESO GRASAS SATURADAS / EXCESS SATURATED FAT\")\n",
    "    if excess_trans_fat(trans_fat_g, calories_per_serving) == True:\n",
    "        print(\"EXCESO GRASAS TRANS / EXCESS TRANS FAT\")\n",
    "    if excess_sodium(calories_per_serving, sodium_mg) == True:\n",
    "        print(\"EXCESO SODIO / EXCESS SODIUM\")\n",
    "    if excess_calories(food_type, calories_per_serving, serving_size) == True:\n",
    "        print(\"EXCESO CALORÍAS / EXCESS CALORIES\")"
   ]
  },
  {
   "cell_type": "markdown",
   "id": "7ef8e1fc",
   "metadata": {
    "papermill": {
     "duration": 0.008977,
     "end_time": "2022-08-06T22:54:06.134495",
     "exception": false,
     "start_time": "2022-08-06T22:54:06.125518",
     "status": "completed"
    },
    "tags": []
   },
   "source": [
    "The next code cell demonstrates how to use `get_labels()` to get the warning labels that the food item should contain.  We begin with [bologna](https://world.openfoodfacts.org/product/4099100179378/bologna).  Here is [an image](https://imgur.com/Cfcx72e) with all of the nutritional information.  Note that for this food,\n",
    "- `food_type = \"solid\"` (because bologna is a solid and not a liquid)\n",
    "- `serving_size = 32` (the serving size is 32 grams)\n",
    "- `calories_per_serving = 110` (there are 110 calories per serving)\n",
    "- `saturated_fat_g = 2.5` (there are 2.5 grams of saturated fat per serving)\n",
    "- `trans_fat_g = 0` (there are 0 grams of trans fat per serving)\n",
    "- `sodium_mg = 400` (there are 400 mg of sodium per serving)\n",
    "- `sugars_g = 1` (the nutrition facts say <1g, but we will round it up to 1 gram per serving to be safe)\n",
    "\n",
    "By supplying all of these values to the function, we can print the warning labels."
   ]
  },
  {
   "cell_type": "code",
   "execution_count": 11,
   "id": "d4649e35",
   "metadata": {
    "execution": {
     "iopub.execute_input": "2022-08-06T22:54:06.157798Z",
     "iopub.status.busy": "2022-08-06T22:54:06.156981Z",
     "iopub.status.idle": "2022-08-06T22:54:06.163549Z",
     "shell.execute_reply": "2022-08-06T22:54:06.162191Z"
    },
    "papermill": {
     "duration": 0.023022,
     "end_time": "2022-08-06T22:54:06.167660",
     "exception": false,
     "start_time": "2022-08-06T22:54:06.144638",
     "status": "completed"
    },
    "tags": []
   },
   "outputs": [
    {
     "name": "stdout",
     "output_type": "stream",
     "text": [
      "EXCESO GRASAS SATURADAS / EXCESS SATURATED FAT\n",
      "EXCESO SODIO / EXCESS SODIUM\n",
      "EXCESO CALORÍAS / EXCESS CALORIES\n"
     ]
    }
   ],
   "source": [
    "# bologna https://world.openfoodfacts.org/product/4099100179378/bologna\n",
    "get_labels(\"solid\", 32, 110, 2.5, 0, 400, 1)"
   ]
  },
  {
   "cell_type": "markdown",
   "id": "c5ed1b40",
   "metadata": {
    "papermill": {
     "duration": 0.013008,
     "end_time": "2022-08-06T22:54:06.194969",
     "exception": false,
     "start_time": "2022-08-06T22:54:06.181961",
     "status": "completed"
    },
    "tags": []
   },
   "source": [
    "This bologna has three labels, printed in the output above.\n",
    "\n",
    "For the rest of this question, you will use the same `get_labels()` function to determine the labels for more foods.  This question is designed to help you get practice with feeling comfortable with code that other people have written, and where you don't have time to review every single line of code before interacting with it.  For instance, when you take the [Intro to Machine Learning course](http://www.kaggle.com/learn/intro-to-machine-learning), you'll work with a Python package called \"scikit-learn\", which is a large collection of code that you'll learn how to run without reviewing all of the code in detail (as it would take too long, and you can trust that it was implemented correctly).\n",
    "\n",
    "In general, as you continue coding in Python, you will often be running code that other people have written.  This is common practice for advanced programmers.\n",
    "\n",
    "In the next code cell, fill in the values for [this cereal](https://world.openfoodfacts.org/product/7501008023624/zucaritas-kellogg-s).  Here is [an image](https://imgur.com/a/MUxzHVU) with all of the nutritional information.\n",
    "\n",
    "**Note**: running the line of code below as-is will return an error.  You have to fill in the nutritional values first."
   ]
  },
  {
   "cell_type": "code",
   "execution_count": 12,
   "id": "00ebd414",
   "metadata": {
    "execution": {
     "iopub.execute_input": "2022-08-06T22:54:06.220715Z",
     "iopub.status.busy": "2022-08-06T22:54:06.219783Z",
     "iopub.status.idle": "2022-08-06T22:54:06.225987Z",
     "shell.execute_reply": "2022-08-06T22:54:06.224785Z"
    },
    "papermill": {
     "duration": 0.021383,
     "end_time": "2022-08-06T22:54:06.228681",
     "exception": false,
     "start_time": "2022-08-06T22:54:06.207298",
     "status": "completed"
    },
    "tags": []
   },
   "outputs": [],
   "source": [
    "# zucaritas cereal https://world.openfoodfacts.org/product/7501008023624/zucaritas-kellogg-s\n",
    "# TODO: Uncomment the line below, fill in the values, and run the function\n",
    "#get_labels()"
   ]
  },
  {
   "cell_type": "markdown",
   "id": "63784a3c",
   "metadata": {
    "papermill": {
     "duration": 0.012199,
     "end_time": "2022-08-06T22:54:06.253070",
     "exception": false,
     "start_time": "2022-08-06T22:54:06.240871",
     "status": "completed"
    },
    "tags": []
   },
   "source": [
    "Next, try [these mozzarella sticks](https://world-es.openfoodfacts.org/producto/0062325540104/mozzarella-cheese-sticks).  Here is [an image](https://imgur.com/rcdB7VH) with all of the nutritional information."
   ]
  },
  {
   "cell_type": "code",
   "execution_count": 13,
   "id": "075ea856",
   "metadata": {
    "execution": {
     "iopub.execute_input": "2022-08-06T22:54:06.271204Z",
     "iopub.status.busy": "2022-08-06T22:54:06.270370Z",
     "iopub.status.idle": "2022-08-06T22:54:06.275542Z",
     "shell.execute_reply": "2022-08-06T22:54:06.274612Z"
    },
    "papermill": {
     "duration": 0.016889,
     "end_time": "2022-08-06T22:54:06.277965",
     "exception": false,
     "start_time": "2022-08-06T22:54:06.261076",
     "status": "completed"
    },
    "tags": []
   },
   "outputs": [],
   "source": [
    "# mozzarella sticks https://world-es.openfoodfacts.org/producto/0062325540104/mozzarella-cheese-sticks\n",
    "# TODO: Uncomment the line below, fill in the values, and run the function\n",
    "#get_labels()"
   ]
  },
  {
   "cell_type": "markdown",
   "id": "c388c732",
   "metadata": {
    "papermill": {
     "duration": 0.007271,
     "end_time": "2022-08-06T22:54:06.292873",
     "exception": false,
     "start_time": "2022-08-06T22:54:06.285602",
     "status": "completed"
    },
    "tags": []
   },
   "source": [
    "Feel free to skip to the end of the notebook now and run `q5.check()` to complete the exercise.  If you want to try more foods, \n",
    "- try [these cookies](https://world.openfoodfacts.org/product/0069700118545/biscuits-au-sucre-pretraches).  Here is [an image](https://imgur.com/2Bc271o) with all of the nutritional information.\n",
    "- try [this soda](https://world-es.openfoodfacts.org/producto/0078000113464/orange-soda-sunkist).  Here is [an image](https://imgur.com/RsBYa8E) with all of the nutritional information.\n",
    "\n",
    "Use the two code cells below for this."
   ]
  },
  {
   "cell_type": "code",
   "execution_count": 14,
   "id": "46944781",
   "metadata": {
    "execution": {
     "iopub.execute_input": "2022-08-06T22:54:06.310312Z",
     "iopub.status.busy": "2022-08-06T22:54:06.309466Z",
     "iopub.status.idle": "2022-08-06T22:54:06.314895Z",
     "shell.execute_reply": "2022-08-06T22:54:06.313861Z"
    },
    "papermill": {
     "duration": 0.017088,
     "end_time": "2022-08-06T22:54:06.317431",
     "exception": false,
     "start_time": "2022-08-06T22:54:06.300343",
     "status": "completed"
    },
    "tags": []
   },
   "outputs": [],
   "source": [
    "# pillsbury cookies https://world.openfoodfacts.org/product/0069700118545/biscuits-au-sucre-pretraches\n",
    "# TODO: Uncomment the line below, fill in the values, and run the function\n",
    "#get_labels()"
   ]
  },
  {
   "cell_type": "code",
   "execution_count": 15,
   "id": "9cffe6a1",
   "metadata": {
    "execution": {
     "iopub.execute_input": "2022-08-06T22:54:06.334443Z",
     "iopub.status.busy": "2022-08-06T22:54:06.334034Z",
     "iopub.status.idle": "2022-08-06T22:54:06.338892Z",
     "shell.execute_reply": "2022-08-06T22:54:06.337706Z"
    },
    "papermill": {
     "duration": 0.015951,
     "end_time": "2022-08-06T22:54:06.341182",
     "exception": false,
     "start_time": "2022-08-06T22:54:06.325231",
     "status": "completed"
    },
    "tags": []
   },
   "outputs": [],
   "source": [
    "# sunkist orange soda https://world-es.openfoodfacts.org/producto/0078000113464/orange-soda-sunkist\n",
    "# TODO: Uncomment the line below, fill in the values, and run the function\n",
    "#get_labels()"
   ]
  },
  {
   "cell_type": "markdown",
   "id": "19c9f02a",
   "metadata": {
    "papermill": {
     "duration": 0.00723,
     "end_time": "2022-08-06T22:54:06.356227",
     "exception": false,
     "start_time": "2022-08-06T22:54:06.348997",
     "status": "completed"
    },
    "tags": []
   },
   "source": [
    "Once you have finished investigating the food items in this question, run the final code cell to get credit for completing this problem."
   ]
  },
  {
   "cell_type": "code",
   "execution_count": 16,
   "id": "0ae72d0a",
   "metadata": {
    "execution": {
     "iopub.execute_input": "2022-08-06T22:54:06.373135Z",
     "iopub.status.busy": "2022-08-06T22:54:06.372361Z",
     "iopub.status.idle": "2022-08-06T22:54:06.380563Z",
     "shell.execute_reply": "2022-08-06T22:54:06.379629Z"
    },
    "papermill": {
     "duration": 0.019,
     "end_time": "2022-08-06T22:54:06.382782",
     "exception": false,
     "start_time": "2022-08-06T22:54:06.363782",
     "status": "completed"
    },
    "tags": []
   },
   "outputs": [
    {
     "data": {
      "application/javascript": [
       "parent.postMessage({\"jupyterEvent\": \"custom.exercise_interaction\", \"data\": {\"outcomeType\": 1, \"valueTowardsCompletion\": 0.2, \"interactionType\": 1, \"questionType\": 2, \"questionId\": \"5_GetLabels\", \"learnToolsVersion\": \"0.3.4\", \"failureMessage\": \"\", \"exceptionClass\": \"\", \"trace\": \"\"}}, \"*\")"
      ],
      "text/plain": [
       "<IPython.core.display.Javascript object>"
      ]
     },
     "metadata": {},
     "output_type": "display_data"
    },
    {
     "data": {
      "text/markdown": [
       "<span style=\"color:#33cc33\">Once you have determined the labels for all of the food items, you're ready to move on to the next lesson!</span>"
      ],
      "text/plain": [
       "Once you have determined the labels for all of the food items, you're ready to move on to the next lesson!"
      ]
     },
     "metadata": {},
     "output_type": "display_data"
    }
   ],
   "source": [
    "# Get credit for completing the problem\n",
    "q5.check()"
   ]
  },
  {
   "cell_type": "markdown",
   "id": "954a3c4a",
   "metadata": {
    "papermill": {
     "duration": 0.007577,
     "end_time": "2022-08-06T22:54:06.398380",
     "exception": false,
     "start_time": "2022-08-06T22:54:06.390803",
     "status": "completed"
    },
    "tags": []
   },
   "source": [
    "# Keep going\n",
    "\n",
    "Continue to the next lesson to **[learn about Python lists](https://www.kaggle.com/alexisbcook/intro-to-lists)**."
   ]
  },
  {
   "cell_type": "markdown",
   "id": "80ed6976",
   "metadata": {
    "papermill": {
     "duration": 0.007488,
     "end_time": "2022-08-06T22:54:06.413628",
     "exception": false,
     "start_time": "2022-08-06T22:54:06.406140",
     "status": "completed"
    },
    "tags": []
   },
   "source": [
    "---\n",
    "\n",
    "\n",
    "\n",
    "\n",
    "*Have questions or comments? Visit the [course discussion forum](https://www.kaggle.com/learn/intro-to-programming/discussion) to chat with other learners.*"
   ]
  }
 ],
 "metadata": {
  "kernelspec": {
   "display_name": "Python 3",
   "language": "python",
   "name": "python3"
  },
  "language_info": {
   "codemirror_mode": {
    "name": "ipython",
    "version": 3
   },
   "file_extension": ".py",
   "mimetype": "text/x-python",
   "name": "python",
   "nbconvert_exporter": "python",
   "pygments_lexer": "ipython3",
   "version": "3.7.12"
  },
  "papermill": {
   "default_parameters": {},
   "duration": 11.286008,
   "end_time": "2022-08-06T22:54:07.044219",
   "environment_variables": {},
   "exception": null,
   "input_path": "__notebook__.ipynb",
   "output_path": "__notebook__.ipynb",
   "parameters": {},
   "start_time": "2022-08-06T22:53:55.758211",
   "version": "2.3.4"
  }
 },
 "nbformat": 4,
 "nbformat_minor": 5
}
