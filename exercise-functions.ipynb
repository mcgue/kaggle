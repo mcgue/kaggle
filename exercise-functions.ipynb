{
 "cells": [
  {
   "cell_type": "markdown",
   "id": "358444d3",
   "metadata": {
    "papermill": {
     "duration": 0.007546,
     "end_time": "2022-07-21T16:55:28.601465",
     "exception": false,
     "start_time": "2022-07-21T16:55:28.593919",
     "status": "completed"
    },
    "tags": []
   },
   "source": [
    "**This notebook is an exercise in the [Intro to Programming](https://www.kaggle.com/learn/intro-to-programming) course.  You can reference the tutorial at [this link](https://www.kaggle.com/alexisbcook/functions).**\n",
    "\n",
    "---\n"
   ]
  },
  {
   "cell_type": "markdown",
   "id": "87768538",
   "metadata": {
    "papermill": {
     "duration": 0.006136,
     "end_time": "2022-07-21T16:55:28.614236",
     "exception": false,
     "start_time": "2022-07-21T16:55:28.608100",
     "status": "completed"
    },
    "tags": []
   },
   "source": [
    "In the tutorial, you learned about functions. In this exercise, you'll write some of your own!\n",
    "\n",
    "# Set up the notebook\n",
    "\n",
    "Run the next code cell without changes to set up the notebook."
   ]
  },
  {
   "cell_type": "code",
   "execution_count": 1,
   "id": "c5d88d4e",
   "metadata": {
    "execution": {
     "iopub.execute_input": "2022-07-21T16:55:28.629557Z",
     "iopub.status.busy": "2022-07-21T16:55:28.628806Z",
     "iopub.status.idle": "2022-07-21T16:55:28.687164Z",
     "shell.execute_reply": "2022-07-21T16:55:28.686187Z"
    },
    "papermill": {
     "duration": 0.069472,
     "end_time": "2022-07-21T16:55:28.690184",
     "exception": false,
     "start_time": "2022-07-21T16:55:28.620712",
     "status": "completed"
    },
    "tags": []
   },
   "outputs": [
    {
     "name": "stdout",
     "output_type": "stream",
     "text": [
      "Setup complete.\n"
     ]
    }
   ],
   "source": [
    "# Set up the exercise\n",
    "import math\n",
    "from learntools.core import binder\n",
    "binder.bind(globals())\n",
    "from learntools.intro_to_programming.ex2 import *\n",
    "print('Setup complete.')"
   ]
  },
  {
   "cell_type": "markdown",
   "id": "32cd653f",
   "metadata": {
    "papermill": {
     "duration": 0.006361,
     "end_time": "2022-07-21T16:55:28.704132",
     "exception": false,
     "start_time": "2022-07-21T16:55:28.697771",
     "status": "completed"
    },
    "tags": []
   },
   "source": [
    "# Question 1\n",
    "\n",
    "In the [House Prices - Advanced Regression Techniques competition](https://www.kaggle.com/c/house-prices-advanced-regression-techniques/overview), you need to use information like the number of bedrooms and bathrooms to predict the price of a house.  Inspired by this competition, you'll write your own function to do this.\n",
    "\n",
    "In the next code cell, create a function `get_expected_cost()` that has two arguments:\n",
    "- `beds` - number of bedrooms \n",
    "- `baths` - number of bathrooms\n",
    "\n",
    "It should return the expected cost of a house with that number of bedrooms and bathrooms.  Assume that:\n",
    "- the expected cost for a house with 0 bedrooms and 0 bathrooms is `80000`.  \n",
    "- each bedroom adds `30000` to the expected cost\n",
    "- each bathroom adds `10000` to the expected cost.\n",
    "\n",
    "For instance, \n",
    "- a house with 1 bedroom and 1 bathroom has an expected cost of `120000`, and \n",
    "- a house with 2 bedrooms and 1 bathroom has an expected cost of `150000`."
   ]
  },
  {
   "cell_type": "code",
   "execution_count": 2,
   "id": "d6174e83",
   "metadata": {
    "execution": {
     "iopub.execute_input": "2022-07-21T16:55:28.719641Z",
     "iopub.status.busy": "2022-07-21T16:55:28.719023Z",
     "iopub.status.idle": "2022-07-21T16:55:28.729452Z",
     "shell.execute_reply": "2022-07-21T16:55:28.728653Z"
    },
    "papermill": {
     "duration": 0.020735,
     "end_time": "2022-07-21T16:55:28.731456",
     "exception": false,
     "start_time": "2022-07-21T16:55:28.710721",
     "status": "completed"
    },
    "tags": []
   },
   "outputs": [
    {
     "data": {
      "application/javascript": [
       "parent.postMessage({\"jupyterEvent\": \"custom.exercise_interaction\", \"data\": {\"outcomeType\": 1, \"valueTowardsCompletion\": 0.2, \"interactionType\": 1, \"questionType\": 2, \"questionId\": \"1_GetExpectedCost\", \"learnToolsVersion\": \"0.3.4\", \"failureMessage\": \"\", \"exceptionClass\": \"\", \"trace\": \"\"}}, \"*\")"
      ],
      "text/plain": [
       "<IPython.core.display.Javascript object>"
      ]
     },
     "metadata": {},
     "output_type": "display_data"
    },
    {
     "data": {
      "text/markdown": [
       "<span style=\"color:#33cc33\">Correct</span>"
      ],
      "text/plain": [
       "Correct"
      ]
     },
     "metadata": {},
     "output_type": "display_data"
    }
   ],
   "source": [
    "# TODO: Complete the function\n",
    "def get_expected_cost(beds, baths):\n",
    "    value = 80000 + (beds * 30000) + (baths * 10000)\n",
    "    return value\n",
    "\n",
    "# Check your answer \n",
    "q1.check()"
   ]
  },
  {
   "cell_type": "code",
   "execution_count": 3,
   "id": "a1de6094",
   "metadata": {
    "execution": {
     "iopub.execute_input": "2022-07-21T16:55:28.747389Z",
     "iopub.status.busy": "2022-07-21T16:55:28.746607Z",
     "iopub.status.idle": "2022-07-21T16:55:28.750665Z",
     "shell.execute_reply": "2022-07-21T16:55:28.749847Z"
    },
    "papermill": {
     "duration": 0.014364,
     "end_time": "2022-07-21T16:55:28.752655",
     "exception": false,
     "start_time": "2022-07-21T16:55:28.738291",
     "status": "completed"
    },
    "tags": []
   },
   "outputs": [],
   "source": [
    "# Uncomment to see a hint\n",
    "#q1.hint()\n",
    "\n",
    "# Uncomment to view the solution\n",
    "#q1.solution()"
   ]
  },
  {
   "cell_type": "markdown",
   "id": "acdf1159",
   "metadata": {
    "papermill": {
     "duration": 0.006972,
     "end_time": "2022-07-21T16:55:28.766641",
     "exception": false,
     "start_time": "2022-07-21T16:55:28.759669",
     "status": "completed"
    },
    "tags": []
   },
   "source": [
    "# Question 2\n",
    "\n",
    "You are thinking about buying a home and want to get an idea of how much you will spend, based on the number of bedrooms and bathrooms.  You are trying to decide between four different options:\n",
    "- Option 1: house with two bedrooms and three bathrooms\n",
    "- Option 2: house with three bedrooms and two bathrooms\n",
    "- Option 3: house with three bedrooms and three bathrooms\n",
    "- Option 4: house with three bedrooms and four bathrooms\n",
    "\n",
    "Use the `get_expected_cost()` function you defined in question 1 to set `option_1`, `option_2`, `option_3`, and `option_4` to the expected cost of each option."
   ]
  },
  {
   "cell_type": "code",
   "execution_count": 4,
   "id": "4f36f063",
   "metadata": {
    "execution": {
     "iopub.execute_input": "2022-07-21T16:55:28.782717Z",
     "iopub.status.busy": "2022-07-21T16:55:28.782035Z",
     "iopub.status.idle": "2022-07-21T16:55:28.792723Z",
     "shell.execute_reply": "2022-07-21T16:55:28.791625Z"
    },
    "papermill": {
     "duration": 0.021452,
     "end_time": "2022-07-21T16:55:28.794983",
     "exception": false,
     "start_time": "2022-07-21T16:55:28.773531",
     "status": "completed"
    },
    "tags": []
   },
   "outputs": [
    {
     "name": "stdout",
     "output_type": "stream",
     "text": [
      "170000\n",
      "190000\n",
      "200000\n",
      "210000\n"
     ]
    },
    {
     "data": {
      "application/javascript": [
       "parent.postMessage({\"jupyterEvent\": \"custom.exercise_interaction\", \"data\": {\"outcomeType\": 1, \"valueTowardsCompletion\": 0.2, \"interactionType\": 1, \"questionType\": 1, \"questionId\": \"2_RunGetExpectedCost\", \"learnToolsVersion\": \"0.3.4\", \"failureMessage\": \"\", \"exceptionClass\": \"\", \"trace\": \"\"}}, \"*\")"
      ],
      "text/plain": [
       "<IPython.core.display.Javascript object>"
      ]
     },
     "metadata": {},
     "output_type": "display_data"
    },
    {
     "data": {
      "text/markdown": [
       "<span style=\"color:#33cc33\">Correct</span>"
      ],
      "text/plain": [
       "Correct"
      ]
     },
     "metadata": {},
     "output_type": "display_data"
    }
   ],
   "source": [
    "# TODO: Use the get_expected_cost function to fill in each value\n",
    "option_one = get_expected_cost(2,3)\n",
    "option_two = get_expected_cost(3,2)\n",
    "option_three = get_expected_cost(3,3)\n",
    "option_four = get_expected_cost(3,4)\n",
    "\n",
    "print(option_one)\n",
    "print(option_two)\n",
    "print(option_three)\n",
    "print(option_four)\n",
    "\n",
    "# Check your answer\n",
    "q2.check()"
   ]
  },
  {
   "cell_type": "code",
   "execution_count": 5,
   "id": "0506c1ed",
   "metadata": {
    "execution": {
     "iopub.execute_input": "2022-07-21T16:55:28.811390Z",
     "iopub.status.busy": "2022-07-21T16:55:28.810980Z",
     "iopub.status.idle": "2022-07-21T16:55:28.815279Z",
     "shell.execute_reply": "2022-07-21T16:55:28.814161Z"
    },
    "papermill": {
     "duration": 0.015359,
     "end_time": "2022-07-21T16:55:28.817527",
     "exception": false,
     "start_time": "2022-07-21T16:55:28.802168",
     "status": "completed"
    },
    "tags": []
   },
   "outputs": [],
   "source": [
    "# Uncomment to see a hint\n",
    "#q2.hint()\n",
    "\n",
    "# Uncomment to view the solution\n",
    "#q2.solution()"
   ]
  },
  {
   "cell_type": "markdown",
   "id": "1b72080d",
   "metadata": {
    "papermill": {
     "duration": 0.006875,
     "end_time": "2022-07-21T16:55:28.831711",
     "exception": false,
     "start_time": "2022-07-21T16:55:28.824836",
     "status": "completed"
    },
    "tags": []
   },
   "source": [
    "# Question 3\n",
    "\n",
    "You're a home decorator, and you'd like to use Python to streamline some of your work.  Specifically, you're creating a tool that you intend to use to calculate the cost of painting a room.\n",
    "\n",
    "As a first step, define a function `get_cost()` that takes as input:\n",
    "- `sqft_walls` = total square feet of walls to be painted\n",
    "- `sqft_ceiling` = square feet of ceiling to be painted\n",
    "- `sqft_per_gallon` = number of square feet that you can cover with one gallon of paint\n",
    "- `cost_per_gallon` = cost (in dollars) of one gallon of paint\n",
    "\n",
    "It should return the cost (in dollars) of putting one coat of paint on all walls and the ceiling.  Assume you can buy the exact amount of paint that you need, so you can buy partial gallons (e.g., if you need 7.523 gallons, you can buy that exact amount, instead of needing to buy 8 gallons and waste some paint).  Do not round your answer."
   ]
  },
  {
   "cell_type": "code",
   "execution_count": 6,
   "id": "2fd9e48f",
   "metadata": {
    "execution": {
     "iopub.execute_input": "2022-07-21T16:55:28.847995Z",
     "iopub.status.busy": "2022-07-21T16:55:28.847559Z",
     "iopub.status.idle": "2022-07-21T16:55:28.856210Z",
     "shell.execute_reply": "2022-07-21T16:55:28.855226Z"
    },
    "papermill": {
     "duration": 0.019462,
     "end_time": "2022-07-21T16:55:28.858327",
     "exception": false,
     "start_time": "2022-07-21T16:55:28.838865",
     "status": "completed"
    },
    "tags": []
   },
   "outputs": [
    {
     "data": {
      "application/javascript": [
       "parent.postMessage({\"jupyterEvent\": \"custom.exercise_interaction\", \"data\": {\"outcomeType\": 1, \"valueTowardsCompletion\": 0.2, \"interactionType\": 1, \"questionType\": 2, \"questionId\": \"3_GetCostPaint\", \"learnToolsVersion\": \"0.3.4\", \"failureMessage\": \"\", \"exceptionClass\": \"\", \"trace\": \"\"}}, \"*\")"
      ],
      "text/plain": [
       "<IPython.core.display.Javascript object>"
      ]
     },
     "metadata": {},
     "output_type": "display_data"
    },
    {
     "data": {
      "text/markdown": [
       "<span style=\"color:#33cc33\">Correct</span>"
      ],
      "text/plain": [
       "Correct"
      ]
     },
     "metadata": {},
     "output_type": "display_data"
    }
   ],
   "source": [
    "# TODO: Finish defining the function\n",
    "def get_cost(sqft_walls, sqft_ceiling, sqft_per_gallon, cost_per_gallon):\n",
    "    cost = ((sqft_walls + sqft_ceiling)/sqft_per_gallon) * cost_per_gallon\n",
    "    return cost\n",
    "\n",
    "# Check your answer\n",
    "q3.check()"
   ]
  },
  {
   "cell_type": "code",
   "execution_count": 7,
   "id": "61803b38",
   "metadata": {
    "execution": {
     "iopub.execute_input": "2022-07-21T16:55:28.875720Z",
     "iopub.status.busy": "2022-07-21T16:55:28.875052Z",
     "iopub.status.idle": "2022-07-21T16:55:28.879041Z",
     "shell.execute_reply": "2022-07-21T16:55:28.878080Z"
    },
    "papermill": {
     "duration": 0.015132,
     "end_time": "2022-07-21T16:55:28.881238",
     "exception": false,
     "start_time": "2022-07-21T16:55:28.866106",
     "status": "completed"
    },
    "tags": []
   },
   "outputs": [],
   "source": [
    "# Uncomment to see a hint\n",
    "#q3.hint()\n",
    "\n",
    "# Uncomment to view the solution\n",
    "#q3.solution()"
   ]
  },
  {
   "cell_type": "markdown",
   "id": "8b15abd3",
   "metadata": {
    "papermill": {
     "duration": 0.007303,
     "end_time": "2022-07-21T16:55:28.896030",
     "exception": false,
     "start_time": "2022-07-21T16:55:28.888727",
     "status": "completed"
    },
    "tags": []
   },
   "source": [
    "# Question 4\n",
    "\n",
    "Use the `get_cost()` function you defined in Question 3 to calculate the cost of applying one coat of paint to a room with:\n",
    "- 432 square feet of walls, and\n",
    "- 144 square feet of ceiling.\n",
    "\n",
    "Assume that one gallon of paint covers 400 square feet and costs $15.  As in Question 3, assume you can buy partial gallons of paint.  Do not round your answer."
   ]
  },
  {
   "cell_type": "code",
   "execution_count": 8,
   "id": "bb840edc",
   "metadata": {
    "execution": {
     "iopub.execute_input": "2022-07-21T16:55:28.913851Z",
     "iopub.status.busy": "2022-07-21T16:55:28.913408Z",
     "iopub.status.idle": "2022-07-21T16:55:28.922849Z",
     "shell.execute_reply": "2022-07-21T16:55:28.921642Z"
    },
    "papermill": {
     "duration": 0.020502,
     "end_time": "2022-07-21T16:55:28.924997",
     "exception": false,
     "start_time": "2022-07-21T16:55:28.904495",
     "status": "completed"
    },
    "tags": []
   },
   "outputs": [
    {
     "data": {
      "application/javascript": [
       "parent.postMessage({\"jupyterEvent\": \"custom.exercise_interaction\", \"data\": {\"outcomeType\": 1, \"valueTowardsCompletion\": 0.2, \"interactionType\": 1, \"questionType\": 1, \"questionId\": \"4_GetCostPaintExample\", \"learnToolsVersion\": \"0.3.4\", \"failureMessage\": \"\", \"exceptionClass\": \"\", \"trace\": \"\"}}, \"*\")"
      ],
      "text/plain": [
       "<IPython.core.display.Javascript object>"
      ]
     },
     "metadata": {},
     "output_type": "display_data"
    },
    {
     "data": {
      "text/markdown": [
       "<span style=\"color:#33cc33\">Correct</span>"
      ],
      "text/plain": [
       "Correct"
      ]
     },
     "metadata": {},
     "output_type": "display_data"
    }
   ],
   "source": [
    "# TODO: Set the project_cost variable to the cost of the project\n",
    "project_cost = get_cost(432,144,400,15)\n",
    "\n",
    "# Check your answer\n",
    "q4.check()"
   ]
  },
  {
   "cell_type": "code",
   "execution_count": 9,
   "id": "8945a3e1",
   "metadata": {
    "execution": {
     "iopub.execute_input": "2022-07-21T16:55:28.942655Z",
     "iopub.status.busy": "2022-07-21T16:55:28.942008Z",
     "iopub.status.idle": "2022-07-21T16:55:28.946734Z",
     "shell.execute_reply": "2022-07-21T16:55:28.945777Z"
    },
    "papermill": {
     "duration": 0.016316,
     "end_time": "2022-07-21T16:55:28.948997",
     "exception": false,
     "start_time": "2022-07-21T16:55:28.932681",
     "status": "completed"
    },
    "tags": []
   },
   "outputs": [],
   "source": [
    "# Uncomment to see a hint\n",
    "#q4.hint()\n",
    "\n",
    "# Uncomment to view the solution\n",
    "#q4.solution()"
   ]
  },
  {
   "cell_type": "markdown",
   "id": "90f0cc4e",
   "metadata": {
    "papermill": {
     "duration": 0.007604,
     "end_time": "2022-07-21T16:55:28.964554",
     "exception": false,
     "start_time": "2022-07-21T16:55:28.956950",
     "status": "completed"
    },
    "tags": []
   },
   "source": [
    "# 🌶️ Question 5\n",
    "\n",
    "Now say you can no longer buy fractions of a gallon.  (For instance, if you need 4.3 gallons to do a project, then you have to buy 5 gallons of paint.)\n",
    "\n",
    "With this new scenario, you will create a new function `get_actual_cost` that uses the same inputs and calculates the cost of your project.\n",
    "\n",
    "One function that you'll need to use to do this is `math.ceil()`.  We demonstrate usage of this function in the code cell below.  It takes as a number as input and rounds the number up to the nearest integer.  \n",
    "\n",
    "Run the next code cell to test this function for yourself.  Feel free to change the value of `test_value` and make sure `math.ceil()` returns the number you expect."
   ]
  },
  {
   "cell_type": "code",
   "execution_count": 10,
   "id": "3848e420",
   "metadata": {
    "execution": {
     "iopub.execute_input": "2022-07-21T16:55:28.982544Z",
     "iopub.status.busy": "2022-07-21T16:55:28.981581Z",
     "iopub.status.idle": "2022-07-21T16:55:28.987425Z",
     "shell.execute_reply": "2022-07-21T16:55:28.986312Z"
    },
    "papermill": {
     "duration": 0.017073,
     "end_time": "2022-07-21T16:55:28.989596",
     "exception": false,
     "start_time": "2022-07-21T16:55:28.972523",
     "status": "completed"
    },
    "tags": []
   },
   "outputs": [
    {
     "name": "stdout",
     "output_type": "stream",
     "text": [
      "3\n"
     ]
    }
   ],
   "source": [
    "test_value = 2.99\n",
    "\n",
    "rounded_value = math.ceil(test_value)\n",
    "print(rounded_value)"
   ]
  },
  {
   "cell_type": "markdown",
   "id": "02eaaf7a",
   "metadata": {
    "papermill": {
     "duration": 0.007542,
     "end_time": "2022-07-21T16:55:29.005588",
     "exception": false,
     "start_time": "2022-07-21T16:55:28.998046",
     "status": "completed"
    },
    "tags": []
   },
   "source": [
    "Use the next code cell to define the function `get_actual_cost()`.  You'll need to use the `math.ceil()` function to do this.\n",
    "\n",
    "When answering this question, note that it's completely valid to define a function that makes use of another function.  For instance, we can define a function `round_up_and_divide_by_three` that makes use of the `math.ceil` function:\n",
    "```\n",
    "def round_up_and_divide_by_three(num):\n",
    "    new_value = math.ceil(num)\n",
    "    final_value = new_value / 3\n",
    "    return final_value\n",
    "```"
   ]
  },
  {
   "cell_type": "code",
   "execution_count": 11,
   "id": "c9585a8d",
   "metadata": {
    "execution": {
     "iopub.execute_input": "2022-07-21T16:55:29.023440Z",
     "iopub.status.busy": "2022-07-21T16:55:29.023019Z",
     "iopub.status.idle": "2022-07-21T16:55:29.033693Z",
     "shell.execute_reply": "2022-07-21T16:55:29.032466Z"
    },
    "papermill": {
     "duration": 0.022669,
     "end_time": "2022-07-21T16:55:29.036034",
     "exception": false,
     "start_time": "2022-07-21T16:55:29.013365",
     "status": "completed"
    },
    "tags": []
   },
   "outputs": [
    {
     "data": {
      "application/javascript": [
       "parent.postMessage({\"jupyterEvent\": \"custom.exercise_interaction\", \"data\": {\"outcomeType\": 1, \"valueTowardsCompletion\": 0.2, \"interactionType\": 1, \"questionType\": 2, \"questionId\": \"5_NoMoreFractions\", \"learnToolsVersion\": \"0.3.4\", \"failureMessage\": \"\", \"exceptionClass\": \"\", \"trace\": \"\"}}, \"*\")"
      ],
      "text/plain": [
       "<IPython.core.display.Javascript object>"
      ]
     },
     "metadata": {},
     "output_type": "display_data"
    },
    {
     "data": {
      "text/markdown": [
       "<span style=\"color:#33cc33\">Correct</span>"
      ],
      "text/plain": [
       "Correct"
      ]
     },
     "metadata": {},
     "output_type": "display_data"
    }
   ],
   "source": [
    "def get_actual_cost(sqft_walls, sqft_ceiling, sqft_per_gallon, cost_per_gallon):\n",
    "    cost = math.ceil(((sqft_walls + sqft_ceiling)/sqft_per_gallon)) * cost_per_gallon\n",
    "    return cost\n",
    "\n",
    "# Check your answer\n",
    "q5.check()"
   ]
  },
  {
   "cell_type": "code",
   "execution_count": 12,
   "id": "06c9f773",
   "metadata": {
    "execution": {
     "iopub.execute_input": "2022-07-21T16:55:29.054812Z",
     "iopub.status.busy": "2022-07-21T16:55:29.054350Z",
     "iopub.status.idle": "2022-07-21T16:55:29.059604Z",
     "shell.execute_reply": "2022-07-21T16:55:29.058074Z"
    },
    "papermill": {
     "duration": 0.017541,
     "end_time": "2022-07-21T16:55:29.062003",
     "exception": false,
     "start_time": "2022-07-21T16:55:29.044462",
     "status": "completed"
    },
    "tags": []
   },
   "outputs": [],
   "source": [
    "# Uncomment to see a hint\n",
    "#q5.hint()\n",
    "\n",
    "# Uncomment to view the solution\n",
    "#q5.solution()"
   ]
  },
  {
   "cell_type": "markdown",
   "id": "74ad9ead",
   "metadata": {
    "papermill": {
     "duration": 0.00783,
     "end_time": "2022-07-21T16:55:29.078086",
     "exception": false,
     "start_time": "2022-07-21T16:55:29.070256",
     "status": "completed"
    },
    "tags": []
   },
   "source": [
    "Once your function is verified as correct, run the next code cell to calculate the updated cost of your project."
   ]
  },
  {
   "cell_type": "code",
   "execution_count": 13,
   "id": "671e1da9",
   "metadata": {
    "execution": {
     "iopub.execute_input": "2022-07-21T16:55:29.096319Z",
     "iopub.status.busy": "2022-07-21T16:55:29.095776Z",
     "iopub.status.idle": "2022-07-21T16:55:29.102211Z",
     "shell.execute_reply": "2022-07-21T16:55:29.101318Z"
    },
    "papermill": {
     "duration": 0.017994,
     "end_time": "2022-07-21T16:55:29.104315",
     "exception": false,
     "start_time": "2022-07-21T16:55:29.086321",
     "status": "completed"
    },
    "tags": []
   },
   "outputs": [
    {
     "data": {
      "text/plain": [
       "30"
      ]
     },
     "execution_count": 13,
     "metadata": {},
     "output_type": "execute_result"
    }
   ],
   "source": [
    "get_actual_cost(432, 144, 400, 15) "
   ]
  },
  {
   "cell_type": "markdown",
   "id": "1db1db1e",
   "metadata": {
    "papermill": {
     "duration": 0.008117,
     "end_time": "2022-07-21T16:55:29.121107",
     "exception": false,
     "start_time": "2022-07-21T16:55:29.112990",
     "status": "completed"
    },
    "tags": []
   },
   "source": [
    "Say you're working with a slightly larger room.  Run the next code cell to calculate the cost of the project."
   ]
  },
  {
   "cell_type": "code",
   "execution_count": 14,
   "id": "0efc5233",
   "metadata": {
    "execution": {
     "iopub.execute_input": "2022-07-21T16:55:29.140226Z",
     "iopub.status.busy": "2022-07-21T16:55:29.139850Z",
     "iopub.status.idle": "2022-07-21T16:55:29.145657Z",
     "shell.execute_reply": "2022-07-21T16:55:29.144907Z"
    },
    "papermill": {
     "duration": 0.017905,
     "end_time": "2022-07-21T16:55:29.147637",
     "exception": false,
     "start_time": "2022-07-21T16:55:29.129732",
     "status": "completed"
    },
    "tags": []
   },
   "outputs": [
    {
     "data": {
      "text/plain": [
       "45"
      ]
     },
     "execution_count": 14,
     "metadata": {},
     "output_type": "execute_result"
    }
   ],
   "source": [
    "get_actual_cost(594, 288, 400, 15) "
   ]
  },
  {
   "cell_type": "markdown",
   "id": "67faa6c6",
   "metadata": {
    "papermill": {
     "duration": 0.008273,
     "end_time": "2022-07-21T16:55:29.164305",
     "exception": false,
     "start_time": "2022-07-21T16:55:29.156032",
     "status": "completed"
    },
    "tags": []
   },
   "source": [
    "# Keep going\n",
    "\n",
    "Continue to learn about **[data types](https://www.kaggle.com/alexisbcook/data-types)**."
   ]
  },
  {
   "cell_type": "markdown",
   "id": "1714e871",
   "metadata": {
    "papermill": {
     "duration": 0.008121,
     "end_time": "2022-07-21T16:55:29.181186",
     "exception": false,
     "start_time": "2022-07-21T16:55:29.173065",
     "status": "completed"
    },
    "tags": []
   },
   "source": [
    "---\n",
    "\n",
    "\n",
    "\n",
    "\n",
    "*Have questions or comments? Visit the [course discussion forum](https://www.kaggle.com/learn/intro-to-programming/discussion) to chat with other learners.*"
   ]
  }
 ],
 "metadata": {
  "kernelspec": {
   "display_name": "Python 3",
   "language": "python",
   "name": "python3"
  },
  "language_info": {
   "codemirror_mode": {
    "name": "ipython",
    "version": 3
   },
   "file_extension": ".py",
   "mimetype": "text/x-python",
   "name": "python",
   "nbconvert_exporter": "python",
   "pygments_lexer": "ipython3",
   "version": "3.7.12"
  },
  "papermill": {
   "default_parameters": {},
   "duration": 11.462171,
   "end_time": "2022-07-21T16:55:29.811327",
   "environment_variables": {},
   "exception": null,
   "input_path": "__notebook__.ipynb",
   "output_path": "__notebook__.ipynb",
   "parameters": {},
   "start_time": "2022-07-21T16:55:18.349156",
   "version": "2.3.4"
  }
 },
 "nbformat": 4,
 "nbformat_minor": 5
}
