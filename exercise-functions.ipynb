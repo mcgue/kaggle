{
 "cells": [
  {
   "cell_type": "markdown",
   "id": "8ea2817f",
   "metadata": {
    "papermill": {
     "duration": 0.00802,
     "end_time": "2022-07-17T18:53:12.237949",
     "exception": false,
     "start_time": "2022-07-17T18:53:12.229929",
     "status": "completed"
    },
    "tags": []
   },
   "source": [
    "**This notebook is an exercise in the [Intro to Programming](https://www.kaggle.com/learn/intro-to-programming) course.  You can reference the tutorial at [this link](https://www.kaggle.com/alexisbcook/functions).**\n",
    "\n",
    "---\n"
   ]
  },
  {
   "cell_type": "markdown",
   "id": "71c24235",
   "metadata": {
    "papermill": {
     "duration": 0.006324,
     "end_time": "2022-07-17T18:53:12.251080",
     "exception": false,
     "start_time": "2022-07-17T18:53:12.244756",
     "status": "completed"
    },
    "tags": []
   },
   "source": [
    "In the tutorial, you learned about functions. In this exercise, you'll write some of your own!\n",
    "\n",
    "# Set up the notebook\n",
    "\n",
    "Run the next code cell without changes to set up the notebook."
   ]
  },
  {
   "cell_type": "code",
   "execution_count": 1,
   "id": "a98b4f96",
   "metadata": {
    "execution": {
     "iopub.execute_input": "2022-07-17T18:53:12.266675Z",
     "iopub.status.busy": "2022-07-17T18:53:12.265756Z",
     "iopub.status.idle": "2022-07-17T18:53:12.322652Z",
     "shell.execute_reply": "2022-07-17T18:53:12.321348Z"
    },
    "papermill": {
     "duration": 0.067778,
     "end_time": "2022-07-17T18:53:12.325526",
     "exception": false,
     "start_time": "2022-07-17T18:53:12.257748",
     "status": "completed"
    },
    "tags": []
   },
   "outputs": [
    {
     "name": "stdout",
     "output_type": "stream",
     "text": [
      "Setup complete.\n"
     ]
    }
   ],
   "source": [
    "# Set up the exercise\n",
    "import math\n",
    "from learntools.core import binder\n",
    "binder.bind(globals())\n",
    "from learntools.intro_to_programming.ex2 import *\n",
    "print('Setup complete.')"
   ]
  },
  {
   "cell_type": "markdown",
   "id": "9717d196",
   "metadata": {
    "papermill": {
     "duration": 0.006394,
     "end_time": "2022-07-17T18:53:12.339004",
     "exception": false,
     "start_time": "2022-07-17T18:53:12.332610",
     "status": "completed"
    },
    "tags": []
   },
   "source": [
    "# Question 1\n",
    "\n",
    "In the [House Prices - Advanced Regression Techniques competition](https://www.kaggle.com/c/house-prices-advanced-regression-techniques/overview), you need to use information like the number of bedrooms and bathrooms to predict the price of a house.  Inspired by this competition, you'll write your own function to do this.\n",
    "\n",
    "In the next code cell, create a function `get_expected_cost()` that has two arguments:\n",
    "- `beds` - number of bedrooms \n",
    "- `baths` - number of bathrooms\n",
    "\n",
    "It should return the expected cost of a house with that number of bedrooms and bathrooms.  Assume that:\n",
    "- the expected cost for a house with 0 bedrooms and 0 bathrooms is `80000`.  \n",
    "- each bedroom adds `30000` to the expected cost\n",
    "- each bathroom adds `10000` to the expected cost.\n",
    "\n",
    "For instance, \n",
    "- a house with 1 bedroom and 1 bathroom has an expected cost of `120000`, and \n",
    "- a house with 2 bedrooms and 1 bathroom has an expected cost of `150000`."
   ]
  },
  {
   "cell_type": "code",
   "execution_count": 2,
   "id": "6885102e",
   "metadata": {
    "execution": {
     "iopub.execute_input": "2022-07-17T18:53:12.354635Z",
     "iopub.status.busy": "2022-07-17T18:53:12.354178Z",
     "iopub.status.idle": "2022-07-17T18:53:12.366635Z",
     "shell.execute_reply": "2022-07-17T18:53:12.365698Z"
    },
    "papermill": {
     "duration": 0.023318,
     "end_time": "2022-07-17T18:53:12.368987",
     "exception": false,
     "start_time": "2022-07-17T18:53:12.345669",
     "status": "completed"
    },
    "tags": []
   },
   "outputs": [
    {
     "data": {
      "application/javascript": [
       "parent.postMessage({\"jupyterEvent\": \"custom.exercise_interaction\", \"data\": {\"outcomeType\": 1, \"valueTowardsCompletion\": 0.2, \"interactionType\": 1, \"questionType\": 2, \"questionId\": \"1_GetExpectedCost\", \"learnToolsVersion\": \"0.3.4\", \"failureMessage\": \"\", \"exceptionClass\": \"\", \"trace\": \"\"}}, \"*\")"
      ],
      "text/plain": [
       "<IPython.core.display.Javascript object>"
      ]
     },
     "metadata": {},
     "output_type": "display_data"
    },
    {
     "data": {
      "text/markdown": [
       "<span style=\"color:#33cc33\">Correct</span>"
      ],
      "text/plain": [
       "Correct"
      ]
     },
     "metadata": {},
     "output_type": "display_data"
    }
   ],
   "source": [
    "# TODO: Complete the function\n",
    "def get_expected_cost(beds, baths):\n",
    "    value = 80000 + (beds * 30000) + (baths * 10000)\n",
    "    return value\n",
    "\n",
    "# Check your answer \n",
    "q1.check()"
   ]
  },
  {
   "cell_type": "code",
   "execution_count": 3,
   "id": "5a61ede4",
   "metadata": {
    "execution": {
     "iopub.execute_input": "2022-07-17T18:53:12.387062Z",
     "iopub.status.busy": "2022-07-17T18:53:12.385939Z",
     "iopub.status.idle": "2022-07-17T18:53:12.392011Z",
     "shell.execute_reply": "2022-07-17T18:53:12.391089Z"
    },
    "papermill": {
     "duration": 0.017938,
     "end_time": "2022-07-17T18:53:12.394426",
     "exception": false,
     "start_time": "2022-07-17T18:53:12.376488",
     "status": "completed"
    },
    "tags": []
   },
   "outputs": [],
   "source": [
    "# Uncomment to see a hint\n",
    "#q1.hint()\n",
    "\n",
    "# Uncomment to view the solution\n",
    "#q1.solution()"
   ]
  },
  {
   "cell_type": "markdown",
   "id": "da22f83a",
   "metadata": {
    "papermill": {
     "duration": 0.007017,
     "end_time": "2022-07-17T18:53:12.408986",
     "exception": false,
     "start_time": "2022-07-17T18:53:12.401969",
     "status": "completed"
    },
    "tags": []
   },
   "source": [
    "# Question 2\n",
    "\n",
    "You are thinking about buying a home and want to get an idea of how much you will spend, based on the number of bedrooms and bathrooms.  You are trying to decide between four different options:\n",
    "- Option 1: house with two bedrooms and three bathrooms\n",
    "- Option 2: house with three bedrooms and two bathrooms\n",
    "- Option 3: house with three bedrooms and three bathrooms\n",
    "- Option 4: house with three bedrooms and four bathrooms\n",
    "\n",
    "Use the `get_expected_cost()` function you defined in question 1 to set `option_1`, `option_2`, `option_3`, and `option_4` to the expected cost of each option."
   ]
  },
  {
   "cell_type": "code",
   "execution_count": 4,
   "id": "48f0824e",
   "metadata": {
    "execution": {
     "iopub.execute_input": "2022-07-17T18:53:12.425964Z",
     "iopub.status.busy": "2022-07-17T18:53:12.425190Z",
     "iopub.status.idle": "2022-07-17T18:53:12.436538Z",
     "shell.execute_reply": "2022-07-17T18:53:12.435279Z"
    },
    "papermill": {
     "duration": 0.022353,
     "end_time": "2022-07-17T18:53:12.438925",
     "exception": false,
     "start_time": "2022-07-17T18:53:12.416572",
     "status": "completed"
    },
    "tags": []
   },
   "outputs": [
    {
     "name": "stdout",
     "output_type": "stream",
     "text": [
      "170000\n",
      "190000\n",
      "200000\n",
      "210000\n"
     ]
    },
    {
     "data": {
      "application/javascript": [
       "parent.postMessage({\"jupyterEvent\": \"custom.exercise_interaction\", \"data\": {\"outcomeType\": 1, \"valueTowardsCompletion\": 0.2, \"interactionType\": 1, \"questionType\": 1, \"questionId\": \"2_RunGetExpectedCost\", \"learnToolsVersion\": \"0.3.4\", \"failureMessage\": \"\", \"exceptionClass\": \"\", \"trace\": \"\"}}, \"*\")"
      ],
      "text/plain": [
       "<IPython.core.display.Javascript object>"
      ]
     },
     "metadata": {},
     "output_type": "display_data"
    },
    {
     "data": {
      "text/markdown": [
       "<span style=\"color:#33cc33\">Correct</span>"
      ],
      "text/plain": [
       "Correct"
      ]
     },
     "metadata": {},
     "output_type": "display_data"
    }
   ],
   "source": [
    "# TODO: Use the get_expected_cost function to fill in each value\n",
    "option_one = get_expected_cost(2,3)\n",
    "option_two = get_expected_cost(3,2)\n",
    "option_three = get_expected_cost(3,3)\n",
    "option_four = get_expected_cost(3,4)\n",
    "\n",
    "print(option_one)\n",
    "print(option_two)\n",
    "print(option_three)\n",
    "print(option_four)\n",
    "\n",
    "# Check your answer\n",
    "q2.check()"
   ]
  },
  {
   "cell_type": "code",
   "execution_count": 5,
   "id": "d46bc5f0",
   "metadata": {
    "execution": {
     "iopub.execute_input": "2022-07-17T18:53:12.455051Z",
     "iopub.status.busy": "2022-07-17T18:53:12.454642Z",
     "iopub.status.idle": "2022-07-17T18:53:12.459754Z",
     "shell.execute_reply": "2022-07-17T18:53:12.458461Z"
    },
    "papermill": {
     "duration": 0.015819,
     "end_time": "2022-07-17T18:53:12.462015",
     "exception": false,
     "start_time": "2022-07-17T18:53:12.446196",
     "status": "completed"
    },
    "tags": []
   },
   "outputs": [],
   "source": [
    "# Uncomment to see a hint\n",
    "#q2.hint()\n",
    "\n",
    "# Uncomment to view the solution\n",
    "#q2.solution()"
   ]
  },
  {
   "cell_type": "markdown",
   "id": "68c2f204",
   "metadata": {
    "papermill": {
     "duration": 0.007117,
     "end_time": "2022-07-17T18:53:12.476599",
     "exception": false,
     "start_time": "2022-07-17T18:53:12.469482",
     "status": "completed"
    },
    "tags": []
   },
   "source": [
    "# Question 3\n",
    "\n",
    "You're a home decorator, and you'd like to use Python to streamline some of your work.  Specifically, you're creating a tool that you intend to use to calculate the cost of painting a room.\n",
    "\n",
    "As a first step, define a function `get_cost()` that takes as input:\n",
    "- `sqft_walls` = total square feet of walls to be painted\n",
    "- `sqft_ceiling` = square feet of ceiling to be painted\n",
    "- `sqft_per_gallon` = number of square feet that you can cover with one gallon of paint\n",
    "- `cost_per_gallon` = cost (in dollars) of one gallon of paint\n",
    "\n",
    "It should return the cost (in dollars) of putting one coat of paint on all walls and the ceiling.  Assume you can buy the exact amount of paint that you need, so you can buy partial gallons (e.g., if you need 7.523 gallons, you can buy that exact amount, instead of needing to buy 8 gallons and waste some paint).  Do not round your answer."
   ]
  },
  {
   "cell_type": "code",
   "execution_count": 6,
   "id": "c0257ad6",
   "metadata": {
    "execution": {
     "iopub.execute_input": "2022-07-17T18:53:12.494320Z",
     "iopub.status.busy": "2022-07-17T18:53:12.493259Z",
     "iopub.status.idle": "2022-07-17T18:53:12.505943Z",
     "shell.execute_reply": "2022-07-17T18:53:12.504685Z"
    },
    "papermill": {
     "duration": 0.024317,
     "end_time": "2022-07-17T18:53:12.508288",
     "exception": false,
     "start_time": "2022-07-17T18:53:12.483971",
     "status": "completed"
    },
    "tags": []
   },
   "outputs": [
    {
     "data": {
      "application/javascript": [
       "parent.postMessage({\"jupyterEvent\": \"custom.exercise_interaction\", \"data\": {\"outcomeType\": 1, \"valueTowardsCompletion\": 0.2, \"interactionType\": 1, \"questionType\": 2, \"questionId\": \"3_GetCostPaint\", \"learnToolsVersion\": \"0.3.4\", \"failureMessage\": \"\", \"exceptionClass\": \"\", \"trace\": \"\"}}, \"*\")"
      ],
      "text/plain": [
       "<IPython.core.display.Javascript object>"
      ]
     },
     "metadata": {},
     "output_type": "display_data"
    },
    {
     "data": {
      "text/markdown": [
       "<span style=\"color:#33cc33\">Correct</span>"
      ],
      "text/plain": [
       "Correct"
      ]
     },
     "metadata": {},
     "output_type": "display_data"
    }
   ],
   "source": [
    "# TODO: Finish defining the function\n",
    "def get_cost(sqft_walls, sqft_ceiling, sqft_per_gallon, cost_per_gallon):\n",
    "    cost = ((sqft_walls + sqft_ceiling)/sqft_per_gallon) * cost_per_gallon\n",
    "    return cost\n",
    "\n",
    "# Check your answer\n",
    "q3.check()"
   ]
  },
  {
   "cell_type": "code",
   "execution_count": 7,
   "id": "7c4146f0",
   "metadata": {
    "execution": {
     "iopub.execute_input": "2022-07-17T18:53:12.525892Z",
     "iopub.status.busy": "2022-07-17T18:53:12.525006Z",
     "iopub.status.idle": "2022-07-17T18:53:12.529791Z",
     "shell.execute_reply": "2022-07-17T18:53:12.528752Z"
    },
    "papermill": {
     "duration": 0.015801,
     "end_time": "2022-07-17T18:53:12.532012",
     "exception": false,
     "start_time": "2022-07-17T18:53:12.516211",
     "status": "completed"
    },
    "tags": []
   },
   "outputs": [],
   "source": [
    "# Uncomment to see a hint\n",
    "#q3.hint()\n",
    "\n",
    "# Uncomment to view the solution\n",
    "#q3.solution()"
   ]
  },
  {
   "cell_type": "markdown",
   "id": "6ea30811",
   "metadata": {
    "papermill": {
     "duration": 0.007238,
     "end_time": "2022-07-17T18:53:12.546852",
     "exception": false,
     "start_time": "2022-07-17T18:53:12.539614",
     "status": "completed"
    },
    "tags": []
   },
   "source": [
    "# Question 4\n",
    "\n",
    "Use the `get_cost()` function you defined in Question 3 to calculate the cost of applying one coat of paint to a room with:\n",
    "- 432 square feet of walls, and\n",
    "- 144 square feet of ceiling.\n",
    "\n",
    "Assume that one gallon of paint covers 400 square feet and costs $15.  As in Question 3, assume you can buy partial gallons of paint.  Do not round your answer."
   ]
  },
  {
   "cell_type": "code",
   "execution_count": 8,
   "id": "97b99a80",
   "metadata": {
    "execution": {
     "iopub.execute_input": "2022-07-17T18:53:12.564721Z",
     "iopub.status.busy": "2022-07-17T18:53:12.563604Z",
     "iopub.status.idle": "2022-07-17T18:53:12.572470Z",
     "shell.execute_reply": "2022-07-17T18:53:12.571539Z"
    },
    "papermill": {
     "duration": 0.020079,
     "end_time": "2022-07-17T18:53:12.574486",
     "exception": false,
     "start_time": "2022-07-17T18:53:12.554407",
     "status": "completed"
    },
    "tags": []
   },
   "outputs": [
    {
     "data": {
      "application/javascript": [
       "parent.postMessage({\"jupyterEvent\": \"custom.exercise_interaction\", \"data\": {\"outcomeType\": 4, \"interactionType\": 1, \"questionType\": 1, \"questionId\": \"4_GetCostPaintExample\", \"learnToolsVersion\": \"0.3.4\", \"valueTowardsCompletion\": 0.0, \"failureMessage\": \"\", \"exceptionClass\": \"\", \"trace\": \"\"}}, \"*\")"
      ],
      "text/plain": [
       "<IPython.core.display.Javascript object>"
      ]
     },
     "metadata": {},
     "output_type": "display_data"
    },
    {
     "data": {
      "text/markdown": [
       "<span style=\"color:#ccaa33\">Check:</span> When you've updated the starter code, `check()` will tell you whether your code is correct. You need to update the code that creates variable `project_cost`"
      ],
      "text/plain": [
       "Check: When you've updated the starter code, `check()` will tell you whether your code is correct. You need to update the code that creates variable `project_cost`"
      ]
     },
     "metadata": {},
     "output_type": "display_data"
    }
   ],
   "source": [
    "# TODO: Set the project_cost variable to the cost of the project\n",
    "project_cost = ____\n",
    "\n",
    "# Check your answer\n",
    "q4.check()"
   ]
  },
  {
   "cell_type": "code",
   "execution_count": 9,
   "id": "3a26c4c7",
   "metadata": {
    "execution": {
     "iopub.execute_input": "2022-07-17T18:53:12.593256Z",
     "iopub.status.busy": "2022-07-17T18:53:12.592570Z",
     "iopub.status.idle": "2022-07-17T18:53:12.597579Z",
     "shell.execute_reply": "2022-07-17T18:53:12.596517Z"
    },
    "papermill": {
     "duration": 0.017469,
     "end_time": "2022-07-17T18:53:12.599971",
     "exception": false,
     "start_time": "2022-07-17T18:53:12.582502",
     "status": "completed"
    },
    "tags": []
   },
   "outputs": [],
   "source": [
    "# Uncomment to see a hint\n",
    "#q4.hint()\n",
    "\n",
    "# Uncomment to view the solution\n",
    "#q4.solution()"
   ]
  },
  {
   "cell_type": "markdown",
   "id": "e73ffcba",
   "metadata": {
    "papermill": {
     "duration": 0.007701,
     "end_time": "2022-07-17T18:53:12.615702",
     "exception": false,
     "start_time": "2022-07-17T18:53:12.608001",
     "status": "completed"
    },
    "tags": []
   },
   "source": [
    "# 🌶️ Question 5\n",
    "\n",
    "Now say you can no longer buy fractions of a gallon.  (For instance, if you need 4.3 gallons to do a project, then you have to buy 5 gallons of paint.)\n",
    "\n",
    "With this new scenario, you will create a new function `get_actual_cost` that uses the same inputs and calculates the cost of your project.\n",
    "\n",
    "One function that you'll need to use to do this is `math.ceil()`.  We demonstrate usage of this function in the code cell below.  It takes as a number as input and rounds the number up to the nearest integer.  \n",
    "\n",
    "Run the next code cell to test this function for yourself.  Feel free to change the value of `test_value` and make sure `math.ceil()` returns the number you expect."
   ]
  },
  {
   "cell_type": "code",
   "execution_count": 10,
   "id": "9827e417",
   "metadata": {
    "execution": {
     "iopub.execute_input": "2022-07-17T18:53:12.634056Z",
     "iopub.status.busy": "2022-07-17T18:53:12.633371Z",
     "iopub.status.idle": "2022-07-17T18:53:12.638829Z",
     "shell.execute_reply": "2022-07-17T18:53:12.637654Z"
    },
    "papermill": {
     "duration": 0.017502,
     "end_time": "2022-07-17T18:53:12.641307",
     "exception": false,
     "start_time": "2022-07-17T18:53:12.623805",
     "status": "completed"
    },
    "tags": []
   },
   "outputs": [
    {
     "name": "stdout",
     "output_type": "stream",
     "text": [
      "3\n"
     ]
    }
   ],
   "source": [
    "test_value = 2.17\n",
    "\n",
    "rounded_value = math.ceil(test_value)\n",
    "print(rounded_value)"
   ]
  },
  {
   "cell_type": "markdown",
   "id": "0cdf20c4",
   "metadata": {
    "papermill": {
     "duration": 0.007739,
     "end_time": "2022-07-17T18:53:12.657188",
     "exception": false,
     "start_time": "2022-07-17T18:53:12.649449",
     "status": "completed"
    },
    "tags": []
   },
   "source": [
    "Use the next code cell to define the function `get_actual_cost()`.  You'll need to use the `math.ceil()` function to do this.\n",
    "\n",
    "When answering this question, note that it's completely valid to define a function that makes use of another function.  For instance, we can define a function `round_up_and_divide_by_three` that makes use of the `math.ceil` function:\n",
    "```\n",
    "def round_up_and_divide_by_three(num):\n",
    "    new_value = math.ceil(num)\n",
    "    final_value = new_value / 3\n",
    "    return final_value\n",
    "```"
   ]
  },
  {
   "cell_type": "code",
   "execution_count": 11,
   "id": "13d9daad",
   "metadata": {
    "execution": {
     "iopub.execute_input": "2022-07-17T18:53:12.676028Z",
     "iopub.status.busy": "2022-07-17T18:53:12.675646Z",
     "iopub.status.idle": "2022-07-17T18:53:12.693792Z",
     "shell.execute_reply": "2022-07-17T18:53:12.692470Z"
    },
    "papermill": {
     "duration": 0.03125,
     "end_time": "2022-07-17T18:53:12.696941",
     "exception": false,
     "start_time": "2022-07-17T18:53:12.665691",
     "status": "completed"
    },
    "tags": []
   },
   "outputs": [
    {
     "data": {
      "application/javascript": [
       "parent.postMessage({\"jupyterEvent\": \"custom.exercise_interaction\", \"data\": {\"outcomeType\": 2, \"failureMessage\": \"Expected return value of `30` given `sqft_walls=432`, `sqft_ceiling=144`, `sqft_per_gallon=400`, `cost_per_gallon=15`, but got `<learntools.core.constants.PlaceholderValue object at 0x7ff56e1e37d0>` instead.\", \"interactionType\": 1, \"questionType\": 2, \"questionId\": \"5_NoMoreFractions\", \"learnToolsVersion\": \"0.3.4\", \"valueTowardsCompletion\": 0.0, \"exceptionClass\": \"\", \"trace\": \"\"}}, \"*\")"
      ],
      "text/plain": [
       "<IPython.core.display.Javascript object>"
      ]
     },
     "metadata": {},
     "output_type": "display_data"
    },
    {
     "data": {
      "text/markdown": [
       "<span style=\"color:#cc3333\">Incorrect:</span> Expected return value of `30` given `sqft_walls=432`, `sqft_ceiling=144`, `sqft_per_gallon=400`, `cost_per_gallon=15`, but got `<learntools.core.constants.PlaceholderValue object at 0x7ff56e1e37d0>` instead."
      ],
      "text/plain": [
       "Incorrect: Expected return value of `30` given `sqft_walls=432`, `sqft_ceiling=144`, `sqft_per_gallon=400`, `cost_per_gallon=15`, but got `<learntools.core.constants.PlaceholderValue object at 0x7ff56e1e37d0>` instead."
      ]
     },
     "metadata": {},
     "output_type": "display_data"
    }
   ],
   "source": [
    "def get_actual_cost(sqft_walls, sqft_ceiling, sqft_per_gallon, cost_per_gallon):\n",
    "    cost = ____\n",
    "    return cost\n",
    "\n",
    "# Check your answer\n",
    "q5.check()"
   ]
  },
  {
   "cell_type": "code",
   "execution_count": 12,
   "id": "a84b0e47",
   "metadata": {
    "execution": {
     "iopub.execute_input": "2022-07-17T18:53:12.716322Z",
     "iopub.status.busy": "2022-07-17T18:53:12.715625Z",
     "iopub.status.idle": "2022-07-17T18:53:12.719411Z",
     "shell.execute_reply": "2022-07-17T18:53:12.718629Z"
    },
    "papermill": {
     "duration": 0.015813,
     "end_time": "2022-07-17T18:53:12.721543",
     "exception": false,
     "start_time": "2022-07-17T18:53:12.705730",
     "status": "completed"
    },
    "tags": []
   },
   "outputs": [],
   "source": [
    "# Uncomment to see a hint\n",
    "#q5.hint()\n",
    "\n",
    "# Uncomment to view the solution\n",
    "#q5.solution()"
   ]
  },
  {
   "cell_type": "markdown",
   "id": "553273c1",
   "metadata": {
    "papermill": {
     "duration": 0.008333,
     "end_time": "2022-07-17T18:53:12.739164",
     "exception": false,
     "start_time": "2022-07-17T18:53:12.730831",
     "status": "completed"
    },
    "tags": []
   },
   "source": [
    "Once your function is verified as correct, run the next code cell to calculate the updated cost of your project."
   ]
  },
  {
   "cell_type": "code",
   "execution_count": 13,
   "id": "82f3e396",
   "metadata": {
    "execution": {
     "iopub.execute_input": "2022-07-17T18:53:12.758981Z",
     "iopub.status.busy": "2022-07-17T18:53:12.758357Z",
     "iopub.status.idle": "2022-07-17T18:53:12.764577Z",
     "shell.execute_reply": "2022-07-17T18:53:12.763472Z"
    },
    "papermill": {
     "duration": 0.018798,
     "end_time": "2022-07-17T18:53:12.766942",
     "exception": false,
     "start_time": "2022-07-17T18:53:12.748144",
     "status": "completed"
    },
    "tags": []
   },
   "outputs": [
    {
     "data": {
      "text/markdown": [],
      "text/plain": [
       "<learntools.core.constants.PlaceholderValue at 0x7ff56e1e37d0>"
      ]
     },
     "execution_count": 13,
     "metadata": {},
     "output_type": "execute_result"
    }
   ],
   "source": [
    "get_actual_cost(432, 144, 400, 15) "
   ]
  },
  {
   "cell_type": "markdown",
   "id": "c0adc09c",
   "metadata": {
    "papermill": {
     "duration": 0.009558,
     "end_time": "2022-07-17T18:53:12.785878",
     "exception": false,
     "start_time": "2022-07-17T18:53:12.776320",
     "status": "completed"
    },
    "tags": []
   },
   "source": [
    "Say you're working with a slightly larger room.  Run the next code cell to calculate the cost of the project."
   ]
  },
  {
   "cell_type": "code",
   "execution_count": 14,
   "id": "3cb3a204",
   "metadata": {
    "execution": {
     "iopub.execute_input": "2022-07-17T18:53:12.806527Z",
     "iopub.status.busy": "2022-07-17T18:53:12.806106Z",
     "iopub.status.idle": "2022-07-17T18:53:12.813523Z",
     "shell.execute_reply": "2022-07-17T18:53:12.812333Z"
    },
    "papermill": {
     "duration": 0.021673,
     "end_time": "2022-07-17T18:53:12.816446",
     "exception": false,
     "start_time": "2022-07-17T18:53:12.794773",
     "status": "completed"
    },
    "tags": []
   },
   "outputs": [
    {
     "data": {
      "text/markdown": [],
      "text/plain": [
       "<learntools.core.constants.PlaceholderValue at 0x7ff56e1e37d0>"
      ]
     },
     "execution_count": 14,
     "metadata": {},
     "output_type": "execute_result"
    }
   ],
   "source": [
    "get_actual_cost(594, 288, 400, 15) "
   ]
  },
  {
   "cell_type": "markdown",
   "id": "1f5f5d93",
   "metadata": {
    "papermill": {
     "duration": 0.008396,
     "end_time": "2022-07-17T18:53:12.833610",
     "exception": false,
     "start_time": "2022-07-17T18:53:12.825214",
     "status": "completed"
    },
    "tags": []
   },
   "source": [
    "# Keep going\n",
    "\n",
    "Continue to learn about **[data types](https://www.kaggle.com/alexisbcook/data-types)**."
   ]
  },
  {
   "cell_type": "markdown",
   "id": "6d2d3367",
   "metadata": {
    "papermill": {
     "duration": 0.008351,
     "end_time": "2022-07-17T18:53:12.850997",
     "exception": false,
     "start_time": "2022-07-17T18:53:12.842646",
     "status": "completed"
    },
    "tags": []
   },
   "source": [
    "---\n",
    "\n",
    "\n",
    "\n",
    "\n",
    "*Have questions or comments? Visit the [course discussion forum](https://www.kaggle.com/learn/intro-to-programming/discussion) to chat with other learners.*"
   ]
  }
 ],
 "metadata": {
  "kernelspec": {
   "display_name": "Python 3",
   "language": "python",
   "name": "python3"
  },
  "language_info": {
   "codemirror_mode": {
    "name": "ipython",
    "version": 3
   },
   "file_extension": ".py",
   "mimetype": "text/x-python",
   "name": "python",
   "nbconvert_exporter": "python",
   "pygments_lexer": "ipython3",
   "version": "3.7.12"
  },
  "papermill": {
   "default_parameters": {},
   "duration": 11.730759,
   "end_time": "2022-07-17T18:53:13.481202",
   "environment_variables": {},
   "exception": null,
   "input_path": "__notebook__.ipynb",
   "output_path": "__notebook__.ipynb",
   "parameters": {},
   "start_time": "2022-07-17T18:53:01.750443",
   "version": "2.3.4"
  }
 },
 "nbformat": 4,
 "nbformat_minor": 5
}
