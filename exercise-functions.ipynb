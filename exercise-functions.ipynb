{
 "cells": [
  {
   "cell_type": "markdown",
   "id": "0165eae1",
   "metadata": {
    "papermill": {
     "duration": 0.006845,
     "end_time": "2022-07-20T04:09:47.366984",
     "exception": false,
     "start_time": "2022-07-20T04:09:47.360139",
     "status": "completed"
    },
    "tags": []
   },
   "source": [
    "**This notebook is an exercise in the [Intro to Programming](https://www.kaggle.com/learn/intro-to-programming) course.  You can reference the tutorial at [this link](https://www.kaggle.com/alexisbcook/functions).**\n",
    "\n",
    "---\n"
   ]
  },
  {
   "cell_type": "markdown",
   "id": "052c4f6d",
   "metadata": {
    "papermill": {
     "duration": 0.00453,
     "end_time": "2022-07-20T04:09:47.376316",
     "exception": false,
     "start_time": "2022-07-20T04:09:47.371786",
     "status": "completed"
    },
    "tags": []
   },
   "source": [
    "In the tutorial, you learned about functions. In this exercise, you'll write some of your own!\n",
    "\n",
    "# Set up the notebook\n",
    "\n",
    "Run the next code cell without changes to set up the notebook."
   ]
  },
  {
   "cell_type": "code",
   "execution_count": 1,
   "id": "3e081f9b",
   "metadata": {
    "execution": {
     "iopub.execute_input": "2022-07-20T04:09:47.388113Z",
     "iopub.status.busy": "2022-07-20T04:09:47.387412Z",
     "iopub.status.idle": "2022-07-20T04:09:47.433389Z",
     "shell.execute_reply": "2022-07-20T04:09:47.432643Z"
    },
    "papermill": {
     "duration": 0.054906,
     "end_time": "2022-07-20T04:09:47.435842",
     "exception": false,
     "start_time": "2022-07-20T04:09:47.380936",
     "status": "completed"
    },
    "tags": []
   },
   "outputs": [
    {
     "name": "stdout",
     "output_type": "stream",
     "text": [
      "Setup complete.\n"
     ]
    }
   ],
   "source": [
    "# Set up the exercise\n",
    "import math\n",
    "from learntools.core import binder\n",
    "binder.bind(globals())\n",
    "from learntools.intro_to_programming.ex2 import *\n",
    "print('Setup complete.')"
   ]
  },
  {
   "cell_type": "markdown",
   "id": "efa5630d",
   "metadata": {
    "papermill": {
     "duration": 0.004386,
     "end_time": "2022-07-20T04:09:47.445273",
     "exception": false,
     "start_time": "2022-07-20T04:09:47.440887",
     "status": "completed"
    },
    "tags": []
   },
   "source": [
    "# Question 1\n",
    "\n",
    "In the [House Prices - Advanced Regression Techniques competition](https://www.kaggle.com/c/house-prices-advanced-regression-techniques/overview), you need to use information like the number of bedrooms and bathrooms to predict the price of a house.  Inspired by this competition, you'll write your own function to do this.\n",
    "\n",
    "In the next code cell, create a function `get_expected_cost()` that has two arguments:\n",
    "- `beds` - number of bedrooms \n",
    "- `baths` - number of bathrooms\n",
    "\n",
    "It should return the expected cost of a house with that number of bedrooms and bathrooms.  Assume that:\n",
    "- the expected cost for a house with 0 bedrooms and 0 bathrooms is `80000`.  \n",
    "- each bedroom adds `30000` to the expected cost\n",
    "- each bathroom adds `10000` to the expected cost.\n",
    "\n",
    "For instance, \n",
    "- a house with 1 bedroom and 1 bathroom has an expected cost of `120000`, and \n",
    "- a house with 2 bedrooms and 1 bathroom has an expected cost of `150000`."
   ]
  },
  {
   "cell_type": "code",
   "execution_count": 2,
   "id": "b0542066",
   "metadata": {
    "execution": {
     "iopub.execute_input": "2022-07-20T04:09:47.456375Z",
     "iopub.status.busy": "2022-07-20T04:09:47.455820Z",
     "iopub.status.idle": "2022-07-20T04:09:47.464955Z",
     "shell.execute_reply": "2022-07-20T04:09:47.463952Z"
    },
    "papermill": {
     "duration": 0.016984,
     "end_time": "2022-07-20T04:09:47.466866",
     "exception": false,
     "start_time": "2022-07-20T04:09:47.449882",
     "status": "completed"
    },
    "tags": []
   },
   "outputs": [
    {
     "data": {
      "application/javascript": [
       "parent.postMessage({\"jupyterEvent\": \"custom.exercise_interaction\", \"data\": {\"outcomeType\": 1, \"valueTowardsCompletion\": 0.2, \"interactionType\": 1, \"questionType\": 2, \"questionId\": \"1_GetExpectedCost\", \"learnToolsVersion\": \"0.3.4\", \"failureMessage\": \"\", \"exceptionClass\": \"\", \"trace\": \"\"}}, \"*\")"
      ],
      "text/plain": [
       "<IPython.core.display.Javascript object>"
      ]
     },
     "metadata": {},
     "output_type": "display_data"
    },
    {
     "data": {
      "text/markdown": [
       "<span style=\"color:#33cc33\">Correct</span>"
      ],
      "text/plain": [
       "Correct"
      ]
     },
     "metadata": {},
     "output_type": "display_data"
    }
   ],
   "source": [
    "# TODO: Complete the function\n",
    "def get_expected_cost(beds, baths):\n",
    "    value = 80000 + (beds * 30000) + (baths * 10000)\n",
    "    return value\n",
    "\n",
    "# Check your answer \n",
    "q1.check()"
   ]
  },
  {
   "cell_type": "code",
   "execution_count": 3,
   "id": "0939421f",
   "metadata": {
    "execution": {
     "iopub.execute_input": "2022-07-20T04:09:47.478624Z",
     "iopub.status.busy": "2022-07-20T04:09:47.478227Z",
     "iopub.status.idle": "2022-07-20T04:09:47.482053Z",
     "shell.execute_reply": "2022-07-20T04:09:47.480937Z"
    },
    "papermill": {
     "duration": 0.012526,
     "end_time": "2022-07-20T04:09:47.484348",
     "exception": false,
     "start_time": "2022-07-20T04:09:47.471822",
     "status": "completed"
    },
    "tags": []
   },
   "outputs": [],
   "source": [
    "# Uncomment to see a hint\n",
    "#q1.hint()\n",
    "\n",
    "# Uncomment to view the solution\n",
    "#q1.solution()"
   ]
  },
  {
   "cell_type": "markdown",
   "id": "9994fd39",
   "metadata": {
    "papermill": {
     "duration": 0.004644,
     "end_time": "2022-07-20T04:09:47.494084",
     "exception": false,
     "start_time": "2022-07-20T04:09:47.489440",
     "status": "completed"
    },
    "tags": []
   },
   "source": [
    "# Question 2\n",
    "\n",
    "You are thinking about buying a home and want to get an idea of how much you will spend, based on the number of bedrooms and bathrooms.  You are trying to decide between four different options:\n",
    "- Option 1: house with two bedrooms and three bathrooms\n",
    "- Option 2: house with three bedrooms and two bathrooms\n",
    "- Option 3: house with three bedrooms and three bathrooms\n",
    "- Option 4: house with three bedrooms and four bathrooms\n",
    "\n",
    "Use the `get_expected_cost()` function you defined in question 1 to set `option_1`, `option_2`, `option_3`, and `option_4` to the expected cost of each option."
   ]
  },
  {
   "cell_type": "code",
   "execution_count": 4,
   "id": "0a2b6737",
   "metadata": {
    "execution": {
     "iopub.execute_input": "2022-07-20T04:09:47.506247Z",
     "iopub.status.busy": "2022-07-20T04:09:47.505330Z",
     "iopub.status.idle": "2022-07-20T04:09:47.516008Z",
     "shell.execute_reply": "2022-07-20T04:09:47.514334Z"
    },
    "papermill": {
     "duration": 0.019925,
     "end_time": "2022-07-20T04:09:47.518859",
     "exception": false,
     "start_time": "2022-07-20T04:09:47.498934",
     "status": "completed"
    },
    "tags": []
   },
   "outputs": [
    {
     "name": "stdout",
     "output_type": "stream",
     "text": [
      "170000\n",
      "190000\n",
      "200000\n",
      "210000\n"
     ]
    },
    {
     "data": {
      "application/javascript": [
       "parent.postMessage({\"jupyterEvent\": \"custom.exercise_interaction\", \"data\": {\"outcomeType\": 1, \"valueTowardsCompletion\": 0.2, \"interactionType\": 1, \"questionType\": 1, \"questionId\": \"2_RunGetExpectedCost\", \"learnToolsVersion\": \"0.3.4\", \"failureMessage\": \"\", \"exceptionClass\": \"\", \"trace\": \"\"}}, \"*\")"
      ],
      "text/plain": [
       "<IPython.core.display.Javascript object>"
      ]
     },
     "metadata": {},
     "output_type": "display_data"
    },
    {
     "data": {
      "text/markdown": [
       "<span style=\"color:#33cc33\">Correct</span>"
      ],
      "text/plain": [
       "Correct"
      ]
     },
     "metadata": {},
     "output_type": "display_data"
    }
   ],
   "source": [
    "# TODO: Use the get_expected_cost function to fill in each value\n",
    "option_one = get_expected_cost(2,3)\n",
    "option_two = get_expected_cost(3,2)\n",
    "option_three = get_expected_cost(3,3)\n",
    "option_four = get_expected_cost(3,4)\n",
    "\n",
    "print(option_one)\n",
    "print(option_two)\n",
    "print(option_three)\n",
    "print(option_four)\n",
    "\n",
    "# Check your answer\n",
    "q2.check()"
   ]
  },
  {
   "cell_type": "code",
   "execution_count": 5,
   "id": "e377a8e5",
   "metadata": {
    "execution": {
     "iopub.execute_input": "2022-07-20T04:09:47.531109Z",
     "iopub.status.busy": "2022-07-20T04:09:47.530734Z",
     "iopub.status.idle": "2022-07-20T04:09:47.534958Z",
     "shell.execute_reply": "2022-07-20T04:09:47.533945Z"
    },
    "papermill": {
     "duration": 0.012773,
     "end_time": "2022-07-20T04:09:47.536981",
     "exception": false,
     "start_time": "2022-07-20T04:09:47.524208",
     "status": "completed"
    },
    "tags": []
   },
   "outputs": [],
   "source": [
    "# Uncomment to see a hint\n",
    "#q2.hint()\n",
    "\n",
    "# Uncomment to view the solution\n",
    "#q2.solution()"
   ]
  },
  {
   "cell_type": "markdown",
   "id": "c444173f",
   "metadata": {
    "papermill": {
     "duration": 0.004941,
     "end_time": "2022-07-20T04:09:47.547247",
     "exception": false,
     "start_time": "2022-07-20T04:09:47.542306",
     "status": "completed"
    },
    "tags": []
   },
   "source": [
    "# Question 3\n",
    "\n",
    "You're a home decorator, and you'd like to use Python to streamline some of your work.  Specifically, you're creating a tool that you intend to use to calculate the cost of painting a room.\n",
    "\n",
    "As a first step, define a function `get_cost()` that takes as input:\n",
    "- `sqft_walls` = total square feet of walls to be painted\n",
    "- `sqft_ceiling` = square feet of ceiling to be painted\n",
    "- `sqft_per_gallon` = number of square feet that you can cover with one gallon of paint\n",
    "- `cost_per_gallon` = cost (in dollars) of one gallon of paint\n",
    "\n",
    "It should return the cost (in dollars) of putting one coat of paint on all walls and the ceiling.  Assume you can buy the exact amount of paint that you need, so you can buy partial gallons (e.g., if you need 7.523 gallons, you can buy that exact amount, instead of needing to buy 8 gallons and waste some paint).  Do not round your answer."
   ]
  },
  {
   "cell_type": "code",
   "execution_count": 6,
   "id": "58907dd5",
   "metadata": {
    "execution": {
     "iopub.execute_input": "2022-07-20T04:09:47.559012Z",
     "iopub.status.busy": "2022-07-20T04:09:47.558672Z",
     "iopub.status.idle": "2022-07-20T04:09:47.568931Z",
     "shell.execute_reply": "2022-07-20T04:09:47.567988Z"
    },
    "papermill": {
     "duration": 0.018821,
     "end_time": "2022-07-20T04:09:47.571129",
     "exception": false,
     "start_time": "2022-07-20T04:09:47.552308",
     "status": "completed"
    },
    "tags": []
   },
   "outputs": [
    {
     "data": {
      "application/javascript": [
       "parent.postMessage({\"jupyterEvent\": \"custom.exercise_interaction\", \"data\": {\"outcomeType\": 1, \"valueTowardsCompletion\": 0.2, \"interactionType\": 1, \"questionType\": 2, \"questionId\": \"3_GetCostPaint\", \"learnToolsVersion\": \"0.3.4\", \"failureMessage\": \"\", \"exceptionClass\": \"\", \"trace\": \"\"}}, \"*\")"
      ],
      "text/plain": [
       "<IPython.core.display.Javascript object>"
      ]
     },
     "metadata": {},
     "output_type": "display_data"
    },
    {
     "data": {
      "text/markdown": [
       "<span style=\"color:#33cc33\">Correct</span>"
      ],
      "text/plain": [
       "Correct"
      ]
     },
     "metadata": {},
     "output_type": "display_data"
    }
   ],
   "source": [
    "# TODO: Finish defining the function\n",
    "def get_cost(sqft_walls, sqft_ceiling, sqft_per_gallon, cost_per_gallon):\n",
    "    cost = ((sqft_walls + sqft_ceiling)/sqft_per_gallon) * cost_per_gallon\n",
    "    return cost\n",
    "\n",
    "# Check your answer\n",
    "q3.check()"
   ]
  },
  {
   "cell_type": "code",
   "execution_count": 7,
   "id": "4a4a0da4",
   "metadata": {
    "execution": {
     "iopub.execute_input": "2022-07-20T04:09:47.583548Z",
     "iopub.status.busy": "2022-07-20T04:09:47.583207Z",
     "iopub.status.idle": "2022-07-20T04:09:47.588012Z",
     "shell.execute_reply": "2022-07-20T04:09:47.586751Z"
    },
    "papermill": {
     "duration": 0.013543,
     "end_time": "2022-07-20T04:09:47.590161",
     "exception": false,
     "start_time": "2022-07-20T04:09:47.576618",
     "status": "completed"
    },
    "tags": []
   },
   "outputs": [],
   "source": [
    "# Uncomment to see a hint\n",
    "#q3.hint()\n",
    "\n",
    "# Uncomment to view the solution\n",
    "#q3.solution()"
   ]
  },
  {
   "cell_type": "markdown",
   "id": "a931ad06",
   "metadata": {
    "papermill": {
     "duration": 0.005401,
     "end_time": "2022-07-20T04:09:47.601233",
     "exception": false,
     "start_time": "2022-07-20T04:09:47.595832",
     "status": "completed"
    },
    "tags": []
   },
   "source": [
    "# Question 4\n",
    "\n",
    "Use the `get_cost()` function you defined in Question 3 to calculate the cost of applying one coat of paint to a room with:\n",
    "- 432 square feet of walls, and\n",
    "- 144 square feet of ceiling.\n",
    "\n",
    "Assume that one gallon of paint covers 400 square feet and costs $15.  As in Question 3, assume you can buy partial gallons of paint.  Do not round your answer."
   ]
  },
  {
   "cell_type": "code",
   "execution_count": 8,
   "id": "bf4f2260",
   "metadata": {
    "execution": {
     "iopub.execute_input": "2022-07-20T04:09:47.614200Z",
     "iopub.status.busy": "2022-07-20T04:09:47.613843Z",
     "iopub.status.idle": "2022-07-20T04:09:47.622643Z",
     "shell.execute_reply": "2022-07-20T04:09:47.621709Z"
    },
    "papermill": {
     "duration": 0.017799,
     "end_time": "2022-07-20T04:09:47.624728",
     "exception": false,
     "start_time": "2022-07-20T04:09:47.606929",
     "status": "completed"
    },
    "tags": []
   },
   "outputs": [
    {
     "data": {
      "application/javascript": [
       "parent.postMessage({\"jupyterEvent\": \"custom.exercise_interaction\", \"data\": {\"outcomeType\": 1, \"valueTowardsCompletion\": 0.2, \"interactionType\": 1, \"questionType\": 1, \"questionId\": \"4_GetCostPaintExample\", \"learnToolsVersion\": \"0.3.4\", \"failureMessage\": \"\", \"exceptionClass\": \"\", \"trace\": \"\"}}, \"*\")"
      ],
      "text/plain": [
       "<IPython.core.display.Javascript object>"
      ]
     },
     "metadata": {},
     "output_type": "display_data"
    },
    {
     "data": {
      "text/markdown": [
       "<span style=\"color:#33cc33\">Correct</span>"
      ],
      "text/plain": [
       "Correct"
      ]
     },
     "metadata": {},
     "output_type": "display_data"
    }
   ],
   "source": [
    "# TODO: Set the project_cost variable to the cost of the project\n",
    "project_cost = get_cost(432,144,400,15)\n",
    "\n",
    "# Check your answer\n",
    "q4.check()"
   ]
  },
  {
   "cell_type": "code",
   "execution_count": 9,
   "id": "1800612b",
   "metadata": {
    "execution": {
     "iopub.execute_input": "2022-07-20T04:09:47.637705Z",
     "iopub.status.busy": "2022-07-20T04:09:47.637299Z",
     "iopub.status.idle": "2022-07-20T04:09:47.641243Z",
     "shell.execute_reply": "2022-07-20T04:09:47.640319Z"
    },
    "papermill": {
     "duration": 0.01281,
     "end_time": "2022-07-20T04:09:47.643193",
     "exception": false,
     "start_time": "2022-07-20T04:09:47.630383",
     "status": "completed"
    },
    "tags": []
   },
   "outputs": [],
   "source": [
    "# Uncomment to see a hint\n",
    "#q4.hint()\n",
    "\n",
    "# Uncomment to view the solution\n",
    "#q4.solution()"
   ]
  },
  {
   "cell_type": "markdown",
   "id": "38695253",
   "metadata": {
    "papermill": {
     "duration": 0.005327,
     "end_time": "2022-07-20T04:09:47.654691",
     "exception": false,
     "start_time": "2022-07-20T04:09:47.649364",
     "status": "completed"
    },
    "tags": []
   },
   "source": [
    "# 🌶️ Question 5\n",
    "\n",
    "Now say you can no longer buy fractions of a gallon.  (For instance, if you need 4.3 gallons to do a project, then you have to buy 5 gallons of paint.)\n",
    "\n",
    "With this new scenario, you will create a new function `get_actual_cost` that uses the same inputs and calculates the cost of your project.\n",
    "\n",
    "One function that you'll need to use to do this is `math.ceil()`.  We demonstrate usage of this function in the code cell below.  It takes as a number as input and rounds the number up to the nearest integer.  \n",
    "\n",
    "Run the next code cell to test this function for yourself.  Feel free to change the value of `test_value` and make sure `math.ceil()` returns the number you expect."
   ]
  },
  {
   "cell_type": "code",
   "execution_count": 10,
   "id": "712c0bd6",
   "metadata": {
    "execution": {
     "iopub.execute_input": "2022-07-20T04:09:47.668237Z",
     "iopub.status.busy": "2022-07-20T04:09:47.667858Z",
     "iopub.status.idle": "2022-07-20T04:09:47.673079Z",
     "shell.execute_reply": "2022-07-20T04:09:47.671795Z"
    },
    "papermill": {
     "duration": 0.014643,
     "end_time": "2022-07-20T04:09:47.675356",
     "exception": false,
     "start_time": "2022-07-20T04:09:47.660713",
     "status": "completed"
    },
    "tags": []
   },
   "outputs": [
    {
     "name": "stdout",
     "output_type": "stream",
     "text": [
      "3\n"
     ]
    }
   ],
   "source": [
    "test_value = 2.17\n",
    "\n",
    "rounded_value = math.ceil(test_value)\n",
    "print(rounded_value)"
   ]
  },
  {
   "cell_type": "markdown",
   "id": "892cd34f",
   "metadata": {
    "papermill": {
     "duration": 0.005426,
     "end_time": "2022-07-20T04:09:47.686934",
     "exception": false,
     "start_time": "2022-07-20T04:09:47.681508",
     "status": "completed"
    },
    "tags": []
   },
   "source": [
    "Use the next code cell to define the function `get_actual_cost()`.  You'll need to use the `math.ceil()` function to do this.\n",
    "\n",
    "When answering this question, note that it's completely valid to define a function that makes use of another function.  For instance, we can define a function `round_up_and_divide_by_three` that makes use of the `math.ceil` function:\n",
    "```\n",
    "def round_up_and_divide_by_three(num):\n",
    "    new_value = math.ceil(num)\n",
    "    final_value = new_value / 3\n",
    "    return final_value\n",
    "```"
   ]
  },
  {
   "cell_type": "code",
   "execution_count": 11,
   "id": "801a843a",
   "metadata": {
    "execution": {
     "iopub.execute_input": "2022-07-20T04:09:47.700654Z",
     "iopub.status.busy": "2022-07-20T04:09:47.700256Z",
     "iopub.status.idle": "2022-07-20T04:09:47.707532Z",
     "shell.execute_reply": "2022-07-20T04:09:47.706761Z"
    },
    "papermill": {
     "duration": 0.016585,
     "end_time": "2022-07-20T04:09:47.709408",
     "exception": false,
     "start_time": "2022-07-20T04:09:47.692823",
     "status": "completed"
    },
    "tags": []
   },
   "outputs": [
    {
     "data": {
      "application/javascript": [
       "parent.postMessage({\"jupyterEvent\": \"custom.exercise_interaction\", \"data\": {\"outcomeType\": 2, \"failureMessage\": \"Expected return value of `30` given `sqft_walls=432`, `sqft_ceiling=144`, `sqft_per_gallon=400`, `cost_per_gallon=15`, but got `<learntools.core.constants.PlaceholderValue object at 0x7f417e4a7050>` instead.\", \"interactionType\": 1, \"questionType\": 2, \"questionId\": \"5_NoMoreFractions\", \"learnToolsVersion\": \"0.3.4\", \"valueTowardsCompletion\": 0.0, \"exceptionClass\": \"\", \"trace\": \"\"}}, \"*\")"
      ],
      "text/plain": [
       "<IPython.core.display.Javascript object>"
      ]
     },
     "metadata": {},
     "output_type": "display_data"
    },
    {
     "data": {
      "text/markdown": [
       "<span style=\"color:#cc3333\">Incorrect:</span> Expected return value of `30` given `sqft_walls=432`, `sqft_ceiling=144`, `sqft_per_gallon=400`, `cost_per_gallon=15`, but got `<learntools.core.constants.PlaceholderValue object at 0x7f417e4a7050>` instead."
      ],
      "text/plain": [
       "Incorrect: Expected return value of `30` given `sqft_walls=432`, `sqft_ceiling=144`, `sqft_per_gallon=400`, `cost_per_gallon=15`, but got `<learntools.core.constants.PlaceholderValue object at 0x7f417e4a7050>` instead."
      ]
     },
     "metadata": {},
     "output_type": "display_data"
    }
   ],
   "source": [
    "def get_actual_cost(sqft_walls, sqft_ceiling, sqft_per_gallon, cost_per_gallon):\n",
    "    cost = ____\n",
    "    return cost\n",
    "\n",
    "# Check your answer\n",
    "q5.check()"
   ]
  },
  {
   "cell_type": "code",
   "execution_count": 12,
   "id": "245e62b6",
   "metadata": {
    "execution": {
     "iopub.execute_input": "2022-07-20T04:09:47.723100Z",
     "iopub.status.busy": "2022-07-20T04:09:47.722559Z",
     "iopub.status.idle": "2022-07-20T04:09:47.725985Z",
     "shell.execute_reply": "2022-07-20T04:09:47.725120Z"
    },
    "papermill": {
     "duration": 0.012438,
     "end_time": "2022-07-20T04:09:47.727803",
     "exception": false,
     "start_time": "2022-07-20T04:09:47.715365",
     "status": "completed"
    },
    "tags": []
   },
   "outputs": [],
   "source": [
    "# Uncomment to see a hint\n",
    "#q5.hint()\n",
    "\n",
    "# Uncomment to view the solution\n",
    "#q5.solution()"
   ]
  },
  {
   "cell_type": "markdown",
   "id": "42e1fa1b",
   "metadata": {
    "papermill": {
     "duration": 0.005563,
     "end_time": "2022-07-20T04:09:47.739409",
     "exception": false,
     "start_time": "2022-07-20T04:09:47.733846",
     "status": "completed"
    },
    "tags": []
   },
   "source": [
    "Once your function is verified as correct, run the next code cell to calculate the updated cost of your project."
   ]
  },
  {
   "cell_type": "code",
   "execution_count": 13,
   "id": "474b0dd4",
   "metadata": {
    "execution": {
     "iopub.execute_input": "2022-07-20T04:09:47.752786Z",
     "iopub.status.busy": "2022-07-20T04:09:47.752420Z",
     "iopub.status.idle": "2022-07-20T04:09:47.758662Z",
     "shell.execute_reply": "2022-07-20T04:09:47.757642Z"
    },
    "papermill": {
     "duration": 0.015606,
     "end_time": "2022-07-20T04:09:47.760869",
     "exception": false,
     "start_time": "2022-07-20T04:09:47.745263",
     "status": "completed"
    },
    "tags": []
   },
   "outputs": [
    {
     "data": {
      "text/markdown": [],
      "text/plain": [
       "<learntools.core.constants.PlaceholderValue at 0x7f417e4a7050>"
      ]
     },
     "execution_count": 13,
     "metadata": {},
     "output_type": "execute_result"
    }
   ],
   "source": [
    "get_actual_cost(432, 144, 400, 15) "
   ]
  },
  {
   "cell_type": "markdown",
   "id": "d4353252",
   "metadata": {
    "papermill": {
     "duration": 0.005859,
     "end_time": "2022-07-20T04:09:47.772790",
     "exception": false,
     "start_time": "2022-07-20T04:09:47.766931",
     "status": "completed"
    },
    "tags": []
   },
   "source": [
    "Say you're working with a slightly larger room.  Run the next code cell to calculate the cost of the project."
   ]
  },
  {
   "cell_type": "code",
   "execution_count": 14,
   "id": "3c11f2a7",
   "metadata": {
    "execution": {
     "iopub.execute_input": "2022-07-20T04:09:47.786517Z",
     "iopub.status.busy": "2022-07-20T04:09:47.786126Z",
     "iopub.status.idle": "2022-07-20T04:09:47.791825Z",
     "shell.execute_reply": "2022-07-20T04:09:47.791034Z"
    },
    "papermill": {
     "duration": 0.014679,
     "end_time": "2022-07-20T04:09:47.793661",
     "exception": false,
     "start_time": "2022-07-20T04:09:47.778982",
     "status": "completed"
    },
    "tags": []
   },
   "outputs": [
    {
     "data": {
      "text/markdown": [],
      "text/plain": [
       "<learntools.core.constants.PlaceholderValue at 0x7f417e4a7050>"
      ]
     },
     "execution_count": 14,
     "metadata": {},
     "output_type": "execute_result"
    }
   ],
   "source": [
    "get_actual_cost(594, 288, 400, 15) "
   ]
  },
  {
   "cell_type": "markdown",
   "id": "95b9f715",
   "metadata": {
    "papermill": {
     "duration": 0.006078,
     "end_time": "2022-07-20T04:09:47.806107",
     "exception": false,
     "start_time": "2022-07-20T04:09:47.800029",
     "status": "completed"
    },
    "tags": []
   },
   "source": [
    "# Keep going\n",
    "\n",
    "Continue to learn about **[data types](https://www.kaggle.com/alexisbcook/data-types)**."
   ]
  },
  {
   "cell_type": "markdown",
   "id": "fc4c2b04",
   "metadata": {
    "papermill": {
     "duration": 0.005883,
     "end_time": "2022-07-20T04:09:47.818405",
     "exception": false,
     "start_time": "2022-07-20T04:09:47.812522",
     "status": "completed"
    },
    "tags": []
   },
   "source": [
    "---\n",
    "\n",
    "\n",
    "\n",
    "\n",
    "*Have questions or comments? Visit the [course discussion forum](https://www.kaggle.com/learn/intro-to-programming/discussion) to chat with other learners.*"
   ]
  }
 ],
 "metadata": {
  "kernelspec": {
   "display_name": "Python 3",
   "language": "python",
   "name": "python3"
  },
  "language_info": {
   "codemirror_mode": {
    "name": "ipython",
    "version": 3
   },
   "file_extension": ".py",
   "mimetype": "text/x-python",
   "name": "python",
   "nbconvert_exporter": "python",
   "pygments_lexer": "ipython3",
   "version": "3.7.12"
  },
  "papermill": {
   "default_parameters": {},
   "duration": 10.013648,
   "end_time": "2022-07-20T04:09:48.446487",
   "environment_variables": {},
   "exception": null,
   "input_path": "__notebook__.ipynb",
   "output_path": "__notebook__.ipynb",
   "parameters": {},
   "start_time": "2022-07-20T04:09:38.432839",
   "version": "2.3.4"
  }
 },
 "nbformat": 4,
 "nbformat_minor": 5
}
