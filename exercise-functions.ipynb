{
 "cells": [
  {
   "cell_type": "markdown",
   "id": "50ecf0d7",
   "metadata": {
    "papermill": {
     "duration": 0.007835,
     "end_time": "2022-07-17T03:08:07.253638",
     "exception": false,
     "start_time": "2022-07-17T03:08:07.245803",
     "status": "completed"
    },
    "tags": []
   },
   "source": [
    "**This notebook is an exercise in the [Intro to Programming](https://www.kaggle.com/learn/intro-to-programming) course.  You can reference the tutorial at [this link](https://www.kaggle.com/alexisbcook/functions).**\n",
    "\n",
    "---\n"
   ]
  },
  {
   "cell_type": "markdown",
   "id": "e0a208f3",
   "metadata": {
    "papermill": {
     "duration": 0.006522,
     "end_time": "2022-07-17T03:08:07.267300",
     "exception": false,
     "start_time": "2022-07-17T03:08:07.260778",
     "status": "completed"
    },
    "tags": []
   },
   "source": [
    "In the tutorial, you learned about functions. In this exercise, you'll write some of your own!\n",
    "\n",
    "# Set up the notebook\n",
    "\n",
    "Run the next code cell without changes to set up the notebook."
   ]
  },
  {
   "cell_type": "code",
   "execution_count": 1,
   "id": "fd3c0670",
   "metadata": {
    "execution": {
     "iopub.execute_input": "2022-07-17T03:08:07.283065Z",
     "iopub.status.busy": "2022-07-17T03:08:07.282294Z",
     "iopub.status.idle": "2022-07-17T03:08:07.329329Z",
     "shell.execute_reply": "2022-07-17T03:08:07.328077Z"
    },
    "papermill": {
     "duration": 0.057831,
     "end_time": "2022-07-17T03:08:07.331965",
     "exception": false,
     "start_time": "2022-07-17T03:08:07.274134",
     "status": "completed"
    },
    "tags": []
   },
   "outputs": [
    {
     "name": "stdout",
     "output_type": "stream",
     "text": [
      "Setup complete.\n"
     ]
    }
   ],
   "source": [
    "# Set up the exercise\n",
    "import math\n",
    "from learntools.core import binder\n",
    "binder.bind(globals())\n",
    "from learntools.intro_to_programming.ex2 import *\n",
    "print('Setup complete.')"
   ]
  },
  {
   "cell_type": "markdown",
   "id": "7a1c981c",
   "metadata": {
    "papermill": {
     "duration": 0.006059,
     "end_time": "2022-07-17T03:08:07.344910",
     "exception": false,
     "start_time": "2022-07-17T03:08:07.338851",
     "status": "completed"
    },
    "tags": []
   },
   "source": [
    "# Question 1\n",
    "\n",
    "In the [House Prices - Advanced Regression Techniques competition](https://www.kaggle.com/c/house-prices-advanced-regression-techniques/overview), you need to use information like the number of bedrooms and bathrooms to predict the price of a house.  Inspired by this competition, you'll write your own function to do this.\n",
    "\n",
    "In the next code cell, create a function `get_expected_cost()` that has two arguments:\n",
    "- `beds` - number of bedrooms \n",
    "- `baths` - number of bathrooms\n",
    "\n",
    "It should return the expected cost of a house with that number of bedrooms and bathrooms.  Assume that:\n",
    "- the expected cost for a house with 0 bedrooms and 0 bathrooms is `80000`.  \n",
    "- each bedroom adds `30000` to the expected cost\n",
    "- each bathroom adds `10000` to the expected cost.\n",
    "\n",
    "For instance, \n",
    "- a house with 1 bedroom and 1 bathroom has an expected cost of `120000`, and \n",
    "- a house with 2 bedrooms and 1 bathroom has an expected cost of `150000`."
   ]
  },
  {
   "cell_type": "code",
   "execution_count": 2,
   "id": "56a19ce5",
   "metadata": {
    "execution": {
     "iopub.execute_input": "2022-07-17T03:08:07.359374Z",
     "iopub.status.busy": "2022-07-17T03:08:07.358970Z",
     "iopub.status.idle": "2022-07-17T03:08:07.369982Z",
     "shell.execute_reply": "2022-07-17T03:08:07.369159Z"
    },
    "papermill": {
     "duration": 0.020702,
     "end_time": "2022-07-17T03:08:07.371913",
     "exception": false,
     "start_time": "2022-07-17T03:08:07.351211",
     "status": "completed"
    },
    "tags": []
   },
   "outputs": [
    {
     "data": {
      "application/javascript": [
       "parent.postMessage({\"jupyterEvent\": \"custom.exercise_interaction\", \"data\": {\"outcomeType\": 1, \"valueTowardsCompletion\": 0.2, \"interactionType\": 1, \"questionType\": 2, \"questionId\": \"1_GetExpectedCost\", \"learnToolsVersion\": \"0.3.4\", \"failureMessage\": \"\", \"exceptionClass\": \"\", \"trace\": \"\"}}, \"*\")"
      ],
      "text/plain": [
       "<IPython.core.display.Javascript object>"
      ]
     },
     "metadata": {},
     "output_type": "display_data"
    },
    {
     "data": {
      "text/markdown": [
       "<span style=\"color:#33cc33\">Correct</span>"
      ],
      "text/plain": [
       "Correct"
      ]
     },
     "metadata": {},
     "output_type": "display_data"
    }
   ],
   "source": [
    "# TODO: Complete the function\n",
    "def get_expected_cost(beds, baths):\n",
    "    value = 80000 + (beds * 30000) + (baths * 10000)\n",
    "    return value\n",
    "\n",
    "# Check your answer \n",
    "q1.check()"
   ]
  },
  {
   "cell_type": "code",
   "execution_count": 3,
   "id": "031a8473",
   "metadata": {
    "execution": {
     "iopub.execute_input": "2022-07-17T03:08:07.388552Z",
     "iopub.status.busy": "2022-07-17T03:08:07.387391Z",
     "iopub.status.idle": "2022-07-17T03:08:07.392918Z",
     "shell.execute_reply": "2022-07-17T03:08:07.391705Z"
    },
    "papermill": {
     "duration": 0.016503,
     "end_time": "2022-07-17T03:08:07.395122",
     "exception": false,
     "start_time": "2022-07-17T03:08:07.378619",
     "status": "completed"
    },
    "tags": []
   },
   "outputs": [],
   "source": [
    "# Uncomment to see a hint\n",
    "#q1.hint()\n",
    "\n",
    "# Uncomment to view the solution\n",
    "#q1.solution()"
   ]
  },
  {
   "cell_type": "markdown",
   "id": "45e07000",
   "metadata": {
    "papermill": {
     "duration": 0.006551,
     "end_time": "2022-07-17T03:08:07.408535",
     "exception": false,
     "start_time": "2022-07-17T03:08:07.401984",
     "status": "completed"
    },
    "tags": []
   },
   "source": [
    "# Question 2\n",
    "\n",
    "You are thinking about buying a home and want to get an idea of how much you will spend, based on the number of bedrooms and bathrooms.  You are trying to decide between four different options:\n",
    "- Option 1: house with two bedrooms and three bathrooms\n",
    "- Option 2: house with three bedrooms and two bathrooms\n",
    "- Option 3: house with three bedrooms and three bathrooms\n",
    "- Option 4: house with three bedrooms and four bathrooms\n",
    "\n",
    "Use the `get_expected_cost()` function you defined in question 1 to set `option_1`, `option_2`, `option_3`, and `option_4` to the expected cost of each option."
   ]
  },
  {
   "cell_type": "code",
   "execution_count": 4,
   "id": "24a69331",
   "metadata": {
    "execution": {
     "iopub.execute_input": "2022-07-17T03:08:07.424922Z",
     "iopub.status.busy": "2022-07-17T03:08:07.423863Z",
     "iopub.status.idle": "2022-07-17T03:08:07.435506Z",
     "shell.execute_reply": "2022-07-17T03:08:07.434325Z"
    },
    "papermill": {
     "duration": 0.022291,
     "end_time": "2022-07-17T03:08:07.437843",
     "exception": false,
     "start_time": "2022-07-17T03:08:07.415552",
     "status": "completed"
    },
    "tags": []
   },
   "outputs": [
    {
     "name": "stdout",
     "output_type": "stream",
     "text": [
      "170000\n",
      "190000\n",
      "200000\n",
      "210000\n"
     ]
    },
    {
     "data": {
      "application/javascript": [
       "parent.postMessage({\"jupyterEvent\": \"custom.exercise_interaction\", \"data\": {\"outcomeType\": 1, \"valueTowardsCompletion\": 0.2, \"interactionType\": 1, \"questionType\": 1, \"questionId\": \"2_RunGetExpectedCost\", \"learnToolsVersion\": \"0.3.4\", \"failureMessage\": \"\", \"exceptionClass\": \"\", \"trace\": \"\"}}, \"*\")"
      ],
      "text/plain": [
       "<IPython.core.display.Javascript object>"
      ]
     },
     "metadata": {},
     "output_type": "display_data"
    },
    {
     "data": {
      "text/markdown": [
       "<span style=\"color:#33cc33\">Correct</span>"
      ],
      "text/plain": [
       "Correct"
      ]
     },
     "metadata": {},
     "output_type": "display_data"
    }
   ],
   "source": [
    "# TODO: Use the get_expected_cost function to fill in each value\n",
    "option_one = get_expected_cost(2,3)\n",
    "option_two = get_expected_cost(3,2)\n",
    "option_three = get_expected_cost(3,3)\n",
    "option_four = get_expected_cost(3,4)\n",
    "\n",
    "print(option_one)\n",
    "print(option_two)\n",
    "print(option_three)\n",
    "print(option_four)\n",
    "\n",
    "# Check your answer\n",
    "q2.check()"
   ]
  },
  {
   "cell_type": "code",
   "execution_count": 5,
   "id": "6515809b",
   "metadata": {
    "execution": {
     "iopub.execute_input": "2022-07-17T03:08:07.453724Z",
     "iopub.status.busy": "2022-07-17T03:08:07.453318Z",
     "iopub.status.idle": "2022-07-17T03:08:07.457628Z",
     "shell.execute_reply": "2022-07-17T03:08:07.456494Z"
    },
    "papermill": {
     "duration": 0.015267,
     "end_time": "2022-07-17T03:08:07.460059",
     "exception": false,
     "start_time": "2022-07-17T03:08:07.444792",
     "status": "completed"
    },
    "tags": []
   },
   "outputs": [],
   "source": [
    "# Uncomment to see a hint\n",
    "#q2.hint()\n",
    "\n",
    "# Uncomment to view the solution\n",
    "#q2.solution()"
   ]
  },
  {
   "cell_type": "markdown",
   "id": "c4df71ea",
   "metadata": {
    "papermill": {
     "duration": 0.006644,
     "end_time": "2022-07-17T03:08:07.473965",
     "exception": false,
     "start_time": "2022-07-17T03:08:07.467321",
     "status": "completed"
    },
    "tags": []
   },
   "source": [
    "# Question 3\n",
    "\n",
    "You're a home decorator, and you'd like to use Python to streamline some of your work.  Specifically, you're creating a tool that you intend to use to calculate the cost of painting a room.\n",
    "\n",
    "As a first step, define a function `get_cost()` that takes as input:\n",
    "- `sqft_walls` = total square feet of walls to be painted\n",
    "- `sqft_ceiling` = square feet of ceiling to be painted\n",
    "- `sqft_per_gallon` = number of square feet that you can cover with one gallon of paint\n",
    "- `cost_per_gallon` = cost (in dollars) of one gallon of paint\n",
    "\n",
    "It should return the cost (in dollars) of putting one coat of paint on all walls and the ceiling.  Assume you can buy the exact amount of paint that you need, so you can buy partial gallons (e.g., if you need 7.523 gallons, you can buy that exact amount, instead of needing to buy 8 gallons and waste some paint).  Do not round your answer."
   ]
  },
  {
   "cell_type": "code",
   "execution_count": 6,
   "id": "2509ef51",
   "metadata": {
    "execution": {
     "iopub.execute_input": "2022-07-17T03:08:07.489816Z",
     "iopub.status.busy": "2022-07-17T03:08:07.489391Z",
     "iopub.status.idle": "2022-07-17T03:08:07.499947Z",
     "shell.execute_reply": "2022-07-17T03:08:07.498793Z"
    },
    "papermill": {
     "duration": 0.021323,
     "end_time": "2022-07-17T03:08:07.502177",
     "exception": false,
     "start_time": "2022-07-17T03:08:07.480854",
     "status": "completed"
    },
    "tags": []
   },
   "outputs": [
    {
     "data": {
      "application/javascript": [
       "parent.postMessage({\"jupyterEvent\": \"custom.exercise_interaction\", \"data\": {\"outcomeType\": 2, \"failureMessage\": \"Expected return value of `21.599999999999998` given `sqft_walls=432`, `sqft_ceiling=144`, `sqft_per_gallon=400`, `cost_per_gallon=15`, but got `<learntools.core.constants.PlaceholderValue object at 0x7f14b05e50d0>` instead.\", \"interactionType\": 1, \"questionType\": 2, \"questionId\": \"3_GetCostPaint\", \"learnToolsVersion\": \"0.3.4\", \"valueTowardsCompletion\": 0.0, \"exceptionClass\": \"\", \"trace\": \"\"}}, \"*\")"
      ],
      "text/plain": [
       "<IPython.core.display.Javascript object>"
      ]
     },
     "metadata": {},
     "output_type": "display_data"
    },
    {
     "data": {
      "text/markdown": [
       "<span style=\"color:#cc3333\">Incorrect:</span> Expected return value of `21.599999999999998` given `sqft_walls=432`, `sqft_ceiling=144`, `sqft_per_gallon=400`, `cost_per_gallon=15`, but got `<learntools.core.constants.PlaceholderValue object at 0x7f14b05e50d0>` instead."
      ],
      "text/plain": [
       "Incorrect: Expected return value of `21.599999999999998` given `sqft_walls=432`, `sqft_ceiling=144`, `sqft_per_gallon=400`, `cost_per_gallon=15`, but got `<learntools.core.constants.PlaceholderValue object at 0x7f14b05e50d0>` instead."
      ]
     },
     "metadata": {},
     "output_type": "display_data"
    }
   ],
   "source": [
    "# TODO: Finish defining the function\n",
    "def get_cost(sqft_walls, sqft_ceiling, sqft_per_gallon, cost_per_gallon):\n",
    "    cost = ____\n",
    "    return cost\n",
    "\n",
    "# Check your answer\n",
    "q3.check()"
   ]
  },
  {
   "cell_type": "code",
   "execution_count": 7,
   "id": "1e253105",
   "metadata": {
    "execution": {
     "iopub.execute_input": "2022-07-17T03:08:07.518840Z",
     "iopub.status.busy": "2022-07-17T03:08:07.518083Z",
     "iopub.status.idle": "2022-07-17T03:08:07.522534Z",
     "shell.execute_reply": "2022-07-17T03:08:07.521781Z"
    },
    "papermill": {
     "duration": 0.015374,
     "end_time": "2022-07-17T03:08:07.524789",
     "exception": false,
     "start_time": "2022-07-17T03:08:07.509415",
     "status": "completed"
    },
    "tags": []
   },
   "outputs": [],
   "source": [
    "# Uncomment to see a hint\n",
    "#q3.hint()\n",
    "\n",
    "# Uncomment to view the solution\n",
    "#q3.solution()"
   ]
  },
  {
   "cell_type": "markdown",
   "id": "5124f218",
   "metadata": {
    "papermill": {
     "duration": 0.007112,
     "end_time": "2022-07-17T03:08:07.539313",
     "exception": false,
     "start_time": "2022-07-17T03:08:07.532201",
     "status": "completed"
    },
    "tags": []
   },
   "source": [
    "# Question 4\n",
    "\n",
    "Use the `get_cost()` function you defined in Question 3 to calculate the cost of applying one coat of paint to a room with:\n",
    "- 432 square feet of walls, and\n",
    "- 144 square feet of ceiling.\n",
    "\n",
    "Assume that one gallon of paint covers 400 square feet and costs $15.  As in Question 3, assume you can buy partial gallons of paint.  Do not round your answer."
   ]
  },
  {
   "cell_type": "code",
   "execution_count": 8,
   "id": "0566adc9",
   "metadata": {
    "execution": {
     "iopub.execute_input": "2022-07-17T03:08:07.555989Z",
     "iopub.status.busy": "2022-07-17T03:08:07.555222Z",
     "iopub.status.idle": "2022-07-17T03:08:07.564561Z",
     "shell.execute_reply": "2022-07-17T03:08:07.563745Z"
    },
    "papermill": {
     "duration": 0.020248,
     "end_time": "2022-07-17T03:08:07.566778",
     "exception": false,
     "start_time": "2022-07-17T03:08:07.546530",
     "status": "completed"
    },
    "tags": []
   },
   "outputs": [
    {
     "data": {
      "application/javascript": [
       "parent.postMessage({\"jupyterEvent\": \"custom.exercise_interaction\", \"data\": {\"outcomeType\": 4, \"interactionType\": 1, \"questionType\": 1, \"questionId\": \"4_GetCostPaintExample\", \"learnToolsVersion\": \"0.3.4\", \"valueTowardsCompletion\": 0.0, \"failureMessage\": \"\", \"exceptionClass\": \"\", \"trace\": \"\"}}, \"*\")"
      ],
      "text/plain": [
       "<IPython.core.display.Javascript object>"
      ]
     },
     "metadata": {},
     "output_type": "display_data"
    },
    {
     "data": {
      "text/markdown": [
       "<span style=\"color:#ccaa33\">Check:</span> When you've updated the starter code, `check()` will tell you whether your code is correct. You need to update the code that creates variable `project_cost`"
      ],
      "text/plain": [
       "Check: When you've updated the starter code, `check()` will tell you whether your code is correct. You need to update the code that creates variable `project_cost`"
      ]
     },
     "metadata": {},
     "output_type": "display_data"
    }
   ],
   "source": [
    "# TODO: Set the project_cost variable to the cost of the project\n",
    "project_cost = ____\n",
    "\n",
    "# Check your answer\n",
    "q4.check()"
   ]
  },
  {
   "cell_type": "code",
   "execution_count": 9,
   "id": "633a43fd",
   "metadata": {
    "execution": {
     "iopub.execute_input": "2022-07-17T03:08:07.586347Z",
     "iopub.status.busy": "2022-07-17T03:08:07.585357Z",
     "iopub.status.idle": "2022-07-17T03:08:07.590227Z",
     "shell.execute_reply": "2022-07-17T03:08:07.589485Z"
    },
    "papermill": {
     "duration": 0.016604,
     "end_time": "2022-07-17T03:08:07.592406",
     "exception": false,
     "start_time": "2022-07-17T03:08:07.575802",
     "status": "completed"
    },
    "tags": []
   },
   "outputs": [],
   "source": [
    "# Uncomment to see a hint\n",
    "#q4.hint()\n",
    "\n",
    "# Uncomment to view the solution\n",
    "#q4.solution()"
   ]
  },
  {
   "cell_type": "markdown",
   "id": "7b6faa5a",
   "metadata": {
    "papermill": {
     "duration": 0.007462,
     "end_time": "2022-07-17T03:08:07.607518",
     "exception": false,
     "start_time": "2022-07-17T03:08:07.600056",
     "status": "completed"
    },
    "tags": []
   },
   "source": [
    "# 🌶️ Question 5\n",
    "\n",
    "Now say you can no longer buy fractions of a gallon.  (For instance, if you need 4.3 gallons to do a project, then you have to buy 5 gallons of paint.)\n",
    "\n",
    "With this new scenario, you will create a new function `get_actual_cost` that uses the same inputs and calculates the cost of your project.\n",
    "\n",
    "One function that you'll need to use to do this is `math.ceil()`.  We demonstrate usage of this function in the code cell below.  It takes as a number as input and rounds the number up to the nearest integer.  \n",
    "\n",
    "Run the next code cell to test this function for yourself.  Feel free to change the value of `test_value` and make sure `math.ceil()` returns the number you expect."
   ]
  },
  {
   "cell_type": "code",
   "execution_count": 10,
   "id": "bba692c3",
   "metadata": {
    "execution": {
     "iopub.execute_input": "2022-07-17T03:08:07.627256Z",
     "iopub.status.busy": "2022-07-17T03:08:07.626515Z",
     "iopub.status.idle": "2022-07-17T03:08:07.633352Z",
     "shell.execute_reply": "2022-07-17T03:08:07.632307Z"
    },
    "papermill": {
     "duration": 0.023346,
     "end_time": "2022-07-17T03:08:07.638847",
     "exception": false,
     "start_time": "2022-07-17T03:08:07.615501",
     "status": "completed"
    },
    "tags": []
   },
   "outputs": [
    {
     "name": "stdout",
     "output_type": "stream",
     "text": [
      "3\n"
     ]
    }
   ],
   "source": [
    "test_value = 2.17\n",
    "\n",
    "rounded_value = math.ceil(test_value)\n",
    "print(rounded_value)"
   ]
  },
  {
   "cell_type": "markdown",
   "id": "6605c4cb",
   "metadata": {
    "papermill": {
     "duration": 0.011056,
     "end_time": "2022-07-17T03:08:07.659615",
     "exception": false,
     "start_time": "2022-07-17T03:08:07.648559",
     "status": "completed"
    },
    "tags": []
   },
   "source": [
    "Use the next code cell to define the function `get_actual_cost()`.  You'll need to use the `math.ceil()` function to do this.\n",
    "\n",
    "When answering this question, note that it's completely valid to define a function that makes use of another function.  For instance, we can define a function `round_up_and_divide_by_three` that makes use of the `math.ceil` function:\n",
    "```\n",
    "def round_up_and_divide_by_three(num):\n",
    "    new_value = math.ceil(num)\n",
    "    final_value = new_value / 3\n",
    "    return final_value\n",
    "```"
   ]
  },
  {
   "cell_type": "code",
   "execution_count": 11,
   "id": "8847bc55",
   "metadata": {
    "execution": {
     "iopub.execute_input": "2022-07-17T03:08:07.684110Z",
     "iopub.status.busy": "2022-07-17T03:08:07.683219Z",
     "iopub.status.idle": "2022-07-17T03:08:07.694452Z",
     "shell.execute_reply": "2022-07-17T03:08:07.693265Z"
    },
    "papermill": {
     "duration": 0.025506,
     "end_time": "2022-07-17T03:08:07.696990",
     "exception": false,
     "start_time": "2022-07-17T03:08:07.671484",
     "status": "completed"
    },
    "tags": []
   },
   "outputs": [
    {
     "data": {
      "application/javascript": [
       "parent.postMessage({\"jupyterEvent\": \"custom.exercise_interaction\", \"data\": {\"outcomeType\": 2, \"failureMessage\": \"Expected return value of `30` given `sqft_walls=432`, `sqft_ceiling=144`, `sqft_per_gallon=400`, `cost_per_gallon=15`, but got `<learntools.core.constants.PlaceholderValue object at 0x7f14b05e50d0>` instead.\", \"interactionType\": 1, \"questionType\": 2, \"questionId\": \"5_NoMoreFractions\", \"learnToolsVersion\": \"0.3.4\", \"valueTowardsCompletion\": 0.0, \"exceptionClass\": \"\", \"trace\": \"\"}}, \"*\")"
      ],
      "text/plain": [
       "<IPython.core.display.Javascript object>"
      ]
     },
     "metadata": {},
     "output_type": "display_data"
    },
    {
     "data": {
      "text/markdown": [
       "<span style=\"color:#cc3333\">Incorrect:</span> Expected return value of `30` given `sqft_walls=432`, `sqft_ceiling=144`, `sqft_per_gallon=400`, `cost_per_gallon=15`, but got `<learntools.core.constants.PlaceholderValue object at 0x7f14b05e50d0>` instead."
      ],
      "text/plain": [
       "Incorrect: Expected return value of `30` given `sqft_walls=432`, `sqft_ceiling=144`, `sqft_per_gallon=400`, `cost_per_gallon=15`, but got `<learntools.core.constants.PlaceholderValue object at 0x7f14b05e50d0>` instead."
      ]
     },
     "metadata": {},
     "output_type": "display_data"
    }
   ],
   "source": [
    "def get_actual_cost(sqft_walls, sqft_ceiling, sqft_per_gallon, cost_per_gallon):\n",
    "    cost = ____\n",
    "    return cost\n",
    "\n",
    "# Check your answer\n",
    "q5.check()"
   ]
  },
  {
   "cell_type": "code",
   "execution_count": 12,
   "id": "2690fa13",
   "metadata": {
    "execution": {
     "iopub.execute_input": "2022-07-17T03:08:07.720230Z",
     "iopub.status.busy": "2022-07-17T03:08:07.719312Z",
     "iopub.status.idle": "2022-07-17T03:08:07.723777Z",
     "shell.execute_reply": "2022-07-17T03:08:07.722968Z"
    },
    "papermill": {
     "duration": 0.018847,
     "end_time": "2022-07-17T03:08:07.725854",
     "exception": false,
     "start_time": "2022-07-17T03:08:07.707007",
     "status": "completed"
    },
    "tags": []
   },
   "outputs": [],
   "source": [
    "# Uncomment to see a hint\n",
    "#q5.hint()\n",
    "\n",
    "# Uncomment to view the solution\n",
    "#q5.solution()"
   ]
  },
  {
   "cell_type": "markdown",
   "id": "c025e8d6",
   "metadata": {
    "papermill": {
     "duration": 0.008779,
     "end_time": "2022-07-17T03:08:07.743738",
     "exception": false,
     "start_time": "2022-07-17T03:08:07.734959",
     "status": "completed"
    },
    "tags": []
   },
   "source": [
    "Once your function is verified as correct, run the next code cell to calculate the updated cost of your project."
   ]
  },
  {
   "cell_type": "code",
   "execution_count": 13,
   "id": "871641f6",
   "metadata": {
    "execution": {
     "iopub.execute_input": "2022-07-17T03:08:07.763412Z",
     "iopub.status.busy": "2022-07-17T03:08:07.762784Z",
     "iopub.status.idle": "2022-07-17T03:08:07.770562Z",
     "shell.execute_reply": "2022-07-17T03:08:07.769395Z"
    },
    "papermill": {
     "duration": 0.019914,
     "end_time": "2022-07-17T03:08:07.772725",
     "exception": false,
     "start_time": "2022-07-17T03:08:07.752811",
     "status": "completed"
    },
    "tags": []
   },
   "outputs": [
    {
     "data": {
      "text/markdown": [],
      "text/plain": [
       "<learntools.core.constants.PlaceholderValue at 0x7f14b05e50d0>"
      ]
     },
     "execution_count": 13,
     "metadata": {},
     "output_type": "execute_result"
    }
   ],
   "source": [
    "get_actual_cost(432, 144, 400, 15) "
   ]
  },
  {
   "cell_type": "markdown",
   "id": "1e088004",
   "metadata": {
    "papermill": {
     "duration": 0.008474,
     "end_time": "2022-07-17T03:08:07.789950",
     "exception": false,
     "start_time": "2022-07-17T03:08:07.781476",
     "status": "completed"
    },
    "tags": []
   },
   "source": [
    "Say you're working with a slightly larger room.  Run the next code cell to calculate the cost of the project."
   ]
  },
  {
   "cell_type": "code",
   "execution_count": 14,
   "id": "f2394427",
   "metadata": {
    "execution": {
     "iopub.execute_input": "2022-07-17T03:08:07.808793Z",
     "iopub.status.busy": "2022-07-17T03:08:07.808369Z",
     "iopub.status.idle": "2022-07-17T03:08:07.814884Z",
     "shell.execute_reply": "2022-07-17T03:08:07.813995Z"
    },
    "papermill": {
     "duration": 0.018569,
     "end_time": "2022-07-17T03:08:07.817129",
     "exception": false,
     "start_time": "2022-07-17T03:08:07.798560",
     "status": "completed"
    },
    "tags": []
   },
   "outputs": [
    {
     "data": {
      "text/markdown": [],
      "text/plain": [
       "<learntools.core.constants.PlaceholderValue at 0x7f14b05e50d0>"
      ]
     },
     "execution_count": 14,
     "metadata": {},
     "output_type": "execute_result"
    }
   ],
   "source": [
    "get_actual_cost(594, 288, 400, 15) "
   ]
  },
  {
   "cell_type": "markdown",
   "id": "d9c65ba1",
   "metadata": {
    "papermill": {
     "duration": 0.008711,
     "end_time": "2022-07-17T03:08:07.834869",
     "exception": false,
     "start_time": "2022-07-17T03:08:07.826158",
     "status": "completed"
    },
    "tags": []
   },
   "source": [
    "# Keep going\n",
    "\n",
    "Continue to learn about **[data types](https://www.kaggle.com/alexisbcook/data-types)**."
   ]
  },
  {
   "cell_type": "markdown",
   "id": "d61c47c9",
   "metadata": {
    "papermill": {
     "duration": 0.008381,
     "end_time": "2022-07-17T03:08:07.852228",
     "exception": false,
     "start_time": "2022-07-17T03:08:07.843847",
     "status": "completed"
    },
    "tags": []
   },
   "source": [
    "---\n",
    "\n",
    "\n",
    "\n",
    "\n",
    "*Have questions or comments? Visit the [course discussion forum](https://www.kaggle.com/learn/intro-to-programming/discussion) to chat with other learners.*"
   ]
  }
 ],
 "metadata": {
  "kernelspec": {
   "display_name": "Python 3",
   "language": "python",
   "name": "python3"
  },
  "language_info": {
   "codemirror_mode": {
    "name": "ipython",
    "version": 3
   },
   "file_extension": ".py",
   "mimetype": "text/x-python",
   "name": "python",
   "nbconvert_exporter": "python",
   "pygments_lexer": "ipython3",
   "version": "3.7.12"
  },
  "papermill": {
   "default_parameters": {},
   "duration": 11.116592,
   "end_time": "2022-07-17T03:08:08.481739",
   "environment_variables": {},
   "exception": null,
   "input_path": "__notebook__.ipynb",
   "output_path": "__notebook__.ipynb",
   "parameters": {},
   "start_time": "2022-07-17T03:07:57.365147",
   "version": "2.3.4"
  }
 },
 "nbformat": 4,
 "nbformat_minor": 5
}
