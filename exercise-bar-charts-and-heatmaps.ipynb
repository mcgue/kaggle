{
 "cells": [
  {
   "cell_type": "markdown",
   "id": "0a079226",
   "metadata": {
    "papermill": {
     "duration": 0.023409,
     "end_time": "2022-02-22T19:18:37.488243",
     "exception": false,
     "start_time": "2022-02-22T19:18:37.464834",
     "status": "completed"
    },
    "tags": []
   },
   "source": [
    "**This notebook is an exercise in the [Data Visualization](https://www.kaggle.com/learn/data-visualization) course.  You can reference the tutorial at [this link](https://www.kaggle.com/alexisbcook/bar-charts-and-heatmaps).**\n",
    "\n",
    "---\n"
   ]
  },
  {
   "cell_type": "markdown",
   "id": "1be8d02a",
   "metadata": {
    "papermill": {
     "duration": 0.020578,
     "end_time": "2022-02-22T19:18:37.532313",
     "exception": false,
     "start_time": "2022-02-22T19:18:37.511735",
     "status": "completed"
    },
    "tags": []
   },
   "source": [
    "In this exercise, you will use your new knowledge to propose a solution to a real-world scenario.  To succeed, you will need to import data into Python, answer questions using the data, and generate **bar charts** and **heatmaps** to understand patterns in the data.\n",
    "\n",
    "## Scenario\n",
    "\n",
    "You've recently decided to create your very own video game!  As an avid reader of [IGN Game Reviews](https://www.ign.com/reviews/games), you hear about all of the most recent game releases, along with the ranking they've received from experts, ranging from 0 (_Disaster_) to 10 (_Masterpiece_).\n",
    "\n",
    "![ex2_ign](https://i.imgur.com/Oh06Fu1.png)\n",
    "\n",
    "You're interested in using [IGN reviews](https://www.ign.com/reviews/games) to guide the design of your upcoming game.  Thankfully, someone has summarized the rankings in a really useful CSV file that you can use to guide your analysis.\n",
    "\n",
    "## Setup\n",
    "\n",
    "Run the next cell to import and configure the Python libraries that you need to complete the exercise."
   ]
  },
  {
   "cell_type": "code",
   "execution_count": 1,
   "id": "49207bc2",
   "metadata": {
    "execution": {
     "iopub.execute_input": "2022-02-22T19:18:37.589234Z",
     "iopub.status.busy": "2022-02-22T19:18:37.588257Z",
     "iopub.status.idle": "2022-02-22T19:18:38.806348Z",
     "shell.execute_reply": "2022-02-22T19:18:38.805061Z",
     "shell.execute_reply.started": "2022-02-22T19:13:25.699950Z"
    },
    "papermill": {
     "duration": 1.253394,
     "end_time": "2022-02-22T19:18:38.806558",
     "exception": false,
     "start_time": "2022-02-22T19:18:37.553164",
     "status": "completed"
    },
    "tags": []
   },
   "outputs": [
    {
     "name": "stdout",
     "output_type": "stream",
     "text": [
      "Setup Complete\n"
     ]
    }
   ],
   "source": [
    "import pandas as pd\n",
    "pd.plotting.register_matplotlib_converters()\n",
    "import matplotlib.pyplot as plt\n",
    "%matplotlib inline\n",
    "import seaborn as sns\n",
    "print(\"Setup Complete\")"
   ]
  },
  {
   "cell_type": "markdown",
   "id": "e1c26d7f",
   "metadata": {
    "papermill": {
     "duration": 0.021367,
     "end_time": "2022-02-22T19:18:38.851428",
     "exception": false,
     "start_time": "2022-02-22T19:18:38.830061",
     "status": "completed"
    },
    "tags": []
   },
   "source": [
    "The questions below will give you feedback on your work. Run the following cell to set up our feedback system."
   ]
  },
  {
   "cell_type": "code",
   "execution_count": 2,
   "id": "2cac30b4",
   "metadata": {
    "execution": {
     "iopub.execute_input": "2022-02-22T19:18:38.900963Z",
     "iopub.status.busy": "2022-02-22T19:18:38.900130Z",
     "iopub.status.idle": "2022-02-22T19:18:38.970715Z",
     "shell.execute_reply": "2022-02-22T19:18:38.969864Z",
     "shell.execute_reply.started": "2022-02-22T19:17:03.958261Z"
    },
    "papermill": {
     "duration": 0.095968,
     "end_time": "2022-02-22T19:18:38.970916",
     "exception": false,
     "start_time": "2022-02-22T19:18:38.874948",
     "status": "completed"
    },
    "tags": []
   },
   "outputs": [
    {
     "name": "stdout",
     "output_type": "stream",
     "text": [
      "Setup Complete\n"
     ]
    }
   ],
   "source": [
    "# Set up code checking\n",
    "import os\n",
    "if not os.path.exists(\"../input/ign_scores.csv\"):\n",
    "    os.symlink(\"../input/data-for-datavis/ign_scores.csv\", \"../input/ign_scores.csv\") \n",
    "from learntools.core import binder\n",
    "binder.bind(globals())\n",
    "from learntools.data_viz_to_coder.ex3 import *\n",
    "print(\"Setup Complete\")"
   ]
  },
  {
   "cell_type": "markdown",
   "id": "56e72c6c",
   "metadata": {
    "papermill": {
     "duration": 0.022025,
     "end_time": "2022-02-22T19:18:39.015484",
     "exception": false,
     "start_time": "2022-02-22T19:18:38.993459",
     "status": "completed"
    },
    "tags": []
   },
   "source": [
    "## Step 1: Load the data\n",
    "\n",
    "Read the IGN data file into `ign_data`.  Use the `\"Platform\"` column to label the rows."
   ]
  },
  {
   "cell_type": "code",
   "execution_count": 3,
   "id": "d4f8fb2e",
   "metadata": {
    "execution": {
     "iopub.execute_input": "2022-02-22T19:18:39.067360Z",
     "iopub.status.busy": "2022-02-22T19:18:39.066261Z",
     "iopub.status.idle": "2022-02-22T19:18:39.079531Z",
     "shell.execute_reply": "2022-02-22T19:18:39.080029Z",
     "shell.execute_reply.started": "2022-02-22T19:18:09.805864Z"
    },
    "papermill": {
     "duration": 0.042619,
     "end_time": "2022-02-22T19:18:39.080240",
     "exception": false,
     "start_time": "2022-02-22T19:18:39.037621",
     "status": "completed"
    },
    "tags": []
   },
   "outputs": [
    {
     "data": {
      "application/javascript": [
       "parent.postMessage({\"jupyterEvent\": \"custom.exercise_interaction\", \"data\": {\"outcomeType\": 1, \"valueTowardsCompletion\": 0.5, \"interactionType\": 1, \"questionType\": 1, \"questionId\": \"1_LoadIGNData\", \"learnToolsVersion\": \"0.3.4\", \"failureMessage\": \"\", \"exceptionClass\": \"\", \"trace\": \"\"}}, \"*\")"
      ],
      "text/plain": [
       "<IPython.core.display.Javascript object>"
      ]
     },
     "metadata": {},
     "output_type": "display_data"
    },
    {
     "data": {
      "text/markdown": [
       "<span style=\"color:#33cc33\">Correct</span>"
      ],
      "text/plain": [
       "Correct"
      ]
     },
     "metadata": {},
     "output_type": "display_data"
    }
   ],
   "source": [
    "# Path of the file to read\n",
    "ign_filepath = \"../input/ign_scores.csv\"\n",
    "\n",
    "# Fill in the line below to read the file into a variable ign_data\n",
    "ign_data = pd.read_csv(ign_filepath, index_col=\"Platform\")\n",
    "\n",
    "# Run the line below with no changes to check that you've loaded the data correctly\n",
    "step_1.check()"
   ]
  },
  {
   "cell_type": "code",
   "execution_count": 4,
   "id": "d14ae2bb",
   "metadata": {
    "execution": {
     "iopub.execute_input": "2022-02-22T19:18:39.132553Z",
     "iopub.status.busy": "2022-02-22T19:18:39.131568Z",
     "iopub.status.idle": "2022-02-22T19:18:39.134816Z",
     "shell.execute_reply": "2022-02-22T19:18:39.135493Z"
    },
    "papermill": {
     "duration": 0.031217,
     "end_time": "2022-02-22T19:18:39.135706",
     "exception": false,
     "start_time": "2022-02-22T19:18:39.104489",
     "status": "completed"
    },
    "tags": []
   },
   "outputs": [],
   "source": [
    "# Lines below will give you a hint or solution code\n",
    "#step_1.hint()\n",
    "#step_1.solution()"
   ]
  },
  {
   "cell_type": "markdown",
   "id": "8bf5e682",
   "metadata": {
    "papermill": {
     "duration": 0.02316,
     "end_time": "2022-02-22T19:18:39.182217",
     "exception": false,
     "start_time": "2022-02-22T19:18:39.159057",
     "status": "completed"
    },
    "tags": []
   },
   "source": [
    "## Step 2: Review the data\n",
    "\n",
    "Use a Python command to print the entire dataset."
   ]
  },
  {
   "cell_type": "code",
   "execution_count": 5,
   "id": "a0ce1eb0",
   "metadata": {
    "execution": {
     "iopub.execute_input": "2022-02-22T19:18:39.233809Z",
     "iopub.status.busy": "2022-02-22T19:18:39.232762Z",
     "iopub.status.idle": "2022-02-22T19:18:39.239378Z",
     "shell.execute_reply": "2022-02-22T19:18:39.238774Z"
    },
    "papermill": {
     "duration": 0.033638,
     "end_time": "2022-02-22T19:18:39.239545",
     "exception": false,
     "start_time": "2022-02-22T19:18:39.205907",
     "status": "completed"
    },
    "tags": []
   },
   "outputs": [
    {
     "data": {
      "text/markdown": [],
      "text/plain": [
       "<learntools.core.constants.PlaceholderValue at 0x7fee1fa38790>"
      ]
     },
     "execution_count": 5,
     "metadata": {},
     "output_type": "execute_result"
    }
   ],
   "source": [
    "# Print the data\n",
    "____ # Your code here"
   ]
  },
  {
   "cell_type": "markdown",
   "id": "691211d5",
   "metadata": {
    "papermill": {
     "duration": 0.025472,
     "end_time": "2022-02-22T19:18:39.289032",
     "exception": false,
     "start_time": "2022-02-22T19:18:39.263560",
     "status": "completed"
    },
    "tags": []
   },
   "source": [
    "The dataset that you've just printed shows the average score, by platform and genre.  Use the data to answer the questions below."
   ]
  },
  {
   "cell_type": "code",
   "execution_count": 6,
   "id": "00a3d6ed",
   "metadata": {
    "execution": {
     "iopub.execute_input": "2022-02-22T19:18:39.344320Z",
     "iopub.status.busy": "2022-02-22T19:18:39.343056Z",
     "iopub.status.idle": "2022-02-22T19:18:39.348918Z",
     "shell.execute_reply": "2022-02-22T19:18:39.349470Z"
    },
    "papermill": {
     "duration": 0.0369,
     "end_time": "2022-02-22T19:18:39.349696",
     "exception": false,
     "start_time": "2022-02-22T19:18:39.312796",
     "status": "completed"
    },
    "tags": []
   },
   "outputs": [
    {
     "data": {
      "application/javascript": [
       "parent.postMessage({\"jupyterEvent\": \"custom.exercise_interaction\", \"data\": {\"outcomeType\": 4, \"interactionType\": 1, \"questionType\": 1, \"questionId\": \"2_ReviewData\", \"learnToolsVersion\": \"0.3.4\", \"valueTowardsCompletion\": 0.0, \"failureMessage\": \"\", \"exceptionClass\": \"\", \"trace\": \"\"}}, \"*\")"
      ],
      "text/plain": [
       "<IPython.core.display.Javascript object>"
      ]
     },
     "metadata": {},
     "output_type": "display_data"
    },
    {
     "data": {
      "text/markdown": [
       "<span style=\"color:#ccaa33\">Check:</span> When you've updated the starter code, `check()` will tell you whether your code is correct. You need to update the code that creates variables `high_score`, `worst_genre`"
      ],
      "text/plain": [
       "Check: When you've updated the starter code, `check()` will tell you whether your code is correct. You need to update the code that creates variables `high_score`, `worst_genre`"
      ]
     },
     "metadata": {},
     "output_type": "display_data"
    }
   ],
   "source": [
    "# Fill in the line below: What is the highest average score received by PC games,\n",
    "# for any genre?\n",
    "high_score = ____\n",
    "\n",
    "# Fill in the line below: On the Playstation Vita platform, which genre has the \n",
    "# lowest average score? Please provide the name of the column, and put your answer \n",
    "# in single quotes (e.g., 'Action', 'Adventure', 'Fighting', etc.)\n",
    "worst_genre = ____\n",
    "\n",
    "# Check your answers\n",
    "step_2.check()"
   ]
  },
  {
   "cell_type": "code",
   "execution_count": 7,
   "id": "2fb86ee1",
   "metadata": {
    "execution": {
     "iopub.execute_input": "2022-02-22T19:18:39.408225Z",
     "iopub.status.busy": "2022-02-22T19:18:39.407058Z",
     "iopub.status.idle": "2022-02-22T19:18:39.412198Z",
     "shell.execute_reply": "2022-02-22T19:18:39.411549Z"
    },
    "papermill": {
     "duration": 0.036473,
     "end_time": "2022-02-22T19:18:39.412394",
     "exception": false,
     "start_time": "2022-02-22T19:18:39.375921",
     "status": "completed"
    },
    "tags": []
   },
   "outputs": [],
   "source": [
    "# Lines below will give you a hint or solution code\n",
    "#step_2.hint()\n",
    "#step_2.solution()"
   ]
  },
  {
   "cell_type": "markdown",
   "id": "e800ee4a",
   "metadata": {
    "papermill": {
     "duration": 0.025617,
     "end_time": "2022-02-22T19:18:39.464065",
     "exception": false,
     "start_time": "2022-02-22T19:18:39.438448",
     "status": "completed"
    },
    "tags": []
   },
   "source": [
    "## Step 3: Which platform is best?\n",
    "\n",
    "Since you can remember, your favorite video game has been [**Mario Kart Wii**](https://www.ign.com/games/mario-kart-wii), a racing game released for the Wii platform in 2008.  And, IGN agrees with you that it is a great game -- their rating for this game is a whopping 8.9!  Inspired by the success of this game, you're considering creating your very own racing game for the Wii platform.\n",
    "\n",
    "#### Part A\n",
    "\n",
    "Create a bar chart that shows the average score for **racing** games, for each platform.  Your chart should have one bar for each platform. "
   ]
  },
  {
   "cell_type": "code",
   "execution_count": 8,
   "id": "2dc70a45",
   "metadata": {
    "execution": {
     "iopub.execute_input": "2022-02-22T19:18:39.525413Z",
     "iopub.status.busy": "2022-02-22T19:18:39.524215Z",
     "iopub.status.idle": "2022-02-22T19:18:39.540113Z",
     "shell.execute_reply": "2022-02-22T19:18:39.540666Z"
    },
    "papermill": {
     "duration": 0.050217,
     "end_time": "2022-02-22T19:18:39.540895",
     "exception": false,
     "start_time": "2022-02-22T19:18:39.490678",
     "status": "completed"
    },
    "tags": []
   },
   "outputs": [
    {
     "data": {
      "application/javascript": [
       "parent.postMessage({\"jupyterEvent\": \"custom.exercise_interaction\", \"data\": {\"outcomeType\": 2, \"failureMessage\": \"Please write code to create a bar chart.\", \"interactionType\": 1, \"questionType\": 2, \"questionId\": \"3.1_PlotRacing\", \"learnToolsVersion\": \"0.3.4\", \"valueTowardsCompletion\": 0.0, \"exceptionClass\": \"\", \"trace\": \"\"}}, \"*\")"
      ],
      "text/plain": [
       "<IPython.core.display.Javascript object>"
      ]
     },
     "metadata": {},
     "output_type": "display_data"
    },
    {
     "data": {
      "text/markdown": [
       "<span style=\"color:#cc3333\">Incorrect:</span> Please write code to create a bar chart."
      ],
      "text/plain": [
       "Incorrect: Please write code to create a bar chart."
      ]
     },
     "metadata": {},
     "output_type": "display_data"
    },
    {
     "data": {
      "text/plain": [
       "<Figure size 432x288 with 0 Axes>"
      ]
     },
     "metadata": {},
     "output_type": "display_data"
    }
   ],
   "source": [
    "# Bar chart showing average score for racing games by platform\n",
    "____ # Your code here\n",
    "\n",
    "# Check your answer\n",
    "step_3.a.check()"
   ]
  },
  {
   "cell_type": "code",
   "execution_count": 9,
   "id": "5ca07a90",
   "metadata": {
    "execution": {
     "iopub.execute_input": "2022-02-22T19:18:39.602982Z",
     "iopub.status.busy": "2022-02-22T19:18:39.601191Z",
     "iopub.status.idle": "2022-02-22T19:18:39.605253Z",
     "shell.execute_reply": "2022-02-22T19:18:39.605781Z"
    },
    "papermill": {
     "duration": 0.03582,
     "end_time": "2022-02-22T19:18:39.606015",
     "exception": false,
     "start_time": "2022-02-22T19:18:39.570195",
     "status": "completed"
    },
    "tags": []
   },
   "outputs": [],
   "source": [
    "# Lines below will give you a hint or solution code\n",
    "#step_3.a.hint()\n",
    "#step_3.a.solution_plot()"
   ]
  },
  {
   "cell_type": "markdown",
   "id": "81b0b30a",
   "metadata": {
    "papermill": {
     "duration": 0.029357,
     "end_time": "2022-02-22T19:18:39.664198",
     "exception": false,
     "start_time": "2022-02-22T19:18:39.634841",
     "status": "completed"
    },
    "tags": []
   },
   "source": [
    "#### Part B\n",
    "\n",
    "Based on the bar chart, do you expect a racing game for the **Wii** platform to receive a high rating?  If not, what gaming platform seems to be the best alternative?"
   ]
  },
  {
   "cell_type": "code",
   "execution_count": 10,
   "id": "026aa47a",
   "metadata": {
    "execution": {
     "iopub.execute_input": "2022-02-22T19:18:39.725442Z",
     "iopub.status.busy": "2022-02-22T19:18:39.724696Z",
     "iopub.status.idle": "2022-02-22T19:18:39.728099Z",
     "shell.execute_reply": "2022-02-22T19:18:39.728563Z"
    },
    "papermill": {
     "duration": 0.035241,
     "end_time": "2022-02-22T19:18:39.728781",
     "exception": false,
     "start_time": "2022-02-22T19:18:39.693540",
     "status": "completed"
    },
    "tags": []
   },
   "outputs": [],
   "source": [
    "#step_3.b.hint()"
   ]
  },
  {
   "cell_type": "code",
   "execution_count": 11,
   "id": "f7a94af9",
   "metadata": {
    "execution": {
     "iopub.execute_input": "2022-02-22T19:18:39.790761Z",
     "iopub.status.busy": "2022-02-22T19:18:39.789848Z",
     "iopub.status.idle": "2022-02-22T19:18:39.794505Z",
     "shell.execute_reply": "2022-02-22T19:18:39.795008Z"
    },
    "papermill": {
     "duration": 0.03862,
     "end_time": "2022-02-22T19:18:39.795243",
     "exception": false,
     "start_time": "2022-02-22T19:18:39.756623",
     "status": "completed"
    },
    "tags": []
   },
   "outputs": [
    {
     "data": {
      "application/javascript": [
       "parent.postMessage({\"jupyterEvent\": \"custom.exercise_interaction\", \"data\": {\"interactionType\": 3, \"questionType\": 4, \"questionId\": \"3.2_ThinkRacing\", \"learnToolsVersion\": \"0.3.4\", \"valueTowardsCompletion\": 0.0, \"failureMessage\": \"\", \"exceptionClass\": \"\", \"trace\": \"\", \"outcomeType\": 4}}, \"*\")"
      ],
      "text/plain": [
       "<IPython.core.display.Javascript object>"
      ]
     },
     "metadata": {},
     "output_type": "display_data"
    },
    {
     "data": {
      "text/markdown": [
       "<span style=\"color:#33cc99\">Solution:</span> Based on the data, we should not expect a racing game for the Wii platform to receive a high rating.  In fact, on average, racing games for Wii score lower than any other platform.  Xbox One seems to be the best alternative, since it has the highest average ratings."
      ],
      "text/plain": [
       "Solution: Based on the data, we should not expect a racing game for the Wii platform to receive a high rating.  In fact, on average, racing games for Wii score lower than any other platform.  Xbox One seems to be the best alternative, since it has the highest average ratings."
      ]
     },
     "metadata": {},
     "output_type": "display_data"
    }
   ],
   "source": [
    "# Check your answer (Run this code cell to receive credit!)\n",
    "step_3.b.solution()"
   ]
  },
  {
   "cell_type": "markdown",
   "id": "84528157",
   "metadata": {
    "papermill": {
     "duration": 0.028932,
     "end_time": "2022-02-22T19:18:39.853456",
     "exception": false,
     "start_time": "2022-02-22T19:18:39.824524",
     "status": "completed"
    },
    "tags": []
   },
   "source": [
    "## Step 4: All possible combinations!\n",
    "\n",
    "Eventually, you decide against creating a racing game for Wii, but you're still committed to creating your own video game!  Since your gaming interests are pretty broad (_... you generally love most video games_), you decide to use the IGN data to inform your new choice of genre and platform.\n",
    "\n",
    "#### Part A\n",
    "\n",
    "Use the data to create a heatmap of average score by genre and platform.  "
   ]
  },
  {
   "cell_type": "code",
   "execution_count": 12,
   "id": "03b36442",
   "metadata": {
    "execution": {
     "iopub.execute_input": "2022-02-22T19:18:39.916070Z",
     "iopub.status.busy": "2022-02-22T19:18:39.915325Z",
     "iopub.status.idle": "2022-02-22T19:18:39.925172Z",
     "shell.execute_reply": "2022-02-22T19:18:39.925650Z"
    },
    "papermill": {
     "duration": 0.043284,
     "end_time": "2022-02-22T19:18:39.925862",
     "exception": false,
     "start_time": "2022-02-22T19:18:39.882578",
     "status": "completed"
    },
    "tags": []
   },
   "outputs": [
    {
     "data": {
      "application/javascript": [
       "parent.postMessage({\"jupyterEvent\": \"custom.exercise_interaction\", \"data\": {\"outcomeType\": 2, \"failureMessage\": \"Please write code to create a heatmap.\", \"interactionType\": 1, \"questionType\": 2, \"questionId\": \"4.1_PlotHeat\", \"learnToolsVersion\": \"0.3.4\", \"valueTowardsCompletion\": 0.0, \"exceptionClass\": \"\", \"trace\": \"\"}}, \"*\")"
      ],
      "text/plain": [
       "<IPython.core.display.Javascript object>"
      ]
     },
     "metadata": {},
     "output_type": "display_data"
    },
    {
     "data": {
      "text/markdown": [
       "<span style=\"color:#cc3333\">Incorrect:</span> Please write code to create a heatmap."
      ],
      "text/plain": [
       "Incorrect: Please write code to create a heatmap."
      ]
     },
     "metadata": {},
     "output_type": "display_data"
    },
    {
     "data": {
      "text/plain": [
       "<Figure size 432x288 with 0 Axes>"
      ]
     },
     "metadata": {},
     "output_type": "display_data"
    }
   ],
   "source": [
    "# Heatmap showing average game score by platform and genre\n",
    "____ # Your code here\n",
    "\n",
    "# Check your answer\n",
    "step_4.a.check()"
   ]
  },
  {
   "cell_type": "code",
   "execution_count": 13,
   "id": "8e7b68f3",
   "metadata": {
    "execution": {
     "iopub.execute_input": "2022-02-22T19:18:39.994477Z",
     "iopub.status.busy": "2022-02-22T19:18:39.993351Z",
     "iopub.status.idle": "2022-02-22T19:18:39.995290Z",
     "shell.execute_reply": "2022-02-22T19:18:39.995783Z"
    },
    "papermill": {
     "duration": 0.038836,
     "end_time": "2022-02-22T19:18:39.995989",
     "exception": false,
     "start_time": "2022-02-22T19:18:39.957153",
     "status": "completed"
    },
    "tags": []
   },
   "outputs": [],
   "source": [
    "# Lines below will give you a hint or solution code\n",
    "#step_4.a.hint()\n",
    "#step_4.a.solution_plot()"
   ]
  },
  {
   "cell_type": "markdown",
   "id": "a012d5d5",
   "metadata": {
    "papermill": {
     "duration": 0.031382,
     "end_time": "2022-02-22T19:18:40.059894",
     "exception": false,
     "start_time": "2022-02-22T19:18:40.028512",
     "status": "completed"
    },
    "tags": []
   },
   "source": [
    "#### Part B\n",
    "\n",
    "Which combination of genre and platform receives the highest average ratings?  Which combination receives the lowest average rankings?"
   ]
  },
  {
   "cell_type": "code",
   "execution_count": 14,
   "id": "92bf21e6",
   "metadata": {
    "execution": {
     "iopub.execute_input": "2022-02-22T19:18:40.127239Z",
     "iopub.status.busy": "2022-02-22T19:18:40.126532Z",
     "iopub.status.idle": "2022-02-22T19:18:40.129914Z",
     "shell.execute_reply": "2022-02-22T19:18:40.130492Z"
    },
    "papermill": {
     "duration": 0.039133,
     "end_time": "2022-02-22T19:18:40.130694",
     "exception": false,
     "start_time": "2022-02-22T19:18:40.091561",
     "status": "completed"
    },
    "tags": []
   },
   "outputs": [],
   "source": [
    "#step_4.b.hint()"
   ]
  },
  {
   "cell_type": "code",
   "execution_count": 15,
   "id": "9b5c3cdb",
   "metadata": {
    "execution": {
     "iopub.execute_input": "2022-02-22T19:18:40.198478Z",
     "iopub.status.busy": "2022-02-22T19:18:40.197785Z",
     "iopub.status.idle": "2022-02-22T19:18:40.206025Z",
     "shell.execute_reply": "2022-02-22T19:18:40.206583Z"
    },
    "papermill": {
     "duration": 0.04436,
     "end_time": "2022-02-22T19:18:40.206782",
     "exception": false,
     "start_time": "2022-02-22T19:18:40.162422",
     "status": "completed"
    },
    "tags": []
   },
   "outputs": [
    {
     "data": {
      "application/javascript": [
       "parent.postMessage({\"jupyterEvent\": \"custom.exercise_interaction\", \"data\": {\"interactionType\": 3, \"questionType\": 4, \"questionId\": \"4.2_ThinkHeat\", \"learnToolsVersion\": \"0.3.4\", \"valueTowardsCompletion\": 0.0, \"failureMessage\": \"\", \"exceptionClass\": \"\", \"trace\": \"\", \"outcomeType\": 4}}, \"*\")"
      ],
      "text/plain": [
       "<IPython.core.display.Javascript object>"
      ]
     },
     "metadata": {},
     "output_type": "display_data"
    },
    {
     "data": {
      "text/markdown": [
       "<span style=\"color:#33cc99\">Solution:</span> **Simulation** games for **Playstation 4** receive the highest average ratings (9.2). **Shooting** and **Fighting** games for **Game Boy Color** receive the lowest average rankings (4.5)."
      ],
      "text/plain": [
       "Solution: **Simulation** games for **Playstation 4** receive the highest average ratings (9.2). **Shooting** and **Fighting** games for **Game Boy Color** receive the lowest average rankings (4.5)."
      ]
     },
     "metadata": {},
     "output_type": "display_data"
    }
   ],
   "source": [
    "# Check your answer (Run this code cell to receive credit!)\n",
    "step_4.b.solution()"
   ]
  },
  {
   "cell_type": "markdown",
   "id": "2cd51f38",
   "metadata": {
    "papermill": {
     "duration": 0.032345,
     "end_time": "2022-02-22T19:18:40.272108",
     "exception": false,
     "start_time": "2022-02-22T19:18:40.239763",
     "status": "completed"
    },
    "tags": []
   },
   "source": [
    "# Keep going\n",
    "\n",
    "Move on to learn all about **[scatter plots](https://www.kaggle.com/alexisbcook/scatter-plots)**!"
   ]
  },
  {
   "cell_type": "markdown",
   "id": "25bce2ac",
   "metadata": {
    "papermill": {
     "duration": 0.0323,
     "end_time": "2022-02-22T19:18:40.337040",
     "exception": false,
     "start_time": "2022-02-22T19:18:40.304740",
     "status": "completed"
    },
    "tags": []
   },
   "source": [
    "---\n",
    "\n",
    "\n",
    "\n",
    "\n",
    "*Have questions or comments? Visit the [course discussion forum](https://www.kaggle.com/learn/data-visualization/discussion) to chat with other learners.*"
   ]
  }
 ],
 "metadata": {
  "kernelspec": {
   "display_name": "Python 3",
   "language": "python",
   "name": "python3"
  },
  "language_info": {
   "codemirror_mode": {
    "name": "ipython",
    "version": 3
   },
   "file_extension": ".py",
   "mimetype": "text/x-python",
   "name": "python",
   "nbconvert_exporter": "python",
   "pygments_lexer": "ipython3",
   "version": "3.7.12"
  },
  "papermill": {
   "default_parameters": {},
   "duration": 14.747498,
   "end_time": "2022-02-22T19:18:41.383844",
   "environment_variables": {},
   "exception": null,
   "input_path": "__notebook__.ipynb",
   "output_path": "__notebook__.ipynb",
   "parameters": {},
   "start_time": "2022-02-22T19:18:26.636346",
   "version": "2.3.3"
  }
 },
 "nbformat": 4,
 "nbformat_minor": 5
}
