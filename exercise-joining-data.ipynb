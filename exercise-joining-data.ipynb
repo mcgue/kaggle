{
 "cells": [
  {
   "cell_type": "markdown",
   "id": "b0b9859f",
   "metadata": {
    "papermill": {
     "duration": 0.026025,
     "end_time": "2022-03-03T20:02:02.343737",
     "exception": false,
     "start_time": "2022-03-03T20:02:02.317712",
     "status": "completed"
    },
    "tags": []
   },
   "source": [
    "**This notebook is an exercise in the [SQL](https://www.kaggle.com/learn/intro-to-sql) course.  You can reference the tutorial at [this link](https://www.kaggle.com/dansbecker/joining-data).**\n",
    "\n",
    "---\n"
   ]
  },
  {
   "cell_type": "markdown",
   "id": "cf1a4ec8",
   "metadata": {
    "papermill": {
     "duration": 0.024033,
     "end_time": "2022-03-03T20:02:02.392588",
     "exception": false,
     "start_time": "2022-03-03T20:02:02.368555",
     "status": "completed"
    },
    "tags": []
   },
   "source": [
    "# Introduction\n",
    "\n",
    "[Stack Overflow](https://stackoverflow.com/) is a widely beloved question and answer site for technical questions. You'll probably use it yourself as you keep using SQL (or any programming language). \n",
    "\n",
    "Their data is publicly available. What cool things do you think it would be useful for?\n",
    "\n",
    "Here's one idea:\n",
    "You could set up a service that identifies the Stack Overflow users who have demonstrated expertise with a specific technology by answering related questions about it, so someone could hire those experts for in-depth help.\n",
    "\n",
    "In this exercise, you'll write the SQL queries that might serve as the foundation for this type of service.\n",
    "\n",
    "As usual, run the following cell to set up our feedback system before moving on."
   ]
  },
  {
   "cell_type": "code",
   "execution_count": 1,
   "id": "e20438b9",
   "metadata": {
    "execution": {
     "iopub.execute_input": "2022-03-03T20:02:02.445646Z",
     "iopub.status.busy": "2022-03-03T20:02:02.444479Z",
     "iopub.status.idle": "2022-03-03T20:02:18.747390Z",
     "shell.execute_reply": "2022-03-03T20:02:18.746510Z",
     "shell.execute_reply.started": "2022-03-03T19:26:47.827665Z"
    },
    "papermill": {
     "duration": 16.330611,
     "end_time": "2022-03-03T20:02:18.747564",
     "exception": false,
     "start_time": "2022-03-03T20:02:02.416953",
     "status": "completed"
    },
    "tags": []
   },
   "outputs": [
    {
     "name": "stdout",
     "output_type": "stream",
     "text": [
      "Using Kaggle's public dataset BigQuery integration.\n"
     ]
    },
    {
     "name": "stderr",
     "output_type": "stream",
     "text": [
      "/opt/conda/lib/python3.7/site-packages/google/cloud/bigquery/client.py:440: UserWarning: Cannot create BigQuery Storage client, the dependency google-cloud-bigquery-storage is not installed.\n",
      "  \"Cannot create BigQuery Storage client, the dependency \"\n"
     ]
    },
    {
     "name": "stdout",
     "output_type": "stream",
     "text": [
      "Setup Complete\n"
     ]
    }
   ],
   "source": [
    "# Set up feedback system\n",
    "from learntools.core import binder\n",
    "binder.bind(globals())\n",
    "from learntools.sql.ex6 import *\n",
    "print(\"Setup Complete\")"
   ]
  },
  {
   "cell_type": "markdown",
   "id": "bd3ea0d2",
   "metadata": {
    "papermill": {
     "duration": 0.026007,
     "end_time": "2022-03-03T20:02:18.800205",
     "exception": false,
     "start_time": "2022-03-03T20:02:18.774198",
     "status": "completed"
    },
    "tags": []
   },
   "source": [
    "Run the next cell to fetch the `stackoverflow` dataset."
   ]
  },
  {
   "cell_type": "code",
   "execution_count": 2,
   "id": "96b8f911",
   "metadata": {
    "execution": {
     "iopub.execute_input": "2022-03-03T20:02:18.862491Z",
     "iopub.status.busy": "2022-03-03T20:02:18.861474Z",
     "iopub.status.idle": "2022-03-03T20:02:19.046366Z",
     "shell.execute_reply": "2022-03-03T20:02:19.045699Z",
     "shell.execute_reply.started": "2022-03-03T19:27:05.429562Z"
    },
    "papermill": {
     "duration": 0.220142,
     "end_time": "2022-03-03T20:02:19.046503",
     "exception": false,
     "start_time": "2022-03-03T20:02:18.826361",
     "status": "completed"
    },
    "tags": []
   },
   "outputs": [
    {
     "name": "stdout",
     "output_type": "stream",
     "text": [
      "Using Kaggle's public dataset BigQuery integration.\n"
     ]
    }
   ],
   "source": [
    "from google.cloud import bigquery\n",
    "\n",
    "# Create a \"Client\" object\n",
    "client = bigquery.Client()\n",
    "\n",
    "# Construct a reference to the \"stackoverflow\" dataset\n",
    "dataset_ref = client.dataset(\"stackoverflow\", project=\"bigquery-public-data\")\n",
    "\n",
    "# API request - fetch the dataset\n",
    "dataset = client.get_dataset(dataset_ref)"
   ]
  },
  {
   "cell_type": "markdown",
   "id": "b436718b",
   "metadata": {
    "papermill": {
     "duration": 0.026771,
     "end_time": "2022-03-03T20:02:19.100362",
     "exception": false,
     "start_time": "2022-03-03T20:02:19.073591",
     "status": "completed"
    },
    "tags": []
   },
   "source": [
    "# Exercises\n",
    "\n",
    "### 1) Explore the data\n",
    "\n",
    "Before writing queries or **JOIN** clauses, you'll want to see what tables are available. \n",
    "\n",
    "*Hint*: Tab completion is helpful whenever you can't remember a command. Type `client.` and then hit the tab key. Don't forget the period before hitting tab."
   ]
  },
  {
   "cell_type": "code",
   "execution_count": 3,
   "id": "6b09c95f",
   "metadata": {
    "execution": {
     "iopub.execute_input": "2022-03-03T20:02:19.164113Z",
     "iopub.status.busy": "2022-03-03T20:02:19.163431Z",
     "iopub.status.idle": "2022-03-03T20:02:19.363020Z",
     "shell.execute_reply": "2022-03-03T20:02:19.363539Z",
     "shell.execute_reply.started": "2022-03-03T19:03:05.876774Z"
    },
    "papermill": {
     "duration": 0.233635,
     "end_time": "2022-03-03T20:02:19.363708",
     "exception": false,
     "start_time": "2022-03-03T20:02:19.130073",
     "status": "completed"
    },
    "tags": []
   },
   "outputs": [
    {
     "name": "stdout",
     "output_type": "stream",
     "text": [
      "['badges', 'comments', 'post_history', 'post_links', 'posts_answers', 'posts_moderator_nomination', 'posts_orphaned_tag_wiki', 'posts_privilege_wiki', 'posts_questions', 'posts_tag_wiki', 'posts_tag_wiki_excerpt', 'posts_wiki_placeholder', 'stackoverflow_posts', 'tags', 'users', 'votes']\n"
     ]
    },
    {
     "data": {
      "application/javascript": [
       "parent.postMessage({\"jupyterEvent\": \"custom.exercise_interaction\", \"data\": {\"outcomeType\": 1, \"valueTowardsCompletion\": 0.16666666666666666, \"interactionType\": 1, \"questionType\": 1, \"questionId\": \"1_ListSOTables\", \"learnToolsVersion\": \"0.3.4\", \"failureMessage\": \"\", \"exceptionClass\": \"\", \"trace\": \"\"}}, \"*\")"
      ],
      "text/plain": [
       "<IPython.core.display.Javascript object>"
      ]
     },
     "metadata": {},
     "output_type": "display_data"
    },
    {
     "data": {
      "text/markdown": [
       "<span style=\"color:#33cc33\">Correct</span>"
      ],
      "text/plain": [
       "Correct"
      ]
     },
     "metadata": {},
     "output_type": "display_data"
    }
   ],
   "source": [
    "# Get a list of available tables \n",
    "tables = list(client.list_tables(dataset))\n",
    "list_of_tables = [table.table_id for table in tables]\n",
    "\n",
    "# Print your answer\n",
    "print(list_of_tables)\n",
    "\n",
    "# Check your answer\n",
    "q_1.check()"
   ]
  },
  {
   "cell_type": "markdown",
   "id": "0e7216ec",
   "metadata": {
    "papermill": {
     "duration": 0.027193,
     "end_time": "2022-03-03T20:02:19.419044",
     "exception": false,
     "start_time": "2022-03-03T20:02:19.391851",
     "status": "completed"
    },
    "tags": []
   },
   "source": [
    "For the solution, uncomment the line below."
   ]
  },
  {
   "cell_type": "code",
   "execution_count": 4,
   "id": "e09b1238",
   "metadata": {
    "execution": {
     "iopub.execute_input": "2022-03-03T20:02:19.479077Z",
     "iopub.status.busy": "2022-03-03T20:02:19.478310Z",
     "iopub.status.idle": "2022-03-03T20:02:19.480456Z",
     "shell.execute_reply": "2022-03-03T20:02:19.480978Z",
     "shell.execute_reply.started": "2022-03-03T19:03:10.779582Z"
    },
    "papermill": {
     "duration": 0.034504,
     "end_time": "2022-03-03T20:02:19.481136",
     "exception": false,
     "start_time": "2022-03-03T20:02:19.446632",
     "status": "completed"
    },
    "tags": []
   },
   "outputs": [],
   "source": [
    "#q_1.solution()"
   ]
  },
  {
   "cell_type": "markdown",
   "id": "50f29d5e",
   "metadata": {
    "papermill": {
     "duration": 0.027057,
     "end_time": "2022-03-03T20:02:19.535676",
     "exception": false,
     "start_time": "2022-03-03T20:02:19.508619",
     "status": "completed"
    },
    "tags": []
   },
   "source": [
    "### 2) Review relevant tables\n",
    "\n",
    "If you are interested in people who answer questions on a given topic, the `posts_answers` table is a natural place to look. Run the following cell, and look at the output."
   ]
  },
  {
   "cell_type": "code",
   "execution_count": 5,
   "id": "85e0c7b5",
   "metadata": {
    "execution": {
     "iopub.execute_input": "2022-03-03T20:02:19.598833Z",
     "iopub.status.busy": "2022-03-03T20:02:19.598183Z",
     "iopub.status.idle": "2022-03-03T20:02:20.231350Z",
     "shell.execute_reply": "2022-03-03T20:02:20.231853Z",
     "shell.execute_reply.started": "2022-03-03T19:27:05.673032Z"
    },
    "papermill": {
     "duration": 0.668755,
     "end_time": "2022-03-03T20:02:20.232035",
     "exception": false,
     "start_time": "2022-03-03T20:02:19.563280",
     "status": "completed"
    },
    "tags": []
   },
   "outputs": [
    {
     "name": "stderr",
     "output_type": "stream",
     "text": [
      "/opt/conda/lib/python3.7/site-packages/ipykernel_launcher.py:8: UserWarning: Cannot use bqstorage_client if max_results is set, reverting to fetching data with the tabledata.list endpoint.\n",
      "  \n"
     ]
    },
    {
     "data": {
      "text/html": [
       "<div>\n",
       "<style scoped>\n",
       "    .dataframe tbody tr th:only-of-type {\n",
       "        vertical-align: middle;\n",
       "    }\n",
       "\n",
       "    .dataframe tbody tr th {\n",
       "        vertical-align: top;\n",
       "    }\n",
       "\n",
       "    .dataframe thead th {\n",
       "        text-align: right;\n",
       "    }\n",
       "</style>\n",
       "<table border=\"1\" class=\"dataframe\">\n",
       "  <thead>\n",
       "    <tr style=\"text-align: right;\">\n",
       "      <th></th>\n",
       "      <th>id</th>\n",
       "      <th>title</th>\n",
       "      <th>body</th>\n",
       "      <th>accepted_answer_id</th>\n",
       "      <th>answer_count</th>\n",
       "      <th>comment_count</th>\n",
       "      <th>community_owned_date</th>\n",
       "      <th>creation_date</th>\n",
       "      <th>favorite_count</th>\n",
       "      <th>last_activity_date</th>\n",
       "      <th>last_edit_date</th>\n",
       "      <th>last_editor_display_name</th>\n",
       "      <th>last_editor_user_id</th>\n",
       "      <th>owner_display_name</th>\n",
       "      <th>owner_user_id</th>\n",
       "      <th>parent_id</th>\n",
       "      <th>post_type_id</th>\n",
       "      <th>score</th>\n",
       "      <th>tags</th>\n",
       "      <th>view_count</th>\n",
       "    </tr>\n",
       "  </thead>\n",
       "  <tbody>\n",
       "    <tr>\n",
       "      <th>0</th>\n",
       "      <td>69637232</td>\n",
       "      <td>None</td>\n",
       "      <td>&lt;p&gt;I'd suggest trying pyspark/spark&lt;/p&gt;\\n&lt;pre&gt;...</td>\n",
       "      <td>None</td>\n",
       "      <td>None</td>\n",
       "      <td>1</td>\n",
       "      <td>NaT</td>\n",
       "      <td>2021-10-19 20:23:05.930000+00:00</td>\n",
       "      <td>None</td>\n",
       "      <td>2021-10-19 20:23:05.930000+00:00</td>\n",
       "      <td>NaT</td>\n",
       "      <td>None</td>\n",
       "      <td>NaN</td>\n",
       "      <td>None</td>\n",
       "      <td>13535120</td>\n",
       "      <td>69588989</td>\n",
       "      <td>2</td>\n",
       "      <td>0</td>\n",
       "      <td>None</td>\n",
       "      <td>None</td>\n",
       "    </tr>\n",
       "    <tr>\n",
       "      <th>1</th>\n",
       "      <td>69637234</td>\n",
       "      <td>None</td>\n",
       "      <td>&lt;p&gt;If you want to use higher-level functions y...</td>\n",
       "      <td>None</td>\n",
       "      <td>None</td>\n",
       "      <td>0</td>\n",
       "      <td>NaT</td>\n",
       "      <td>2021-10-19 20:23:26.823000+00:00</td>\n",
       "      <td>None</td>\n",
       "      <td>2021-10-19 20:23:26.823000+00:00</td>\n",
       "      <td>NaT</td>\n",
       "      <td>None</td>\n",
       "      <td>NaN</td>\n",
       "      <td>None</td>\n",
       "      <td>5003756</td>\n",
       "      <td>69637076</td>\n",
       "      <td>2</td>\n",
       "      <td>0</td>\n",
       "      <td>None</td>\n",
       "      <td>None</td>\n",
       "    </tr>\n",
       "    <tr>\n",
       "      <th>2</th>\n",
       "      <td>69637236</td>\n",
       "      <td>None</td>\n",
       "      <td>&lt;p&gt;To the first question&lt;/p&gt;\\n&lt;blockquote&gt;\\n&lt;p...</td>\n",
       "      <td>None</td>\n",
       "      <td>None</td>\n",
       "      <td>0</td>\n",
       "      <td>NaT</td>\n",
       "      <td>2021-10-19 20:23:32.983000+00:00</td>\n",
       "      <td>None</td>\n",
       "      <td>2021-10-19 20:23:32.983000+00:00</td>\n",
       "      <td>NaT</td>\n",
       "      <td>None</td>\n",
       "      <td>NaN</td>\n",
       "      <td>None</td>\n",
       "      <td>16523370</td>\n",
       "      <td>69635990</td>\n",
       "      <td>2</td>\n",
       "      <td>0</td>\n",
       "      <td>None</td>\n",
       "      <td>None</td>\n",
       "    </tr>\n",
       "    <tr>\n",
       "      <th>3</th>\n",
       "      <td>69637246</td>\n",
       "      <td>None</td>\n",
       "      <td>&lt;p&gt;If you want to access a class in another cl...</td>\n",
       "      <td>None</td>\n",
       "      <td>None</td>\n",
       "      <td>0</td>\n",
       "      <td>NaT</td>\n",
       "      <td>2021-10-19 20:24:13.700000+00:00</td>\n",
       "      <td>None</td>\n",
       "      <td>2021-10-19 20:24:13.700000+00:00</td>\n",
       "      <td>NaT</td>\n",
       "      <td>None</td>\n",
       "      <td>NaN</td>\n",
       "      <td>None</td>\n",
       "      <td>16653398</td>\n",
       "      <td>69637090</td>\n",
       "      <td>2</td>\n",
       "      <td>0</td>\n",
       "      <td>None</td>\n",
       "      <td>None</td>\n",
       "    </tr>\n",
       "    <tr>\n",
       "      <th>4</th>\n",
       "      <td>69637250</td>\n",
       "      <td>None</td>\n",
       "      <td>&lt;p&gt;putting content inside an extra &lt;code&gt;&amp;lt;p...</td>\n",
       "      <td>None</td>\n",
       "      <td>None</td>\n",
       "      <td>0</td>\n",
       "      <td>NaT</td>\n",
       "      <td>2021-10-19 20:24:28.950000+00:00</td>\n",
       "      <td>None</td>\n",
       "      <td>2021-10-19 20:24:28.950000+00:00</td>\n",
       "      <td>NaT</td>\n",
       "      <td>None</td>\n",
       "      <td>NaN</td>\n",
       "      <td>None</td>\n",
       "      <td>4016922</td>\n",
       "      <td>69632918</td>\n",
       "      <td>2</td>\n",
       "      <td>0</td>\n",
       "      <td>None</td>\n",
       "      <td>None</td>\n",
       "    </tr>\n",
       "  </tbody>\n",
       "</table>\n",
       "</div>"
      ],
      "text/plain": [
       "         id title                                               body  \\\n",
       "0  69637232  None  <p>I'd suggest trying pyspark/spark</p>\\n<pre>...   \n",
       "1  69637234  None  <p>If you want to use higher-level functions y...   \n",
       "2  69637236  None  <p>To the first question</p>\\n<blockquote>\\n<p...   \n",
       "3  69637246  None  <p>If you want to access a class in another cl...   \n",
       "4  69637250  None  <p>putting content inside an extra <code>&lt;p...   \n",
       "\n",
       "  accepted_answer_id answer_count  comment_count community_owned_date  \\\n",
       "0               None         None              1                  NaT   \n",
       "1               None         None              0                  NaT   \n",
       "2               None         None              0                  NaT   \n",
       "3               None         None              0                  NaT   \n",
       "4               None         None              0                  NaT   \n",
       "\n",
       "                     creation_date favorite_count  \\\n",
       "0 2021-10-19 20:23:05.930000+00:00           None   \n",
       "1 2021-10-19 20:23:26.823000+00:00           None   \n",
       "2 2021-10-19 20:23:32.983000+00:00           None   \n",
       "3 2021-10-19 20:24:13.700000+00:00           None   \n",
       "4 2021-10-19 20:24:28.950000+00:00           None   \n",
       "\n",
       "                last_activity_date last_edit_date last_editor_display_name  \\\n",
       "0 2021-10-19 20:23:05.930000+00:00            NaT                     None   \n",
       "1 2021-10-19 20:23:26.823000+00:00            NaT                     None   \n",
       "2 2021-10-19 20:23:32.983000+00:00            NaT                     None   \n",
       "3 2021-10-19 20:24:13.700000+00:00            NaT                     None   \n",
       "4 2021-10-19 20:24:28.950000+00:00            NaT                     None   \n",
       "\n",
       "   last_editor_user_id owner_display_name  owner_user_id  parent_id  \\\n",
       "0                  NaN               None       13535120   69588989   \n",
       "1                  NaN               None        5003756   69637076   \n",
       "2                  NaN               None       16523370   69635990   \n",
       "3                  NaN               None       16653398   69637090   \n",
       "4                  NaN               None        4016922   69632918   \n",
       "\n",
       "   post_type_id  score  tags view_count  \n",
       "0             2      0  None       None  \n",
       "1             2      0  None       None  \n",
       "2             2      0  None       None  \n",
       "3             2      0  None       None  \n",
       "4             2      0  None       None  "
      ]
     },
     "execution_count": 5,
     "metadata": {},
     "output_type": "execute_result"
    }
   ],
   "source": [
    "# Construct a reference to the \"posts_answers\" table\n",
    "answers_table_ref = dataset_ref.table(\"posts_answers\")\n",
    "\n",
    "# API request - fetch the table\n",
    "answers_table = client.get_table(answers_table_ref)\n",
    "\n",
    "# Preview the first five lines of the \"posts_answers\" table\n",
    "client.list_rows(answers_table, max_results=5).to_dataframe()"
   ]
  },
  {
   "cell_type": "markdown",
   "id": "e6d75269",
   "metadata": {
    "papermill": {
     "duration": 0.028417,
     "end_time": "2022-03-03T20:02:20.289221",
     "exception": false,
     "start_time": "2022-03-03T20:02:20.260804",
     "status": "completed"
    },
    "tags": []
   },
   "source": [
    "It isn't clear yet how to find users who answered questions on any given topic. But `posts_answers` has a `parent_id` column. If you are familiar with the Stack Overflow site, you might figure out that the `parent_id` is the question each post is answering.\n",
    "\n",
    "Look at `posts_questions` using the cell below."
   ]
  },
  {
   "cell_type": "code",
   "execution_count": 6,
   "id": "52ff5000",
   "metadata": {
    "execution": {
     "iopub.execute_input": "2022-03-03T20:02:20.356394Z",
     "iopub.status.busy": "2022-03-03T20:02:20.355674Z",
     "iopub.status.idle": "2022-03-03T20:02:20.866748Z",
     "shell.execute_reply": "2022-03-03T20:02:20.867378Z",
     "shell.execute_reply.started": "2022-03-03T19:27:49.373445Z"
    },
    "papermill": {
     "duration": 0.548852,
     "end_time": "2022-03-03T20:02:20.867549",
     "exception": false,
     "start_time": "2022-03-03T20:02:20.318697",
     "status": "completed"
    },
    "tags": []
   },
   "outputs": [
    {
     "name": "stderr",
     "output_type": "stream",
     "text": [
      "/opt/conda/lib/python3.7/site-packages/ipykernel_launcher.py:8: UserWarning: Cannot use bqstorage_client if max_results is set, reverting to fetching data with the tabledata.list endpoint.\n",
      "  \n"
     ]
    },
    {
     "data": {
      "text/html": [
       "<div>\n",
       "<style scoped>\n",
       "    .dataframe tbody tr th:only-of-type {\n",
       "        vertical-align: middle;\n",
       "    }\n",
       "\n",
       "    .dataframe tbody tr th {\n",
       "        vertical-align: top;\n",
       "    }\n",
       "\n",
       "    .dataframe thead th {\n",
       "        text-align: right;\n",
       "    }\n",
       "</style>\n",
       "<table border=\"1\" class=\"dataframe\">\n",
       "  <thead>\n",
       "    <tr style=\"text-align: right;\">\n",
       "      <th></th>\n",
       "      <th>id</th>\n",
       "      <th>title</th>\n",
       "      <th>body</th>\n",
       "      <th>accepted_answer_id</th>\n",
       "      <th>answer_count</th>\n",
       "      <th>comment_count</th>\n",
       "      <th>community_owned_date</th>\n",
       "      <th>creation_date</th>\n",
       "      <th>favorite_count</th>\n",
       "      <th>last_activity_date</th>\n",
       "      <th>last_edit_date</th>\n",
       "      <th>last_editor_display_name</th>\n",
       "      <th>last_editor_user_id</th>\n",
       "      <th>owner_display_name</th>\n",
       "      <th>owner_user_id</th>\n",
       "      <th>parent_id</th>\n",
       "      <th>post_type_id</th>\n",
       "      <th>score</th>\n",
       "      <th>tags</th>\n",
       "      <th>view_count</th>\n",
       "    </tr>\n",
       "  </thead>\n",
       "  <tbody>\n",
       "    <tr>\n",
       "      <th>0</th>\n",
       "      <td>69955098</td>\n",
       "      <td>XCode App Creation Error : STATE_ERROR.APP_CRE...</td>\n",
       "      <td>&lt;p&gt;Just wanted to share the solution from a pr...</td>\n",
       "      <td>NaN</td>\n",
       "      <td>1</td>\n",
       "      <td>0</td>\n",
       "      <td>NaT</td>\n",
       "      <td>2021-11-13 14:16:47.457000+00:00</td>\n",
       "      <td>NaN</td>\n",
       "      <td>2021-11-13 14:16:47.457000+00:00</td>\n",
       "      <td>NaT</td>\n",
       "      <td>None</td>\n",
       "      <td>NaN</td>\n",
       "      <td>None</td>\n",
       "      <td>10545581</td>\n",
       "      <td>None</td>\n",
       "      <td>1</td>\n",
       "      <td>0</td>\n",
       "      <td>ios|xcode|app-store</td>\n",
       "      <td>256</td>\n",
       "    </tr>\n",
       "    <tr>\n",
       "      <th>1</th>\n",
       "      <td>69994834</td>\n",
       "      <td>attributeerror: 'AioClientCreator' object has ...</td>\n",
       "      <td>&lt;p&gt;Recently, I have started to occupy the AWS ...</td>\n",
       "      <td>NaN</td>\n",
       "      <td>1</td>\n",
       "      <td>0</td>\n",
       "      <td>NaT</td>\n",
       "      <td>2021-11-16 19:10:32.050000+00:00</td>\n",
       "      <td>0.0</td>\n",
       "      <td>2021-11-19 01:17:12.260000+00:00</td>\n",
       "      <td>2021-11-17 12:40:32.837000+00:00</td>\n",
       "      <td>None</td>\n",
       "      <td>11407227.0</td>\n",
       "      <td>None</td>\n",
       "      <td>11407227</td>\n",
       "      <td>None</td>\n",
       "      <td>1</td>\n",
       "      <td>5</td>\n",
       "      <td>python|python-3.x|amazon-web-services|apache-s...</td>\n",
       "      <td>768</td>\n",
       "    </tr>\n",
       "    <tr>\n",
       "      <th>2</th>\n",
       "      <td>70231696</td>\n",
       "      <td>how to stream google drive files on ios?</td>\n",
       "      <td>&lt;p&gt;good afternoon, SO my main problem is not b...</td>\n",
       "      <td>NaN</td>\n",
       "      <td>0</td>\n",
       "      <td>0</td>\n",
       "      <td>NaT</td>\n",
       "      <td>2021-12-05 05:26:09.073000+00:00</td>\n",
       "      <td>NaN</td>\n",
       "      <td>2021-12-05 05:26:09.073000+00:00</td>\n",
       "      <td>NaT</td>\n",
       "      <td>None</td>\n",
       "      <td>NaN</td>\n",
       "      <td>None</td>\n",
       "      <td>17592464</td>\n",
       "      <td>None</td>\n",
       "      <td>1</td>\n",
       "      <td>0</td>\n",
       "      <td>google-drive-shared-drive</td>\n",
       "      <td>1</td>\n",
       "    </tr>\n",
       "    <tr>\n",
       "      <th>3</th>\n",
       "      <td>69986303</td>\n",
       "      <td>Microsoft Graph description retrival from a dr...</td>\n",
       "      <td>&lt;p&gt;I have a drive id in MSGraph url and i want...</td>\n",
       "      <td>NaN</td>\n",
       "      <td>0</td>\n",
       "      <td>0</td>\n",
       "      <td>NaT</td>\n",
       "      <td>2021-11-16 09:04:09.047000+00:00</td>\n",
       "      <td>NaN</td>\n",
       "      <td>2021-11-16 09:04:09.047000+00:00</td>\n",
       "      <td>NaT</td>\n",
       "      <td>None</td>\n",
       "      <td>NaN</td>\n",
       "      <td>None</td>\n",
       "      <td>17426431</td>\n",
       "      <td>None</td>\n",
       "      <td>1</td>\n",
       "      <td>0</td>\n",
       "      <td>graph</td>\n",
       "      <td>2</td>\n",
       "    </tr>\n",
       "    <tr>\n",
       "      <th>4</th>\n",
       "      <td>70034647</td>\n",
       "      <td>When I run EB CLI's `eb deploy` after changing...</td>\n",
       "      <td>&lt;p&gt;I am using MacOS. I have a project containi...</td>\n",
       "      <td>NaN</td>\n",
       "      <td>0</td>\n",
       "      <td>0</td>\n",
       "      <td>NaT</td>\n",
       "      <td>2021-11-19 12:11:40.033000+00:00</td>\n",
       "      <td>NaN</td>\n",
       "      <td>2021-11-19 12:11:40.033000+00:00</td>\n",
       "      <td>NaT</td>\n",
       "      <td>None</td>\n",
       "      <td>NaN</td>\n",
       "      <td>None</td>\n",
       "      <td>5645465</td>\n",
       "      <td>None</td>\n",
       "      <td>1</td>\n",
       "      <td>0</td>\n",
       "      <td>node.js|ebcli</td>\n",
       "      <td>2</td>\n",
       "    </tr>\n",
       "  </tbody>\n",
       "</table>\n",
       "</div>"
      ],
      "text/plain": [
       "         id                                              title  \\\n",
       "0  69955098  XCode App Creation Error : STATE_ERROR.APP_CRE...   \n",
       "1  69994834  attributeerror: 'AioClientCreator' object has ...   \n",
       "2  70231696           how to stream google drive files on ios?   \n",
       "3  69986303  Microsoft Graph description retrival from a dr...   \n",
       "4  70034647  When I run EB CLI's `eb deploy` after changing...   \n",
       "\n",
       "                                                body  accepted_answer_id  \\\n",
       "0  <p>Just wanted to share the solution from a pr...                 NaN   \n",
       "1  <p>Recently, I have started to occupy the AWS ...                 NaN   \n",
       "2  <p>good afternoon, SO my main problem is not b...                 NaN   \n",
       "3  <p>I have a drive id in MSGraph url and i want...                 NaN   \n",
       "4  <p>I am using MacOS. I have a project containi...                 NaN   \n",
       "\n",
       "   answer_count  comment_count community_owned_date  \\\n",
       "0             1              0                  NaT   \n",
       "1             1              0                  NaT   \n",
       "2             0              0                  NaT   \n",
       "3             0              0                  NaT   \n",
       "4             0              0                  NaT   \n",
       "\n",
       "                     creation_date  favorite_count  \\\n",
       "0 2021-11-13 14:16:47.457000+00:00             NaN   \n",
       "1 2021-11-16 19:10:32.050000+00:00             0.0   \n",
       "2 2021-12-05 05:26:09.073000+00:00             NaN   \n",
       "3 2021-11-16 09:04:09.047000+00:00             NaN   \n",
       "4 2021-11-19 12:11:40.033000+00:00             NaN   \n",
       "\n",
       "                last_activity_date                   last_edit_date  \\\n",
       "0 2021-11-13 14:16:47.457000+00:00                              NaT   \n",
       "1 2021-11-19 01:17:12.260000+00:00 2021-11-17 12:40:32.837000+00:00   \n",
       "2 2021-12-05 05:26:09.073000+00:00                              NaT   \n",
       "3 2021-11-16 09:04:09.047000+00:00                              NaT   \n",
       "4 2021-11-19 12:11:40.033000+00:00                              NaT   \n",
       "\n",
       "  last_editor_display_name  last_editor_user_id owner_display_name  \\\n",
       "0                     None                  NaN               None   \n",
       "1                     None           11407227.0               None   \n",
       "2                     None                  NaN               None   \n",
       "3                     None                  NaN               None   \n",
       "4                     None                  NaN               None   \n",
       "\n",
       "   owner_user_id parent_id  post_type_id  score  \\\n",
       "0       10545581      None             1      0   \n",
       "1       11407227      None             1      5   \n",
       "2       17592464      None             1      0   \n",
       "3       17426431      None             1      0   \n",
       "4        5645465      None             1      0   \n",
       "\n",
       "                                                tags  view_count  \n",
       "0                                ios|xcode|app-store         256  \n",
       "1  python|python-3.x|amazon-web-services|apache-s...         768  \n",
       "2                          google-drive-shared-drive           1  \n",
       "3                                              graph           2  \n",
       "4                                      node.js|ebcli           2  "
      ]
     },
     "execution_count": 6,
     "metadata": {},
     "output_type": "execute_result"
    }
   ],
   "source": [
    "# Construct a reference to the \"posts_questions\" table\n",
    "questions_table_ref = dataset_ref.table(\"posts_questions\")\n",
    "\n",
    "# API request - fetch the table\n",
    "questions_table = client.get_table(questions_table_ref)\n",
    "\n",
    "# Preview the first five lines of the \"posts_questions\" table\n",
    "client.list_rows(questions_table, max_results=5).to_dataframe()"
   ]
  },
  {
   "cell_type": "markdown",
   "id": "f164b762",
   "metadata": {
    "papermill": {
     "duration": 0.030737,
     "end_time": "2022-03-03T20:02:20.928310",
     "exception": false,
     "start_time": "2022-03-03T20:02:20.897573",
     "status": "completed"
    },
    "tags": []
   },
   "source": [
    "Are there any fields that identify what topic or technology each question is about? If so, how could you find the IDs of users who answered questions about a specific topic?\n",
    "\n",
    "Think about it, and then check the solution by running the code in the next cell."
   ]
  },
  {
   "cell_type": "code",
   "execution_count": 7,
   "id": "4e722c4b",
   "metadata": {
    "execution": {
     "iopub.execute_input": "2022-03-03T20:02:20.994989Z",
     "iopub.status.busy": "2022-03-03T20:02:20.994253Z",
     "iopub.status.idle": "2022-03-03T20:02:20.999132Z",
     "shell.execute_reply": "2022-03-03T20:02:20.998477Z",
     "shell.execute_reply.started": "2022-03-03T19:28:24.098594Z"
    },
    "papermill": {
     "duration": 0.039521,
     "end_time": "2022-03-03T20:02:20.999273",
     "exception": false,
     "start_time": "2022-03-03T20:02:20.959752",
     "status": "completed"
    },
    "tags": []
   },
   "outputs": [
    {
     "data": {
      "application/javascript": [
       "parent.postMessage({\"jupyterEvent\": \"custom.exercise_interaction\", \"data\": {\"interactionType\": 3, \"questionType\": 4, \"questionId\": \"2_HowToFindExperts\", \"learnToolsVersion\": \"0.3.4\", \"valueTowardsCompletion\": 0.0, \"failureMessage\": \"\", \"exceptionClass\": \"\", \"trace\": \"\", \"outcomeType\": 4}}, \"*\")"
      ],
      "text/plain": [
       "<IPython.core.display.Javascript object>"
      ]
     },
     "metadata": {},
     "output_type": "display_data"
    },
    {
     "data": {
      "text/markdown": [
       "<span style=\"color:#33cc99\">Solution:</span> \n",
       "`posts_questions` has a column called `tags` which lists the topics/technologies each question is about.\n",
       "\n",
       "`posts_answers` has a column called `parent_id` which identifies the ID of the question each answer is responding to.\n",
       "`posts_answers` also has an `owner_user_id` column which specifies the ID of the user who answered the question.\n",
       "\n",
       "You can join these two tables to:\n",
       "- determine the `tags` for each answer, and then\n",
       "- select the `owner_user_id` of the answers on the desired tag.\n",
       "\n",
       "This is exactly what you will do over the next few questions.\n"
      ],
      "text/plain": [
       "Solution: \n",
       "`posts_questions` has a column called `tags` which lists the topics/technologies each question is about.\n",
       "\n",
       "`posts_answers` has a column called `parent_id` which identifies the ID of the question each answer is responding to.\n",
       "`posts_answers` also has an `owner_user_id` column which specifies the ID of the user who answered the question.\n",
       "\n",
       "You can join these two tables to:\n",
       "- determine the `tags` for each answer, and then\n",
       "- select the `owner_user_id` of the answers on the desired tag.\n",
       "\n",
       "This is exactly what you will do over the next few questions."
      ]
     },
     "metadata": {},
     "output_type": "display_data"
    }
   ],
   "source": [
    "# Check your answer (Run this code cell to receive credit!)\n",
    "q_2.solution()"
   ]
  },
  {
   "cell_type": "markdown",
   "id": "fc29e5d2",
   "metadata": {
    "papermill": {
     "duration": 0.031227,
     "end_time": "2022-03-03T20:02:21.061725",
     "exception": false,
     "start_time": "2022-03-03T20:02:21.030498",
     "status": "completed"
    },
    "tags": []
   },
   "source": [
    "### 3) Selecting the right questions\n",
    "\n",
    "A lot of this data is text. \n",
    "\n",
    "We'll explore one last technique in this course which you can apply to this text.\n",
    "\n",
    "A **WHERE** clause can limit your results to rows with certain text using the **LIKE** feature. For example, to select just the third row of the `pets` table from the tutorial, we could use the query in the picture below.\n",
    "\n",
    "![](https://i.imgur.com/RccsXBr.png) \n",
    "\n",
    "You can also use `%` as a \"wildcard\" for any number of characters. So you can also get the third row with:\n",
    "\n",
    "```\n",
    "query = \"\"\"\n",
    "        SELECT * \n",
    "        FROM `bigquery-public-data.pet_records.pets` \n",
    "        WHERE Name LIKE '%ipl%'\n",
    "        \"\"\"\n",
    "```\n",
    "\n",
    "Try this yourself. Write a query that selects the `id`, `title` and `owner_user_id` columns from the `posts_questions` table. \n",
    "- Restrict the results to rows that contain the word \"bigquery\" in the `tags` column. \n",
    "- Include rows where there is other text in addition to the word \"bigquery\" (e.g., if a row has a tag \"bigquery-sql\", your results should include that too)."
   ]
  },
  {
   "cell_type": "code",
   "execution_count": 8,
   "id": "7140e749",
   "metadata": {
    "execution": {
     "iopub.execute_input": "2022-03-03T20:02:21.127691Z",
     "iopub.status.busy": "2022-03-03T20:02:21.127090Z",
     "iopub.status.idle": "2022-03-03T20:02:23.497661Z",
     "shell.execute_reply": "2022-03-03T20:02:23.497014Z",
     "shell.execute_reply.started": "2022-03-03T19:45:50.549760Z"
    },
    "papermill": {
     "duration": 2.40464,
     "end_time": "2022-03-03T20:02:23.497815",
     "exception": false,
     "start_time": "2022-03-03T20:02:21.093175",
     "status": "completed"
    },
    "tags": []
   },
   "outputs": [
    {
     "name": "stderr",
     "output_type": "stream",
     "text": [
      "/opt/conda/lib/python3.7/site-packages/google/cloud/bigquery/client.py:440: UserWarning: Cannot create BigQuery Storage client, the dependency google-cloud-bigquery-storage is not installed.\n",
      "  \"Cannot create BigQuery Storage client, the dependency \"\n"
     ]
    },
    {
     "name": "stdout",
     "output_type": "stream",
     "text": [
      "         id                                              title  owner_user_id\n",
      "0   4702789        How to Analyze and Query big chunks of data       435951.0\n",
      "1   9775938  looking for a hosted back-end business data st...       287520.0\n",
      "2   7121613  Recommendations using R with SimpleDB or BigQu...       902432.0\n",
      "3  55778216  any efficient way to count binary values in co...      7302169.0\n",
      "4  55531608       Accessing Google BigQuery from AWS SageMaker      2534777.0\n"
     ]
    },
    {
     "data": {
      "application/javascript": [
       "parent.postMessage({\"jupyterEvent\": \"custom.exercise_interaction\", \"data\": {\"outcomeType\": 1, \"valueTowardsCompletion\": 0.16666666666666666, \"interactionType\": 1, \"questionType\": 2, \"questionId\": \"3_SelectRightQuestions\", \"learnToolsVersion\": \"0.3.4\", \"failureMessage\": \"\", \"exceptionClass\": \"\", \"trace\": \"\"}}, \"*\")"
      ],
      "text/plain": [
       "<IPython.core.display.Javascript object>"
      ]
     },
     "metadata": {},
     "output_type": "display_data"
    },
    {
     "data": {
      "text/markdown": [
       "<span style=\"color:#33cc33\">Correct</span>"
      ],
      "text/plain": [
       "Correct"
      ]
     },
     "metadata": {},
     "output_type": "display_data"
    }
   ],
   "source": [
    "# Your code here\n",
    "questions_query = \"\"\"\n",
    "                  SELECT id, title, owner_user_id\n",
    "                  FROM `bigquery-public-data.stackoverflow.posts_questions`\n",
    "                  WHERE tags LIKE '%bigquery%'\n",
    "                  \"\"\"\n",
    "\n",
    "# Set up the query (cancel the query if it would use too much of \n",
    "# your quota, with the limit set to 1 GB)\n",
    "safe_config = bigquery.QueryJobConfig(maximum_bytes_billed=10**10)\n",
    "questions_query_job = client.query(questions_query, job_config=safe_config) # Your code goes here\n",
    "\n",
    "# API request - run the query, and return a pandas DataFrame\n",
    "questions_results = questions_query_job.to_dataframe() # Your code goes here\n",
    "\n",
    "# Preview results\n",
    "print(questions_results.head())\n",
    "\n",
    "# Check your answer\n",
    "q_3.check()"
   ]
  },
  {
   "cell_type": "markdown",
   "id": "ee6fd516",
   "metadata": {
    "papermill": {
     "duration": 0.033062,
     "end_time": "2022-03-03T20:02:23.563991",
     "exception": false,
     "start_time": "2022-03-03T20:02:23.530929",
     "status": "completed"
    },
    "tags": []
   },
   "source": [
    "For a hint or the solution, uncomment the appropriate line below."
   ]
  },
  {
   "cell_type": "code",
   "execution_count": 9,
   "id": "55a6b52e",
   "metadata": {
    "execution": {
     "iopub.execute_input": "2022-03-03T20:02:23.634369Z",
     "iopub.status.busy": "2022-03-03T20:02:23.633164Z",
     "iopub.status.idle": "2022-03-03T20:02:23.638256Z",
     "shell.execute_reply": "2022-03-03T20:02:23.637573Z"
    },
    "papermill": {
     "duration": 0.041196,
     "end_time": "2022-03-03T20:02:23.638407",
     "exception": false,
     "start_time": "2022-03-03T20:02:23.597211",
     "status": "completed"
    },
    "tags": []
   },
   "outputs": [],
   "source": [
    "#q_3.hint()\n",
    "#q_3.solution()"
   ]
  },
  {
   "cell_type": "markdown",
   "id": "10caa8ec",
   "metadata": {
    "papermill": {
     "duration": 0.032892,
     "end_time": "2022-03-03T20:02:23.704744",
     "exception": false,
     "start_time": "2022-03-03T20:02:23.671852",
     "status": "completed"
    },
    "tags": []
   },
   "source": [
    "### 4) Your first join\n",
    "Now that you have a query to select questions on any given topic (in this case, you chose \"bigquery\"), you can find the answers to those questions with a **JOIN**.  \n",
    "\n",
    "Write a query that returns the `id`, `body` and `owner_user_id` columns from the `posts_answers` table for answers to \"bigquery\"-related questions. \n",
    "- You should have one row in your results for each answer to a question that has \"bigquery\" in the tags.  \n",
    "- Remember you can get the tags for a question from the `tags` column in the `posts_questions` table.\n",
    "\n",
    "Here's a reminder of what a **JOIN** looked like in the tutorial:\n",
    "```\n",
    "query = \"\"\"\n",
    "        SELECT p.Name AS Pet_Name, o.Name AS Owner_Name\n",
    "        FROM `bigquery-public-data.pet_records.pets` as p\n",
    "        INNER JOIN `bigquery-public-data.pet_records.owners` as o \n",
    "            ON p.ID = o.Pet_ID\n",
    "        \"\"\"\n",
    "```\n",
    "\n",
    "It may be useful to scroll up and review the first several rows of the `posts_answers` and `posts_questions` tables.  "
   ]
  },
  {
   "cell_type": "code",
   "execution_count": 10,
   "id": "0ab26025",
   "metadata": {
    "execution": {
     "iopub.execute_input": "2022-03-03T20:02:23.780701Z",
     "iopub.status.busy": "2022-03-03T20:02:23.780019Z",
     "iopub.status.idle": "2022-03-03T20:02:34.666511Z",
     "shell.execute_reply": "2022-03-03T20:02:34.667010Z",
     "shell.execute_reply.started": "2022-03-03T19:57:11.264316Z"
    },
    "papermill": {
     "duration": 10.929584,
     "end_time": "2022-03-03T20:02:34.667206",
     "exception": false,
     "start_time": "2022-03-03T20:02:23.737622",
     "status": "completed"
    },
    "tags": []
   },
   "outputs": [
    {
     "name": "stderr",
     "output_type": "stream",
     "text": [
      "/opt/conda/lib/python3.7/site-packages/google/cloud/bigquery/client.py:440: UserWarning: Cannot create BigQuery Storage client, the dependency google-cloud-bigquery-storage is not installed.\n",
      "  \"Cannot create BigQuery Storage client, the dependency \"\n"
     ]
    },
    {
     "name": "stdout",
     "output_type": "stream",
     "text": [
      "         id                                               body  owner_user_id\n",
      "0  63613771  <p>You can try this solution, which will give ...     14048579.0\n",
      "1  63614045  <p>You can use a <code>Google Compute Engine</...     14048579.0\n",
      "2  63614131  <p>What you need to have is either a retry mec...       966500.0\n",
      "3  63615362  <p>You can try this:</p>\\n<pre><code>bq show -...     14048579.0\n",
      "4  63620854  <p>BigQuery shows rows per page in small windo...      9550214.0\n"
     ]
    },
    {
     "data": {
      "application/javascript": [
       "parent.postMessage({\"jupyterEvent\": \"custom.exercise_interaction\", \"data\": {\"outcomeType\": 1, \"valueTowardsCompletion\": 0.16666666666666666, \"interactionType\": 1, \"questionType\": 2, \"questionId\": \"4_FirstJoin\", \"learnToolsVersion\": \"0.3.4\", \"failureMessage\": \"\", \"exceptionClass\": \"\", \"trace\": \"\"}}, \"*\")"
      ],
      "text/plain": [
       "<IPython.core.display.Javascript object>"
      ]
     },
     "metadata": {},
     "output_type": "display_data"
    },
    {
     "data": {
      "text/markdown": [
       "<span style=\"color:#33cc33\">Correct</span>"
      ],
      "text/plain": [
       "Correct"
      ]
     },
     "metadata": {},
     "output_type": "display_data"
    }
   ],
   "source": [
    "# Your code here\n",
    "answers_query = \"\"\"\n",
    "                SELECT a.id, a.body, a.owner_user_id\n",
    "                FROM `bigquery-public-data.stackoverflow.posts_questions` AS q \n",
    "                INNER JOIN `bigquery-public-data.stackoverflow.posts_answers` AS a\n",
    "                    ON q.id = a.parent_id\n",
    "                WHERE q.tags LIKE '%bigquery%'\n",
    "                \"\"\"\n",
    "\n",
    "# Set up the query\n",
    "safe_config = bigquery.QueryJobConfig(maximum_bytes_billed=27*10**10)\n",
    "answers_query_job = client.query(answers_query, job_config=safe_config) # Your code goes here\n",
    "\n",
    "# API request - run the query, and return a pandas DataFrame\n",
    "answers_results = answers_query_job.to_dataframe() # Your code goes here\n",
    "\n",
    "# Preview results\n",
    "print(answers_results.head())\n",
    "\n",
    "# Check your answer\n",
    "q_4.check()"
   ]
  },
  {
   "cell_type": "markdown",
   "id": "bd7fe05b",
   "metadata": {
    "papermill": {
     "duration": 0.03649,
     "end_time": "2022-03-03T20:02:34.739744",
     "exception": false,
     "start_time": "2022-03-03T20:02:34.703254",
     "status": "completed"
    },
    "tags": []
   },
   "source": [
    "For a hint or the solution, uncomment the appropriate line below."
   ]
  },
  {
   "cell_type": "code",
   "execution_count": 11,
   "id": "ad6a9215",
   "metadata": {
    "execution": {
     "iopub.execute_input": "2022-03-03T20:02:34.815095Z",
     "iopub.status.busy": "2022-03-03T20:02:34.814039Z",
     "iopub.status.idle": "2022-03-03T20:02:34.816657Z",
     "shell.execute_reply": "2022-03-03T20:02:34.816016Z",
     "shell.execute_reply.started": "2022-03-03T19:57:33.175146Z"
    },
    "papermill": {
     "duration": 0.041933,
     "end_time": "2022-03-03T20:02:34.816838",
     "exception": false,
     "start_time": "2022-03-03T20:02:34.774905",
     "status": "completed"
    },
    "tags": []
   },
   "outputs": [],
   "source": [
    "#q_4.hint()\n",
    "#q_4.solution()"
   ]
  },
  {
   "cell_type": "markdown",
   "id": "1794e2de",
   "metadata": {
    "papermill": {
     "duration": 0.035464,
     "end_time": "2022-03-03T20:02:34.888502",
     "exception": false,
     "start_time": "2022-03-03T20:02:34.853038",
     "status": "completed"
    },
    "tags": []
   },
   "source": [
    "### 5) Answer the question\n",
    "You have the merge you need. But you want a list of users who have answered many questions... which requires more work beyond your previous result.\n",
    "\n",
    "Write a new query that has a single row for each user who answered at least one question with a tag that includes the string \"bigquery\". Your results should have two columns:\n",
    "- `user_id` - contains the `owner_user_id` column from the `posts_answers` table\n",
    "- `number_of_answers` - contains the number of answers the user has written to \"bigquery\"-related questions"
   ]
  },
  {
   "cell_type": "code",
   "execution_count": 12,
   "id": "9958af66",
   "metadata": {
    "execution": {
     "iopub.execute_input": "2022-03-03T20:02:34.971109Z",
     "iopub.status.busy": "2022-03-03T20:02:34.970420Z",
     "iopub.status.idle": "2022-03-03T20:02:36.150807Z",
     "shell.execute_reply": "2022-03-03T20:02:36.151328Z",
     "shell.execute_reply.started": "2022-03-03T20:00:31.471678Z"
    },
    "papermill": {
     "duration": 1.226702,
     "end_time": "2022-03-03T20:02:36.151497",
     "exception": false,
     "start_time": "2022-03-03T20:02:34.924795",
     "status": "completed"
    },
    "tags": []
   },
   "outputs": [
    {
     "name": "stderr",
     "output_type": "stream",
     "text": [
      "/opt/conda/lib/python3.7/site-packages/google/cloud/bigquery/client.py:440: UserWarning: Cannot create BigQuery Storage client, the dependency google-cloud-bigquery-storage is not installed.\n",
      "  \"Cannot create BigQuery Storage client, the dependency \"\n"
     ]
    },
    {
     "name": "stdout",
     "output_type": "stream",
     "text": [
      "      user_id  number_of_answers\n",
      "0   4725074.0                  4\n",
      "1   8817442.0                  1\n",
      "2  14487032.0                  1\n",
      "3  15464037.0                  1\n",
      "4  16315981.0                  2\n"
     ]
    },
    {
     "data": {
      "application/javascript": [
       "parent.postMessage({\"jupyterEvent\": \"custom.exercise_interaction\", \"data\": {\"outcomeType\": 1, \"valueTowardsCompletion\": 0.16666666666666666, \"interactionType\": 1, \"questionType\": 2, \"questionId\": \"5_BigQueryExperts\", \"learnToolsVersion\": \"0.3.4\", \"failureMessage\": \"\", \"exceptionClass\": \"\", \"trace\": \"\"}}, \"*\")"
      ],
      "text/plain": [
       "<IPython.core.display.Javascript object>"
      ]
     },
     "metadata": {},
     "output_type": "display_data"
    },
    {
     "data": {
      "text/markdown": [
       "<span style=\"color:#33cc33\">Correct</span>"
      ],
      "text/plain": [
       "Correct"
      ]
     },
     "metadata": {},
     "output_type": "display_data"
    }
   ],
   "source": [
    "# Your code here\n",
    "bigquery_experts_query = \"\"\"\n",
    "                         SELECT a.owner_user_id AS user_id, COUNT(1) AS number_of_answers\n",
    "                         FROM `bigquery-public-data.stackoverflow.posts_questions` AS q\n",
    "                         INNER JOIN `bigquery-public-data.stackoverflow.posts_answers` AS a\n",
    "                             ON q.id = a.parent_Id\n",
    "                         WHERE q.tags LIKE '%bigquery%'\n",
    "                         GROUP BY a.owner_user_id\n",
    "                         \"\"\"\n",
    "\n",
    "# Set up the query\n",
    "safe_config = bigquery.QueryJobConfig(maximum_bytes_billed=10**10)\n",
    "bigquery_experts_query_job = client.query(bigquery_experts_query, job_config=safe_config) # Your code goes here\n",
    "\n",
    "# API request - run the query, and return a pandas DataFrame\n",
    "bigquery_experts_results = bigquery_experts_query_job.to_dataframe() # Your code goes here\n",
    "\n",
    "# Preview results\n",
    "print(bigquery_experts_results.head())\n",
    "\n",
    "# Check your answer\n",
    "q_5.check()"
   ]
  },
  {
   "cell_type": "markdown",
   "id": "827f3059",
   "metadata": {
    "papermill": {
     "duration": 0.036915,
     "end_time": "2022-03-03T20:02:36.225857",
     "exception": false,
     "start_time": "2022-03-03T20:02:36.188942",
     "status": "completed"
    },
    "tags": []
   },
   "source": [
    "For a hint or the solution, uncomment the appropriate line below."
   ]
  },
  {
   "cell_type": "code",
   "execution_count": 13,
   "id": "9ea9ab3f",
   "metadata": {
    "execution": {
     "iopub.execute_input": "2022-03-03T20:02:36.304710Z",
     "iopub.status.busy": "2022-03-03T20:02:36.304056Z",
     "iopub.status.idle": "2022-03-03T20:02:36.305693Z",
     "shell.execute_reply": "2022-03-03T20:02:36.306298Z",
     "shell.execute_reply.started": "2022-03-03T20:00:44.580475Z"
    },
    "papermill": {
     "duration": 0.04338,
     "end_time": "2022-03-03T20:02:36.306476",
     "exception": false,
     "start_time": "2022-03-03T20:02:36.263096",
     "status": "completed"
    },
    "tags": []
   },
   "outputs": [],
   "source": [
    "#q_5.hint()\n",
    "#q_5.solution()"
   ]
  },
  {
   "cell_type": "markdown",
   "id": "59b87d5e",
   "metadata": {
    "papermill": {
     "duration": 0.037459,
     "end_time": "2022-03-03T20:02:36.381164",
     "exception": false,
     "start_time": "2022-03-03T20:02:36.343705",
     "status": "completed"
    },
    "tags": []
   },
   "source": [
    "### 6) Building a more generally useful service\n",
    "\n",
    "How could you convert what you've done to a general function a website could call on the backend to get experts on any topic?  \n",
    "\n",
    "Think about it and then check the solution below."
   ]
  },
  {
   "cell_type": "code",
   "execution_count": 14,
   "id": "8fb2e6f4",
   "metadata": {
    "execution": {
     "iopub.execute_input": "2022-03-03T20:02:36.458922Z",
     "iopub.status.busy": "2022-03-03T20:02:36.458279Z",
     "iopub.status.idle": "2022-03-03T20:02:36.464713Z",
     "shell.execute_reply": "2022-03-03T20:02:36.465275Z",
     "shell.execute_reply.started": "2022-03-03T20:00:56.922650Z"
    },
    "papermill": {
     "duration": 0.046994,
     "end_time": "2022-03-03T20:02:36.465450",
     "exception": false,
     "start_time": "2022-03-03T20:02:36.418456",
     "status": "completed"
    },
    "tags": []
   },
   "outputs": [
    {
     "data": {
      "application/javascript": [
       "parent.postMessage({\"jupyterEvent\": \"custom.exercise_interaction\", \"data\": {\"interactionType\": 3, \"questionType\": 4, \"questionId\": \"6_GeneralizeExpertFinder\", \"learnToolsVersion\": \"0.3.4\", \"valueTowardsCompletion\": 0.0, \"failureMessage\": \"\", \"exceptionClass\": \"\", \"trace\": \"\", \"outcomeType\": 4}}, \"*\")"
      ],
      "text/plain": [
       "<IPython.core.display.Javascript object>"
      ]
     },
     "metadata": {},
     "output_type": "display_data"
    },
    {
     "data": {
      "text/markdown": [
       "<span style=\"color:#33cc99\">Solution:</span> \n",
       "```python\n",
       "\n",
       "def expert_finder(topic, client):\n",
       "    '''\n",
       "    Returns a DataFrame with the user IDs who have written Stack Overflow answers on a topic.\n",
       "\n",
       "    Inputs:\n",
       "        topic: A string with the topic of interest\n",
       "        client: A Client object that specifies the connection to the Stack Overflow dataset\n",
       "\n",
       "    Outputs:\n",
       "        results: A DataFrame with columns for user_id and number_of_answers. Follows similar logic to bigquery_experts_results shown above.\n",
       "    '''\n",
       "    my_query = \"\"\"\n",
       "               SELECT a.owner_user_id AS user_id, COUNT(1) AS number_of_answers\n",
       "               FROM `bigquery-public-data.stackoverflow.posts_questions` AS q\n",
       "               INNER JOIN `bigquery-public-data.stackoverflow.posts_answers` AS a\n",
       "                   ON q.id = a.parent_Id\n",
       "               WHERE q.tags like '%{topic}%'\n",
       "               GROUP BY a.owner_user_id\n",
       "               \"\"\"\n",
       "               \n",
       "    # Set up the query (a real service would have good error handling for \n",
       "    # queries that scan too much data)\n",
       "    safe_config = bigquery.QueryJobConfig(maximum_bytes_billed=10**10)      \n",
       "    my_query_job = client.query(my_query, job_config=safe_config)\n",
       "    \n",
       "    # API request - run the query, and return a pandas DataFrame\n",
       "    results = my_query_job.to_dataframe()\n",
       "\n",
       "    return results\n",
       "\n",
       "```"
      ],
      "text/plain": [
       "Solution: \n",
       "```python\n",
       "\n",
       "def expert_finder(topic, client):\n",
       "    '''\n",
       "    Returns a DataFrame with the user IDs who have written Stack Overflow answers on a topic.\n",
       "\n",
       "    Inputs:\n",
       "        topic: A string with the topic of interest\n",
       "        client: A Client object that specifies the connection to the Stack Overflow dataset\n",
       "\n",
       "    Outputs:\n",
       "        results: A DataFrame with columns for user_id and number_of_answers. Follows similar logic to bigquery_experts_results shown above.\n",
       "    '''\n",
       "    my_query = \"\"\"\n",
       "               SELECT a.owner_user_id AS user_id, COUNT(1) AS number_of_answers\n",
       "               FROM `bigquery-public-data.stackoverflow.posts_questions` AS q\n",
       "               INNER JOIN `bigquery-public-data.stackoverflow.posts_answers` AS a\n",
       "                   ON q.id = a.parent_Id\n",
       "               WHERE q.tags like '%{topic}%'\n",
       "               GROUP BY a.owner_user_id\n",
       "               \"\"\"\n",
       "               \n",
       "    # Set up the query (a real service would have good error handling for \n",
       "    # queries that scan too much data)\n",
       "    safe_config = bigquery.QueryJobConfig(maximum_bytes_billed=10**10)      \n",
       "    my_query_job = client.query(my_query, job_config=safe_config)\n",
       "    \n",
       "    # API request - run the query, and return a pandas DataFrame\n",
       "    results = my_query_job.to_dataframe()\n",
       "\n",
       "    return results\n",
       "\n",
       "```"
      ]
     },
     "metadata": {},
     "output_type": "display_data"
    }
   ],
   "source": [
    "# Check your answer (Run this code cell to receive credit!)\n",
    "q_6.solution()"
   ]
  },
  {
   "cell_type": "markdown",
   "id": "e84f572a",
   "metadata": {
    "papermill": {
     "duration": 0.038793,
     "end_time": "2022-03-03T20:02:36.543264",
     "exception": false,
     "start_time": "2022-03-03T20:02:36.504471",
     "status": "completed"
    },
    "tags": []
   },
   "source": [
    "# Congratulations!\n",
    "\n",
    "You know all the key components to use BigQuery and SQL effectively. Your SQL skills are sufficient to unlock many of the world's largest datasets.\n",
    "\n",
    "Want to go play with your new powers?  Kaggle has BigQuery datasets available [here](https://www.kaggle.com/datasets?fileType=bigQuery)."
   ]
  },
  {
   "cell_type": "markdown",
   "id": "c6155704",
   "metadata": {
    "papermill": {
     "duration": 0.038484,
     "end_time": "2022-03-03T20:02:36.620602",
     "exception": false,
     "start_time": "2022-03-03T20:02:36.582118",
     "status": "completed"
    },
    "tags": []
   },
   "source": [
    "---\n",
    "\n",
    "\n",
    "\n",
    "\n",
    "*Have questions or comments? Visit the [course discussion forum](https://www.kaggle.com/learn/intro-to-sql/discussion) to chat with other learners.*"
   ]
  }
 ],
 "metadata": {
  "kernelspec": {
   "display_name": "Python 3",
   "language": "python",
   "name": "python3"
  },
  "language_info": {
   "codemirror_mode": {
    "name": "ipython",
    "version": 3
   },
   "file_extension": ".py",
   "mimetype": "text/x-python",
   "name": "python",
   "nbconvert_exporter": "python",
   "pygments_lexer": "ipython3",
   "version": "3.7.12"
  },
  "papermill": {
   "default_parameters": {},
   "duration": 44.728077,
   "end_time": "2022-03-03T20:02:37.269830",
   "environment_variables": {},
   "exception": null,
   "input_path": "__notebook__.ipynb",
   "output_path": "__notebook__.ipynb",
   "parameters": {},
   "start_time": "2022-03-03T20:01:52.541753",
   "version": "2.3.3"
  }
 },
 "nbformat": 4,
 "nbformat_minor": 5
}
