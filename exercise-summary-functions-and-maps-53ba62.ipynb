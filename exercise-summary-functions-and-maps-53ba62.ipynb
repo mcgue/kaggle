{
 "cells": [
  {
   "cell_type": "markdown",
   "id": "d0eccae6",
   "metadata": {
    "papermill": {
     "duration": 0.018388,
     "end_time": "2022-03-10T18:47:00.512014",
     "exception": false,
     "start_time": "2022-03-10T18:47:00.493626",
     "status": "completed"
    },
    "tags": []
   },
   "source": [
    "**This notebook is an exercise in the [Pandas](https://www.kaggle.com/learn/pandas) course.  You can reference the tutorial at [this link](https://www.kaggle.com/residentmario/summary-functions-and-maps).**\n",
    "\n",
    "---\n"
   ]
  },
  {
   "cell_type": "markdown",
   "id": "5817d476",
   "metadata": {
    "papermill": {
     "duration": 0.015989,
     "end_time": "2022-03-10T18:47:00.546518",
     "exception": false,
     "start_time": "2022-03-10T18:47:00.530529",
     "status": "completed"
    },
    "tags": []
   },
   "source": [
    "# Introduction\n",
    "\n",
    "Now you are ready to get a deeper understanding of your data.\n",
    "\n",
    "Run the following cell to load your data and some utility functions (including code to check your answers)."
   ]
  },
  {
   "cell_type": "code",
   "execution_count": 1,
   "id": "05e2d9ce",
   "metadata": {
    "execution": {
     "iopub.execute_input": "2022-03-10T18:47:00.583295Z",
     "iopub.status.busy": "2022-03-10T18:47:00.582206Z",
     "iopub.status.idle": "2022-03-10T18:47:06.892761Z",
     "shell.execute_reply": "2022-03-10T18:47:06.893464Z",
     "shell.execute_reply.started": "2022-03-10T18:30:38.675977Z"
    },
    "papermill": {
     "duration": 6.330895,
     "end_time": "2022-03-10T18:47:06.893830",
     "exception": false,
     "start_time": "2022-03-10T18:47:00.562935",
     "status": "completed"
    },
    "tags": []
   },
   "outputs": [
    {
     "name": "stdout",
     "output_type": "stream",
     "text": [
      "Setup complete.\n"
     ]
    },
    {
     "data": {
      "text/html": [
       "<div>\n",
       "<style scoped>\n",
       "    .dataframe tbody tr th:only-of-type {\n",
       "        vertical-align: middle;\n",
       "    }\n",
       "\n",
       "    .dataframe tbody tr th {\n",
       "        vertical-align: top;\n",
       "    }\n",
       "\n",
       "    .dataframe thead th {\n",
       "        text-align: right;\n",
       "    }\n",
       "</style>\n",
       "<table border=\"1\" class=\"dataframe\">\n",
       "  <thead>\n",
       "    <tr style=\"text-align: right;\">\n",
       "      <th></th>\n",
       "      <th>country</th>\n",
       "      <th>description</th>\n",
       "      <th>designation</th>\n",
       "      <th>points</th>\n",
       "      <th>price</th>\n",
       "      <th>province</th>\n",
       "      <th>region_1</th>\n",
       "      <th>region_2</th>\n",
       "      <th>taster_name</th>\n",
       "      <th>taster_twitter_handle</th>\n",
       "      <th>title</th>\n",
       "      <th>variety</th>\n",
       "      <th>winery</th>\n",
       "    </tr>\n",
       "  </thead>\n",
       "  <tbody>\n",
       "    <tr>\n",
       "      <th>0</th>\n",
       "      <td>Italy</td>\n",
       "      <td>Aromas include tropical fruit, broom, brimston...</td>\n",
       "      <td>Vulkà Bianco</td>\n",
       "      <td>87</td>\n",
       "      <td>NaN</td>\n",
       "      <td>Sicily &amp; Sardinia</td>\n",
       "      <td>Etna</td>\n",
       "      <td>NaN</td>\n",
       "      <td>Kerin O’Keefe</td>\n",
       "      <td>@kerinokeefe</td>\n",
       "      <td>Nicosia 2013 Vulkà Bianco  (Etna)</td>\n",
       "      <td>White Blend</td>\n",
       "      <td>Nicosia</td>\n",
       "    </tr>\n",
       "    <tr>\n",
       "      <th>1</th>\n",
       "      <td>Portugal</td>\n",
       "      <td>This is ripe and fruity, a wine that is smooth...</td>\n",
       "      <td>Avidagos</td>\n",
       "      <td>87</td>\n",
       "      <td>15.0</td>\n",
       "      <td>Douro</td>\n",
       "      <td>NaN</td>\n",
       "      <td>NaN</td>\n",
       "      <td>Roger Voss</td>\n",
       "      <td>@vossroger</td>\n",
       "      <td>Quinta dos Avidagos 2011 Avidagos Red (Douro)</td>\n",
       "      <td>Portuguese Red</td>\n",
       "      <td>Quinta dos Avidagos</td>\n",
       "    </tr>\n",
       "    <tr>\n",
       "      <th>2</th>\n",
       "      <td>US</td>\n",
       "      <td>Tart and snappy, the flavors of lime flesh and...</td>\n",
       "      <td>NaN</td>\n",
       "      <td>87</td>\n",
       "      <td>14.0</td>\n",
       "      <td>Oregon</td>\n",
       "      <td>Willamette Valley</td>\n",
       "      <td>Willamette Valley</td>\n",
       "      <td>Paul Gregutt</td>\n",
       "      <td>@paulgwine</td>\n",
       "      <td>Rainstorm 2013 Pinot Gris (Willamette Valley)</td>\n",
       "      <td>Pinot Gris</td>\n",
       "      <td>Rainstorm</td>\n",
       "    </tr>\n",
       "    <tr>\n",
       "      <th>3</th>\n",
       "      <td>US</td>\n",
       "      <td>Pineapple rind, lemon pith and orange blossom ...</td>\n",
       "      <td>Reserve Late Harvest</td>\n",
       "      <td>87</td>\n",
       "      <td>13.0</td>\n",
       "      <td>Michigan</td>\n",
       "      <td>Lake Michigan Shore</td>\n",
       "      <td>NaN</td>\n",
       "      <td>Alexander Peartree</td>\n",
       "      <td>NaN</td>\n",
       "      <td>St. Julian 2013 Reserve Late Harvest Riesling ...</td>\n",
       "      <td>Riesling</td>\n",
       "      <td>St. Julian</td>\n",
       "    </tr>\n",
       "    <tr>\n",
       "      <th>4</th>\n",
       "      <td>US</td>\n",
       "      <td>Much like the regular bottling from 2012, this...</td>\n",
       "      <td>Vintner's Reserve Wild Child Block</td>\n",
       "      <td>87</td>\n",
       "      <td>65.0</td>\n",
       "      <td>Oregon</td>\n",
       "      <td>Willamette Valley</td>\n",
       "      <td>Willamette Valley</td>\n",
       "      <td>Paul Gregutt</td>\n",
       "      <td>@paulgwine</td>\n",
       "      <td>Sweet Cheeks 2012 Vintner's Reserve Wild Child...</td>\n",
       "      <td>Pinot Noir</td>\n",
       "      <td>Sweet Cheeks</td>\n",
       "    </tr>\n",
       "  </tbody>\n",
       "</table>\n",
       "</div>"
      ],
      "text/plain": [
       "    country                                        description  \\\n",
       "0     Italy  Aromas include tropical fruit, broom, brimston...   \n",
       "1  Portugal  This is ripe and fruity, a wine that is smooth...   \n",
       "2        US  Tart and snappy, the flavors of lime flesh and...   \n",
       "3        US  Pineapple rind, lemon pith and orange blossom ...   \n",
       "4        US  Much like the regular bottling from 2012, this...   \n",
       "\n",
       "                          designation  points  price           province  \\\n",
       "0                        Vulkà Bianco      87    NaN  Sicily & Sardinia   \n",
       "1                            Avidagos      87   15.0              Douro   \n",
       "2                                 NaN      87   14.0             Oregon   \n",
       "3                Reserve Late Harvest      87   13.0           Michigan   \n",
       "4  Vintner's Reserve Wild Child Block      87   65.0             Oregon   \n",
       "\n",
       "              region_1           region_2         taster_name  \\\n",
       "0                 Etna                NaN       Kerin O’Keefe   \n",
       "1                  NaN                NaN          Roger Voss   \n",
       "2    Willamette Valley  Willamette Valley        Paul Gregutt   \n",
       "3  Lake Michigan Shore                NaN  Alexander Peartree   \n",
       "4    Willamette Valley  Willamette Valley        Paul Gregutt   \n",
       "\n",
       "  taster_twitter_handle                                              title  \\\n",
       "0          @kerinokeefe                  Nicosia 2013 Vulkà Bianco  (Etna)   \n",
       "1            @vossroger      Quinta dos Avidagos 2011 Avidagos Red (Douro)   \n",
       "2           @paulgwine       Rainstorm 2013 Pinot Gris (Willamette Valley)   \n",
       "3                   NaN  St. Julian 2013 Reserve Late Harvest Riesling ...   \n",
       "4           @paulgwine   Sweet Cheeks 2012 Vintner's Reserve Wild Child...   \n",
       "\n",
       "          variety               winery  \n",
       "0     White Blend              Nicosia  \n",
       "1  Portuguese Red  Quinta dos Avidagos  \n",
       "2      Pinot Gris            Rainstorm  \n",
       "3        Riesling           St. Julian  \n",
       "4      Pinot Noir         Sweet Cheeks  "
      ]
     },
     "execution_count": 1,
     "metadata": {},
     "output_type": "execute_result"
    }
   ],
   "source": [
    "import pandas as pd\n",
    "pd.set_option(\"display.max_rows\", 5)\n",
    "reviews = pd.read_csv(\"../input/wine-reviews/winemag-data-130k-v2.csv\", index_col=0)\n",
    "\n",
    "from learntools.core import binder; binder.bind(globals())\n",
    "from learntools.pandas.summary_functions_and_maps import *\n",
    "print(\"Setup complete.\")\n",
    "\n",
    "reviews.head()"
   ]
  },
  {
   "cell_type": "markdown",
   "id": "0bd30b96",
   "metadata": {
    "papermill": {
     "duration": 0.01676,
     "end_time": "2022-03-10T18:47:06.928673",
     "exception": false,
     "start_time": "2022-03-10T18:47:06.911913",
     "status": "completed"
    },
    "tags": []
   },
   "source": [
    "# Exercises"
   ]
  },
  {
   "cell_type": "markdown",
   "id": "963c2488",
   "metadata": {
    "papermill": {
     "duration": 0.016703,
     "end_time": "2022-03-10T18:47:06.962322",
     "exception": false,
     "start_time": "2022-03-10T18:47:06.945619",
     "status": "completed"
    },
    "tags": []
   },
   "source": [
    "## 1.\n",
    "\n",
    "What is the median of the `points` column in the `reviews` DataFrame?"
   ]
  },
  {
   "cell_type": "code",
   "execution_count": 2,
   "id": "a2edcfee",
   "metadata": {
    "execution": {
     "iopub.execute_input": "2022-03-10T18:47:07.001414Z",
     "iopub.status.busy": "2022-03-10T18:47:07.000539Z",
     "iopub.status.idle": "2022-03-10T18:47:07.007082Z",
     "shell.execute_reply": "2022-03-10T18:47:07.006585Z",
     "shell.execute_reply.started": "2022-03-10T18:30:46.367730Z"
    },
    "papermill": {
     "duration": 0.027823,
     "end_time": "2022-03-10T18:47:07.007232",
     "exception": false,
     "start_time": "2022-03-10T18:47:06.979409",
     "status": "completed"
    },
    "tags": []
   },
   "outputs": [
    {
     "data": {
      "application/javascript": [
       "parent.postMessage({\"jupyterEvent\": \"custom.exercise_interaction\", \"data\": {\"outcomeType\": 1, \"valueTowardsCompletion\": 0.14285714285714285, \"interactionType\": 1, \"questionType\": 1, \"questionId\": \"1_MedianPoints\", \"learnToolsVersion\": \"0.3.4\", \"failureMessage\": \"\", \"exceptionClass\": \"\", \"trace\": \"\"}}, \"*\")"
      ],
      "text/plain": [
       "<IPython.core.display.Javascript object>"
      ]
     },
     "metadata": {},
     "output_type": "display_data"
    },
    {
     "data": {
      "text/markdown": [
       "<span style=\"color:#33cc33\">Correct</span>"
      ],
      "text/plain": [
       "Correct"
      ]
     },
     "metadata": {},
     "output_type": "display_data"
    }
   ],
   "source": [
    "median_points = reviews.points.median()\n",
    "\n",
    "# Check your answer\n",
    "q1.check()"
   ]
  },
  {
   "cell_type": "code",
   "execution_count": 3,
   "id": "b680a563",
   "metadata": {
    "execution": {
     "iopub.execute_input": "2022-03-10T18:47:07.047203Z",
     "iopub.status.busy": "2022-03-10T18:47:07.046270Z",
     "iopub.status.idle": "2022-03-10T18:47:07.049476Z",
     "shell.execute_reply": "2022-03-10T18:47:07.049924Z"
    },
    "papermill": {
     "duration": 0.024637,
     "end_time": "2022-03-10T18:47:07.050079",
     "exception": false,
     "start_time": "2022-03-10T18:47:07.025442",
     "status": "completed"
    },
    "tags": []
   },
   "outputs": [],
   "source": [
    "#q1.hint()\n",
    "#q1.solution()"
   ]
  },
  {
   "cell_type": "markdown",
   "id": "e61c6234",
   "metadata": {
    "papermill": {
     "duration": 0.018264,
     "end_time": "2022-03-10T18:47:07.088432",
     "exception": false,
     "start_time": "2022-03-10T18:47:07.070168",
     "status": "completed"
    },
    "tags": []
   },
   "source": [
    "## 2. \n",
    "What countries are represented in the dataset? (Your answer should not include any duplicates.)"
   ]
  },
  {
   "cell_type": "code",
   "execution_count": 4,
   "id": "be711d4f",
   "metadata": {
    "execution": {
     "iopub.execute_input": "2022-03-10T18:47:07.132373Z",
     "iopub.status.busy": "2022-03-10T18:47:07.131524Z",
     "iopub.status.idle": "2022-03-10T18:47:07.141433Z",
     "shell.execute_reply": "2022-03-10T18:47:07.141896Z",
     "shell.execute_reply.started": "2022-03-10T18:30:53.893654Z"
    },
    "papermill": {
     "duration": 0.035185,
     "end_time": "2022-03-10T18:47:07.142049",
     "exception": false,
     "start_time": "2022-03-10T18:47:07.106864",
     "status": "completed"
    },
    "tags": []
   },
   "outputs": [
    {
     "data": {
      "application/javascript": [
       "parent.postMessage({\"jupyterEvent\": \"custom.exercise_interaction\", \"data\": {\"outcomeType\": 1, \"valueTowardsCompletion\": 0.14285714285714285, \"interactionType\": 1, \"questionType\": 2, \"questionId\": \"2_UniqueCountries\", \"learnToolsVersion\": \"0.3.4\", \"failureMessage\": \"\", \"exceptionClass\": \"\", \"trace\": \"\"}}, \"*\")"
      ],
      "text/plain": [
       "<IPython.core.display.Javascript object>"
      ]
     },
     "metadata": {},
     "output_type": "display_data"
    },
    {
     "data": {
      "text/markdown": [
       "<span style=\"color:#33cc33\">Correct</span>"
      ],
      "text/plain": [
       "Correct"
      ]
     },
     "metadata": {},
     "output_type": "display_data"
    }
   ],
   "source": [
    "countries = reviews.country.unique()\n",
    "\n",
    "# Check your answer\n",
    "q2.check()"
   ]
  },
  {
   "cell_type": "code",
   "execution_count": 5,
   "id": "f8c6fc9d",
   "metadata": {
    "execution": {
     "iopub.execute_input": "2022-03-10T18:47:07.183614Z",
     "iopub.status.busy": "2022-03-10T18:47:07.182759Z",
     "iopub.status.idle": "2022-03-10T18:47:07.185693Z",
     "shell.execute_reply": "2022-03-10T18:47:07.186174Z"
    },
    "papermill": {
     "duration": 0.02526,
     "end_time": "2022-03-10T18:47:07.186333",
     "exception": false,
     "start_time": "2022-03-10T18:47:07.161073",
     "status": "completed"
    },
    "tags": []
   },
   "outputs": [],
   "source": [
    "#q2.hint()\n",
    "#q2.solution()"
   ]
  },
  {
   "cell_type": "markdown",
   "id": "29cbdb8c",
   "metadata": {
    "papermill": {
     "duration": 0.018836,
     "end_time": "2022-03-10T18:47:07.224310",
     "exception": false,
     "start_time": "2022-03-10T18:47:07.205474",
     "status": "completed"
    },
    "tags": []
   },
   "source": [
    "## 3.\n",
    "How often does each country appear in the dataset? Create a Series `reviews_per_country` mapping countries to the count of reviews of wines from that country."
   ]
  },
  {
   "cell_type": "code",
   "execution_count": 6,
   "id": "3292c785",
   "metadata": {
    "execution": {
     "iopub.execute_input": "2022-03-10T18:47:07.275216Z",
     "iopub.status.busy": "2022-03-10T18:47:07.274606Z",
     "iopub.status.idle": "2022-03-10T18:47:07.281157Z",
     "shell.execute_reply": "2022-03-10T18:47:07.281570Z",
     "shell.execute_reply.started": "2022-03-10T18:30:58.602879Z"
    },
    "papermill": {
     "duration": 0.038204,
     "end_time": "2022-03-10T18:47:07.281732",
     "exception": false,
     "start_time": "2022-03-10T18:47:07.243528",
     "status": "completed"
    },
    "tags": []
   },
   "outputs": [
    {
     "data": {
      "application/javascript": [
       "parent.postMessage({\"jupyterEvent\": \"custom.exercise_interaction\", \"data\": {\"outcomeType\": 1, \"valueTowardsCompletion\": 0.14285714285714285, \"interactionType\": 1, \"questionType\": 1, \"questionId\": \"3_ReviewsPerCountry\", \"learnToolsVersion\": \"0.3.4\", \"failureMessage\": \"\", \"exceptionClass\": \"\", \"trace\": \"\"}}, \"*\")"
      ],
      "text/plain": [
       "<IPython.core.display.Javascript object>"
      ]
     },
     "metadata": {},
     "output_type": "display_data"
    },
    {
     "data": {
      "text/markdown": [
       "<span style=\"color:#33cc33\">Correct</span>"
      ],
      "text/plain": [
       "Correct"
      ]
     },
     "metadata": {},
     "output_type": "display_data"
    }
   ],
   "source": [
    "reviews_per_country = reviews.country.value_counts()\n",
    "\n",
    "# Check your answer\n",
    "q3.check()"
   ]
  },
  {
   "cell_type": "code",
   "execution_count": 7,
   "id": "8ef0d9af",
   "metadata": {
    "execution": {
     "iopub.execute_input": "2022-03-10T18:47:07.326082Z",
     "iopub.status.busy": "2022-03-10T18:47:07.325538Z",
     "iopub.status.idle": "2022-03-10T18:47:07.327492Z",
     "shell.execute_reply": "2022-03-10T18:47:07.327910Z",
     "shell.execute_reply.started": "2022-03-10T16:14:09.944987Z"
    },
    "papermill": {
     "duration": 0.026202,
     "end_time": "2022-03-10T18:47:07.328057",
     "exception": false,
     "start_time": "2022-03-10T18:47:07.301855",
     "status": "completed"
    },
    "tags": []
   },
   "outputs": [],
   "source": [
    "#q3.hint()\n",
    "#q3.solution()"
   ]
  },
  {
   "cell_type": "markdown",
   "id": "fe5006d9",
   "metadata": {
    "papermill": {
     "duration": 0.019765,
     "end_time": "2022-03-10T18:47:07.367922",
     "exception": false,
     "start_time": "2022-03-10T18:47:07.348157",
     "status": "completed"
    },
    "tags": []
   },
   "source": [
    "## 4.\n",
    "Create variable `centered_price` containing a version of the `price` column with the mean price subtracted.\n",
    "\n",
    "(Note: this 'centering' transformation is a common preprocessing step before applying various machine learning algorithms.) "
   ]
  },
  {
   "cell_type": "code",
   "execution_count": 8,
   "id": "9af4ef65",
   "metadata": {
    "execution": {
     "iopub.execute_input": "2022-03-10T18:47:07.411632Z",
     "iopub.status.busy": "2022-03-10T18:47:07.411055Z",
     "iopub.status.idle": "2022-03-10T18:47:07.418368Z",
     "shell.execute_reply": "2022-03-10T18:47:07.418848Z",
     "shell.execute_reply.started": "2022-03-10T18:31:09.990476Z"
    },
    "papermill": {
     "duration": 0.031027,
     "end_time": "2022-03-10T18:47:07.419003",
     "exception": false,
     "start_time": "2022-03-10T18:47:07.387976",
     "status": "completed"
    },
    "tags": []
   },
   "outputs": [
    {
     "data": {
      "application/javascript": [
       "parent.postMessage({\"jupyterEvent\": \"custom.exercise_interaction\", \"data\": {\"outcomeType\": 1, \"valueTowardsCompletion\": 0.14285714285714285, \"interactionType\": 1, \"questionType\": 1, \"questionId\": \"4_CenteredPrice\", \"learnToolsVersion\": \"0.3.4\", \"failureMessage\": \"\", \"exceptionClass\": \"\", \"trace\": \"\"}}, \"*\")"
      ],
      "text/plain": [
       "<IPython.core.display.Javascript object>"
      ]
     },
     "metadata": {},
     "output_type": "display_data"
    },
    {
     "data": {
      "text/markdown": [
       "<span style=\"color:#33cc33\">Correct</span>"
      ],
      "text/plain": [
       "Correct"
      ]
     },
     "metadata": {},
     "output_type": "display_data"
    }
   ],
   "source": [
    "centered_price = reviews.price - reviews.price.mean()\n",
    "\n",
    "# Check your answer\n",
    "q4.check()"
   ]
  },
  {
   "cell_type": "code",
   "execution_count": 9,
   "id": "de3b95d8",
   "metadata": {
    "execution": {
     "iopub.execute_input": "2022-03-10T18:47:07.464825Z",
     "iopub.status.busy": "2022-03-10T18:47:07.464213Z",
     "iopub.status.idle": "2022-03-10T18:47:07.466703Z",
     "shell.execute_reply": "2022-03-10T18:47:07.467160Z",
     "shell.execute_reply.started": "2022-03-10T16:16:13.103025Z"
    },
    "papermill": {
     "duration": 0.026931,
     "end_time": "2022-03-10T18:47:07.467312",
     "exception": false,
     "start_time": "2022-03-10T18:47:07.440381",
     "status": "completed"
    },
    "tags": []
   },
   "outputs": [],
   "source": [
    "#q4.hint()\n",
    "#q4.solution()"
   ]
  },
  {
   "cell_type": "markdown",
   "id": "43b54d1b",
   "metadata": {
    "papermill": {
     "duration": 0.021042,
     "end_time": "2022-03-10T18:47:07.509609",
     "exception": false,
     "start_time": "2022-03-10T18:47:07.488567",
     "status": "completed"
    },
    "tags": []
   },
   "source": [
    "## 5.\n",
    "I'm an economical wine buyer. Which wine is the \"best bargain\"? Create a variable `bargain_wine` with the title of the wine with the highest points-to-price ratio in the dataset."
   ]
  },
  {
   "cell_type": "code",
   "execution_count": 10,
   "id": "a9971c74",
   "metadata": {
    "execution": {
     "iopub.execute_input": "2022-03-10T18:47:07.555119Z",
     "iopub.status.busy": "2022-03-10T18:47:07.554549Z",
     "iopub.status.idle": "2022-03-10T18:47:07.565912Z",
     "shell.execute_reply": "2022-03-10T18:47:07.566374Z",
     "shell.execute_reply.started": "2022-03-10T16:17:38.688722Z"
    },
    "papermill": {
     "duration": 0.035609,
     "end_time": "2022-03-10T18:47:07.566533",
     "exception": false,
     "start_time": "2022-03-10T18:47:07.530924",
     "status": "completed"
    },
    "tags": []
   },
   "outputs": [
    {
     "data": {
      "application/javascript": [
       "parent.postMessage({\"jupyterEvent\": \"custom.exercise_interaction\", \"data\": {\"outcomeType\": 1, \"valueTowardsCompletion\": 0.14285714285714285, \"interactionType\": 1, \"questionType\": 2, \"questionId\": \"5_BargainWine\", \"learnToolsVersion\": \"0.3.4\", \"failureMessage\": \"\", \"exceptionClass\": \"\", \"trace\": \"\"}}, \"*\")"
      ],
      "text/plain": [
       "<IPython.core.display.Javascript object>"
      ]
     },
     "metadata": {},
     "output_type": "display_data"
    },
    {
     "data": {
      "text/markdown": [
       "<span style=\"color:#33cc33\">Correct</span>"
      ],
      "text/plain": [
       "Correct"
      ]
     },
     "metadata": {},
     "output_type": "display_data"
    }
   ],
   "source": [
    "bargain_wine = bargain_idx = (reviews.points / reviews.price).idxmax()\n",
    "bargain_wine = reviews.loc[bargain_idx, 'title']\n",
    "\n",
    "# Check your answer\n",
    "q5.check()"
   ]
  },
  {
   "cell_type": "code",
   "execution_count": 11,
   "id": "a08cecf7",
   "metadata": {
    "execution": {
     "iopub.execute_input": "2022-03-10T18:47:07.614292Z",
     "iopub.status.busy": "2022-03-10T18:47:07.613716Z",
     "iopub.status.idle": "2022-03-10T18:47:07.616014Z",
     "shell.execute_reply": "2022-03-10T18:47:07.616515Z",
     "shell.execute_reply.started": "2022-03-10T16:17:43.396211Z"
    },
    "papermill": {
     "duration": 0.028138,
     "end_time": "2022-03-10T18:47:07.616685",
     "exception": false,
     "start_time": "2022-03-10T18:47:07.588547",
     "status": "completed"
    },
    "tags": []
   },
   "outputs": [],
   "source": [
    "#q5.hint()\n",
    "#q5.solution()"
   ]
  },
  {
   "cell_type": "markdown",
   "id": "cdd52f39",
   "metadata": {
    "papermill": {
     "duration": 0.021825,
     "end_time": "2022-03-10T18:47:07.660595",
     "exception": false,
     "start_time": "2022-03-10T18:47:07.638770",
     "status": "completed"
    },
    "tags": []
   },
   "source": [
    "## 6.\n",
    "There are only so many words you can use when describing a bottle of wine. Is a wine more likely to be \"tropical\" or \"fruity\"? Create a Series `descriptor_counts` counting how many times each of these two words appears in the `description` column in the dataset. (For simplicity, let's ignore the capitalized versions of these words.)"
   ]
  },
  {
   "cell_type": "code",
   "execution_count": 12,
   "id": "16734b3a",
   "metadata": {
    "execution": {
     "iopub.execute_input": "2022-03-10T18:47:07.708734Z",
     "iopub.status.busy": "2022-03-10T18:47:07.707756Z",
     "iopub.status.idle": "2022-03-10T18:47:07.836831Z",
     "shell.execute_reply": "2022-03-10T18:47:07.837276Z",
     "shell.execute_reply.started": "2022-03-10T18:42:44.764150Z"
    },
    "papermill": {
     "duration": 0.154645,
     "end_time": "2022-03-10T18:47:07.837435",
     "exception": false,
     "start_time": "2022-03-10T18:47:07.682790",
     "status": "completed"
    },
    "tags": []
   },
   "outputs": [
    {
     "data": {
      "application/javascript": [
       "parent.postMessage({\"jupyterEvent\": \"custom.exercise_interaction\", \"data\": {\"outcomeType\": 1, \"valueTowardsCompletion\": 0.14285714285714285, \"interactionType\": 1, \"questionType\": 1, \"questionId\": \"6_DescriptorCounts\", \"learnToolsVersion\": \"0.3.4\", \"failureMessage\": \"\", \"exceptionClass\": \"\", \"trace\": \"\"}}, \"*\")"
      ],
      "text/plain": [
       "<IPython.core.display.Javascript object>"
      ]
     },
     "metadata": {},
     "output_type": "display_data"
    },
    {
     "data": {
      "text/markdown": [
       "<span style=\"color:#33cc33\">Correct</span>"
      ],
      "text/plain": [
       "Correct"
      ]
     },
     "metadata": {},
     "output_type": "display_data"
    },
    {
     "data": {
      "text/plain": [
       "tropical    3607\n",
       "fruity      9090\n",
       "dtype: int64"
      ]
     },
     "execution_count": 12,
     "metadata": {},
     "output_type": "execute_result"
    }
   ],
   "source": [
    "n_trop = reviews.description.map(lambda desc: \"tropical\" in desc).sum()\n",
    "n_fruity = reviews.description.map(lambda desc: \"fruity\" in desc).sum()\n",
    "descriptor_counts = pd.Series([n_trop, n_fruity], index=['tropical', 'fruity'])\n",
    "\n",
    "# Check your answer\n",
    "q6.check()\n",
    "descriptor_counts.head()"
   ]
  },
  {
   "cell_type": "code",
   "execution_count": 13,
   "id": "d42b2954",
   "metadata": {
    "execution": {
     "iopub.execute_input": "2022-03-10T18:47:07.887476Z",
     "iopub.status.busy": "2022-03-10T18:47:07.886668Z",
     "iopub.status.idle": "2022-03-10T18:47:07.889590Z",
     "shell.execute_reply": "2022-03-10T18:47:07.889986Z",
     "shell.execute_reply.started": "2022-03-10T18:43:01.665714Z"
    },
    "papermill": {
     "duration": 0.029543,
     "end_time": "2022-03-10T18:47:07.890162",
     "exception": false,
     "start_time": "2022-03-10T18:47:07.860619",
     "status": "completed"
    },
    "tags": []
   },
   "outputs": [],
   "source": [
    "#q6.hint()\n",
    "#q6.solution()"
   ]
  },
  {
   "cell_type": "markdown",
   "id": "5209bc75",
   "metadata": {
    "papermill": {
     "duration": 0.023484,
     "end_time": "2022-03-10T18:47:07.936790",
     "exception": false,
     "start_time": "2022-03-10T18:47:07.913306",
     "status": "completed"
    },
    "tags": []
   },
   "source": [
    "## 7.\n",
    "We'd like to host these wine reviews on our website, but a rating system ranging from 80 to 100 points is too hard to understand - we'd like to translate them into simple star ratings. A score of 95 or higher counts as 3 stars, a score of at least 85 but less than 95 is 2 stars. Any other score is 1 star.\n",
    "\n",
    "Also, the Canadian Vintners Association bought a lot of ads on the site, so any wines from Canada should automatically get 3 stars, regardless of points.\n",
    "\n",
    "Create a series `star_ratings` with the number of stars corresponding to each review in the dataset."
   ]
  },
  {
   "cell_type": "code",
   "execution_count": 14,
   "id": "776a5f85",
   "metadata": {
    "execution": {
     "iopub.execute_input": "2022-03-10T18:47:07.986687Z",
     "iopub.status.busy": "2022-03-10T18:47:07.985752Z",
     "iopub.status.idle": "2022-03-10T18:47:11.245625Z",
     "shell.execute_reply": "2022-03-10T18:47:11.246050Z",
     "shell.execute_reply.started": "2022-03-10T18:46:18.779632Z"
    },
    "papermill": {
     "duration": 3.286185,
     "end_time": "2022-03-10T18:47:11.246222",
     "exception": false,
     "start_time": "2022-03-10T18:47:07.960037",
     "status": "completed"
    },
    "tags": []
   },
   "outputs": [
    {
     "data": {
      "application/javascript": [
       "parent.postMessage({\"jupyterEvent\": \"custom.exercise_interaction\", \"data\": {\"outcomeType\": 1, \"valueTowardsCompletion\": 0.14285714285714285, \"interactionType\": 1, \"questionType\": 1, \"questionId\": \"7_StarRatings\", \"learnToolsVersion\": \"0.3.4\", \"failureMessage\": \"\", \"exceptionClass\": \"\", \"trace\": \"\"}}, \"*\")"
      ],
      "text/plain": [
       "<IPython.core.display.Javascript object>"
      ]
     },
     "metadata": {},
     "output_type": "display_data"
    },
    {
     "data": {
      "text/markdown": [
       "<span style=\"color:#33cc33\">Correct</span>"
      ],
      "text/plain": [
       "Correct"
      ]
     },
     "metadata": {},
     "output_type": "display_data"
    }
   ],
   "source": [
    "def stars(row):\n",
    "    if row.country == 'Canada':\n",
    "        return 3\n",
    "    elif row.points >= 95:\n",
    "        return 3\n",
    "    elif row.points >= 85:\n",
    "        return 2\n",
    "    else:\n",
    "        return 1\n",
    "    \n",
    "star_ratings = reviews.apply(stars, axis='columns')\n",
    "\n",
    "# Check your answer\n",
    "q7.check()"
   ]
  },
  {
   "cell_type": "code",
   "execution_count": 15,
   "id": "a54148ef",
   "metadata": {
    "execution": {
     "iopub.execute_input": "2022-03-10T18:47:11.297820Z",
     "iopub.status.busy": "2022-03-10T18:47:11.297004Z",
     "iopub.status.idle": "2022-03-10T18:47:11.299670Z",
     "shell.execute_reply": "2022-03-10T18:47:11.300070Z",
     "shell.execute_reply.started": "2022-03-10T18:46:29.234352Z"
    },
    "papermill": {
     "duration": 0.030063,
     "end_time": "2022-03-10T18:47:11.300242",
     "exception": false,
     "start_time": "2022-03-10T18:47:11.270179",
     "status": "completed"
    },
    "tags": []
   },
   "outputs": [],
   "source": [
    "#q7.hint()\n",
    "#q7.solution()"
   ]
  },
  {
   "cell_type": "markdown",
   "id": "b07a8834",
   "metadata": {
    "papermill": {
     "duration": 0.023906,
     "end_time": "2022-03-10T18:47:11.348454",
     "exception": false,
     "start_time": "2022-03-10T18:47:11.324548",
     "status": "completed"
    },
    "tags": []
   },
   "source": [
    "# Keep going\n",
    "Continue to **[grouping and sorting](https://www.kaggle.com/residentmario/grouping-and-sorting)**."
   ]
  },
  {
   "cell_type": "markdown",
   "id": "461daba3",
   "metadata": {
    "papermill": {
     "duration": 0.023858,
     "end_time": "2022-03-10T18:47:11.396866",
     "exception": false,
     "start_time": "2022-03-10T18:47:11.373008",
     "status": "completed"
    },
    "tags": []
   },
   "source": [
    "---\n",
    "\n",
    "\n",
    "\n",
    "\n",
    "*Have questions or comments? Visit the [course discussion forum](https://www.kaggle.com/learn/pandas/discussion) to chat with other learners.*"
   ]
  }
 ],
 "metadata": {
  "kernelspec": {
   "display_name": "Python 3",
   "language": "python",
   "name": "python3"
  },
  "language_info": {
   "codemirror_mode": {
    "name": "ipython",
    "version": 3
   },
   "file_extension": ".py",
   "mimetype": "text/x-python",
   "name": "python",
   "nbconvert_exporter": "python",
   "pygments_lexer": "ipython3",
   "version": "3.7.12"
  },
  "papermill": {
   "default_parameters": {},
   "duration": 20.139018,
   "end_time": "2022-03-10T18:47:12.030187",
   "environment_variables": {},
   "exception": null,
   "input_path": "__notebook__.ipynb",
   "output_path": "__notebook__.ipynb",
   "parameters": {},
   "start_time": "2022-03-10T18:46:51.891169",
   "version": "2.3.3"
  }
 },
 "nbformat": 4,
 "nbformat_minor": 5
}
