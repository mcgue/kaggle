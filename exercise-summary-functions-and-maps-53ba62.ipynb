{
 "cells": [
  {
   "cell_type": "markdown",
   "id": "f8b027af",
   "metadata": {
    "papermill": {
     "duration": 0.022996,
     "end_time": "2022-03-10T16:18:47.784344",
     "exception": false,
     "start_time": "2022-03-10T16:18:47.761348",
     "status": "completed"
    },
    "tags": []
   },
   "source": [
    "**This notebook is an exercise in the [Pandas](https://www.kaggle.com/learn/pandas) course.  You can reference the tutorial at [this link](https://www.kaggle.com/residentmario/summary-functions-and-maps).**\n",
    "\n",
    "---\n"
   ]
  },
  {
   "cell_type": "markdown",
   "id": "714e7ae7",
   "metadata": {
    "papermill": {
     "duration": 0.021346,
     "end_time": "2022-03-10T16:18:47.828137",
     "exception": false,
     "start_time": "2022-03-10T16:18:47.806791",
     "status": "completed"
    },
    "tags": []
   },
   "source": [
    "# Introduction\n",
    "\n",
    "Now you are ready to get a deeper understanding of your data.\n",
    "\n",
    "Run the following cell to load your data and some utility functions (including code to check your answers)."
   ]
  },
  {
   "cell_type": "code",
   "execution_count": 1,
   "id": "95e3141c",
   "metadata": {
    "execution": {
     "iopub.execute_input": "2022-03-10T16:18:47.881294Z",
     "iopub.status.busy": "2022-03-10T16:18:47.876161Z",
     "iopub.status.idle": "2022-03-10T16:18:55.796806Z",
     "shell.execute_reply": "2022-03-10T16:18:55.795662Z",
     "shell.execute_reply.started": "2022-03-10T16:07:57.611996Z"
    },
    "papermill": {
     "duration": 7.946005,
     "end_time": "2022-03-10T16:18:55.796994",
     "exception": false,
     "start_time": "2022-03-10T16:18:47.850989",
     "status": "completed"
    },
    "tags": []
   },
   "outputs": [
    {
     "name": "stdout",
     "output_type": "stream",
     "text": [
      "Setup complete.\n"
     ]
    },
    {
     "data": {
      "text/html": [
       "<div>\n",
       "<style scoped>\n",
       "    .dataframe tbody tr th:only-of-type {\n",
       "        vertical-align: middle;\n",
       "    }\n",
       "\n",
       "    .dataframe tbody tr th {\n",
       "        vertical-align: top;\n",
       "    }\n",
       "\n",
       "    .dataframe thead th {\n",
       "        text-align: right;\n",
       "    }\n",
       "</style>\n",
       "<table border=\"1\" class=\"dataframe\">\n",
       "  <thead>\n",
       "    <tr style=\"text-align: right;\">\n",
       "      <th></th>\n",
       "      <th>country</th>\n",
       "      <th>description</th>\n",
       "      <th>designation</th>\n",
       "      <th>points</th>\n",
       "      <th>price</th>\n",
       "      <th>province</th>\n",
       "      <th>region_1</th>\n",
       "      <th>region_2</th>\n",
       "      <th>taster_name</th>\n",
       "      <th>taster_twitter_handle</th>\n",
       "      <th>title</th>\n",
       "      <th>variety</th>\n",
       "      <th>winery</th>\n",
       "    </tr>\n",
       "  </thead>\n",
       "  <tbody>\n",
       "    <tr>\n",
       "      <th>0</th>\n",
       "      <td>Italy</td>\n",
       "      <td>Aromas include tropical fruit, broom, brimston...</td>\n",
       "      <td>Vulkà Bianco</td>\n",
       "      <td>87</td>\n",
       "      <td>NaN</td>\n",
       "      <td>Sicily &amp; Sardinia</td>\n",
       "      <td>Etna</td>\n",
       "      <td>NaN</td>\n",
       "      <td>Kerin O’Keefe</td>\n",
       "      <td>@kerinokeefe</td>\n",
       "      <td>Nicosia 2013 Vulkà Bianco  (Etna)</td>\n",
       "      <td>White Blend</td>\n",
       "      <td>Nicosia</td>\n",
       "    </tr>\n",
       "    <tr>\n",
       "      <th>1</th>\n",
       "      <td>Portugal</td>\n",
       "      <td>This is ripe and fruity, a wine that is smooth...</td>\n",
       "      <td>Avidagos</td>\n",
       "      <td>87</td>\n",
       "      <td>15.0</td>\n",
       "      <td>Douro</td>\n",
       "      <td>NaN</td>\n",
       "      <td>NaN</td>\n",
       "      <td>Roger Voss</td>\n",
       "      <td>@vossroger</td>\n",
       "      <td>Quinta dos Avidagos 2011 Avidagos Red (Douro)</td>\n",
       "      <td>Portuguese Red</td>\n",
       "      <td>Quinta dos Avidagos</td>\n",
       "    </tr>\n",
       "    <tr>\n",
       "      <th>2</th>\n",
       "      <td>US</td>\n",
       "      <td>Tart and snappy, the flavors of lime flesh and...</td>\n",
       "      <td>NaN</td>\n",
       "      <td>87</td>\n",
       "      <td>14.0</td>\n",
       "      <td>Oregon</td>\n",
       "      <td>Willamette Valley</td>\n",
       "      <td>Willamette Valley</td>\n",
       "      <td>Paul Gregutt</td>\n",
       "      <td>@paulgwine</td>\n",
       "      <td>Rainstorm 2013 Pinot Gris (Willamette Valley)</td>\n",
       "      <td>Pinot Gris</td>\n",
       "      <td>Rainstorm</td>\n",
       "    </tr>\n",
       "    <tr>\n",
       "      <th>3</th>\n",
       "      <td>US</td>\n",
       "      <td>Pineapple rind, lemon pith and orange blossom ...</td>\n",
       "      <td>Reserve Late Harvest</td>\n",
       "      <td>87</td>\n",
       "      <td>13.0</td>\n",
       "      <td>Michigan</td>\n",
       "      <td>Lake Michigan Shore</td>\n",
       "      <td>NaN</td>\n",
       "      <td>Alexander Peartree</td>\n",
       "      <td>NaN</td>\n",
       "      <td>St. Julian 2013 Reserve Late Harvest Riesling ...</td>\n",
       "      <td>Riesling</td>\n",
       "      <td>St. Julian</td>\n",
       "    </tr>\n",
       "    <tr>\n",
       "      <th>4</th>\n",
       "      <td>US</td>\n",
       "      <td>Much like the regular bottling from 2012, this...</td>\n",
       "      <td>Vintner's Reserve Wild Child Block</td>\n",
       "      <td>87</td>\n",
       "      <td>65.0</td>\n",
       "      <td>Oregon</td>\n",
       "      <td>Willamette Valley</td>\n",
       "      <td>Willamette Valley</td>\n",
       "      <td>Paul Gregutt</td>\n",
       "      <td>@paulgwine</td>\n",
       "      <td>Sweet Cheeks 2012 Vintner's Reserve Wild Child...</td>\n",
       "      <td>Pinot Noir</td>\n",
       "      <td>Sweet Cheeks</td>\n",
       "    </tr>\n",
       "  </tbody>\n",
       "</table>\n",
       "</div>"
      ],
      "text/plain": [
       "    country                                        description  \\\n",
       "0     Italy  Aromas include tropical fruit, broom, brimston...   \n",
       "1  Portugal  This is ripe and fruity, a wine that is smooth...   \n",
       "2        US  Tart and snappy, the flavors of lime flesh and...   \n",
       "3        US  Pineapple rind, lemon pith and orange blossom ...   \n",
       "4        US  Much like the regular bottling from 2012, this...   \n",
       "\n",
       "                          designation  points  price           province  \\\n",
       "0                        Vulkà Bianco      87    NaN  Sicily & Sardinia   \n",
       "1                            Avidagos      87   15.0              Douro   \n",
       "2                                 NaN      87   14.0             Oregon   \n",
       "3                Reserve Late Harvest      87   13.0           Michigan   \n",
       "4  Vintner's Reserve Wild Child Block      87   65.0             Oregon   \n",
       "\n",
       "              region_1           region_2         taster_name  \\\n",
       "0                 Etna                NaN       Kerin O’Keefe   \n",
       "1                  NaN                NaN          Roger Voss   \n",
       "2    Willamette Valley  Willamette Valley        Paul Gregutt   \n",
       "3  Lake Michigan Shore                NaN  Alexander Peartree   \n",
       "4    Willamette Valley  Willamette Valley        Paul Gregutt   \n",
       "\n",
       "  taster_twitter_handle                                              title  \\\n",
       "0          @kerinokeefe                  Nicosia 2013 Vulkà Bianco  (Etna)   \n",
       "1            @vossroger      Quinta dos Avidagos 2011 Avidagos Red (Douro)   \n",
       "2           @paulgwine       Rainstorm 2013 Pinot Gris (Willamette Valley)   \n",
       "3                   NaN  St. Julian 2013 Reserve Late Harvest Riesling ...   \n",
       "4           @paulgwine   Sweet Cheeks 2012 Vintner's Reserve Wild Child...   \n",
       "\n",
       "          variety               winery  \n",
       "0     White Blend              Nicosia  \n",
       "1  Portuguese Red  Quinta dos Avidagos  \n",
       "2      Pinot Gris            Rainstorm  \n",
       "3        Riesling           St. Julian  \n",
       "4      Pinot Noir         Sweet Cheeks  "
      ]
     },
     "execution_count": 1,
     "metadata": {},
     "output_type": "execute_result"
    }
   ],
   "source": [
    "import pandas as pd\n",
    "pd.set_option(\"display.max_rows\", 5)\n",
    "reviews = pd.read_csv(\"../input/wine-reviews/winemag-data-130k-v2.csv\", index_col=0)\n",
    "\n",
    "from learntools.core import binder; binder.bind(globals())\n",
    "from learntools.pandas.summary_functions_and_maps import *\n",
    "print(\"Setup complete.\")\n",
    "\n",
    "reviews.head()"
   ]
  },
  {
   "cell_type": "markdown",
   "id": "daa809d4",
   "metadata": {
    "papermill": {
     "duration": 0.022676,
     "end_time": "2022-03-10T16:18:55.843393",
     "exception": false,
     "start_time": "2022-03-10T16:18:55.820717",
     "status": "completed"
    },
    "tags": []
   },
   "source": [
    "# Exercises"
   ]
  },
  {
   "cell_type": "markdown",
   "id": "1670e7aa",
   "metadata": {
    "papermill": {
     "duration": 0.022726,
     "end_time": "2022-03-10T16:18:55.889274",
     "exception": false,
     "start_time": "2022-03-10T16:18:55.866548",
     "status": "completed"
    },
    "tags": []
   },
   "source": [
    "## 1.\n",
    "\n",
    "What is the median of the `points` column in the `reviews` DataFrame?"
   ]
  },
  {
   "cell_type": "code",
   "execution_count": 2,
   "id": "abcb14d1",
   "metadata": {
    "execution": {
     "iopub.execute_input": "2022-03-10T16:18:55.939362Z",
     "iopub.status.busy": "2022-03-10T16:18:55.938665Z",
     "iopub.status.idle": "2022-03-10T16:18:55.946051Z",
     "shell.execute_reply": "2022-03-10T16:18:55.946618Z",
     "shell.execute_reply.started": "2022-03-10T16:09:21.811784Z"
    },
    "papermill": {
     "duration": 0.03465,
     "end_time": "2022-03-10T16:18:55.946812",
     "exception": false,
     "start_time": "2022-03-10T16:18:55.912162",
     "status": "completed"
    },
    "tags": []
   },
   "outputs": [
    {
     "data": {
      "application/javascript": [
       "parent.postMessage({\"jupyterEvent\": \"custom.exercise_interaction\", \"data\": {\"outcomeType\": 1, \"valueTowardsCompletion\": 0.14285714285714285, \"interactionType\": 1, \"questionType\": 1, \"questionId\": \"1_MedianPoints\", \"learnToolsVersion\": \"0.3.4\", \"failureMessage\": \"\", \"exceptionClass\": \"\", \"trace\": \"\"}}, \"*\")"
      ],
      "text/plain": [
       "<IPython.core.display.Javascript object>"
      ]
     },
     "metadata": {},
     "output_type": "display_data"
    },
    {
     "data": {
      "text/markdown": [
       "<span style=\"color:#33cc33\">Correct</span>"
      ],
      "text/plain": [
       "Correct"
      ]
     },
     "metadata": {},
     "output_type": "display_data"
    }
   ],
   "source": [
    "median_points = reviews.points.median()\n",
    "\n",
    "# Check your answer\n",
    "q1.check()"
   ]
  },
  {
   "cell_type": "code",
   "execution_count": 3,
   "id": "5243f95c",
   "metadata": {
    "execution": {
     "iopub.execute_input": "2022-03-10T16:18:55.999789Z",
     "iopub.status.busy": "2022-03-10T16:18:55.999086Z",
     "iopub.status.idle": "2022-03-10T16:18:56.002190Z",
     "shell.execute_reply": "2022-03-10T16:18:56.002725Z"
    },
    "papermill": {
     "duration": 0.03131,
     "end_time": "2022-03-10T16:18:56.002894",
     "exception": false,
     "start_time": "2022-03-10T16:18:55.971584",
     "status": "completed"
    },
    "tags": []
   },
   "outputs": [],
   "source": [
    "#q1.hint()\n",
    "#q1.solution()"
   ]
  },
  {
   "cell_type": "markdown",
   "id": "4e5026d4",
   "metadata": {
    "papermill": {
     "duration": 0.024045,
     "end_time": "2022-03-10T16:18:56.051363",
     "exception": false,
     "start_time": "2022-03-10T16:18:56.027318",
     "status": "completed"
    },
    "tags": []
   },
   "source": [
    "## 2. \n",
    "What countries are represented in the dataset? (Your answer should not include any duplicates.)"
   ]
  },
  {
   "cell_type": "code",
   "execution_count": 4,
   "id": "78b1cd38",
   "metadata": {
    "execution": {
     "iopub.execute_input": "2022-03-10T16:18:56.109336Z",
     "iopub.status.busy": "2022-03-10T16:18:56.108472Z",
     "iopub.status.idle": "2022-03-10T16:18:56.127504Z",
     "shell.execute_reply": "2022-03-10T16:18:56.128130Z",
     "shell.execute_reply.started": "2022-03-10T16:10:48.152226Z"
    },
    "papermill": {
     "duration": 0.049311,
     "end_time": "2022-03-10T16:18:56.128305",
     "exception": false,
     "start_time": "2022-03-10T16:18:56.078994",
     "status": "completed"
    },
    "tags": []
   },
   "outputs": [
    {
     "data": {
      "application/javascript": [
       "parent.postMessage({\"jupyterEvent\": \"custom.exercise_interaction\", \"data\": {\"outcomeType\": 1, \"valueTowardsCompletion\": 0.14285714285714285, \"interactionType\": 1, \"questionType\": 2, \"questionId\": \"2_UniqueCountries\", \"learnToolsVersion\": \"0.3.4\", \"failureMessage\": \"\", \"exceptionClass\": \"\", \"trace\": \"\"}}, \"*\")"
      ],
      "text/plain": [
       "<IPython.core.display.Javascript object>"
      ]
     },
     "metadata": {},
     "output_type": "display_data"
    },
    {
     "data": {
      "text/markdown": [
       "<span style=\"color:#33cc33\">Correct</span>"
      ],
      "text/plain": [
       "Correct"
      ]
     },
     "metadata": {},
     "output_type": "display_data"
    }
   ],
   "source": [
    "countries = reviews.country.unique()\n",
    "\n",
    "# Check your answer\n",
    "q2.check()"
   ]
  },
  {
   "cell_type": "code",
   "execution_count": 5,
   "id": "7a46ee0a",
   "metadata": {
    "execution": {
     "iopub.execute_input": "2022-03-10T16:18:56.182711Z",
     "iopub.status.busy": "2022-03-10T16:18:56.181988Z",
     "iopub.status.idle": "2022-03-10T16:18:56.184755Z",
     "shell.execute_reply": "2022-03-10T16:18:56.185307Z"
    },
    "papermill": {
     "duration": 0.031897,
     "end_time": "2022-03-10T16:18:56.185469",
     "exception": false,
     "start_time": "2022-03-10T16:18:56.153572",
     "status": "completed"
    },
    "tags": []
   },
   "outputs": [],
   "source": [
    "#q2.hint()\n",
    "#q2.solution()"
   ]
  },
  {
   "cell_type": "markdown",
   "id": "d232b2fc",
   "metadata": {
    "papermill": {
     "duration": 0.02537,
     "end_time": "2022-03-10T16:18:56.237192",
     "exception": false,
     "start_time": "2022-03-10T16:18:56.211822",
     "status": "completed"
    },
    "tags": []
   },
   "source": [
    "## 3.\n",
    "How often does each country appear in the dataset? Create a Series `reviews_per_country` mapping countries to the count of reviews of wines from that country."
   ]
  },
  {
   "cell_type": "code",
   "execution_count": 6,
   "id": "9b74a188",
   "metadata": {
    "execution": {
     "iopub.execute_input": "2022-03-10T16:18:56.292175Z",
     "iopub.status.busy": "2022-03-10T16:18:56.291203Z",
     "iopub.status.idle": "2022-03-10T16:18:56.318879Z",
     "shell.execute_reply": "2022-03-10T16:18:56.319393Z",
     "shell.execute_reply.started": "2022-03-10T16:14:05.785183Z"
    },
    "papermill": {
     "duration": 0.056762,
     "end_time": "2022-03-10T16:18:56.319578",
     "exception": false,
     "start_time": "2022-03-10T16:18:56.262816",
     "status": "completed"
    },
    "tags": []
   },
   "outputs": [
    {
     "data": {
      "application/javascript": [
       "parent.postMessage({\"jupyterEvent\": \"custom.exercise_interaction\", \"data\": {\"outcomeType\": 1, \"valueTowardsCompletion\": 0.14285714285714285, \"interactionType\": 1, \"questionType\": 1, \"questionId\": \"3_ReviewsPerCountry\", \"learnToolsVersion\": \"0.3.4\", \"failureMessage\": \"\", \"exceptionClass\": \"\", \"trace\": \"\"}}, \"*\")"
      ],
      "text/plain": [
       "<IPython.core.display.Javascript object>"
      ]
     },
     "metadata": {},
     "output_type": "display_data"
    },
    {
     "data": {
      "text/markdown": [
       "<span style=\"color:#33cc33\">Correct</span>"
      ],
      "text/plain": [
       "Correct"
      ]
     },
     "metadata": {},
     "output_type": "display_data"
    }
   ],
   "source": [
    "reviews_per_country = reviews.country.value_counts()\n",
    "\n",
    "# Check your answer\n",
    "q3.check()"
   ]
  },
  {
   "cell_type": "code",
   "execution_count": 7,
   "id": "c9e70bcc",
   "metadata": {
    "execution": {
     "iopub.execute_input": "2022-03-10T16:18:56.379059Z",
     "iopub.status.busy": "2022-03-10T16:18:56.378349Z",
     "iopub.status.idle": "2022-03-10T16:18:56.379957Z",
     "shell.execute_reply": "2022-03-10T16:18:56.380432Z",
     "shell.execute_reply.started": "2022-03-10T16:14:09.944987Z"
    },
    "papermill": {
     "duration": 0.033586,
     "end_time": "2022-03-10T16:18:56.380596",
     "exception": false,
     "start_time": "2022-03-10T16:18:56.347010",
     "status": "completed"
    },
    "tags": []
   },
   "outputs": [],
   "source": [
    "#q3.hint()\n",
    "#q3.solution()"
   ]
  },
  {
   "cell_type": "markdown",
   "id": "f35f7e93",
   "metadata": {
    "papermill": {
     "duration": 0.030047,
     "end_time": "2022-03-10T16:18:56.438122",
     "exception": false,
     "start_time": "2022-03-10T16:18:56.408075",
     "status": "completed"
    },
    "tags": []
   },
   "source": [
    "## 4.\n",
    "Create variable `centered_price` containing a version of the `price` column with the mean price subtracted.\n",
    "\n",
    "(Note: this 'centering' transformation is a common preprocessing step before applying various machine learning algorithms.) "
   ]
  },
  {
   "cell_type": "code",
   "execution_count": 8,
   "id": "4c5d9a5f",
   "metadata": {
    "execution": {
     "iopub.execute_input": "2022-03-10T16:18:56.495939Z",
     "iopub.status.busy": "2022-03-10T16:18:56.495249Z",
     "iopub.status.idle": "2022-03-10T16:18:56.502158Z",
     "shell.execute_reply": "2022-03-10T16:18:56.502634Z",
     "shell.execute_reply.started": "2022-03-10T16:16:09.438972Z"
    },
    "papermill": {
     "duration": 0.03752,
     "end_time": "2022-03-10T16:18:56.502821",
     "exception": false,
     "start_time": "2022-03-10T16:18:56.465301",
     "status": "completed"
    },
    "tags": []
   },
   "outputs": [
    {
     "data": {
      "application/javascript": [
       "parent.postMessage({\"jupyterEvent\": \"custom.exercise_interaction\", \"data\": {\"outcomeType\": 1, \"valueTowardsCompletion\": 0.14285714285714285, \"interactionType\": 1, \"questionType\": 1, \"questionId\": \"4_CenteredPrice\", \"learnToolsVersion\": \"0.3.4\", \"failureMessage\": \"\", \"exceptionClass\": \"\", \"trace\": \"\"}}, \"*\")"
      ],
      "text/plain": [
       "<IPython.core.display.Javascript object>"
      ]
     },
     "metadata": {},
     "output_type": "display_data"
    },
    {
     "data": {
      "text/markdown": [
       "<span style=\"color:#33cc33\">Correct</span>"
      ],
      "text/plain": [
       "Correct"
      ]
     },
     "metadata": {},
     "output_type": "display_data"
    }
   ],
   "source": [
    "centered_price = reviews.price - reviews.price.mean()\n",
    "\n",
    "# Check your answer\n",
    "q4.check()"
   ]
  },
  {
   "cell_type": "code",
   "execution_count": 9,
   "id": "9203708d",
   "metadata": {
    "execution": {
     "iopub.execute_input": "2022-03-10T16:18:56.562817Z",
     "iopub.status.busy": "2022-03-10T16:18:56.562074Z",
     "iopub.status.idle": "2022-03-10T16:18:56.564578Z",
     "shell.execute_reply": "2022-03-10T16:18:56.565140Z",
     "shell.execute_reply.started": "2022-03-10T16:16:13.103025Z"
    },
    "papermill": {
     "duration": 0.034473,
     "end_time": "2022-03-10T16:18:56.565301",
     "exception": false,
     "start_time": "2022-03-10T16:18:56.530828",
     "status": "completed"
    },
    "tags": []
   },
   "outputs": [],
   "source": [
    "#q4.hint()\n",
    "#q4.solution()"
   ]
  },
  {
   "cell_type": "markdown",
   "id": "029b3caa",
   "metadata": {
    "papermill": {
     "duration": 0.027834,
     "end_time": "2022-03-10T16:18:56.621200",
     "exception": false,
     "start_time": "2022-03-10T16:18:56.593366",
     "status": "completed"
    },
    "tags": []
   },
   "source": [
    "## 5.\n",
    "I'm an economical wine buyer. Which wine is the \"best bargain\"? Create a variable `bargain_wine` with the title of the wine with the highest points-to-price ratio in the dataset."
   ]
  },
  {
   "cell_type": "code",
   "execution_count": 10,
   "id": "e5a2d4ba",
   "metadata": {
    "execution": {
     "iopub.execute_input": "2022-03-10T16:18:56.682357Z",
     "iopub.status.busy": "2022-03-10T16:18:56.681656Z",
     "iopub.status.idle": "2022-03-10T16:18:56.693141Z",
     "shell.execute_reply": "2022-03-10T16:18:56.693614Z",
     "shell.execute_reply.started": "2022-03-10T16:17:38.688722Z"
    },
    "papermill": {
     "duration": 0.04445,
     "end_time": "2022-03-10T16:18:56.693811",
     "exception": false,
     "start_time": "2022-03-10T16:18:56.649361",
     "status": "completed"
    },
    "tags": []
   },
   "outputs": [
    {
     "data": {
      "application/javascript": [
       "parent.postMessage({\"jupyterEvent\": \"custom.exercise_interaction\", \"data\": {\"outcomeType\": 1, \"valueTowardsCompletion\": 0.14285714285714285, \"interactionType\": 1, \"questionType\": 2, \"questionId\": \"5_BargainWine\", \"learnToolsVersion\": \"0.3.4\", \"failureMessage\": \"\", \"exceptionClass\": \"\", \"trace\": \"\"}}, \"*\")"
      ],
      "text/plain": [
       "<IPython.core.display.Javascript object>"
      ]
     },
     "metadata": {},
     "output_type": "display_data"
    },
    {
     "data": {
      "text/markdown": [
       "<span style=\"color:#33cc33\">Correct</span>"
      ],
      "text/plain": [
       "Correct"
      ]
     },
     "metadata": {},
     "output_type": "display_data"
    }
   ],
   "source": [
    "bargain_wine = bargain_idx = (reviews.points / reviews.price).idxmax()\n",
    "bargain_wine = reviews.loc[bargain_idx, 'title']\n",
    "\n",
    "# Check your answer\n",
    "q5.check()"
   ]
  },
  {
   "cell_type": "code",
   "execution_count": 11,
   "id": "5e6747aa",
   "metadata": {
    "execution": {
     "iopub.execute_input": "2022-03-10T16:18:56.755978Z",
     "iopub.status.busy": "2022-03-10T16:18:56.755320Z",
     "iopub.status.idle": "2022-03-10T16:18:56.758037Z",
     "shell.execute_reply": "2022-03-10T16:18:56.758507Z",
     "shell.execute_reply.started": "2022-03-10T16:17:43.396211Z"
    },
    "papermill": {
     "duration": 0.035243,
     "end_time": "2022-03-10T16:18:56.758661",
     "exception": false,
     "start_time": "2022-03-10T16:18:56.723418",
     "status": "completed"
    },
    "tags": []
   },
   "outputs": [],
   "source": [
    "#q5.hint()\n",
    "#q5.solution()"
   ]
  },
  {
   "cell_type": "markdown",
   "id": "c727c3a1",
   "metadata": {
    "papermill": {
     "duration": 0.029154,
     "end_time": "2022-03-10T16:18:56.817363",
     "exception": false,
     "start_time": "2022-03-10T16:18:56.788209",
     "status": "completed"
    },
    "tags": []
   },
   "source": [
    "## 6.\n",
    "There are only so many words you can use when describing a bottle of wine. Is a wine more likely to be \"tropical\" or \"fruity\"? Create a Series `descriptor_counts` counting how many times each of these two words appears in the `description` column in the dataset. (For simplicity, let's ignore the capitalized versions of these words.)"
   ]
  },
  {
   "cell_type": "code",
   "execution_count": 12,
   "id": "fd155de3",
   "metadata": {
    "execution": {
     "iopub.execute_input": "2022-03-10T16:18:56.879165Z",
     "iopub.status.busy": "2022-03-10T16:18:56.878459Z",
     "iopub.status.idle": "2022-03-10T16:18:56.885767Z",
     "shell.execute_reply": "2022-03-10T16:18:56.886280Z"
    },
    "papermill": {
     "duration": 0.039689,
     "end_time": "2022-03-10T16:18:56.886449",
     "exception": false,
     "start_time": "2022-03-10T16:18:56.846760",
     "status": "completed"
    },
    "tags": []
   },
   "outputs": [
    {
     "data": {
      "application/javascript": [
       "parent.postMessage({\"jupyterEvent\": \"custom.exercise_interaction\", \"data\": {\"outcomeType\": 4, \"interactionType\": 1, \"questionType\": 1, \"questionId\": \"6_DescriptorCounts\", \"learnToolsVersion\": \"0.3.4\", \"valueTowardsCompletion\": 0.0, \"failureMessage\": \"\", \"exceptionClass\": \"\", \"trace\": \"\"}}, \"*\")"
      ],
      "text/plain": [
       "<IPython.core.display.Javascript object>"
      ]
     },
     "metadata": {},
     "output_type": "display_data"
    },
    {
     "data": {
      "text/markdown": [
       "<span style=\"color:#ccaa33\">Check:</span> When you've updated the starter code, `check()` will tell you whether your code is correct. You need to update the code that creates variable `descriptor_counts`"
      ],
      "text/plain": [
       "Check: When you've updated the starter code, `check()` will tell you whether your code is correct. You need to update the code that creates variable `descriptor_counts`"
      ]
     },
     "metadata": {},
     "output_type": "display_data"
    }
   ],
   "source": [
    "descriptor_counts = ____\n",
    "\n",
    "# Check your answer\n",
    "q6.check()"
   ]
  },
  {
   "cell_type": "code",
   "execution_count": 13,
   "id": "e6cf0eb0",
   "metadata": {
    "execution": {
     "iopub.execute_input": "2022-03-10T16:18:56.954841Z",
     "iopub.status.busy": "2022-03-10T16:18:56.953822Z",
     "iopub.status.idle": "2022-03-10T16:18:56.956728Z",
     "shell.execute_reply": "2022-03-10T16:18:56.956090Z",
     "shell.execute_reply.started": "2022-03-10T16:18:23.308955Z"
    },
    "papermill": {
     "duration": 0.038793,
     "end_time": "2022-03-10T16:18:56.956865",
     "exception": false,
     "start_time": "2022-03-10T16:18:56.918072",
     "status": "completed"
    },
    "tags": []
   },
   "outputs": [],
   "source": [
    "#q6.hint()\n",
    "#q6.solution()"
   ]
  },
  {
   "cell_type": "markdown",
   "id": "c5e90e25",
   "metadata": {
    "papermill": {
     "duration": 0.030549,
     "end_time": "2022-03-10T16:18:57.018610",
     "exception": false,
     "start_time": "2022-03-10T16:18:56.988061",
     "status": "completed"
    },
    "tags": []
   },
   "source": [
    "## 7.\n",
    "We'd like to host these wine reviews on our website, but a rating system ranging from 80 to 100 points is too hard to understand - we'd like to translate them into simple star ratings. A score of 95 or higher counts as 3 stars, a score of at least 85 but less than 95 is 2 stars. Any other score is 1 star.\n",
    "\n",
    "Also, the Canadian Vintners Association bought a lot of ads on the site, so any wines from Canada should automatically get 3 stars, regardless of points.\n",
    "\n",
    "Create a series `star_ratings` with the number of stars corresponding to each review in the dataset."
   ]
  },
  {
   "cell_type": "code",
   "execution_count": 14,
   "id": "2fd22f3e",
   "metadata": {
    "execution": {
     "iopub.execute_input": "2022-03-10T16:18:57.083626Z",
     "iopub.status.busy": "2022-03-10T16:18:57.083013Z",
     "iopub.status.idle": "2022-03-10T16:18:57.088817Z",
     "shell.execute_reply": "2022-03-10T16:18:57.089377Z"
    },
    "papermill": {
     "duration": 0.039998,
     "end_time": "2022-03-10T16:18:57.089535",
     "exception": false,
     "start_time": "2022-03-10T16:18:57.049537",
     "status": "completed"
    },
    "tags": []
   },
   "outputs": [
    {
     "data": {
      "application/javascript": [
       "parent.postMessage({\"jupyterEvent\": \"custom.exercise_interaction\", \"data\": {\"outcomeType\": 4, \"interactionType\": 1, \"questionType\": 1, \"questionId\": \"7_StarRatings\", \"learnToolsVersion\": \"0.3.4\", \"valueTowardsCompletion\": 0.0, \"failureMessage\": \"\", \"exceptionClass\": \"\", \"trace\": \"\"}}, \"*\")"
      ],
      "text/plain": [
       "<IPython.core.display.Javascript object>"
      ]
     },
     "metadata": {},
     "output_type": "display_data"
    },
    {
     "data": {
      "text/markdown": [
       "<span style=\"color:#ccaa33\">Check:</span> When you've updated the starter code, `check()` will tell you whether your code is correct. You need to update the code that creates variable `star_ratings`"
      ],
      "text/plain": [
       "Check: When you've updated the starter code, `check()` will tell you whether your code is correct. You need to update the code that creates variable `star_ratings`"
      ]
     },
     "metadata": {},
     "output_type": "display_data"
    }
   ],
   "source": [
    "star_ratings = ____\n",
    "\n",
    "# Check your answer\n",
    "q7.check()"
   ]
  },
  {
   "cell_type": "code",
   "execution_count": 15,
   "id": "0fe94208",
   "metadata": {
    "execution": {
     "iopub.execute_input": "2022-03-10T16:18:57.158420Z",
     "iopub.status.busy": "2022-03-10T16:18:57.157796Z",
     "iopub.status.idle": "2022-03-10T16:18:57.160303Z",
     "shell.execute_reply": "2022-03-10T16:18:57.160846Z"
    },
    "papermill": {
     "duration": 0.038635,
     "end_time": "2022-03-10T16:18:57.161013",
     "exception": false,
     "start_time": "2022-03-10T16:18:57.122378",
     "status": "completed"
    },
    "tags": []
   },
   "outputs": [],
   "source": [
    "#q7.hint()\n",
    "#q7.solution()"
   ]
  },
  {
   "cell_type": "markdown",
   "id": "266e3dff",
   "metadata": {
    "papermill": {
     "duration": 0.03304,
     "end_time": "2022-03-10T16:18:57.227024",
     "exception": false,
     "start_time": "2022-03-10T16:18:57.193984",
     "status": "completed"
    },
    "tags": []
   },
   "source": [
    "# Keep going\n",
    "Continue to **[grouping and sorting](https://www.kaggle.com/residentmario/grouping-and-sorting)**."
   ]
  },
  {
   "cell_type": "markdown",
   "id": "d9ab3ad2",
   "metadata": {
    "papermill": {
     "duration": 0.032419,
     "end_time": "2022-03-10T16:18:57.292016",
     "exception": false,
     "start_time": "2022-03-10T16:18:57.259597",
     "status": "completed"
    },
    "tags": []
   },
   "source": [
    "---\n",
    "\n",
    "\n",
    "\n",
    "\n",
    "*Have questions or comments? Visit the [course discussion forum](https://www.kaggle.com/learn/pandas/discussion) to chat with other learners.*"
   ]
  }
 ],
 "metadata": {
  "kernelspec": {
   "display_name": "Python 3",
   "language": "python",
   "name": "python3"
  },
  "language_info": {
   "codemirror_mode": {
    "name": "ipython",
    "version": 3
   },
   "file_extension": ".py",
   "mimetype": "text/x-python",
   "name": "python",
   "nbconvert_exporter": "python",
   "pygments_lexer": "ipython3",
   "version": "3.7.12"
  },
  "papermill": {
   "default_parameters": {},
   "duration": 20.455619,
   "end_time": "2022-03-10T16:18:58.035174",
   "environment_variables": {},
   "exception": null,
   "input_path": "__notebook__.ipynb",
   "output_path": "__notebook__.ipynb",
   "parameters": {},
   "start_time": "2022-03-10T16:18:37.579555",
   "version": "2.3.3"
  }
 },
 "nbformat": 4,
 "nbformat_minor": 5
}
