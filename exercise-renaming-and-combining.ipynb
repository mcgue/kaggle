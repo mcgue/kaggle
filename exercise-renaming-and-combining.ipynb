{
 "cells": [
  {
   "cell_type": "markdown",
   "id": "cc6dce9d",
   "metadata": {
    "papermill": {
     "duration": 0.015153,
     "end_time": "2022-03-21T20:39:51.477549",
     "exception": false,
     "start_time": "2022-03-21T20:39:51.462396",
     "status": "completed"
    },
    "tags": []
   },
   "source": [
    "**This notebook is an exercise in the [Pandas](https://www.kaggle.com/learn/pandas) course.  You can reference the tutorial at [this link](https://www.kaggle.com/residentmario/renaming-and-combining).**\n",
    "\n",
    "---\n"
   ]
  },
  {
   "cell_type": "markdown",
   "id": "f4c84b52",
   "metadata": {
    "papermill": {
     "duration": 0.013691,
     "end_time": "2022-03-21T20:39:51.507508",
     "exception": false,
     "start_time": "2022-03-21T20:39:51.493817",
     "status": "completed"
    },
    "tags": []
   },
   "source": [
    "# Introduction\n",
    "\n",
    "Run the following cell to load your data and some utility functions."
   ]
  },
  {
   "cell_type": "code",
   "execution_count": 1,
   "id": "391dfb26",
   "metadata": {
    "execution": {
     "iopub.execute_input": "2022-03-21T20:39:51.544397Z",
     "iopub.status.busy": "2022-03-21T20:39:51.543795Z",
     "iopub.status.idle": "2022-03-21T20:39:55.250893Z",
     "shell.execute_reply": "2022-03-21T20:39:55.250296Z",
     "shell.execute_reply.started": "2022-03-21T20:20:57.657966Z"
    },
    "papermill": {
     "duration": 3.729678,
     "end_time": "2022-03-21T20:39:55.251044",
     "exception": false,
     "start_time": "2022-03-21T20:39:51.521366",
     "status": "completed"
    },
    "tags": []
   },
   "outputs": [
    {
     "name": "stdout",
     "output_type": "stream",
     "text": [
      "Setup complete.\n"
     ]
    }
   ],
   "source": [
    "import pandas as pd\n",
    "\n",
    "reviews = pd.read_csv(\"../input/wine-reviews/winemag-data-130k-v2.csv\", index_col=0)\n",
    "\n",
    "from learntools.core import binder; binder.bind(globals())\n",
    "from learntools.pandas.renaming_and_combining import *\n",
    "print(\"Setup complete.\")"
   ]
  },
  {
   "cell_type": "markdown",
   "id": "5fa2d25e",
   "metadata": {
    "papermill": {
     "duration": 0.014082,
     "end_time": "2022-03-21T20:39:55.280020",
     "exception": false,
     "start_time": "2022-03-21T20:39:55.265938",
     "status": "completed"
    },
    "tags": []
   },
   "source": [
    "# Exercises\n",
    "\n",
    "View the first several lines of your data by running the cell below:"
   ]
  },
  {
   "cell_type": "code",
   "execution_count": 2,
   "id": "58fb4ffd",
   "metadata": {
    "execution": {
     "iopub.execute_input": "2022-03-21T20:39:55.312091Z",
     "iopub.status.busy": "2022-03-21T20:39:55.311500Z",
     "iopub.status.idle": "2022-03-21T20:39:55.332854Z",
     "shell.execute_reply": "2022-03-21T20:39:55.332399Z",
     "shell.execute_reply.started": "2022-03-21T20:21:01.869317Z"
    },
    "papermill": {
     "duration": 0.03856,
     "end_time": "2022-03-21T20:39:55.332993",
     "exception": false,
     "start_time": "2022-03-21T20:39:55.294433",
     "status": "completed"
    },
    "tags": []
   },
   "outputs": [
    {
     "data": {
      "text/html": [
       "<div>\n",
       "<style scoped>\n",
       "    .dataframe tbody tr th:only-of-type {\n",
       "        vertical-align: middle;\n",
       "    }\n",
       "\n",
       "    .dataframe tbody tr th {\n",
       "        vertical-align: top;\n",
       "    }\n",
       "\n",
       "    .dataframe thead th {\n",
       "        text-align: right;\n",
       "    }\n",
       "</style>\n",
       "<table border=\"1\" class=\"dataframe\">\n",
       "  <thead>\n",
       "    <tr style=\"text-align: right;\">\n",
       "      <th></th>\n",
       "      <th>country</th>\n",
       "      <th>description</th>\n",
       "      <th>designation</th>\n",
       "      <th>points</th>\n",
       "      <th>price</th>\n",
       "      <th>province</th>\n",
       "      <th>region_1</th>\n",
       "      <th>region_2</th>\n",
       "      <th>taster_name</th>\n",
       "      <th>taster_twitter_handle</th>\n",
       "      <th>title</th>\n",
       "      <th>variety</th>\n",
       "      <th>winery</th>\n",
       "    </tr>\n",
       "  </thead>\n",
       "  <tbody>\n",
       "    <tr>\n",
       "      <th>0</th>\n",
       "      <td>Italy</td>\n",
       "      <td>Aromas include tropical fruit, broom, brimston...</td>\n",
       "      <td>Vulkà Bianco</td>\n",
       "      <td>87</td>\n",
       "      <td>NaN</td>\n",
       "      <td>Sicily &amp; Sardinia</td>\n",
       "      <td>Etna</td>\n",
       "      <td>NaN</td>\n",
       "      <td>Kerin O’Keefe</td>\n",
       "      <td>@kerinokeefe</td>\n",
       "      <td>Nicosia 2013 Vulkà Bianco  (Etna)</td>\n",
       "      <td>White Blend</td>\n",
       "      <td>Nicosia</td>\n",
       "    </tr>\n",
       "    <tr>\n",
       "      <th>1</th>\n",
       "      <td>Portugal</td>\n",
       "      <td>This is ripe and fruity, a wine that is smooth...</td>\n",
       "      <td>Avidagos</td>\n",
       "      <td>87</td>\n",
       "      <td>15.0</td>\n",
       "      <td>Douro</td>\n",
       "      <td>NaN</td>\n",
       "      <td>NaN</td>\n",
       "      <td>Roger Voss</td>\n",
       "      <td>@vossroger</td>\n",
       "      <td>Quinta dos Avidagos 2011 Avidagos Red (Douro)</td>\n",
       "      <td>Portuguese Red</td>\n",
       "      <td>Quinta dos Avidagos</td>\n",
       "    </tr>\n",
       "    <tr>\n",
       "      <th>2</th>\n",
       "      <td>US</td>\n",
       "      <td>Tart and snappy, the flavors of lime flesh and...</td>\n",
       "      <td>NaN</td>\n",
       "      <td>87</td>\n",
       "      <td>14.0</td>\n",
       "      <td>Oregon</td>\n",
       "      <td>Willamette Valley</td>\n",
       "      <td>Willamette Valley</td>\n",
       "      <td>Paul Gregutt</td>\n",
       "      <td>@paulgwine</td>\n",
       "      <td>Rainstorm 2013 Pinot Gris (Willamette Valley)</td>\n",
       "      <td>Pinot Gris</td>\n",
       "      <td>Rainstorm</td>\n",
       "    </tr>\n",
       "    <tr>\n",
       "      <th>3</th>\n",
       "      <td>US</td>\n",
       "      <td>Pineapple rind, lemon pith and orange blossom ...</td>\n",
       "      <td>Reserve Late Harvest</td>\n",
       "      <td>87</td>\n",
       "      <td>13.0</td>\n",
       "      <td>Michigan</td>\n",
       "      <td>Lake Michigan Shore</td>\n",
       "      <td>NaN</td>\n",
       "      <td>Alexander Peartree</td>\n",
       "      <td>NaN</td>\n",
       "      <td>St. Julian 2013 Reserve Late Harvest Riesling ...</td>\n",
       "      <td>Riesling</td>\n",
       "      <td>St. Julian</td>\n",
       "    </tr>\n",
       "    <tr>\n",
       "      <th>4</th>\n",
       "      <td>US</td>\n",
       "      <td>Much like the regular bottling from 2012, this...</td>\n",
       "      <td>Vintner's Reserve Wild Child Block</td>\n",
       "      <td>87</td>\n",
       "      <td>65.0</td>\n",
       "      <td>Oregon</td>\n",
       "      <td>Willamette Valley</td>\n",
       "      <td>Willamette Valley</td>\n",
       "      <td>Paul Gregutt</td>\n",
       "      <td>@paulgwine</td>\n",
       "      <td>Sweet Cheeks 2012 Vintner's Reserve Wild Child...</td>\n",
       "      <td>Pinot Noir</td>\n",
       "      <td>Sweet Cheeks</td>\n",
       "    </tr>\n",
       "  </tbody>\n",
       "</table>\n",
       "</div>"
      ],
      "text/plain": [
       "    country                                        description  \\\n",
       "0     Italy  Aromas include tropical fruit, broom, brimston...   \n",
       "1  Portugal  This is ripe and fruity, a wine that is smooth...   \n",
       "2        US  Tart and snappy, the flavors of lime flesh and...   \n",
       "3        US  Pineapple rind, lemon pith and orange blossom ...   \n",
       "4        US  Much like the regular bottling from 2012, this...   \n",
       "\n",
       "                          designation  points  price           province  \\\n",
       "0                        Vulkà Bianco      87    NaN  Sicily & Sardinia   \n",
       "1                            Avidagos      87   15.0              Douro   \n",
       "2                                 NaN      87   14.0             Oregon   \n",
       "3                Reserve Late Harvest      87   13.0           Michigan   \n",
       "4  Vintner's Reserve Wild Child Block      87   65.0             Oregon   \n",
       "\n",
       "              region_1           region_2         taster_name  \\\n",
       "0                 Etna                NaN       Kerin O’Keefe   \n",
       "1                  NaN                NaN          Roger Voss   \n",
       "2    Willamette Valley  Willamette Valley        Paul Gregutt   \n",
       "3  Lake Michigan Shore                NaN  Alexander Peartree   \n",
       "4    Willamette Valley  Willamette Valley        Paul Gregutt   \n",
       "\n",
       "  taster_twitter_handle                                              title  \\\n",
       "0          @kerinokeefe                  Nicosia 2013 Vulkà Bianco  (Etna)   \n",
       "1            @vossroger      Quinta dos Avidagos 2011 Avidagos Red (Douro)   \n",
       "2           @paulgwine       Rainstorm 2013 Pinot Gris (Willamette Valley)   \n",
       "3                   NaN  St. Julian 2013 Reserve Late Harvest Riesling ...   \n",
       "4           @paulgwine   Sweet Cheeks 2012 Vintner's Reserve Wild Child...   \n",
       "\n",
       "          variety               winery  \n",
       "0     White Blend              Nicosia  \n",
       "1  Portuguese Red  Quinta dos Avidagos  \n",
       "2      Pinot Gris            Rainstorm  \n",
       "3        Riesling           St. Julian  \n",
       "4      Pinot Noir         Sweet Cheeks  "
      ]
     },
     "execution_count": 2,
     "metadata": {},
     "output_type": "execute_result"
    }
   ],
   "source": [
    "reviews.head()"
   ]
  },
  {
   "cell_type": "markdown",
   "id": "4d55284c",
   "metadata": {
    "papermill": {
     "duration": 0.01469,
     "end_time": "2022-03-21T20:39:55.363034",
     "exception": false,
     "start_time": "2022-03-21T20:39:55.348344",
     "status": "completed"
    },
    "tags": []
   },
   "source": [
    "## 1.\n",
    "`region_1` and `region_2` are pretty uninformative names for locale columns in the dataset. Create a copy of `reviews` with these columns renamed to `region` and `locale`, respectively."
   ]
  },
  {
   "cell_type": "code",
   "execution_count": 3,
   "id": "756e18cf",
   "metadata": {
    "execution": {
     "iopub.execute_input": "2022-03-21T20:39:55.396288Z",
     "iopub.status.busy": "2022-03-21T20:39:55.395715Z",
     "iopub.status.idle": "2022-03-21T20:39:55.427358Z",
     "shell.execute_reply": "2022-03-21T20:39:55.426756Z",
     "shell.execute_reply.started": "2022-03-21T20:22:58.588335Z"
    },
    "papermill": {
     "duration": 0.049381,
     "end_time": "2022-03-21T20:39:55.427494",
     "exception": false,
     "start_time": "2022-03-21T20:39:55.378113",
     "status": "completed"
    },
    "tags": []
   },
   "outputs": [
    {
     "data": {
      "application/javascript": [
       "parent.postMessage({\"jupyterEvent\": \"custom.exercise_interaction\", \"data\": {\"outcomeType\": 1, \"valueTowardsCompletion\": 0.25, \"interactionType\": 1, \"questionType\": 1, \"questionId\": \"1_RenameCols\", \"learnToolsVersion\": \"0.3.4\", \"failureMessage\": \"\", \"exceptionClass\": \"\", \"trace\": \"\"}}, \"*\")"
      ],
      "text/plain": [
       "<IPython.core.display.Javascript object>"
      ]
     },
     "metadata": {},
     "output_type": "display_data"
    },
    {
     "data": {
      "text/markdown": [
       "<span style=\"color:#33cc33\">Correct</span>"
      ],
      "text/plain": [
       "Correct"
      ]
     },
     "metadata": {},
     "output_type": "display_data"
    }
   ],
   "source": [
    "# Your code here\n",
    "renamed = reviews.rename(columns={'region_1': 'region', 'region_2' : \"locale\"})\n",
    "\n",
    "# Check your answer\n",
    "q1.check()"
   ]
  },
  {
   "cell_type": "code",
   "execution_count": 4,
   "id": "29bd4992",
   "metadata": {
    "execution": {
     "iopub.execute_input": "2022-03-21T20:39:55.463465Z",
     "iopub.status.busy": "2022-03-21T20:39:55.462701Z",
     "iopub.status.idle": "2022-03-21T20:39:55.466588Z",
     "shell.execute_reply": "2022-03-21T20:39:55.466104Z"
    },
    "papermill": {
     "duration": 0.022924,
     "end_time": "2022-03-21T20:39:55.466718",
     "exception": false,
     "start_time": "2022-03-21T20:39:55.443794",
     "status": "completed"
    },
    "tags": []
   },
   "outputs": [],
   "source": [
    "#q1.hint()\n",
    "#q1.solution()"
   ]
  },
  {
   "cell_type": "markdown",
   "id": "b66108fb",
   "metadata": {
    "papermill": {
     "duration": 0.015756,
     "end_time": "2022-03-21T20:39:55.498630",
     "exception": false,
     "start_time": "2022-03-21T20:39:55.482874",
     "status": "completed"
    },
    "tags": []
   },
   "source": [
    "## 2.\n",
    "Set the index name in the dataset to `wines`."
   ]
  },
  {
   "cell_type": "code",
   "execution_count": 5,
   "id": "d23a7e17",
   "metadata": {
    "execution": {
     "iopub.execute_input": "2022-03-21T20:39:55.560294Z",
     "iopub.status.busy": "2022-03-21T20:39:55.535224Z",
     "iopub.status.idle": "2022-03-21T20:39:55.564910Z",
     "shell.execute_reply": "2022-03-21T20:39:55.565467Z",
     "shell.execute_reply.started": "2022-03-21T20:24:58.719395Z"
    },
    "papermill": {
     "duration": 0.050934,
     "end_time": "2022-03-21T20:39:55.565629",
     "exception": false,
     "start_time": "2022-03-21T20:39:55.514695",
     "status": "completed"
    },
    "tags": []
   },
   "outputs": [
    {
     "data": {
      "application/javascript": [
       "parent.postMessage({\"jupyterEvent\": \"custom.exercise_interaction\", \"data\": {\"outcomeType\": 1, \"valueTowardsCompletion\": 0.25, \"interactionType\": 1, \"questionType\": 1, \"questionId\": \"2_RenameIndex\", \"learnToolsVersion\": \"0.3.4\", \"failureMessage\": \"\", \"exceptionClass\": \"\", \"trace\": \"\"}}, \"*\")"
      ],
      "text/plain": [
       "<IPython.core.display.Javascript object>"
      ]
     },
     "metadata": {},
     "output_type": "display_data"
    },
    {
     "data": {
      "text/markdown": [
       "<span style=\"color:#33cc33\">Correct</span>"
      ],
      "text/plain": [
       "Correct"
      ]
     },
     "metadata": {},
     "output_type": "display_data"
    }
   ],
   "source": [
    "reindexed = reviews.rename_axis(\"wines\", axis='rows')\n",
    "\n",
    "# Check your answer\n",
    "q2.check()"
   ]
  },
  {
   "cell_type": "code",
   "execution_count": 6,
   "id": "43dc0513",
   "metadata": {
    "execution": {
     "iopub.execute_input": "2022-03-21T20:39:55.603538Z",
     "iopub.status.busy": "2022-03-21T20:39:55.602622Z",
     "iopub.status.idle": "2022-03-21T20:39:55.605650Z",
     "shell.execute_reply": "2022-03-21T20:39:55.606198Z",
     "shell.execute_reply.started": "2022-03-21T20:25:09.876327Z"
    },
    "papermill": {
     "duration": 0.023909,
     "end_time": "2022-03-21T20:39:55.606381",
     "exception": false,
     "start_time": "2022-03-21T20:39:55.582472",
     "status": "completed"
    },
    "tags": []
   },
   "outputs": [],
   "source": [
    "#q2.hint()\n",
    "#q2.solution()"
   ]
  },
  {
   "cell_type": "markdown",
   "id": "fb78ad64",
   "metadata": {
    "papermill": {
     "duration": 0.01685,
     "end_time": "2022-03-21T20:39:55.641040",
     "exception": false,
     "start_time": "2022-03-21T20:39:55.624190",
     "status": "completed"
    },
    "tags": []
   },
   "source": [
    "## 3.\n",
    "The [Things on Reddit](https://www.kaggle.com/residentmario/things-on-reddit/data) dataset includes product links from a selection of top-ranked forums (\"subreddits\") on reddit.com. Run the cell below to load a dataframe of products mentioned on the */r/gaming* subreddit and another dataframe for products mentioned on the *r//movies* subreddit."
   ]
  },
  {
   "cell_type": "code",
   "execution_count": 7,
   "id": "db63df81",
   "metadata": {
    "execution": {
     "iopub.execute_input": "2022-03-21T20:39:55.678740Z",
     "iopub.status.busy": "2022-03-21T20:39:55.677793Z",
     "iopub.status.idle": "2022-03-21T20:39:55.691744Z",
     "shell.execute_reply": "2022-03-21T20:39:55.692273Z",
     "shell.execute_reply.started": "2022-03-21T20:31:29.489765Z"
    },
    "papermill": {
     "duration": 0.034234,
     "end_time": "2022-03-21T20:39:55.692445",
     "exception": false,
     "start_time": "2022-03-21T20:39:55.658211",
     "status": "completed"
    },
    "tags": []
   },
   "outputs": [],
   "source": [
    "gaming_products = pd.read_csv(\"../input/things-on-reddit/top-things/top-things/reddits/g/gaming.csv\")\n",
    "gaming_products['subreddit'] = \"r/gaming\"\n",
    "movie_products = pd.read_csv(\"../input/things-on-reddit/top-things/top-things/reddits/m/movies.csv\")\n",
    "movie_products['subreddit'] = \"r/movies\""
   ]
  },
  {
   "cell_type": "markdown",
   "id": "11572ee6",
   "metadata": {
    "papermill": {
     "duration": 0.016799,
     "end_time": "2022-03-21T20:39:55.726330",
     "exception": false,
     "start_time": "2022-03-21T20:39:55.709531",
     "status": "completed"
    },
    "tags": []
   },
   "source": [
    "Create a `DataFrame` of products mentioned on *either* subreddit."
   ]
  },
  {
   "cell_type": "code",
   "execution_count": 8,
   "id": "ec91939b",
   "metadata": {
    "execution": {
     "iopub.execute_input": "2022-03-21T20:39:55.763786Z",
     "iopub.status.busy": "2022-03-21T20:39:55.762859Z",
     "iopub.status.idle": "2022-03-21T20:39:55.773915Z",
     "shell.execute_reply": "2022-03-21T20:39:55.774501Z",
     "shell.execute_reply.started": "2022-03-21T20:32:40.712988Z"
    },
    "papermill": {
     "duration": 0.031379,
     "end_time": "2022-03-21T20:39:55.774678",
     "exception": false,
     "start_time": "2022-03-21T20:39:55.743299",
     "status": "completed"
    },
    "tags": []
   },
   "outputs": [
    {
     "data": {
      "application/javascript": [
       "parent.postMessage({\"jupyterEvent\": \"custom.exercise_interaction\", \"data\": {\"outcomeType\": 1, \"valueTowardsCompletion\": 0.25, \"interactionType\": 1, \"questionType\": 2, \"questionId\": \"3_ConcatReddit\", \"learnToolsVersion\": \"0.3.4\", \"failureMessage\": \"\", \"exceptionClass\": \"\", \"trace\": \"\"}}, \"*\")"
      ],
      "text/plain": [
       "<IPython.core.display.Javascript object>"
      ]
     },
     "metadata": {},
     "output_type": "display_data"
    },
    {
     "data": {
      "text/markdown": [
       "<span style=\"color:#33cc33\">Correct</span>"
      ],
      "text/plain": [
       "Correct"
      ]
     },
     "metadata": {},
     "output_type": "display_data"
    }
   ],
   "source": [
    "combined_products = pd.concat([gaming_products, movie_products])\n",
    "\n",
    "# Check your answer\n",
    "q3.check()"
   ]
  },
  {
   "cell_type": "code",
   "execution_count": 9,
   "id": "005947f0",
   "metadata": {
    "execution": {
     "iopub.execute_input": "2022-03-21T20:39:55.814813Z",
     "iopub.status.busy": "2022-03-21T20:39:55.813822Z",
     "iopub.status.idle": "2022-03-21T20:39:55.816039Z",
     "shell.execute_reply": "2022-03-21T20:39:55.816455Z"
    },
    "papermill": {
     "duration": 0.024084,
     "end_time": "2022-03-21T20:39:55.816613",
     "exception": false,
     "start_time": "2022-03-21T20:39:55.792529",
     "status": "completed"
    },
    "tags": []
   },
   "outputs": [],
   "source": [
    "#q3.hint()\n",
    "#q3.solution()"
   ]
  },
  {
   "cell_type": "markdown",
   "id": "c2c9d702",
   "metadata": {
    "papermill": {
     "duration": 0.018151,
     "end_time": "2022-03-21T20:39:55.852625",
     "exception": false,
     "start_time": "2022-03-21T20:39:55.834474",
     "status": "completed"
    },
    "tags": []
   },
   "source": [
    "## 4.\n",
    "The [Powerlifting Database](https://www.kaggle.com/open-powerlifting/powerlifting-database) dataset on Kaggle includes one CSV table for powerlifting meets and a separate one for powerlifting competitors. Run the cell below to load these datasets into dataframes:"
   ]
  },
  {
   "cell_type": "code",
   "execution_count": 10,
   "id": "1c9c1afa",
   "metadata": {
    "execution": {
     "iopub.execute_input": "2022-03-21T20:39:55.894310Z",
     "iopub.status.busy": "2022-03-21T20:39:55.893361Z",
     "iopub.status.idle": "2022-03-21T20:39:56.573911Z",
     "shell.execute_reply": "2022-03-21T20:39:56.573368Z",
     "shell.execute_reply.started": "2022-03-21T20:38:23.655958Z"
    },
    "papermill": {
     "duration": 0.70163,
     "end_time": "2022-03-21T20:39:56.574068",
     "exception": false,
     "start_time": "2022-03-21T20:39:55.872438",
     "status": "completed"
    },
    "tags": []
   },
   "outputs": [],
   "source": [
    "powerlifting_meets = pd.read_csv(\"../input/powerlifting-database/meets.csv\")\n",
    "powerlifting_competitors = pd.read_csv(\"../input/powerlifting-database/openpowerlifting.csv\")"
   ]
  },
  {
   "cell_type": "markdown",
   "id": "4ecb4e23",
   "metadata": {
    "papermill": {
     "duration": 0.018932,
     "end_time": "2022-03-21T20:39:56.611863",
     "exception": false,
     "start_time": "2022-03-21T20:39:56.592931",
     "status": "completed"
    },
    "tags": []
   },
   "source": [
    "Both tables include references to a `MeetID`, a unique key for each meet (competition) included in the database. Using this, generate a dataset combining the two tables into one."
   ]
  },
  {
   "cell_type": "code",
   "execution_count": 11,
   "id": "46e1b1d1",
   "metadata": {
    "execution": {
     "iopub.execute_input": "2022-03-21T20:39:56.654575Z",
     "iopub.status.busy": "2022-03-21T20:39:56.653965Z",
     "iopub.status.idle": "2022-03-21T20:39:57.390948Z",
     "shell.execute_reply": "2022-03-21T20:39:57.391413Z",
     "shell.execute_reply.started": "2022-03-21T20:39:16.602513Z"
    },
    "papermill": {
     "duration": 0.761382,
     "end_time": "2022-03-21T20:39:57.391575",
     "exception": false,
     "start_time": "2022-03-21T20:39:56.630193",
     "status": "completed"
    },
    "tags": []
   },
   "outputs": [
    {
     "data": {
      "application/javascript": [
       "parent.postMessage({\"jupyterEvent\": \"custom.exercise_interaction\", \"data\": {\"outcomeType\": 1, \"valueTowardsCompletion\": 0.25, \"interactionType\": 1, \"questionType\": 2, \"questionId\": \"4_JoinLifting\", \"learnToolsVersion\": \"0.3.4\", \"failureMessage\": \"\", \"exceptionClass\": \"\", \"trace\": \"\"}}, \"*\")"
      ],
      "text/plain": [
       "<IPython.core.display.Javascript object>"
      ]
     },
     "metadata": {},
     "output_type": "display_data"
    },
    {
     "data": {
      "text/markdown": [
       "<span style=\"color:#33cc33\">Correct</span>"
      ],
      "text/plain": [
       "Correct"
      ]
     },
     "metadata": {},
     "output_type": "display_data"
    }
   ],
   "source": [
    "powerlifting_combined = powerlifting_meets.set_index(\"MeetID\").join(powerlifting_competitors.set_index(\"MeetID\"))\n",
    "\n",
    "# Check your answer\n",
    "q4.check()"
   ]
  },
  {
   "cell_type": "code",
   "execution_count": 12,
   "id": "5488c72b",
   "metadata": {
    "execution": {
     "iopub.execute_input": "2022-03-21T20:39:57.433797Z",
     "iopub.status.busy": "2022-03-21T20:39:57.433017Z",
     "iopub.status.idle": "2022-03-21T20:39:57.435609Z",
     "shell.execute_reply": "2022-03-21T20:39:57.435138Z",
     "shell.execute_reply.started": "2022-03-21T20:39:26.669011Z"
    },
    "papermill": {
     "duration": 0.025232,
     "end_time": "2022-03-21T20:39:57.435736",
     "exception": false,
     "start_time": "2022-03-21T20:39:57.410504",
     "status": "completed"
    },
    "tags": []
   },
   "outputs": [],
   "source": [
    "#q4.hint()\n",
    "#q4.solution()"
   ]
  },
  {
   "cell_type": "markdown",
   "id": "370038bf",
   "metadata": {
    "papermill": {
     "duration": 0.019092,
     "end_time": "2022-03-21T20:39:57.473690",
     "exception": false,
     "start_time": "2022-03-21T20:39:57.454598",
     "status": "completed"
    },
    "tags": []
   },
   "source": [
    "# Congratulations!\n",
    "\n",
    "You've finished the Pandas micro-course.  Many data scientists feel efficiency with Pandas is the most useful and practical skill they have, because it allows you to progress quickly in any project you have.\n",
    "\n",
    "If you'd like to apply your new skills to examining geospatial data, you're encouraged to check out our **[Geospatial Analysis](https://www.kaggle.com/learn/geospatial-analysis)** micro-course.\n",
    "\n",
    "You can also take advantage of your Pandas skills by entering a **[Kaggle Competition](https://www.kaggle.com/competitions)** or by answering a question you find interesting using **[Kaggle Datasets](https://www.kaggle.com/datasets)**."
   ]
  },
  {
   "cell_type": "markdown",
   "id": "5b52e9eb",
   "metadata": {
    "papermill": {
     "duration": 0.018414,
     "end_time": "2022-03-21T20:39:57.510899",
     "exception": false,
     "start_time": "2022-03-21T20:39:57.492485",
     "status": "completed"
    },
    "tags": []
   },
   "source": [
    "---\n",
    "\n",
    "\n",
    "\n",
    "\n",
    "*Have questions or comments? Visit the [course discussion forum](https://www.kaggle.com/learn/pandas/discussion) to chat with other learners.*"
   ]
  }
 ],
 "metadata": {
  "kernelspec": {
   "display_name": "Python 3",
   "language": "python",
   "name": "python3"
  },
  "language_info": {
   "codemirror_mode": {
    "name": "ipython",
    "version": 3
   },
   "file_extension": ".py",
   "mimetype": "text/x-python",
   "name": "python",
   "nbconvert_exporter": "python",
   "pygments_lexer": "ipython3",
   "version": "3.7.12"
  },
  "papermill": {
   "default_parameters": {},
   "duration": 15.079648,
   "end_time": "2022-03-21T20:39:58.238647",
   "environment_variables": {},
   "exception": null,
   "input_path": "__notebook__.ipynb",
   "output_path": "__notebook__.ipynb",
   "parameters": {},
   "start_time": "2022-03-21T20:39:43.158999",
   "version": "2.3.3"
  }
 },
 "nbformat": 4,
 "nbformat_minor": 5
}
