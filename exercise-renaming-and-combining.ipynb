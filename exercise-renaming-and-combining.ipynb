{
 "cells": [
  {
   "cell_type": "markdown",
   "id": "9087a61c",
   "metadata": {
    "papermill": {
     "duration": 0.015354,
     "end_time": "2022-03-21T20:27:43.061909",
     "exception": false,
     "start_time": "2022-03-21T20:27:43.046555",
     "status": "completed"
    },
    "tags": []
   },
   "source": [
    "**This notebook is an exercise in the [Pandas](https://www.kaggle.com/learn/pandas) course.  You can reference the tutorial at [this link](https://www.kaggle.com/residentmario/renaming-and-combining).**\n",
    "\n",
    "---\n"
   ]
  },
  {
   "cell_type": "markdown",
   "id": "5fff1479",
   "metadata": {
    "papermill": {
     "duration": 0.014123,
     "end_time": "2022-03-21T20:27:43.091033",
     "exception": false,
     "start_time": "2022-03-21T20:27:43.076910",
     "status": "completed"
    },
    "tags": []
   },
   "source": [
    "# Introduction\n",
    "\n",
    "Run the following cell to load your data and some utility functions."
   ]
  },
  {
   "cell_type": "code",
   "execution_count": 1,
   "id": "71093ed3",
   "metadata": {
    "execution": {
     "iopub.execute_input": "2022-03-21T20:27:43.132999Z",
     "iopub.status.busy": "2022-03-21T20:27:43.132466Z",
     "iopub.status.idle": "2022-03-21T20:27:46.930650Z",
     "shell.execute_reply": "2022-03-21T20:27:46.931064Z",
     "shell.execute_reply.started": "2022-03-21T20:20:57.657966Z"
    },
    "papermill": {
     "duration": 3.826009,
     "end_time": "2022-03-21T20:27:46.931390",
     "exception": false,
     "start_time": "2022-03-21T20:27:43.105381",
     "status": "completed"
    },
    "tags": []
   },
   "outputs": [
    {
     "name": "stdout",
     "output_type": "stream",
     "text": [
      "Setup complete.\n"
     ]
    }
   ],
   "source": [
    "import pandas as pd\n",
    "\n",
    "reviews = pd.read_csv(\"../input/wine-reviews/winemag-data-130k-v2.csv\", index_col=0)\n",
    "\n",
    "from learntools.core import binder; binder.bind(globals())\n",
    "from learntools.pandas.renaming_and_combining import *\n",
    "print(\"Setup complete.\")"
   ]
  },
  {
   "cell_type": "markdown",
   "id": "9daf3e32",
   "metadata": {
    "papermill": {
     "duration": 0.015365,
     "end_time": "2022-03-21T20:27:46.963803",
     "exception": false,
     "start_time": "2022-03-21T20:27:46.948438",
     "status": "completed"
    },
    "tags": []
   },
   "source": [
    "# Exercises\n",
    "\n",
    "View the first several lines of your data by running the cell below:"
   ]
  },
  {
   "cell_type": "code",
   "execution_count": 2,
   "id": "83c87d26",
   "metadata": {
    "execution": {
     "iopub.execute_input": "2022-03-21T20:27:47.013365Z",
     "iopub.status.busy": "2022-03-21T20:27:47.012682Z",
     "iopub.status.idle": "2022-03-21T20:27:47.034526Z",
     "shell.execute_reply": "2022-03-21T20:27:47.035213Z",
     "shell.execute_reply.started": "2022-03-21T20:21:01.869317Z"
    },
    "papermill": {
     "duration": 0.054292,
     "end_time": "2022-03-21T20:27:47.035424",
     "exception": false,
     "start_time": "2022-03-21T20:27:46.981132",
     "status": "completed"
    },
    "tags": []
   },
   "outputs": [
    {
     "data": {
      "text/html": [
       "<div>\n",
       "<style scoped>\n",
       "    .dataframe tbody tr th:only-of-type {\n",
       "        vertical-align: middle;\n",
       "    }\n",
       "\n",
       "    .dataframe tbody tr th {\n",
       "        vertical-align: top;\n",
       "    }\n",
       "\n",
       "    .dataframe thead th {\n",
       "        text-align: right;\n",
       "    }\n",
       "</style>\n",
       "<table border=\"1\" class=\"dataframe\">\n",
       "  <thead>\n",
       "    <tr style=\"text-align: right;\">\n",
       "      <th></th>\n",
       "      <th>country</th>\n",
       "      <th>description</th>\n",
       "      <th>designation</th>\n",
       "      <th>points</th>\n",
       "      <th>price</th>\n",
       "      <th>province</th>\n",
       "      <th>region_1</th>\n",
       "      <th>region_2</th>\n",
       "      <th>taster_name</th>\n",
       "      <th>taster_twitter_handle</th>\n",
       "      <th>title</th>\n",
       "      <th>variety</th>\n",
       "      <th>winery</th>\n",
       "    </tr>\n",
       "  </thead>\n",
       "  <tbody>\n",
       "    <tr>\n",
       "      <th>0</th>\n",
       "      <td>Italy</td>\n",
       "      <td>Aromas include tropical fruit, broom, brimston...</td>\n",
       "      <td>Vulkà Bianco</td>\n",
       "      <td>87</td>\n",
       "      <td>NaN</td>\n",
       "      <td>Sicily &amp; Sardinia</td>\n",
       "      <td>Etna</td>\n",
       "      <td>NaN</td>\n",
       "      <td>Kerin O’Keefe</td>\n",
       "      <td>@kerinokeefe</td>\n",
       "      <td>Nicosia 2013 Vulkà Bianco  (Etna)</td>\n",
       "      <td>White Blend</td>\n",
       "      <td>Nicosia</td>\n",
       "    </tr>\n",
       "    <tr>\n",
       "      <th>1</th>\n",
       "      <td>Portugal</td>\n",
       "      <td>This is ripe and fruity, a wine that is smooth...</td>\n",
       "      <td>Avidagos</td>\n",
       "      <td>87</td>\n",
       "      <td>15.0</td>\n",
       "      <td>Douro</td>\n",
       "      <td>NaN</td>\n",
       "      <td>NaN</td>\n",
       "      <td>Roger Voss</td>\n",
       "      <td>@vossroger</td>\n",
       "      <td>Quinta dos Avidagos 2011 Avidagos Red (Douro)</td>\n",
       "      <td>Portuguese Red</td>\n",
       "      <td>Quinta dos Avidagos</td>\n",
       "    </tr>\n",
       "    <tr>\n",
       "      <th>2</th>\n",
       "      <td>US</td>\n",
       "      <td>Tart and snappy, the flavors of lime flesh and...</td>\n",
       "      <td>NaN</td>\n",
       "      <td>87</td>\n",
       "      <td>14.0</td>\n",
       "      <td>Oregon</td>\n",
       "      <td>Willamette Valley</td>\n",
       "      <td>Willamette Valley</td>\n",
       "      <td>Paul Gregutt</td>\n",
       "      <td>@paulgwine</td>\n",
       "      <td>Rainstorm 2013 Pinot Gris (Willamette Valley)</td>\n",
       "      <td>Pinot Gris</td>\n",
       "      <td>Rainstorm</td>\n",
       "    </tr>\n",
       "    <tr>\n",
       "      <th>3</th>\n",
       "      <td>US</td>\n",
       "      <td>Pineapple rind, lemon pith and orange blossom ...</td>\n",
       "      <td>Reserve Late Harvest</td>\n",
       "      <td>87</td>\n",
       "      <td>13.0</td>\n",
       "      <td>Michigan</td>\n",
       "      <td>Lake Michigan Shore</td>\n",
       "      <td>NaN</td>\n",
       "      <td>Alexander Peartree</td>\n",
       "      <td>NaN</td>\n",
       "      <td>St. Julian 2013 Reserve Late Harvest Riesling ...</td>\n",
       "      <td>Riesling</td>\n",
       "      <td>St. Julian</td>\n",
       "    </tr>\n",
       "    <tr>\n",
       "      <th>4</th>\n",
       "      <td>US</td>\n",
       "      <td>Much like the regular bottling from 2012, this...</td>\n",
       "      <td>Vintner's Reserve Wild Child Block</td>\n",
       "      <td>87</td>\n",
       "      <td>65.0</td>\n",
       "      <td>Oregon</td>\n",
       "      <td>Willamette Valley</td>\n",
       "      <td>Willamette Valley</td>\n",
       "      <td>Paul Gregutt</td>\n",
       "      <td>@paulgwine</td>\n",
       "      <td>Sweet Cheeks 2012 Vintner's Reserve Wild Child...</td>\n",
       "      <td>Pinot Noir</td>\n",
       "      <td>Sweet Cheeks</td>\n",
       "    </tr>\n",
       "  </tbody>\n",
       "</table>\n",
       "</div>"
      ],
      "text/plain": [
       "    country                                        description  \\\n",
       "0     Italy  Aromas include tropical fruit, broom, brimston...   \n",
       "1  Portugal  This is ripe and fruity, a wine that is smooth...   \n",
       "2        US  Tart and snappy, the flavors of lime flesh and...   \n",
       "3        US  Pineapple rind, lemon pith and orange blossom ...   \n",
       "4        US  Much like the regular bottling from 2012, this...   \n",
       "\n",
       "                          designation  points  price           province  \\\n",
       "0                        Vulkà Bianco      87    NaN  Sicily & Sardinia   \n",
       "1                            Avidagos      87   15.0              Douro   \n",
       "2                                 NaN      87   14.0             Oregon   \n",
       "3                Reserve Late Harvest      87   13.0           Michigan   \n",
       "4  Vintner's Reserve Wild Child Block      87   65.0             Oregon   \n",
       "\n",
       "              region_1           region_2         taster_name  \\\n",
       "0                 Etna                NaN       Kerin O’Keefe   \n",
       "1                  NaN                NaN          Roger Voss   \n",
       "2    Willamette Valley  Willamette Valley        Paul Gregutt   \n",
       "3  Lake Michigan Shore                NaN  Alexander Peartree   \n",
       "4    Willamette Valley  Willamette Valley        Paul Gregutt   \n",
       "\n",
       "  taster_twitter_handle                                              title  \\\n",
       "0          @kerinokeefe                  Nicosia 2013 Vulkà Bianco  (Etna)   \n",
       "1            @vossroger      Quinta dos Avidagos 2011 Avidagos Red (Douro)   \n",
       "2           @paulgwine       Rainstorm 2013 Pinot Gris (Willamette Valley)   \n",
       "3                   NaN  St. Julian 2013 Reserve Late Harvest Riesling ...   \n",
       "4           @paulgwine   Sweet Cheeks 2012 Vintner's Reserve Wild Child...   \n",
       "\n",
       "          variety               winery  \n",
       "0     White Blend              Nicosia  \n",
       "1  Portuguese Red  Quinta dos Avidagos  \n",
       "2      Pinot Gris            Rainstorm  \n",
       "3        Riesling           St. Julian  \n",
       "4      Pinot Noir         Sweet Cheeks  "
      ]
     },
     "execution_count": 2,
     "metadata": {},
     "output_type": "execute_result"
    }
   ],
   "source": [
    "reviews.head()"
   ]
  },
  {
   "cell_type": "markdown",
   "id": "9eb11ed3",
   "metadata": {
    "papermill": {
     "duration": 0.021088,
     "end_time": "2022-03-21T20:27:47.086793",
     "exception": false,
     "start_time": "2022-03-21T20:27:47.065705",
     "status": "completed"
    },
    "tags": []
   },
   "source": [
    "## 1.\n",
    "`region_1` and `region_2` are pretty uninformative names for locale columns in the dataset. Create a copy of `reviews` with these columns renamed to `region` and `locale`, respectively."
   ]
  },
  {
   "cell_type": "code",
   "execution_count": 3,
   "id": "927cda48",
   "metadata": {
    "execution": {
     "iopub.execute_input": "2022-03-21T20:27:47.137780Z",
     "iopub.status.busy": "2022-03-21T20:27:47.123706Z",
     "iopub.status.idle": "2022-03-21T20:27:47.146970Z",
     "shell.execute_reply": "2022-03-21T20:27:47.147404Z",
     "shell.execute_reply.started": "2022-03-21T20:22:58.588335Z"
    },
    "papermill": {
     "duration": 0.044267,
     "end_time": "2022-03-21T20:27:47.147541",
     "exception": false,
     "start_time": "2022-03-21T20:27:47.103274",
     "status": "completed"
    },
    "tags": []
   },
   "outputs": [
    {
     "data": {
      "application/javascript": [
       "parent.postMessage({\"jupyterEvent\": \"custom.exercise_interaction\", \"data\": {\"outcomeType\": 1, \"valueTowardsCompletion\": 0.25, \"interactionType\": 1, \"questionType\": 1, \"questionId\": \"1_RenameCols\", \"learnToolsVersion\": \"0.3.4\", \"failureMessage\": \"\", \"exceptionClass\": \"\", \"trace\": \"\"}}, \"*\")"
      ],
      "text/plain": [
       "<IPython.core.display.Javascript object>"
      ]
     },
     "metadata": {},
     "output_type": "display_data"
    },
    {
     "data": {
      "text/markdown": [
       "<span style=\"color:#33cc33\">Correct</span>"
      ],
      "text/plain": [
       "Correct"
      ]
     },
     "metadata": {},
     "output_type": "display_data"
    }
   ],
   "source": [
    "# Your code here\n",
    "renamed = reviews.rename(columns={'region_1': 'region', 'region_2' : \"locale\"})\n",
    "\n",
    "# Check your answer\n",
    "q1.check()"
   ]
  },
  {
   "cell_type": "code",
   "execution_count": 4,
   "id": "2e16e182",
   "metadata": {
    "execution": {
     "iopub.execute_input": "2022-03-21T20:27:47.190756Z",
     "iopub.status.busy": "2022-03-21T20:27:47.190237Z",
     "iopub.status.idle": "2022-03-21T20:27:47.193722Z",
     "shell.execute_reply": "2022-03-21T20:27:47.194129Z"
    },
    "papermill": {
     "duration": 0.028088,
     "end_time": "2022-03-21T20:27:47.194287",
     "exception": false,
     "start_time": "2022-03-21T20:27:47.166199",
     "status": "completed"
    },
    "tags": []
   },
   "outputs": [],
   "source": [
    "#q1.hint()\n",
    "#q1.solution()"
   ]
  },
  {
   "cell_type": "markdown",
   "id": "f8b1d8fb",
   "metadata": {
    "papermill": {
     "duration": 0.017025,
     "end_time": "2022-03-21T20:27:47.229459",
     "exception": false,
     "start_time": "2022-03-21T20:27:47.212434",
     "status": "completed"
    },
    "tags": []
   },
   "source": [
    "## 2.\n",
    "Set the index name in the dataset to `wines`."
   ]
  },
  {
   "cell_type": "code",
   "execution_count": 5,
   "id": "cb1395fe",
   "metadata": {
    "execution": {
     "iopub.execute_input": "2022-03-21T20:27:47.269114Z",
     "iopub.status.busy": "2022-03-21T20:27:47.268467Z",
     "iopub.status.idle": "2022-03-21T20:27:47.285725Z",
     "shell.execute_reply": "2022-03-21T20:27:47.286079Z",
     "shell.execute_reply.started": "2022-03-21T20:24:58.719395Z"
    },
    "papermill": {
     "duration": 0.038937,
     "end_time": "2022-03-21T20:27:47.286244",
     "exception": false,
     "start_time": "2022-03-21T20:27:47.247307",
     "status": "completed"
    },
    "tags": []
   },
   "outputs": [
    {
     "data": {
      "application/javascript": [
       "parent.postMessage({\"jupyterEvent\": \"custom.exercise_interaction\", \"data\": {\"outcomeType\": 1, \"valueTowardsCompletion\": 0.25, \"interactionType\": 1, \"questionType\": 1, \"questionId\": \"2_RenameIndex\", \"learnToolsVersion\": \"0.3.4\", \"failureMessage\": \"\", \"exceptionClass\": \"\", \"trace\": \"\"}}, \"*\")"
      ],
      "text/plain": [
       "<IPython.core.display.Javascript object>"
      ]
     },
     "metadata": {},
     "output_type": "display_data"
    },
    {
     "data": {
      "text/markdown": [
       "<span style=\"color:#33cc33\">Correct</span>"
      ],
      "text/plain": [
       "Correct"
      ]
     },
     "metadata": {},
     "output_type": "display_data"
    }
   ],
   "source": [
    "reindexed = reviews.rename_axis(\"wines\", axis='rows')\n",
    "\n",
    "# Check your answer\n",
    "q2.check()"
   ]
  },
  {
   "cell_type": "code",
   "execution_count": 6,
   "id": "54d6467f",
   "metadata": {
    "execution": {
     "iopub.execute_input": "2022-03-21T20:27:47.325382Z",
     "iopub.status.busy": "2022-03-21T20:27:47.324666Z",
     "iopub.status.idle": "2022-03-21T20:27:47.327508Z",
     "shell.execute_reply": "2022-03-21T20:27:47.327904Z",
     "shell.execute_reply.started": "2022-03-21T20:25:09.876327Z"
    },
    "papermill": {
     "duration": 0.023507,
     "end_time": "2022-03-21T20:27:47.328048",
     "exception": false,
     "start_time": "2022-03-21T20:27:47.304541",
     "status": "completed"
    },
    "tags": []
   },
   "outputs": [],
   "source": [
    "#q2.hint()\n",
    "#q2.solution()"
   ]
  },
  {
   "cell_type": "markdown",
   "id": "06bd40c1",
   "metadata": {
    "papermill": {
     "duration": 0.017608,
     "end_time": "2022-03-21T20:27:47.363677",
     "exception": false,
     "start_time": "2022-03-21T20:27:47.346069",
     "status": "completed"
    },
    "tags": []
   },
   "source": [
    "## 3.\n",
    "The [Things on Reddit](https://www.kaggle.com/residentmario/things-on-reddit/data) dataset includes product links from a selection of top-ranked forums (\"subreddits\") on reddit.com. Run the cell below to load a dataframe of products mentioned on the */r/gaming* subreddit and another dataframe for products mentioned on the *r//movies* subreddit."
   ]
  },
  {
   "cell_type": "code",
   "execution_count": 7,
   "id": "81a38eee",
   "metadata": {
    "execution": {
     "iopub.execute_input": "2022-03-21T20:27:47.402180Z",
     "iopub.status.busy": "2022-03-21T20:27:47.401526Z",
     "iopub.status.idle": "2022-03-21T20:27:47.415270Z",
     "shell.execute_reply": "2022-03-21T20:27:47.415718Z"
    },
    "papermill": {
     "duration": 0.033801,
     "end_time": "2022-03-21T20:27:47.415858",
     "exception": false,
     "start_time": "2022-03-21T20:27:47.382057",
     "status": "completed"
    },
    "tags": []
   },
   "outputs": [],
   "source": [
    "gaming_products = pd.read_csv(\"../input/things-on-reddit/top-things/top-things/reddits/g/gaming.csv\")\n",
    "gaming_products['subreddit'] = \"r/gaming\"\n",
    "movie_products = pd.read_csv(\"../input/things-on-reddit/top-things/top-things/reddits/m/movies.csv\")\n",
    "movie_products['subreddit'] = \"r/movies\""
   ]
  },
  {
   "cell_type": "markdown",
   "id": "9fa46471",
   "metadata": {
    "papermill": {
     "duration": 0.018029,
     "end_time": "2022-03-21T20:27:47.452003",
     "exception": false,
     "start_time": "2022-03-21T20:27:47.433974",
     "status": "completed"
    },
    "tags": []
   },
   "source": [
    "Create a `DataFrame` of products mentioned on *either* subreddit."
   ]
  },
  {
   "cell_type": "code",
   "execution_count": 8,
   "id": "3762e877",
   "metadata": {
    "execution": {
     "iopub.execute_input": "2022-03-21T20:27:47.493681Z",
     "iopub.status.busy": "2022-03-21T20:27:47.492885Z",
     "iopub.status.idle": "2022-03-21T20:27:47.497235Z",
     "shell.execute_reply": "2022-03-21T20:27:47.497830Z"
    },
    "papermill": {
     "duration": 0.027676,
     "end_time": "2022-03-21T20:27:47.498018",
     "exception": false,
     "start_time": "2022-03-21T20:27:47.470342",
     "status": "completed"
    },
    "tags": []
   },
   "outputs": [
    {
     "data": {
      "application/javascript": [
       "parent.postMessage({\"jupyterEvent\": \"custom.exercise_interaction\", \"data\": {\"outcomeType\": 4, \"interactionType\": 1, \"questionType\": 2, \"questionId\": \"3_ConcatReddit\", \"learnToolsVersion\": \"0.3.4\", \"valueTowardsCompletion\": 0.0, \"failureMessage\": \"\", \"exceptionClass\": \"\", \"trace\": \"\"}}, \"*\")"
      ],
      "text/plain": [
       "<IPython.core.display.Javascript object>"
      ]
     },
     "metadata": {},
     "output_type": "display_data"
    },
    {
     "data": {
      "text/markdown": [
       "<span style=\"color:#ccaa33\">Check:</span> When you've updated the starter code, `check()` will tell you whether your code is correct. You need to update the code that creates variable `combined_products`"
      ],
      "text/plain": [
       "Check: When you've updated the starter code, `check()` will tell you whether your code is correct. You need to update the code that creates variable `combined_products`"
      ]
     },
     "metadata": {},
     "output_type": "display_data"
    }
   ],
   "source": [
    "combined_products = ____\n",
    "\n",
    "# Check your answer\n",
    "q3.check()"
   ]
  },
  {
   "cell_type": "code",
   "execution_count": 9,
   "id": "06f79381",
   "metadata": {
    "execution": {
     "iopub.execute_input": "2022-03-21T20:27:47.549872Z",
     "iopub.status.busy": "2022-03-21T20:27:47.549134Z",
     "iopub.status.idle": "2022-03-21T20:27:47.551299Z",
     "shell.execute_reply": "2022-03-21T20:27:47.550809Z"
    },
    "papermill": {
     "duration": 0.027199,
     "end_time": "2022-03-21T20:27:47.551407",
     "exception": false,
     "start_time": "2022-03-21T20:27:47.524208",
     "status": "completed"
    },
    "tags": []
   },
   "outputs": [],
   "source": [
    "#q3.hint()\n",
    "#q3.solution()"
   ]
  },
  {
   "cell_type": "markdown",
   "id": "18288aa1",
   "metadata": {
    "papermill": {
     "duration": 0.018946,
     "end_time": "2022-03-21T20:27:47.589841",
     "exception": false,
     "start_time": "2022-03-21T20:27:47.570895",
     "status": "completed"
    },
    "tags": []
   },
   "source": [
    "## 4.\n",
    "The [Powerlifting Database](https://www.kaggle.com/open-powerlifting/powerlifting-database) dataset on Kaggle includes one CSV table for powerlifting meets and a separate one for powerlifting competitors. Run the cell below to load these datasets into dataframes:"
   ]
  },
  {
   "cell_type": "code",
   "execution_count": 10,
   "id": "c80f9d4d",
   "metadata": {
    "execution": {
     "iopub.execute_input": "2022-03-21T20:27:47.634364Z",
     "iopub.status.busy": "2022-03-21T20:27:47.633821Z",
     "iopub.status.idle": "2022-03-21T20:27:48.135074Z",
     "shell.execute_reply": "2022-03-21T20:27:48.134534Z"
    },
    "papermill": {
     "duration": 0.526172,
     "end_time": "2022-03-21T20:27:48.135202",
     "exception": false,
     "start_time": "2022-03-21T20:27:47.609030",
     "status": "completed"
    },
    "tags": []
   },
   "outputs": [],
   "source": [
    "powerlifting_meets = pd.read_csv(\"../input/powerlifting-database/meets.csv\")\n",
    "powerlifting_competitors = pd.read_csv(\"../input/powerlifting-database/openpowerlifting.csv\")"
   ]
  },
  {
   "cell_type": "markdown",
   "id": "73ffaafa",
   "metadata": {
    "papermill": {
     "duration": 0.019444,
     "end_time": "2022-03-21T20:27:48.174208",
     "exception": false,
     "start_time": "2022-03-21T20:27:48.154764",
     "status": "completed"
    },
    "tags": []
   },
   "source": [
    "Both tables include references to a `MeetID`, a unique key for each meet (competition) included in the database. Using this, generate a dataset combining the two tables into one."
   ]
  },
  {
   "cell_type": "code",
   "execution_count": 11,
   "id": "2a331ed5",
   "metadata": {
    "execution": {
     "iopub.execute_input": "2022-03-21T20:27:48.217204Z",
     "iopub.status.busy": "2022-03-21T20:27:48.216702Z",
     "iopub.status.idle": "2022-03-21T20:27:48.219460Z",
     "shell.execute_reply": "2022-03-21T20:27:48.219827Z"
    },
    "papermill": {
     "duration": 0.026335,
     "end_time": "2022-03-21T20:27:48.219942",
     "exception": false,
     "start_time": "2022-03-21T20:27:48.193607",
     "status": "completed"
    },
    "tags": []
   },
   "outputs": [
    {
     "data": {
      "application/javascript": [
       "parent.postMessage({\"jupyterEvent\": \"custom.exercise_interaction\", \"data\": {\"outcomeType\": 4, \"interactionType\": 1, \"questionType\": 2, \"questionId\": \"4_JoinLifting\", \"learnToolsVersion\": \"0.3.4\", \"valueTowardsCompletion\": 0.0, \"failureMessage\": \"\", \"exceptionClass\": \"\", \"trace\": \"\"}}, \"*\")"
      ],
      "text/plain": [
       "<IPython.core.display.Javascript object>"
      ]
     },
     "metadata": {},
     "output_type": "display_data"
    },
    {
     "data": {
      "text/markdown": [
       "<span style=\"color:#ccaa33\">Check:</span> When you've updated the starter code, `check()` will tell you whether your code is correct. You need to update the code that creates variable `powerlifting_combined`"
      ],
      "text/plain": [
       "Check: When you've updated the starter code, `check()` will tell you whether your code is correct. You need to update the code that creates variable `powerlifting_combined`"
      ]
     },
     "metadata": {},
     "output_type": "display_data"
    }
   ],
   "source": [
    "powerlifting_combined = ____\n",
    "\n",
    "# Check your answer\n",
    "q4.check()"
   ]
  },
  {
   "cell_type": "code",
   "execution_count": 12,
   "id": "a60f9cd0",
   "metadata": {
    "execution": {
     "iopub.execute_input": "2022-03-21T20:27:48.263441Z",
     "iopub.status.busy": "2022-03-21T20:27:48.262756Z",
     "iopub.status.idle": "2022-03-21T20:27:48.266747Z",
     "shell.execute_reply": "2022-03-21T20:27:48.267140Z"
    },
    "papermill": {
     "duration": 0.027419,
     "end_time": "2022-03-21T20:27:48.267291",
     "exception": false,
     "start_time": "2022-03-21T20:27:48.239872",
     "status": "completed"
    },
    "tags": []
   },
   "outputs": [],
   "source": [
    "#q4.hint()\n",
    "#q4.solution()"
   ]
  },
  {
   "cell_type": "markdown",
   "id": "2dcd6526",
   "metadata": {
    "papermill": {
     "duration": 0.021198,
     "end_time": "2022-03-21T20:27:48.309749",
     "exception": false,
     "start_time": "2022-03-21T20:27:48.288551",
     "status": "completed"
    },
    "tags": []
   },
   "source": [
    "# Congratulations!\n",
    "\n",
    "You've finished the Pandas micro-course.  Many data scientists feel efficiency with Pandas is the most useful and practical skill they have, because it allows you to progress quickly in any project you have.\n",
    "\n",
    "If you'd like to apply your new skills to examining geospatial data, you're encouraged to check out our **[Geospatial Analysis](https://www.kaggle.com/learn/geospatial-analysis)** micro-course.\n",
    "\n",
    "You can also take advantage of your Pandas skills by entering a **[Kaggle Competition](https://www.kaggle.com/competitions)** or by answering a question you find interesting using **[Kaggle Datasets](https://www.kaggle.com/datasets)**."
   ]
  },
  {
   "cell_type": "markdown",
   "id": "fc5c984f",
   "metadata": {
    "papermill": {
     "duration": 0.021264,
     "end_time": "2022-03-21T20:27:48.352341",
     "exception": false,
     "start_time": "2022-03-21T20:27:48.331077",
     "status": "completed"
    },
    "tags": []
   },
   "source": [
    "---\n",
    "\n",
    "\n",
    "\n",
    "\n",
    "*Have questions or comments? Visit the [course discussion forum](https://www.kaggle.com/learn/pandas/discussion) to chat with other learners.*"
   ]
  }
 ],
 "metadata": {
  "kernelspec": {
   "display_name": "Python 3",
   "language": "python",
   "name": "python3"
  },
  "language_info": {
   "codemirror_mode": {
    "name": "ipython",
    "version": 3
   },
   "file_extension": ".py",
   "mimetype": "text/x-python",
   "name": "python",
   "nbconvert_exporter": "python",
   "pygments_lexer": "ipython3",
   "version": "3.7.12"
  },
  "papermill": {
   "default_parameters": {},
   "duration": 14.717576,
   "end_time": "2022-03-21T20:27:49.083558",
   "environment_variables": {},
   "exception": null,
   "input_path": "__notebook__.ipynb",
   "output_path": "__notebook__.ipynb",
   "parameters": {},
   "start_time": "2022-03-21T20:27:34.365982",
   "version": "2.3.3"
  }
 },
 "nbformat": 4,
 "nbformat_minor": 5
}
