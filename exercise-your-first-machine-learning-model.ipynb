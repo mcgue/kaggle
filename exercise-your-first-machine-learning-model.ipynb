{
 "cells": [
  {
   "cell_type": "markdown",
   "id": "1c762595",
   "metadata": {
    "papermill": {
     "duration": 0.020975,
     "end_time": "2022-03-08T19:13:27.608314",
     "exception": false,
     "start_time": "2022-03-08T19:13:27.587339",
     "status": "completed"
    },
    "tags": []
   },
   "source": [
    "**This notebook is an exercise in the [Introduction to Machine Learning](https://www.kaggle.com/learn/intro-to-machine-learning) course.  You can reference the tutorial at [this link](https://www.kaggle.com/dansbecker/your-first-machine-learning-model).**\n",
    "\n",
    "---\n"
   ]
  },
  {
   "cell_type": "markdown",
   "id": "b2a844d7",
   "metadata": {
    "papermill": {
     "duration": 0.019415,
     "end_time": "2022-03-08T19:13:27.649204",
     "exception": false,
     "start_time": "2022-03-08T19:13:27.629789",
     "status": "completed"
    },
    "tags": []
   },
   "source": [
    "## Recap\n",
    "So far, you have loaded your data and reviewed it with the following code. Run this cell to set up your coding environment where the previous step left off."
   ]
  },
  {
   "cell_type": "code",
   "execution_count": 1,
   "id": "43e2c12d",
   "metadata": {
    "execution": {
     "iopub.execute_input": "2022-03-08T19:13:27.693441Z",
     "iopub.status.busy": "2022-03-08T19:13:27.692189Z",
     "iopub.status.idle": "2022-03-08T19:13:29.181164Z",
     "shell.execute_reply": "2022-03-08T19:13:29.180351Z",
     "shell.execute_reply.started": "2022-03-08T19:11:54.610936Z"
    },
    "papermill": {
     "duration": 1.513207,
     "end_time": "2022-03-08T19:13:29.181353",
     "exception": false,
     "start_time": "2022-03-08T19:13:27.668146",
     "status": "completed"
    },
    "tags": []
   },
   "outputs": [
    {
     "name": "stdout",
     "output_type": "stream",
     "text": [
      "Setup Complete\n"
     ]
    }
   ],
   "source": [
    "# Code you have previously used to load data\n",
    "import pandas as pd\n",
    "\n",
    "# Path of the file to read\n",
    "iowa_file_path = '../input/home-data-for-ml-course/train.csv'\n",
    "\n",
    "home_data = pd.read_csv(iowa_file_path)\n",
    "\n",
    "# Set up code checking\n",
    "from learntools.core import binder\n",
    "binder.bind(globals())\n",
    "from learntools.machine_learning.ex3 import *\n",
    "\n",
    "print(\"Setup Complete\")"
   ]
  },
  {
   "cell_type": "markdown",
   "id": "9b445009",
   "metadata": {
    "papermill": {
     "duration": 0.019972,
     "end_time": "2022-03-08T19:13:29.221611",
     "exception": false,
     "start_time": "2022-03-08T19:13:29.201639",
     "status": "completed"
    },
    "tags": []
   },
   "source": [
    "# Exercises\n",
    "\n",
    "## Step 1: Specify Prediction Target\n",
    "Select the target variable, which corresponds to the sales price. Save this to a new variable called `y`. You'll need to print a list of the columns to find the name of the column you need.\n"
   ]
  },
  {
   "cell_type": "code",
   "execution_count": 2,
   "id": "c3229f80",
   "metadata": {
    "execution": {
     "iopub.execute_input": "2022-03-08T19:13:29.270472Z",
     "iopub.status.busy": "2022-03-08T19:13:29.269683Z",
     "iopub.status.idle": "2022-03-08T19:13:29.273123Z",
     "shell.execute_reply": "2022-03-08T19:13:29.273651Z",
     "shell.execute_reply.started": "2022-03-08T19:11:55.850397Z"
    },
    "papermill": {
     "duration": 0.033032,
     "end_time": "2022-03-08T19:13:29.273848",
     "exception": false,
     "start_time": "2022-03-08T19:13:29.240816",
     "status": "completed"
    },
    "tags": []
   },
   "outputs": [
    {
     "data": {
      "text/plain": [
       "Index(['Id', 'MSSubClass', 'MSZoning', 'LotFrontage', 'LotArea', 'Street',\n",
       "       'Alley', 'LotShape', 'LandContour', 'Utilities', 'LotConfig',\n",
       "       'LandSlope', 'Neighborhood', 'Condition1', 'Condition2', 'BldgType',\n",
       "       'HouseStyle', 'OverallQual', 'OverallCond', 'YearBuilt', 'YearRemodAdd',\n",
       "       'RoofStyle', 'RoofMatl', 'Exterior1st', 'Exterior2nd', 'MasVnrType',\n",
       "       'MasVnrArea', 'ExterQual', 'ExterCond', 'Foundation', 'BsmtQual',\n",
       "       'BsmtCond', 'BsmtExposure', 'BsmtFinType1', 'BsmtFinSF1',\n",
       "       'BsmtFinType2', 'BsmtFinSF2', 'BsmtUnfSF', 'TotalBsmtSF', 'Heating',\n",
       "       'HeatingQC', 'CentralAir', 'Electrical', '1stFlrSF', '2ndFlrSF',\n",
       "       'LowQualFinSF', 'GrLivArea', 'BsmtFullBath', 'BsmtHalfBath', 'FullBath',\n",
       "       'HalfBath', 'BedroomAbvGr', 'KitchenAbvGr', 'KitchenQual',\n",
       "       'TotRmsAbvGrd', 'Functional', 'Fireplaces', 'FireplaceQu', 'GarageType',\n",
       "       'GarageYrBlt', 'GarageFinish', 'GarageCars', 'GarageArea', 'GarageQual',\n",
       "       'GarageCond', 'PavedDrive', 'WoodDeckSF', 'OpenPorchSF',\n",
       "       'EnclosedPorch', '3SsnPorch', 'ScreenPorch', 'PoolArea', 'PoolQC',\n",
       "       'Fence', 'MiscFeature', 'MiscVal', 'MoSold', 'YrSold', 'SaleType',\n",
       "       'SaleCondition', 'SalePrice'],\n",
       "      dtype='object')"
      ]
     },
     "execution_count": 2,
     "metadata": {},
     "output_type": "execute_result"
    }
   ],
   "source": [
    "# print the list of columns in the dataset to find the name of the prediction target\n",
    "home_data.columns\n"
   ]
  },
  {
   "cell_type": "code",
   "execution_count": 3,
   "id": "97f6c983",
   "metadata": {
    "execution": {
     "iopub.execute_input": "2022-03-08T19:13:29.320514Z",
     "iopub.status.busy": "2022-03-08T19:13:29.319765Z",
     "iopub.status.idle": "2022-03-08T19:13:29.332837Z",
     "shell.execute_reply": "2022-03-08T19:13:29.333421Z",
     "shell.execute_reply.started": "2022-03-08T19:12:01.701606Z"
    },
    "papermill": {
     "duration": 0.037546,
     "end_time": "2022-03-08T19:13:29.333641",
     "exception": false,
     "start_time": "2022-03-08T19:13:29.296095",
     "status": "completed"
    },
    "tags": []
   },
   "outputs": [
    {
     "data": {
      "application/javascript": [
       "parent.postMessage({\"jupyterEvent\": \"custom.exercise_interaction\", \"data\": {\"outcomeType\": 1, \"valueTowardsCompletion\": 0.25, \"interactionType\": 1, \"questionType\": 2, \"questionId\": \"1_SetTarget\", \"learnToolsVersion\": \"0.3.4\", \"failureMessage\": \"\", \"exceptionClass\": \"\", \"trace\": \"\"}}, \"*\")"
      ],
      "text/plain": [
       "<IPython.core.display.Javascript object>"
      ]
     },
     "metadata": {},
     "output_type": "display_data"
    },
    {
     "data": {
      "text/markdown": [
       "<span style=\"color:#33cc33\">Correct</span>"
      ],
      "text/plain": [
       "Correct"
      ]
     },
     "metadata": {},
     "output_type": "display_data"
    }
   ],
   "source": [
    "y = home_data.SalePrice\n",
    "\n",
    "# Check your answer\n",
    "step_1.check()"
   ]
  },
  {
   "cell_type": "code",
   "execution_count": 4,
   "id": "4febfcfa",
   "metadata": {
    "collapsed": true,
    "execution": {
     "iopub.execute_input": "2022-03-08T19:13:29.380661Z",
     "iopub.status.busy": "2022-03-08T19:13:29.380000Z",
     "iopub.status.idle": "2022-03-08T19:13:29.383275Z",
     "shell.execute_reply": "2022-03-08T19:13:29.383991Z"
    },
    "jupyter": {
     "outputs_hidden": true
    },
    "papermill": {
     "duration": 0.029356,
     "end_time": "2022-03-08T19:13:29.384244",
     "exception": false,
     "start_time": "2022-03-08T19:13:29.354888",
     "status": "completed"
    },
    "tags": []
   },
   "outputs": [],
   "source": [
    "# The lines below will show you a hint or the solution.\n",
    "# step_1.hint() \n",
    "# step_1.solution()"
   ]
  },
  {
   "cell_type": "markdown",
   "id": "ab5cab16",
   "metadata": {
    "papermill": {
     "duration": 0.020458,
     "end_time": "2022-03-08T19:13:29.425737",
     "exception": false,
     "start_time": "2022-03-08T19:13:29.405279",
     "status": "completed"
    },
    "tags": []
   },
   "source": [
    "## Step 2: Create X\n",
    "Now you will create a DataFrame called `X` holding the predictive features.\n",
    "\n",
    "Since you want only some columns from the original data, you'll first create a list with the names of the columns you want in `X`.\n",
    "\n",
    "You'll use just the following columns in the list (you can copy and paste the whole list to save some typing, though you'll still need to add quotes):\n",
    "  * LotArea\n",
    "  * YearBuilt\n",
    "  * 1stFlrSF\n",
    "  * 2ndFlrSF\n",
    "  * FullBath\n",
    "  * BedroomAbvGr\n",
    "  * TotRmsAbvGrd\n",
    "\n",
    "After you've created that list of features, use it to create the DataFrame that you'll use to fit the model."
   ]
  },
  {
   "cell_type": "code",
   "execution_count": 5,
   "id": "f1b47a09",
   "metadata": {
    "execution": {
     "iopub.execute_input": "2022-03-08T19:13:29.472283Z",
     "iopub.status.busy": "2022-03-08T19:13:29.471467Z",
     "iopub.status.idle": "2022-03-08T19:13:29.487000Z",
     "shell.execute_reply": "2022-03-08T19:13:29.486314Z",
     "shell.execute_reply.started": "2022-03-08T19:12:23.031522Z"
    },
    "papermill": {
     "duration": 0.04033,
     "end_time": "2022-03-08T19:13:29.487169",
     "exception": false,
     "start_time": "2022-03-08T19:13:29.446839",
     "status": "completed"
    },
    "tags": []
   },
   "outputs": [
    {
     "data": {
      "application/javascript": [
       "parent.postMessage({\"jupyterEvent\": \"custom.exercise_interaction\", \"data\": {\"outcomeType\": 1, \"valueTowardsCompletion\": 0.25, \"interactionType\": 1, \"questionType\": 2, \"questionId\": \"2_SelectPredictionData\", \"learnToolsVersion\": \"0.3.4\", \"failureMessage\": \"\", \"exceptionClass\": \"\", \"trace\": \"\"}}, \"*\")"
      ],
      "text/plain": [
       "<IPython.core.display.Javascript object>"
      ]
     },
     "metadata": {},
     "output_type": "display_data"
    },
    {
     "data": {
      "text/markdown": [
       "<span style=\"color:#33cc33\">Correct</span>"
      ],
      "text/plain": [
       "Correct"
      ]
     },
     "metadata": {},
     "output_type": "display_data"
    }
   ],
   "source": [
    "# Create the list of features below\n",
    "feature_names = [\"LotArea\", \"YearBuilt\", \"1stFlrSF\", \"2ndFlrSF\",\n",
    "                      \"FullBath\", \"BedroomAbvGr\", \"TotRmsAbvGrd\"]\n",
    "# Select data corresponding to features in feature_names\n",
    "X = home_data[feature_names]\n",
    "\n",
    "# Check your answer\n",
    "step_2.check()"
   ]
  },
  {
   "cell_type": "code",
   "execution_count": 6,
   "id": "c8f41d2c",
   "metadata": {
    "execution": {
     "iopub.execute_input": "2022-03-08T19:13:29.537653Z",
     "iopub.status.busy": "2022-03-08T19:13:29.536939Z",
     "iopub.status.idle": "2022-03-08T19:13:29.539436Z",
     "shell.execute_reply": "2022-03-08T19:13:29.540011Z",
     "shell.execute_reply.started": "2022-03-07T03:35:21.277763Z"
    },
    "papermill": {
     "duration": 0.030401,
     "end_time": "2022-03-08T19:13:29.540213",
     "exception": false,
     "start_time": "2022-03-08T19:13:29.509812",
     "status": "completed"
    },
    "tags": []
   },
   "outputs": [],
   "source": [
    "# step_2.hint()\n",
    "#step_2.solution()"
   ]
  },
  {
   "cell_type": "markdown",
   "id": "a8653f58",
   "metadata": {
    "papermill": {
     "duration": 0.024316,
     "end_time": "2022-03-08T19:13:29.587030",
     "exception": false,
     "start_time": "2022-03-08T19:13:29.562714",
     "status": "completed"
    },
    "tags": []
   },
   "source": [
    "## Review Data\n",
    "Before building a model, take a quick look at **X** to verify it looks sensible"
   ]
  },
  {
   "cell_type": "code",
   "execution_count": 7,
   "id": "d38b12e9",
   "metadata": {
    "execution": {
     "iopub.execute_input": "2022-03-08T19:13:29.638820Z",
     "iopub.status.busy": "2022-03-08T19:13:29.638044Z",
     "iopub.status.idle": "2022-03-08T19:13:29.645912Z",
     "shell.execute_reply": "2022-03-08T19:13:29.646438Z",
     "shell.execute_reply.started": "2022-03-08T19:12:31.105150Z"
    },
    "papermill": {
     "duration": 0.0376,
     "end_time": "2022-03-08T19:13:29.646654",
     "exception": false,
     "start_time": "2022-03-08T19:13:29.609054",
     "status": "completed"
    },
    "tags": []
   },
   "outputs": [
    {
     "data": {
      "text/plain": [
       "<bound method NDFrame.head of       LotArea  YearBuilt  1stFlrSF  2ndFlrSF  FullBath  BedroomAbvGr  \\\n",
       "0        8450       2003       856       854         2             3   \n",
       "1        9600       1976      1262         0         2             3   \n",
       "2       11250       2001       920       866         2             3   \n",
       "3        9550       1915       961       756         1             3   \n",
       "4       14260       2000      1145      1053         2             4   \n",
       "...       ...        ...       ...       ...       ...           ...   \n",
       "1455     7917       1999       953       694         2             3   \n",
       "1456    13175       1978      2073         0         2             3   \n",
       "1457     9042       1941      1188      1152         2             4   \n",
       "1458     9717       1950      1078         0         1             2   \n",
       "1459     9937       1965      1256         0         1             3   \n",
       "\n",
       "      TotRmsAbvGrd  \n",
       "0                8  \n",
       "1                6  \n",
       "2                6  \n",
       "3                7  \n",
       "4                9  \n",
       "...            ...  \n",
       "1455             7  \n",
       "1456             7  \n",
       "1457             9  \n",
       "1458             5  \n",
       "1459             6  \n",
       "\n",
       "[1460 rows x 7 columns]>"
      ]
     },
     "execution_count": 7,
     "metadata": {},
     "output_type": "execute_result"
    }
   ],
   "source": [
    "# Review data\n",
    "# print description or statistics from X\n",
    "#print()\n",
    "X.describe\n",
    "\n",
    "# print the top few lines\n",
    "#print()\n",
    "X.head"
   ]
  },
  {
   "cell_type": "markdown",
   "id": "6d5fa98f",
   "metadata": {
    "papermill": {
     "duration": 0.022106,
     "end_time": "2022-03-08T19:13:29.691365",
     "exception": false,
     "start_time": "2022-03-08T19:13:29.669259",
     "status": "completed"
    },
    "tags": []
   },
   "source": [
    "## Step 3: Specify and Fit Model\n",
    "Create a `DecisionTreeRegressor` and save it iowa_model. Ensure you've done the relevant import from sklearn to run this command.\n",
    "\n",
    "Then fit the model you just created using the data in `X` and `y` that you saved above."
   ]
  },
  {
   "cell_type": "code",
   "execution_count": 8,
   "id": "5d41023a",
   "metadata": {
    "collapsed": true,
    "execution": {
     "iopub.execute_input": "2022-03-08T19:13:29.742932Z",
     "iopub.status.busy": "2022-03-08T19:13:29.742012Z",
     "iopub.status.idle": "2022-03-08T19:13:29.748762Z",
     "shell.execute_reply": "2022-03-08T19:13:29.749323Z"
    },
    "jupyter": {
     "outputs_hidden": true
    },
    "papermill": {
     "duration": 0.03542,
     "end_time": "2022-03-08T19:13:29.749518",
     "exception": false,
     "start_time": "2022-03-08T19:13:29.714098",
     "status": "completed"
    },
    "tags": []
   },
   "outputs": [
    {
     "data": {
      "application/javascript": [
       "parent.postMessage({\"jupyterEvent\": \"custom.exercise_interaction\", \"data\": {\"outcomeType\": 4, \"interactionType\": 1, \"questionType\": 2, \"questionId\": \"3_CreateModel\", \"learnToolsVersion\": \"0.3.4\", \"valueTowardsCompletion\": 0.0, \"failureMessage\": \"\", \"exceptionClass\": \"\", \"trace\": \"\"}}, \"*\")"
      ],
      "text/plain": [
       "<IPython.core.display.Javascript object>"
      ]
     },
     "metadata": {},
     "output_type": "display_data"
    },
    {
     "data": {
      "text/markdown": [
       "<span style=\"color:#ccaa33\">Check:</span> When you've updated the starter code, `check()` will tell you whether your code is correct. You need to update the code that creates variable `iowa_model`"
      ],
      "text/plain": [
       "Check: When you've updated the starter code, `check()` will tell you whether your code is correct. You need to update the code that creates variable `iowa_model`"
      ]
     },
     "metadata": {},
     "output_type": "display_data"
    }
   ],
   "source": [
    "# from _ import _\n",
    "#specify the model. \n",
    "#For model reproducibility, set a numeric value for random_state when specifying the model\n",
    "iowa_model = ____\n",
    "\n",
    "# Fit the model\n",
    "____\n",
    "\n",
    "# Check your answer\n",
    "step_3.check()"
   ]
  },
  {
   "cell_type": "code",
   "execution_count": 9,
   "id": "f899f23e",
   "metadata": {
    "collapsed": true,
    "execution": {
     "iopub.execute_input": "2022-03-08T19:13:29.801611Z",
     "iopub.status.busy": "2022-03-08T19:13:29.800909Z",
     "iopub.status.idle": "2022-03-08T19:13:29.803528Z",
     "shell.execute_reply": "2022-03-08T19:13:29.804081Z"
    },
    "jupyter": {
     "outputs_hidden": true
    },
    "papermill": {
     "duration": 0.030697,
     "end_time": "2022-03-08T19:13:29.804288",
     "exception": false,
     "start_time": "2022-03-08T19:13:29.773591",
     "status": "completed"
    },
    "tags": []
   },
   "outputs": [],
   "source": [
    "# step_3.hint()\n",
    "# step_3.solution()"
   ]
  },
  {
   "cell_type": "markdown",
   "id": "f542ad8f",
   "metadata": {
    "papermill": {
     "duration": 0.023604,
     "end_time": "2022-03-08T19:13:29.852138",
     "exception": false,
     "start_time": "2022-03-08T19:13:29.828534",
     "status": "completed"
    },
    "tags": []
   },
   "source": [
    "## Step 4: Make Predictions\n",
    "Make predictions with the model's `predict` command using `X` as the data. Save the results to a variable called `predictions`."
   ]
  },
  {
   "cell_type": "code",
   "execution_count": 10,
   "id": "b079899b",
   "metadata": {
    "collapsed": true,
    "execution": {
     "iopub.execute_input": "2022-03-08T19:13:29.907998Z",
     "iopub.status.busy": "2022-03-08T19:13:29.906248Z",
     "iopub.status.idle": "2022-03-08T19:13:29.914198Z",
     "shell.execute_reply": "2022-03-08T19:13:29.913597Z"
    },
    "jupyter": {
     "outputs_hidden": true
    },
    "papermill": {
     "duration": 0.037183,
     "end_time": "2022-03-08T19:13:29.914365",
     "exception": false,
     "start_time": "2022-03-08T19:13:29.877182",
     "status": "completed"
    },
    "tags": []
   },
   "outputs": [
    {
     "name": "stdout",
     "output_type": "stream",
     "text": [
      "<learntools.core.constants.PlaceholderValue object at 0x7fba7398f0d0>\n"
     ]
    },
    {
     "data": {
      "application/javascript": [
       "parent.postMessage({\"jupyterEvent\": \"custom.exercise_interaction\", \"data\": {\"outcomeType\": 4, \"interactionType\": 1, \"questionType\": 2, \"questionId\": \"4_MakePredictions\", \"learnToolsVersion\": \"0.3.4\", \"valueTowardsCompletion\": 0.0, \"failureMessage\": \"\", \"exceptionClass\": \"\", \"trace\": \"\"}}, \"*\")"
      ],
      "text/plain": [
       "<IPython.core.display.Javascript object>"
      ]
     },
     "metadata": {},
     "output_type": "display_data"
    },
    {
     "data": {
      "text/markdown": [
       "<span style=\"color:#ccaa33\">Check:</span> When you've updated the starter code, `check()` will tell you whether your code is correct. You need to update the code that creates variables `predictions`, `iowa_model`, `X`"
      ],
      "text/plain": [
       "Check: When you've updated the starter code, `check()` will tell you whether your code is correct. You need to update the code that creates variables `predictions`, `iowa_model`, `X`"
      ]
     },
     "metadata": {},
     "output_type": "display_data"
    }
   ],
   "source": [
    "predictions = ____\n",
    "print(predictions)\n",
    "\n",
    "# Check your answer\n",
    "step_4.check()"
   ]
  },
  {
   "cell_type": "code",
   "execution_count": 11,
   "id": "60d81281",
   "metadata": {
    "collapsed": true,
    "execution": {
     "iopub.execute_input": "2022-03-08T19:13:29.971717Z",
     "iopub.status.busy": "2022-03-08T19:13:29.970931Z",
     "iopub.status.idle": "2022-03-08T19:13:29.974052Z",
     "shell.execute_reply": "2022-03-08T19:13:29.973444Z"
    },
    "jupyter": {
     "outputs_hidden": true
    },
    "papermill": {
     "duration": 0.033383,
     "end_time": "2022-03-08T19:13:29.974223",
     "exception": false,
     "start_time": "2022-03-08T19:13:29.940840",
     "status": "completed"
    },
    "tags": []
   },
   "outputs": [],
   "source": [
    "# step_4.hint()\n",
    "# step_4.solution()"
   ]
  },
  {
   "cell_type": "markdown",
   "id": "7b0f2b90",
   "metadata": {
    "papermill": {
     "duration": 0.026904,
     "end_time": "2022-03-08T19:13:30.027430",
     "exception": false,
     "start_time": "2022-03-08T19:13:30.000526",
     "status": "completed"
    },
    "tags": []
   },
   "source": [
    "## Think About Your Results\n",
    "\n",
    "Use the `head` method to compare the top few predictions to the actual home values (in `y`) for those same homes. Anything surprising?\n"
   ]
  },
  {
   "cell_type": "code",
   "execution_count": 12,
   "id": "091384b7",
   "metadata": {
    "execution": {
     "iopub.execute_input": "2022-03-08T19:13:30.085886Z",
     "iopub.status.busy": "2022-03-08T19:13:30.085108Z",
     "iopub.status.idle": "2022-03-08T19:13:30.087556Z",
     "shell.execute_reply": "2022-03-08T19:13:30.088111Z"
    },
    "papermill": {
     "duration": 0.034272,
     "end_time": "2022-03-08T19:13:30.088357",
     "exception": false,
     "start_time": "2022-03-08T19:13:30.054085",
     "status": "completed"
    },
    "tags": []
   },
   "outputs": [],
   "source": [
    "# You can write code in this cell\n"
   ]
  },
  {
   "cell_type": "markdown",
   "id": "41faa96a",
   "metadata": {
    "papermill": {
     "duration": 0.026023,
     "end_time": "2022-03-08T19:13:30.141646",
     "exception": false,
     "start_time": "2022-03-08T19:13:30.115623",
     "status": "completed"
    },
    "tags": []
   },
   "source": [
    "It's natural to ask how accurate the model's predictions will be and how you can improve that. That will be you're next step.\n",
    "\n",
    "# Keep Going\n",
    "\n",
    "You are ready for **[Model Validation](https://www.kaggle.com/dansbecker/model-validation).**\n"
   ]
  },
  {
   "cell_type": "markdown",
   "id": "3d3060d8",
   "metadata": {
    "papermill": {
     "duration": 0.026042,
     "end_time": "2022-03-08T19:13:30.194497",
     "exception": false,
     "start_time": "2022-03-08T19:13:30.168455",
     "status": "completed"
    },
    "tags": []
   },
   "source": [
    "---\n",
    "\n",
    "\n",
    "\n",
    "\n",
    "*Have questions or comments? Visit the [course discussion forum](https://www.kaggle.com/learn/intro-to-machine-learning/discussion) to chat with other learners.*"
   ]
  }
 ],
 "metadata": {
  "kernelspec": {
   "display_name": "Python 3",
   "language": "python",
   "name": "python3"
  },
  "language_info": {
   "codemirror_mode": {
    "name": "ipython",
    "version": 3
   },
   "file_extension": ".py",
   "mimetype": "text/x-python",
   "name": "python",
   "nbconvert_exporter": "python",
   "pygments_lexer": "ipython3",
   "version": "3.7.12"
  },
  "papermill": {
   "default_parameters": {},
   "duration": 14.456053,
   "end_time": "2022-03-08T19:13:31.234699",
   "environment_variables": {},
   "exception": null,
   "input_path": "__notebook__.ipynb",
   "output_path": "__notebook__.ipynb",
   "parameters": {},
   "start_time": "2022-03-08T19:13:16.778646",
   "version": "2.3.3"
  }
 },
 "nbformat": 4,
 "nbformat_minor": 5
}
