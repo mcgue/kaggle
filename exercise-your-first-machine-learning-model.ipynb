{
 "cells": [
  {
   "cell_type": "markdown",
   "id": "8e86b6e2",
   "metadata": {
    "papermill": {
     "duration": 0.020356,
     "end_time": "2022-03-08T22:08:22.719655",
     "exception": false,
     "start_time": "2022-03-08T22:08:22.699299",
     "status": "completed"
    },
    "tags": []
   },
   "source": [
    "**This notebook is an exercise in the [Introduction to Machine Learning](https://www.kaggle.com/learn/intro-to-machine-learning) course.  You can reference the tutorial at [this link](https://www.kaggle.com/dansbecker/your-first-machine-learning-model).**\n",
    "\n",
    "---\n"
   ]
  },
  {
   "cell_type": "markdown",
   "id": "036af014",
   "metadata": {
    "papermill": {
     "duration": 0.017996,
     "end_time": "2022-03-08T22:08:22.757261",
     "exception": false,
     "start_time": "2022-03-08T22:08:22.739265",
     "status": "completed"
    },
    "tags": []
   },
   "source": [
    "## Recap\n",
    "So far, you have loaded your data and reviewed it with the following code. Run this cell to set up your coding environment where the previous step left off."
   ]
  },
  {
   "cell_type": "code",
   "execution_count": 1,
   "id": "2292bb0e",
   "metadata": {
    "execution": {
     "iopub.execute_input": "2022-03-08T22:08:22.804653Z",
     "iopub.status.busy": "2022-03-08T22:08:22.797567Z",
     "iopub.status.idle": "2022-03-08T22:08:24.122840Z",
     "shell.execute_reply": "2022-03-08T22:08:24.122083Z",
     "shell.execute_reply.started": "2022-03-08T22:05:05.180931Z"
    },
    "papermill": {
     "duration": 1.347423,
     "end_time": "2022-03-08T22:08:24.123049",
     "exception": false,
     "start_time": "2022-03-08T22:08:22.775626",
     "status": "completed"
    },
    "tags": []
   },
   "outputs": [
    {
     "name": "stdout",
     "output_type": "stream",
     "text": [
      "Setup Complete\n"
     ]
    }
   ],
   "source": [
    "# Code you have previously used to load data\n",
    "import pandas as pd\n",
    "\n",
    "# Path of the file to read\n",
    "iowa_file_path = '../input/home-data-for-ml-course/train.csv'\n",
    "\n",
    "home_data = pd.read_csv(iowa_file_path)\n",
    "\n",
    "# Set up code checking\n",
    "from learntools.core import binder\n",
    "binder.bind(globals())\n",
    "from learntools.machine_learning.ex3 import *\n",
    "\n",
    "print(\"Setup Complete\")"
   ]
  },
  {
   "cell_type": "markdown",
   "id": "f2c31abe",
   "metadata": {
    "papermill": {
     "duration": 0.018875,
     "end_time": "2022-03-08T22:08:24.161642",
     "exception": false,
     "start_time": "2022-03-08T22:08:24.142767",
     "status": "completed"
    },
    "tags": []
   },
   "source": [
    "# Exercises\n",
    "\n",
    "## Step 1: Specify Prediction Target\n",
    "Select the target variable, which corresponds to the sales price. Save this to a new variable called `y`. You'll need to print a list of the columns to find the name of the column you need.\n"
   ]
  },
  {
   "cell_type": "code",
   "execution_count": 2,
   "id": "db253e97",
   "metadata": {
    "execution": {
     "iopub.execute_input": "2022-03-08T22:08:24.208310Z",
     "iopub.status.busy": "2022-03-08T22:08:24.207638Z",
     "iopub.status.idle": "2022-03-08T22:08:24.210784Z",
     "shell.execute_reply": "2022-03-08T22:08:24.211280Z",
     "shell.execute_reply.started": "2022-03-08T22:05:09.812269Z"
    },
    "papermill": {
     "duration": 0.030597,
     "end_time": "2022-03-08T22:08:24.211446",
     "exception": false,
     "start_time": "2022-03-08T22:08:24.180849",
     "status": "completed"
    },
    "tags": []
   },
   "outputs": [
    {
     "data": {
      "text/plain": [
       "Index(['Id', 'MSSubClass', 'MSZoning', 'LotFrontage', 'LotArea', 'Street',\n",
       "       'Alley', 'LotShape', 'LandContour', 'Utilities', 'LotConfig',\n",
       "       'LandSlope', 'Neighborhood', 'Condition1', 'Condition2', 'BldgType',\n",
       "       'HouseStyle', 'OverallQual', 'OverallCond', 'YearBuilt', 'YearRemodAdd',\n",
       "       'RoofStyle', 'RoofMatl', 'Exterior1st', 'Exterior2nd', 'MasVnrType',\n",
       "       'MasVnrArea', 'ExterQual', 'ExterCond', 'Foundation', 'BsmtQual',\n",
       "       'BsmtCond', 'BsmtExposure', 'BsmtFinType1', 'BsmtFinSF1',\n",
       "       'BsmtFinType2', 'BsmtFinSF2', 'BsmtUnfSF', 'TotalBsmtSF', 'Heating',\n",
       "       'HeatingQC', 'CentralAir', 'Electrical', '1stFlrSF', '2ndFlrSF',\n",
       "       'LowQualFinSF', 'GrLivArea', 'BsmtFullBath', 'BsmtHalfBath', 'FullBath',\n",
       "       'HalfBath', 'BedroomAbvGr', 'KitchenAbvGr', 'KitchenQual',\n",
       "       'TotRmsAbvGrd', 'Functional', 'Fireplaces', 'FireplaceQu', 'GarageType',\n",
       "       'GarageYrBlt', 'GarageFinish', 'GarageCars', 'GarageArea', 'GarageQual',\n",
       "       'GarageCond', 'PavedDrive', 'WoodDeckSF', 'OpenPorchSF',\n",
       "       'EnclosedPorch', '3SsnPorch', 'ScreenPorch', 'PoolArea', 'PoolQC',\n",
       "       'Fence', 'MiscFeature', 'MiscVal', 'MoSold', 'YrSold', 'SaleType',\n",
       "       'SaleCondition', 'SalePrice'],\n",
       "      dtype='object')"
      ]
     },
     "execution_count": 2,
     "metadata": {},
     "output_type": "execute_result"
    }
   ],
   "source": [
    "# print the list of columns in the dataset to find the name of the prediction target\n",
    "home_data.columns\n"
   ]
  },
  {
   "cell_type": "code",
   "execution_count": 3,
   "id": "bc30995c",
   "metadata": {
    "execution": {
     "iopub.execute_input": "2022-03-08T22:08:24.254033Z",
     "iopub.status.busy": "2022-03-08T22:08:24.253419Z",
     "iopub.status.idle": "2022-03-08T22:08:24.264631Z",
     "shell.execute_reply": "2022-03-08T22:08:24.265292Z",
     "shell.execute_reply.started": "2022-03-08T22:05:13.842325Z"
    },
    "papermill": {
     "duration": 0.034823,
     "end_time": "2022-03-08T22:08:24.265462",
     "exception": false,
     "start_time": "2022-03-08T22:08:24.230639",
     "status": "completed"
    },
    "tags": []
   },
   "outputs": [
    {
     "data": {
      "application/javascript": [
       "parent.postMessage({\"jupyterEvent\": \"custom.exercise_interaction\", \"data\": {\"outcomeType\": 1, \"valueTowardsCompletion\": 0.25, \"interactionType\": 1, \"questionType\": 2, \"questionId\": \"1_SetTarget\", \"learnToolsVersion\": \"0.3.4\", \"failureMessage\": \"\", \"exceptionClass\": \"\", \"trace\": \"\"}}, \"*\")"
      ],
      "text/plain": [
       "<IPython.core.display.Javascript object>"
      ]
     },
     "metadata": {},
     "output_type": "display_data"
    },
    {
     "data": {
      "text/markdown": [
       "<span style=\"color:#33cc33\">Correct</span>"
      ],
      "text/plain": [
       "Correct"
      ]
     },
     "metadata": {},
     "output_type": "display_data"
    }
   ],
   "source": [
    "y = home_data.SalePrice\n",
    "\n",
    "# Check your answer\n",
    "step_1.check()"
   ]
  },
  {
   "cell_type": "code",
   "execution_count": 4,
   "id": "fc56cc28",
   "metadata": {
    "collapsed": true,
    "execution": {
     "iopub.execute_input": "2022-03-08T22:08:24.310528Z",
     "iopub.status.busy": "2022-03-08T22:08:24.309845Z",
     "iopub.status.idle": "2022-03-08T22:08:24.312664Z",
     "shell.execute_reply": "2022-03-08T22:08:24.313225Z"
    },
    "jupyter": {
     "outputs_hidden": true
    },
    "papermill": {
     "duration": 0.027403,
     "end_time": "2022-03-08T22:08:24.313395",
     "exception": false,
     "start_time": "2022-03-08T22:08:24.285992",
     "status": "completed"
    },
    "tags": []
   },
   "outputs": [],
   "source": [
    "# The lines below will show you a hint or the solution.\n",
    "# step_1.hint() \n",
    "# step_1.solution()"
   ]
  },
  {
   "cell_type": "markdown",
   "id": "982ef060",
   "metadata": {
    "papermill": {
     "duration": 0.020667,
     "end_time": "2022-03-08T22:08:24.355383",
     "exception": false,
     "start_time": "2022-03-08T22:08:24.334716",
     "status": "completed"
    },
    "tags": []
   },
   "source": [
    "## Step 2: Create X\n",
    "Now you will create a DataFrame called `X` holding the predictive features.\n",
    "\n",
    "Since you want only some columns from the original data, you'll first create a list with the names of the columns you want in `X`.\n",
    "\n",
    "You'll use just the following columns in the list (you can copy and paste the whole list to save some typing, though you'll still need to add quotes):\n",
    "  * LotArea\n",
    "  * YearBuilt\n",
    "  * 1stFlrSF\n",
    "  * 2ndFlrSF\n",
    "  * FullBath\n",
    "  * BedroomAbvGr\n",
    "  * TotRmsAbvGrd\n",
    "\n",
    "After you've created that list of features, use it to create the DataFrame that you'll use to fit the model."
   ]
  },
  {
   "cell_type": "code",
   "execution_count": 5,
   "id": "eed7921a",
   "metadata": {
    "execution": {
     "iopub.execute_input": "2022-03-08T22:08:24.407236Z",
     "iopub.status.busy": "2022-03-08T22:08:24.406180Z",
     "iopub.status.idle": "2022-03-08T22:08:24.413101Z",
     "shell.execute_reply": "2022-03-08T22:08:24.413587Z",
     "shell.execute_reply.started": "2022-03-08T22:05:18.574603Z"
    },
    "papermill": {
     "duration": 0.037619,
     "end_time": "2022-03-08T22:08:24.413752",
     "exception": false,
     "start_time": "2022-03-08T22:08:24.376133",
     "status": "completed"
    },
    "tags": []
   },
   "outputs": [
    {
     "data": {
      "application/javascript": [
       "parent.postMessage({\"jupyterEvent\": \"custom.exercise_interaction\", \"data\": {\"outcomeType\": 1, \"valueTowardsCompletion\": 0.25, \"interactionType\": 1, \"questionType\": 2, \"questionId\": \"2_SelectPredictionData\", \"learnToolsVersion\": \"0.3.4\", \"failureMessage\": \"\", \"exceptionClass\": \"\", \"trace\": \"\"}}, \"*\")"
      ],
      "text/plain": [
       "<IPython.core.display.Javascript object>"
      ]
     },
     "metadata": {},
     "output_type": "display_data"
    },
    {
     "data": {
      "text/markdown": [
       "<span style=\"color:#33cc33\">Correct</span>"
      ],
      "text/plain": [
       "Correct"
      ]
     },
     "metadata": {},
     "output_type": "display_data"
    }
   ],
   "source": [
    "# Create the list of features below\n",
    "feature_names = [\"LotArea\", \"YearBuilt\", \"1stFlrSF\", \"2ndFlrSF\",\n",
    "                      \"FullBath\", \"BedroomAbvGr\", \"TotRmsAbvGrd\"]\n",
    "# Select data corresponding to features in feature_names\n",
    "X = home_data[feature_names]\n",
    "\n",
    "# Check your answer\n",
    "step_2.check()"
   ]
  },
  {
   "cell_type": "code",
   "execution_count": 6,
   "id": "e5ca785e",
   "metadata": {
    "execution": {
     "iopub.execute_input": "2022-03-08T22:08:24.462047Z",
     "iopub.status.busy": "2022-03-08T22:08:24.461311Z",
     "iopub.status.idle": "2022-03-08T22:08:24.463629Z",
     "shell.execute_reply": "2022-03-08T22:08:24.464233Z",
     "shell.execute_reply.started": "2022-03-07T03:35:21.277763Z"
    },
    "papermill": {
     "duration": 0.028626,
     "end_time": "2022-03-08T22:08:24.464400",
     "exception": false,
     "start_time": "2022-03-08T22:08:24.435774",
     "status": "completed"
    },
    "tags": []
   },
   "outputs": [],
   "source": [
    "# step_2.hint()\n",
    "#step_2.solution()"
   ]
  },
  {
   "cell_type": "markdown",
   "id": "a57dc88b",
   "metadata": {
    "papermill": {
     "duration": 0.023108,
     "end_time": "2022-03-08T22:08:24.509536",
     "exception": false,
     "start_time": "2022-03-08T22:08:24.486428",
     "status": "completed"
    },
    "tags": []
   },
   "source": [
    "## Review Data\n",
    "Before building a model, take a quick look at **X** to verify it looks sensible"
   ]
  },
  {
   "cell_type": "code",
   "execution_count": 7,
   "id": "b9a34960",
   "metadata": {
    "execution": {
     "iopub.execute_input": "2022-03-08T22:08:24.561075Z",
     "iopub.status.busy": "2022-03-08T22:08:24.560308Z",
     "iopub.status.idle": "2022-03-08T22:08:24.568758Z",
     "shell.execute_reply": "2022-03-08T22:08:24.569447Z",
     "shell.execute_reply.started": "2022-03-08T22:05:23.306695Z"
    },
    "papermill": {
     "duration": 0.036807,
     "end_time": "2022-03-08T22:08:24.569626",
     "exception": false,
     "start_time": "2022-03-08T22:08:24.532819",
     "status": "completed"
    },
    "tags": []
   },
   "outputs": [
    {
     "data": {
      "text/plain": [
       "<bound method NDFrame.head of       LotArea  YearBuilt  1stFlrSF  2ndFlrSF  FullBath  BedroomAbvGr  \\\n",
       "0        8450       2003       856       854         2             3   \n",
       "1        9600       1976      1262         0         2             3   \n",
       "2       11250       2001       920       866         2             3   \n",
       "3        9550       1915       961       756         1             3   \n",
       "4       14260       2000      1145      1053         2             4   \n",
       "...       ...        ...       ...       ...       ...           ...   \n",
       "1455     7917       1999       953       694         2             3   \n",
       "1456    13175       1978      2073         0         2             3   \n",
       "1457     9042       1941      1188      1152         2             4   \n",
       "1458     9717       1950      1078         0         1             2   \n",
       "1459     9937       1965      1256         0         1             3   \n",
       "\n",
       "      TotRmsAbvGrd  \n",
       "0                8  \n",
       "1                6  \n",
       "2                6  \n",
       "3                7  \n",
       "4                9  \n",
       "...            ...  \n",
       "1455             7  \n",
       "1456             7  \n",
       "1457             9  \n",
       "1458             5  \n",
       "1459             6  \n",
       "\n",
       "[1460 rows x 7 columns]>"
      ]
     },
     "execution_count": 7,
     "metadata": {},
     "output_type": "execute_result"
    }
   ],
   "source": [
    "# Review data\n",
    "# print description or statistics from X\n",
    "#print()\n",
    "X.describe\n",
    "\n",
    "# print the top few lines\n",
    "#print()\n",
    "X.head"
   ]
  },
  {
   "cell_type": "markdown",
   "id": "359be207",
   "metadata": {
    "papermill": {
     "duration": 0.022312,
     "end_time": "2022-03-08T22:08:24.615088",
     "exception": false,
     "start_time": "2022-03-08T22:08:24.592776",
     "status": "completed"
    },
    "tags": []
   },
   "source": [
    "## Step 3: Specify and Fit Model\n",
    "Create a `DecisionTreeRegressor` and save it iowa_model. Ensure you've done the relevant import from sklearn to run this command.\n",
    "\n",
    "Then fit the model you just created using the data in `X` and `y` that you saved above."
   ]
  },
  {
   "cell_type": "code",
   "execution_count": 8,
   "id": "4542f6d8",
   "metadata": {
    "execution": {
     "iopub.execute_input": "2022-03-08T22:08:24.663093Z",
     "iopub.status.busy": "2022-03-08T22:08:24.662430Z",
     "iopub.status.idle": "2022-03-08T22:08:24.677603Z",
     "shell.execute_reply": "2022-03-08T22:08:24.678083Z",
     "shell.execute_reply.started": "2022-03-08T22:05:27.979215Z"
    },
    "papermill": {
     "duration": 0.040809,
     "end_time": "2022-03-08T22:08:24.678267",
     "exception": false,
     "start_time": "2022-03-08T22:08:24.637458",
     "status": "completed"
    },
    "tags": []
   },
   "outputs": [
    {
     "data": {
      "application/javascript": [
       "parent.postMessage({\"jupyterEvent\": \"custom.exercise_interaction\", \"data\": {\"outcomeType\": 1, \"valueTowardsCompletion\": 0.25, \"interactionType\": 1, \"questionType\": 2, \"questionId\": \"3_CreateModel\", \"learnToolsVersion\": \"0.3.4\", \"failureMessage\": \"\", \"exceptionClass\": \"\", \"trace\": \"\"}}, \"*\")"
      ],
      "text/plain": [
       "<IPython.core.display.Javascript object>"
      ]
     },
     "metadata": {},
     "output_type": "display_data"
    },
    {
     "data": {
      "text/markdown": [
       "<span style=\"color:#33cc33\">Correct</span>"
      ],
      "text/plain": [
       "Correct"
      ]
     },
     "metadata": {},
     "output_type": "display_data"
    }
   ],
   "source": [
    "# from _ import _\n",
    "from sklearn.tree import DecisionTreeRegressor\n",
    "\n",
    "# Define model. Specify a number for random_state to ensure same results each run\n",
    "# Fit model\n",
    "#specify the model. \n",
    "#For model reproducibility, set a numeric value for random_state when specifying the model\n",
    "iowa_model = DecisionTreeRegressor(random_state=1)\n",
    "\n",
    "# Fit the model\n",
    "iowa_model.fit(X, y)\n",
    "\n",
    "# Check your answer\n",
    "step_3.check()"
   ]
  },
  {
   "cell_type": "code",
   "execution_count": 9,
   "id": "666f4183",
   "metadata": {
    "collapsed": true,
    "execution": {
     "iopub.execute_input": "2022-03-08T22:08:24.729201Z",
     "iopub.status.busy": "2022-03-08T22:08:24.728517Z",
     "iopub.status.idle": "2022-03-08T22:08:24.730962Z",
     "shell.execute_reply": "2022-03-08T22:08:24.731455Z"
    },
    "jupyter": {
     "outputs_hidden": true
    },
    "papermill": {
     "duration": 0.029499,
     "end_time": "2022-03-08T22:08:24.731634",
     "exception": false,
     "start_time": "2022-03-08T22:08:24.702135",
     "status": "completed"
    },
    "tags": []
   },
   "outputs": [],
   "source": [
    "# step_3.hint()\n",
    "# step_3.solution()"
   ]
  },
  {
   "cell_type": "markdown",
   "id": "aa560c42",
   "metadata": {
    "papermill": {
     "duration": 0.024187,
     "end_time": "2022-03-08T22:08:24.780174",
     "exception": false,
     "start_time": "2022-03-08T22:08:24.755987",
     "status": "completed"
    },
    "tags": []
   },
   "source": [
    "## Step 4: Make Predictions\n",
    "Make predictions with the model's `predict` command using `X` as the data. Save the results to a variable called `predictions`."
   ]
  },
  {
   "cell_type": "code",
   "execution_count": 10,
   "id": "2aa82d47",
   "metadata": {
    "execution": {
     "iopub.execute_input": "2022-03-08T22:08:24.831344Z",
     "iopub.status.busy": "2022-03-08T22:08:24.830615Z",
     "iopub.status.idle": "2022-03-08T22:08:24.843542Z",
     "shell.execute_reply": "2022-03-08T22:08:24.844110Z",
     "shell.execute_reply.started": "2022-03-08T22:07:33.146802Z"
    },
    "papermill": {
     "duration": 0.040386,
     "end_time": "2022-03-08T22:08:24.844281",
     "exception": false,
     "start_time": "2022-03-08T22:08:24.803895",
     "status": "completed"
    },
    "tags": []
   },
   "outputs": [
    {
     "name": "stdout",
     "output_type": "stream",
     "text": [
      "[208500. 181500. 223500. ... 266500. 142125. 147500.]\n"
     ]
    },
    {
     "data": {
      "application/javascript": [
       "parent.postMessage({\"jupyterEvent\": \"custom.exercise_interaction\", \"data\": {\"outcomeType\": 1, \"valueTowardsCompletion\": 0.25, \"interactionType\": 1, \"questionType\": 2, \"questionId\": \"4_MakePredictions\", \"learnToolsVersion\": \"0.3.4\", \"failureMessage\": \"\", \"exceptionClass\": \"\", \"trace\": \"\"}}, \"*\")"
      ],
      "text/plain": [
       "<IPython.core.display.Javascript object>"
      ]
     },
     "metadata": {},
     "output_type": "display_data"
    },
    {
     "data": {
      "text/markdown": [
       "<span style=\"color:#33cc33\">Correct</span>"
      ],
      "text/plain": [
       "Correct"
      ]
     },
     "metadata": {},
     "output_type": "display_data"
    }
   ],
   "source": [
    "predictions = iowa_model.predict(X)\n",
    "print(predictions)\n",
    "\n",
    "# Check your answer\n",
    "step_4.check()"
   ]
  },
  {
   "cell_type": "code",
   "execution_count": 11,
   "id": "43667335",
   "metadata": {
    "execution": {
     "iopub.execute_input": "2022-03-08T22:08:24.899976Z",
     "iopub.status.busy": "2022-03-08T22:08:24.899200Z",
     "iopub.status.idle": "2022-03-08T22:08:24.901734Z",
     "shell.execute_reply": "2022-03-08T22:08:24.902194Z",
     "shell.execute_reply.started": "2022-03-08T22:07:57.704654Z"
    },
    "papermill": {
     "duration": 0.032272,
     "end_time": "2022-03-08T22:08:24.902373",
     "exception": false,
     "start_time": "2022-03-08T22:08:24.870101",
     "status": "completed"
    },
    "tags": []
   },
   "outputs": [],
   "source": [
    "# step_4.hint()\n",
    "# step_4.solution()"
   ]
  },
  {
   "cell_type": "markdown",
   "id": "9b3a5d0c",
   "metadata": {
    "papermill": {
     "duration": 0.025075,
     "end_time": "2022-03-08T22:08:24.952990",
     "exception": false,
     "start_time": "2022-03-08T22:08:24.927915",
     "status": "completed"
    },
    "tags": []
   },
   "source": [
    "## Think About Your Results\n",
    "\n",
    "Use the `head` method to compare the top few predictions to the actual home values (in `y`) for those same homes. Anything surprising?\n"
   ]
  },
  {
   "cell_type": "code",
   "execution_count": 12,
   "id": "7cde681b",
   "metadata": {
    "execution": {
     "iopub.execute_input": "2022-03-08T22:08:25.008904Z",
     "iopub.status.busy": "2022-03-08T22:08:25.008295Z",
     "iopub.status.idle": "2022-03-08T22:08:25.010978Z",
     "shell.execute_reply": "2022-03-08T22:08:25.010513Z"
    },
    "papermill": {
     "duration": 0.032499,
     "end_time": "2022-03-08T22:08:25.011131",
     "exception": false,
     "start_time": "2022-03-08T22:08:24.978632",
     "status": "completed"
    },
    "tags": []
   },
   "outputs": [],
   "source": [
    "# You can write code in this cell\n"
   ]
  },
  {
   "cell_type": "markdown",
   "id": "0bad2566",
   "metadata": {
    "papermill": {
     "duration": 0.025192,
     "end_time": "2022-03-08T22:08:25.062044",
     "exception": false,
     "start_time": "2022-03-08T22:08:25.036852",
     "status": "completed"
    },
    "tags": []
   },
   "source": [
    "It's natural to ask how accurate the model's predictions will be and how you can improve that. That will be you're next step.\n",
    "\n",
    "# Keep Going\n",
    "\n",
    "You are ready for **[Model Validation](https://www.kaggle.com/dansbecker/model-validation).**\n"
   ]
  },
  {
   "cell_type": "markdown",
   "id": "00be410c",
   "metadata": {
    "papermill": {
     "duration": 0.025129,
     "end_time": "2022-03-08T22:08:25.112776",
     "exception": false,
     "start_time": "2022-03-08T22:08:25.087647",
     "status": "completed"
    },
    "tags": []
   },
   "source": [
    "---\n",
    "\n",
    "\n",
    "\n",
    "\n",
    "*Have questions or comments? Visit the [course discussion forum](https://www.kaggle.com/learn/intro-to-machine-learning/discussion) to chat with other learners.*"
   ]
  }
 ],
 "metadata": {
  "kernelspec": {
   "display_name": "Python 3",
   "language": "python",
   "name": "python3"
  },
  "language_info": {
   "codemirror_mode": {
    "name": "ipython",
    "version": 3
   },
   "file_extension": ".py",
   "mimetype": "text/x-python",
   "name": "python",
   "nbconvert_exporter": "python",
   "pygments_lexer": "ipython3",
   "version": "3.7.12"
  },
  "papermill": {
   "default_parameters": {},
   "duration": 12.920374,
   "end_time": "2022-03-08T22:08:25.847873",
   "environment_variables": {},
   "exception": null,
   "input_path": "__notebook__.ipynb",
   "output_path": "__notebook__.ipynb",
   "parameters": {},
   "start_time": "2022-03-08T22:08:12.927499",
   "version": "2.3.3"
  }
 },
 "nbformat": 4,
 "nbformat_minor": 5
}
