{
 "cells": [
  {
   "cell_type": "markdown",
   "id": "90b10d3f",
   "metadata": {
    "papermill": {
     "duration": 0.030116,
     "end_time": "2022-04-24T04:43:07.417369",
     "exception": false,
     "start_time": "2022-04-24T04:43:07.387253",
     "status": "completed"
    },
    "tags": []
   },
   "source": [
    "**This notebook is an exercise in the [Geospatial Analysis](https://www.kaggle.com/learn/geospatial-analysis) course.  You can reference the tutorial at [this link](https://www.kaggle.com/alexisbcook/interactive-maps).**\n",
    "\n",
    "---\n"
   ]
  },
  {
   "cell_type": "markdown",
   "id": "5eec9976",
   "metadata": {
    "papermill": {
     "duration": 0.029153,
     "end_time": "2022-04-24T04:43:07.475630",
     "exception": false,
     "start_time": "2022-04-24T04:43:07.446477",
     "status": "completed"
    },
    "tags": []
   },
   "source": [
    "# Introduction\n",
    "\n",
    "You are an urban safety planner in Japan, and you are analyzing which areas of Japan need extra earthquake reinforcement.  Which areas are both high in population density and prone to earthquakes?\n",
    "\n",
    "<center>\n",
    "<img src=\"https://i.imgur.com/Kuh9gPj.png\" width=\"450\"><br/>\n",
    "</center>\n",
    "\n",
    "Before you get started, run the code cell below to set everything up."
   ]
  },
  {
   "cell_type": "code",
   "execution_count": 1,
   "id": "e0e0f0a1",
   "metadata": {
    "execution": {
     "iopub.execute_input": "2022-04-24T04:43:07.536178Z",
     "iopub.status.busy": "2022-04-24T04:43:07.535425Z",
     "iopub.status.idle": "2022-04-24T04:43:08.768570Z",
     "shell.execute_reply": "2022-04-24T04:43:08.767462Z"
    },
    "papermill": {
     "duration": 1.266515,
     "end_time": "2022-04-24T04:43:08.771266",
     "exception": false,
     "start_time": "2022-04-24T04:43:07.504751",
     "status": "completed"
    },
    "tags": []
   },
   "outputs": [
    {
     "name": "stderr",
     "output_type": "stream",
     "text": [
      "/opt/conda/lib/python3.7/site-packages/geopandas/_compat.py:115: UserWarning: The Shapely GEOS version (3.9.1-CAPI-1.14.2) is incompatible with the GEOS version PyGEOS was compiled with (3.10.1-CAPI-1.16.0). Conversions between both will be slow.\n",
      "  shapely_geos_version, geos_capi_version_string\n"
     ]
    }
   ],
   "source": [
    "import pandas as pd\n",
    "import geopandas as gpd\n",
    "\n",
    "import folium\n",
    "from folium import Choropleth\n",
    "from folium.plugins import HeatMap\n",
    "\n",
    "from learntools.core import binder\n",
    "binder.bind(globals())\n",
    "from learntools.geospatial.ex3 import *"
   ]
  },
  {
   "cell_type": "markdown",
   "id": "23021a1b",
   "metadata": {
    "papermill": {
     "duration": 0.030786,
     "end_time": "2022-04-24T04:43:08.832135",
     "exception": false,
     "start_time": "2022-04-24T04:43:08.801349",
     "status": "completed"
    },
    "tags": []
   },
   "source": [
    "We define a function `embed_map()` for displaying interactive maps. It accepts two arguments: the variable containing the map, and the name of the HTML file where the map will be saved.\n",
    "\n",
    "This function ensures that the maps are visible [in all web browsers](https://github.com/python-visualization/folium/issues/812)."
   ]
  },
  {
   "cell_type": "code",
   "execution_count": 2,
   "id": "53ab543f",
   "metadata": {
    "execution": {
     "iopub.execute_input": "2022-04-24T04:43:08.893016Z",
     "iopub.status.busy": "2022-04-24T04:43:08.892469Z",
     "iopub.status.idle": "2022-04-24T04:43:08.896807Z",
     "shell.execute_reply": "2022-04-24T04:43:08.896233Z"
    },
    "papermill": {
     "duration": 0.037173,
     "end_time": "2022-04-24T04:43:08.898809",
     "exception": false,
     "start_time": "2022-04-24T04:43:08.861636",
     "status": "completed"
    },
    "tags": []
   },
   "outputs": [],
   "source": [
    "def embed_map(m, file_name):\n",
    "    \n",
    "    from IPython.display import IFrame\n",
    "    m.save(file_name)\n",
    "    return IFrame(file_name, width='100%', height='500px')"
   ]
  },
  {
   "cell_type": "markdown",
   "id": "6f836e22",
   "metadata": {
    "papermill": {
     "duration": 0.030963,
     "end_time": "2022-04-24T04:43:08.959122",
     "exception": false,
     "start_time": "2022-04-24T04:43:08.928159",
     "status": "completed"
    },
    "tags": []
   },
   "source": [
    "# Exercises\n",
    "\n",
    "### 1) Do earthquakes coincide with plate boundaries?\n",
    "\n",
    "Run the code cell below to create a DataFrame `plate_boundaries` that shows global plate boundaries.  The \"coordinates\" column is a list of (latitude, longitude) locations along the boundaries."
   ]
  },
  {
   "cell_type": "code",
   "execution_count": 3,
   "id": "54ec4e94",
   "metadata": {
    "execution": {
     "iopub.execute_input": "2022-04-24T04:43:09.021453Z",
     "iopub.status.busy": "2022-04-24T04:43:09.020938Z",
     "iopub.status.idle": "2022-04-24T04:43:09.336437Z",
     "shell.execute_reply": "2022-04-24T04:43:09.335448Z"
    },
    "papermill": {
     "duration": 0.348733,
     "end_time": "2022-04-24T04:43:09.338922",
     "exception": false,
     "start_time": "2022-04-24T04:43:08.990189",
     "status": "completed"
    },
    "tags": []
   },
   "outputs": [
    {
     "data": {
      "text/html": [
       "<div>\n",
       "<style scoped>\n",
       "    .dataframe tbody tr th:only-of-type {\n",
       "        vertical-align: middle;\n",
       "    }\n",
       "\n",
       "    .dataframe tbody tr th {\n",
       "        vertical-align: top;\n",
       "    }\n",
       "\n",
       "    .dataframe thead th {\n",
       "        text-align: right;\n",
       "    }\n",
       "</style>\n",
       "<table border=\"1\" class=\"dataframe\">\n",
       "  <thead>\n",
       "    <tr style=\"text-align: right;\">\n",
       "      <th></th>\n",
       "      <th>HAZ_PLATES</th>\n",
       "      <th>HAZ_PLAT_1</th>\n",
       "      <th>HAZ_PLAT_2</th>\n",
       "      <th>Shape_Leng</th>\n",
       "      <th>coordinates</th>\n",
       "    </tr>\n",
       "  </thead>\n",
       "  <tbody>\n",
       "    <tr>\n",
       "      <th>0</th>\n",
       "      <td>TRENCH</td>\n",
       "      <td>SERAM TROUGH (ACTIVE)</td>\n",
       "      <td>6722</td>\n",
       "      <td>5.843467</td>\n",
       "      <td>[(-5.444200361999947, 133.6808931800001), (-5....</td>\n",
       "    </tr>\n",
       "    <tr>\n",
       "      <th>1</th>\n",
       "      <td>TRENCH</td>\n",
       "      <td>WETAR THRUST</td>\n",
       "      <td>6722</td>\n",
       "      <td>1.829013</td>\n",
       "      <td>[(-7.760600482999962, 125.47879802900002), (-7...</td>\n",
       "    </tr>\n",
       "    <tr>\n",
       "      <th>2</th>\n",
       "      <td>TRENCH</td>\n",
       "      <td>TRENCH WEST OF LUZON (MANILA TRENCH) NORTHERN ...</td>\n",
       "      <td>6621</td>\n",
       "      <td>6.743604</td>\n",
       "      <td>[(19.817899819000047, 120.09999798800004), (19...</td>\n",
       "    </tr>\n",
       "    <tr>\n",
       "      <th>3</th>\n",
       "      <td>TRENCH</td>\n",
       "      <td>BONIN TRENCH</td>\n",
       "      <td>9821</td>\n",
       "      <td>8.329381</td>\n",
       "      <td>[(26.175899215000072, 143.20620700100005), (26...</td>\n",
       "    </tr>\n",
       "    <tr>\n",
       "      <th>4</th>\n",
       "      <td>TRENCH</td>\n",
       "      <td>NEW GUINEA TRENCH</td>\n",
       "      <td>8001</td>\n",
       "      <td>11.998145</td>\n",
       "      <td>[(0.41880004000006466, 132.8273013480001), (0....</td>\n",
       "    </tr>\n",
       "  </tbody>\n",
       "</table>\n",
       "</div>"
      ],
      "text/plain": [
       "  HAZ_PLATES                                         HAZ_PLAT_1  HAZ_PLAT_2  \\\n",
       "0     TRENCH                              SERAM TROUGH (ACTIVE)        6722   \n",
       "1     TRENCH                                       WETAR THRUST        6722   \n",
       "2     TRENCH  TRENCH WEST OF LUZON (MANILA TRENCH) NORTHERN ...        6621   \n",
       "3     TRENCH                                       BONIN TRENCH        9821   \n",
       "4     TRENCH                                  NEW GUINEA TRENCH        8001   \n",
       "\n",
       "   Shape_Leng                                        coordinates  \n",
       "0    5.843467  [(-5.444200361999947, 133.6808931800001), (-5....  \n",
       "1    1.829013  [(-7.760600482999962, 125.47879802900002), (-7...  \n",
       "2    6.743604  [(19.817899819000047, 120.09999798800004), (19...  \n",
       "3    8.329381  [(26.175899215000072, 143.20620700100005), (26...  \n",
       "4   11.998145  [(0.41880004000006466, 132.8273013480001), (0....  "
      ]
     },
     "execution_count": 3,
     "metadata": {},
     "output_type": "execute_result"
    }
   ],
   "source": [
    "plate_boundaries = gpd.read_file(\"../input/geospatial-learn-course-data/Plate_Boundaries/Plate_Boundaries/Plate_Boundaries.shp\")\n",
    "plate_boundaries['coordinates'] = plate_boundaries.apply(lambda x: [(b,a) for (a,b) in list(x.geometry.coords)], axis='columns')\n",
    "plate_boundaries.drop('geometry', axis=1, inplace=True)\n",
    "\n",
    "plate_boundaries.head()"
   ]
  },
  {
   "cell_type": "markdown",
   "id": "20f71969",
   "metadata": {
    "papermill": {
     "duration": 0.029365,
     "end_time": "2022-04-24T04:43:09.397926",
     "exception": false,
     "start_time": "2022-04-24T04:43:09.368561",
     "status": "completed"
    },
    "tags": []
   },
   "source": [
    "Next, run the code cell below without changes to load the historical earthquake data into a DataFrame `earthquakes`."
   ]
  },
  {
   "cell_type": "code",
   "execution_count": 4,
   "id": "6b6b1578",
   "metadata": {
    "execution": {
     "iopub.execute_input": "2022-04-24T04:43:09.458972Z",
     "iopub.status.busy": "2022-04-24T04:43:09.458706Z",
     "iopub.status.idle": "2022-04-24T04:43:09.513393Z",
     "shell.execute_reply": "2022-04-24T04:43:09.512487Z"
    },
    "papermill": {
     "duration": 0.088274,
     "end_time": "2022-04-24T04:43:09.515922",
     "exception": false,
     "start_time": "2022-04-24T04:43:09.427648",
     "status": "completed"
    },
    "tags": []
   },
   "outputs": [
    {
     "data": {
      "text/html": [
       "<div>\n",
       "<style scoped>\n",
       "    .dataframe tbody tr th:only-of-type {\n",
       "        vertical-align: middle;\n",
       "    }\n",
       "\n",
       "    .dataframe tbody tr th {\n",
       "        vertical-align: top;\n",
       "    }\n",
       "\n",
       "    .dataframe thead th {\n",
       "        text-align: right;\n",
       "    }\n",
       "</style>\n",
       "<table border=\"1\" class=\"dataframe\">\n",
       "  <thead>\n",
       "    <tr style=\"text-align: right;\">\n",
       "      <th></th>\n",
       "      <th>DateTime</th>\n",
       "      <th>Latitude</th>\n",
       "      <th>Longitude</th>\n",
       "      <th>Depth</th>\n",
       "      <th>Magnitude</th>\n",
       "      <th>MagType</th>\n",
       "      <th>NbStations</th>\n",
       "      <th>Gap</th>\n",
       "      <th>Distance</th>\n",
       "      <th>RMS</th>\n",
       "      <th>Source</th>\n",
       "      <th>EventID</th>\n",
       "    </tr>\n",
       "  </thead>\n",
       "  <tbody>\n",
       "    <tr>\n",
       "      <th>0</th>\n",
       "      <td>1970-01-04 17:00:40.200</td>\n",
       "      <td>24.139</td>\n",
       "      <td>102.503</td>\n",
       "      <td>31.0</td>\n",
       "      <td>7.5</td>\n",
       "      <td>Ms</td>\n",
       "      <td>90.0</td>\n",
       "      <td>NaN</td>\n",
       "      <td>NaN</td>\n",
       "      <td>0.0</td>\n",
       "      <td>NEI</td>\n",
       "      <td>1.970010e+09</td>\n",
       "    </tr>\n",
       "    <tr>\n",
       "      <th>1</th>\n",
       "      <td>1970-01-06 05:35:51.800</td>\n",
       "      <td>-9.628</td>\n",
       "      <td>151.458</td>\n",
       "      <td>8.0</td>\n",
       "      <td>6.2</td>\n",
       "      <td>Ms</td>\n",
       "      <td>85.0</td>\n",
       "      <td>NaN</td>\n",
       "      <td>NaN</td>\n",
       "      <td>0.0</td>\n",
       "      <td>NEI</td>\n",
       "      <td>1.970011e+09</td>\n",
       "    </tr>\n",
       "    <tr>\n",
       "      <th>2</th>\n",
       "      <td>1970-01-08 17:12:39.100</td>\n",
       "      <td>-34.741</td>\n",
       "      <td>178.568</td>\n",
       "      <td>179.0</td>\n",
       "      <td>6.1</td>\n",
       "      <td>Mb</td>\n",
       "      <td>59.0</td>\n",
       "      <td>NaN</td>\n",
       "      <td>NaN</td>\n",
       "      <td>0.0</td>\n",
       "      <td>NEI</td>\n",
       "      <td>1.970011e+09</td>\n",
       "    </tr>\n",
       "    <tr>\n",
       "      <th>3</th>\n",
       "      <td>1970-01-10 12:07:08.600</td>\n",
       "      <td>6.825</td>\n",
       "      <td>126.737</td>\n",
       "      <td>73.0</td>\n",
       "      <td>6.1</td>\n",
       "      <td>Mb</td>\n",
       "      <td>91.0</td>\n",
       "      <td>NaN</td>\n",
       "      <td>NaN</td>\n",
       "      <td>0.0</td>\n",
       "      <td>NEI</td>\n",
       "      <td>1.970011e+09</td>\n",
       "    </tr>\n",
       "    <tr>\n",
       "      <th>4</th>\n",
       "      <td>1970-01-16 08:05:39.000</td>\n",
       "      <td>60.280</td>\n",
       "      <td>-152.660</td>\n",
       "      <td>85.0</td>\n",
       "      <td>6.0</td>\n",
       "      <td>ML</td>\n",
       "      <td>0.0</td>\n",
       "      <td>NaN</td>\n",
       "      <td>NaN</td>\n",
       "      <td>NaN</td>\n",
       "      <td>AK</td>\n",
       "      <td>NaN</td>\n",
       "    </tr>\n",
       "  </tbody>\n",
       "</table>\n",
       "</div>"
      ],
      "text/plain": [
       "                 DateTime  Latitude  Longitude  Depth  Magnitude MagType  \\\n",
       "0 1970-01-04 17:00:40.200    24.139    102.503   31.0        7.5      Ms   \n",
       "1 1970-01-06 05:35:51.800    -9.628    151.458    8.0        6.2      Ms   \n",
       "2 1970-01-08 17:12:39.100   -34.741    178.568  179.0        6.1      Mb   \n",
       "3 1970-01-10 12:07:08.600     6.825    126.737   73.0        6.1      Mb   \n",
       "4 1970-01-16 08:05:39.000    60.280   -152.660   85.0        6.0      ML   \n",
       "\n",
       "   NbStations  Gap  Distance  RMS Source       EventID  \n",
       "0        90.0  NaN       NaN  0.0    NEI  1.970010e+09  \n",
       "1        85.0  NaN       NaN  0.0    NEI  1.970011e+09  \n",
       "2        59.0  NaN       NaN  0.0    NEI  1.970011e+09  \n",
       "3        91.0  NaN       NaN  0.0    NEI  1.970011e+09  \n",
       "4         0.0  NaN       NaN  NaN     AK           NaN  "
      ]
     },
     "execution_count": 4,
     "metadata": {},
     "output_type": "execute_result"
    }
   ],
   "source": [
    "# Load the data and print the first 5 rows\n",
    "earthquakes = pd.read_csv(\"../input/geospatial-learn-course-data/earthquakes1970-2014.csv\", parse_dates=[\"DateTime\"])\n",
    "earthquakes.head()"
   ]
  },
  {
   "cell_type": "markdown",
   "id": "97293a9f",
   "metadata": {
    "papermill": {
     "duration": 0.030129,
     "end_time": "2022-04-24T04:43:09.577760",
     "exception": false,
     "start_time": "2022-04-24T04:43:09.547631",
     "status": "completed"
    },
    "tags": []
   },
   "source": [
    "The code cell below visualizes the plate boundaries on a map.  Use all of the earthquake data to add a heatmap to the same map, to determine whether earthquakes coincide with plate boundaries.  "
   ]
  },
  {
   "cell_type": "code",
   "execution_count": 5,
   "id": "31bf32b4",
   "metadata": {
    "execution": {
     "iopub.execute_input": "2022-04-24T04:43:09.641084Z",
     "iopub.status.busy": "2022-04-24T04:43:09.640675Z",
     "iopub.status.idle": "2022-04-24T04:43:10.221536Z",
     "shell.execute_reply": "2022-04-24T04:43:10.220663Z"
    },
    "papermill": {
     "duration": 0.615337,
     "end_time": "2022-04-24T04:43:10.223750",
     "exception": false,
     "start_time": "2022-04-24T04:43:09.608413",
     "status": "completed"
    },
    "tags": []
   },
   "outputs": [
    {
     "data": {
      "text/html": [
       "\n",
       "        <iframe\n",
       "            width=\"100%\"\n",
       "            height=\"500px\"\n",
       "            src=\"q_1.html\"\n",
       "            frameborder=\"0\"\n",
       "            allowfullscreen\n",
       "            \n",
       "        ></iframe>\n",
       "        "
      ],
      "text/plain": [
       "<IPython.lib.display.IFrame at 0x7f4d01692f10>"
      ]
     },
     "execution_count": 5,
     "metadata": {},
     "output_type": "execute_result"
    }
   ],
   "source": [
    "# Create a base map with plate boundaries\n",
    "m_1 = folium.Map(location=[35,136], tiles='cartodbpositron', zoom_start=5)\n",
    "for i in range(len(plate_boundaries)):\n",
    "    folium.PolyLine(locations=plate_boundaries.coordinates.iloc[i], weight=2, color='black').add_to(m_1)\n",
    "\n",
    "# Your code here: Add a heatmap to the map\n",
    "HeatMap(data=earthquakes[['Latitude', 'Longitude']], radius=10).add_to(m_1)\n",
    "\n",
    "# Uncomment to see a hint\n",
    "#q_1.a.hint()\n",
    "\n",
    "# Show the map\n",
    "embed_map(m_1, 'q_1.html')"
   ]
  },
  {
   "cell_type": "code",
   "execution_count": 6,
   "id": "6a1b82fe",
   "metadata": {
    "execution": {
     "iopub.execute_input": "2022-04-24T04:43:10.287283Z",
     "iopub.status.busy": "2022-04-24T04:43:10.286527Z",
     "iopub.status.idle": "2022-04-24T04:43:10.294725Z",
     "shell.execute_reply": "2022-04-24T04:43:10.294037Z"
    },
    "papermill": {
     "duration": 0.04223,
     "end_time": "2022-04-24T04:43:10.296657",
     "exception": false,
     "start_time": "2022-04-24T04:43:10.254427",
     "status": "completed"
    },
    "tags": []
   },
   "outputs": [
    {
     "data": {
      "application/javascript": [
       "parent.postMessage({\"jupyterEvent\": \"custom.exercise_interaction\", \"data\": {\"outcomeType\": 1, \"valueTowardsCompletion\": 1.0, \"interactionType\": 1, \"questionType\": 2, \"questionId\": \"1.1_Q1P\", \"learnToolsVersion\": \"0.3.4\", \"failureMessage\": \"\", \"exceptionClass\": \"\", \"trace\": \"\"}}, \"*\")"
      ],
      "text/plain": [
       "<IPython.core.display.Javascript object>"
      ]
     },
     "metadata": {},
     "output_type": "display_data"
    },
    {
     "data": {
      "text/markdown": [
       "<span style=\"color:#33cc33\">Thank you for creating a map!</span>"
      ],
      "text/plain": [
       "Thank you for creating a map!"
      ]
     },
     "metadata": {},
     "output_type": "display_data"
    }
   ],
   "source": [
    "# Get credit for your work after you have created a map\n",
    "q_1.a.check()\n",
    "\n",
    "# Uncomment to see our solution (your code may look different!)\n",
    "#q_1.a.solution()"
   ]
  },
  {
   "cell_type": "markdown",
   "id": "bb6c7d52",
   "metadata": {
    "papermill": {
     "duration": 0.032082,
     "end_time": "2022-04-24T04:43:10.360673",
     "exception": false,
     "start_time": "2022-04-24T04:43:10.328591",
     "status": "completed"
    },
    "tags": []
   },
   "source": [
    "So, given the map above, do earthquakes coincide with plate boundaries?"
   ]
  },
  {
   "cell_type": "code",
   "execution_count": 7,
   "id": "1bb9c371",
   "metadata": {
    "execution": {
     "iopub.execute_input": "2022-04-24T04:43:10.426778Z",
     "iopub.status.busy": "2022-04-24T04:43:10.426239Z",
     "iopub.status.idle": "2022-04-24T04:43:10.434027Z",
     "shell.execute_reply": "2022-04-24T04:43:10.433329Z"
    },
    "papermill": {
     "duration": 0.043141,
     "end_time": "2022-04-24T04:43:10.435942",
     "exception": false,
     "start_time": "2022-04-24T04:43:10.392801",
     "status": "completed"
    },
    "tags": []
   },
   "outputs": [
    {
     "data": {
      "application/javascript": [
       "parent.postMessage({\"jupyterEvent\": \"custom.exercise_interaction\", \"data\": {\"interactionType\": 3, \"questionType\": 4, \"questionId\": \"1.2_Q1T\", \"learnToolsVersion\": \"0.3.4\", \"valueTowardsCompletion\": 0.0, \"failureMessage\": \"\", \"exceptionClass\": \"\", \"trace\": \"\", \"outcomeType\": 4}}, \"*\")"
      ],
      "text/plain": [
       "<IPython.core.display.Javascript object>"
      ]
     },
     "metadata": {},
     "output_type": "display_data"
    },
    {
     "data": {
      "text/markdown": [
       "<span style=\"color:#33cc99\">Solution:</span> Yes, earthquakes coincide with plate boundaries."
      ],
      "text/plain": [
       "Solution: Yes, earthquakes coincide with plate boundaries."
      ]
     },
     "metadata": {},
     "output_type": "display_data"
    }
   ],
   "source": [
    "# View the solution (Run this code cell to receive credit!)\n",
    "q_1.b.solution()"
   ]
  },
  {
   "cell_type": "markdown",
   "id": "d7210d93",
   "metadata": {
    "papermill": {
     "duration": 0.032854,
     "end_time": "2022-04-24T04:43:10.501798",
     "exception": false,
     "start_time": "2022-04-24T04:43:10.468944",
     "status": "completed"
    },
    "tags": []
   },
   "source": [
    "### 2) Is there a relationship between earthquake depth and proximity to a plate boundary in Japan?\n",
    "\n",
    "You recently read that the depth of earthquakes tells us [important information](https://www.usgs.gov/faqs/what-depth-do-earthquakes-occur-what-significance-depth?qt-news_science_products=0#qt-news_science_products) about the structure of the earth.  You're interested to see if there are any intereresting global patterns, and you'd also like to understand how depth varies in Japan.\n",
    "\n"
   ]
  },
  {
   "cell_type": "code",
   "execution_count": 8,
   "id": "3c9d4634",
   "metadata": {
    "execution": {
     "iopub.execute_input": "2022-04-24T04:43:10.570180Z",
     "iopub.status.busy": "2022-04-24T04:43:10.569624Z",
     "iopub.status.idle": "2022-04-24T04:43:17.931609Z",
     "shell.execute_reply": "2022-04-24T04:43:17.930731Z"
    },
    "papermill": {
     "duration": 7.398785,
     "end_time": "2022-04-24T04:43:17.933774",
     "exception": false,
     "start_time": "2022-04-24T04:43:10.534989",
     "status": "completed"
    },
    "tags": []
   },
   "outputs": [
    {
     "data": {
      "text/html": [
       "\n",
       "        <iframe\n",
       "            width=\"100%\"\n",
       "            height=\"500px\"\n",
       "            src=\"q_2.html\"\n",
       "            frameborder=\"0\"\n",
       "            allowfullscreen\n",
       "            \n",
       "        ></iframe>\n",
       "        "
      ],
      "text/plain": [
       "<IPython.lib.display.IFrame at 0x7f4cfff1f390>"
      ]
     },
     "execution_count": 8,
     "metadata": {},
     "output_type": "execute_result"
    }
   ],
   "source": [
    "# Create a base map with plate boundaries\n",
    "m_2 = folium.Map(location=[35,136], tiles='cartodbpositron', zoom_start=5)\n",
    "for i in range(len(plate_boundaries)):\n",
    "    folium.PolyLine(locations=plate_boundaries.coordinates.iloc[i], weight=2, color='black').add_to(m_2)\n",
    "    \n",
    "# Your code here: Add a map to visualize earthquake depth\n",
    "def color_producer(val):\n",
    "    if val < 50:\n",
    "        return 'forestgreen'\n",
    "    elif val < 100:\n",
    "        return 'darkorange'\n",
    "    else:\n",
    "        return 'darkred'\n",
    "\n",
    "# Add a map to visualize earthquake depth\n",
    "for i in range(0,len(earthquakes)):\n",
    "    folium.Circle(\n",
    "        location=[earthquakes.iloc[i]['Latitude'], earthquakes.iloc[i]['Longitude']],\n",
    "        radius=2000,\n",
    "        color=color_producer(earthquakes.iloc[i]['Depth'])).add_to(m_2)\n",
    "\n",
    "# Uncomment to see a hint\n",
    "#q_2.a.hint()\n",
    "\n",
    "# View the map\n",
    "embed_map(m_2, 'q_2.html')"
   ]
  },
  {
   "cell_type": "code",
   "execution_count": 9,
   "id": "35c39dde",
   "metadata": {
    "execution": {
     "iopub.execute_input": "2022-04-24T04:43:18.004035Z",
     "iopub.status.busy": "2022-04-24T04:43:18.003402Z",
     "iopub.status.idle": "2022-04-24T04:43:18.011041Z",
     "shell.execute_reply": "2022-04-24T04:43:18.010280Z"
    },
    "papermill": {
     "duration": 0.045845,
     "end_time": "2022-04-24T04:43:18.013147",
     "exception": false,
     "start_time": "2022-04-24T04:43:17.967302",
     "status": "completed"
    },
    "tags": []
   },
   "outputs": [
    {
     "data": {
      "application/javascript": [
       "parent.postMessage({\"jupyterEvent\": \"custom.exercise_interaction\", \"data\": {\"outcomeType\": 1, \"valueTowardsCompletion\": 1.0, \"interactionType\": 1, \"questionType\": 2, \"questionId\": \"2.1_Q2P\", \"learnToolsVersion\": \"0.3.4\", \"failureMessage\": \"\", \"exceptionClass\": \"\", \"trace\": \"\"}}, \"*\")"
      ],
      "text/plain": [
       "<IPython.core.display.Javascript object>"
      ]
     },
     "metadata": {},
     "output_type": "display_data"
    },
    {
     "data": {
      "text/markdown": [
       "<span style=\"color:#33cc33\">Thank you for creating a map!</span>"
      ],
      "text/plain": [
       "Thank you for creating a map!"
      ]
     },
     "metadata": {},
     "output_type": "display_data"
    }
   ],
   "source": [
    "# Get credit for your work after you have created a map\n",
    "q_2.a.check()\n",
    "\n",
    "# Uncomment to see our solution (your code may look different!)\n",
    "#q_2.a.solution()"
   ]
  },
  {
   "cell_type": "markdown",
   "id": "38386be2",
   "metadata": {
    "papermill": {
     "duration": 0.034832,
     "end_time": "2022-04-24T04:43:18.083249",
     "exception": false,
     "start_time": "2022-04-24T04:43:18.048417",
     "status": "completed"
    },
    "tags": []
   },
   "source": [
    "Can you detect a relationship between proximity to a plate boundary and earthquake depth?  Does this pattern hold globally?  In Japan?"
   ]
  },
  {
   "cell_type": "code",
   "execution_count": 10,
   "id": "ca5934e3",
   "metadata": {
    "execution": {
     "iopub.execute_input": "2022-04-24T04:43:18.154655Z",
     "iopub.status.busy": "2022-04-24T04:43:18.154126Z",
     "iopub.status.idle": "2022-04-24T04:43:18.160955Z",
     "shell.execute_reply": "2022-04-24T04:43:18.160082Z"
    },
    "papermill": {
     "duration": 0.04489,
     "end_time": "2022-04-24T04:43:18.162876",
     "exception": false,
     "start_time": "2022-04-24T04:43:18.117986",
     "status": "completed"
    },
    "tags": []
   },
   "outputs": [
    {
     "data": {
      "application/javascript": [
       "parent.postMessage({\"jupyterEvent\": \"custom.exercise_interaction\", \"data\": {\"interactionType\": 3, \"questionType\": 4, \"questionId\": \"2.2_Q2T\", \"learnToolsVersion\": \"0.3.4\", \"valueTowardsCompletion\": 0.0, \"failureMessage\": \"\", \"exceptionClass\": \"\", \"trace\": \"\", \"outcomeType\": 4}}, \"*\")"
      ],
      "text/plain": [
       "<IPython.core.display.Javascript object>"
      ]
     },
     "metadata": {},
     "output_type": "display_data"
    },
    {
     "data": {
      "text/markdown": [
       "<span style=\"color:#33cc99\">Solution:</span> In the northern half of Japan, it does appear that earthquakes closer to plate boundaries tend to be shallower (and earthquakes farther from plate boundaries are deeper).  This pattern is repeated in other locations, such as the western coast of South America.  But, it does not hold everywhere (for instance, in China, Mongolia, and Russia)."
      ],
      "text/plain": [
       "Solution: In the northern half of Japan, it does appear that earthquakes closer to plate boundaries tend to be shallower (and earthquakes farther from plate boundaries are deeper).  This pattern is repeated in other locations, such as the western coast of South America.  But, it does not hold everywhere (for instance, in China, Mongolia, and Russia)."
      ]
     },
     "metadata": {},
     "output_type": "display_data"
    }
   ],
   "source": [
    "# View the solution (Run this code cell to receive credit!)\n",
    "q_2.b.solution()"
   ]
  },
  {
   "cell_type": "markdown",
   "id": "73e9939b",
   "metadata": {
    "papermill": {
     "duration": 0.036032,
     "end_time": "2022-04-24T04:43:18.235425",
     "exception": false,
     "start_time": "2022-04-24T04:43:18.199393",
     "status": "completed"
    },
    "tags": []
   },
   "source": [
    "### 3) Which prefectures have high population density?\n",
    "\n",
    "Run the next code cell (without changes) to create a GeoDataFrame `prefectures` that contains the geographical boundaries of Japanese prefectures."
   ]
  },
  {
   "cell_type": "code",
   "execution_count": 11,
   "id": "af5e2a98",
   "metadata": {
    "execution": {
     "iopub.execute_input": "2022-04-24T04:43:18.309953Z",
     "iopub.status.busy": "2022-04-24T04:43:18.309427Z",
     "iopub.status.idle": "2022-04-24T04:43:19.363761Z",
     "shell.execute_reply": "2022-04-24T04:43:19.363212Z"
    },
    "papermill": {
     "duration": 1.094088,
     "end_time": "2022-04-24T04:43:19.365630",
     "exception": false,
     "start_time": "2022-04-24T04:43:18.271542",
     "status": "completed"
    },
    "tags": []
   },
   "outputs": [
    {
     "data": {
      "text/html": [
       "<div>\n",
       "<style scoped>\n",
       "    .dataframe tbody tr th:only-of-type {\n",
       "        vertical-align: middle;\n",
       "    }\n",
       "\n",
       "    .dataframe tbody tr th {\n",
       "        vertical-align: top;\n",
       "    }\n",
       "\n",
       "    .dataframe thead th {\n",
       "        text-align: right;\n",
       "    }\n",
       "</style>\n",
       "<table border=\"1\" class=\"dataframe\">\n",
       "  <thead>\n",
       "    <tr style=\"text-align: right;\">\n",
       "      <th></th>\n",
       "      <th>geometry</th>\n",
       "    </tr>\n",
       "    <tr>\n",
       "      <th>prefecture</th>\n",
       "      <th></th>\n",
       "    </tr>\n",
       "  </thead>\n",
       "  <tbody>\n",
       "    <tr>\n",
       "      <th>Aichi</th>\n",
       "      <td>MULTIPOLYGON (((137.09523 34.65330, 137.09546 ...</td>\n",
       "    </tr>\n",
       "    <tr>\n",
       "      <th>Akita</th>\n",
       "      <td>MULTIPOLYGON (((139.55725 39.20330, 139.55765 ...</td>\n",
       "    </tr>\n",
       "    <tr>\n",
       "      <th>Aomori</th>\n",
       "      <td>MULTIPOLYGON (((141.39860 40.92472, 141.39806 ...</td>\n",
       "    </tr>\n",
       "    <tr>\n",
       "      <th>Chiba</th>\n",
       "      <td>MULTIPOLYGON (((139.82488 34.98967, 139.82434 ...</td>\n",
       "    </tr>\n",
       "    <tr>\n",
       "      <th>Ehime</th>\n",
       "      <td>MULTIPOLYGON (((132.55859 32.91224, 132.55904 ...</td>\n",
       "    </tr>\n",
       "  </tbody>\n",
       "</table>\n",
       "</div>"
      ],
      "text/plain": [
       "                                                     geometry\n",
       "prefecture                                                   \n",
       "Aichi       MULTIPOLYGON (((137.09523 34.65330, 137.09546 ...\n",
       "Akita       MULTIPOLYGON (((139.55725 39.20330, 139.55765 ...\n",
       "Aomori      MULTIPOLYGON (((141.39860 40.92472, 141.39806 ...\n",
       "Chiba       MULTIPOLYGON (((139.82488 34.98967, 139.82434 ...\n",
       "Ehime       MULTIPOLYGON (((132.55859 32.91224, 132.55904 ..."
      ]
     },
     "execution_count": 11,
     "metadata": {},
     "output_type": "execute_result"
    }
   ],
   "source": [
    "# GeoDataFrame with prefecture boundaries\n",
    "prefectures = gpd.read_file(\"../input/geospatial-learn-course-data/japan-prefecture-boundaries/japan-prefecture-boundaries/japan-prefecture-boundaries.shp\")\n",
    "prefectures.set_index('prefecture', inplace=True)\n",
    "prefectures.head()"
   ]
  },
  {
   "cell_type": "markdown",
   "id": "01958464",
   "metadata": {
    "papermill": {
     "duration": 0.037469,
     "end_time": "2022-04-24T04:43:19.441113",
     "exception": false,
     "start_time": "2022-04-24T04:43:19.403644",
     "status": "completed"
    },
    "tags": []
   },
   "source": [
    "The next code cell creates a DataFrame `stats` containing the population, area (in square kilometers), and population density (per square kilometer) for each Japanese prefecture.  Run the code cell without changes."
   ]
  },
  {
   "cell_type": "code",
   "execution_count": 12,
   "id": "82c99784",
   "metadata": {
    "execution": {
     "iopub.execute_input": "2022-04-24T04:43:19.517255Z",
     "iopub.status.busy": "2022-04-24T04:43:19.516762Z",
     "iopub.status.idle": "2022-04-24T04:43:19.901184Z",
     "shell.execute_reply": "2022-04-24T04:43:19.900294Z"
    },
    "papermill": {
     "duration": 0.425591,
     "end_time": "2022-04-24T04:43:19.903381",
     "exception": false,
     "start_time": "2022-04-24T04:43:19.477790",
     "status": "completed"
    },
    "tags": []
   },
   "outputs": [
    {
     "data": {
      "text/html": [
       "<div>\n",
       "<style scoped>\n",
       "    .dataframe tbody tr th:only-of-type {\n",
       "        vertical-align: middle;\n",
       "    }\n",
       "\n",
       "    .dataframe tbody tr th {\n",
       "        vertical-align: top;\n",
       "    }\n",
       "\n",
       "    .dataframe thead th {\n",
       "        text-align: right;\n",
       "    }\n",
       "</style>\n",
       "<table border=\"1\" class=\"dataframe\">\n",
       "  <thead>\n",
       "    <tr style=\"text-align: right;\">\n",
       "      <th></th>\n",
       "      <th>population</th>\n",
       "      <th>area_sqkm</th>\n",
       "      <th>density</th>\n",
       "    </tr>\n",
       "    <tr>\n",
       "      <th>prefecture</th>\n",
       "      <th></th>\n",
       "      <th></th>\n",
       "      <th></th>\n",
       "    </tr>\n",
       "  </thead>\n",
       "  <tbody>\n",
       "    <tr>\n",
       "      <th>Tokyo</th>\n",
       "      <td>12868000</td>\n",
       "      <td>1800.614782</td>\n",
       "      <td>7146.448049</td>\n",
       "    </tr>\n",
       "    <tr>\n",
       "      <th>Kanagawa</th>\n",
       "      <td>8943000</td>\n",
       "      <td>2383.038975</td>\n",
       "      <td>3752.771186</td>\n",
       "    </tr>\n",
       "    <tr>\n",
       "      <th>Osaka</th>\n",
       "      <td>8801000</td>\n",
       "      <td>1923.151529</td>\n",
       "      <td>4576.342460</td>\n",
       "    </tr>\n",
       "    <tr>\n",
       "      <th>Aichi</th>\n",
       "      <td>7418000</td>\n",
       "      <td>5164.400005</td>\n",
       "      <td>1436.372085</td>\n",
       "    </tr>\n",
       "    <tr>\n",
       "      <th>Saitama</th>\n",
       "      <td>7130000</td>\n",
       "      <td>3794.036890</td>\n",
       "      <td>1879.264806</td>\n",
       "    </tr>\n",
       "  </tbody>\n",
       "</table>\n",
       "</div>"
      ],
      "text/plain": [
       "            population    area_sqkm      density\n",
       "prefecture                                      \n",
       "Tokyo         12868000  1800.614782  7146.448049\n",
       "Kanagawa       8943000  2383.038975  3752.771186\n",
       "Osaka          8801000  1923.151529  4576.342460\n",
       "Aichi          7418000  5164.400005  1436.372085\n",
       "Saitama        7130000  3794.036890  1879.264806"
      ]
     },
     "execution_count": 12,
     "metadata": {},
     "output_type": "execute_result"
    }
   ],
   "source": [
    "# DataFrame containing population of each prefecture\n",
    "population = pd.read_csv(\"../input/geospatial-learn-course-data/japan-prefecture-population.csv\")\n",
    "population.set_index('prefecture', inplace=True)\n",
    "\n",
    "# Calculate area (in square kilometers) of each prefecture\n",
    "area_sqkm = pd.Series(prefectures.geometry.to_crs(epsg=32654).area / 10**6, name='area_sqkm')\n",
    "stats = population.join(area_sqkm)\n",
    "\n",
    "# Add density (per square kilometer) of each prefecture\n",
    "stats['density'] = stats[\"population\"] / stats[\"area_sqkm\"]\n",
    "stats.head()"
   ]
  },
  {
   "cell_type": "markdown",
   "id": "20d97e15",
   "metadata": {
    "papermill": {
     "duration": 0.03716,
     "end_time": "2022-04-24T04:43:19.978426",
     "exception": false,
     "start_time": "2022-04-24T04:43:19.941266",
     "status": "completed"
    },
    "tags": []
   },
   "source": [
    "Use the next code cell to create a choropleth map to visualize population density."
   ]
  },
  {
   "cell_type": "code",
   "execution_count": 13,
   "id": "2409e131",
   "metadata": {
    "execution": {
     "iopub.execute_input": "2022-04-24T04:43:20.056254Z",
     "iopub.status.busy": "2022-04-24T04:43:20.055950Z",
     "iopub.status.idle": "2022-04-24T04:43:30.027373Z",
     "shell.execute_reply": "2022-04-24T04:43:30.026364Z"
    },
    "papermill": {
     "duration": 10.014438,
     "end_time": "2022-04-24T04:43:30.030190",
     "exception": false,
     "start_time": "2022-04-24T04:43:20.015752",
     "status": "completed"
    },
    "tags": []
   },
   "outputs": [
    {
     "data": {
      "text/html": [
       "\n",
       "        <iframe\n",
       "            width=\"100%\"\n",
       "            height=\"500px\"\n",
       "            src=\"q_3.html\"\n",
       "            frameborder=\"0\"\n",
       "            allowfullscreen\n",
       "            \n",
       "        ></iframe>\n",
       "        "
      ],
      "text/plain": [
       "<IPython.lib.display.IFrame at 0x7f4cfff1fb10>"
      ]
     },
     "execution_count": 13,
     "metadata": {},
     "output_type": "execute_result"
    }
   ],
   "source": [
    "# Create a base map\n",
    "m_3 = folium.Map(location=[35,136], tiles='cartodbpositron', zoom_start=5)\n",
    "\n",
    "# Your code here: create a choropleth map to visualize population density\n",
    "Choropleth(geo_data=prefectures['geometry'].__geo_interface__, \n",
    "           data=stats['density'], \n",
    "           key_on=\"feature.id\", \n",
    "           fill_color='YlGnBu', \n",
    "           legend_name='population density'\n",
    "          ).add_to(m_3)\n",
    "\n",
    "# Uncomment to see a hint\n",
    "#q_3.a.hint()\n",
    "\n",
    "# View the map\n",
    "embed_map(m_3, 'q_3.html')"
   ]
  },
  {
   "cell_type": "code",
   "execution_count": 14,
   "id": "e7161fd1",
   "metadata": {
    "execution": {
     "iopub.execute_input": "2022-04-24T04:43:30.108588Z",
     "iopub.status.busy": "2022-04-24T04:43:30.108139Z",
     "iopub.status.idle": "2022-04-24T04:43:30.117160Z",
     "shell.execute_reply": "2022-04-24T04:43:30.116094Z"
    },
    "papermill": {
     "duration": 0.050475,
     "end_time": "2022-04-24T04:43:30.119271",
     "exception": false,
     "start_time": "2022-04-24T04:43:30.068796",
     "status": "completed"
    },
    "tags": []
   },
   "outputs": [
    {
     "data": {
      "application/javascript": [
       "parent.postMessage({\"jupyterEvent\": \"custom.exercise_interaction\", \"data\": {\"outcomeType\": 1, \"valueTowardsCompletion\": 1.0, \"interactionType\": 1, \"questionType\": 2, \"questionId\": \"3.1_Q3P\", \"learnToolsVersion\": \"0.3.4\", \"failureMessage\": \"\", \"exceptionClass\": \"\", \"trace\": \"\"}}, \"*\")"
      ],
      "text/plain": [
       "<IPython.core.display.Javascript object>"
      ]
     },
     "metadata": {},
     "output_type": "display_data"
    },
    {
     "data": {
      "text/markdown": [
       "<span style=\"color:#33cc33\">Thank you for creating a map!</span>"
      ],
      "text/plain": [
       "Thank you for creating a map!"
      ]
     },
     "metadata": {},
     "output_type": "display_data"
    }
   ],
   "source": [
    "# Get credit for your work after you have created a map\n",
    "q_3.a.check()\n",
    "\n",
    "# Uncomment to see our solution (your code may look different!)\n",
    "#q_3.a.solution()"
   ]
  },
  {
   "cell_type": "markdown",
   "id": "f51d4001",
   "metadata": {
    "papermill": {
     "duration": 0.039093,
     "end_time": "2022-04-24T04:43:30.197529",
     "exception": false,
     "start_time": "2022-04-24T04:43:30.158436",
     "status": "completed"
    },
    "tags": []
   },
   "source": [
    "Which three prefectures have relatively higher density than the others?  Are they spread throughout the country, or all located in roughly the same geographical region?  (*If you're unfamiliar with Japanese geography, you might find [this map](https://en.wikipedia.org/wiki/Prefectures_of_Japan) useful to answer the questions.)*"
   ]
  },
  {
   "cell_type": "code",
   "execution_count": 15,
   "id": "1f755f7a",
   "metadata": {
    "execution": {
     "iopub.execute_input": "2022-04-24T04:43:30.279232Z",
     "iopub.status.busy": "2022-04-24T04:43:30.278880Z",
     "iopub.status.idle": "2022-04-24T04:43:30.287191Z",
     "shell.execute_reply": "2022-04-24T04:43:30.286228Z"
    },
    "papermill": {
     "duration": 0.051873,
     "end_time": "2022-04-24T04:43:30.289572",
     "exception": false,
     "start_time": "2022-04-24T04:43:30.237699",
     "status": "completed"
    },
    "tags": []
   },
   "outputs": [
    {
     "data": {
      "application/javascript": [
       "parent.postMessage({\"jupyterEvent\": \"custom.exercise_interaction\", \"data\": {\"interactionType\": 3, \"questionType\": 4, \"questionId\": \"3.2_Q3T\", \"learnToolsVersion\": \"0.3.4\", \"valueTowardsCompletion\": 0.0, \"failureMessage\": \"\", \"exceptionClass\": \"\", \"trace\": \"\", \"outcomeType\": 4}}, \"*\")"
      ],
      "text/plain": [
       "<IPython.core.display.Javascript object>"
      ]
     },
     "metadata": {},
     "output_type": "display_data"
    },
    {
     "data": {
      "text/markdown": [
       "<span style=\"color:#33cc99\">Solution:</span> Tokyo, Kanagawa, and Osaka have the highest population density.  All of these prefectures are located in central Japan, and Tokyo and Kanagawa are adjacent."
      ],
      "text/plain": [
       "Solution: Tokyo, Kanagawa, and Osaka have the highest population density.  All of these prefectures are located in central Japan, and Tokyo and Kanagawa are adjacent."
      ]
     },
     "metadata": {},
     "output_type": "display_data"
    }
   ],
   "source": [
    "# View the solution (Run this code cell to receive credit!)\n",
    "q_3.b.solution()"
   ]
  },
  {
   "cell_type": "markdown",
   "id": "6587d793",
   "metadata": {
    "papermill": {
     "duration": 0.040112,
     "end_time": "2022-04-24T04:43:30.369936",
     "exception": false,
     "start_time": "2022-04-24T04:43:30.329824",
     "status": "completed"
    },
    "tags": []
   },
   "source": [
    "### 4) Which high-density prefecture is prone to high-magnitude earthquakes?\n",
    "\n",
    "Create a map to suggest one prefecture that might benefit from earthquake reinforcement.  Your map should visualize both density and earthquake magnitude."
   ]
  },
  {
   "cell_type": "code",
   "execution_count": 16,
   "id": "70eb7d62",
   "metadata": {
    "execution": {
     "iopub.execute_input": "2022-04-24T04:43:30.452516Z",
     "iopub.status.busy": "2022-04-24T04:43:30.452247Z",
     "iopub.status.idle": "2022-04-24T04:43:54.722112Z",
     "shell.execute_reply": "2022-04-24T04:43:54.721280Z"
    },
    "papermill": {
     "duration": 24.314158,
     "end_time": "2022-04-24T04:43:54.724347",
     "exception": false,
     "start_time": "2022-04-24T04:43:30.410189",
     "status": "completed"
    },
    "tags": []
   },
   "outputs": [
    {
     "data": {
      "text/html": [
       "\n",
       "        <iframe\n",
       "            width=\"100%\"\n",
       "            height=\"500px\"\n",
       "            src=\"q_4.html\"\n",
       "            frameborder=\"0\"\n",
       "            allowfullscreen\n",
       "            \n",
       "        ></iframe>\n",
       "        "
      ],
      "text/plain": [
       "<IPython.lib.display.IFrame at 0x7f4cf1b66f90>"
      ]
     },
     "execution_count": 16,
     "metadata": {},
     "output_type": "execute_result"
    }
   ],
   "source": [
    "# Create a base map\n",
    "m_4 = folium.Map(location=[35,136], tiles='cartodbpositron', zoom_start=5)\n",
    "\n",
    "# Your code here: create a map\n",
    "def color_producer(magnitude):\n",
    "    if magnitude > 6.5:\n",
    "        return 'red'\n",
    "    else:\n",
    "        return 'green'\n",
    "\n",
    "Choropleth(\n",
    "    geo_data=prefectures['geometry'].__geo_interface__,\n",
    "    data=stats['density'],\n",
    "    key_on=\"feature.id\",\n",
    "    fill_color='BuPu',\n",
    "    legend_name='Population density (per square kilometer)').add_to(m_4)\n",
    "\n",
    "for i in range(0,len(earthquakes)):\n",
    "    folium.Circle(\n",
    "        location=[earthquakes.iloc[i]['Latitude'], earthquakes.iloc[i]['Longitude']],\n",
    "        popup=(\"{} ({})\").format(\n",
    "            earthquakes.iloc[i]['Magnitude'],\n",
    "            earthquakes.iloc[i]['DateTime'].year),\n",
    "        radius=earthquakes.iloc[i]['Magnitude']**5.5,\n",
    "        color=color_producer(earthquakes.iloc[i]['Magnitude'])).add_to(m_4)\n",
    "\n",
    "# Uncomment to see a hint\n",
    "#q_4.a.hint()\n",
    "\n",
    "# View the map\n",
    "embed_map(m_4, 'q_4.html')"
   ]
  },
  {
   "cell_type": "code",
   "execution_count": 17,
   "id": "0bb303e9",
   "metadata": {
    "execution": {
     "iopub.execute_input": "2022-04-24T04:43:54.808026Z",
     "iopub.status.busy": "2022-04-24T04:43:54.807770Z",
     "iopub.status.idle": "2022-04-24T04:43:54.815963Z",
     "shell.execute_reply": "2022-04-24T04:43:54.815054Z"
    },
    "papermill": {
     "duration": 0.052081,
     "end_time": "2022-04-24T04:43:54.818110",
     "exception": false,
     "start_time": "2022-04-24T04:43:54.766029",
     "status": "completed"
    },
    "tags": []
   },
   "outputs": [
    {
     "data": {
      "application/javascript": [
       "parent.postMessage({\"jupyterEvent\": \"custom.exercise_interaction\", \"data\": {\"outcomeType\": 1, \"valueTowardsCompletion\": 1.0, \"interactionType\": 1, \"questionType\": 2, \"questionId\": \"4.1_Q4P\", \"learnToolsVersion\": \"0.3.4\", \"failureMessage\": \"\", \"exceptionClass\": \"\", \"trace\": \"\"}}, \"*\")"
      ],
      "text/plain": [
       "<IPython.core.display.Javascript object>"
      ]
     },
     "metadata": {},
     "output_type": "display_data"
    },
    {
     "data": {
      "text/markdown": [
       "<span style=\"color:#33cc33\">Thank you for creating a map!</span>"
      ],
      "text/plain": [
       "Thank you for creating a map!"
      ]
     },
     "metadata": {},
     "output_type": "display_data"
    }
   ],
   "source": [
    "# Get credit for your work after you have created a map\n",
    "q_4.a.check()\n",
    "\n",
    "# Uncomment to see our solution (your code may look different!)\n",
    "#q_4.a.solution()"
   ]
  },
  {
   "cell_type": "markdown",
   "id": "1114c59b",
   "metadata": {
    "papermill": {
     "duration": 0.041126,
     "end_time": "2022-04-24T04:43:54.901637",
     "exception": false,
     "start_time": "2022-04-24T04:43:54.860511",
     "status": "completed"
    },
    "tags": []
   },
   "source": [
    "Which prefecture do you recommend for extra earthquake reinforcement?"
   ]
  },
  {
   "cell_type": "code",
   "execution_count": 18,
   "id": "2c51fa93",
   "metadata": {
    "execution": {
     "iopub.execute_input": "2022-04-24T04:43:54.987557Z",
     "iopub.status.busy": "2022-04-24T04:43:54.987280Z",
     "iopub.status.idle": "2022-04-24T04:43:54.994502Z",
     "shell.execute_reply": "2022-04-24T04:43:54.993674Z"
    },
    "papermill": {
     "duration": 0.052727,
     "end_time": "2022-04-24T04:43:54.996593",
     "exception": false,
     "start_time": "2022-04-24T04:43:54.943866",
     "status": "completed"
    },
    "tags": []
   },
   "outputs": [
    {
     "data": {
      "application/javascript": [
       "parent.postMessage({\"jupyterEvent\": \"custom.exercise_interaction\", \"data\": {\"interactionType\": 3, \"questionType\": 4, \"questionId\": \"4.2_Q4T\", \"learnToolsVersion\": \"0.3.4\", \"valueTowardsCompletion\": 0.0, \"failureMessage\": \"\", \"exceptionClass\": \"\", \"trace\": \"\", \"outcomeType\": 4}}, \"*\")"
      ],
      "text/plain": [
       "<IPython.core.display.Javascript object>"
      ]
     },
     "metadata": {},
     "output_type": "display_data"
    },
    {
     "data": {
      "text/markdown": [
       "<span style=\"color:#33cc99\">Solution:</span> While there's no clear, single answer to this question, there are a few reasonable options. **Tokyo** is by far the most densely populated prefecture and has also experienced a number of earthquakes.  **Osaka** is relatively less densely populated, but experienced an earthquake that was relatively stronger than those near Tokyo.  And, the long coast of **Kanagawa** (in addition to its high density and the historical proximity of strong earthquakes) might lead us to worry about the added potential tsunami risk."
      ],
      "text/plain": [
       "Solution: While there's no clear, single answer to this question, there are a few reasonable options. **Tokyo** is by far the most densely populated prefecture and has also experienced a number of earthquakes.  **Osaka** is relatively less densely populated, but experienced an earthquake that was relatively stronger than those near Tokyo.  And, the long coast of **Kanagawa** (in addition to its high density and the historical proximity of strong earthquakes) might lead us to worry about the added potential tsunami risk."
      ]
     },
     "metadata": {},
     "output_type": "display_data"
    }
   ],
   "source": [
    "# View the solution (Run this code cell to receive credit!)\n",
    "q_4.b.solution()"
   ]
  },
  {
   "cell_type": "markdown",
   "id": "4a484a98",
   "metadata": {
    "papermill": {
     "duration": 0.043563,
     "end_time": "2022-04-24T04:43:55.083809",
     "exception": false,
     "start_time": "2022-04-24T04:43:55.040246",
     "status": "completed"
    },
    "tags": []
   },
   "source": [
    "# Keep going\n",
    "\n",
    "Learn how to convert names of places to geographic coordinates with **[geocoding](https://www.kaggle.com/alexisbcook/manipulating-geospatial-data)**.  You'll also explore special ways to join information from multiple GeoDataFrames."
   ]
  },
  {
   "cell_type": "markdown",
   "id": "a961dfe7",
   "metadata": {
    "papermill": {
     "duration": 0.042398,
     "end_time": "2022-04-24T04:43:55.169073",
     "exception": false,
     "start_time": "2022-04-24T04:43:55.126675",
     "status": "completed"
    },
    "tags": []
   },
   "source": [
    "---\n",
    "\n",
    "\n",
    "\n",
    "\n",
    "*Have questions or comments? Visit the [course discussion forum](https://www.kaggle.com/learn/geospatial-analysis/discussion) to chat with other learners.*"
   ]
  }
 ],
 "metadata": {
  "kernelspec": {
   "display_name": "Python 3",
   "language": "python",
   "name": "python3"
  },
  "language_info": {
   "codemirror_mode": {
    "name": "ipython",
    "version": 3
   },
   "file_extension": ".py",
   "mimetype": "text/x-python",
   "name": "python",
   "nbconvert_exporter": "python",
   "pygments_lexer": "ipython3",
   "version": "3.7.12"
  },
  "papermill": {
   "default_parameters": {},
   "duration": 59.347266,
   "end_time": "2022-04-24T04:43:56.334684",
   "environment_variables": {},
   "exception": null,
   "input_path": "__notebook__.ipynb",
   "output_path": "__notebook__.ipynb",
   "parameters": {},
   "start_time": "2022-04-24T04:42:56.987418",
   "version": "2.3.4"
  }
 },
 "nbformat": 4,
 "nbformat_minor": 5
}
