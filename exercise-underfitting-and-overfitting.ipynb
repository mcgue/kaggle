{
 "cells": [
  {
   "cell_type": "markdown",
   "id": "ab413e50",
   "metadata": {
    "papermill": {
     "duration": 0.009571,
     "end_time": "2022-03-17T18:26:25.776042",
     "exception": false,
     "start_time": "2022-03-17T18:26:25.766471",
     "status": "completed"
    },
    "tags": []
   },
   "source": [
    "**This notebook is an exercise in the [Introduction to Machine Learning](https://www.kaggle.com/learn/intro-to-machine-learning) course.  You can reference the tutorial at [this link](https://www.kaggle.com/dansbecker/underfitting-and-overfitting).**\n",
    "\n",
    "---\n"
   ]
  },
  {
   "cell_type": "markdown",
   "id": "4cc8943a",
   "metadata": {
    "papermill": {
     "duration": 0.008584,
     "end_time": "2022-03-17T18:26:25.793768",
     "exception": false,
     "start_time": "2022-03-17T18:26:25.785184",
     "status": "completed"
    },
    "tags": []
   },
   "source": [
    "## Recap\n",
    "You've built your first model, and now it's time to optimize the size of the tree to make better predictions. Run this cell to set up your coding environment where the previous step left off."
   ]
  },
  {
   "cell_type": "code",
   "execution_count": 1,
   "id": "4a149261",
   "metadata": {
    "execution": {
     "iopub.execute_input": "2022-03-17T18:26:25.816689Z",
     "iopub.status.busy": "2022-03-17T18:26:25.815404Z",
     "iopub.status.idle": "2022-03-17T18:26:26.984164Z",
     "shell.execute_reply": "2022-03-17T18:26:26.984594Z",
     "shell.execute_reply.started": "2022-03-17T18:06:45.766465Z"
    },
    "papermill": {
     "duration": 1.181965,
     "end_time": "2022-03-17T18:26:26.984810",
     "exception": false,
     "start_time": "2022-03-17T18:26:25.802845",
     "status": "completed"
    },
    "tags": []
   },
   "outputs": [
    {
     "name": "stdout",
     "output_type": "stream",
     "text": [
      "Validation MAE: 29,653\n",
      "\n",
      "Setup complete\n"
     ]
    }
   ],
   "source": [
    "# Code you have previously used to load data\n",
    "import pandas as pd\n",
    "from sklearn.metrics import mean_absolute_error\n",
    "from sklearn.model_selection import train_test_split\n",
    "from sklearn.tree import DecisionTreeRegressor\n",
    "\n",
    "\n",
    "# Path of the file to read\n",
    "iowa_file_path = '../input/home-data-for-ml-course/train.csv'\n",
    "\n",
    "home_data = pd.read_csv(iowa_file_path)\n",
    "# Create target object and call it y\n",
    "y = home_data.SalePrice\n",
    "# Create X\n",
    "features = ['LotArea', 'YearBuilt', '1stFlrSF', '2ndFlrSF', 'FullBath', 'BedroomAbvGr', 'TotRmsAbvGrd']\n",
    "X = home_data[features]\n",
    "\n",
    "# Split into validation and training data\n",
    "train_X, val_X, train_y, val_y = train_test_split(X, y, random_state=1)\n",
    "\n",
    "# Specify Model\n",
    "iowa_model = DecisionTreeRegressor(random_state=1)\n",
    "# Fit Model\n",
    "iowa_model.fit(train_X, train_y)\n",
    "\n",
    "# Make validation predictions and calculate mean absolute error\n",
    "val_predictions = iowa_model.predict(val_X)\n",
    "val_mae = mean_absolute_error(val_predictions, val_y)\n",
    "print(\"Validation MAE: {:,.0f}\".format(val_mae))\n",
    "\n",
    "# Set up code checking\n",
    "from learntools.core import binder\n",
    "binder.bind(globals())\n",
    "from learntools.machine_learning.ex5 import *\n",
    "print(\"\\nSetup complete\")"
   ]
  },
  {
   "cell_type": "markdown",
   "id": "735e7d7e",
   "metadata": {
    "papermill": {
     "duration": 0.009181,
     "end_time": "2022-03-17T18:26:27.003879",
     "exception": false,
     "start_time": "2022-03-17T18:26:26.994698",
     "status": "completed"
    },
    "tags": []
   },
   "source": [
    "# Exercises\n",
    "You could write the function `get_mae` yourself. For now, we'll supply it. This is the same function you read about in the previous lesson. Just run the cell below."
   ]
  },
  {
   "cell_type": "code",
   "execution_count": 2,
   "id": "3cf289c7",
   "metadata": {
    "execution": {
     "iopub.execute_input": "2022-03-17T18:26:27.032043Z",
     "iopub.status.busy": "2022-03-17T18:26:27.029129Z",
     "iopub.status.idle": "2022-03-17T18:26:27.033942Z",
     "shell.execute_reply": "2022-03-17T18:26:27.034596Z",
     "shell.execute_reply.started": "2022-03-17T18:06:53.417856Z"
    },
    "papermill": {
     "duration": 0.020057,
     "end_time": "2022-03-17T18:26:27.034802",
     "exception": false,
     "start_time": "2022-03-17T18:26:27.014745",
     "status": "completed"
    },
    "tags": []
   },
   "outputs": [],
   "source": [
    "def get_mae(max_leaf_nodes, train_X, val_X, train_y, val_y):\n",
    "    model = DecisionTreeRegressor(max_leaf_nodes=max_leaf_nodes, random_state=0)\n",
    "    model.fit(train_X, train_y)\n",
    "    preds_val = model.predict(val_X)\n",
    "    mae = mean_absolute_error(val_y, preds_val)\n",
    "    return(mae)"
   ]
  },
  {
   "cell_type": "markdown",
   "id": "3907524a",
   "metadata": {
    "papermill": {
     "duration": 0.015515,
     "end_time": "2022-03-17T18:26:27.065928",
     "exception": false,
     "start_time": "2022-03-17T18:26:27.050413",
     "status": "completed"
    },
    "tags": []
   },
   "source": [
    "## Step 1: Compare Different Tree Sizes\n",
    "Write a loop that tries the following values for *max_leaf_nodes* from a set of possible values.\n",
    "\n",
    "Call the *get_mae* function on each value of max_leaf_nodes. Store the output in some way that allows you to select the value of `max_leaf_nodes` that gives the most accurate model on your data."
   ]
  },
  {
   "cell_type": "code",
   "execution_count": 3,
   "id": "a9b4aafb",
   "metadata": {
    "execution": {
     "iopub.execute_input": "2022-03-17T18:26:27.107641Z",
     "iopub.status.busy": "2022-03-17T18:26:27.106818Z",
     "iopub.status.idle": "2022-03-17T18:26:27.151395Z",
     "shell.execute_reply": "2022-03-17T18:26:27.150730Z",
     "shell.execute_reply.started": "2022-03-17T18:21:49.912087Z"
    },
    "papermill": {
     "duration": 0.066559,
     "end_time": "2022-03-17T18:26:27.151542",
     "exception": false,
     "start_time": "2022-03-17T18:26:27.084983",
     "status": "completed"
    },
    "tags": []
   },
   "outputs": [
    {
     "name": "stdout",
     "output_type": "stream",
     "text": [
      "Max leaf nodes: 5  \t\t Mean Absolute Error:  35044\n",
      "Max leaf nodes: 25  \t\t Mean Absolute Error:  29016\n",
      "Max leaf nodes: 50  \t\t Mean Absolute Error:  27405\n",
      "Max leaf nodes: 100  \t\t Mean Absolute Error:  27282\n",
      "Max leaf nodes: 250  \t\t Mean Absolute Error:  27893\n",
      "Max leaf nodes: 500  \t\t Mean Absolute Error:  29454\n"
     ]
    },
    {
     "data": {
      "application/javascript": [
       "parent.postMessage({\"jupyterEvent\": \"custom.exercise_interaction\", \"data\": {\"outcomeType\": 1, \"valueTowardsCompletion\": 0.5, \"interactionType\": 1, \"questionType\": 1, \"questionId\": \"1_BestTreeSize\", \"learnToolsVersion\": \"0.3.4\", \"failureMessage\": \"\", \"exceptionClass\": \"\", \"trace\": \"\"}}, \"*\")"
      ],
      "text/plain": [
       "<IPython.core.display.Javascript object>"
      ]
     },
     "metadata": {},
     "output_type": "display_data"
    },
    {
     "data": {
      "text/markdown": [
       "<span style=\"color:#33cc33\">Correct</span>"
      ],
      "text/plain": [
       "Correct"
      ]
     },
     "metadata": {},
     "output_type": "display_data"
    }
   ],
   "source": [
    "candidate_max_leaf_nodes = [5, 25, 50, 100, 250, 500]\n",
    "# Write loop to find the ideal tree size from candidate_max_leaf_nodes\n",
    "scores = {}\n",
    "for max_leaf_nodes in candidate_max_leaf_nodes:\n",
    "    my_mae = get_mae(max_leaf_nodes, train_X, val_X, train_y, val_y)\n",
    "    scores.update({max_leaf_nodes: my_mae}) \n",
    "    print(\"Max leaf nodes: %d  \\t\\t Mean Absolute Error:  %d\" %(max_leaf_nodes, my_mae))\n",
    "# Store the best value of max_leaf_nodes (it will be either 5, 25, 50, 100, 250 or 500)\n",
    "best_tree_size = min(scores,key=scores.get)\n",
    "\n",
    "# Check your answer\n",
    "step_1.check()"
   ]
  },
  {
   "cell_type": "code",
   "execution_count": 4,
   "id": "96c02065",
   "metadata": {
    "execution": {
     "iopub.execute_input": "2022-03-17T18:26:27.187769Z",
     "iopub.status.busy": "2022-03-17T18:26:27.185829Z",
     "iopub.status.idle": "2022-03-17T18:26:27.190142Z",
     "shell.execute_reply": "2022-03-17T18:26:27.190572Z",
     "shell.execute_reply.started": "2022-03-16T19:23:43.555603Z"
    },
    "papermill": {
     "duration": 0.023057,
     "end_time": "2022-03-17T18:26:27.190695",
     "exception": false,
     "start_time": "2022-03-17T18:26:27.167638",
     "status": "completed"
    },
    "tags": []
   },
   "outputs": [],
   "source": [
    "# The lines below will show you a hint or the solution.\n",
    "# step_1.hint() \n",
    "# step_1.solution()"
   ]
  },
  {
   "cell_type": "markdown",
   "id": "6e692405",
   "metadata": {
    "papermill": {
     "duration": 0.010081,
     "end_time": "2022-03-17T18:26:27.211498",
     "exception": false,
     "start_time": "2022-03-17T18:26:27.201417",
     "status": "completed"
    },
    "tags": []
   },
   "source": [
    "## Step 2: Fit Model Using All Data\n",
    "You know the best tree size. If you were going to deploy this model in practice, you would make it even more accurate by using all of the data and keeping that tree size.  That is, you don't need to hold out the validation data now that you've made all your modeling decisions."
   ]
  },
  {
   "cell_type": "code",
   "execution_count": 5,
   "id": "2020ab61",
   "metadata": {
    "execution": {
     "iopub.execute_input": "2022-03-17T18:26:27.234876Z",
     "iopub.status.busy": "2022-03-17T18:26:27.234438Z",
     "iopub.status.idle": "2022-03-17T18:26:27.246804Z",
     "shell.execute_reply": "2022-03-17T18:26:27.247238Z",
     "shell.execute_reply.started": "2022-03-17T18:26:01.496607Z"
    },
    "papermill": {
     "duration": 0.025412,
     "end_time": "2022-03-17T18:26:27.247377",
     "exception": false,
     "start_time": "2022-03-17T18:26:27.221965",
     "status": "completed"
    },
    "tags": []
   },
   "outputs": [
    {
     "data": {
      "application/javascript": [
       "parent.postMessage({\"jupyterEvent\": \"custom.exercise_interaction\", \"data\": {\"outcomeType\": 1, \"valueTowardsCompletion\": 0.5, \"interactionType\": 1, \"questionType\": 2, \"questionId\": \"2_FitModelWithAllData\", \"learnToolsVersion\": \"0.3.4\", \"failureMessage\": \"\", \"exceptionClass\": \"\", \"trace\": \"\"}}, \"*\")"
      ],
      "text/plain": [
       "<IPython.core.display.Javascript object>"
      ]
     },
     "metadata": {},
     "output_type": "display_data"
    },
    {
     "data": {
      "text/markdown": [
       "<span style=\"color:#33cc33\">Correct</span>"
      ],
      "text/plain": [
       "Correct"
      ]
     },
     "metadata": {},
     "output_type": "display_data"
    }
   ],
   "source": [
    "# Fill in argument to make optimal size and uncomment\n",
    "final_model = DecisionTreeRegressor(max_leaf_nodes=best_tree_size, random_state=1)\n",
    "\n",
    "# fit the final model and uncomment the next two lines\n",
    "final_model.fit(X, y)\n",
    "\n",
    "# Check your answer\n",
    "step_2.check()"
   ]
  },
  {
   "cell_type": "code",
   "execution_count": 6,
   "id": "6fc9309f",
   "metadata": {
    "execution": {
     "iopub.execute_input": "2022-03-17T18:26:27.273949Z",
     "iopub.status.busy": "2022-03-17T18:26:27.273515Z",
     "iopub.status.idle": "2022-03-17T18:26:27.275508Z",
     "shell.execute_reply": "2022-03-17T18:26:27.275924Z",
     "shell.execute_reply.started": "2022-03-17T18:25:43.549621Z"
    },
    "papermill": {
     "duration": 0.017169,
     "end_time": "2022-03-17T18:26:27.276034",
     "exception": false,
     "start_time": "2022-03-17T18:26:27.258865",
     "status": "completed"
    },
    "tags": []
   },
   "outputs": [],
   "source": [
    "# step_2.hint()\n",
    "#step_2.solution()"
   ]
  },
  {
   "cell_type": "markdown",
   "id": "62905af5",
   "metadata": {
    "papermill": {
     "duration": 0.011174,
     "end_time": "2022-03-17T18:26:27.298648",
     "exception": false,
     "start_time": "2022-03-17T18:26:27.287474",
     "status": "completed"
    },
    "tags": []
   },
   "source": [
    "You've tuned this model and improved your results. But we are still using Decision Tree models, which are not very sophisticated by modern machine learning standards. In the next step you will learn to use Random Forests to improve your models even more.\n",
    "\n",
    "# Keep Going\n",
    "\n",
    "You are ready for **[Random Forests](https://www.kaggle.com/dansbecker/random-forests).**\n"
   ]
  },
  {
   "cell_type": "markdown",
   "id": "223d6a4c",
   "metadata": {
    "papermill": {
     "duration": 0.010916,
     "end_time": "2022-03-17T18:26:27.321237",
     "exception": false,
     "start_time": "2022-03-17T18:26:27.310321",
     "status": "completed"
    },
    "tags": []
   },
   "source": [
    "---\n",
    "\n",
    "\n",
    "\n",
    "\n",
    "*Have questions or comments? Visit the [course discussion forum](https://www.kaggle.com/learn/intro-to-machine-learning/discussion) to chat with other learners.*"
   ]
  }
 ],
 "metadata": {
  "kernelspec": {
   "display_name": "Python 3",
   "language": "python",
   "name": "python3"
  },
  "language_info": {
   "codemirror_mode": {
    "name": "ipython",
    "version": 3
   },
   "file_extension": ".py",
   "mimetype": "text/x-python",
   "name": "python",
   "nbconvert_exporter": "python",
   "pygments_lexer": "ipython3",
   "version": "3.7.12"
  },
  "papermill": {
   "default_parameters": {},
   "duration": 10.34471,
   "end_time": "2022-03-17T18:26:27.942248",
   "environment_variables": {},
   "exception": null,
   "input_path": "__notebook__.ipynb",
   "output_path": "__notebook__.ipynb",
   "parameters": {},
   "start_time": "2022-03-17T18:26:17.597538",
   "version": "2.3.3"
  }
 },
 "nbformat": 4,
 "nbformat_minor": 5
}
