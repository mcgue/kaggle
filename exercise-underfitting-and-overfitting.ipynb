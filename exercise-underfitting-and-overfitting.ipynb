{
 "cells": [
  {
   "cell_type": "markdown",
   "id": "3cc61ad3",
   "metadata": {
    "papermill": {
     "duration": 0.012277,
     "end_time": "2022-03-16T19:24:08.308335",
     "exception": false,
     "start_time": "2022-03-16T19:24:08.296058",
     "status": "completed"
    },
    "tags": []
   },
   "source": [
    "**This notebook is an exercise in the [Introduction to Machine Learning](https://www.kaggle.com/learn/intro-to-machine-learning) course.  You can reference the tutorial at [this link](https://www.kaggle.com/dansbecker/underfitting-and-overfitting).**\n",
    "\n",
    "---\n"
   ]
  },
  {
   "cell_type": "markdown",
   "id": "4080cadb",
   "metadata": {
    "papermill": {
     "duration": 0.010962,
     "end_time": "2022-03-16T19:24:08.332812",
     "exception": false,
     "start_time": "2022-03-16T19:24:08.321850",
     "status": "completed"
    },
    "tags": []
   },
   "source": [
    "## Recap\n",
    "You've built your first model, and now it's time to optimize the size of the tree to make better predictions. Run this cell to set up your coding environment where the previous step left off."
   ]
  },
  {
   "cell_type": "code",
   "execution_count": 1,
   "id": "549a368f",
   "metadata": {
    "execution": {
     "iopub.execute_input": "2022-03-16T19:24:08.366164Z",
     "iopub.status.busy": "2022-03-16T19:24:08.365483Z",
     "iopub.status.idle": "2022-03-16T19:24:09.652261Z",
     "shell.execute_reply": "2022-03-16T19:24:09.651581Z",
     "shell.execute_reply.started": "2022-03-16T19:08:20.132466Z"
    },
    "papermill": {
     "duration": 1.308573,
     "end_time": "2022-03-16T19:24:09.652435",
     "exception": false,
     "start_time": "2022-03-16T19:24:08.343862",
     "status": "completed"
    },
    "tags": []
   },
   "outputs": [
    {
     "name": "stdout",
     "output_type": "stream",
     "text": [
      "Validation MAE: 29,653\n",
      "\n",
      "Setup complete\n"
     ]
    }
   ],
   "source": [
    "# Code you have previously used to load data\n",
    "import pandas as pd\n",
    "from sklearn.metrics import mean_absolute_error\n",
    "from sklearn.model_selection import train_test_split\n",
    "from sklearn.tree import DecisionTreeRegressor\n",
    "\n",
    "\n",
    "# Path of the file to read\n",
    "iowa_file_path = '../input/home-data-for-ml-course/train.csv'\n",
    "\n",
    "home_data = pd.read_csv(iowa_file_path)\n",
    "# Create target object and call it y\n",
    "y = home_data.SalePrice\n",
    "# Create X\n",
    "features = ['LotArea', 'YearBuilt', '1stFlrSF', '2ndFlrSF', 'FullBath', 'BedroomAbvGr', 'TotRmsAbvGrd']\n",
    "X = home_data[features]\n",
    "\n",
    "# Split into validation and training data\n",
    "train_X, val_X, train_y, val_y = train_test_split(X, y, random_state=1)\n",
    "\n",
    "# Specify Model\n",
    "iowa_model = DecisionTreeRegressor(random_state=1)\n",
    "# Fit Model\n",
    "iowa_model.fit(train_X, train_y)\n",
    "\n",
    "# Make validation predictions and calculate mean absolute error\n",
    "val_predictions = iowa_model.predict(val_X)\n",
    "val_mae = mean_absolute_error(val_predictions, val_y)\n",
    "print(\"Validation MAE: {:,.0f}\".format(val_mae))\n",
    "\n",
    "# Set up code checking\n",
    "from learntools.core import binder\n",
    "binder.bind(globals())\n",
    "from learntools.machine_learning.ex5 import *\n",
    "print(\"\\nSetup complete\")"
   ]
  },
  {
   "cell_type": "markdown",
   "id": "58b47cde",
   "metadata": {
    "papermill": {
     "duration": 0.011093,
     "end_time": "2022-03-16T19:24:09.675405",
     "exception": false,
     "start_time": "2022-03-16T19:24:09.664312",
     "status": "completed"
    },
    "tags": []
   },
   "source": [
    "# Exercises\n",
    "You could write the function `get_mae` yourself. For now, we'll supply it. This is the same function you read about in the previous lesson. Just run the cell below."
   ]
  },
  {
   "cell_type": "code",
   "execution_count": 2,
   "id": "b90c1021",
   "metadata": {
    "execution": {
     "iopub.execute_input": "2022-03-16T19:24:09.701610Z",
     "iopub.status.busy": "2022-03-16T19:24:09.700944Z",
     "iopub.status.idle": "2022-03-16T19:24:09.706415Z",
     "shell.execute_reply": "2022-03-16T19:24:09.705889Z",
     "shell.execute_reply.started": "2022-03-16T19:08:27.938831Z"
    },
    "papermill": {
     "duration": 0.019712,
     "end_time": "2022-03-16T19:24:09.706559",
     "exception": false,
     "start_time": "2022-03-16T19:24:09.686847",
     "status": "completed"
    },
    "tags": []
   },
   "outputs": [],
   "source": [
    "def get_mae(max_leaf_nodes, train_X, val_X, train_y, val_y):\n",
    "    model = DecisionTreeRegressor(max_leaf_nodes=max_leaf_nodes, random_state=0)\n",
    "    model.fit(train_X, train_y)\n",
    "    preds_val = model.predict(val_X)\n",
    "    mae = mean_absolute_error(val_y, preds_val)\n",
    "    return(mae)"
   ]
  },
  {
   "cell_type": "markdown",
   "id": "37df73fd",
   "metadata": {
    "papermill": {
     "duration": 0.011999,
     "end_time": "2022-03-16T19:24:09.730323",
     "exception": false,
     "start_time": "2022-03-16T19:24:09.718324",
     "status": "completed"
    },
    "tags": []
   },
   "source": [
    "## Step 1: Compare Different Tree Sizes\n",
    "Write a loop that tries the following values for *max_leaf_nodes* from a set of possible values.\n",
    "\n",
    "Call the *get_mae* function on each value of max_leaf_nodes. Store the output in some way that allows you to select the value of `max_leaf_nodes` that gives the most accurate model on your data."
   ]
  },
  {
   "cell_type": "code",
   "execution_count": 3,
   "id": "591434cb",
   "metadata": {
    "execution": {
     "iopub.execute_input": "2022-03-16T19:24:09.762893Z",
     "iopub.status.busy": "2022-03-16T19:24:09.762189Z",
     "iopub.status.idle": "2022-03-16T19:24:09.809799Z",
     "shell.execute_reply": "2022-03-16T19:24:09.809296Z",
     "shell.execute_reply.started": "2022-03-16T19:21:52.558653Z"
    },
    "papermill": {
     "duration": 0.068066,
     "end_time": "2022-03-16T19:24:09.809942",
     "exception": false,
     "start_time": "2022-03-16T19:24:09.741876",
     "status": "completed"
    },
    "tags": []
   },
   "outputs": [
    {
     "name": "stdout",
     "output_type": "stream",
     "text": [
      "Max leaf nodes: 5  \t\t Mean Absolute Error:  35044\n",
      "{5: 35044.51299744237}\n",
      "Max leaf nodes: 25  \t\t Mean Absolute Error:  29016\n",
      "{5: 35044.51299744237, 25: 29016.41319191076}\n",
      "Max leaf nodes: 50  \t\t Mean Absolute Error:  27405\n",
      "{5: 35044.51299744237, 25: 29016.41319191076, 50: 27405.930473214907}\n",
      "Max leaf nodes: 100  \t\t Mean Absolute Error:  27282\n",
      "{5: 35044.51299744237, 25: 29016.41319191076, 50: 27405.930473214907, 100: 27282.50803885739}\n",
      "Max leaf nodes: 250  \t\t Mean Absolute Error:  27893\n",
      "{5: 35044.51299744237, 25: 29016.41319191076, 50: 27405.930473214907, 100: 27282.50803885739, 250: 27893.822225701646}\n",
      "Max leaf nodes: 500  \t\t Mean Absolute Error:  29454\n",
      "{5: 35044.51299744237, 25: 29016.41319191076, 50: 27405.930473214907, 100: 27282.50803885739, 250: 27893.822225701646, 500: 29454.18598068598}\n"
     ]
    },
    {
     "data": {
      "application/javascript": [
       "parent.postMessage({\"jupyterEvent\": \"custom.exercise_interaction\", \"data\": {\"outcomeType\": 1, \"valueTowardsCompletion\": 0.5, \"interactionType\": 1, \"questionType\": 1, \"questionId\": \"1_BestTreeSize\", \"learnToolsVersion\": \"0.3.4\", \"failureMessage\": \"\", \"exceptionClass\": \"\", \"trace\": \"\"}}, \"*\")"
      ],
      "text/plain": [
       "<IPython.core.display.Javascript object>"
      ]
     },
     "metadata": {},
     "output_type": "display_data"
    },
    {
     "data": {
      "text/markdown": [
       "<span style=\"color:#33cc33\">Correct</span>"
      ],
      "text/plain": [
       "Correct"
      ]
     },
     "metadata": {},
     "output_type": "display_data"
    }
   ],
   "source": [
    "candidate_max_leaf_nodes = [5, 25, 50, 100, 250, 500]\n",
    "# Write loop to find the ideal tree size from candidate_max_leaf_nodes\n",
    "scores = {}\n",
    "for max_leaf_nodes in candidate_max_leaf_nodes:\n",
    "    my_mae = get_mae(max_leaf_nodes, train_X, val_X, train_y, val_y)\n",
    "    scores.update({max_leaf_nodes: my_mae}) \n",
    "    print(\"Max leaf nodes: %d  \\t\\t Mean Absolute Error:  %d\" %(max_leaf_nodes, my_mae))\n",
    "    print(scores)\n",
    "# Store the best value of max_leaf_nodes (it will be either 5, 25, 50, 100, 250 or 500)\n",
    "best_tree_size = min(scores,key=scores.get)\n",
    "\n",
    "# Check your answer\n",
    "step_1.check()"
   ]
  },
  {
   "cell_type": "code",
   "execution_count": 4,
   "id": "0cf43b52",
   "metadata": {
    "execution": {
     "iopub.execute_input": "2022-03-16T19:24:09.840657Z",
     "iopub.status.busy": "2022-03-16T19:24:09.839907Z",
     "iopub.status.idle": "2022-03-16T19:24:09.842997Z",
     "shell.execute_reply": "2022-03-16T19:24:09.842360Z",
     "shell.execute_reply.started": "2022-03-16T19:23:43.555603Z"
    },
    "papermill": {
     "duration": 0.019889,
     "end_time": "2022-03-16T19:24:09.843145",
     "exception": false,
     "start_time": "2022-03-16T19:24:09.823256",
     "status": "completed"
    },
    "tags": []
   },
   "outputs": [],
   "source": [
    "# The lines below will show you a hint or the solution.\n",
    "# step_1.hint() \n",
    "# step_1.solution()"
   ]
  },
  {
   "cell_type": "markdown",
   "id": "cde388d8",
   "metadata": {
    "papermill": {
     "duration": 0.012916,
     "end_time": "2022-03-16T19:24:09.869232",
     "exception": false,
     "start_time": "2022-03-16T19:24:09.856316",
     "status": "completed"
    },
    "tags": []
   },
   "source": [
    "## Step 2: Fit Model Using All Data\n",
    "You know the best tree size. If you were going to deploy this model in practice, you would make it even more accurate by using all of the data and keeping that tree size.  That is, you don't need to hold out the validation data now that you've made all your modeling decisions."
   ]
  },
  {
   "cell_type": "code",
   "execution_count": 5,
   "id": "c4d46180",
   "metadata": {
    "execution": {
     "iopub.execute_input": "2022-03-16T19:24:09.900969Z",
     "iopub.status.busy": "2022-03-16T19:24:09.900296Z",
     "iopub.status.idle": "2022-03-16T19:24:09.905469Z",
     "shell.execute_reply": "2022-03-16T19:24:09.904877Z"
    },
    "papermill": {
     "duration": 0.023169,
     "end_time": "2022-03-16T19:24:09.905614",
     "exception": false,
     "start_time": "2022-03-16T19:24:09.882445",
     "status": "completed"
    },
    "tags": []
   },
   "outputs": [
    {
     "data": {
      "application/javascript": [
       "parent.postMessage({\"jupyterEvent\": \"custom.exercise_interaction\", \"data\": {\"outcomeType\": 2, \"failureMessage\": \"You still need to define the following variables: `final_model`\", \"interactionType\": 1, \"questionType\": 2, \"questionId\": \"2_FitModelWithAllData\", \"learnToolsVersion\": \"0.3.4\", \"valueTowardsCompletion\": 0.0, \"exceptionClass\": \"\", \"trace\": \"\"}}, \"*\")"
      ],
      "text/plain": [
       "<IPython.core.display.Javascript object>"
      ]
     },
     "metadata": {},
     "output_type": "display_data"
    },
    {
     "data": {
      "text/markdown": [
       "<span style=\"color:#cc3333\">Incorrect:</span> You still need to define the following variables: `final_model`"
      ],
      "text/plain": [
       "Incorrect: You still need to define the following variables: `final_model`"
      ]
     },
     "metadata": {},
     "output_type": "display_data"
    }
   ],
   "source": [
    "# Fill in argument to make optimal size and uncomment\n",
    "# final_model = DecisionTreeRegressor(____)\n",
    "\n",
    "# fit the final model and uncomment the next two lines\n",
    "# final_model.fit(____, ____)\n",
    "\n",
    "# Check your answer\n",
    "step_2.check()"
   ]
  },
  {
   "cell_type": "code",
   "execution_count": 6,
   "id": "1be0d0e4",
   "metadata": {
    "execution": {
     "iopub.execute_input": "2022-03-16T19:24:09.938706Z",
     "iopub.status.busy": "2022-03-16T19:24:09.938096Z",
     "iopub.status.idle": "2022-03-16T19:24:09.940931Z",
     "shell.execute_reply": "2022-03-16T19:24:09.940306Z"
    },
    "papermill": {
     "duration": 0.020871,
     "end_time": "2022-03-16T19:24:09.941083",
     "exception": false,
     "start_time": "2022-03-16T19:24:09.920212",
     "status": "completed"
    },
    "tags": []
   },
   "outputs": [],
   "source": [
    "# step_2.hint()\n",
    "# step_2.solution()"
   ]
  },
  {
   "cell_type": "markdown",
   "id": "e569751a",
   "metadata": {
    "papermill": {
     "duration": 0.01427,
     "end_time": "2022-03-16T19:24:09.970404",
     "exception": false,
     "start_time": "2022-03-16T19:24:09.956134",
     "status": "completed"
    },
    "tags": []
   },
   "source": [
    "You've tuned this model and improved your results. But we are still using Decision Tree models, which are not very sophisticated by modern machine learning standards. In the next step you will learn to use Random Forests to improve your models even more.\n",
    "\n",
    "# Keep Going\n",
    "\n",
    "You are ready for **[Random Forests](https://www.kaggle.com/dansbecker/random-forests).**\n"
   ]
  },
  {
   "cell_type": "markdown",
   "id": "edb884db",
   "metadata": {
    "papermill": {
     "duration": 0.014271,
     "end_time": "2022-03-16T19:24:09.999316",
     "exception": false,
     "start_time": "2022-03-16T19:24:09.985045",
     "status": "completed"
    },
    "tags": []
   },
   "source": [
    "---\n",
    "\n",
    "\n",
    "\n",
    "\n",
    "*Have questions or comments? Visit the [course discussion forum](https://www.kaggle.com/learn/intro-to-machine-learning/discussion) to chat with other learners.*"
   ]
  }
 ],
 "metadata": {
  "kernelspec": {
   "display_name": "Python 3",
   "language": "python",
   "name": "python3"
  },
  "language_info": {
   "codemirror_mode": {
    "name": "ipython",
    "version": 3
   },
   "file_extension": ".py",
   "mimetype": "text/x-python",
   "name": "python",
   "nbconvert_exporter": "python",
   "pygments_lexer": "ipython3",
   "version": "3.7.12"
  },
  "papermill": {
   "default_parameters": {},
   "duration": 12.073359,
   "end_time": "2022-03-16T19:24:10.723891",
   "environment_variables": {},
   "exception": null,
   "input_path": "__notebook__.ipynb",
   "output_path": "__notebook__.ipynb",
   "parameters": {},
   "start_time": "2022-03-16T19:23:58.650532",
   "version": "2.3.3"
  }
 },
 "nbformat": 4,
 "nbformat_minor": 5
}
