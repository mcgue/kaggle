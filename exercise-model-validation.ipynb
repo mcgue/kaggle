{
 "cells": [
  {
   "cell_type": "markdown",
   "id": "9289ef57",
   "metadata": {
    "papermill": {
     "duration": 0.019821,
     "end_time": "2022-03-15T21:22:57.940159",
     "exception": false,
     "start_time": "2022-03-15T21:22:57.920338",
     "status": "completed"
    },
    "tags": []
   },
   "source": [
    "**This notebook is an exercise in the [Introduction to Machine Learning](https://www.kaggle.com/learn/intro-to-machine-learning) course.  You can reference the tutorial at [this link](https://www.kaggle.com/dansbecker/model-validation).**\n",
    "\n",
    "---\n"
   ]
  },
  {
   "cell_type": "markdown",
   "id": "1f287f85",
   "metadata": {
    "papermill": {
     "duration": 0.018564,
     "end_time": "2022-03-15T21:22:57.977974",
     "exception": false,
     "start_time": "2022-03-15T21:22:57.959410",
     "status": "completed"
    },
    "tags": []
   },
   "source": [
    "## Recap\n",
    "You've built a model. In this exercise you will test how good your model is.\n",
    "\n",
    "Run the cell below to set up your coding environment where the previous exercise left off."
   ]
  },
  {
   "cell_type": "code",
   "execution_count": 1,
   "id": "0d018dd3",
   "metadata": {
    "execution": {
     "iopub.execute_input": "2022-03-15T21:22:58.020574Z",
     "iopub.status.busy": "2022-03-15T21:22:58.019425Z",
     "iopub.status.idle": "2022-03-15T21:22:59.665171Z",
     "shell.execute_reply": "2022-03-15T21:22:59.664536Z",
     "shell.execute_reply.started": "2022-03-15T21:01:38.860740Z"
    },
    "papermill": {
     "duration": 1.667503,
     "end_time": "2022-03-15T21:22:59.665296",
     "exception": false,
     "start_time": "2022-03-15T21:22:57.997793",
     "status": "completed"
    },
    "tags": []
   },
   "outputs": [
    {
     "name": "stdout",
     "output_type": "stream",
     "text": [
      "First in-sample predictions: [208500. 181500. 223500. 140000. 250000.]\n",
      "Actual target values for those homes: [208500, 181500, 223500, 140000, 250000]\n",
      "Setup Complete\n"
     ]
    }
   ],
   "source": [
    "# Code you have previously used to load data\n",
    "import pandas as pd\n",
    "from sklearn.tree import DecisionTreeRegressor\n",
    "\n",
    "# Path of the file to read\n",
    "iowa_file_path = '../input/home-data-for-ml-course/train.csv'\n",
    "\n",
    "home_data = pd.read_csv(iowa_file_path)\n",
    "y = home_data.SalePrice\n",
    "feature_columns = ['LotArea', 'YearBuilt', '1stFlrSF', '2ndFlrSF', 'FullBath', 'BedroomAbvGr', 'TotRmsAbvGrd']\n",
    "X = home_data[feature_columns]\n",
    "\n",
    "# Specify Model\n",
    "iowa_model = DecisionTreeRegressor()\n",
    "# Fit Model\n",
    "iowa_model.fit(X, y)\n",
    "\n",
    "print(\"First in-sample predictions:\", iowa_model.predict(X.head()))\n",
    "print(\"Actual target values for those homes:\", y.head().tolist())\n",
    "\n",
    "# Set up code checking\n",
    "from learntools.core import binder\n",
    "binder.bind(globals())\n",
    "from learntools.machine_learning.ex4 import *\n",
    "print(\"Setup Complete\")"
   ]
  },
  {
   "cell_type": "markdown",
   "id": "34977d71",
   "metadata": {
    "papermill": {
     "duration": 0.012673,
     "end_time": "2022-03-15T21:22:59.692242",
     "exception": false,
     "start_time": "2022-03-15T21:22:59.679569",
     "status": "completed"
    },
    "tags": []
   },
   "source": [
    "# Exercises\n",
    "\n",
    "## Step 1: Split Your Data\n",
    "Use the `train_test_split` function to split up your data.\n",
    "\n",
    "Give it the argument `random_state=1` so the `check` functions know what to expect when verifying your code.\n",
    "\n",
    "Recall, your features are loaded in the DataFrame **X** and your target is loaded in **y**.\n"
   ]
  },
  {
   "cell_type": "code",
   "execution_count": 2,
   "id": "8108991e",
   "metadata": {
    "execution": {
     "iopub.execute_input": "2022-03-15T21:22:59.721785Z",
     "iopub.status.busy": "2022-03-15T21:22:59.721053Z",
     "iopub.status.idle": "2022-03-15T21:22:59.732083Z",
     "shell.execute_reply": "2022-03-15T21:22:59.732450Z",
     "shell.execute_reply.started": "2022-03-15T21:10:03.459905Z"
    },
    "papermill": {
     "duration": 0.027384,
     "end_time": "2022-03-15T21:22:59.732612",
     "exception": false,
     "start_time": "2022-03-15T21:22:59.705228",
     "status": "completed"
    },
    "tags": []
   },
   "outputs": [
    {
     "data": {
      "application/javascript": [
       "parent.postMessage({\"jupyterEvent\": \"custom.exercise_interaction\", \"data\": {\"outcomeType\": 1, \"valueTowardsCompletion\": 0.25, \"interactionType\": 1, \"questionType\": 2, \"questionId\": \"1_SplitData\", \"learnToolsVersion\": \"0.3.4\", \"failureMessage\": \"\", \"exceptionClass\": \"\", \"trace\": \"\"}}, \"*\")"
      ],
      "text/plain": [
       "<IPython.core.display.Javascript object>"
      ]
     },
     "metadata": {},
     "output_type": "display_data"
    },
    {
     "data": {
      "text/markdown": [
       "<span style=\"color:#33cc33\">Correct</span>"
      ],
      "text/plain": [
       "Correct"
      ]
     },
     "metadata": {},
     "output_type": "display_data"
    }
   ],
   "source": [
    "# Import the train_test_split function and uncomment\n",
    "from sklearn.model_selection import train_test_split\n",
    "\n",
    "# fill in and uncomment\n",
    "train_X, val_X, train_y, val_y = train_test_split(X, y, random_state = 1)\n",
    "\n",
    "# Check your answer\n",
    "step_1.check()"
   ]
  },
  {
   "cell_type": "code",
   "execution_count": 3,
   "id": "fc320d69",
   "metadata": {
    "execution": {
     "iopub.execute_input": "2022-03-15T21:22:59.764342Z",
     "iopub.status.busy": "2022-03-15T21:22:59.763699Z",
     "iopub.status.idle": "2022-03-15T21:22:59.766684Z",
     "shell.execute_reply": "2022-03-15T21:22:59.767079Z"
    },
    "papermill": {
     "duration": 0.020151,
     "end_time": "2022-03-15T21:22:59.767227",
     "exception": false,
     "start_time": "2022-03-15T21:22:59.747076",
     "status": "completed"
    },
    "tags": []
   },
   "outputs": [],
   "source": [
    "# The lines below will show you a hint or the solution.\n",
    "# step_1.hint() \n",
    "# step_1.solution()\n"
   ]
  },
  {
   "cell_type": "markdown",
   "id": "ad4eb2f0",
   "metadata": {
    "papermill": {
     "duration": 0.013976,
     "end_time": "2022-03-15T21:22:59.796233",
     "exception": false,
     "start_time": "2022-03-15T21:22:59.782257",
     "status": "completed"
    },
    "tags": []
   },
   "source": [
    "## Step 2: Specify and Fit the Model\n",
    "\n",
    "Create a `DecisionTreeRegressor` model and fit it to the relevant data.\n",
    "Set `random_state` to 1 again when creating the model."
   ]
  },
  {
   "cell_type": "code",
   "execution_count": 4,
   "id": "346a5723",
   "metadata": {
    "execution": {
     "iopub.execute_input": "2022-03-15T21:22:59.832959Z",
     "iopub.status.busy": "2022-03-15T21:22:59.832343Z",
     "iopub.status.idle": "2022-03-15T21:22:59.857303Z",
     "shell.execute_reply": "2022-03-15T21:22:59.857861Z",
     "shell.execute_reply.started": "2022-03-15T21:12:23.907573Z"
    },
    "papermill": {
     "duration": 0.047282,
     "end_time": "2022-03-15T21:22:59.858039",
     "exception": false,
     "start_time": "2022-03-15T21:22:59.810757",
     "status": "completed"
    },
    "tags": []
   },
   "outputs": [
    {
     "name": "stdout",
     "output_type": "stream",
     "text": [
      "[186500. 184000. 130000.  92000. 164500. 220000. 335000. 144152. 215000.\n",
      " 262000.]\n",
      "[186500. 184000. 130000.  92000. 164500. 220000. 335000. 144152. 215000.\n",
      " 262000.]\n"
     ]
    },
    {
     "data": {
      "application/javascript": [
       "parent.postMessage({\"jupyterEvent\": \"custom.exercise_interaction\", \"data\": {\"outcomeType\": 1, \"valueTowardsCompletion\": 0.25, \"interactionType\": 1, \"questionType\": 2, \"questionId\": \"2_FitModelWithTrain\", \"learnToolsVersion\": \"0.3.4\", \"failureMessage\": \"\", \"exceptionClass\": \"\", \"trace\": \"\"}}, \"*\")"
      ],
      "text/plain": [
       "<IPython.core.display.Javascript object>"
      ]
     },
     "metadata": {},
     "output_type": "display_data"
    },
    {
     "data": {
      "text/markdown": [
       "<span style=\"color:#33cc33\">Correct</span>"
      ],
      "text/plain": [
       "Correct"
      ]
     },
     "metadata": {},
     "output_type": "display_data"
    }
   ],
   "source": [
    "# You imported DecisionTreeRegressor in your last exercise\n",
    "# and that code has been copied to the setup code above. So, no need to\n",
    "# import it again\n",
    "\n",
    "# Specify the model\n",
    "iowa_model = DecisionTreeRegressor(random_state=1)\n",
    "\n",
    "# Fit iowa_model with the training data.\n",
    "iowa_model.fit(train_X, train_y)\n",
    "\n",
    "# Check your answer\n",
    "step_2.check()"
   ]
  },
  {
   "cell_type": "code",
   "execution_count": 5,
   "id": "2a9b041b",
   "metadata": {
    "execution": {
     "iopub.execute_input": "2022-03-15T21:22:59.893281Z",
     "iopub.status.busy": "2022-03-15T21:22:59.892549Z",
     "iopub.status.idle": "2022-03-15T21:22:59.896146Z",
     "shell.execute_reply": "2022-03-15T21:22:59.896569Z",
     "shell.execute_reply.started": "2022-03-15T21:12:16.497990Z"
    },
    "papermill": {
     "duration": 0.022514,
     "end_time": "2022-03-15T21:22:59.896704",
     "exception": false,
     "start_time": "2022-03-15T21:22:59.874190",
     "status": "completed"
    },
    "tags": []
   },
   "outputs": [],
   "source": [
    "# step_2.hint()\n",
    "# step_2.solution()"
   ]
  },
  {
   "cell_type": "markdown",
   "id": "49c74079",
   "metadata": {
    "papermill": {
     "duration": 0.014775,
     "end_time": "2022-03-15T21:22:59.926872",
     "exception": false,
     "start_time": "2022-03-15T21:22:59.912097",
     "status": "completed"
    },
    "tags": []
   },
   "source": [
    "## Step 3: Make Predictions with Validation data\n"
   ]
  },
  {
   "cell_type": "code",
   "execution_count": 6,
   "id": "c6c304f7",
   "metadata": {
    "execution": {
     "iopub.execute_input": "2022-03-15T21:22:59.963801Z",
     "iopub.status.busy": "2022-03-15T21:22:59.963316Z",
     "iopub.status.idle": "2022-03-15T21:22:59.972100Z",
     "shell.execute_reply": "2022-03-15T21:22:59.972578Z",
     "shell.execute_reply.started": "2022-03-15T21:13:23.125550Z"
    },
    "papermill": {
     "duration": 0.030351,
     "end_time": "2022-03-15T21:22:59.972716",
     "exception": false,
     "start_time": "2022-03-15T21:22:59.942365",
     "status": "completed"
    },
    "tags": []
   },
   "outputs": [
    {
     "data": {
      "application/javascript": [
       "parent.postMessage({\"jupyterEvent\": \"custom.exercise_interaction\", \"data\": {\"outcomeType\": 1, \"valueTowardsCompletion\": 0.25, \"interactionType\": 1, \"questionType\": 2, \"questionId\": \"3_ValPreds\", \"learnToolsVersion\": \"0.3.4\", \"failureMessage\": \"\", \"exceptionClass\": \"\", \"trace\": \"\"}}, \"*\")"
      ],
      "text/plain": [
       "<IPython.core.display.Javascript object>"
      ]
     },
     "metadata": {},
     "output_type": "display_data"
    },
    {
     "data": {
      "text/markdown": [
       "<span style=\"color:#33cc33\">Correct</span>"
      ],
      "text/plain": [
       "Correct"
      ]
     },
     "metadata": {},
     "output_type": "display_data"
    }
   ],
   "source": [
    "# Predict with all validation observations\n",
    "val_predictions = iowa_model.predict(val_X)\n",
    "\n",
    "# Check your answer\n",
    "step_3.check()"
   ]
  },
  {
   "cell_type": "code",
   "execution_count": 7,
   "id": "cf55f0dd",
   "metadata": {
    "execution": {
     "iopub.execute_input": "2022-03-15T21:23:00.008897Z",
     "iopub.status.busy": "2022-03-15T21:23:00.008280Z",
     "iopub.status.idle": "2022-03-15T21:23:00.013228Z",
     "shell.execute_reply": "2022-03-15T21:23:00.012814Z"
    },
    "papermill": {
     "duration": 0.023918,
     "end_time": "2022-03-15T21:23:00.013332",
     "exception": false,
     "start_time": "2022-03-15T21:22:59.989414",
     "status": "completed"
    },
    "tags": []
   },
   "outputs": [],
   "source": [
    "# step_3.hint()\n",
    "# step_3.solution()"
   ]
  },
  {
   "cell_type": "markdown",
   "id": "a4f3cfe3",
   "metadata": {
    "papermill": {
     "duration": 0.016506,
     "end_time": "2022-03-15T21:23:00.047883",
     "exception": false,
     "start_time": "2022-03-15T21:23:00.031377",
     "status": "completed"
    },
    "tags": []
   },
   "source": [
    "Inspect your predictions and actual values from validation data."
   ]
  },
  {
   "cell_type": "code",
   "execution_count": 8,
   "id": "d52ae360",
   "metadata": {
    "execution": {
     "iopub.execute_input": "2022-03-15T21:23:00.087447Z",
     "iopub.status.busy": "2022-03-15T21:23:00.086779Z",
     "iopub.status.idle": "2022-03-15T21:23:00.090813Z",
     "shell.execute_reply": "2022-03-15T21:23:00.090145Z",
     "shell.execute_reply.started": "2022-03-15T21:21:01.299291Z"
    },
    "papermill": {
     "duration": 0.026244,
     "end_time": "2022-03-15T21:23:00.090932",
     "exception": false,
     "start_time": "2022-03-15T21:23:00.064688",
     "status": "completed"
    },
    "tags": []
   },
   "outputs": [
    {
     "name": "stdout",
     "output_type": "stream",
     "text": [
      "[186500. 184000. 130000.  92000. 164500.]\n",
      "[231500, 179500, 122000, 84500, 142000]\n"
     ]
    }
   ],
   "source": [
    "# print the top few validation predictions\n",
    "print(val_predictions[:5])\n",
    "# print the top few actual prices from validation data\n",
    "print(val_y.head().tolist())"
   ]
  },
  {
   "cell_type": "markdown",
   "id": "3b6e4d8b",
   "metadata": {
    "papermill": {
     "duration": 0.017318,
     "end_time": "2022-03-15T21:23:00.125376",
     "exception": false,
     "start_time": "2022-03-15T21:23:00.108058",
     "status": "completed"
    },
    "tags": []
   },
   "source": [
    "What do you notice that is different from what you saw with in-sample predictions (which are printed after the top code cell in this page).\n",
    "\n",
    "Do you remember why validation predictions differ from in-sample (or training) predictions? This is an important idea from the last lesson.\n",
    "\n",
    "## Step 4: Calculate the Mean Absolute Error in Validation Data\n"
   ]
  },
  {
   "cell_type": "code",
   "execution_count": 9,
   "id": "5f5af8df",
   "metadata": {
    "execution": {
     "iopub.execute_input": "2022-03-15T21:23:00.167783Z",
     "iopub.status.busy": "2022-03-15T21:23:00.167077Z",
     "iopub.status.idle": "2022-03-15T21:23:00.173773Z",
     "shell.execute_reply": "2022-03-15T21:23:00.173158Z",
     "shell.execute_reply.started": "2022-03-15T21:21:57.197031Z"
    },
    "papermill": {
     "duration": 0.030887,
     "end_time": "2022-03-15T21:23:00.173924",
     "exception": false,
     "start_time": "2022-03-15T21:23:00.143037",
     "status": "completed"
    },
    "tags": []
   },
   "outputs": [
    {
     "name": "stdout",
     "output_type": "stream",
     "text": [
      "29652.931506849316\n"
     ]
    },
    {
     "data": {
      "application/javascript": [
       "parent.postMessage({\"jupyterEvent\": \"custom.exercise_interaction\", \"data\": {\"outcomeType\": 1, \"valueTowardsCompletion\": 0.25, \"interactionType\": 1, \"questionType\": 1, \"questionId\": \"4_MAE\", \"learnToolsVersion\": \"0.3.4\", \"failureMessage\": \"\", \"exceptionClass\": \"\", \"trace\": \"\"}}, \"*\")"
      ],
      "text/plain": [
       "<IPython.core.display.Javascript object>"
      ]
     },
     "metadata": {},
     "output_type": "display_data"
    },
    {
     "data": {
      "text/markdown": [
       "<span style=\"color:#33cc33\">Correct</span>"
      ],
      "text/plain": [
       "Correct"
      ]
     },
     "metadata": {},
     "output_type": "display_data"
    }
   ],
   "source": [
    "from sklearn.metrics import mean_absolute_error\n",
    "val_mae = mean_absolute_error(val_y, val_predictions)\n",
    "\n",
    "# uncomment following line to see the validation_mae\n",
    "print(val_mae)\n",
    "\n",
    "# Check your answer\n",
    "step_4.check()"
   ]
  },
  {
   "cell_type": "code",
   "execution_count": 10,
   "id": "5238b86a",
   "metadata": {
    "execution": {
     "iopub.execute_input": "2022-03-15T21:23:00.235600Z",
     "iopub.status.busy": "2022-03-15T21:23:00.234904Z",
     "iopub.status.idle": "2022-03-15T21:23:00.238319Z",
     "shell.execute_reply": "2022-03-15T21:23:00.237794Z"
    },
    "papermill": {
     "duration": 0.036115,
     "end_time": "2022-03-15T21:23:00.238465",
     "exception": false,
     "start_time": "2022-03-15T21:23:00.202350",
     "status": "completed"
    },
    "tags": []
   },
   "outputs": [],
   "source": [
    "# step_4.hint()\n",
    "# step_4.solution()"
   ]
  },
  {
   "cell_type": "markdown",
   "id": "80b05500",
   "metadata": {
    "papermill": {
     "duration": 0.027733,
     "end_time": "2022-03-15T21:23:00.294146",
     "exception": false,
     "start_time": "2022-03-15T21:23:00.266413",
     "status": "completed"
    },
    "tags": []
   },
   "source": [
    "Is that MAE good?  There isn't a general rule for what values are good that applies across applications. But you'll see how to use (and improve) this number in the next step.\n",
    "\n",
    "# Keep Going\n",
    "\n",
    "You are ready for **[Underfitting and Overfitting](https://www.kaggle.com/dansbecker/underfitting-and-overfitting).**\n"
   ]
  },
  {
   "cell_type": "markdown",
   "id": "677d68df",
   "metadata": {
    "papermill": {
     "duration": 0.027571,
     "end_time": "2022-03-15T21:23:00.349718",
     "exception": false,
     "start_time": "2022-03-15T21:23:00.322147",
     "status": "completed"
    },
    "tags": []
   },
   "source": [
    "---\n",
    "\n",
    "\n",
    "\n",
    "\n",
    "*Have questions or comments? Visit the [course discussion forum](https://www.kaggle.com/learn/intro-to-machine-learning/discussion) to chat with other learners.*"
   ]
  }
 ],
 "metadata": {
  "kernelspec": {
   "display_name": "Python 3",
   "language": "python",
   "name": "python3"
  },
  "language_info": {
   "codemirror_mode": {
    "name": "ipython",
    "version": 3
   },
   "file_extension": ".py",
   "mimetype": "text/x-python",
   "name": "python",
   "nbconvert_exporter": "python",
   "pygments_lexer": "ipython3",
   "version": "3.7.12"
  },
  "papermill": {
   "default_parameters": {},
   "duration": 15.449038,
   "end_time": "2022-03-15T21:23:01.391588",
   "environment_variables": {},
   "exception": null,
   "input_path": "__notebook__.ipynb",
   "output_path": "__notebook__.ipynb",
   "parameters": {},
   "start_time": "2022-03-15T21:22:45.942550",
   "version": "2.3.3"
  }
 },
 "nbformat": 4,
 "nbformat_minor": 5
}
