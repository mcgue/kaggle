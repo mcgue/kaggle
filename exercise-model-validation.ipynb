{
 "cells": [
  {
   "cell_type": "markdown",
   "id": "651c0136",
   "metadata": {
    "papermill": {
     "duration": 0.016396,
     "end_time": "2022-03-14T20:46:20.584182",
     "exception": false,
     "start_time": "2022-03-14T20:46:20.567786",
     "status": "completed"
    },
    "tags": []
   },
   "source": [
    "**This notebook is an exercise in the [Introduction to Machine Learning](https://www.kaggle.com/learn/intro-to-machine-learning) course.  You can reference the tutorial at [this link](https://www.kaggle.com/dansbecker/model-validation).**\n",
    "\n",
    "---\n"
   ]
  },
  {
   "cell_type": "markdown",
   "id": "82ad52de",
   "metadata": {
    "papermill": {
     "duration": 0.014193,
     "end_time": "2022-03-14T20:46:20.614982",
     "exception": false,
     "start_time": "2022-03-14T20:46:20.600789",
     "status": "completed"
    },
    "tags": []
   },
   "source": [
    "## Recap\n",
    "You've built a model. In this exercise you will test how good your model is.\n",
    "\n",
    "Run the cell below to set up your coding environment where the previous exercise left off."
   ]
  },
  {
   "cell_type": "code",
   "execution_count": 1,
   "id": "31e3dec9",
   "metadata": {
    "execution": {
     "iopub.execute_input": "2022-03-14T20:46:20.649438Z",
     "iopub.status.busy": "2022-03-14T20:46:20.648267Z",
     "iopub.status.idle": "2022-03-14T20:46:21.919194Z",
     "shell.execute_reply": "2022-03-14T20:46:21.919897Z"
    },
    "papermill": {
     "duration": 1.289894,
     "end_time": "2022-03-14T20:46:21.920290",
     "exception": false,
     "start_time": "2022-03-14T20:46:20.630396",
     "status": "completed"
    },
    "tags": []
   },
   "outputs": [
    {
     "name": "stdout",
     "output_type": "stream",
     "text": [
      "First in-sample predictions: [208500. 181500. 223500. 140000. 250000.]\n",
      "Actual target values for those homes: [208500, 181500, 223500, 140000, 250000]\n",
      "Setup Complete\n"
     ]
    }
   ],
   "source": [
    "# Code you have previously used to load data\n",
    "import pandas as pd\n",
    "from sklearn.tree import DecisionTreeRegressor\n",
    "\n",
    "# Path of the file to read\n",
    "iowa_file_path = '../input/home-data-for-ml-course/train.csv'\n",
    "\n",
    "home_data = pd.read_csv(iowa_file_path)\n",
    "y = home_data.SalePrice\n",
    "feature_columns = ['LotArea', 'YearBuilt', '1stFlrSF', '2ndFlrSF', 'FullBath', 'BedroomAbvGr', 'TotRmsAbvGrd']\n",
    "X = home_data[feature_columns]\n",
    "\n",
    "# Specify Model\n",
    "iowa_model = DecisionTreeRegressor()\n",
    "# Fit Model\n",
    "iowa_model.fit(X, y)\n",
    "\n",
    "print(\"First in-sample predictions:\", iowa_model.predict(X.head()))\n",
    "print(\"Actual target values for those homes:\", y.head().tolist())\n",
    "\n",
    "# Set up code checking\n",
    "from learntools.core import binder\n",
    "binder.bind(globals())\n",
    "from learntools.machine_learning.ex4 import *\n",
    "print(\"Setup Complete\")"
   ]
  },
  {
   "cell_type": "markdown",
   "id": "afc4d4ee",
   "metadata": {
    "papermill": {
     "duration": 0.014744,
     "end_time": "2022-03-14T20:46:21.951316",
     "exception": false,
     "start_time": "2022-03-14T20:46:21.936572",
     "status": "completed"
    },
    "tags": []
   },
   "source": [
    "# Exercises\n",
    "\n",
    "## Step 1: Split Your Data\n",
    "Use the `train_test_split` function to split up your data.\n",
    "\n",
    "Give it the argument `random_state=1` so the `check` functions know what to expect when verifying your code.\n",
    "\n",
    "Recall, your features are loaded in the DataFrame **X** and your target is loaded in **y**.\n"
   ]
  },
  {
   "cell_type": "code",
   "execution_count": 2,
   "id": "cb69e50d",
   "metadata": {
    "execution": {
     "iopub.execute_input": "2022-03-14T20:46:21.985643Z",
     "iopub.status.busy": "2022-03-14T20:46:21.984660Z",
     "iopub.status.idle": "2022-03-14T20:46:21.994641Z",
     "shell.execute_reply": "2022-03-14T20:46:21.994151Z"
    },
    "papermill": {
     "duration": 0.028356,
     "end_time": "2022-03-14T20:46:21.994777",
     "exception": false,
     "start_time": "2022-03-14T20:46:21.966421",
     "status": "completed"
    },
    "tags": []
   },
   "outputs": [
    {
     "data": {
      "application/javascript": [
       "parent.postMessage({\"jupyterEvent\": \"custom.exercise_interaction\", \"data\": {\"outcomeType\": 2, \"failureMessage\": \"You still need to define the following variables: `train_X`, `train_y`, `val_y`, `val_X`\", \"interactionType\": 1, \"questionType\": 2, \"questionId\": \"1_SplitData\", \"learnToolsVersion\": \"0.3.4\", \"valueTowardsCompletion\": 0.0, \"exceptionClass\": \"\", \"trace\": \"\"}}, \"*\")"
      ],
      "text/plain": [
       "<IPython.core.display.Javascript object>"
      ]
     },
     "metadata": {},
     "output_type": "display_data"
    },
    {
     "data": {
      "text/markdown": [
       "<span style=\"color:#cc3333\">Incorrect:</span> You still need to define the following variables: `train_X`, `train_y`, `val_y`, `val_X`"
      ],
      "text/plain": [
       "Incorrect: You still need to define the following variables: `train_X`, `train_y`, `val_y`, `val_X`"
      ]
     },
     "metadata": {},
     "output_type": "display_data"
    }
   ],
   "source": [
    "# Import the train_test_split function and uncomment\n",
    "# from _ import _\n",
    "\n",
    "# fill in and uncomment\n",
    "# train_X, val_X, train_y, val_y = ____\n",
    "\n",
    "# Check your answer\n",
    "step_1.check()"
   ]
  },
  {
   "cell_type": "code",
   "execution_count": 3,
   "id": "d9c65a27",
   "metadata": {
    "execution": {
     "iopub.execute_input": "2022-03-14T20:46:22.031583Z",
     "iopub.status.busy": "2022-03-14T20:46:22.030665Z",
     "iopub.status.idle": "2022-03-14T20:46:22.034732Z",
     "shell.execute_reply": "2022-03-14T20:46:22.034127Z"
    },
    "papermill": {
     "duration": 0.023914,
     "end_time": "2022-03-14T20:46:22.034868",
     "exception": false,
     "start_time": "2022-03-14T20:46:22.010954",
     "status": "completed"
    },
    "tags": []
   },
   "outputs": [],
   "source": [
    "# The lines below will show you a hint or the solution.\n",
    "# step_1.hint() \n",
    "# step_1.solution()\n"
   ]
  },
  {
   "cell_type": "markdown",
   "id": "30386644",
   "metadata": {
    "papermill": {
     "duration": 0.016163,
     "end_time": "2022-03-14T20:46:22.067762",
     "exception": false,
     "start_time": "2022-03-14T20:46:22.051599",
     "status": "completed"
    },
    "tags": []
   },
   "source": [
    "## Step 2: Specify and Fit the Model\n",
    "\n",
    "Create a `DecisionTreeRegressor` model and fit it to the relevant data.\n",
    "Set `random_state` to 1 again when creating the model."
   ]
  },
  {
   "cell_type": "code",
   "execution_count": 4,
   "id": "0da89ed9",
   "metadata": {
    "execution": {
     "iopub.execute_input": "2022-03-14T20:46:22.106844Z",
     "iopub.status.busy": "2022-03-14T20:46:22.105974Z",
     "iopub.status.idle": "2022-03-14T20:46:22.109942Z",
     "shell.execute_reply": "2022-03-14T20:46:22.110454Z"
    },
    "papermill": {
     "duration": 0.026405,
     "end_time": "2022-03-14T20:46:22.110622",
     "exception": false,
     "start_time": "2022-03-14T20:46:22.084217",
     "status": "completed"
    },
    "tags": []
   },
   "outputs": [
    {
     "data": {
      "application/javascript": [
       "parent.postMessage({\"jupyterEvent\": \"custom.exercise_interaction\", \"data\": {\"outcomeType\": 2, \"failureMessage\": \"You still need to define the following variables: `val_X`, `train_X`, `train_y`\", \"interactionType\": 1, \"questionType\": 2, \"questionId\": \"2_FitModelWithTrain\", \"learnToolsVersion\": \"0.3.4\", \"valueTowardsCompletion\": 0.0, \"exceptionClass\": \"\", \"trace\": \"\"}}, \"*\")"
      ],
      "text/plain": [
       "<IPython.core.display.Javascript object>"
      ]
     },
     "metadata": {},
     "output_type": "display_data"
    },
    {
     "data": {
      "text/markdown": [
       "<span style=\"color:#cc3333\">Incorrect:</span> You still need to define the following variables: `val_X`, `train_X`, `train_y`"
      ],
      "text/plain": [
       "Incorrect: You still need to define the following variables: `val_X`, `train_X`, `train_y`"
      ]
     },
     "metadata": {},
     "output_type": "display_data"
    }
   ],
   "source": [
    "# You imported DecisionTreeRegressor in your last exercise\n",
    "# and that code has been copied to the setup code above. So, no need to\n",
    "# import it again\n",
    "\n",
    "# Specify the model\n",
    "iowa_model = ____\n",
    "\n",
    "# Fit iowa_model with the training data.\n",
    "____\n",
    "\n",
    "# Check your answer\n",
    "step_2.check()"
   ]
  },
  {
   "cell_type": "code",
   "execution_count": 5,
   "id": "3f52c56d",
   "metadata": {
    "execution": {
     "iopub.execute_input": "2022-03-14T20:46:22.150442Z",
     "iopub.status.busy": "2022-03-14T20:46:22.149486Z",
     "iopub.status.idle": "2022-03-14T20:46:22.152794Z",
     "shell.execute_reply": "2022-03-14T20:46:22.153403Z"
    },
    "papermill": {
     "duration": 0.025042,
     "end_time": "2022-03-14T20:46:22.153572",
     "exception": false,
     "start_time": "2022-03-14T20:46:22.128530",
     "status": "completed"
    },
    "tags": []
   },
   "outputs": [],
   "source": [
    "# step_2.hint()\n",
    "# step_2.solution()"
   ]
  },
  {
   "cell_type": "markdown",
   "id": "9fb079fa",
   "metadata": {
    "papermill": {
     "duration": 0.017751,
     "end_time": "2022-03-14T20:46:22.189451",
     "exception": false,
     "start_time": "2022-03-14T20:46:22.171700",
     "status": "completed"
    },
    "tags": []
   },
   "source": [
    "## Step 3: Make Predictions with Validation data\n"
   ]
  },
  {
   "cell_type": "code",
   "execution_count": 6,
   "id": "3f9edc1b",
   "metadata": {
    "execution": {
     "iopub.execute_input": "2022-03-14T20:46:22.230513Z",
     "iopub.status.busy": "2022-03-14T20:46:22.229545Z",
     "iopub.status.idle": "2022-03-14T20:46:22.236640Z",
     "shell.execute_reply": "2022-03-14T20:46:22.237250Z"
    },
    "papermill": {
     "duration": 0.02969,
     "end_time": "2022-03-14T20:46:22.237429",
     "exception": false,
     "start_time": "2022-03-14T20:46:22.207739",
     "status": "completed"
    },
    "tags": []
   },
   "outputs": [
    {
     "data": {
      "application/javascript": [
       "parent.postMessage({\"jupyterEvent\": \"custom.exercise_interaction\", \"data\": {\"outcomeType\": 2, \"failureMessage\": \"You still need to define the following variables: `val_X`\", \"interactionType\": 1, \"questionType\": 2, \"questionId\": \"3_ValPreds\", \"learnToolsVersion\": \"0.3.4\", \"valueTowardsCompletion\": 0.0, \"exceptionClass\": \"\", \"trace\": \"\"}}, \"*\")"
      ],
      "text/plain": [
       "<IPython.core.display.Javascript object>"
      ]
     },
     "metadata": {},
     "output_type": "display_data"
    },
    {
     "data": {
      "text/markdown": [
       "<span style=\"color:#cc3333\">Incorrect:</span> You still need to define the following variables: `val_X`"
      ],
      "text/plain": [
       "Incorrect: You still need to define the following variables: `val_X`"
      ]
     },
     "metadata": {},
     "output_type": "display_data"
    }
   ],
   "source": [
    "# Predict with all validation observations\n",
    "val_predictions = ____\n",
    "\n",
    "# Check your answer\n",
    "step_3.check()"
   ]
  },
  {
   "cell_type": "code",
   "execution_count": 7,
   "id": "ad973c93",
   "metadata": {
    "execution": {
     "iopub.execute_input": "2022-03-14T20:46:22.280737Z",
     "iopub.status.busy": "2022-03-14T20:46:22.279807Z",
     "iopub.status.idle": "2022-03-14T20:46:22.282920Z",
     "shell.execute_reply": "2022-03-14T20:46:22.283566Z"
    },
    "papermill": {
     "duration": 0.026318,
     "end_time": "2022-03-14T20:46:22.283723",
     "exception": false,
     "start_time": "2022-03-14T20:46:22.257405",
     "status": "completed"
    },
    "tags": []
   },
   "outputs": [],
   "source": [
    "# step_3.hint()\n",
    "# step_3.solution()"
   ]
  },
  {
   "cell_type": "markdown",
   "id": "9da2dd09",
   "metadata": {
    "papermill": {
     "duration": 0.021464,
     "end_time": "2022-03-14T20:46:22.324855",
     "exception": false,
     "start_time": "2022-03-14T20:46:22.303391",
     "status": "completed"
    },
    "tags": []
   },
   "source": [
    "Inspect your predictions and actual values from validation data."
   ]
  },
  {
   "cell_type": "code",
   "execution_count": 8,
   "id": "a1b842d7",
   "metadata": {
    "execution": {
     "iopub.execute_input": "2022-03-14T20:46:22.367762Z",
     "iopub.status.busy": "2022-03-14T20:46:22.366791Z",
     "iopub.status.idle": "2022-03-14T20:46:22.372568Z",
     "shell.execute_reply": "2022-03-14T20:46:22.371981Z"
    },
    "papermill": {
     "duration": 0.028252,
     "end_time": "2022-03-14T20:46:22.372704",
     "exception": false,
     "start_time": "2022-03-14T20:46:22.344452",
     "status": "completed"
    },
    "tags": []
   },
   "outputs": [
    {
     "name": "stdout",
     "output_type": "stream",
     "text": [
      "<learntools.core.constants.PlaceholderValue object at 0x7f4878c65910>\n",
      "<learntools.core.constants.PlaceholderValue object at 0x7f4878c65910>\n"
     ]
    }
   ],
   "source": [
    "# print the top few validation predictions\n",
    "print(____)\n",
    "# print the top few actual prices from validation data\n",
    "print(____)"
   ]
  },
  {
   "cell_type": "markdown",
   "id": "f90b1d2a",
   "metadata": {
    "papermill": {
     "duration": 0.020804,
     "end_time": "2022-03-14T20:46:22.413603",
     "exception": false,
     "start_time": "2022-03-14T20:46:22.392799",
     "status": "completed"
    },
    "tags": []
   },
   "source": [
    "What do you notice that is different from what you saw with in-sample predictions (which are printed after the top code cell in this page).\n",
    "\n",
    "Do you remember why validation predictions differ from in-sample (or training) predictions? This is an important idea from the last lesson.\n",
    "\n",
    "## Step 4: Calculate the Mean Absolute Error in Validation Data\n"
   ]
  },
  {
   "cell_type": "code",
   "execution_count": 9,
   "id": "3c58c06c",
   "metadata": {
    "execution": {
     "iopub.execute_input": "2022-03-14T20:46:22.459219Z",
     "iopub.status.busy": "2022-03-14T20:46:22.458539Z",
     "iopub.status.idle": "2022-03-14T20:46:22.462324Z",
     "shell.execute_reply": "2022-03-14T20:46:22.462792Z"
    },
    "papermill": {
     "duration": 0.029294,
     "end_time": "2022-03-14T20:46:22.462958",
     "exception": false,
     "start_time": "2022-03-14T20:46:22.433664",
     "status": "completed"
    },
    "tags": []
   },
   "outputs": [
    {
     "data": {
      "application/javascript": [
       "parent.postMessage({\"jupyterEvent\": \"custom.exercise_interaction\", \"data\": {\"outcomeType\": 4, \"interactionType\": 1, \"questionType\": 1, \"questionId\": \"4_MAE\", \"learnToolsVersion\": \"0.3.4\", \"valueTowardsCompletion\": 0.0, \"failureMessage\": \"\", \"exceptionClass\": \"\", \"trace\": \"\"}}, \"*\")"
      ],
      "text/plain": [
       "<IPython.core.display.Javascript object>"
      ]
     },
     "metadata": {},
     "output_type": "display_data"
    },
    {
     "data": {
      "text/markdown": [
       "<span style=\"color:#ccaa33\">Check:</span> When you've updated the starter code, `check()` will tell you whether your code is correct. You need to update the code that creates variable `val_mae`"
      ],
      "text/plain": [
       "Check: When you've updated the starter code, `check()` will tell you whether your code is correct. You need to update the code that creates variable `val_mae`"
      ]
     },
     "metadata": {},
     "output_type": "display_data"
    }
   ],
   "source": [
    "from sklearn.metrics import mean_absolute_error\n",
    "val_mae = ____\n",
    "\n",
    "# uncomment following line to see the validation_mae\n",
    "#print(val_mae)\n",
    "\n",
    "# Check your answer\n",
    "step_4.check()"
   ]
  },
  {
   "cell_type": "code",
   "execution_count": 10,
   "id": "41590cd6",
   "metadata": {
    "execution": {
     "iopub.execute_input": "2022-03-14T20:46:22.509579Z",
     "iopub.status.busy": "2022-03-14T20:46:22.508690Z",
     "iopub.status.idle": "2022-03-14T20:46:22.512162Z",
     "shell.execute_reply": "2022-03-14T20:46:22.512625Z"
    },
    "papermill": {
     "duration": 0.028371,
     "end_time": "2022-03-14T20:46:22.512788",
     "exception": false,
     "start_time": "2022-03-14T20:46:22.484417",
     "status": "completed"
    },
    "tags": []
   },
   "outputs": [],
   "source": [
    "# step_4.hint()\n",
    "# step_4.solution()"
   ]
  },
  {
   "cell_type": "markdown",
   "id": "d5bbaf8e",
   "metadata": {
    "papermill": {
     "duration": 0.022014,
     "end_time": "2022-03-14T20:46:22.556611",
     "exception": false,
     "start_time": "2022-03-14T20:46:22.534597",
     "status": "completed"
    },
    "tags": []
   },
   "source": [
    "Is that MAE good?  There isn't a general rule for what values are good that applies across applications. But you'll see how to use (and improve) this number in the next step.\n",
    "\n",
    "# Keep Going\n",
    "\n",
    "You are ready for **[Underfitting and Overfitting](https://www.kaggle.com/dansbecker/underfitting-and-overfitting).**\n"
   ]
  },
  {
   "cell_type": "markdown",
   "id": "7f26f873",
   "metadata": {
    "papermill": {
     "duration": 0.021786,
     "end_time": "2022-03-14T20:46:22.600479",
     "exception": false,
     "start_time": "2022-03-14T20:46:22.578693",
     "status": "completed"
    },
    "tags": []
   },
   "source": [
    "---\n",
    "\n",
    "\n",
    "\n",
    "\n",
    "*Have questions or comments? Visit the [course discussion forum](https://www.kaggle.com/learn/intro-to-machine-learning/discussion) to chat with other learners.*"
   ]
  }
 ],
 "metadata": {
  "kernelspec": {
   "display_name": "Python 3",
   "language": "python",
   "name": "python3"
  },
  "language_info": {
   "codemirror_mode": {
    "name": "ipython",
    "version": 3
   },
   "file_extension": ".py",
   "mimetype": "text/x-python",
   "name": "python",
   "nbconvert_exporter": "python",
   "pygments_lexer": "ipython3",
   "version": "3.7.12"
  },
  "papermill": {
   "default_parameters": {},
   "duration": 12.399743,
   "end_time": "2022-03-14T20:46:23.232238",
   "environment_variables": {},
   "exception": null,
   "input_path": "__notebook__.ipynb",
   "output_path": "__notebook__.ipynb",
   "parameters": {},
   "start_time": "2022-03-14T20:46:10.832495",
   "version": "2.3.3"
  }
 },
 "nbformat": 4,
 "nbformat_minor": 5
}
