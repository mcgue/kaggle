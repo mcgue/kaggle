{
 "cells": [
  {
   "cell_type": "markdown",
   "id": "11e2ab00",
   "metadata": {
    "papermill": {
     "duration": 0.017855,
     "end_time": "2022-03-19T23:34:38.584942",
     "exception": false,
     "start_time": "2022-03-19T23:34:38.567087",
     "status": "completed"
    },
    "tags": []
   },
   "source": [
    "**This notebook is an exercise in the [Pandas](https://www.kaggle.com/learn/pandas) course.  You can reference the tutorial at [this link](https://www.kaggle.com/residentmario/data-types-and-missing-values).**\n",
    "\n",
    "---\n"
   ]
  },
  {
   "cell_type": "markdown",
   "id": "0fab5f38",
   "metadata": {
    "papermill": {
     "duration": 0.016204,
     "end_time": "2022-03-19T23:34:38.617106",
     "exception": false,
     "start_time": "2022-03-19T23:34:38.600902",
     "status": "completed"
    },
    "tags": []
   },
   "source": [
    "# Introduction\n",
    "\n",
    "Run the following cell to load your data and some utility functions."
   ]
  },
  {
   "cell_type": "code",
   "execution_count": 1,
   "id": "11511528",
   "metadata": {
    "execution": {
     "iopub.execute_input": "2022-03-19T23:34:38.661774Z",
     "iopub.status.busy": "2022-03-19T23:34:38.661026Z",
     "iopub.status.idle": "2022-03-19T23:34:41.626825Z",
     "shell.execute_reply": "2022-03-19T23:34:41.627526Z",
     "shell.execute_reply.started": "2022-03-19T23:22:27.774791Z"
    },
    "papermill": {
     "duration": 2.994278,
     "end_time": "2022-03-19T23:34:41.627855",
     "exception": false,
     "start_time": "2022-03-19T23:34:38.633577",
     "status": "completed"
    },
    "tags": []
   },
   "outputs": [
    {
     "name": "stdout",
     "output_type": "stream",
     "text": [
      "Setup complete.\n"
     ]
    }
   ],
   "source": [
    "import pandas as pd\n",
    "\n",
    "reviews = pd.read_csv(\"../input/wine-reviews/winemag-data-130k-v2.csv\", index_col=0)\n",
    "\n",
    "from learntools.core import binder; binder.bind(globals())\n",
    "from learntools.pandas.data_types_and_missing_data import *\n",
    "print(\"Setup complete.\")"
   ]
  },
  {
   "cell_type": "markdown",
   "id": "03e93c87",
   "metadata": {
    "papermill": {
     "duration": 0.015668,
     "end_time": "2022-03-19T23:34:41.660500",
     "exception": false,
     "start_time": "2022-03-19T23:34:41.644832",
     "status": "completed"
    },
    "tags": []
   },
   "source": [
    "# Exercises"
   ]
  },
  {
   "cell_type": "markdown",
   "id": "d9d3a7af",
   "metadata": {
    "papermill": {
     "duration": 0.015639,
     "end_time": "2022-03-19T23:34:41.692190",
     "exception": false,
     "start_time": "2022-03-19T23:34:41.676551",
     "status": "completed"
    },
    "tags": []
   },
   "source": [
    "## 1. \n",
    "What is the data type of the `points` column in the dataset?"
   ]
  },
  {
   "cell_type": "code",
   "execution_count": 2,
   "id": "62e92b92",
   "metadata": {
    "execution": {
     "iopub.execute_input": "2022-03-19T23:34:41.733979Z",
     "iopub.status.busy": "2022-03-19T23:34:41.733212Z",
     "iopub.status.idle": "2022-03-19T23:34:41.739735Z",
     "shell.execute_reply": "2022-03-19T23:34:41.740699Z",
     "shell.execute_reply.started": "2022-03-19T23:23:02.560842Z"
    },
    "papermill": {
     "duration": 0.032946,
     "end_time": "2022-03-19T23:34:41.740962",
     "exception": false,
     "start_time": "2022-03-19T23:34:41.708016",
     "status": "completed"
    },
    "tags": []
   },
   "outputs": [
    {
     "data": {
      "application/javascript": [
       "parent.postMessage({\"jupyterEvent\": \"custom.exercise_interaction\", \"data\": {\"outcomeType\": 1, \"valueTowardsCompletion\": 0.25, \"interactionType\": 1, \"questionType\": 1, \"questionId\": \"1_PointsDtype\", \"learnToolsVersion\": \"0.3.4\", \"failureMessage\": \"\", \"exceptionClass\": \"\", \"trace\": \"\"}}, \"*\")"
      ],
      "text/plain": [
       "<IPython.core.display.Javascript object>"
      ]
     },
     "metadata": {},
     "output_type": "display_data"
    },
    {
     "data": {
      "text/markdown": [
       "<span style=\"color:#33cc33\">Correct</span>"
      ],
      "text/plain": [
       "Correct"
      ]
     },
     "metadata": {},
     "output_type": "display_data"
    }
   ],
   "source": [
    "# Your code here\n",
    "dtype = reviews.points.dtype\n",
    "\n",
    "# Check your answer\n",
    "q1.check()"
   ]
  },
  {
   "cell_type": "code",
   "execution_count": 3,
   "id": "e2307b3d",
   "metadata": {
    "execution": {
     "iopub.execute_input": "2022-03-19T23:34:41.782205Z",
     "iopub.status.busy": "2022-03-19T23:34:41.781505Z",
     "iopub.status.idle": "2022-03-19T23:34:41.784528Z",
     "shell.execute_reply": "2022-03-19T23:34:41.785025Z"
    },
    "papermill": {
     "duration": 0.025982,
     "end_time": "2022-03-19T23:34:41.785215",
     "exception": false,
     "start_time": "2022-03-19T23:34:41.759233",
     "status": "completed"
    },
    "tags": []
   },
   "outputs": [],
   "source": [
    "#q1.hint()\n",
    "#q1.solution()"
   ]
  },
  {
   "cell_type": "markdown",
   "id": "d85bc300",
   "metadata": {
    "papermill": {
     "duration": 0.016753,
     "end_time": "2022-03-19T23:34:41.819665",
     "exception": false,
     "start_time": "2022-03-19T23:34:41.802912",
     "status": "completed"
    },
    "tags": []
   },
   "source": [
    "## 2. \n",
    "Create a Series from entries in the `points` column, but convert the entries to strings. Hint: strings are `str` in native Python."
   ]
  },
  {
   "cell_type": "code",
   "execution_count": 4,
   "id": "5f0be769",
   "metadata": {
    "execution": {
     "iopub.execute_input": "2022-03-19T23:34:42.003604Z",
     "iopub.status.busy": "2022-03-19T23:34:42.002878Z",
     "iopub.status.idle": "2022-03-19T23:34:42.011556Z",
     "shell.execute_reply": "2022-03-19T23:34:42.010905Z",
     "shell.execute_reply.started": "2022-03-19T23:30:27.930190Z"
    },
    "papermill": {
     "duration": 0.174882,
     "end_time": "2022-03-19T23:34:42.011718",
     "exception": false,
     "start_time": "2022-03-19T23:34:41.836836",
     "status": "completed"
    },
    "tags": []
   },
   "outputs": [
    {
     "data": {
      "application/javascript": [
       "parent.postMessage({\"jupyterEvent\": \"custom.exercise_interaction\", \"data\": {\"outcomeType\": 1, \"valueTowardsCompletion\": 0.25, \"interactionType\": 1, \"questionType\": 1, \"questionId\": \"2_StrPoints\", \"learnToolsVersion\": \"0.3.4\", \"failureMessage\": \"\", \"exceptionClass\": \"\", \"trace\": \"\"}}, \"*\")"
      ],
      "text/plain": [
       "<IPython.core.display.Javascript object>"
      ]
     },
     "metadata": {},
     "output_type": "display_data"
    },
    {
     "data": {
      "text/markdown": [
       "<span style=\"color:#33cc33\">Correct</span>"
      ],
      "text/plain": [
       "Correct"
      ]
     },
     "metadata": {},
     "output_type": "display_data"
    }
   ],
   "source": [
    "point_strings = reviews.points.astype(str)\n",
    "\n",
    "# Check your answer\n",
    "q2.check()"
   ]
  },
  {
   "cell_type": "code",
   "execution_count": 5,
   "id": "35f60b66",
   "metadata": {
    "execution": {
     "iopub.execute_input": "2022-03-19T23:34:42.055504Z",
     "iopub.status.busy": "2022-03-19T23:34:42.054748Z",
     "iopub.status.idle": "2022-03-19T23:34:42.057948Z",
     "shell.execute_reply": "2022-03-19T23:34:42.057246Z",
     "shell.execute_reply.started": "2022-03-19T23:30:37.149328Z"
    },
    "papermill": {
     "duration": 0.02786,
     "end_time": "2022-03-19T23:34:42.058126",
     "exception": false,
     "start_time": "2022-03-19T23:34:42.030266",
     "status": "completed"
    },
    "tags": []
   },
   "outputs": [],
   "source": [
    "#q2.hint()#\n",
    "#q2.solution()"
   ]
  },
  {
   "cell_type": "markdown",
   "id": "dc184bc9",
   "metadata": {
    "papermill": {
     "duration": 0.017887,
     "end_time": "2022-03-19T23:34:42.095942",
     "exception": false,
     "start_time": "2022-03-19T23:34:42.078055",
     "status": "completed"
    },
    "tags": []
   },
   "source": [
    "## 3.\n",
    "Sometimes the price column is null. How many reviews in the dataset are missing a price?"
   ]
  },
  {
   "cell_type": "code",
   "execution_count": 6,
   "id": "37dd59f3",
   "metadata": {
    "execution": {
     "iopub.execute_input": "2022-03-19T23:34:42.140619Z",
     "iopub.status.busy": "2022-03-19T23:34:42.139917Z",
     "iopub.status.idle": "2022-03-19T23:34:42.151383Z",
     "shell.execute_reply": "2022-03-19T23:34:42.150840Z",
     "shell.execute_reply.started": "2022-03-19T23:33:19.627255Z"
    },
    "papermill": {
     "duration": 0.037591,
     "end_time": "2022-03-19T23:34:42.151571",
     "exception": false,
     "start_time": "2022-03-19T23:34:42.113980",
     "status": "completed"
    },
    "tags": []
   },
   "outputs": [
    {
     "data": {
      "application/javascript": [
       "parent.postMessage({\"jupyterEvent\": \"custom.exercise_interaction\", \"data\": {\"outcomeType\": 1, \"valueTowardsCompletion\": 0.25, \"interactionType\": 1, \"questionType\": 1, \"questionId\": \"3_CountMissingPrices\", \"learnToolsVersion\": \"0.3.4\", \"failureMessage\": \"\", \"exceptionClass\": \"\", \"trace\": \"\"}}, \"*\")"
      ],
      "text/plain": [
       "<IPython.core.display.Javascript object>"
      ]
     },
     "metadata": {},
     "output_type": "display_data"
    },
    {
     "data": {
      "text/markdown": [
       "<span style=\"color:#33cc33\">Correct</span>"
      ],
      "text/plain": [
       "Correct"
      ]
     },
     "metadata": {},
     "output_type": "display_data"
    }
   ],
   "source": [
    "n_missing_prices = len(reviews[reviews.price.isnull()])\n",
    "\n",
    "# Check your answer\n",
    "q3.check()"
   ]
  },
  {
   "cell_type": "code",
   "execution_count": 7,
   "id": "4e02d207",
   "metadata": {
    "execution": {
     "iopub.execute_input": "2022-03-19T23:34:42.196115Z",
     "iopub.status.busy": "2022-03-19T23:34:42.195088Z",
     "iopub.status.idle": "2022-03-19T23:34:42.198285Z",
     "shell.execute_reply": "2022-03-19T23:34:42.197727Z",
     "shell.execute_reply.started": "2022-03-19T23:34:06.900742Z"
    },
    "papermill": {
     "duration": 0.027387,
     "end_time": "2022-03-19T23:34:42.198429",
     "exception": false,
     "start_time": "2022-03-19T23:34:42.171042",
     "status": "completed"
    },
    "tags": []
   },
   "outputs": [],
   "source": [
    "#q3.hint()\n",
    "#q3.solution()"
   ]
  },
  {
   "cell_type": "markdown",
   "id": "dfa95130",
   "metadata": {
    "papermill": {
     "duration": 0.022305,
     "end_time": "2022-03-19T23:34:42.240114",
     "exception": false,
     "start_time": "2022-03-19T23:34:42.217809",
     "status": "completed"
    },
    "tags": []
   },
   "source": [
    "## 4.\n",
    "What are the most common wine-producing regions? Create a Series counting the number of times each value occurs in the `region_1` field. This field is often missing data, so replace missing values with `Unknown`. Sort in descending order.  Your output should look something like this:\n",
    "\n",
    "```\n",
    "Unknown                    21247\n",
    "Napa Valley                 4480\n",
    "                           ...  \n",
    "Bardolino Superiore            1\n",
    "Primitivo del Tarantino        1\n",
    "Name: region_1, Length: 1230, dtype: int64\n",
    "```"
   ]
  },
  {
   "cell_type": "code",
   "execution_count": 8,
   "id": "de1b90d7",
   "metadata": {
    "execution": {
     "iopub.execute_input": "2022-03-19T23:34:42.287340Z",
     "iopub.status.busy": "2022-03-19T23:34:42.286612Z",
     "iopub.status.idle": "2022-03-19T23:34:42.292748Z",
     "shell.execute_reply": "2022-03-19T23:34:42.292117Z"
    },
    "papermill": {
     "duration": 0.031082,
     "end_time": "2022-03-19T23:34:42.292893",
     "exception": false,
     "start_time": "2022-03-19T23:34:42.261811",
     "status": "completed"
    },
    "tags": []
   },
   "outputs": [
    {
     "data": {
      "application/javascript": [
       "parent.postMessage({\"jupyterEvent\": \"custom.exercise_interaction\", \"data\": {\"outcomeType\": 4, \"interactionType\": 1, \"questionType\": 2, \"questionId\": \"4_ReviewsPerRegion\", \"learnToolsVersion\": \"0.3.4\", \"valueTowardsCompletion\": 0.0, \"failureMessage\": \"\", \"exceptionClass\": \"\", \"trace\": \"\"}}, \"*\")"
      ],
      "text/plain": [
       "<IPython.core.display.Javascript object>"
      ]
     },
     "metadata": {},
     "output_type": "display_data"
    },
    {
     "data": {
      "text/markdown": [
       "<span style=\"color:#ccaa33\">Check:</span> When you've updated the starter code, `check()` will tell you whether your code is correct. You need to update the code that creates variable `reviews_per_region`"
      ],
      "text/plain": [
       "Check: When you've updated the starter code, `check()` will tell you whether your code is correct. You need to update the code that creates variable `reviews_per_region`"
      ]
     },
     "metadata": {},
     "output_type": "display_data"
    }
   ],
   "source": [
    "reviews_per_region = ____\n",
    "\n",
    "# Check your answer\n",
    "q4.check()"
   ]
  },
  {
   "cell_type": "code",
   "execution_count": 9,
   "id": "f6f8b639",
   "metadata": {
    "execution": {
     "iopub.execute_input": "2022-03-19T23:34:42.338713Z",
     "iopub.status.busy": "2022-03-19T23:34:42.337841Z",
     "iopub.status.idle": "2022-03-19T23:34:42.341204Z",
     "shell.execute_reply": "2022-03-19T23:34:42.340591Z"
    },
    "papermill": {
     "duration": 0.027713,
     "end_time": "2022-03-19T23:34:42.341342",
     "exception": false,
     "start_time": "2022-03-19T23:34:42.313629",
     "status": "completed"
    },
    "tags": []
   },
   "outputs": [],
   "source": [
    "#q4.hint()\n",
    "#q4.solution()"
   ]
  },
  {
   "cell_type": "markdown",
   "id": "69f7a2b8",
   "metadata": {
    "papermill": {
     "duration": 0.021634,
     "end_time": "2022-03-19T23:34:42.383843",
     "exception": false,
     "start_time": "2022-03-19T23:34:42.362209",
     "status": "completed"
    },
    "tags": []
   },
   "source": [
    "# Keep going\n",
    "\n",
    "Move on to **[renaming and combining](https://www.kaggle.com/residentmario/renaming-and-combining)**."
   ]
  },
  {
   "cell_type": "markdown",
   "id": "ead768be",
   "metadata": {
    "papermill": {
     "duration": 0.021002,
     "end_time": "2022-03-19T23:34:42.426834",
     "exception": false,
     "start_time": "2022-03-19T23:34:42.405832",
     "status": "completed"
    },
    "tags": []
   },
   "source": [
    "---\n",
    "\n",
    "\n",
    "\n",
    "\n",
    "*Have questions or comments? Visit the [course discussion forum](https://www.kaggle.com/learn/pandas/discussion) to chat with other learners.*"
   ]
  }
 ],
 "metadata": {
  "kernelspec": {
   "display_name": "Python 3",
   "language": "python",
   "name": "python3"
  },
  "language_info": {
   "codemirror_mode": {
    "name": "ipython",
    "version": 3
   },
   "file_extension": ".py",
   "mimetype": "text/x-python",
   "name": "python",
   "nbconvert_exporter": "python",
   "pygments_lexer": "ipython3",
   "version": "3.7.12"
  },
  "papermill": {
   "default_parameters": {},
   "duration": 15.6787,
   "end_time": "2022-03-19T23:34:43.159154",
   "environment_variables": {},
   "exception": null,
   "input_path": "__notebook__.ipynb",
   "output_path": "__notebook__.ipynb",
   "parameters": {},
   "start_time": "2022-03-19T23:34:27.480454",
   "version": "2.3.3"
  }
 },
 "nbformat": 4,
 "nbformat_minor": 5
}
