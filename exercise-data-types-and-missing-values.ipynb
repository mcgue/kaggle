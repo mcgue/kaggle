{
 "cells": [
  {
   "cell_type": "markdown",
   "id": "c485bb63",
   "metadata": {
    "papermill": {
     "duration": 0.015473,
     "end_time": "2022-03-19T23:31:02.739199",
     "exception": false,
     "start_time": "2022-03-19T23:31:02.723726",
     "status": "completed"
    },
    "tags": []
   },
   "source": [
    "**This notebook is an exercise in the [Pandas](https://www.kaggle.com/learn/pandas) course.  You can reference the tutorial at [this link](https://www.kaggle.com/residentmario/data-types-and-missing-values).**\n",
    "\n",
    "---\n"
   ]
  },
  {
   "cell_type": "markdown",
   "id": "9956a8ec",
   "metadata": {
    "papermill": {
     "duration": 0.013923,
     "end_time": "2022-03-19T23:31:02.769449",
     "exception": false,
     "start_time": "2022-03-19T23:31:02.755526",
     "status": "completed"
    },
    "tags": []
   },
   "source": [
    "# Introduction\n",
    "\n",
    "Run the following cell to load your data and some utility functions."
   ]
  },
  {
   "cell_type": "code",
   "execution_count": 1,
   "id": "05b6208a",
   "metadata": {
    "execution": {
     "iopub.execute_input": "2022-03-19T23:31:02.803734Z",
     "iopub.status.busy": "2022-03-19T23:31:02.802512Z",
     "iopub.status.idle": "2022-03-19T23:31:05.654077Z",
     "shell.execute_reply": "2022-03-19T23:31:05.654935Z",
     "shell.execute_reply.started": "2022-03-19T23:22:27.774791Z"
    },
    "papermill": {
     "duration": 2.871447,
     "end_time": "2022-03-19T23:31:05.655298",
     "exception": false,
     "start_time": "2022-03-19T23:31:02.783851",
     "status": "completed"
    },
    "tags": []
   },
   "outputs": [
    {
     "name": "stdout",
     "output_type": "stream",
     "text": [
      "Setup complete.\n"
     ]
    }
   ],
   "source": [
    "import pandas as pd\n",
    "\n",
    "reviews = pd.read_csv(\"../input/wine-reviews/winemag-data-130k-v2.csv\", index_col=0)\n",
    "\n",
    "from learntools.core import binder; binder.bind(globals())\n",
    "from learntools.pandas.data_types_and_missing_data import *\n",
    "print(\"Setup complete.\")"
   ]
  },
  {
   "cell_type": "markdown",
   "id": "8a8dc772",
   "metadata": {
    "papermill": {
     "duration": 0.015503,
     "end_time": "2022-03-19T23:31:05.687315",
     "exception": false,
     "start_time": "2022-03-19T23:31:05.671812",
     "status": "completed"
    },
    "tags": []
   },
   "source": [
    "# Exercises"
   ]
  },
  {
   "cell_type": "markdown",
   "id": "38afa556",
   "metadata": {
    "papermill": {
     "duration": 0.014785,
     "end_time": "2022-03-19T23:31:05.717204",
     "exception": false,
     "start_time": "2022-03-19T23:31:05.702419",
     "status": "completed"
    },
    "tags": []
   },
   "source": [
    "## 1. \n",
    "What is the data type of the `points` column in the dataset?"
   ]
  },
  {
   "cell_type": "code",
   "execution_count": 2,
   "id": "10e7e921",
   "metadata": {
    "execution": {
     "iopub.execute_input": "2022-03-19T23:31:05.751317Z",
     "iopub.status.busy": "2022-03-19T23:31:05.750622Z",
     "iopub.status.idle": "2022-03-19T23:31:05.761298Z",
     "shell.execute_reply": "2022-03-19T23:31:05.761801Z",
     "shell.execute_reply.started": "2022-03-19T23:23:02.560842Z"
    },
    "papermill": {
     "duration": 0.029711,
     "end_time": "2022-03-19T23:31:05.761979",
     "exception": false,
     "start_time": "2022-03-19T23:31:05.732268",
     "status": "completed"
    },
    "tags": []
   },
   "outputs": [
    {
     "data": {
      "application/javascript": [
       "parent.postMessage({\"jupyterEvent\": \"custom.exercise_interaction\", \"data\": {\"outcomeType\": 1, \"valueTowardsCompletion\": 0.25, \"interactionType\": 1, \"questionType\": 1, \"questionId\": \"1_PointsDtype\", \"learnToolsVersion\": \"0.3.4\", \"failureMessage\": \"\", \"exceptionClass\": \"\", \"trace\": \"\"}}, \"*\")"
      ],
      "text/plain": [
       "<IPython.core.display.Javascript object>"
      ]
     },
     "metadata": {},
     "output_type": "display_data"
    },
    {
     "data": {
      "text/markdown": [
       "<span style=\"color:#33cc33\">Correct</span>"
      ],
      "text/plain": [
       "Correct"
      ]
     },
     "metadata": {},
     "output_type": "display_data"
    }
   ],
   "source": [
    "# Your code here\n",
    "dtype = reviews.points.dtype\n",
    "\n",
    "# Check your answer\n",
    "q1.check()"
   ]
  },
  {
   "cell_type": "code",
   "execution_count": 3,
   "id": "be0e3e73",
   "metadata": {
    "execution": {
     "iopub.execute_input": "2022-03-19T23:31:05.797800Z",
     "iopub.status.busy": "2022-03-19T23:31:05.796858Z",
     "iopub.status.idle": "2022-03-19T23:31:05.800061Z",
     "shell.execute_reply": "2022-03-19T23:31:05.800626Z"
    },
    "papermill": {
     "duration": 0.022824,
     "end_time": "2022-03-19T23:31:05.800810",
     "exception": false,
     "start_time": "2022-03-19T23:31:05.777986",
     "status": "completed"
    },
    "tags": []
   },
   "outputs": [],
   "source": [
    "#q1.hint()\n",
    "#q1.solution()"
   ]
  },
  {
   "cell_type": "markdown",
   "id": "d8f4cd30",
   "metadata": {
    "papermill": {
     "duration": 0.015644,
     "end_time": "2022-03-19T23:31:05.832519",
     "exception": false,
     "start_time": "2022-03-19T23:31:05.816875",
     "status": "completed"
    },
    "tags": []
   },
   "source": [
    "## 2. \n",
    "Create a Series from entries in the `points` column, but convert the entries to strings. Hint: strings are `str` in native Python."
   ]
  },
  {
   "cell_type": "code",
   "execution_count": 4,
   "id": "6744c0ac",
   "metadata": {
    "execution": {
     "iopub.execute_input": "2022-03-19T23:31:05.868669Z",
     "iopub.status.busy": "2022-03-19T23:31:05.867739Z",
     "iopub.status.idle": "2022-03-19T23:31:06.013454Z",
     "shell.execute_reply": "2022-03-19T23:31:06.014130Z",
     "shell.execute_reply.started": "2022-03-19T23:30:27.930190Z"
    },
    "papermill": {
     "duration": 0.165689,
     "end_time": "2022-03-19T23:31:06.014323",
     "exception": false,
     "start_time": "2022-03-19T23:31:05.848634",
     "status": "completed"
    },
    "tags": []
   },
   "outputs": [
    {
     "data": {
      "application/javascript": [
       "parent.postMessage({\"jupyterEvent\": \"custom.exercise_interaction\", \"data\": {\"outcomeType\": 1, \"valueTowardsCompletion\": 0.25, \"interactionType\": 1, \"questionType\": 1, \"questionId\": \"2_StrPoints\", \"learnToolsVersion\": \"0.3.4\", \"failureMessage\": \"\", \"exceptionClass\": \"\", \"trace\": \"\"}}, \"*\")"
      ],
      "text/plain": [
       "<IPython.core.display.Javascript object>"
      ]
     },
     "metadata": {},
     "output_type": "display_data"
    },
    {
     "data": {
      "text/markdown": [
       "<span style=\"color:#33cc33\">Correct</span>"
      ],
      "text/plain": [
       "Correct"
      ]
     },
     "metadata": {},
     "output_type": "display_data"
    }
   ],
   "source": [
    "point_strings = reviews.points.astype(str)\n",
    "\n",
    "# Check your answer\n",
    "q2.check()"
   ]
  },
  {
   "cell_type": "code",
   "execution_count": 5,
   "id": "ba1ab119",
   "metadata": {
    "execution": {
     "iopub.execute_input": "2022-03-19T23:31:06.053592Z",
     "iopub.status.busy": "2022-03-19T23:31:06.052897Z",
     "iopub.status.idle": "2022-03-19T23:31:06.055585Z",
     "shell.execute_reply": "2022-03-19T23:31:06.056124Z",
     "shell.execute_reply.started": "2022-03-19T23:30:37.149328Z"
    },
    "papermill": {
     "duration": 0.023192,
     "end_time": "2022-03-19T23:31:06.056303",
     "exception": false,
     "start_time": "2022-03-19T23:31:06.033111",
     "status": "completed"
    },
    "tags": []
   },
   "outputs": [],
   "source": [
    "#q2.hint()#\n",
    "#q2.solution()"
   ]
  },
  {
   "cell_type": "markdown",
   "id": "b5b1bfa9",
   "metadata": {
    "papermill": {
     "duration": 0.017132,
     "end_time": "2022-03-19T23:31:06.090966",
     "exception": false,
     "start_time": "2022-03-19T23:31:06.073834",
     "status": "completed"
    },
    "tags": []
   },
   "source": [
    "## 3.\n",
    "Sometimes the price column is null. How many reviews in the dataset are missing a price?"
   ]
  },
  {
   "cell_type": "code",
   "execution_count": 6,
   "id": "efb65582",
   "metadata": {
    "execution": {
     "iopub.execute_input": "2022-03-19T23:31:06.129011Z",
     "iopub.status.busy": "2022-03-19T23:31:06.128340Z",
     "iopub.status.idle": "2022-03-19T23:31:06.134249Z",
     "shell.execute_reply": "2022-03-19T23:31:06.134824Z"
    },
    "papermill": {
     "duration": 0.026629,
     "end_time": "2022-03-19T23:31:06.135005",
     "exception": false,
     "start_time": "2022-03-19T23:31:06.108376",
     "status": "completed"
    },
    "tags": []
   },
   "outputs": [
    {
     "data": {
      "application/javascript": [
       "parent.postMessage({\"jupyterEvent\": \"custom.exercise_interaction\", \"data\": {\"outcomeType\": 4, \"interactionType\": 1, \"questionType\": 1, \"questionId\": \"3_CountMissingPrices\", \"learnToolsVersion\": \"0.3.4\", \"valueTowardsCompletion\": 0.0, \"failureMessage\": \"\", \"exceptionClass\": \"\", \"trace\": \"\"}}, \"*\")"
      ],
      "text/plain": [
       "<IPython.core.display.Javascript object>"
      ]
     },
     "metadata": {},
     "output_type": "display_data"
    },
    {
     "data": {
      "text/markdown": [
       "<span style=\"color:#ccaa33\">Check:</span> When you've updated the starter code, `check()` will tell you whether your code is correct. You need to update the code that creates variable `n_missing_prices`"
      ],
      "text/plain": [
       "Check: When you've updated the starter code, `check()` will tell you whether your code is correct. You need to update the code that creates variable `n_missing_prices`"
      ]
     },
     "metadata": {},
     "output_type": "display_data"
    }
   ],
   "source": [
    "n_missing_prices = ____\n",
    "\n",
    "# Check your answer\n",
    "q3.check()"
   ]
  },
  {
   "cell_type": "code",
   "execution_count": 7,
   "id": "4e16f422",
   "metadata": {
    "execution": {
     "iopub.execute_input": "2022-03-19T23:31:06.175875Z",
     "iopub.status.busy": "2022-03-19T23:31:06.175143Z",
     "iopub.status.idle": "2022-03-19T23:31:06.177645Z",
     "shell.execute_reply": "2022-03-19T23:31:06.178363Z"
    },
    "papermill": {
     "duration": 0.0247,
     "end_time": "2022-03-19T23:31:06.178554",
     "exception": false,
     "start_time": "2022-03-19T23:31:06.153854",
     "status": "completed"
    },
    "tags": []
   },
   "outputs": [],
   "source": [
    "#q3.hint()\n",
    "#q3.solution()"
   ]
  },
  {
   "cell_type": "markdown",
   "id": "0d4026f3",
   "metadata": {
    "papermill": {
     "duration": 0.018827,
     "end_time": "2022-03-19T23:31:06.216576",
     "exception": false,
     "start_time": "2022-03-19T23:31:06.197749",
     "status": "completed"
    },
    "tags": []
   },
   "source": [
    "## 4.\n",
    "What are the most common wine-producing regions? Create a Series counting the number of times each value occurs in the `region_1` field. This field is often missing data, so replace missing values with `Unknown`. Sort in descending order.  Your output should look something like this:\n",
    "\n",
    "```\n",
    "Unknown                    21247\n",
    "Napa Valley                 4480\n",
    "                           ...  \n",
    "Bardolino Superiore            1\n",
    "Primitivo del Tarantino        1\n",
    "Name: region_1, Length: 1230, dtype: int64\n",
    "```"
   ]
  },
  {
   "cell_type": "code",
   "execution_count": 8,
   "id": "529d3422",
   "metadata": {
    "execution": {
     "iopub.execute_input": "2022-03-19T23:31:06.258552Z",
     "iopub.status.busy": "2022-03-19T23:31:06.257826Z",
     "iopub.status.idle": "2022-03-19T23:31:06.263384Z",
     "shell.execute_reply": "2022-03-19T23:31:06.264014Z"
    },
    "papermill": {
     "duration": 0.028652,
     "end_time": "2022-03-19T23:31:06.264190",
     "exception": false,
     "start_time": "2022-03-19T23:31:06.235538",
     "status": "completed"
    },
    "tags": []
   },
   "outputs": [
    {
     "data": {
      "application/javascript": [
       "parent.postMessage({\"jupyterEvent\": \"custom.exercise_interaction\", \"data\": {\"outcomeType\": 4, \"interactionType\": 1, \"questionType\": 2, \"questionId\": \"4_ReviewsPerRegion\", \"learnToolsVersion\": \"0.3.4\", \"valueTowardsCompletion\": 0.0, \"failureMessage\": \"\", \"exceptionClass\": \"\", \"trace\": \"\"}}, \"*\")"
      ],
      "text/plain": [
       "<IPython.core.display.Javascript object>"
      ]
     },
     "metadata": {},
     "output_type": "display_data"
    },
    {
     "data": {
      "text/markdown": [
       "<span style=\"color:#ccaa33\">Check:</span> When you've updated the starter code, `check()` will tell you whether your code is correct. You need to update the code that creates variable `reviews_per_region`"
      ],
      "text/plain": [
       "Check: When you've updated the starter code, `check()` will tell you whether your code is correct. You need to update the code that creates variable `reviews_per_region`"
      ]
     },
     "metadata": {},
     "output_type": "display_data"
    }
   ],
   "source": [
    "reviews_per_region = ____\n",
    "\n",
    "# Check your answer\n",
    "q4.check()"
   ]
  },
  {
   "cell_type": "code",
   "execution_count": 9,
   "id": "219d8390",
   "metadata": {
    "execution": {
     "iopub.execute_input": "2022-03-19T23:31:06.308123Z",
     "iopub.status.busy": "2022-03-19T23:31:06.307457Z",
     "iopub.status.idle": "2022-03-19T23:31:06.311252Z",
     "shell.execute_reply": "2022-03-19T23:31:06.310714Z"
    },
    "papermill": {
     "duration": 0.026932,
     "end_time": "2022-03-19T23:31:06.311390",
     "exception": false,
     "start_time": "2022-03-19T23:31:06.284458",
     "status": "completed"
    },
    "tags": []
   },
   "outputs": [],
   "source": [
    "#q4.hint()\n",
    "#q4.solution()"
   ]
  },
  {
   "cell_type": "markdown",
   "id": "4efa43b5",
   "metadata": {
    "papermill": {
     "duration": 0.020083,
     "end_time": "2022-03-19T23:31:06.352165",
     "exception": false,
     "start_time": "2022-03-19T23:31:06.332082",
     "status": "completed"
    },
    "tags": []
   },
   "source": [
    "# Keep going\n",
    "\n",
    "Move on to **[renaming and combining](https://www.kaggle.com/residentmario/renaming-and-combining)**."
   ]
  },
  {
   "cell_type": "markdown",
   "id": "2102cfe1",
   "metadata": {
    "papermill": {
     "duration": 0.020459,
     "end_time": "2022-03-19T23:31:06.392971",
     "exception": false,
     "start_time": "2022-03-19T23:31:06.372512",
     "status": "completed"
    },
    "tags": []
   },
   "source": [
    "---\n",
    "\n",
    "\n",
    "\n",
    "\n",
    "*Have questions or comments? Visit the [course discussion forum](https://www.kaggle.com/learn/pandas/discussion) to chat with other learners.*"
   ]
  }
 ],
 "metadata": {
  "kernelspec": {
   "display_name": "Python 3",
   "language": "python",
   "name": "python3"
  },
  "language_info": {
   "codemirror_mode": {
    "name": "ipython",
    "version": 3
   },
   "file_extension": ".py",
   "mimetype": "text/x-python",
   "name": "python",
   "nbconvert_exporter": "python",
   "pygments_lexer": "ipython3",
   "version": "3.7.12"
  },
  "papermill": {
   "default_parameters": {},
   "duration": 14.009414,
   "end_time": "2022-03-19T23:31:07.124145",
   "environment_variables": {},
   "exception": null,
   "input_path": "__notebook__.ipynb",
   "output_path": "__notebook__.ipynb",
   "parameters": {},
   "start_time": "2022-03-19T23:30:53.114731",
   "version": "2.3.3"
  }
 },
 "nbformat": 4,
 "nbformat_minor": 5
}
