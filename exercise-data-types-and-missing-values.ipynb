{
 "cells": [
  {
   "cell_type": "markdown",
   "id": "0b83702e",
   "metadata": {
    "papermill": {
     "duration": 0.018725,
     "end_time": "2022-03-19T23:37:52.707762",
     "exception": false,
     "start_time": "2022-03-19T23:37:52.689037",
     "status": "completed"
    },
    "tags": []
   },
   "source": [
    "**This notebook is an exercise in the [Pandas](https://www.kaggle.com/learn/pandas) course.  You can reference the tutorial at [this link](https://www.kaggle.com/residentmario/data-types-and-missing-values).**\n",
    "\n",
    "---\n"
   ]
  },
  {
   "cell_type": "markdown",
   "id": "815ae92c",
   "metadata": {
    "papermill": {
     "duration": 0.015505,
     "end_time": "2022-03-19T23:37:52.741772",
     "exception": false,
     "start_time": "2022-03-19T23:37:52.726267",
     "status": "completed"
    },
    "tags": []
   },
   "source": [
    "# Introduction\n",
    "\n",
    "Run the following cell to load your data and some utility functions."
   ]
  },
  {
   "cell_type": "code",
   "execution_count": 1,
   "id": "531d4c0c",
   "metadata": {
    "execution": {
     "iopub.execute_input": "2022-03-19T23:37:52.778161Z",
     "iopub.status.busy": "2022-03-19T23:37:52.776847Z",
     "iopub.status.idle": "2022-03-19T23:37:55.583011Z",
     "shell.execute_reply": "2022-03-19T23:37:55.581846Z",
     "shell.execute_reply.started": "2022-03-19T23:22:27.774791Z"
    },
    "papermill": {
     "duration": 2.825602,
     "end_time": "2022-03-19T23:37:55.583239",
     "exception": false,
     "start_time": "2022-03-19T23:37:52.757637",
     "status": "completed"
    },
    "tags": []
   },
   "outputs": [
    {
     "name": "stdout",
     "output_type": "stream",
     "text": [
      "Setup complete.\n"
     ]
    }
   ],
   "source": [
    "import pandas as pd\n",
    "\n",
    "reviews = pd.read_csv(\"../input/wine-reviews/winemag-data-130k-v2.csv\", index_col=0)\n",
    "\n",
    "from learntools.core import binder; binder.bind(globals())\n",
    "from learntools.pandas.data_types_and_missing_data import *\n",
    "print(\"Setup complete.\")"
   ]
  },
  {
   "cell_type": "markdown",
   "id": "49c23ff0",
   "metadata": {
    "papermill": {
     "duration": 0.015361,
     "end_time": "2022-03-19T23:37:55.615619",
     "exception": false,
     "start_time": "2022-03-19T23:37:55.600258",
     "status": "completed"
    },
    "tags": []
   },
   "source": [
    "# Exercises"
   ]
  },
  {
   "cell_type": "markdown",
   "id": "45efa79c",
   "metadata": {
    "papermill": {
     "duration": 0.015245,
     "end_time": "2022-03-19T23:37:55.646495",
     "exception": false,
     "start_time": "2022-03-19T23:37:55.631250",
     "status": "completed"
    },
    "tags": []
   },
   "source": [
    "## 1. \n",
    "What is the data type of the `points` column in the dataset?"
   ]
  },
  {
   "cell_type": "code",
   "execution_count": 2,
   "id": "dea5cb3e",
   "metadata": {
    "execution": {
     "iopub.execute_input": "2022-03-19T23:37:55.686389Z",
     "iopub.status.busy": "2022-03-19T23:37:55.685566Z",
     "iopub.status.idle": "2022-03-19T23:37:55.689741Z",
     "shell.execute_reply": "2022-03-19T23:37:55.690315Z",
     "shell.execute_reply.started": "2022-03-19T23:23:02.560842Z"
    },
    "papermill": {
     "duration": 0.028632,
     "end_time": "2022-03-19T23:37:55.690509",
     "exception": false,
     "start_time": "2022-03-19T23:37:55.661877",
     "status": "completed"
    },
    "tags": []
   },
   "outputs": [
    {
     "data": {
      "application/javascript": [
       "parent.postMessage({\"jupyterEvent\": \"custom.exercise_interaction\", \"data\": {\"outcomeType\": 1, \"valueTowardsCompletion\": 0.25, \"interactionType\": 1, \"questionType\": 1, \"questionId\": \"1_PointsDtype\", \"learnToolsVersion\": \"0.3.4\", \"failureMessage\": \"\", \"exceptionClass\": \"\", \"trace\": \"\"}}, \"*\")"
      ],
      "text/plain": [
       "<IPython.core.display.Javascript object>"
      ]
     },
     "metadata": {},
     "output_type": "display_data"
    },
    {
     "data": {
      "text/markdown": [
       "<span style=\"color:#33cc33\">Correct</span>"
      ],
      "text/plain": [
       "Correct"
      ]
     },
     "metadata": {},
     "output_type": "display_data"
    }
   ],
   "source": [
    "# Your code here\n",
    "dtype = reviews.points.dtype\n",
    "\n",
    "# Check your answer\n",
    "q1.check()"
   ]
  },
  {
   "cell_type": "code",
   "execution_count": 3,
   "id": "c147fd01",
   "metadata": {
    "execution": {
     "iopub.execute_input": "2022-03-19T23:37:55.729000Z",
     "iopub.status.busy": "2022-03-19T23:37:55.728084Z",
     "iopub.status.idle": "2022-03-19T23:37:55.731034Z",
     "shell.execute_reply": "2022-03-19T23:37:55.731507Z"
    },
    "papermill": {
     "duration": 0.024022,
     "end_time": "2022-03-19T23:37:55.731678",
     "exception": false,
     "start_time": "2022-03-19T23:37:55.707656",
     "status": "completed"
    },
    "tags": []
   },
   "outputs": [],
   "source": [
    "#q1.hint()\n",
    "#q1.solution()"
   ]
  },
  {
   "cell_type": "markdown",
   "id": "0cb9ec7d",
   "metadata": {
    "papermill": {
     "duration": 0.016697,
     "end_time": "2022-03-19T23:37:55.765368",
     "exception": false,
     "start_time": "2022-03-19T23:37:55.748671",
     "status": "completed"
    },
    "tags": []
   },
   "source": [
    "## 2. \n",
    "Create a Series from entries in the `points` column, but convert the entries to strings. Hint: strings are `str` in native Python."
   ]
  },
  {
   "cell_type": "code",
   "execution_count": 4,
   "id": "b813070d",
   "metadata": {
    "execution": {
     "iopub.execute_input": "2022-03-19T23:37:55.803484Z",
     "iopub.status.busy": "2022-03-19T23:37:55.802499Z",
     "iopub.status.idle": "2022-03-19T23:37:55.949588Z",
     "shell.execute_reply": "2022-03-19T23:37:55.949001Z",
     "shell.execute_reply.started": "2022-03-19T23:30:27.930190Z"
    },
    "papermill": {
     "duration": 0.167119,
     "end_time": "2022-03-19T23:37:55.949728",
     "exception": false,
     "start_time": "2022-03-19T23:37:55.782609",
     "status": "completed"
    },
    "tags": []
   },
   "outputs": [
    {
     "data": {
      "application/javascript": [
       "parent.postMessage({\"jupyterEvent\": \"custom.exercise_interaction\", \"data\": {\"outcomeType\": 1, \"valueTowardsCompletion\": 0.25, \"interactionType\": 1, \"questionType\": 1, \"questionId\": \"2_StrPoints\", \"learnToolsVersion\": \"0.3.4\", \"failureMessage\": \"\", \"exceptionClass\": \"\", \"trace\": \"\"}}, \"*\")"
      ],
      "text/plain": [
       "<IPython.core.display.Javascript object>"
      ]
     },
     "metadata": {},
     "output_type": "display_data"
    },
    {
     "data": {
      "text/markdown": [
       "<span style=\"color:#33cc33\">Correct</span>"
      ],
      "text/plain": [
       "Correct"
      ]
     },
     "metadata": {},
     "output_type": "display_data"
    }
   ],
   "source": [
    "point_strings = reviews.points.astype(str)\n",
    "\n",
    "# Check your answer\n",
    "q2.check()"
   ]
  },
  {
   "cell_type": "code",
   "execution_count": 5,
   "id": "8d5a7502",
   "metadata": {
    "execution": {
     "iopub.execute_input": "2022-03-19T23:37:55.990747Z",
     "iopub.status.busy": "2022-03-19T23:37:55.989760Z",
     "iopub.status.idle": "2022-03-19T23:37:55.992534Z",
     "shell.execute_reply": "2022-03-19T23:37:55.991879Z",
     "shell.execute_reply.started": "2022-03-19T23:30:37.149328Z"
    },
    "papermill": {
     "duration": 0.024889,
     "end_time": "2022-03-19T23:37:55.992674",
     "exception": false,
     "start_time": "2022-03-19T23:37:55.967785",
     "status": "completed"
    },
    "tags": []
   },
   "outputs": [],
   "source": [
    "#q2.hint()#\n",
    "#q2.solution()"
   ]
  },
  {
   "cell_type": "markdown",
   "id": "67df124e",
   "metadata": {
    "papermill": {
     "duration": 0.017763,
     "end_time": "2022-03-19T23:37:56.028733",
     "exception": false,
     "start_time": "2022-03-19T23:37:56.010970",
     "status": "completed"
    },
    "tags": []
   },
   "source": [
    "## 3.\n",
    "Sometimes the price column is null. How many reviews in the dataset are missing a price?"
   ]
  },
  {
   "cell_type": "code",
   "execution_count": 6,
   "id": "b262bfe0",
   "metadata": {
    "execution": {
     "iopub.execute_input": "2022-03-19T23:37:56.070420Z",
     "iopub.status.busy": "2022-03-19T23:37:56.069738Z",
     "iopub.status.idle": "2022-03-19T23:37:56.081739Z",
     "shell.execute_reply": "2022-03-19T23:37:56.081190Z",
     "shell.execute_reply.started": "2022-03-19T23:33:19.627255Z"
    },
    "papermill": {
     "duration": 0.035028,
     "end_time": "2022-03-19T23:37:56.081874",
     "exception": false,
     "start_time": "2022-03-19T23:37:56.046846",
     "status": "completed"
    },
    "tags": []
   },
   "outputs": [
    {
     "data": {
      "application/javascript": [
       "parent.postMessage({\"jupyterEvent\": \"custom.exercise_interaction\", \"data\": {\"outcomeType\": 1, \"valueTowardsCompletion\": 0.25, \"interactionType\": 1, \"questionType\": 1, \"questionId\": \"3_CountMissingPrices\", \"learnToolsVersion\": \"0.3.4\", \"failureMessage\": \"\", \"exceptionClass\": \"\", \"trace\": \"\"}}, \"*\")"
      ],
      "text/plain": [
       "<IPython.core.display.Javascript object>"
      ]
     },
     "metadata": {},
     "output_type": "display_data"
    },
    {
     "data": {
      "text/markdown": [
       "<span style=\"color:#33cc33\">Correct</span>"
      ],
      "text/plain": [
       "Correct"
      ]
     },
     "metadata": {},
     "output_type": "display_data"
    }
   ],
   "source": [
    "n_missing_prices = len(reviews[reviews.price.isnull()])\n",
    "\n",
    "# Check your answer\n",
    "q3.check()"
   ]
  },
  {
   "cell_type": "code",
   "execution_count": 7,
   "id": "69236747",
   "metadata": {
    "execution": {
     "iopub.execute_input": "2022-03-19T23:37:56.123706Z",
     "iopub.status.busy": "2022-03-19T23:37:56.123067Z",
     "iopub.status.idle": "2022-03-19T23:37:56.125953Z",
     "shell.execute_reply": "2022-03-19T23:37:56.126553Z",
     "shell.execute_reply.started": "2022-03-19T23:34:06.900742Z"
    },
    "papermill": {
     "duration": 0.025484,
     "end_time": "2022-03-19T23:37:56.126736",
     "exception": false,
     "start_time": "2022-03-19T23:37:56.101252",
     "status": "completed"
    },
    "tags": []
   },
   "outputs": [],
   "source": [
    "#q3.hint()\n",
    "#q3.solution()"
   ]
  },
  {
   "cell_type": "markdown",
   "id": "484e0e62",
   "metadata": {
    "papermill": {
     "duration": 0.019215,
     "end_time": "2022-03-19T23:37:56.165727",
     "exception": false,
     "start_time": "2022-03-19T23:37:56.146512",
     "status": "completed"
    },
    "tags": []
   },
   "source": [
    "## 4.\n",
    "What are the most common wine-producing regions? Create a Series counting the number of times each value occurs in the `region_1` field. This field is often missing data, so replace missing values with `Unknown`. Sort in descending order.  Your output should look something like this:\n",
    "\n",
    "```\n",
    "Unknown                    21247\n",
    "Napa Valley                 4480\n",
    "                           ...  \n",
    "Bardolino Superiore            1\n",
    "Primitivo del Tarantino        1\n",
    "Name: region_1, Length: 1230, dtype: int64\n",
    "```"
   ]
  },
  {
   "cell_type": "code",
   "execution_count": 8,
   "id": "c1c80e82",
   "metadata": {
    "execution": {
     "iopub.execute_input": "2022-03-19T23:37:56.207468Z",
     "iopub.status.busy": "2022-03-19T23:37:56.206763Z",
     "iopub.status.idle": "2022-03-19T23:37:56.280155Z",
     "shell.execute_reply": "2022-03-19T23:37:56.280672Z",
     "shell.execute_reply.started": "2022-03-19T23:37:13.834027Z"
    },
    "papermill": {
     "duration": 0.095752,
     "end_time": "2022-03-19T23:37:56.280841",
     "exception": false,
     "start_time": "2022-03-19T23:37:56.185089",
     "status": "completed"
    },
    "tags": []
   },
   "outputs": [
    {
     "data": {
      "application/javascript": [
       "parent.postMessage({\"jupyterEvent\": \"custom.exercise_interaction\", \"data\": {\"outcomeType\": 1, \"valueTowardsCompletion\": 0.25, \"interactionType\": 1, \"questionType\": 2, \"questionId\": \"4_ReviewsPerRegion\", \"learnToolsVersion\": \"0.3.4\", \"failureMessage\": \"\", \"exceptionClass\": \"\", \"trace\": \"\"}}, \"*\")"
      ],
      "text/plain": [
       "<IPython.core.display.Javascript object>"
      ]
     },
     "metadata": {},
     "output_type": "display_data"
    },
    {
     "data": {
      "text/markdown": [
       "<span style=\"color:#33cc33\">Correct</span>"
      ],
      "text/plain": [
       "Correct"
      ]
     },
     "metadata": {},
     "output_type": "display_data"
    }
   ],
   "source": [
    "reviews_per_region = reviews.region_1.fillna('Unknown').value_counts().sort_values(ascending=False)\n",
    "\n",
    "# Check your answer\n",
    "q4.check()"
   ]
  },
  {
   "cell_type": "code",
   "execution_count": 9,
   "id": "c213a5f9",
   "metadata": {
    "execution": {
     "iopub.execute_input": "2022-03-19T23:37:56.326204Z",
     "iopub.status.busy": "2022-03-19T23:37:56.325570Z",
     "iopub.status.idle": "2022-03-19T23:37:56.327256Z",
     "shell.execute_reply": "2022-03-19T23:37:56.327752Z",
     "shell.execute_reply.started": "2022-03-19T23:37:19.030906Z"
    },
    "papermill": {
     "duration": 0.026606,
     "end_time": "2022-03-19T23:37:56.327912",
     "exception": false,
     "start_time": "2022-03-19T23:37:56.301306",
     "status": "completed"
    },
    "tags": []
   },
   "outputs": [],
   "source": [
    "#q4.hint()\n",
    "#q4.solution()"
   ]
  },
  {
   "cell_type": "markdown",
   "id": "7259ce2e",
   "metadata": {
    "papermill": {
     "duration": 0.020327,
     "end_time": "2022-03-19T23:37:56.369904",
     "exception": false,
     "start_time": "2022-03-19T23:37:56.349577",
     "status": "completed"
    },
    "tags": []
   },
   "source": [
    "# Keep going\n",
    "\n",
    "Move on to **[renaming and combining](https://www.kaggle.com/residentmario/renaming-and-combining)**."
   ]
  },
  {
   "cell_type": "markdown",
   "id": "f25a812f",
   "metadata": {
    "papermill": {
     "duration": 0.02017,
     "end_time": "2022-03-19T23:37:56.410557",
     "exception": false,
     "start_time": "2022-03-19T23:37:56.390387",
     "status": "completed"
    },
    "tags": []
   },
   "source": [
    "---\n",
    "\n",
    "\n",
    "\n",
    "\n",
    "*Have questions or comments? Visit the [course discussion forum](https://www.kaggle.com/learn/pandas/discussion) to chat with other learners.*"
   ]
  }
 ],
 "metadata": {
  "kernelspec": {
   "display_name": "Python 3",
   "language": "python",
   "name": "python3"
  },
  "language_info": {
   "codemirror_mode": {
    "name": "ipython",
    "version": 3
   },
   "file_extension": ".py",
   "mimetype": "text/x-python",
   "name": "python",
   "nbconvert_exporter": "python",
   "pygments_lexer": "ipython3",
   "version": "3.7.12"
  },
  "papermill": {
   "default_parameters": {},
   "duration": 14.373842,
   "end_time": "2022-03-19T23:37:57.040168",
   "environment_variables": {},
   "exception": null,
   "input_path": "__notebook__.ipynb",
   "output_path": "__notebook__.ipynb",
   "parameters": {},
   "start_time": "2022-03-19T23:37:42.666326",
   "version": "2.3.3"
  }
 },
 "nbformat": 4,
 "nbformat_minor": 5
}
