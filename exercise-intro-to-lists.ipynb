{
 "cells": [
  {
   "cell_type": "markdown",
   "id": "241ee31a",
   "metadata": {
    "papermill": {
     "duration": 0.008057,
     "end_time": "2022-08-20T20:56:04.613334",
     "exception": false,
     "start_time": "2022-08-20T20:56:04.605277",
     "status": "completed"
    },
    "tags": []
   },
   "source": [
    "**This notebook is an exercise in the [Intro to Programming](https://www.kaggle.com/learn/intro-to-programming) course.  You can reference the tutorial at [this link](https://www.kaggle.com/alexisbcook/intro-to-lists).**\n",
    "\n",
    "---\n"
   ]
  },
  {
   "cell_type": "markdown",
   "id": "8039534b",
   "metadata": {
    "papermill": {
     "duration": 0.005656,
     "end_time": "2022-08-20T20:56:04.625141",
     "exception": false,
     "start_time": "2022-08-20T20:56:04.619485",
     "status": "completed"
    },
    "tags": []
   },
   "source": [
    "In the tutorial, you learned how to define and modify Python lists.  In this exercise, you will use your new knowledge to solve several problems.\n",
    "\n",
    "# Set up the notebook\n",
    "\n",
    "Run the next code cell without changes to set up the notebook."
   ]
  },
  {
   "cell_type": "code",
   "execution_count": 1,
   "id": "d8971a0e",
   "metadata": {
    "execution": {
     "iopub.execute_input": "2022-08-20T20:56:04.639070Z",
     "iopub.status.busy": "2022-08-20T20:56:04.638614Z",
     "iopub.status.idle": "2022-08-20T20:56:04.691124Z",
     "shell.execute_reply": "2022-08-20T20:56:04.689694Z"
    },
    "papermill": {
     "duration": 0.062609,
     "end_time": "2022-08-20T20:56:04.693714",
     "exception": false,
     "start_time": "2022-08-20T20:56:04.631105",
     "status": "completed"
    },
    "tags": []
   },
   "outputs": [
    {
     "name": "stdout",
     "output_type": "stream",
     "text": [
      "Setup complete.\n"
     ]
    }
   ],
   "source": [
    "from learntools.core import binder\n",
    "binder.bind(globals())\n",
    "from learntools.intro_to_programming.ex5 import *\n",
    "print('Setup complete.')"
   ]
  },
  {
   "cell_type": "markdown",
   "id": "322c7f39",
   "metadata": {
    "papermill": {
     "duration": 0.005687,
     "end_time": "2022-08-20T20:56:04.705626",
     "exception": false,
     "start_time": "2022-08-20T20:56:04.699939",
     "status": "completed"
    },
    "tags": []
   },
   "source": [
    "# Question 1\n",
    "\n",
    "You own a restaurant with five food dishes, organized in the Python list `menu` below.  One day, you decide to:\n",
    "- remove bean soup (`'bean soup'`) from the menu, and\n",
    "- add roasted beet salad (`'roasted beet salad'`) to the menu.\n",
    "\n",
    "Implement this change to the list below.  While completing this task, \n",
    "- do not change the line that creates the `menu` list.  \n",
    "- your answer should use `.remove()` and `.append()`.  "
   ]
  },
  {
   "cell_type": "code",
   "execution_count": 2,
   "id": "0b014605",
   "metadata": {
    "execution": {
     "iopub.execute_input": "2022-08-20T20:56:04.719457Z",
     "iopub.status.busy": "2022-08-20T20:56:04.719016Z",
     "iopub.status.idle": "2022-08-20T20:56:04.731818Z",
     "shell.execute_reply": "2022-08-20T20:56:04.730777Z"
    },
    "papermill": {
     "duration": 0.022999,
     "end_time": "2022-08-20T20:56:04.734455",
     "exception": false,
     "start_time": "2022-08-20T20:56:04.711456",
     "status": "completed"
    },
    "tags": []
   },
   "outputs": [
    {
     "data": {
      "application/javascript": [
       "parent.postMessage({\"jupyterEvent\": \"custom.exercise_interaction\", \"data\": {\"outcomeType\": 1, \"valueTowardsCompletion\": 0.2, \"interactionType\": 1, \"questionType\": 2, \"questionId\": \"1_FoodMenu\", \"learnToolsVersion\": \"0.3.4\", \"failureMessage\": \"\", \"exceptionClass\": \"\", \"trace\": \"\"}}, \"*\")"
      ],
      "text/plain": [
       "<IPython.core.display.Javascript object>"
      ]
     },
     "metadata": {},
     "output_type": "display_data"
    },
    {
     "data": {
      "text/markdown": [
       "<span style=\"color:#33cc33\">Correct</span>"
      ],
      "text/plain": [
       "Correct"
      ]
     },
     "metadata": {},
     "output_type": "display_data"
    }
   ],
   "source": [
    "# Do not change: Initial menu for your restaurant\n",
    "menu = ['stewed meat with onions', 'bean soup', 'risotto with trout and shrimp',\n",
    "       'fish soup with cream and onion', 'gyro']\n",
    "\n",
    "# TODO: remove 'bean soup', and add 'roasted beet salad' to the end of the menu\n",
    "menu.remove('bean soup')\n",
    "menu.append('roasted beet salad')\n",
    "\n",
    "# Do not change: Check your answer\n",
    "q1.check()"
   ]
  },
  {
   "cell_type": "code",
   "execution_count": 3,
   "id": "464f0300",
   "metadata": {
    "execution": {
     "iopub.execute_input": "2022-08-20T20:56:04.748842Z",
     "iopub.status.busy": "2022-08-20T20:56:04.748397Z",
     "iopub.status.idle": "2022-08-20T20:56:04.753080Z",
     "shell.execute_reply": "2022-08-20T20:56:04.751973Z"
    },
    "papermill": {
     "duration": 0.014726,
     "end_time": "2022-08-20T20:56:04.755523",
     "exception": false,
     "start_time": "2022-08-20T20:56:04.740797",
     "status": "completed"
    },
    "tags": []
   },
   "outputs": [],
   "source": [
    "# Uncomment to see a hint\n",
    "#q1.hint()\n",
    "\n",
    "# Uncomment to see the solution\n",
    "#q1.solution()"
   ]
  },
  {
   "cell_type": "markdown",
   "id": "b79c01b2",
   "metadata": {
    "papermill": {
     "duration": 0.005877,
     "end_time": "2022-08-20T20:56:04.767655",
     "exception": false,
     "start_time": "2022-08-20T20:56:04.761778",
     "status": "completed"
    },
    "tags": []
   },
   "source": [
    "# Question 2\n",
    "\n",
    "The list `num_customers` contains the number of customers who came into your restaurant every day over the last month (which lasted thirty days).  Fill in values for each of the following:\n",
    "- `avg_first_seven` - average number of customers who visited in the first seven days\n",
    "- `avg_last_seven` - average number of customers who visited in the last seven days\n",
    "- `max_month` - number of customers on the day that got the most customers in the last month\n",
    "- `min_month` - number of customers on the day that got the least customers in the last month\n",
    "\n",
    "Answer this question by writing code.  For instance, if you have to find the minimum value in a list, use `min()` instead of scanning for the smallest value and directly filling in a number."
   ]
  },
  {
   "cell_type": "code",
   "execution_count": 4,
   "id": "0e7638b8",
   "metadata": {
    "execution": {
     "iopub.execute_input": "2022-08-20T20:56:04.781646Z",
     "iopub.status.busy": "2022-08-20T20:56:04.781261Z",
     "iopub.status.idle": "2022-08-20T20:56:04.793320Z",
     "shell.execute_reply": "2022-08-20T20:56:04.792014Z"
    },
    "papermill": {
     "duration": 0.022172,
     "end_time": "2022-08-20T20:56:04.795906",
     "exception": false,
     "start_time": "2022-08-20T20:56:04.773734",
     "status": "completed"
    },
    "tags": []
   },
   "outputs": [
    {
     "data": {
      "application/javascript": [
       "parent.postMessage({\"jupyterEvent\": \"custom.exercise_interaction\", \"data\": {\"outcomeType\": 1, \"valueTowardsCompletion\": 0.2, \"interactionType\": 1, \"questionType\": 1, \"questionId\": \"2_NumCustomers\", \"learnToolsVersion\": \"0.3.4\", \"failureMessage\": \"\", \"exceptionClass\": \"\", \"trace\": \"\"}}, \"*\")"
      ],
      "text/plain": [
       "<IPython.core.display.Javascript object>"
      ]
     },
     "metadata": {},
     "output_type": "display_data"
    },
    {
     "data": {
      "text/markdown": [
       "<span style=\"color:#33cc33\">Correct</span>"
      ],
      "text/plain": [
       "Correct"
      ]
     },
     "metadata": {},
     "output_type": "display_data"
    }
   ],
   "source": [
    "# Do not change: Number of customers each day for the last month\n",
    "num_customers = [137, 147, 135, 128, 170, 174, 165, 146, 126, 159,\n",
    "                 141, 148, 132, 147, 168, 153, 170, 161, 148, 152,\n",
    "                 141, 151, 131, 149, 164, 163, 143, 143, 166, 171]\n",
    "\n",
    "# TODO: Fill in values for the variables below\n",
    "avg_first_seven = sum(num_customers[:7])/7\n",
    "avg_last_seven = sum(num_customers[-7:])/7\n",
    "max_month = max(num_customers)\n",
    "min_month = min(num_customers)\n",
    "\n",
    "# Do not change: Check your answer\n",
    "q2.check()"
   ]
  },
  {
   "cell_type": "code",
   "execution_count": 5,
   "id": "7107043b",
   "metadata": {
    "execution": {
     "iopub.execute_input": "2022-08-20T20:56:04.810211Z",
     "iopub.status.busy": "2022-08-20T20:56:04.809833Z",
     "iopub.status.idle": "2022-08-20T20:56:04.814513Z",
     "shell.execute_reply": "2022-08-20T20:56:04.813087Z"
    },
    "papermill": {
     "duration": 0.014655,
     "end_time": "2022-08-20T20:56:04.816951",
     "exception": false,
     "start_time": "2022-08-20T20:56:04.802296",
     "status": "completed"
    },
    "tags": []
   },
   "outputs": [],
   "source": [
    "# Uncomment to see a hint\n",
    "#q2.hint()\n",
    "\n",
    "# Uncomment to see the solution\n",
    "#q2.solution()"
   ]
  },
  {
   "cell_type": "markdown",
   "id": "cccd3e64",
   "metadata": {
    "papermill": {
     "duration": 0.006049,
     "end_time": "2022-08-20T20:56:04.829533",
     "exception": false,
     "start_time": "2022-08-20T20:56:04.823484",
     "status": "completed"
    },
    "tags": []
   },
   "source": [
    "# Question 3\n",
    "\n",
    "In the tutorial, we gave an example of a Python string with information that was better as a list."
   ]
  },
  {
   "cell_type": "code",
   "execution_count": 6,
   "id": "d15a7837",
   "metadata": {
    "execution": {
     "iopub.execute_input": "2022-08-20T20:56:04.843820Z",
     "iopub.status.busy": "2022-08-20T20:56:04.843446Z",
     "iopub.status.idle": "2022-08-20T20:56:04.848871Z",
     "shell.execute_reply": "2022-08-20T20:56:04.847471Z"
    },
    "papermill": {
     "duration": 0.016156,
     "end_time": "2022-08-20T20:56:04.851869",
     "exception": false,
     "start_time": "2022-08-20T20:56:04.835713",
     "status": "completed"
    },
    "tags": []
   },
   "outputs": [],
   "source": [
    "flowers = \"pink primrose,hard-leaved pocket orchid,canterbury bells,sweet pea,english marigold,tiger lily,moon orchid,bird of paradise,monkshood,globe thistle\""
   ]
  },
  {
   "cell_type": "markdown",
   "id": "daa86641",
   "metadata": {
    "papermill": {
     "duration": 0.006037,
     "end_time": "2022-08-20T20:56:04.864751",
     "exception": false,
     "start_time": "2022-08-20T20:56:04.858714",
     "status": "completed"
    },
    "tags": []
   },
   "source": [
    "You can actually use Python to quickly turn this string into a list with `.split()`.  In the parentheses, we need to provide the character should be used to mark the end of one list item and the beginning of another, and enclose it in quotation marks.  In this case, that character is a comma."
   ]
  },
  {
   "cell_type": "code",
   "execution_count": 7,
   "id": "105d62cb",
   "metadata": {
    "execution": {
     "iopub.execute_input": "2022-08-20T20:56:04.879718Z",
     "iopub.status.busy": "2022-08-20T20:56:04.878597Z",
     "iopub.status.idle": "2022-08-20T20:56:04.886363Z",
     "shell.execute_reply": "2022-08-20T20:56:04.884615Z"
    },
    "papermill": {
     "duration": 0.018253,
     "end_time": "2022-08-20T20:56:04.889228",
     "exception": false,
     "start_time": "2022-08-20T20:56:04.870975",
     "status": "completed"
    },
    "tags": []
   },
   "outputs": [
    {
     "name": "stdout",
     "output_type": "stream",
     "text": [
      "['pink primrose', 'hard-leaved pocket orchid', 'canterbury bells', 'sweet pea', 'english marigold', 'tiger lily', 'moon orchid', 'bird of paradise', 'monkshood', 'globe thistle']\n"
     ]
    }
   ],
   "source": [
    " print(flowers.split(\",\"))"
   ]
  },
  {
   "cell_type": "markdown",
   "id": "656fe684",
   "metadata": {
    "papermill": {
     "duration": 0.00603,
     "end_time": "2022-08-20T20:56:04.901731",
     "exception": false,
     "start_time": "2022-08-20T20:56:04.895701",
     "status": "completed"
    },
    "tags": []
   },
   "source": [
    "Now it is your turn to try this out!  Create two Python lists:\n",
    "- `letters` should be a Python list where each entry is an uppercase letter of the English alphabet.  For instance, the first two entries should be `\"A\"` and `\"B\"`, and the final two entries should be `\"Y\"` and `\"Z\"`.  Use the string `alphabet` to create this list.\n",
    "- `address` should be a Python list where each row in `address` is a different item in the list.  Currently, each row in `address` is separated by a comma. "
   ]
  },
  {
   "cell_type": "code",
   "execution_count": 8,
   "id": "f340dc23",
   "metadata": {
    "execution": {
     "iopub.execute_input": "2022-08-20T20:56:04.915698Z",
     "iopub.status.busy": "2022-08-20T20:56:04.915311Z",
     "iopub.status.idle": "2022-08-20T20:56:04.925822Z",
     "shell.execute_reply": "2022-08-20T20:56:04.924776Z"
    },
    "papermill": {
     "duration": 0.020133,
     "end_time": "2022-08-20T20:56:04.928149",
     "exception": false,
     "start_time": "2022-08-20T20:56:04.908016",
     "status": "completed"
    },
    "tags": []
   },
   "outputs": [
    {
     "data": {
      "application/javascript": [
       "parent.postMessage({\"jupyterEvent\": \"custom.exercise_interaction\", \"data\": {\"outcomeType\": 1, \"valueTowardsCompletion\": 0.2, \"interactionType\": 1, \"questionType\": 1, \"questionId\": \"3_SplitString\", \"learnToolsVersion\": \"0.3.4\", \"failureMessage\": \"\", \"exceptionClass\": \"\", \"trace\": \"\"}}, \"*\")"
      ],
      "text/plain": [
       "<IPython.core.display.Javascript object>"
      ]
     },
     "metadata": {},
     "output_type": "display_data"
    },
    {
     "data": {
      "text/markdown": [
       "<span style=\"color:#33cc33\">Correct</span>"
      ],
      "text/plain": [
       "Correct"
      ]
     },
     "metadata": {},
     "output_type": "display_data"
    }
   ],
   "source": [
    "# DO not change: Define two Python strings\n",
    "alphabet = \"A.B.C.D.E.F.G.H.I.J.K.L.M.N.O.P.Q.R.S.T.U.V.W.X.Y.Z\"\n",
    "address = \"Mr. H. Potter,The cupboard under the Stairs,4 Privet Drive,Little Whinging,Surrey\"\n",
    "\n",
    "# TODO: Convert strings into Python lists\n",
    "letters = alphabet.split('.')\n",
    "formatted_address = address.split(',')\n",
    "\n",
    "# Do not change: Check your answer\n",
    "q3.check()"
   ]
  },
  {
   "cell_type": "code",
   "execution_count": 9,
   "id": "9b789a53",
   "metadata": {
    "execution": {
     "iopub.execute_input": "2022-08-20T20:56:04.943761Z",
     "iopub.status.busy": "2022-08-20T20:56:04.943370Z",
     "iopub.status.idle": "2022-08-20T20:56:04.947763Z",
     "shell.execute_reply": "2022-08-20T20:56:04.946472Z"
    },
    "papermill": {
     "duration": 0.014776,
     "end_time": "2022-08-20T20:56:04.950280",
     "exception": false,
     "start_time": "2022-08-20T20:56:04.935504",
     "status": "completed"
    },
    "tags": []
   },
   "outputs": [],
   "source": [
    "# Uncomment to see a hint\n",
    "#q3.hint()\n",
    "\n",
    "# Uncomment to see the solution\n",
    "#q3.solution()"
   ]
  },
  {
   "cell_type": "markdown",
   "id": "0810e5b0",
   "metadata": {
    "papermill": {
     "duration": 0.006453,
     "end_time": "2022-08-20T20:56:04.963488",
     "exception": false,
     "start_time": "2022-08-20T20:56:04.957035",
     "status": "completed"
    },
    "tags": []
   },
   "source": [
    "# Question 4\n",
    "\n",
    "In the Python course, you'll learn all about **list comprehensions**, which allow you to create a list based on the values in another list.  In this question, you'll get a brief preview of how they work.\n",
    "\n",
    "Say we're working with the list below."
   ]
  },
  {
   "cell_type": "code",
   "execution_count": 10,
   "id": "ea42724c",
   "metadata": {
    "execution": {
     "iopub.execute_input": "2022-08-20T20:56:04.978517Z",
     "iopub.status.busy": "2022-08-20T20:56:04.978132Z",
     "iopub.status.idle": "2022-08-20T20:56:04.983558Z",
     "shell.execute_reply": "2022-08-20T20:56:04.982447Z"
    },
    "papermill": {
     "duration": 0.01566,
     "end_time": "2022-08-20T20:56:04.985883",
     "exception": false,
     "start_time": "2022-08-20T20:56:04.970223",
     "status": "completed"
    },
    "tags": []
   },
   "outputs": [],
   "source": [
    "test_ratings = [1, 2, 3, 4, 5]"
   ]
  },
  {
   "cell_type": "markdown",
   "id": "f661e3cd",
   "metadata": {
    "papermill": {
     "duration": 0.006317,
     "end_time": "2022-08-20T20:56:04.999030",
     "exception": false,
     "start_time": "2022-08-20T20:56:04.992713",
     "status": "completed"
    },
    "tags": []
   },
   "source": [
    "Then we can use this list (`test_ratings`) to create a new list (`test_liked`) where each item has been turned into a boolean, depending on whether or not the item is greater than or equal to four."
   ]
  },
  {
   "cell_type": "code",
   "execution_count": 11,
   "id": "174f3610",
   "metadata": {
    "execution": {
     "iopub.execute_input": "2022-08-20T20:56:05.014049Z",
     "iopub.status.busy": "2022-08-20T20:56:05.013662Z",
     "iopub.status.idle": "2022-08-20T20:56:05.019555Z",
     "shell.execute_reply": "2022-08-20T20:56:05.018368Z"
    },
    "papermill": {
     "duration": 0.016666,
     "end_time": "2022-08-20T20:56:05.022480",
     "exception": false,
     "start_time": "2022-08-20T20:56:05.005814",
     "status": "completed"
    },
    "tags": []
   },
   "outputs": [
    {
     "name": "stdout",
     "output_type": "stream",
     "text": [
      "[False, False, False, True, True]\n"
     ]
    }
   ],
   "source": [
    "test_liked = [i>=4 for i in test_ratings]\n",
    "print(test_liked)"
   ]
  },
  {
   "cell_type": "markdown",
   "id": "d137d390",
   "metadata": {
    "papermill": {
     "duration": 0.00684,
     "end_time": "2022-08-20T20:56:05.036342",
     "exception": false,
     "start_time": "2022-08-20T20:56:05.029502",
     "status": "completed"
    },
    "tags": []
   },
   "source": [
    "In this question, you'll use this list comprehension to define a function `percentage_liked()` that takes one argument as input:\n",
    "- `ratings`: list of ratings that people gave to a movie, where each rating is a number between 1-5, inclusive\n",
    "\n",
    "We say someone liked the movie, if they gave a rating of either 4 or 5.  Your function should return the percentage of people who liked the movie.\n",
    "\n",
    "For instance, if we supply a value of `[1, 2, 3, 4, 5, 4, 5, 1]`, then 50% (4/8) of the people liked the movie, and the function should return `0.5`.\n",
    "\n",
    "Part of the function has already been completed for you.  You need only use `list_liked` to calculate `percentage_liked`."
   ]
  },
  {
   "cell_type": "code",
   "execution_count": 12,
   "id": "3a711902",
   "metadata": {
    "execution": {
     "iopub.execute_input": "2022-08-20T20:56:05.055693Z",
     "iopub.status.busy": "2022-08-20T20:56:05.054932Z",
     "iopub.status.idle": "2022-08-20T20:56:05.071746Z",
     "shell.execute_reply": "2022-08-20T20:56:05.070477Z"
    },
    "papermill": {
     "duration": 0.031784,
     "end_time": "2022-08-20T20:56:05.075597",
     "exception": false,
     "start_time": "2022-08-20T20:56:05.043813",
     "status": "completed"
    },
    "tags": []
   },
   "outputs": [
    {
     "data": {
      "application/javascript": [
       "parent.postMessage({\"jupyterEvent\": \"custom.exercise_interaction\", \"data\": {\"outcomeType\": 1, \"valueTowardsCompletion\": 0.2, \"interactionType\": 1, \"questionType\": 2, \"questionId\": \"4_PercentageLiked\", \"learnToolsVersion\": \"0.3.4\", \"failureMessage\": \"\", \"exceptionClass\": \"\", \"trace\": \"\"}}, \"*\")"
      ],
      "text/plain": [
       "<IPython.core.display.Javascript object>"
      ]
     },
     "metadata": {},
     "output_type": "display_data"
    },
    {
     "data": {
      "text/markdown": [
       "<span style=\"color:#33cc33\">Correct</span>"
      ],
      "text/plain": [
       "Correct"
      ]
     },
     "metadata": {},
     "output_type": "display_data"
    }
   ],
   "source": [
    "\n",
    "def percentage_liked(ratings):\n",
    "    list_liked = [i>=4 for i in ratings]\n",
    "    # TODO: Complete the function\n",
    "    percentage_liked = sum(list_liked)/len(list_liked)\n",
    "    return percentage_liked\n",
    "\n",
    "# Do not change: should return 0.5\n",
    "percentage_liked([1, 2, 3, 4, 5, 4, 5, 1])\n",
    "\n",
    "# Do not change: Check your answer\n",
    "q4.check()"
   ]
  },
  {
   "cell_type": "code",
   "execution_count": 13,
   "id": "9ad39443",
   "metadata": {
    "execution": {
     "iopub.execute_input": "2022-08-20T20:56:05.098309Z",
     "iopub.status.busy": "2022-08-20T20:56:05.097611Z",
     "iopub.status.idle": "2022-08-20T20:56:05.105277Z",
     "shell.execute_reply": "2022-08-20T20:56:05.104454Z"
    },
    "papermill": {
     "duration": 0.022251,
     "end_time": "2022-08-20T20:56:05.108369",
     "exception": false,
     "start_time": "2022-08-20T20:56:05.086118",
     "status": "completed"
    },
    "tags": []
   },
   "outputs": [],
   "source": [
    "# Uncomment to see a hint\n",
    "#q4.hint()\n",
    "\n",
    "# Uncomment to see the solution\n",
    "#q4.solution()"
   ]
  },
  {
   "cell_type": "markdown",
   "id": "f1125ba1",
   "metadata": {
    "papermill": {
     "duration": 0.006783,
     "end_time": "2022-08-20T20:56:05.127192",
     "exception": false,
     "start_time": "2022-08-20T20:56:05.120409",
     "status": "completed"
    },
    "tags": []
   },
   "source": [
    "# 🌶️ Question 5\n",
    " \n",
    "Say you're doing analytics for a website.  You need to write a function that returns the percentage growth in the total number of users relative to a specified number of years ago.\n",
    "\n",
    "Your function `percentage_growth()` should take two arguments as input:\n",
    "- `num_users` = Python list with the total number of users each year.  So `num_users[0]` is the total number of users in the first year, `num_users[1]` is the total number of users in the second year, and so on.  The final entry in the list gives the total number of users in the most recently completed year.\n",
    "- `yrs_ago` = number of years to go back in time when calculating the growth percentage\n",
    "\n",
    "For instance, say `num_users = [920344, 1043553, 1204334, 1458996, 1503323, 1593432, 1623463, 1843064, 1930992, 2001078]`.\n",
    "- if `yrs_ago = 1`, we want the function to return a value of about `0.036`. This corresponds to a percentage growth of approximately 3.6%, calculated as (2001078 - 1930992)/1930992.\n",
    "- if `years_ago = 7`, we would want to return approximately `0.66`.  This corresponds to a percentage growth of approximately 66%, calculated as (2001078 - 1204334)/1204334.\n",
    "\n",
    "Your coworker sent you a draft of a function, but it doesn't seem to be doing the correct calculation.  Can you figure out what has gone wrong and make the needed changes?"
   ]
  },
  {
   "cell_type": "code",
   "execution_count": 14,
   "id": "dccadeb1",
   "metadata": {
    "execution": {
     "iopub.execute_input": "2022-08-20T20:56:05.143224Z",
     "iopub.status.busy": "2022-08-20T20:56:05.142839Z",
     "iopub.status.idle": "2022-08-20T20:56:05.153769Z",
     "shell.execute_reply": "2022-08-20T20:56:05.152882Z"
    },
    "papermill": {
     "duration": 0.021328,
     "end_time": "2022-08-20T20:56:05.155810",
     "exception": false,
     "start_time": "2022-08-20T20:56:05.134482",
     "status": "completed"
    },
    "tags": []
   },
   "outputs": [
    {
     "name": "stdout",
     "output_type": "stream",
     "text": [
      "0.0\n",
      "0.2807272117129434\n"
     ]
    },
    {
     "data": {
      "application/javascript": [
       "parent.postMessage({\"jupyterEvent\": \"custom.exercise_interaction\", \"data\": {\"outcomeType\": 2, \"failureMessage\": \"Expected return value of `0.03629533421163837` given `num_users=[920344, 1043553, 1204334, 1458996, 1503323, 1593432, 1623463, 1843064, 1930992, 2001078]`, `yrs_ago=1`, but got `0.0` instead.\", \"interactionType\": 1, \"questionType\": 2, \"questionId\": \"5_WebsiteAnalytics\", \"learnToolsVersion\": \"0.3.4\", \"valueTowardsCompletion\": 0.0, \"exceptionClass\": \"\", \"trace\": \"\"}}, \"*\")"
      ],
      "text/plain": [
       "<IPython.core.display.Javascript object>"
      ]
     },
     "metadata": {},
     "output_type": "display_data"
    },
    {
     "data": {
      "text/markdown": [
       "<span style=\"color:#cc3333\">Incorrect:</span> Expected return value of `0.03629533421163837` given `num_users=[920344, 1043553, 1204334, 1458996, 1503323, 1593432, 1623463, 1843064, 1930992, 2001078]`, `yrs_ago=1`, but got `0.0` instead."
      ],
      "text/plain": [
       "Incorrect: Expected return value of `0.03629533421163837` given `num_users=[920344, 1043553, 1204334, 1458996, 1503323, 1593432, 1623463, 1843064, 1930992, 2001078]`, `yrs_ago=1`, but got `0.0` instead."
      ]
     },
     "metadata": {},
     "output_type": "display_data"
    }
   ],
   "source": [
    "# TODO: Edit the function\n",
    "def percentage_growth(num_users, yrs_ago):\n",
    "    growth = (num_users[len(num_users)-1] - num_users[len(num_users)-yrs_ago])/num_users[len(num_users)-2]\n",
    "    return growth\n",
    "\n",
    "# Do not change: Variable for calculating some test examples\n",
    "num_users_test = [920344, 1043553, 1204334, 1458996, 1503323, 1593432, 1623463, 1843064, 1930992, 2001078]\n",
    "\n",
    "# Do not change: Should return .036\n",
    "print(percentage_growth(num_users_test, 1))\n",
    "\n",
    "# Do not change: Should return 0.66\n",
    "print(percentage_growth(num_users_test, 7))\n",
    "\n",
    "# Do not change: Check your answer\n",
    "q5.check()"
   ]
  },
  {
   "cell_type": "code",
   "execution_count": 15,
   "id": "e8a8104b",
   "metadata": {
    "execution": {
     "iopub.execute_input": "2022-08-20T20:56:05.172143Z",
     "iopub.status.busy": "2022-08-20T20:56:05.171795Z",
     "iopub.status.idle": "2022-08-20T20:56:05.175669Z",
     "shell.execute_reply": "2022-08-20T20:56:05.174726Z"
    },
    "papermill": {
     "duration": 0.014573,
     "end_time": "2022-08-20T20:56:05.178011",
     "exception": false,
     "start_time": "2022-08-20T20:56:05.163438",
     "status": "completed"
    },
    "tags": []
   },
   "outputs": [],
   "source": [
    "# Uncomment to see a hint\n",
    "#q5.hint()\n",
    "\n",
    "# Uncomment to see the solution\n",
    "#q5.solution()"
   ]
  },
  {
   "cell_type": "markdown",
   "id": "0277b54a",
   "metadata": {
    "papermill": {
     "duration": 0.007206,
     "end_time": "2022-08-20T20:56:05.192527",
     "exception": false,
     "start_time": "2022-08-20T20:56:05.185321",
     "status": "completed"
    },
    "tags": []
   },
   "source": [
    "# Congratulations!\n",
    "\n",
    "Congratulations for finishing the Intro to Programming course!  You should be proud of your very first steps with learning programming.  As next steps, we recommend taking:\n",
    "- the **[Python course](http://www.kaggle.com/learn/python)**, and \n",
    "- the **[Intro to Machine Learning course](https://www.kaggle.com/learn/intro-to-machine-learning)**."
   ]
  },
  {
   "cell_type": "markdown",
   "id": "72844616",
   "metadata": {
    "papermill": {
     "duration": 0.007011,
     "end_time": "2022-08-20T20:56:05.206895",
     "exception": false,
     "start_time": "2022-08-20T20:56:05.199884",
     "status": "completed"
    },
    "tags": []
   },
   "source": [
    "---\n",
    "\n",
    "\n",
    "\n",
    "\n",
    "*Have questions or comments? Visit the [course discussion forum](https://www.kaggle.com/learn/intro-to-programming/discussion) to chat with other learners.*"
   ]
  }
 ],
 "metadata": {
  "kernelspec": {
   "display_name": "Python 3",
   "language": "python",
   "name": "python3"
  },
  "language_info": {
   "codemirror_mode": {
    "name": "ipython",
    "version": 3
   },
   "file_extension": ".py",
   "mimetype": "text/x-python",
   "name": "python",
   "nbconvert_exporter": "python",
   "pygments_lexer": "ipython3",
   "version": "3.7.12"
  },
  "papermill": {
   "default_parameters": {},
   "duration": 10.645011,
   "end_time": "2022-08-20T20:56:05.836228",
   "environment_variables": {},
   "exception": null,
   "input_path": "__notebook__.ipynb",
   "output_path": "__notebook__.ipynb",
   "parameters": {},
   "start_time": "2022-08-20T20:55:55.191217",
   "version": "2.3.4"
  }
 },
 "nbformat": 4,
 "nbformat_minor": 5
}
