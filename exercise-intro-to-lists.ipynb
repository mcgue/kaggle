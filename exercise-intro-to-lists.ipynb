{
 "cells": [
  {
   "cell_type": "markdown",
   "id": "fc52a51d",
   "metadata": {
    "papermill": {
     "duration": 0.006444,
     "end_time": "2022-08-23T19:29:19.939140",
     "exception": false,
     "start_time": "2022-08-23T19:29:19.932696",
     "status": "completed"
    },
    "tags": []
   },
   "source": [
    "**This notebook is an exercise in the [Intro to Programming](https://www.kaggle.com/learn/intro-to-programming) course.  You can reference the tutorial at [this link](https://www.kaggle.com/alexisbcook/intro-to-lists).**\n",
    "\n",
    "---\n"
   ]
  },
  {
   "cell_type": "markdown",
   "id": "dc4e906c",
   "metadata": {
    "papermill": {
     "duration": 0.005355,
     "end_time": "2022-08-23T19:29:19.950331",
     "exception": false,
     "start_time": "2022-08-23T19:29:19.944976",
     "status": "completed"
    },
    "tags": []
   },
   "source": [
    "In the tutorial, you learned how to define and modify Python lists.  In this exercise, you will use your new knowledge to solve several problems.\n",
    "\n",
    "# Set up the notebook\n",
    "\n",
    "Run the next code cell without changes to set up the notebook."
   ]
  },
  {
   "cell_type": "code",
   "execution_count": 1,
   "id": "372cae16",
   "metadata": {
    "execution": {
     "iopub.execute_input": "2022-08-23T19:29:19.963626Z",
     "iopub.status.busy": "2022-08-23T19:29:19.963205Z",
     "iopub.status.idle": "2022-08-23T19:29:20.029140Z",
     "shell.execute_reply": "2022-08-23T19:29:20.028231Z"
    },
    "papermill": {
     "duration": 0.075494,
     "end_time": "2022-08-23T19:29:20.031152",
     "exception": false,
     "start_time": "2022-08-23T19:29:19.955658",
     "status": "completed"
    },
    "tags": []
   },
   "outputs": [
    {
     "name": "stdout",
     "output_type": "stream",
     "text": [
      "Setup complete.\n"
     ]
    }
   ],
   "source": [
    "from learntools.core import binder\n",
    "binder.bind(globals())\n",
    "from learntools.intro_to_programming.ex5 import *\n",
    "print('Setup complete.')"
   ]
  },
  {
   "cell_type": "markdown",
   "id": "66295294",
   "metadata": {
    "papermill": {
     "duration": 0.005643,
     "end_time": "2022-08-23T19:29:20.042843",
     "exception": false,
     "start_time": "2022-08-23T19:29:20.037200",
     "status": "completed"
    },
    "tags": []
   },
   "source": [
    "# Question 1\n",
    "\n",
    "You own a restaurant with five food dishes, organized in the Python list `menu` below.  One day, you decide to:\n",
    "- remove bean soup (`'bean soup'`) from the menu, and\n",
    "- add roasted beet salad (`'roasted beet salad'`) to the menu.\n",
    "\n",
    "Implement this change to the list below.  While completing this task, \n",
    "- do not change the line that creates the `menu` list.  \n",
    "- your answer should use `.remove()` and `.append()`.  "
   ]
  },
  {
   "cell_type": "code",
   "execution_count": 2,
   "id": "3b564d3e",
   "metadata": {
    "execution": {
     "iopub.execute_input": "2022-08-23T19:29:20.056503Z",
     "iopub.status.busy": "2022-08-23T19:29:20.055865Z",
     "iopub.status.idle": "2022-08-23T19:29:20.066314Z",
     "shell.execute_reply": "2022-08-23T19:29:20.064952Z"
    },
    "papermill": {
     "duration": 0.01978,
     "end_time": "2022-08-23T19:29:20.068465",
     "exception": false,
     "start_time": "2022-08-23T19:29:20.048685",
     "status": "completed"
    },
    "tags": []
   },
   "outputs": [
    {
     "data": {
      "application/javascript": [
       "parent.postMessage({\"jupyterEvent\": \"custom.exercise_interaction\", \"data\": {\"outcomeType\": 1, \"valueTowardsCompletion\": 0.2, \"interactionType\": 1, \"questionType\": 2, \"questionId\": \"1_FoodMenu\", \"learnToolsVersion\": \"0.3.4\", \"failureMessage\": \"\", \"exceptionClass\": \"\", \"trace\": \"\"}}, \"*\")"
      ],
      "text/plain": [
       "<IPython.core.display.Javascript object>"
      ]
     },
     "metadata": {},
     "output_type": "display_data"
    },
    {
     "data": {
      "text/markdown": [
       "<span style=\"color:#33cc33\">Correct</span>"
      ],
      "text/plain": [
       "Correct"
      ]
     },
     "metadata": {},
     "output_type": "display_data"
    }
   ],
   "source": [
    "# Do not change: Initial menu for your restaurant\n",
    "menu = ['stewed meat with onions', 'bean soup', 'risotto with trout and shrimp',\n",
    "       'fish soup with cream and onion', 'gyro']\n",
    "\n",
    "# TODO: remove 'bean soup', and add 'roasted beet salad' to the end of the menu\n",
    "menu.remove('bean soup')\n",
    "menu.append('roasted beet salad')\n",
    "\n",
    "# Do not change: Check your answer\n",
    "q1.check()"
   ]
  },
  {
   "cell_type": "code",
   "execution_count": 3,
   "id": "f5404c9d",
   "metadata": {
    "execution": {
     "iopub.execute_input": "2022-08-23T19:29:20.082271Z",
     "iopub.status.busy": "2022-08-23T19:29:20.081581Z",
     "iopub.status.idle": "2022-08-23T19:29:20.086132Z",
     "shell.execute_reply": "2022-08-23T19:29:20.084969Z"
    },
    "papermill": {
     "duration": 0.01382,
     "end_time": "2022-08-23T19:29:20.088306",
     "exception": false,
     "start_time": "2022-08-23T19:29:20.074486",
     "status": "completed"
    },
    "tags": []
   },
   "outputs": [],
   "source": [
    "# Uncomment to see a hint\n",
    "#q1.hint()\n",
    "\n",
    "# Uncomment to see the solution\n",
    "#q1.solution()"
   ]
  },
  {
   "cell_type": "markdown",
   "id": "8138bf7d",
   "metadata": {
    "papermill": {
     "duration": 0.005441,
     "end_time": "2022-08-23T19:29:20.099602",
     "exception": false,
     "start_time": "2022-08-23T19:29:20.094161",
     "status": "completed"
    },
    "tags": []
   },
   "source": [
    "# Question 2\n",
    "\n",
    "The list `num_customers` contains the number of customers who came into your restaurant every day over the last month (which lasted thirty days).  Fill in values for each of the following:\n",
    "- `avg_first_seven` - average number of customers who visited in the first seven days\n",
    "- `avg_last_seven` - average number of customers who visited in the last seven days\n",
    "- `max_month` - number of customers on the day that got the most customers in the last month\n",
    "- `min_month` - number of customers on the day that got the least customers in the last month\n",
    "\n",
    "Answer this question by writing code.  For instance, if you have to find the minimum value in a list, use `min()` instead of scanning for the smallest value and directly filling in a number."
   ]
  },
  {
   "cell_type": "code",
   "execution_count": 4,
   "id": "9526d313",
   "metadata": {
    "execution": {
     "iopub.execute_input": "2022-08-23T19:29:20.113246Z",
     "iopub.status.busy": "2022-08-23T19:29:20.112822Z",
     "iopub.status.idle": "2022-08-23T19:29:20.124378Z",
     "shell.execute_reply": "2022-08-23T19:29:20.123582Z"
    },
    "papermill": {
     "duration": 0.022542,
     "end_time": "2022-08-23T19:29:20.127858",
     "exception": false,
     "start_time": "2022-08-23T19:29:20.105316",
     "status": "completed"
    },
    "tags": []
   },
   "outputs": [
    {
     "data": {
      "application/javascript": [
       "parent.postMessage({\"jupyterEvent\": \"custom.exercise_interaction\", \"data\": {\"outcomeType\": 1, \"valueTowardsCompletion\": 0.2, \"interactionType\": 1, \"questionType\": 1, \"questionId\": \"2_NumCustomers\", \"learnToolsVersion\": \"0.3.4\", \"failureMessage\": \"\", \"exceptionClass\": \"\", \"trace\": \"\"}}, \"*\")"
      ],
      "text/plain": [
       "<IPython.core.display.Javascript object>"
      ]
     },
     "metadata": {},
     "output_type": "display_data"
    },
    {
     "data": {
      "text/markdown": [
       "<span style=\"color:#33cc33\">Correct</span>"
      ],
      "text/plain": [
       "Correct"
      ]
     },
     "metadata": {},
     "output_type": "display_data"
    }
   ],
   "source": [
    "# Do not change: Number of customers each day for the last month\n",
    "num_customers = [137, 147, 135, 128, 170, 174, 165, 146, 126, 159,\n",
    "                 141, 148, 132, 147, 168, 153, 170, 161, 148, 152,\n",
    "                 141, 151, 131, 149, 164, 163, 143, 143, 166, 171]\n",
    "\n",
    "# TODO: Fill in values for the variables below\n",
    "avg_first_seven = sum(num_customers[:7])/7\n",
    "avg_last_seven = sum(num_customers[-7:])/7\n",
    "max_month = max(num_customers)\n",
    "min_month = min(num_customers)\n",
    "\n",
    "# Do not change: Check your answer\n",
    "q2.check()"
   ]
  },
  {
   "cell_type": "code",
   "execution_count": 5,
   "id": "f6c0bb0a",
   "metadata": {
    "execution": {
     "iopub.execute_input": "2022-08-23T19:29:20.149306Z",
     "iopub.status.busy": "2022-08-23T19:29:20.148697Z",
     "iopub.status.idle": "2022-08-23T19:29:20.153256Z",
     "shell.execute_reply": "2022-08-23T19:29:20.151654Z"
    },
    "papermill": {
     "duration": 0.02039,
     "end_time": "2022-08-23T19:29:20.157033",
     "exception": false,
     "start_time": "2022-08-23T19:29:20.136643",
     "status": "completed"
    },
    "tags": []
   },
   "outputs": [],
   "source": [
    "# Uncomment to see a hint\n",
    "#q2.hint()\n",
    "\n",
    "# Uncomment to see the solution\n",
    "#q2.solution()"
   ]
  },
  {
   "cell_type": "markdown",
   "id": "f43f0571",
   "metadata": {
    "papermill": {
     "duration": 0.008321,
     "end_time": "2022-08-23T19:29:20.173452",
     "exception": false,
     "start_time": "2022-08-23T19:29:20.165131",
     "status": "completed"
    },
    "tags": []
   },
   "source": [
    "# Question 3\n",
    "\n",
    "In the tutorial, we gave an example of a Python string with information that was better as a list."
   ]
  },
  {
   "cell_type": "code",
   "execution_count": 6,
   "id": "9a756dde",
   "metadata": {
    "execution": {
     "iopub.execute_input": "2022-08-23T19:29:20.194627Z",
     "iopub.status.busy": "2022-08-23T19:29:20.193986Z",
     "iopub.status.idle": "2022-08-23T19:29:20.198046Z",
     "shell.execute_reply": "2022-08-23T19:29:20.197196Z"
    },
    "papermill": {
     "duration": 0.016806,
     "end_time": "2022-08-23T19:29:20.199913",
     "exception": false,
     "start_time": "2022-08-23T19:29:20.183107",
     "status": "completed"
    },
    "tags": []
   },
   "outputs": [],
   "source": [
    "flowers = \"pink primrose,hard-leaved pocket orchid,canterbury bells,sweet pea,english marigold,tiger lily,moon orchid,bird of paradise,monkshood,globe thistle\""
   ]
  },
  {
   "cell_type": "markdown",
   "id": "84728f23",
   "metadata": {
    "papermill": {
     "duration": 0.0061,
     "end_time": "2022-08-23T19:29:20.212744",
     "exception": false,
     "start_time": "2022-08-23T19:29:20.206644",
     "status": "completed"
    },
    "tags": []
   },
   "source": [
    "You can actually use Python to quickly turn this string into a list with `.split()`.  In the parentheses, we need to provide the character should be used to mark the end of one list item and the beginning of another, and enclose it in quotation marks.  In this case, that character is a comma."
   ]
  },
  {
   "cell_type": "code",
   "execution_count": 7,
   "id": "7084450c",
   "metadata": {
    "execution": {
     "iopub.execute_input": "2022-08-23T19:29:20.228051Z",
     "iopub.status.busy": "2022-08-23T19:29:20.227666Z",
     "iopub.status.idle": "2022-08-23T19:29:20.234885Z",
     "shell.execute_reply": "2022-08-23T19:29:20.232927Z"
    },
    "papermill": {
     "duration": 0.018044,
     "end_time": "2022-08-23T19:29:20.237794",
     "exception": false,
     "start_time": "2022-08-23T19:29:20.219750",
     "status": "completed"
    },
    "tags": []
   },
   "outputs": [
    {
     "name": "stdout",
     "output_type": "stream",
     "text": [
      "['pink primrose', 'hard-leaved pocket orchid', 'canterbury bells', 'sweet pea', 'english marigold', 'tiger lily', 'moon orchid', 'bird of paradise', 'monkshood', 'globe thistle']\n"
     ]
    }
   ],
   "source": [
    " print(flowers.split(\",\"))"
   ]
  },
  {
   "cell_type": "markdown",
   "id": "4b882f0d",
   "metadata": {
    "papermill": {
     "duration": 0.006105,
     "end_time": "2022-08-23T19:29:20.251266",
     "exception": false,
     "start_time": "2022-08-23T19:29:20.245161",
     "status": "completed"
    },
    "tags": []
   },
   "source": [
    "Now it is your turn to try this out!  Create two Python lists:\n",
    "- `letters` should be a Python list where each entry is an uppercase letter of the English alphabet.  For instance, the first two entries should be `\"A\"` and `\"B\"`, and the final two entries should be `\"Y\"` and `\"Z\"`.  Use the string `alphabet` to create this list.\n",
    "- `address` should be a Python list where each row in `address` is a different item in the list.  Currently, each row in `address` is separated by a comma. "
   ]
  },
  {
   "cell_type": "code",
   "execution_count": 8,
   "id": "1836e12b",
   "metadata": {
    "execution": {
     "iopub.execute_input": "2022-08-23T19:29:20.265702Z",
     "iopub.status.busy": "2022-08-23T19:29:20.264706Z",
     "iopub.status.idle": "2022-08-23T19:29:20.273611Z",
     "shell.execute_reply": "2022-08-23T19:29:20.272628Z"
    },
    "papermill": {
     "duration": 0.018283,
     "end_time": "2022-08-23T19:29:20.275817",
     "exception": false,
     "start_time": "2022-08-23T19:29:20.257534",
     "status": "completed"
    },
    "tags": []
   },
   "outputs": [
    {
     "data": {
      "application/javascript": [
       "parent.postMessage({\"jupyterEvent\": \"custom.exercise_interaction\", \"data\": {\"outcomeType\": 1, \"valueTowardsCompletion\": 0.2, \"interactionType\": 1, \"questionType\": 1, \"questionId\": \"3_SplitString\", \"learnToolsVersion\": \"0.3.4\", \"failureMessage\": \"\", \"exceptionClass\": \"\", \"trace\": \"\"}}, \"*\")"
      ],
      "text/plain": [
       "<IPython.core.display.Javascript object>"
      ]
     },
     "metadata": {},
     "output_type": "display_data"
    },
    {
     "data": {
      "text/markdown": [
       "<span style=\"color:#33cc33\">Correct</span>"
      ],
      "text/plain": [
       "Correct"
      ]
     },
     "metadata": {},
     "output_type": "display_data"
    }
   ],
   "source": [
    "# DO not change: Define two Python strings\n",
    "alphabet = \"A.B.C.D.E.F.G.H.I.J.K.L.M.N.O.P.Q.R.S.T.U.V.W.X.Y.Z\"\n",
    "address = \"Mr. H. Potter,The cupboard under the Stairs,4 Privet Drive,Little Whinging,Surrey\"\n",
    "\n",
    "# TODO: Convert strings into Python lists\n",
    "letters = alphabet.split('.')\n",
    "formatted_address = address.split(',')\n",
    "\n",
    "# Do not change: Check your answer\n",
    "q3.check()"
   ]
  },
  {
   "cell_type": "code",
   "execution_count": 9,
   "id": "74ce6523",
   "metadata": {
    "execution": {
     "iopub.execute_input": "2022-08-23T19:29:20.292127Z",
     "iopub.status.busy": "2022-08-23T19:29:20.291049Z",
     "iopub.status.idle": "2022-08-23T19:29:20.296140Z",
     "shell.execute_reply": "2022-08-23T19:29:20.294591Z"
    },
    "papermill": {
     "duration": 0.014906,
     "end_time": "2022-08-23T19:29:20.298184",
     "exception": false,
     "start_time": "2022-08-23T19:29:20.283278",
     "status": "completed"
    },
    "tags": []
   },
   "outputs": [],
   "source": [
    "# Uncomment to see a hint\n",
    "#q3.hint()\n",
    "\n",
    "# Uncomment to see the solution\n",
    "#q3.solution()"
   ]
  },
  {
   "cell_type": "markdown",
   "id": "a68f377c",
   "metadata": {
    "papermill": {
     "duration": 0.006159,
     "end_time": "2022-08-23T19:29:20.311018",
     "exception": false,
     "start_time": "2022-08-23T19:29:20.304859",
     "status": "completed"
    },
    "tags": []
   },
   "source": [
    "# Question 4\n",
    "\n",
    "In the Python course, you'll learn all about **list comprehensions**, which allow you to create a list based on the values in another list.  In this question, you'll get a brief preview of how they work.\n",
    "\n",
    "Say we're working with the list below."
   ]
  },
  {
   "cell_type": "code",
   "execution_count": 10,
   "id": "1687d086",
   "metadata": {
    "execution": {
     "iopub.execute_input": "2022-08-23T19:29:20.326102Z",
     "iopub.status.busy": "2022-08-23T19:29:20.325533Z",
     "iopub.status.idle": "2022-08-23T19:29:20.331199Z",
     "shell.execute_reply": "2022-08-23T19:29:20.329614Z"
    },
    "papermill": {
     "duration": 0.016296,
     "end_time": "2022-08-23T19:29:20.333932",
     "exception": false,
     "start_time": "2022-08-23T19:29:20.317636",
     "status": "completed"
    },
    "tags": []
   },
   "outputs": [],
   "source": [
    "test_ratings = [1, 2, 3, 4, 5]"
   ]
  },
  {
   "cell_type": "markdown",
   "id": "4a88cad1",
   "metadata": {
    "papermill": {
     "duration": 0.006532,
     "end_time": "2022-08-23T19:29:20.347876",
     "exception": false,
     "start_time": "2022-08-23T19:29:20.341344",
     "status": "completed"
    },
    "tags": []
   },
   "source": [
    "Then we can use this list (`test_ratings`) to create a new list (`test_liked`) where each item has been turned into a boolean, depending on whether or not the item is greater than or equal to four."
   ]
  },
  {
   "cell_type": "code",
   "execution_count": 11,
   "id": "292a42bb",
   "metadata": {
    "execution": {
     "iopub.execute_input": "2022-08-23T19:29:20.362953Z",
     "iopub.status.busy": "2022-08-23T19:29:20.362637Z",
     "iopub.status.idle": "2022-08-23T19:29:20.369079Z",
     "shell.execute_reply": "2022-08-23T19:29:20.367299Z"
    },
    "papermill": {
     "duration": 0.017531,
     "end_time": "2022-08-23T19:29:20.371881",
     "exception": false,
     "start_time": "2022-08-23T19:29:20.354350",
     "status": "completed"
    },
    "tags": []
   },
   "outputs": [
    {
     "name": "stdout",
     "output_type": "stream",
     "text": [
      "[False, False, False, True, True]\n"
     ]
    }
   ],
   "source": [
    "test_liked = [i>=4 for i in test_ratings]\n",
    "print(test_liked)"
   ]
  },
  {
   "cell_type": "markdown",
   "id": "d74fca0d",
   "metadata": {
    "papermill": {
     "duration": 0.007518,
     "end_time": "2022-08-23T19:29:20.388046",
     "exception": false,
     "start_time": "2022-08-23T19:29:20.380528",
     "status": "completed"
    },
    "tags": []
   },
   "source": [
    "In this question, you'll use this list comprehension to define a function `percentage_liked()` that takes one argument as input:\n",
    "- `ratings`: list of ratings that people gave to a movie, where each rating is a number between 1-5, inclusive\n",
    "\n",
    "We say someone liked the movie, if they gave a rating of either 4 or 5.  Your function should return the percentage of people who liked the movie.\n",
    "\n",
    "For instance, if we supply a value of `[1, 2, 3, 4, 5, 4, 5, 1]`, then 50% (4/8) of the people liked the movie, and the function should return `0.5`.\n",
    "\n",
    "Part of the function has already been completed for you.  You need only use `list_liked` to calculate `percentage_liked`."
   ]
  },
  {
   "cell_type": "code",
   "execution_count": 12,
   "id": "474001ba",
   "metadata": {
    "execution": {
     "iopub.execute_input": "2022-08-23T19:29:20.404017Z",
     "iopub.status.busy": "2022-08-23T19:29:20.403405Z",
     "iopub.status.idle": "2022-08-23T19:29:20.413374Z",
     "shell.execute_reply": "2022-08-23T19:29:20.412716Z"
    },
    "papermill": {
     "duration": 0.020266,
     "end_time": "2022-08-23T19:29:20.415069",
     "exception": false,
     "start_time": "2022-08-23T19:29:20.394803",
     "status": "completed"
    },
    "tags": []
   },
   "outputs": [
    {
     "data": {
      "application/javascript": [
       "parent.postMessage({\"jupyterEvent\": \"custom.exercise_interaction\", \"data\": {\"outcomeType\": 1, \"valueTowardsCompletion\": 0.2, \"interactionType\": 1, \"questionType\": 2, \"questionId\": \"4_PercentageLiked\", \"learnToolsVersion\": \"0.3.4\", \"failureMessage\": \"\", \"exceptionClass\": \"\", \"trace\": \"\"}}, \"*\")"
      ],
      "text/plain": [
       "<IPython.core.display.Javascript object>"
      ]
     },
     "metadata": {},
     "output_type": "display_data"
    },
    {
     "data": {
      "text/markdown": [
       "<span style=\"color:#33cc33\">Correct</span>"
      ],
      "text/plain": [
       "Correct"
      ]
     },
     "metadata": {},
     "output_type": "display_data"
    }
   ],
   "source": [
    "\n",
    "def percentage_liked(ratings):\n",
    "    list_liked = [i>=4 for i in ratings]\n",
    "    # TODO: Complete the function\n",
    "    percentage_liked = sum(list_liked)/len(list_liked)\n",
    "    return percentage_liked\n",
    "\n",
    "# Do not change: should return 0.5\n",
    "percentage_liked([1, 2, 3, 4, 5, 4, 5, 1])\n",
    "\n",
    "# Do not change: Check your answer\n",
    "q4.check()"
   ]
  },
  {
   "cell_type": "code",
   "execution_count": 13,
   "id": "39804848",
   "metadata": {
    "execution": {
     "iopub.execute_input": "2022-08-23T19:29:20.431485Z",
     "iopub.status.busy": "2022-08-23T19:29:20.430441Z",
     "iopub.status.idle": "2022-08-23T19:29:20.434935Z",
     "shell.execute_reply": "2022-08-23T19:29:20.433932Z"
    },
    "papermill": {
     "duration": 0.015022,
     "end_time": "2022-08-23T19:29:20.436873",
     "exception": false,
     "start_time": "2022-08-23T19:29:20.421851",
     "status": "completed"
    },
    "tags": []
   },
   "outputs": [],
   "source": [
    "# Uncomment to see a hint\n",
    "#q4.hint()\n",
    "\n",
    "# Uncomment to see the solution\n",
    "#q4.solution()"
   ]
  },
  {
   "cell_type": "markdown",
   "id": "7b5d9366",
   "metadata": {
    "papermill": {
     "duration": 0.007127,
     "end_time": "2022-08-23T19:29:20.451363",
     "exception": false,
     "start_time": "2022-08-23T19:29:20.444236",
     "status": "completed"
    },
    "tags": []
   },
   "source": [
    "# 🌶️ Question 5\n",
    " \n",
    "Say you're doing analytics for a website.  You need to write a function that returns the percentage growth in the total number of users relative to a specified number of years ago.\n",
    "\n",
    "Your function `percentage_growth()` should take two arguments as input:\n",
    "- `num_users` = Python list with the total number of users each year.  So `num_users[0]` is the total number of users in the first year, `num_users[1]` is the total number of users in the second year, and so on.  The final entry in the list gives the total number of users in the most recently completed year.\n",
    "- `yrs_ago` = number of years to go back in time when calculating the growth percentage\n",
    "\n",
    "For instance, say `num_users = [920344, 1043553, 1204334, 1458996, 1503323, 1593432, 1623463, 1843064, 1930992, 2001078]`.\n",
    "- if `yrs_ago = 1`, we want the function to return a value of about `0.036`. This corresponds to a percentage growth of approximately 3.6%, calculated as (2001078 - 1930992)/1930992.\n",
    "- if `years_ago = 7`, we would want to return approximately `0.66`.  This corresponds to a percentage growth of approximately 66%, calculated as (2001078 - 1204334)/1204334.\n",
    "\n",
    "Your coworker sent you a draft of a function, but it doesn't seem to be doing the correct calculation.  Can you figure out what has gone wrong and make the needed changes?"
   ]
  },
  {
   "cell_type": "code",
   "execution_count": 14,
   "id": "931b3538",
   "metadata": {
    "execution": {
     "iopub.execute_input": "2022-08-23T19:29:20.474633Z",
     "iopub.status.busy": "2022-08-23T19:29:20.474245Z",
     "iopub.status.idle": "2022-08-23T19:29:20.490066Z",
     "shell.execute_reply": "2022-08-23T19:29:20.488201Z"
    },
    "papermill": {
     "duration": 0.029286,
     "end_time": "2022-08-23T19:29:20.492637",
     "exception": false,
     "start_time": "2022-08-23T19:29:20.463351",
     "status": "completed"
    },
    "tags": []
   },
   "outputs": [
    {
     "name": "stdout",
     "output_type": "stream",
     "text": [
      "0.03629533421163837\n",
      "0.6615639847417742\n"
     ]
    },
    {
     "data": {
      "application/javascript": [
       "parent.postMessage({\"jupyterEvent\": \"custom.exercise_interaction\", \"data\": {\"outcomeType\": 1, \"valueTowardsCompletion\": 0.2, \"interactionType\": 1, \"questionType\": 2, \"questionId\": \"5_WebsiteAnalytics\", \"learnToolsVersion\": \"0.3.4\", \"failureMessage\": \"\", \"exceptionClass\": \"\", \"trace\": \"\"}}, \"*\")"
      ],
      "text/plain": [
       "<IPython.core.display.Javascript object>"
      ]
     },
     "metadata": {},
     "output_type": "display_data"
    },
    {
     "data": {
      "text/markdown": [
       "<span style=\"color:#33cc33\">Correct</span>"
      ],
      "text/plain": [
       "Correct"
      ]
     },
     "metadata": {},
     "output_type": "display_data"
    }
   ],
   "source": [
    "# TODO: Edit the function\n",
    "def percentage_growth(num_users, yrs_ago):\n",
    "    first_year = num_users[len(num_users)-yrs_ago-1]\n",
    "    second_year = num_users[len(num_users)-1]\n",
    "    growth = (second_year - first_year)/first_year\n",
    "    return growth\n",
    "\n",
    "# Do not change: Variable for calculating some test examples\n",
    "num_users_test = [920344, 1043553, 1204334, 1458996, 1503323, 1593432, 1623463, 1843064, 1930992, 2001078]\n",
    "\n",
    "# Do not change: Should return .036\n",
    "print(percentage_growth(num_users_test, 1))\n",
    "\n",
    "# Do not change: Should return 0.66\n",
    "print(percentage_growth(num_users_test, 7))\n",
    "\n",
    "# Do not change: Check your answer\n",
    "q5.check()"
   ]
  },
  {
   "cell_type": "code",
   "execution_count": 15,
   "id": "d1b9b883",
   "metadata": {
    "execution": {
     "iopub.execute_input": "2022-08-23T19:29:20.511382Z",
     "iopub.status.busy": "2022-08-23T19:29:20.510681Z",
     "iopub.status.idle": "2022-08-23T19:29:20.514830Z",
     "shell.execute_reply": "2022-08-23T19:29:20.513908Z"
    },
    "papermill": {
     "duration": 0.016516,
     "end_time": "2022-08-23T19:29:20.517165",
     "exception": false,
     "start_time": "2022-08-23T19:29:20.500649",
     "status": "completed"
    },
    "tags": []
   },
   "outputs": [],
   "source": [
    "# Uncomment to see a hint\n",
    "#q5.hint()\n",
    "\n",
    "# Uncomment to see the solution\n",
    "#q5.solution()"
   ]
  },
  {
   "cell_type": "markdown",
   "id": "4eb93549",
   "metadata": {
    "papermill": {
     "duration": 0.007395,
     "end_time": "2022-08-23T19:29:20.531730",
     "exception": false,
     "start_time": "2022-08-23T19:29:20.524335",
     "status": "completed"
    },
    "tags": []
   },
   "source": [
    "# Congratulations!\n",
    "\n",
    "Congratulations for finishing the Intro to Programming course!  You should be proud of your very first steps with learning programming.  As next steps, we recommend taking:\n",
    "- the **[Python course](http://www.kaggle.com/learn/python)**, and \n",
    "- the **[Intro to Machine Learning course](https://www.kaggle.com/learn/intro-to-machine-learning)**."
   ]
  },
  {
   "cell_type": "markdown",
   "id": "dc4ecd87",
   "metadata": {
    "papermill": {
     "duration": 0.008172,
     "end_time": "2022-08-23T19:29:20.547464",
     "exception": false,
     "start_time": "2022-08-23T19:29:20.539292",
     "status": "completed"
    },
    "tags": []
   },
   "source": [
    "---\n",
    "\n",
    "\n",
    "\n",
    "\n",
    "*Have questions or comments? Visit the [course discussion forum](https://www.kaggle.com/learn/intro-to-programming/discussion) to chat with other learners.*"
   ]
  }
 ],
 "metadata": {
  "kernelspec": {
   "display_name": "Python 3",
   "language": "python",
   "name": "python3"
  },
  "language_info": {
   "codemirror_mode": {
    "name": "ipython",
    "version": 3
   },
   "file_extension": ".py",
   "mimetype": "text/x-python",
   "name": "python",
   "nbconvert_exporter": "python",
   "pygments_lexer": "ipython3",
   "version": "3.7.12"
  },
  "papermill": {
   "default_parameters": {},
   "duration": 10.616904,
   "end_time": "2022-08-23T19:29:21.276758",
   "environment_variables": {},
   "exception": null,
   "input_path": "__notebook__.ipynb",
   "output_path": "__notebook__.ipynb",
   "parameters": {},
   "start_time": "2022-08-23T19:29:10.659854",
   "version": "2.3.4"
  }
 },
 "nbformat": 4,
 "nbformat_minor": 5
}
