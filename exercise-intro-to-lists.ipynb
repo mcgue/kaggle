{
 "cells": [
  {
   "cell_type": "markdown",
   "id": "49fb6e9c",
   "metadata": {
    "papermill": {
     "duration": 0.008283,
     "end_time": "2022-08-11T03:44:09.553093",
     "exception": false,
     "start_time": "2022-08-11T03:44:09.544810",
     "status": "completed"
    },
    "tags": []
   },
   "source": [
    "**This notebook is an exercise in the [Intro to Programming](https://www.kaggle.com/learn/intro-to-programming) course.  You can reference the tutorial at [this link](https://www.kaggle.com/alexisbcook/intro-to-lists).**\n",
    "\n",
    "---\n"
   ]
  },
  {
   "cell_type": "markdown",
   "id": "0b9d2b59",
   "metadata": {
    "papermill": {
     "duration": 0.005379,
     "end_time": "2022-08-11T03:44:09.564826",
     "exception": false,
     "start_time": "2022-08-11T03:44:09.559447",
     "status": "completed"
    },
    "tags": []
   },
   "source": [
    "In the tutorial, you learned how to define and modify Python lists.  In this exercise, you will use your new knowledge to solve several problems.\n",
    "\n",
    "# Set up the notebook\n",
    "\n",
    "Run the next code cell without changes to set up the notebook."
   ]
  },
  {
   "cell_type": "code",
   "execution_count": 1,
   "id": "f2b52a97",
   "metadata": {
    "execution": {
     "iopub.execute_input": "2022-08-11T03:44:09.578943Z",
     "iopub.status.busy": "2022-08-11T03:44:09.578139Z",
     "iopub.status.idle": "2022-08-11T03:44:09.628284Z",
     "shell.execute_reply": "2022-08-11T03:44:09.627311Z"
    },
    "papermill": {
     "duration": 0.060203,
     "end_time": "2022-08-11T03:44:09.630819",
     "exception": false,
     "start_time": "2022-08-11T03:44:09.570616",
     "status": "completed"
    },
    "tags": []
   },
   "outputs": [
    {
     "name": "stdout",
     "output_type": "stream",
     "text": [
      "Setup complete.\n"
     ]
    }
   ],
   "source": [
    "from learntools.core import binder\n",
    "binder.bind(globals())\n",
    "from learntools.intro_to_programming.ex5 import *\n",
    "print('Setup complete.')"
   ]
  },
  {
   "cell_type": "markdown",
   "id": "5d4253f9",
   "metadata": {
    "papermill": {
     "duration": 0.005614,
     "end_time": "2022-08-11T03:44:09.642377",
     "exception": false,
     "start_time": "2022-08-11T03:44:09.636763",
     "status": "completed"
    },
    "tags": []
   },
   "source": [
    "# Question 1\n",
    "\n",
    "You own a restaurant with five food dishes, organized in the Python list `menu` below.  One day, you decide to:\n",
    "- remove bean soup (`'bean soup'`) from the menu, and\n",
    "- add roasted beet salad (`'roasted beet salad'`) to the menu.\n",
    "\n",
    "Implement this change to the list below.  While completing this task, \n",
    "- do not change the line that creates the `menu` list.  \n",
    "- your answer should use `.remove()` and `.append()`.  "
   ]
  },
  {
   "cell_type": "code",
   "execution_count": 2,
   "id": "bbedfec5",
   "metadata": {
    "execution": {
     "iopub.execute_input": "2022-08-11T03:44:09.656472Z",
     "iopub.status.busy": "2022-08-11T03:44:09.655749Z",
     "iopub.status.idle": "2022-08-11T03:44:09.667802Z",
     "shell.execute_reply": "2022-08-11T03:44:09.666700Z"
    },
    "papermill": {
     "duration": 0.021679,
     "end_time": "2022-08-11T03:44:09.670038",
     "exception": false,
     "start_time": "2022-08-11T03:44:09.648359",
     "status": "completed"
    },
    "tags": []
   },
   "outputs": [
    {
     "data": {
      "application/javascript": [
       "parent.postMessage({\"jupyterEvent\": \"custom.exercise_interaction\", \"data\": {\"outcomeType\": 1, \"valueTowardsCompletion\": 0.2, \"interactionType\": 1, \"questionType\": 2, \"questionId\": \"1_FoodMenu\", \"learnToolsVersion\": \"0.3.4\", \"failureMessage\": \"\", \"exceptionClass\": \"\", \"trace\": \"\"}}, \"*\")"
      ],
      "text/plain": [
       "<IPython.core.display.Javascript object>"
      ]
     },
     "metadata": {},
     "output_type": "display_data"
    },
    {
     "data": {
      "text/markdown": [
       "<span style=\"color:#33cc33\">Correct</span>"
      ],
      "text/plain": [
       "Correct"
      ]
     },
     "metadata": {},
     "output_type": "display_data"
    }
   ],
   "source": [
    "# Do not change: Initial menu for your restaurant\n",
    "menu = ['stewed meat with onions', 'bean soup', 'risotto with trout and shrimp',\n",
    "       'fish soup with cream and onion', 'gyro']\n",
    "\n",
    "# TODO: remove 'bean soup', and add 'roasted beet salad' to the end of the menu\n",
    "menu.remove('bean soup')\n",
    "menu.append('roasted beet salad')\n",
    "\n",
    "# Do not change: Check your answer\n",
    "q1.check()"
   ]
  },
  {
   "cell_type": "code",
   "execution_count": 3,
   "id": "4088dd38",
   "metadata": {
    "execution": {
     "iopub.execute_input": "2022-08-11T03:44:09.684777Z",
     "iopub.status.busy": "2022-08-11T03:44:09.683754Z",
     "iopub.status.idle": "2022-08-11T03:44:09.689040Z",
     "shell.execute_reply": "2022-08-11T03:44:09.687753Z"
    },
    "papermill": {
     "duration": 0.015062,
     "end_time": "2022-08-11T03:44:09.691343",
     "exception": false,
     "start_time": "2022-08-11T03:44:09.676281",
     "status": "completed"
    },
    "tags": []
   },
   "outputs": [],
   "source": [
    "# Uncomment to see a hint\n",
    "#q1.hint()\n",
    "\n",
    "# Uncomment to see the solution\n",
    "#q1.solution()"
   ]
  },
  {
   "cell_type": "markdown",
   "id": "85b0e211",
   "metadata": {
    "papermill": {
     "duration": 0.005839,
     "end_time": "2022-08-11T03:44:09.703619",
     "exception": false,
     "start_time": "2022-08-11T03:44:09.697780",
     "status": "completed"
    },
    "tags": []
   },
   "source": [
    "# Question 2\n",
    "\n",
    "The list `num_customers` contains the number of customers who came into your restaurant every day over the last month (which lasted thirty days).  Fill in values for each of the following:\n",
    "- `avg_first_seven` - average number of customers who visited in the first seven days\n",
    "- `avg_last_seven` - average number of customers who visited in the last seven days\n",
    "- `max_month` - number of customers on the day that got the most customers in the last month\n",
    "- `min_month` - number of customers on the day that got the least customers in the last month\n",
    "\n",
    "Answer this question by writing code.  For instance, if you have to find the minimum value in a list, use `min()` instead of scanning for the smallest value and directly filling in a number."
   ]
  },
  {
   "cell_type": "code",
   "execution_count": 4,
   "id": "9035f228",
   "metadata": {
    "execution": {
     "iopub.execute_input": "2022-08-11T03:44:09.718179Z",
     "iopub.status.busy": "2022-08-11T03:44:09.717356Z",
     "iopub.status.idle": "2022-08-11T03:44:09.728552Z",
     "shell.execute_reply": "2022-08-11T03:44:09.727396Z"
    },
    "papermill": {
     "duration": 0.021213,
     "end_time": "2022-08-11T03:44:09.730931",
     "exception": false,
     "start_time": "2022-08-11T03:44:09.709718",
     "status": "completed"
    },
    "tags": []
   },
   "outputs": [
    {
     "data": {
      "application/javascript": [
       "parent.postMessage({\"jupyterEvent\": \"custom.exercise_interaction\", \"data\": {\"outcomeType\": 4, \"interactionType\": 1, \"questionType\": 1, \"questionId\": \"2_NumCustomers\", \"learnToolsVersion\": \"0.3.4\", \"valueTowardsCompletion\": 0.0, \"failureMessage\": \"\", \"exceptionClass\": \"\", \"trace\": \"\"}}, \"*\")"
      ],
      "text/plain": [
       "<IPython.core.display.Javascript object>"
      ]
     },
     "metadata": {},
     "output_type": "display_data"
    },
    {
     "data": {
      "text/markdown": [
       "<span style=\"color:#ccaa33\">Check:</span> When you've updated the starter code, `check()` will tell you whether your code is correct. You need to update the code that creates variables `avg_first_seven`, `avg_last_seven`, `max_month`, `min_month`"
      ],
      "text/plain": [
       "Check: When you've updated the starter code, `check()` will tell you whether your code is correct. You need to update the code that creates variables `avg_first_seven`, `avg_last_seven`, `max_month`, `min_month`"
      ]
     },
     "metadata": {},
     "output_type": "display_data"
    }
   ],
   "source": [
    "# Do not change: Number of customers each day for the last month\n",
    "num_customers = [137, 147, 135, 128, 170, 174, 165, 146, 126, 159,\n",
    "                 141, 148, 132, 147, 168, 153, 170, 161, 148, 152,\n",
    "                 141, 151, 131, 149, 164, 163, 143, 143, 166, 171]\n",
    "\n",
    "# TODO: Fill in values for the variables below\n",
    "avg_first_seven = ____ \n",
    "avg_last_seven = ____ \n",
    "max_month = ____\n",
    "min_month = ____\n",
    "\n",
    "# Do not change: Check your answer\n",
    "q2.check()"
   ]
  },
  {
   "cell_type": "code",
   "execution_count": 5,
   "id": "02b95032",
   "metadata": {
    "execution": {
     "iopub.execute_input": "2022-08-11T03:44:09.745861Z",
     "iopub.status.busy": "2022-08-11T03:44:09.745065Z",
     "iopub.status.idle": "2022-08-11T03:44:09.750007Z",
     "shell.execute_reply": "2022-08-11T03:44:09.749052Z"
    },
    "papermill": {
     "duration": 0.015484,
     "end_time": "2022-08-11T03:44:09.752813",
     "exception": false,
     "start_time": "2022-08-11T03:44:09.737329",
     "status": "completed"
    },
    "tags": []
   },
   "outputs": [],
   "source": [
    "# Uncomment to see a hint\n",
    "#q2.hint()\n",
    "\n",
    "# Uncomment to see the solution\n",
    "#q2.solution()"
   ]
  },
  {
   "cell_type": "markdown",
   "id": "326ab730",
   "metadata": {
    "papermill": {
     "duration": 0.006099,
     "end_time": "2022-08-11T03:44:09.765585",
     "exception": false,
     "start_time": "2022-08-11T03:44:09.759486",
     "status": "completed"
    },
    "tags": []
   },
   "source": [
    "# Question 3\n",
    "\n",
    "In the tutorial, we gave an example of a Python string with information that was better as a list."
   ]
  },
  {
   "cell_type": "code",
   "execution_count": 6,
   "id": "3bb5964f",
   "metadata": {
    "execution": {
     "iopub.execute_input": "2022-08-11T03:44:09.780628Z",
     "iopub.status.busy": "2022-08-11T03:44:09.779839Z",
     "iopub.status.idle": "2022-08-11T03:44:09.785023Z",
     "shell.execute_reply": "2022-08-11T03:44:09.784164Z"
    },
    "papermill": {
     "duration": 0.015456,
     "end_time": "2022-08-11T03:44:09.787415",
     "exception": false,
     "start_time": "2022-08-11T03:44:09.771959",
     "status": "completed"
    },
    "tags": []
   },
   "outputs": [],
   "source": [
    "flowers = \"pink primrose,hard-leaved pocket orchid,canterbury bells,sweet pea,english marigold,tiger lily,moon orchid,bird of paradise,monkshood,globe thistle\""
   ]
  },
  {
   "cell_type": "markdown",
   "id": "d0770836",
   "metadata": {
    "papermill": {
     "duration": 0.006138,
     "end_time": "2022-08-11T03:44:09.800038",
     "exception": false,
     "start_time": "2022-08-11T03:44:09.793900",
     "status": "completed"
    },
    "tags": []
   },
   "source": [
    "You can actually use Python to quickly turn this string into a list with `.split()`.  In the parentheses, we need to provide the character should be used to mark the end of one list item and the beginning of another, and enclose it in quotation marks.  In this case, that character is a comma."
   ]
  },
  {
   "cell_type": "code",
   "execution_count": 7,
   "id": "df5e2c0d",
   "metadata": {
    "execution": {
     "iopub.execute_input": "2022-08-11T03:44:09.816177Z",
     "iopub.status.busy": "2022-08-11T03:44:09.815229Z",
     "iopub.status.idle": "2022-08-11T03:44:09.822171Z",
     "shell.execute_reply": "2022-08-11T03:44:09.820819Z"
    },
    "papermill": {
     "duration": 0.017792,
     "end_time": "2022-08-11T03:44:09.824285",
     "exception": false,
     "start_time": "2022-08-11T03:44:09.806493",
     "status": "completed"
    },
    "tags": []
   },
   "outputs": [
    {
     "name": "stdout",
     "output_type": "stream",
     "text": [
      "['pink primrose', 'hard-leaved pocket orchid', 'canterbury bells', 'sweet pea', 'english marigold', 'tiger lily', 'moon orchid', 'bird of paradise', 'monkshood', 'globe thistle']\n"
     ]
    }
   ],
   "source": [
    " print(flowers.split(\",\"))"
   ]
  },
  {
   "cell_type": "markdown",
   "id": "a78dfef2",
   "metadata": {
    "papermill": {
     "duration": 0.006242,
     "end_time": "2022-08-11T03:44:09.837103",
     "exception": false,
     "start_time": "2022-08-11T03:44:09.830861",
     "status": "completed"
    },
    "tags": []
   },
   "source": [
    "Now it is your turn to try this out!  Create two Python lists:\n",
    "- `letters` should be a Python list where each entry is an uppercase letter of the English alphabet.  For instance, the first two entries should be `\"A\"` and `\"B\"`, and the final two entries should be `\"Y\"` and `\"Z\"`.  Use the string `alphabet` to create this list.\n",
    "- `address` should be a Python list where each row in `address` is a different item in the list.  Currently, each row in `address` is separated by a comma. "
   ]
  },
  {
   "cell_type": "code",
   "execution_count": 8,
   "id": "180b1535",
   "metadata": {
    "execution": {
     "iopub.execute_input": "2022-08-11T03:44:09.852398Z",
     "iopub.status.busy": "2022-08-11T03:44:09.851414Z",
     "iopub.status.idle": "2022-08-11T03:44:09.862297Z",
     "shell.execute_reply": "2022-08-11T03:44:09.861162Z"
    },
    "papermill": {
     "duration": 0.020956,
     "end_time": "2022-08-11T03:44:09.864504",
     "exception": false,
     "start_time": "2022-08-11T03:44:09.843548",
     "status": "completed"
    },
    "tags": []
   },
   "outputs": [
    {
     "data": {
      "application/javascript": [
       "parent.postMessage({\"jupyterEvent\": \"custom.exercise_interaction\", \"data\": {\"outcomeType\": 4, \"interactionType\": 1, \"questionType\": 1, \"questionId\": \"3_SplitString\", \"learnToolsVersion\": \"0.3.4\", \"valueTowardsCompletion\": 0.0, \"failureMessage\": \"\", \"exceptionClass\": \"\", \"trace\": \"\"}}, \"*\")"
      ],
      "text/plain": [
       "<IPython.core.display.Javascript object>"
      ]
     },
     "metadata": {},
     "output_type": "display_data"
    },
    {
     "data": {
      "text/markdown": [
       "<span style=\"color:#ccaa33\">Check:</span> When you've updated the starter code, `check()` will tell you whether your code is correct. You need to update the code that creates variables `letters`, `formatted_address`"
      ],
      "text/plain": [
       "Check: When you've updated the starter code, `check()` will tell you whether your code is correct. You need to update the code that creates variables `letters`, `formatted_address`"
      ]
     },
     "metadata": {},
     "output_type": "display_data"
    }
   ],
   "source": [
    "# DO not change: Define two Python strings\n",
    "alphabet = \"A.B.C.D.E.F.G.H.I.J.K.L.M.N.O.P.Q.R.S.T.U.V.W.X.Y.Z\"\n",
    "address = \"Mr. H. Potter,The cupboard under the Stairs,4 Privet Drive,Little Whinging,Surrey\"\n",
    "\n",
    "# TODO: Convert strings into Python lists\n",
    "letters = ____\n",
    "formatted_address = ____\n",
    "\n",
    "# Do not change: Check your answer\n",
    "q3.check()"
   ]
  },
  {
   "cell_type": "code",
   "execution_count": 9,
   "id": "14f4091e",
   "metadata": {
    "execution": {
     "iopub.execute_input": "2022-08-11T03:44:09.880387Z",
     "iopub.status.busy": "2022-08-11T03:44:09.879673Z",
     "iopub.status.idle": "2022-08-11T03:44:09.884969Z",
     "shell.execute_reply": "2022-08-11T03:44:09.883830Z"
    },
    "papermill": {
     "duration": 0.015881,
     "end_time": "2022-08-11T03:44:09.887326",
     "exception": false,
     "start_time": "2022-08-11T03:44:09.871445",
     "status": "completed"
    },
    "tags": []
   },
   "outputs": [],
   "source": [
    "# Uncomment to see a hint\n",
    "#q3.hint()\n",
    "\n",
    "# Uncomment to see the solution\n",
    "#q3.solution()"
   ]
  },
  {
   "cell_type": "markdown",
   "id": "9836d727",
   "metadata": {
    "papermill": {
     "duration": 0.007365,
     "end_time": "2022-08-11T03:44:09.901648",
     "exception": false,
     "start_time": "2022-08-11T03:44:09.894283",
     "status": "completed"
    },
    "tags": []
   },
   "source": [
    "# Question 4\n",
    "\n",
    "In the Python course, you'll learn all about **list comprehensions**, which allow you to create a list based on the values in another list.  In this question, you'll get a brief preview of how they work.\n",
    "\n",
    "Say we're working with the list below."
   ]
  },
  {
   "cell_type": "code",
   "execution_count": 10,
   "id": "ed4fe386",
   "metadata": {
    "execution": {
     "iopub.execute_input": "2022-08-11T03:44:09.917616Z",
     "iopub.status.busy": "2022-08-11T03:44:09.917210Z",
     "iopub.status.idle": "2022-08-11T03:44:09.922158Z",
     "shell.execute_reply": "2022-08-11T03:44:09.921059Z"
    },
    "papermill": {
     "duration": 0.015502,
     "end_time": "2022-08-11T03:44:09.924304",
     "exception": false,
     "start_time": "2022-08-11T03:44:09.908802",
     "status": "completed"
    },
    "tags": []
   },
   "outputs": [],
   "source": [
    "test_ratings = [1, 2, 3, 4, 5]"
   ]
  },
  {
   "cell_type": "markdown",
   "id": "088aa9cc",
   "metadata": {
    "papermill": {
     "duration": 0.006888,
     "end_time": "2022-08-11T03:44:09.938247",
     "exception": false,
     "start_time": "2022-08-11T03:44:09.931359",
     "status": "completed"
    },
    "tags": []
   },
   "source": [
    "Then we can use this list (`test_ratings`) to create a new list (`test_liked`) where each item has been turned into a boolean, depending on whether or not the item is greater than or equal to four."
   ]
  },
  {
   "cell_type": "code",
   "execution_count": 11,
   "id": "75f97cfe",
   "metadata": {
    "execution": {
     "iopub.execute_input": "2022-08-11T03:44:09.953874Z",
     "iopub.status.busy": "2022-08-11T03:44:09.953442Z",
     "iopub.status.idle": "2022-08-11T03:44:09.958702Z",
     "shell.execute_reply": "2022-08-11T03:44:09.957844Z"
    },
    "papermill": {
     "duration": 0.01569,
     "end_time": "2022-08-11T03:44:09.960860",
     "exception": false,
     "start_time": "2022-08-11T03:44:09.945170",
     "status": "completed"
    },
    "tags": []
   },
   "outputs": [
    {
     "name": "stdout",
     "output_type": "stream",
     "text": [
      "[False, False, False, True, True]\n"
     ]
    }
   ],
   "source": [
    "test_liked = [i>=4 for i in test_ratings]\n",
    "print(test_liked)"
   ]
  },
  {
   "cell_type": "markdown",
   "id": "d344a025",
   "metadata": {
    "papermill": {
     "duration": 0.00684,
     "end_time": "2022-08-11T03:44:09.974768",
     "exception": false,
     "start_time": "2022-08-11T03:44:09.967928",
     "status": "completed"
    },
    "tags": []
   },
   "source": [
    "In this question, you'll use this list comprehension to define a function `percentage_liked()` that takes one argument as input:\n",
    "- `ratings`: list of ratings that people gave to a movie, where each rating is a number between 1-5, inclusive\n",
    "\n",
    "We say someone liked the movie, if they gave a rating of either 4 or 5.  Your function should return the percentage of people who liked the movie.\n",
    "\n",
    "For instance, if we supply a value of `[1, 2, 3, 4, 5, 4, 5, 1]`, then 50% (4/8) of the people liked the movie, and the function should return `0.5`.\n",
    "\n",
    "Part of the function has already been completed for you.  You need only use `list_liked` to calculate `percentage_liked`."
   ]
  },
  {
   "cell_type": "code",
   "execution_count": 12,
   "id": "146b53d8",
   "metadata": {
    "execution": {
     "iopub.execute_input": "2022-08-11T03:44:09.990951Z",
     "iopub.status.busy": "2022-08-11T03:44:09.990551Z",
     "iopub.status.idle": "2022-08-11T03:44:09.999914Z",
     "shell.execute_reply": "2022-08-11T03:44:09.999142Z"
    },
    "papermill": {
     "duration": 0.02015,
     "end_time": "2022-08-11T03:44:10.002048",
     "exception": false,
     "start_time": "2022-08-11T03:44:09.981898",
     "status": "completed"
    },
    "tags": []
   },
   "outputs": [
    {
     "data": {
      "application/javascript": [
       "parent.postMessage({\"jupyterEvent\": \"custom.exercise_interaction\", \"data\": {\"outcomeType\": 2, \"failureMessage\": \"Expected return value of `0.5` given `ratings=[1, 2, 3, 4, 5, 4, 5, 1]`, but got `<learntools.core.constants.PlaceholderValue object at 0x7f4b575a45d0>` instead.\", \"interactionType\": 1, \"questionType\": 2, \"questionId\": \"4_PercentageLiked\", \"learnToolsVersion\": \"0.3.4\", \"valueTowardsCompletion\": 0.0, \"exceptionClass\": \"\", \"trace\": \"\"}}, \"*\")"
      ],
      "text/plain": [
       "<IPython.core.display.Javascript object>"
      ]
     },
     "metadata": {},
     "output_type": "display_data"
    },
    {
     "data": {
      "text/markdown": [
       "<span style=\"color:#cc3333\">Incorrect:</span> Expected return value of `0.5` given `ratings=[1, 2, 3, 4, 5, 4, 5, 1]`, but got `<learntools.core.constants.PlaceholderValue object at 0x7f4b575a45d0>` instead."
      ],
      "text/plain": [
       "Incorrect: Expected return value of `0.5` given `ratings=[1, 2, 3, 4, 5, 4, 5, 1]`, but got `<learntools.core.constants.PlaceholderValue object at 0x7f4b575a45d0>` instead."
      ]
     },
     "metadata": {},
     "output_type": "display_data"
    }
   ],
   "source": [
    "\n",
    "def percentage_liked(ratings):\n",
    "    list_liked = [i>=4 for i in ratings]\n",
    "    # TODO: Complete the function\n",
    "    percentage_liked = ____\n",
    "    return percentage_liked\n",
    "\n",
    "# Do not change: should return 0.5\n",
    "percentage_liked([1, 2, 3, 4, 5, 4, 5, 1])\n",
    "\n",
    "# Do not change: Check your answer\n",
    "q4.check()"
   ]
  },
  {
   "cell_type": "code",
   "execution_count": 13,
   "id": "76b1a9c2",
   "metadata": {
    "execution": {
     "iopub.execute_input": "2022-08-11T03:44:10.018686Z",
     "iopub.status.busy": "2022-08-11T03:44:10.018273Z",
     "iopub.status.idle": "2022-08-11T03:44:10.023624Z",
     "shell.execute_reply": "2022-08-11T03:44:10.022300Z"
    },
    "papermill": {
     "duration": 0.016412,
     "end_time": "2022-08-11T03:44:10.025962",
     "exception": false,
     "start_time": "2022-08-11T03:44:10.009550",
     "status": "completed"
    },
    "tags": []
   },
   "outputs": [],
   "source": [
    "# Uncomment to see a hint\n",
    "#q4.hint()\n",
    "\n",
    "# Uncomment to see the solution\n",
    "#q4.solution()"
   ]
  },
  {
   "cell_type": "markdown",
   "id": "6b5bb56c",
   "metadata": {
    "papermill": {
     "duration": 0.007089,
     "end_time": "2022-08-11T03:44:10.040509",
     "exception": false,
     "start_time": "2022-08-11T03:44:10.033420",
     "status": "completed"
    },
    "tags": []
   },
   "source": [
    "# 🌶️ Question 5\n",
    " \n",
    "Say you're doing analytics for a website.  You need to write a function that returns the percentage growth in the total number of users relative to a specified number of years ago.\n",
    "\n",
    "Your function `percentage_growth()` should take two arguments as input:\n",
    "- `num_users` = Python list with the total number of users each year.  So `num_users[0]` is the total number of users in the first year, `num_users[1]` is the total number of users in the second year, and so on.  The final entry in the list gives the total number of users in the most recently completed year.\n",
    "- `yrs_ago` = number of years to go back in time when calculating the growth percentage\n",
    "\n",
    "For instance, say `num_users = [920344, 1043553, 1204334, 1458996, 1503323, 1593432, 1623463, 1843064, 1930992, 2001078]`.\n",
    "- if `yrs_ago = 1`, we want the function to return a value of about `0.036`. This corresponds to a percentage growth of approximately 3.6%, calculated as (2001078 - 1930992)/1930992.\n",
    "- if `years_ago = 7`, we would want to return approximately `0.66`.  This corresponds to a percentage growth of approximately 66%, calculated as (2001078 - 1204334)/1204334.\n",
    "\n",
    "Your coworker sent you a draft of a function, but it doesn't seem to be doing the correct calculation.  Can you figure out what has gone wrong and make the needed changes?"
   ]
  },
  {
   "cell_type": "code",
   "execution_count": 14,
   "id": "1017082e",
   "metadata": {
    "execution": {
     "iopub.execute_input": "2022-08-11T03:44:10.058146Z",
     "iopub.status.busy": "2022-08-11T03:44:10.057526Z",
     "iopub.status.idle": "2022-08-11T03:44:10.072921Z",
     "shell.execute_reply": "2022-08-11T03:44:10.071420Z"
    },
    "papermill": {
     "duration": 0.027525,
     "end_time": "2022-08-11T03:44:10.075446",
     "exception": false,
     "start_time": "2022-08-11T03:44:10.047921",
     "status": "completed"
    },
    "tags": []
   },
   "outputs": [
    {
     "name": "stdout",
     "output_type": "stream",
     "text": [
      "0.0\n",
      "0.2807272117129434\n"
     ]
    },
    {
     "data": {
      "application/javascript": [
       "parent.postMessage({\"jupyterEvent\": \"custom.exercise_interaction\", \"data\": {\"outcomeType\": 2, \"failureMessage\": \"Expected return value of `0.03629533421163837` given `num_users=[920344, 1043553, 1204334, 1458996, 1503323, 1593432, 1623463, 1843064, 1930992, 2001078]`, `yrs_ago=1`, but got `0.0` instead.\", \"interactionType\": 1, \"questionType\": 2, \"questionId\": \"5_WebsiteAnalytics\", \"learnToolsVersion\": \"0.3.4\", \"valueTowardsCompletion\": 0.0, \"exceptionClass\": \"\", \"trace\": \"\"}}, \"*\")"
      ],
      "text/plain": [
       "<IPython.core.display.Javascript object>"
      ]
     },
     "metadata": {},
     "output_type": "display_data"
    },
    {
     "data": {
      "text/markdown": [
       "<span style=\"color:#cc3333\">Incorrect:</span> Expected return value of `0.03629533421163837` given `num_users=[920344, 1043553, 1204334, 1458996, 1503323, 1593432, 1623463, 1843064, 1930992, 2001078]`, `yrs_ago=1`, but got `0.0` instead."
      ],
      "text/plain": [
       "Incorrect: Expected return value of `0.03629533421163837` given `num_users=[920344, 1043553, 1204334, 1458996, 1503323, 1593432, 1623463, 1843064, 1930992, 2001078]`, `yrs_ago=1`, but got `0.0` instead."
      ]
     },
     "metadata": {},
     "output_type": "display_data"
    }
   ],
   "source": [
    "# TODO: Edit the function\n",
    "def percentage_growth(num_users, yrs_ago):\n",
    "    growth = (num_users[len(num_users)-1] - num_users[len(num_users)-yrs_ago])/num_users[len(num_users)-2]\n",
    "    return growth\n",
    "\n",
    "# Do not change: Variable for calculating some test examples\n",
    "num_users_test = [920344, 1043553, 1204334, 1458996, 1503323, 1593432, 1623463, 1843064, 1930992, 2001078]\n",
    "\n",
    "# Do not change: Should return .036\n",
    "print(percentage_growth(num_users_test, 1))\n",
    "\n",
    "# Do not change: Should return 0.66\n",
    "print(percentage_growth(num_users_test, 7))\n",
    "\n",
    "# Do not change: Check your answer\n",
    "q5.check()"
   ]
  },
  {
   "cell_type": "code",
   "execution_count": 15,
   "id": "8e7fe9d1",
   "metadata": {
    "execution": {
     "iopub.execute_input": "2022-08-11T03:44:10.095558Z",
     "iopub.status.busy": "2022-08-11T03:44:10.094680Z",
     "iopub.status.idle": "2022-08-11T03:44:10.101536Z",
     "shell.execute_reply": "2022-08-11T03:44:10.100163Z"
    },
    "papermill": {
     "duration": 0.019351,
     "end_time": "2022-08-11T03:44:10.104095",
     "exception": false,
     "start_time": "2022-08-11T03:44:10.084744",
     "status": "completed"
    },
    "tags": []
   },
   "outputs": [],
   "source": [
    "# Uncomment to see a hint\n",
    "#q5.hint()\n",
    "\n",
    "# Uncomment to see the solution\n",
    "#q5.solution()"
   ]
  },
  {
   "cell_type": "markdown",
   "id": "1ecc805b",
   "metadata": {
    "papermill": {
     "duration": 0.008287,
     "end_time": "2022-08-11T03:44:10.121197",
     "exception": false,
     "start_time": "2022-08-11T03:44:10.112910",
     "status": "completed"
    },
    "tags": []
   },
   "source": [
    "# Congratulations!\n",
    "\n",
    "Congratulations for finishing the Intro to Programming course!  You should be proud of your very first steps with learning programming.  As next steps, we recommend taking:\n",
    "- the **[Python course](http://www.kaggle.com/learn/python)**, and \n",
    "- the **[Intro to Machine Learning course](https://www.kaggle.com/learn/intro-to-machine-learning)**."
   ]
  },
  {
   "cell_type": "markdown",
   "id": "fd22d315",
   "metadata": {
    "papermill": {
     "duration": 0.010108,
     "end_time": "2022-08-11T03:44:10.142528",
     "exception": false,
     "start_time": "2022-08-11T03:44:10.132420",
     "status": "completed"
    },
    "tags": []
   },
   "source": [
    "---\n",
    "\n",
    "\n",
    "\n",
    "\n",
    "*Have questions or comments? Visit the [course discussion forum](https://www.kaggle.com/learn/intro-to-programming/discussion) to chat with other learners.*"
   ]
  }
 ],
 "metadata": {
  "kernelspec": {
   "display_name": "Python 3",
   "language": "python",
   "name": "python3"
  },
  "language_info": {
   "codemirror_mode": {
    "name": "ipython",
    "version": 3
   },
   "file_extension": ".py",
   "mimetype": "text/x-python",
   "name": "python",
   "nbconvert_exporter": "python",
   "pygments_lexer": "ipython3",
   "version": "3.7.12"
  },
  "papermill": {
   "default_parameters": {},
   "duration": 10.478697,
   "end_time": "2022-08-11T03:44:10.775607",
   "environment_variables": {},
   "exception": null,
   "input_path": "__notebook__.ipynb",
   "output_path": "__notebook__.ipynb",
   "parameters": {},
   "start_time": "2022-08-11T03:44:00.296910",
   "version": "2.3.4"
  }
 },
 "nbformat": 4,
 "nbformat_minor": 5
}
