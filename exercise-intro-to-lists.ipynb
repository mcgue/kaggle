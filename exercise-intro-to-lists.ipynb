{
 "cells": [
  {
   "cell_type": "markdown",
   "id": "7173b508",
   "metadata": {
    "papermill": {
     "duration": 0.007224,
     "end_time": "2022-08-17T23:17:22.938808",
     "exception": false,
     "start_time": "2022-08-17T23:17:22.931584",
     "status": "completed"
    },
    "tags": []
   },
   "source": [
    "**This notebook is an exercise in the [Intro to Programming](https://www.kaggle.com/learn/intro-to-programming) course.  You can reference the tutorial at [this link](https://www.kaggle.com/alexisbcook/intro-to-lists).**\n",
    "\n",
    "---\n"
   ]
  },
  {
   "cell_type": "markdown",
   "id": "e2cc3ee9",
   "metadata": {
    "papermill": {
     "duration": 0.005685,
     "end_time": "2022-08-17T23:17:22.950676",
     "exception": false,
     "start_time": "2022-08-17T23:17:22.944991",
     "status": "completed"
    },
    "tags": []
   },
   "source": [
    "In the tutorial, you learned how to define and modify Python lists.  In this exercise, you will use your new knowledge to solve several problems.\n",
    "\n",
    "# Set up the notebook\n",
    "\n",
    "Run the next code cell without changes to set up the notebook."
   ]
  },
  {
   "cell_type": "code",
   "execution_count": 1,
   "id": "0dfc5a98",
   "metadata": {
    "execution": {
     "iopub.execute_input": "2022-08-17T23:17:22.964927Z",
     "iopub.status.busy": "2022-08-17T23:17:22.964447Z",
     "iopub.status.idle": "2022-08-17T23:17:23.031484Z",
     "shell.execute_reply": "2022-08-17T23:17:23.030139Z"
    },
    "papermill": {
     "duration": 0.077833,
     "end_time": "2022-08-17T23:17:23.034582",
     "exception": false,
     "start_time": "2022-08-17T23:17:22.956749",
     "status": "completed"
    },
    "tags": []
   },
   "outputs": [
    {
     "name": "stdout",
     "output_type": "stream",
     "text": [
      "Setup complete.\n"
     ]
    }
   ],
   "source": [
    "from learntools.core import binder\n",
    "binder.bind(globals())\n",
    "from learntools.intro_to_programming.ex5 import *\n",
    "print('Setup complete.')"
   ]
  },
  {
   "cell_type": "markdown",
   "id": "45fae82e",
   "metadata": {
    "papermill": {
     "duration": 0.006173,
     "end_time": "2022-08-17T23:17:23.047907",
     "exception": false,
     "start_time": "2022-08-17T23:17:23.041734",
     "status": "completed"
    },
    "tags": []
   },
   "source": [
    "# Question 1\n",
    "\n",
    "You own a restaurant with five food dishes, organized in the Python list `menu` below.  One day, you decide to:\n",
    "- remove bean soup (`'bean soup'`) from the menu, and\n",
    "- add roasted beet salad (`'roasted beet salad'`) to the menu.\n",
    "\n",
    "Implement this change to the list below.  While completing this task, \n",
    "- do not change the line that creates the `menu` list.  \n",
    "- your answer should use `.remove()` and `.append()`.  "
   ]
  },
  {
   "cell_type": "code",
   "execution_count": 2,
   "id": "b1890c9b",
   "metadata": {
    "execution": {
     "iopub.execute_input": "2022-08-17T23:17:23.062474Z",
     "iopub.status.busy": "2022-08-17T23:17:23.061791Z",
     "iopub.status.idle": "2022-08-17T23:17:23.073657Z",
     "shell.execute_reply": "2022-08-17T23:17:23.072452Z"
    },
    "papermill": {
     "duration": 0.02167,
     "end_time": "2022-08-17T23:17:23.075903",
     "exception": false,
     "start_time": "2022-08-17T23:17:23.054233",
     "status": "completed"
    },
    "tags": []
   },
   "outputs": [
    {
     "data": {
      "application/javascript": [
       "parent.postMessage({\"jupyterEvent\": \"custom.exercise_interaction\", \"data\": {\"outcomeType\": 1, \"valueTowardsCompletion\": 0.2, \"interactionType\": 1, \"questionType\": 2, \"questionId\": \"1_FoodMenu\", \"learnToolsVersion\": \"0.3.4\", \"failureMessage\": \"\", \"exceptionClass\": \"\", \"trace\": \"\"}}, \"*\")"
      ],
      "text/plain": [
       "<IPython.core.display.Javascript object>"
      ]
     },
     "metadata": {},
     "output_type": "display_data"
    },
    {
     "data": {
      "text/markdown": [
       "<span style=\"color:#33cc33\">Correct</span>"
      ],
      "text/plain": [
       "Correct"
      ]
     },
     "metadata": {},
     "output_type": "display_data"
    }
   ],
   "source": [
    "# Do not change: Initial menu for your restaurant\n",
    "menu = ['stewed meat with onions', 'bean soup', 'risotto with trout and shrimp',\n",
    "       'fish soup with cream and onion', 'gyro']\n",
    "\n",
    "# TODO: remove 'bean soup', and add 'roasted beet salad' to the end of the menu\n",
    "menu.remove('bean soup')\n",
    "menu.append('roasted beet salad')\n",
    "\n",
    "# Do not change: Check your answer\n",
    "q1.check()"
   ]
  },
  {
   "cell_type": "code",
   "execution_count": 3,
   "id": "aee646e0",
   "metadata": {
    "execution": {
     "iopub.execute_input": "2022-08-17T23:17:23.090844Z",
     "iopub.status.busy": "2022-08-17T23:17:23.090409Z",
     "iopub.status.idle": "2022-08-17T23:17:23.094328Z",
     "shell.execute_reply": "2022-08-17T23:17:23.093478Z"
    },
    "papermill": {
     "duration": 0.013944,
     "end_time": "2022-08-17T23:17:23.096381",
     "exception": false,
     "start_time": "2022-08-17T23:17:23.082437",
     "status": "completed"
    },
    "tags": []
   },
   "outputs": [],
   "source": [
    "# Uncomment to see a hint\n",
    "#q1.hint()\n",
    "\n",
    "# Uncomment to see the solution\n",
    "#q1.solution()"
   ]
  },
  {
   "cell_type": "markdown",
   "id": "aca08b9e",
   "metadata": {
    "papermill": {
     "duration": 0.006539,
     "end_time": "2022-08-17T23:17:23.109502",
     "exception": false,
     "start_time": "2022-08-17T23:17:23.102963",
     "status": "completed"
    },
    "tags": []
   },
   "source": [
    "# Question 2\n",
    "\n",
    "The list `num_customers` contains the number of customers who came into your restaurant every day over the last month (which lasted thirty days).  Fill in values for each of the following:\n",
    "- `avg_first_seven` - average number of customers who visited in the first seven days\n",
    "- `avg_last_seven` - average number of customers who visited in the last seven days\n",
    "- `max_month` - number of customers on the day that got the most customers in the last month\n",
    "- `min_month` - number of customers on the day that got the least customers in the last month\n",
    "\n",
    "Answer this question by writing code.  For instance, if you have to find the minimum value in a list, use `min()` instead of scanning for the smallest value and directly filling in a number."
   ]
  },
  {
   "cell_type": "code",
   "execution_count": 4,
   "id": "22f398e7",
   "metadata": {
    "execution": {
     "iopub.execute_input": "2022-08-17T23:17:23.124768Z",
     "iopub.status.busy": "2022-08-17T23:17:23.124045Z",
     "iopub.status.idle": "2022-08-17T23:17:23.133981Z",
     "shell.execute_reply": "2022-08-17T23:17:23.132891Z"
    },
    "papermill": {
     "duration": 0.020412,
     "end_time": "2022-08-17T23:17:23.136444",
     "exception": false,
     "start_time": "2022-08-17T23:17:23.116032",
     "status": "completed"
    },
    "tags": []
   },
   "outputs": [
    {
     "data": {
      "application/javascript": [
       "parent.postMessage({\"jupyterEvent\": \"custom.exercise_interaction\", \"data\": {\"outcomeType\": 1, \"valueTowardsCompletion\": 0.2, \"interactionType\": 1, \"questionType\": 1, \"questionId\": \"2_NumCustomers\", \"learnToolsVersion\": \"0.3.4\", \"failureMessage\": \"\", \"exceptionClass\": \"\", \"trace\": \"\"}}, \"*\")"
      ],
      "text/plain": [
       "<IPython.core.display.Javascript object>"
      ]
     },
     "metadata": {},
     "output_type": "display_data"
    },
    {
     "data": {
      "text/markdown": [
       "<span style=\"color:#33cc33\">Correct</span>"
      ],
      "text/plain": [
       "Correct"
      ]
     },
     "metadata": {},
     "output_type": "display_data"
    }
   ],
   "source": [
    "# Do not change: Number of customers each day for the last month\n",
    "num_customers = [137, 147, 135, 128, 170, 174, 165, 146, 126, 159,\n",
    "                 141, 148, 132, 147, 168, 153, 170, 161, 148, 152,\n",
    "                 141, 151, 131, 149, 164, 163, 143, 143, 166, 171]\n",
    "\n",
    "# TODO: Fill in values for the variables below\n",
    "avg_first_seven = sum(num_customers[:7])/7\n",
    "avg_last_seven = sum(num_customers[-7:])/7\n",
    "max_month = max(num_customers)\n",
    "min_month = min(num_customers)\n",
    "\n",
    "# Do not change: Check your answer\n",
    "q2.check()"
   ]
  },
  {
   "cell_type": "code",
   "execution_count": 5,
   "id": "3107cf2f",
   "metadata": {
    "execution": {
     "iopub.execute_input": "2022-08-17T23:17:23.152095Z",
     "iopub.status.busy": "2022-08-17T23:17:23.151457Z",
     "iopub.status.idle": "2022-08-17T23:17:23.155439Z",
     "shell.execute_reply": "2022-08-17T23:17:23.154463Z"
    },
    "papermill": {
     "duration": 0.014739,
     "end_time": "2022-08-17T23:17:23.157875",
     "exception": false,
     "start_time": "2022-08-17T23:17:23.143136",
     "status": "completed"
    },
    "tags": []
   },
   "outputs": [],
   "source": [
    "# Uncomment to see a hint\n",
    "#q2.hint()\n",
    "\n",
    "# Uncomment to see the solution\n",
    "#q2.solution()"
   ]
  },
  {
   "cell_type": "markdown",
   "id": "82078f10",
   "metadata": {
    "papermill": {
     "duration": 0.006442,
     "end_time": "2022-08-17T23:17:23.171295",
     "exception": false,
     "start_time": "2022-08-17T23:17:23.164853",
     "status": "completed"
    },
    "tags": []
   },
   "source": [
    "# Question 3\n",
    "\n",
    "In the tutorial, we gave an example of a Python string with information that was better as a list."
   ]
  },
  {
   "cell_type": "code",
   "execution_count": 6,
   "id": "b645a59a",
   "metadata": {
    "execution": {
     "iopub.execute_input": "2022-08-17T23:17:23.187290Z",
     "iopub.status.busy": "2022-08-17T23:17:23.186651Z",
     "iopub.status.idle": "2022-08-17T23:17:23.191168Z",
     "shell.execute_reply": "2022-08-17T23:17:23.190109Z"
    },
    "papermill": {
     "duration": 0.015718,
     "end_time": "2022-08-17T23:17:23.193706",
     "exception": false,
     "start_time": "2022-08-17T23:17:23.177988",
     "status": "completed"
    },
    "tags": []
   },
   "outputs": [],
   "source": [
    "flowers = \"pink primrose,hard-leaved pocket orchid,canterbury bells,sweet pea,english marigold,tiger lily,moon orchid,bird of paradise,monkshood,globe thistle\""
   ]
  },
  {
   "cell_type": "markdown",
   "id": "94994025",
   "metadata": {
    "papermill": {
     "duration": 0.006906,
     "end_time": "2022-08-17T23:17:23.208010",
     "exception": false,
     "start_time": "2022-08-17T23:17:23.201104",
     "status": "completed"
    },
    "tags": []
   },
   "source": [
    "You can actually use Python to quickly turn this string into a list with `.split()`.  In the parentheses, we need to provide the character should be used to mark the end of one list item and the beginning of another, and enclose it in quotation marks.  In this case, that character is a comma."
   ]
  },
  {
   "cell_type": "code",
   "execution_count": 7,
   "id": "28503d4a",
   "metadata": {
    "execution": {
     "iopub.execute_input": "2022-08-17T23:17:23.224117Z",
     "iopub.status.busy": "2022-08-17T23:17:23.223439Z",
     "iopub.status.idle": "2022-08-17T23:17:23.229086Z",
     "shell.execute_reply": "2022-08-17T23:17:23.227704Z"
    },
    "papermill": {
     "duration": 0.01634,
     "end_time": "2022-08-17T23:17:23.231439",
     "exception": false,
     "start_time": "2022-08-17T23:17:23.215099",
     "status": "completed"
    },
    "tags": []
   },
   "outputs": [
    {
     "name": "stdout",
     "output_type": "stream",
     "text": [
      "['pink primrose', 'hard-leaved pocket orchid', 'canterbury bells', 'sweet pea', 'english marigold', 'tiger lily', 'moon orchid', 'bird of paradise', 'monkshood', 'globe thistle']\n"
     ]
    }
   ],
   "source": [
    " print(flowers.split(\",\"))"
   ]
  },
  {
   "cell_type": "markdown",
   "id": "9d57b05b",
   "metadata": {
    "papermill": {
     "duration": 0.006466,
     "end_time": "2022-08-17T23:17:23.244864",
     "exception": false,
     "start_time": "2022-08-17T23:17:23.238398",
     "status": "completed"
    },
    "tags": []
   },
   "source": [
    "Now it is your turn to try this out!  Create two Python lists:\n",
    "- `letters` should be a Python list where each entry is an uppercase letter of the English alphabet.  For instance, the first two entries should be `\"A\"` and `\"B\"`, and the final two entries should be `\"Y\"` and `\"Z\"`.  Use the string `alphabet` to create this list.\n",
    "- `address` should be a Python list where each row in `address` is a different item in the list.  Currently, each row in `address` is separated by a comma. "
   ]
  },
  {
   "cell_type": "code",
   "execution_count": 8,
   "id": "5be7d931",
   "metadata": {
    "execution": {
     "iopub.execute_input": "2022-08-17T23:17:23.261191Z",
     "iopub.status.busy": "2022-08-17T23:17:23.260546Z",
     "iopub.status.idle": "2022-08-17T23:17:23.270365Z",
     "shell.execute_reply": "2022-08-17T23:17:23.269322Z"
    },
    "papermill": {
     "duration": 0.021419,
     "end_time": "2022-08-17T23:17:23.272938",
     "exception": false,
     "start_time": "2022-08-17T23:17:23.251519",
     "status": "completed"
    },
    "tags": []
   },
   "outputs": [
    {
     "data": {
      "application/javascript": [
       "parent.postMessage({\"jupyterEvent\": \"custom.exercise_interaction\", \"data\": {\"outcomeType\": 1, \"valueTowardsCompletion\": 0.2, \"interactionType\": 1, \"questionType\": 1, \"questionId\": \"3_SplitString\", \"learnToolsVersion\": \"0.3.4\", \"failureMessage\": \"\", \"exceptionClass\": \"\", \"trace\": \"\"}}, \"*\")"
      ],
      "text/plain": [
       "<IPython.core.display.Javascript object>"
      ]
     },
     "metadata": {},
     "output_type": "display_data"
    },
    {
     "data": {
      "text/markdown": [
       "<span style=\"color:#33cc33\">Correct</span>"
      ],
      "text/plain": [
       "Correct"
      ]
     },
     "metadata": {},
     "output_type": "display_data"
    }
   ],
   "source": [
    "# DO not change: Define two Python strings\n",
    "alphabet = \"A.B.C.D.E.F.G.H.I.J.K.L.M.N.O.P.Q.R.S.T.U.V.W.X.Y.Z\"\n",
    "address = \"Mr. H. Potter,The cupboard under the Stairs,4 Privet Drive,Little Whinging,Surrey\"\n",
    "\n",
    "# TODO: Convert strings into Python lists\n",
    "letters = alphabet.split('.')\n",
    "formatted_address = address.split(',')\n",
    "\n",
    "# Do not change: Check your answer\n",
    "q3.check()"
   ]
  },
  {
   "cell_type": "code",
   "execution_count": 9,
   "id": "fb9a3dea",
   "metadata": {
    "execution": {
     "iopub.execute_input": "2022-08-17T23:17:23.291239Z",
     "iopub.status.busy": "2022-08-17T23:17:23.290579Z",
     "iopub.status.idle": "2022-08-17T23:17:23.294500Z",
     "shell.execute_reply": "2022-08-17T23:17:23.293639Z"
    },
    "papermill": {
     "duration": 0.015164,
     "end_time": "2022-08-17T23:17:23.296949",
     "exception": false,
     "start_time": "2022-08-17T23:17:23.281785",
     "status": "completed"
    },
    "tags": []
   },
   "outputs": [],
   "source": [
    "# Uncomment to see a hint\n",
    "#q3.hint()\n",
    "\n",
    "# Uncomment to see the solution\n",
    "#q3.solution()"
   ]
  },
  {
   "cell_type": "markdown",
   "id": "9d72341e",
   "metadata": {
    "papermill": {
     "duration": 0.007063,
     "end_time": "2022-08-17T23:17:23.311985",
     "exception": false,
     "start_time": "2022-08-17T23:17:23.304922",
     "status": "completed"
    },
    "tags": []
   },
   "source": [
    "# Question 4\n",
    "\n",
    "In the Python course, you'll learn all about **list comprehensions**, which allow you to create a list based on the values in another list.  In this question, you'll get a brief preview of how they work.\n",
    "\n",
    "Say we're working with the list below."
   ]
  },
  {
   "cell_type": "code",
   "execution_count": 10,
   "id": "468c3169",
   "metadata": {
    "execution": {
     "iopub.execute_input": "2022-08-17T23:17:23.329052Z",
     "iopub.status.busy": "2022-08-17T23:17:23.328276Z",
     "iopub.status.idle": "2022-08-17T23:17:23.333351Z",
     "shell.execute_reply": "2022-08-17T23:17:23.332203Z"
    },
    "papermill": {
     "duration": 0.016863,
     "end_time": "2022-08-17T23:17:23.336414",
     "exception": false,
     "start_time": "2022-08-17T23:17:23.319551",
     "status": "completed"
    },
    "tags": []
   },
   "outputs": [],
   "source": [
    "test_ratings = [1, 2, 3, 4, 5]"
   ]
  },
  {
   "cell_type": "markdown",
   "id": "f95c53c0",
   "metadata": {
    "papermill": {
     "duration": 0.006641,
     "end_time": "2022-08-17T23:17:23.350145",
     "exception": false,
     "start_time": "2022-08-17T23:17:23.343504",
     "status": "completed"
    },
    "tags": []
   },
   "source": [
    "Then we can use this list (`test_ratings`) to create a new list (`test_liked`) where each item has been turned into a boolean, depending on whether or not the item is greater than or equal to four."
   ]
  },
  {
   "cell_type": "code",
   "execution_count": 11,
   "id": "ad969775",
   "metadata": {
    "execution": {
     "iopub.execute_input": "2022-08-17T23:17:23.366652Z",
     "iopub.status.busy": "2022-08-17T23:17:23.365902Z",
     "iopub.status.idle": "2022-08-17T23:17:23.371851Z",
     "shell.execute_reply": "2022-08-17T23:17:23.370744Z"
    },
    "papermill": {
     "duration": 0.017302,
     "end_time": "2022-08-17T23:17:23.374831",
     "exception": false,
     "start_time": "2022-08-17T23:17:23.357529",
     "status": "completed"
    },
    "tags": []
   },
   "outputs": [
    {
     "name": "stdout",
     "output_type": "stream",
     "text": [
      "[False, False, False, True, True]\n"
     ]
    }
   ],
   "source": [
    "test_liked = [i>=4 for i in test_ratings]\n",
    "print(test_liked)"
   ]
  },
  {
   "cell_type": "markdown",
   "id": "ff789b19",
   "metadata": {
    "papermill": {
     "duration": 0.007847,
     "end_time": "2022-08-17T23:17:23.390053",
     "exception": false,
     "start_time": "2022-08-17T23:17:23.382206",
     "status": "completed"
    },
    "tags": []
   },
   "source": [
    "In this question, you'll use this list comprehension to define a function `percentage_liked()` that takes one argument as input:\n",
    "- `ratings`: list of ratings that people gave to a movie, where each rating is a number between 1-5, inclusive\n",
    "\n",
    "We say someone liked the movie, if they gave a rating of either 4 or 5.  Your function should return the percentage of people who liked the movie.\n",
    "\n",
    "For instance, if we supply a value of `[1, 2, 3, 4, 5, 4, 5, 1]`, then 50% (4/8) of the people liked the movie, and the function should return `0.5`.\n",
    "\n",
    "Part of the function has already been completed for you.  You need only use `list_liked` to calculate `percentage_liked`."
   ]
  },
  {
   "cell_type": "code",
   "execution_count": 12,
   "id": "ebc9425a",
   "metadata": {
    "execution": {
     "iopub.execute_input": "2022-08-17T23:17:23.408259Z",
     "iopub.status.busy": "2022-08-17T23:17:23.407091Z",
     "iopub.status.idle": "2022-08-17T23:17:23.418020Z",
     "shell.execute_reply": "2022-08-17T23:17:23.417006Z"
    },
    "papermill": {
     "duration": 0.022119,
     "end_time": "2022-08-17T23:17:23.420388",
     "exception": false,
     "start_time": "2022-08-17T23:17:23.398269",
     "status": "completed"
    },
    "tags": []
   },
   "outputs": [
    {
     "data": {
      "application/javascript": [
       "parent.postMessage({\"jupyterEvent\": \"custom.exercise_interaction\", \"data\": {\"outcomeType\": 2, \"failureMessage\": \"Expected return value of `0.5` given `ratings=[1, 2, 3, 4, 5, 4, 5, 1]`, but got `<learntools.core.constants.PlaceholderValue object at 0x7f4fc9d38950>` instead.\", \"interactionType\": 1, \"questionType\": 2, \"questionId\": \"4_PercentageLiked\", \"learnToolsVersion\": \"0.3.4\", \"valueTowardsCompletion\": 0.0, \"exceptionClass\": \"\", \"trace\": \"\"}}, \"*\")"
      ],
      "text/plain": [
       "<IPython.core.display.Javascript object>"
      ]
     },
     "metadata": {},
     "output_type": "display_data"
    },
    {
     "data": {
      "text/markdown": [
       "<span style=\"color:#cc3333\">Incorrect:</span> Expected return value of `0.5` given `ratings=[1, 2, 3, 4, 5, 4, 5, 1]`, but got `<learntools.core.constants.PlaceholderValue object at 0x7f4fc9d38950>` instead."
      ],
      "text/plain": [
       "Incorrect: Expected return value of `0.5` given `ratings=[1, 2, 3, 4, 5, 4, 5, 1]`, but got `<learntools.core.constants.PlaceholderValue object at 0x7f4fc9d38950>` instead."
      ]
     },
     "metadata": {},
     "output_type": "display_data"
    }
   ],
   "source": [
    "\n",
    "def percentage_liked(ratings):\n",
    "    list_liked = [i>=4 for i in ratings]\n",
    "    # TODO: Complete the function\n",
    "    percentage_liked = ____\n",
    "    return percentage_liked\n",
    "\n",
    "# Do not change: should return 0.5\n",
    "percentage_liked([1, 2, 3, 4, 5, 4, 5, 1])\n",
    "\n",
    "# Do not change: Check your answer\n",
    "q4.check()"
   ]
  },
  {
   "cell_type": "code",
   "execution_count": 13,
   "id": "b729ddd1",
   "metadata": {
    "execution": {
     "iopub.execute_input": "2022-08-17T23:17:23.437920Z",
     "iopub.status.busy": "2022-08-17T23:17:23.437070Z",
     "iopub.status.idle": "2022-08-17T23:17:23.441960Z",
     "shell.execute_reply": "2022-08-17T23:17:23.440676Z"
    },
    "papermill": {
     "duration": 0.016964,
     "end_time": "2022-08-17T23:17:23.444961",
     "exception": false,
     "start_time": "2022-08-17T23:17:23.427997",
     "status": "completed"
    },
    "tags": []
   },
   "outputs": [],
   "source": [
    "# Uncomment to see a hint\n",
    "#q4.hint()\n",
    "\n",
    "# Uncomment to see the solution\n",
    "#q4.solution()"
   ]
  },
  {
   "cell_type": "markdown",
   "id": "9c46d4d8",
   "metadata": {
    "papermill": {
     "duration": 0.007846,
     "end_time": "2022-08-17T23:17:23.461383",
     "exception": false,
     "start_time": "2022-08-17T23:17:23.453537",
     "status": "completed"
    },
    "tags": []
   },
   "source": [
    "# 🌶️ Question 5\n",
    " \n",
    "Say you're doing analytics for a website.  You need to write a function that returns the percentage growth in the total number of users relative to a specified number of years ago.\n",
    "\n",
    "Your function `percentage_growth()` should take two arguments as input:\n",
    "- `num_users` = Python list with the total number of users each year.  So `num_users[0]` is the total number of users in the first year, `num_users[1]` is the total number of users in the second year, and so on.  The final entry in the list gives the total number of users in the most recently completed year.\n",
    "- `yrs_ago` = number of years to go back in time when calculating the growth percentage\n",
    "\n",
    "For instance, say `num_users = [920344, 1043553, 1204334, 1458996, 1503323, 1593432, 1623463, 1843064, 1930992, 2001078]`.\n",
    "- if `yrs_ago = 1`, we want the function to return a value of about `0.036`. This corresponds to a percentage growth of approximately 3.6%, calculated as (2001078 - 1930992)/1930992.\n",
    "- if `years_ago = 7`, we would want to return approximately `0.66`.  This corresponds to a percentage growth of approximately 66%, calculated as (2001078 - 1204334)/1204334.\n",
    "\n",
    "Your coworker sent you a draft of a function, but it doesn't seem to be doing the correct calculation.  Can you figure out what has gone wrong and make the needed changes?"
   ]
  },
  {
   "cell_type": "code",
   "execution_count": 14,
   "id": "9109f240",
   "metadata": {
    "execution": {
     "iopub.execute_input": "2022-08-17T23:17:23.479282Z",
     "iopub.status.busy": "2022-08-17T23:17:23.478825Z",
     "iopub.status.idle": "2022-08-17T23:17:23.491358Z",
     "shell.execute_reply": "2022-08-17T23:17:23.490406Z"
    },
    "papermill": {
     "duration": 0.024702,
     "end_time": "2022-08-17T23:17:23.493686",
     "exception": false,
     "start_time": "2022-08-17T23:17:23.468984",
     "status": "completed"
    },
    "tags": []
   },
   "outputs": [
    {
     "name": "stdout",
     "output_type": "stream",
     "text": [
      "0.0\n",
      "0.2807272117129434\n"
     ]
    },
    {
     "data": {
      "application/javascript": [
       "parent.postMessage({\"jupyterEvent\": \"custom.exercise_interaction\", \"data\": {\"outcomeType\": 2, \"failureMessage\": \"Expected return value of `0.03629533421163837` given `num_users=[920344, 1043553, 1204334, 1458996, 1503323, 1593432, 1623463, 1843064, 1930992, 2001078]`, `yrs_ago=1`, but got `0.0` instead.\", \"interactionType\": 1, \"questionType\": 2, \"questionId\": \"5_WebsiteAnalytics\", \"learnToolsVersion\": \"0.3.4\", \"valueTowardsCompletion\": 0.0, \"exceptionClass\": \"\", \"trace\": \"\"}}, \"*\")"
      ],
      "text/plain": [
       "<IPython.core.display.Javascript object>"
      ]
     },
     "metadata": {},
     "output_type": "display_data"
    },
    {
     "data": {
      "text/markdown": [
       "<span style=\"color:#cc3333\">Incorrect:</span> Expected return value of `0.03629533421163837` given `num_users=[920344, 1043553, 1204334, 1458996, 1503323, 1593432, 1623463, 1843064, 1930992, 2001078]`, `yrs_ago=1`, but got `0.0` instead."
      ],
      "text/plain": [
       "Incorrect: Expected return value of `0.03629533421163837` given `num_users=[920344, 1043553, 1204334, 1458996, 1503323, 1593432, 1623463, 1843064, 1930992, 2001078]`, `yrs_ago=1`, but got `0.0` instead."
      ]
     },
     "metadata": {},
     "output_type": "display_data"
    }
   ],
   "source": [
    "# TODO: Edit the function\n",
    "def percentage_growth(num_users, yrs_ago):\n",
    "    growth = (num_users[len(num_users)-1] - num_users[len(num_users)-yrs_ago])/num_users[len(num_users)-2]\n",
    "    return growth\n",
    "\n",
    "# Do not change: Variable for calculating some test examples\n",
    "num_users_test = [920344, 1043553, 1204334, 1458996, 1503323, 1593432, 1623463, 1843064, 1930992, 2001078]\n",
    "\n",
    "# Do not change: Should return .036\n",
    "print(percentage_growth(num_users_test, 1))\n",
    "\n",
    "# Do not change: Should return 0.66\n",
    "print(percentage_growth(num_users_test, 7))\n",
    "\n",
    "# Do not change: Check your answer\n",
    "q5.check()"
   ]
  },
  {
   "cell_type": "code",
   "execution_count": 15,
   "id": "45afafb9",
   "metadata": {
    "execution": {
     "iopub.execute_input": "2022-08-17T23:17:23.511735Z",
     "iopub.status.busy": "2022-08-17T23:17:23.511248Z",
     "iopub.status.idle": "2022-08-17T23:17:23.516399Z",
     "shell.execute_reply": "2022-08-17T23:17:23.515134Z"
    },
    "papermill": {
     "duration": 0.016941,
     "end_time": "2022-08-17T23:17:23.519056",
     "exception": false,
     "start_time": "2022-08-17T23:17:23.502115",
     "status": "completed"
    },
    "tags": []
   },
   "outputs": [],
   "source": [
    "# Uncomment to see a hint\n",
    "#q5.hint()\n",
    "\n",
    "# Uncomment to see the solution\n",
    "#q5.solution()"
   ]
  },
  {
   "cell_type": "markdown",
   "id": "4b3dfcea",
   "metadata": {
    "papermill": {
     "duration": 0.007662,
     "end_time": "2022-08-17T23:17:23.534788",
     "exception": false,
     "start_time": "2022-08-17T23:17:23.527126",
     "status": "completed"
    },
    "tags": []
   },
   "source": [
    "# Congratulations!\n",
    "\n",
    "Congratulations for finishing the Intro to Programming course!  You should be proud of your very first steps with learning programming.  As next steps, we recommend taking:\n",
    "- the **[Python course](http://www.kaggle.com/learn/python)**, and \n",
    "- the **[Intro to Machine Learning course](https://www.kaggle.com/learn/intro-to-machine-learning)**."
   ]
  },
  {
   "cell_type": "markdown",
   "id": "0e4c9c5b",
   "metadata": {
    "papermill": {
     "duration": 0.00805,
     "end_time": "2022-08-17T23:17:23.550849",
     "exception": false,
     "start_time": "2022-08-17T23:17:23.542799",
     "status": "completed"
    },
    "tags": []
   },
   "source": [
    "---\n",
    "\n",
    "\n",
    "\n",
    "\n",
    "*Have questions or comments? Visit the [course discussion forum](https://www.kaggle.com/learn/intro-to-programming/discussion) to chat with other learners.*"
   ]
  }
 ],
 "metadata": {
  "kernelspec": {
   "display_name": "Python 3",
   "language": "python",
   "name": "python3"
  },
  "language_info": {
   "codemirror_mode": {
    "name": "ipython",
    "version": 3
   },
   "file_extension": ".py",
   "mimetype": "text/x-python",
   "name": "python",
   "nbconvert_exporter": "python",
   "pygments_lexer": "ipython3",
   "version": "3.7.12"
  },
  "papermill": {
   "default_parameters": {},
   "duration": 12.328451,
   "end_time": "2022-08-17T23:17:24.282829",
   "environment_variables": {},
   "exception": null,
   "input_path": "__notebook__.ipynb",
   "output_path": "__notebook__.ipynb",
   "parameters": {},
   "start_time": "2022-08-17T23:17:11.954378",
   "version": "2.3.4"
  }
 },
 "nbformat": 4,
 "nbformat_minor": 5
}
