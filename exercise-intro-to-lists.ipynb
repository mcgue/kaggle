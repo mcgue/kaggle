{
 "cells": [
  {
   "cell_type": "markdown",
   "id": "8213137c",
   "metadata": {
    "papermill": {
     "duration": 0.006978,
     "end_time": "2022-08-12T15:42:44.939951",
     "exception": false,
     "start_time": "2022-08-12T15:42:44.932973",
     "status": "completed"
    },
    "tags": []
   },
   "source": [
    "**This notebook is an exercise in the [Intro to Programming](https://www.kaggle.com/learn/intro-to-programming) course.  You can reference the tutorial at [this link](https://www.kaggle.com/alexisbcook/intro-to-lists).**\n",
    "\n",
    "---\n"
   ]
  },
  {
   "cell_type": "markdown",
   "id": "532bbadc",
   "metadata": {
    "papermill": {
     "duration": 0.005495,
     "end_time": "2022-08-12T15:42:44.951379",
     "exception": false,
     "start_time": "2022-08-12T15:42:44.945884",
     "status": "completed"
    },
    "tags": []
   },
   "source": [
    "In the tutorial, you learned how to define and modify Python lists.  In this exercise, you will use your new knowledge to solve several problems.\n",
    "\n",
    "# Set up the notebook\n",
    "\n",
    "Run the next code cell without changes to set up the notebook."
   ]
  },
  {
   "cell_type": "code",
   "execution_count": 1,
   "id": "23154dfc",
   "metadata": {
    "execution": {
     "iopub.execute_input": "2022-08-12T15:42:44.965744Z",
     "iopub.status.busy": "2022-08-12T15:42:44.965057Z",
     "iopub.status.idle": "2022-08-12T15:42:45.027927Z",
     "shell.execute_reply": "2022-08-12T15:42:45.026614Z"
    },
    "papermill": {
     "duration": 0.073871,
     "end_time": "2022-08-12T15:42:45.031019",
     "exception": false,
     "start_time": "2022-08-12T15:42:44.957148",
     "status": "completed"
    },
    "tags": []
   },
   "outputs": [
    {
     "name": "stdout",
     "output_type": "stream",
     "text": [
      "Setup complete.\n"
     ]
    }
   ],
   "source": [
    "from learntools.core import binder\n",
    "binder.bind(globals())\n",
    "from learntools.intro_to_programming.ex5 import *\n",
    "print('Setup complete.')"
   ]
  },
  {
   "cell_type": "markdown",
   "id": "9ef988df",
   "metadata": {
    "papermill": {
     "duration": 0.005635,
     "end_time": "2022-08-12T15:42:45.042621",
     "exception": false,
     "start_time": "2022-08-12T15:42:45.036986",
     "status": "completed"
    },
    "tags": []
   },
   "source": [
    "# Question 1\n",
    "\n",
    "You own a restaurant with five food dishes, organized in the Python list `menu` below.  One day, you decide to:\n",
    "- remove bean soup (`'bean soup'`) from the menu, and\n",
    "- add roasted beet salad (`'roasted beet salad'`) to the menu.\n",
    "\n",
    "Implement this change to the list below.  While completing this task, \n",
    "- do not change the line that creates the `menu` list.  \n",
    "- your answer should use `.remove()` and `.append()`.  "
   ]
  },
  {
   "cell_type": "code",
   "execution_count": 2,
   "id": "c4b0d2ac",
   "metadata": {
    "execution": {
     "iopub.execute_input": "2022-08-12T15:42:45.057017Z",
     "iopub.status.busy": "2022-08-12T15:42:45.056146Z",
     "iopub.status.idle": "2022-08-12T15:42:45.069107Z",
     "shell.execute_reply": "2022-08-12T15:42:45.068047Z"
    },
    "papermill": {
     "duration": 0.022998,
     "end_time": "2022-08-12T15:42:45.071483",
     "exception": false,
     "start_time": "2022-08-12T15:42:45.048485",
     "status": "completed"
    },
    "tags": []
   },
   "outputs": [
    {
     "data": {
      "application/javascript": [
       "parent.postMessage({\"jupyterEvent\": \"custom.exercise_interaction\", \"data\": {\"outcomeType\": 1, \"valueTowardsCompletion\": 0.2, \"interactionType\": 1, \"questionType\": 2, \"questionId\": \"1_FoodMenu\", \"learnToolsVersion\": \"0.3.4\", \"failureMessage\": \"\", \"exceptionClass\": \"\", \"trace\": \"\"}}, \"*\")"
      ],
      "text/plain": [
       "<IPython.core.display.Javascript object>"
      ]
     },
     "metadata": {},
     "output_type": "display_data"
    },
    {
     "data": {
      "text/markdown": [
       "<span style=\"color:#33cc33\">Correct</span>"
      ],
      "text/plain": [
       "Correct"
      ]
     },
     "metadata": {},
     "output_type": "display_data"
    }
   ],
   "source": [
    "# Do not change: Initial menu for your restaurant\n",
    "menu = ['stewed meat with onions', 'bean soup', 'risotto with trout and shrimp',\n",
    "       'fish soup with cream and onion', 'gyro']\n",
    "\n",
    "# TODO: remove 'bean soup', and add 'roasted beet salad' to the end of the menu\n",
    "menu.remove('bean soup')\n",
    "menu.append('roasted beet salad')\n",
    "\n",
    "# Do not change: Check your answer\n",
    "q1.check()"
   ]
  },
  {
   "cell_type": "code",
   "execution_count": 3,
   "id": "2dc0780a",
   "metadata": {
    "execution": {
     "iopub.execute_input": "2022-08-12T15:42:45.086474Z",
     "iopub.status.busy": "2022-08-12T15:42:45.085747Z",
     "iopub.status.idle": "2022-08-12T15:42:45.090484Z",
     "shell.execute_reply": "2022-08-12T15:42:45.089619Z"
    },
    "papermill": {
     "duration": 0.015092,
     "end_time": "2022-08-12T15:42:45.092847",
     "exception": false,
     "start_time": "2022-08-12T15:42:45.077755",
     "status": "completed"
    },
    "tags": []
   },
   "outputs": [],
   "source": [
    "# Uncomment to see a hint\n",
    "#q1.hint()\n",
    "\n",
    "# Uncomment to see the solution\n",
    "#q1.solution()"
   ]
  },
  {
   "cell_type": "markdown",
   "id": "3f887606",
   "metadata": {
    "papermill": {
     "duration": 0.005939,
     "end_time": "2022-08-12T15:42:45.105369",
     "exception": false,
     "start_time": "2022-08-12T15:42:45.099430",
     "status": "completed"
    },
    "tags": []
   },
   "source": [
    "# Question 2\n",
    "\n",
    "The list `num_customers` contains the number of customers who came into your restaurant every day over the last month (which lasted thirty days).  Fill in values for each of the following:\n",
    "- `avg_first_seven` - average number of customers who visited in the first seven days\n",
    "- `avg_last_seven` - average number of customers who visited in the last seven days\n",
    "- `max_month` - number of customers on the day that got the most customers in the last month\n",
    "- `min_month` - number of customers on the day that got the least customers in the last month\n",
    "\n",
    "Answer this question by writing code.  For instance, if you have to find the minimum value in a list, use `min()` instead of scanning for the smallest value and directly filling in a number."
   ]
  },
  {
   "cell_type": "code",
   "execution_count": 4,
   "id": "ac27a3c2",
   "metadata": {
    "execution": {
     "iopub.execute_input": "2022-08-12T15:42:45.120503Z",
     "iopub.status.busy": "2022-08-12T15:42:45.119780Z",
     "iopub.status.idle": "2022-08-12T15:42:45.131430Z",
     "shell.execute_reply": "2022-08-12T15:42:45.130355Z"
    },
    "papermill": {
     "duration": 0.021976,
     "end_time": "2022-08-12T15:42:45.133911",
     "exception": false,
     "start_time": "2022-08-12T15:42:45.111935",
     "status": "completed"
    },
    "tags": []
   },
   "outputs": [
    {
     "data": {
      "application/javascript": [
       "parent.postMessage({\"jupyterEvent\": \"custom.exercise_interaction\", \"data\": {\"outcomeType\": 1, \"valueTowardsCompletion\": 0.2, \"interactionType\": 1, \"questionType\": 1, \"questionId\": \"2_NumCustomers\", \"learnToolsVersion\": \"0.3.4\", \"failureMessage\": \"\", \"exceptionClass\": \"\", \"trace\": \"\"}}, \"*\")"
      ],
      "text/plain": [
       "<IPython.core.display.Javascript object>"
      ]
     },
     "metadata": {},
     "output_type": "display_data"
    },
    {
     "data": {
      "text/markdown": [
       "<span style=\"color:#33cc33\">Correct</span>"
      ],
      "text/plain": [
       "Correct"
      ]
     },
     "metadata": {},
     "output_type": "display_data"
    }
   ],
   "source": [
    "# Do not change: Number of customers each day for the last month\n",
    "num_customers = [137, 147, 135, 128, 170, 174, 165, 146, 126, 159,\n",
    "                 141, 148, 132, 147, 168, 153, 170, 161, 148, 152,\n",
    "                 141, 151, 131, 149, 164, 163, 143, 143, 166, 171]\n",
    "\n",
    "# TODO: Fill in values for the variables below\n",
    "avg_first_seven = sum(num_customers[:7])/7\n",
    "avg_last_seven = sum(num_customers[-7:])/7\n",
    "max_month = max(num_customers)\n",
    "min_month = min(num_customers)\n",
    "\n",
    "# Do not change: Check your answer\n",
    "q2.check()"
   ]
  },
  {
   "cell_type": "code",
   "execution_count": 5,
   "id": "51e34f14",
   "metadata": {
    "execution": {
     "iopub.execute_input": "2022-08-12T15:42:45.149323Z",
     "iopub.status.busy": "2022-08-12T15:42:45.148477Z",
     "iopub.status.idle": "2022-08-12T15:42:45.153691Z",
     "shell.execute_reply": "2022-08-12T15:42:45.152649Z"
    },
    "papermill": {
     "duration": 0.015548,
     "end_time": "2022-08-12T15:42:45.155968",
     "exception": false,
     "start_time": "2022-08-12T15:42:45.140420",
     "status": "completed"
    },
    "tags": []
   },
   "outputs": [],
   "source": [
    "# Uncomment to see a hint\n",
    "#q2.hint()\n",
    "\n",
    "# Uncomment to see the solution\n",
    "#q2.solution()"
   ]
  },
  {
   "cell_type": "markdown",
   "id": "2a6977da",
   "metadata": {
    "papermill": {
     "duration": 0.006106,
     "end_time": "2022-08-12T15:42:45.168602",
     "exception": false,
     "start_time": "2022-08-12T15:42:45.162496",
     "status": "completed"
    },
    "tags": []
   },
   "source": [
    "# Question 3\n",
    "\n",
    "In the tutorial, we gave an example of a Python string with information that was better as a list."
   ]
  },
  {
   "cell_type": "code",
   "execution_count": 6,
   "id": "fcf2a6bc",
   "metadata": {
    "execution": {
     "iopub.execute_input": "2022-08-12T15:42:45.183681Z",
     "iopub.status.busy": "2022-08-12T15:42:45.183216Z",
     "iopub.status.idle": "2022-08-12T15:42:45.188601Z",
     "shell.execute_reply": "2022-08-12T15:42:45.187134Z"
    },
    "papermill": {
     "duration": 0.016308,
     "end_time": "2022-08-12T15:42:45.191342",
     "exception": false,
     "start_time": "2022-08-12T15:42:45.175034",
     "status": "completed"
    },
    "tags": []
   },
   "outputs": [],
   "source": [
    "flowers = \"pink primrose,hard-leaved pocket orchid,canterbury bells,sweet pea,english marigold,tiger lily,moon orchid,bird of paradise,monkshood,globe thistle\""
   ]
  },
  {
   "cell_type": "markdown",
   "id": "fe27bec1",
   "metadata": {
    "papermill": {
     "duration": 0.006259,
     "end_time": "2022-08-12T15:42:45.204314",
     "exception": false,
     "start_time": "2022-08-12T15:42:45.198055",
     "status": "completed"
    },
    "tags": []
   },
   "source": [
    "You can actually use Python to quickly turn this string into a list with `.split()`.  In the parentheses, we need to provide the character should be used to mark the end of one list item and the beginning of another, and enclose it in quotation marks.  In this case, that character is a comma."
   ]
  },
  {
   "cell_type": "code",
   "execution_count": 7,
   "id": "9be20179",
   "metadata": {
    "execution": {
     "iopub.execute_input": "2022-08-12T15:42:45.220371Z",
     "iopub.status.busy": "2022-08-12T15:42:45.219866Z",
     "iopub.status.idle": "2022-08-12T15:42:45.226457Z",
     "shell.execute_reply": "2022-08-12T15:42:45.224900Z"
    },
    "papermill": {
     "duration": 0.017847,
     "end_time": "2022-08-12T15:42:45.229066",
     "exception": false,
     "start_time": "2022-08-12T15:42:45.211219",
     "status": "completed"
    },
    "tags": []
   },
   "outputs": [
    {
     "name": "stdout",
     "output_type": "stream",
     "text": [
      "['pink primrose', 'hard-leaved pocket orchid', 'canterbury bells', 'sweet pea', 'english marigold', 'tiger lily', 'moon orchid', 'bird of paradise', 'monkshood', 'globe thistle']\n"
     ]
    }
   ],
   "source": [
    " print(flowers.split(\",\"))"
   ]
  },
  {
   "cell_type": "markdown",
   "id": "aad5e538",
   "metadata": {
    "papermill": {
     "duration": 0.006328,
     "end_time": "2022-08-12T15:42:45.242340",
     "exception": false,
     "start_time": "2022-08-12T15:42:45.236012",
     "status": "completed"
    },
    "tags": []
   },
   "source": [
    "Now it is your turn to try this out!  Create two Python lists:\n",
    "- `letters` should be a Python list where each entry is an uppercase letter of the English alphabet.  For instance, the first two entries should be `\"A\"` and `\"B\"`, and the final two entries should be `\"Y\"` and `\"Z\"`.  Use the string `alphabet` to create this list.\n",
    "- `address` should be a Python list where each row in `address` is a different item in the list.  Currently, each row in `address` is separated by a comma. "
   ]
  },
  {
   "cell_type": "code",
   "execution_count": 8,
   "id": "f2554bae",
   "metadata": {
    "execution": {
     "iopub.execute_input": "2022-08-12T15:42:45.257242Z",
     "iopub.status.busy": "2022-08-12T15:42:45.256839Z",
     "iopub.status.idle": "2022-08-12T15:42:45.267322Z",
     "shell.execute_reply": "2022-08-12T15:42:45.266026Z"
    },
    "papermill": {
     "duration": 0.021021,
     "end_time": "2022-08-12T15:42:45.269887",
     "exception": false,
     "start_time": "2022-08-12T15:42:45.248866",
     "status": "completed"
    },
    "tags": []
   },
   "outputs": [
    {
     "data": {
      "application/javascript": [
       "parent.postMessage({\"jupyterEvent\": \"custom.exercise_interaction\", \"data\": {\"outcomeType\": 4, \"interactionType\": 1, \"questionType\": 1, \"questionId\": \"3_SplitString\", \"learnToolsVersion\": \"0.3.4\", \"valueTowardsCompletion\": 0.0, \"failureMessage\": \"\", \"exceptionClass\": \"\", \"trace\": \"\"}}, \"*\")"
      ],
      "text/plain": [
       "<IPython.core.display.Javascript object>"
      ]
     },
     "metadata": {},
     "output_type": "display_data"
    },
    {
     "data": {
      "text/markdown": [
       "<span style=\"color:#ccaa33\">Check:</span> When you've updated the starter code, `check()` will tell you whether your code is correct. You need to update the code that creates variables `letters`, `formatted_address`"
      ],
      "text/plain": [
       "Check: When you've updated the starter code, `check()` will tell you whether your code is correct. You need to update the code that creates variables `letters`, `formatted_address`"
      ]
     },
     "metadata": {},
     "output_type": "display_data"
    }
   ],
   "source": [
    "# DO not change: Define two Python strings\n",
    "alphabet = \"A.B.C.D.E.F.G.H.I.J.K.L.M.N.O.P.Q.R.S.T.U.V.W.X.Y.Z\"\n",
    "address = \"Mr. H. Potter,The cupboard under the Stairs,4 Privet Drive,Little Whinging,Surrey\"\n",
    "\n",
    "# TODO: Convert strings into Python lists\n",
    "letters = ____\n",
    "formatted_address = ____\n",
    "\n",
    "# Do not change: Check your answer\n",
    "q3.check()"
   ]
  },
  {
   "cell_type": "code",
   "execution_count": 9,
   "id": "e63e1369",
   "metadata": {
    "execution": {
     "iopub.execute_input": "2022-08-12T15:42:45.285411Z",
     "iopub.status.busy": "2022-08-12T15:42:45.284953Z",
     "iopub.status.idle": "2022-08-12T15:42:45.289535Z",
     "shell.execute_reply": "2022-08-12T15:42:45.288668Z"
    },
    "papermill": {
     "duration": 0.014855,
     "end_time": "2022-08-12T15:42:45.291728",
     "exception": false,
     "start_time": "2022-08-12T15:42:45.276873",
     "status": "completed"
    },
    "tags": []
   },
   "outputs": [],
   "source": [
    "# Uncomment to see a hint\n",
    "#q3.hint()\n",
    "\n",
    "# Uncomment to see the solution\n",
    "#q3.solution()"
   ]
  },
  {
   "cell_type": "markdown",
   "id": "70625836",
   "metadata": {
    "papermill": {
     "duration": 0.0068,
     "end_time": "2022-08-12T15:42:45.305920",
     "exception": false,
     "start_time": "2022-08-12T15:42:45.299120",
     "status": "completed"
    },
    "tags": []
   },
   "source": [
    "# Question 4\n",
    "\n",
    "In the Python course, you'll learn all about **list comprehensions**, which allow you to create a list based on the values in another list.  In this question, you'll get a brief preview of how they work.\n",
    "\n",
    "Say we're working with the list below."
   ]
  },
  {
   "cell_type": "code",
   "execution_count": 10,
   "id": "18f30e13",
   "metadata": {
    "execution": {
     "iopub.execute_input": "2022-08-12T15:42:45.322974Z",
     "iopub.status.busy": "2022-08-12T15:42:45.322571Z",
     "iopub.status.idle": "2022-08-12T15:42:45.327111Z",
     "shell.execute_reply": "2022-08-12T15:42:45.326270Z"
    },
    "papermill": {
     "duration": 0.015433,
     "end_time": "2022-08-12T15:42:45.329159",
     "exception": false,
     "start_time": "2022-08-12T15:42:45.313726",
     "status": "completed"
    },
    "tags": []
   },
   "outputs": [],
   "source": [
    "test_ratings = [1, 2, 3, 4, 5]"
   ]
  },
  {
   "cell_type": "markdown",
   "id": "fe4586c1",
   "metadata": {
    "papermill": {
     "duration": 0.006776,
     "end_time": "2022-08-12T15:42:45.343017",
     "exception": false,
     "start_time": "2022-08-12T15:42:45.336241",
     "status": "completed"
    },
    "tags": []
   },
   "source": [
    "Then we can use this list (`test_ratings`) to create a new list (`test_liked`) where each item has been turned into a boolean, depending on whether or not the item is greater than or equal to four."
   ]
  },
  {
   "cell_type": "code",
   "execution_count": 11,
   "id": "16682a8d",
   "metadata": {
    "execution": {
     "iopub.execute_input": "2022-08-12T15:42:45.359457Z",
     "iopub.status.busy": "2022-08-12T15:42:45.358750Z",
     "iopub.status.idle": "2022-08-12T15:42:45.364008Z",
     "shell.execute_reply": "2022-08-12T15:42:45.363143Z"
    },
    "papermill": {
     "duration": 0.01615,
     "end_time": "2022-08-12T15:42:45.366076",
     "exception": false,
     "start_time": "2022-08-12T15:42:45.349926",
     "status": "completed"
    },
    "tags": []
   },
   "outputs": [
    {
     "name": "stdout",
     "output_type": "stream",
     "text": [
      "[False, False, False, True, True]\n"
     ]
    }
   ],
   "source": [
    "test_liked = [i>=4 for i in test_ratings]\n",
    "print(test_liked)"
   ]
  },
  {
   "cell_type": "markdown",
   "id": "5e9007ef",
   "metadata": {
    "papermill": {
     "duration": 0.006778,
     "end_time": "2022-08-12T15:42:45.379910",
     "exception": false,
     "start_time": "2022-08-12T15:42:45.373132",
     "status": "completed"
    },
    "tags": []
   },
   "source": [
    "In this question, you'll use this list comprehension to define a function `percentage_liked()` that takes one argument as input:\n",
    "- `ratings`: list of ratings that people gave to a movie, where each rating is a number between 1-5, inclusive\n",
    "\n",
    "We say someone liked the movie, if they gave a rating of either 4 or 5.  Your function should return the percentage of people who liked the movie.\n",
    "\n",
    "For instance, if we supply a value of `[1, 2, 3, 4, 5, 4, 5, 1]`, then 50% (4/8) of the people liked the movie, and the function should return `0.5`.\n",
    "\n",
    "Part of the function has already been completed for you.  You need only use `list_liked` to calculate `percentage_liked`."
   ]
  },
  {
   "cell_type": "code",
   "execution_count": 12,
   "id": "a935f8fc",
   "metadata": {
    "execution": {
     "iopub.execute_input": "2022-08-12T15:42:45.396162Z",
     "iopub.status.busy": "2022-08-12T15:42:45.395529Z",
     "iopub.status.idle": "2022-08-12T15:42:45.403955Z",
     "shell.execute_reply": "2022-08-12T15:42:45.403140Z"
    },
    "papermill": {
     "duration": 0.019036,
     "end_time": "2022-08-12T15:42:45.406072",
     "exception": false,
     "start_time": "2022-08-12T15:42:45.387036",
     "status": "completed"
    },
    "tags": []
   },
   "outputs": [
    {
     "data": {
      "application/javascript": [
       "parent.postMessage({\"jupyterEvent\": \"custom.exercise_interaction\", \"data\": {\"outcomeType\": 2, \"failureMessage\": \"Expected return value of `0.5` given `ratings=[1, 2, 3, 4, 5, 4, 5, 1]`, but got `<learntools.core.constants.PlaceholderValue object at 0x7fa2c0561750>` instead.\", \"interactionType\": 1, \"questionType\": 2, \"questionId\": \"4_PercentageLiked\", \"learnToolsVersion\": \"0.3.4\", \"valueTowardsCompletion\": 0.0, \"exceptionClass\": \"\", \"trace\": \"\"}}, \"*\")"
      ],
      "text/plain": [
       "<IPython.core.display.Javascript object>"
      ]
     },
     "metadata": {},
     "output_type": "display_data"
    },
    {
     "data": {
      "text/markdown": [
       "<span style=\"color:#cc3333\">Incorrect:</span> Expected return value of `0.5` given `ratings=[1, 2, 3, 4, 5, 4, 5, 1]`, but got `<learntools.core.constants.PlaceholderValue object at 0x7fa2c0561750>` instead."
      ],
      "text/plain": [
       "Incorrect: Expected return value of `0.5` given `ratings=[1, 2, 3, 4, 5, 4, 5, 1]`, but got `<learntools.core.constants.PlaceholderValue object at 0x7fa2c0561750>` instead."
      ]
     },
     "metadata": {},
     "output_type": "display_data"
    }
   ],
   "source": [
    "\n",
    "def percentage_liked(ratings):\n",
    "    list_liked = [i>=4 for i in ratings]\n",
    "    # TODO: Complete the function\n",
    "    percentage_liked = ____\n",
    "    return percentage_liked\n",
    "\n",
    "# Do not change: should return 0.5\n",
    "percentage_liked([1, 2, 3, 4, 5, 4, 5, 1])\n",
    "\n",
    "# Do not change: Check your answer\n",
    "q4.check()"
   ]
  },
  {
   "cell_type": "code",
   "execution_count": 13,
   "id": "0f37ee1c",
   "metadata": {
    "execution": {
     "iopub.execute_input": "2022-08-12T15:42:45.423612Z",
     "iopub.status.busy": "2022-08-12T15:42:45.422903Z",
     "iopub.status.idle": "2022-08-12T15:42:45.426767Z",
     "shell.execute_reply": "2022-08-12T15:42:45.425929Z"
    },
    "papermill": {
     "duration": 0.015217,
     "end_time": "2022-08-12T15:42:45.428880",
     "exception": false,
     "start_time": "2022-08-12T15:42:45.413663",
     "status": "completed"
    },
    "tags": []
   },
   "outputs": [],
   "source": [
    "# Uncomment to see a hint\n",
    "#q4.hint()\n",
    "\n",
    "# Uncomment to see the solution\n",
    "#q4.solution()"
   ]
  },
  {
   "cell_type": "markdown",
   "id": "5a20eed9",
   "metadata": {
    "papermill": {
     "duration": 0.007147,
     "end_time": "2022-08-12T15:42:45.443783",
     "exception": false,
     "start_time": "2022-08-12T15:42:45.436636",
     "status": "completed"
    },
    "tags": []
   },
   "source": [
    "# 🌶️ Question 5\n",
    " \n",
    "Say you're doing analytics for a website.  You need to write a function that returns the percentage growth in the total number of users relative to a specified number of years ago.\n",
    "\n",
    "Your function `percentage_growth()` should take two arguments as input:\n",
    "- `num_users` = Python list with the total number of users each year.  So `num_users[0]` is the total number of users in the first year, `num_users[1]` is the total number of users in the second year, and so on.  The final entry in the list gives the total number of users in the most recently completed year.\n",
    "- `yrs_ago` = number of years to go back in time when calculating the growth percentage\n",
    "\n",
    "For instance, say `num_users = [920344, 1043553, 1204334, 1458996, 1503323, 1593432, 1623463, 1843064, 1930992, 2001078]`.\n",
    "- if `yrs_ago = 1`, we want the function to return a value of about `0.036`. This corresponds to a percentage growth of approximately 3.6%, calculated as (2001078 - 1930992)/1930992.\n",
    "- if `years_ago = 7`, we would want to return approximately `0.66`.  This corresponds to a percentage growth of approximately 66%, calculated as (2001078 - 1204334)/1204334.\n",
    "\n",
    "Your coworker sent you a draft of a function, but it doesn't seem to be doing the correct calculation.  Can you figure out what has gone wrong and make the needed changes?"
   ]
  },
  {
   "cell_type": "code",
   "execution_count": 14,
   "id": "632a4eb1",
   "metadata": {
    "execution": {
     "iopub.execute_input": "2022-08-12T15:42:45.460916Z",
     "iopub.status.busy": "2022-08-12T15:42:45.460249Z",
     "iopub.status.idle": "2022-08-12T15:42:45.471395Z",
     "shell.execute_reply": "2022-08-12T15:42:45.470531Z"
    },
    "papermill": {
     "duration": 0.022485,
     "end_time": "2022-08-12T15:42:45.473643",
     "exception": false,
     "start_time": "2022-08-12T15:42:45.451158",
     "status": "completed"
    },
    "tags": []
   },
   "outputs": [
    {
     "name": "stdout",
     "output_type": "stream",
     "text": [
      "0.0\n",
      "0.2807272117129434\n"
     ]
    },
    {
     "data": {
      "application/javascript": [
       "parent.postMessage({\"jupyterEvent\": \"custom.exercise_interaction\", \"data\": {\"outcomeType\": 2, \"failureMessage\": \"Expected return value of `0.03629533421163837` given `num_users=[920344, 1043553, 1204334, 1458996, 1503323, 1593432, 1623463, 1843064, 1930992, 2001078]`, `yrs_ago=1`, but got `0.0` instead.\", \"interactionType\": 1, \"questionType\": 2, \"questionId\": \"5_WebsiteAnalytics\", \"learnToolsVersion\": \"0.3.4\", \"valueTowardsCompletion\": 0.0, \"exceptionClass\": \"\", \"trace\": \"\"}}, \"*\")"
      ],
      "text/plain": [
       "<IPython.core.display.Javascript object>"
      ]
     },
     "metadata": {},
     "output_type": "display_data"
    },
    {
     "data": {
      "text/markdown": [
       "<span style=\"color:#cc3333\">Incorrect:</span> Expected return value of `0.03629533421163837` given `num_users=[920344, 1043553, 1204334, 1458996, 1503323, 1593432, 1623463, 1843064, 1930992, 2001078]`, `yrs_ago=1`, but got `0.0` instead."
      ],
      "text/plain": [
       "Incorrect: Expected return value of `0.03629533421163837` given `num_users=[920344, 1043553, 1204334, 1458996, 1503323, 1593432, 1623463, 1843064, 1930992, 2001078]`, `yrs_ago=1`, but got `0.0` instead."
      ]
     },
     "metadata": {},
     "output_type": "display_data"
    }
   ],
   "source": [
    "# TODO: Edit the function\n",
    "def percentage_growth(num_users, yrs_ago):\n",
    "    growth = (num_users[len(num_users)-1] - num_users[len(num_users)-yrs_ago])/num_users[len(num_users)-2]\n",
    "    return growth\n",
    "\n",
    "# Do not change: Variable for calculating some test examples\n",
    "num_users_test = [920344, 1043553, 1204334, 1458996, 1503323, 1593432, 1623463, 1843064, 1930992, 2001078]\n",
    "\n",
    "# Do not change: Should return .036\n",
    "print(percentage_growth(num_users_test, 1))\n",
    "\n",
    "# Do not change: Should return 0.66\n",
    "print(percentage_growth(num_users_test, 7))\n",
    "\n",
    "# Do not change: Check your answer\n",
    "q5.check()"
   ]
  },
  {
   "cell_type": "code",
   "execution_count": 15,
   "id": "7045c8a2",
   "metadata": {
    "execution": {
     "iopub.execute_input": "2022-08-12T15:42:45.492469Z",
     "iopub.status.busy": "2022-08-12T15:42:45.491246Z",
     "iopub.status.idle": "2022-08-12T15:42:45.496176Z",
     "shell.execute_reply": "2022-08-12T15:42:45.495314Z"
    },
    "papermill": {
     "duration": 0.016593,
     "end_time": "2022-08-12T15:42:45.498512",
     "exception": false,
     "start_time": "2022-08-12T15:42:45.481919",
     "status": "completed"
    },
    "tags": []
   },
   "outputs": [],
   "source": [
    "# Uncomment to see a hint\n",
    "#q5.hint()\n",
    "\n",
    "# Uncomment to see the solution\n",
    "#q5.solution()"
   ]
  },
  {
   "cell_type": "markdown",
   "id": "0a9d4476",
   "metadata": {
    "papermill": {
     "duration": 0.007674,
     "end_time": "2022-08-12T15:42:45.514500",
     "exception": false,
     "start_time": "2022-08-12T15:42:45.506826",
     "status": "completed"
    },
    "tags": []
   },
   "source": [
    "# Congratulations!\n",
    "\n",
    "Congratulations for finishing the Intro to Programming course!  You should be proud of your very first steps with learning programming.  As next steps, we recommend taking:\n",
    "- the **[Python course](http://www.kaggle.com/learn/python)**, and \n",
    "- the **[Intro to Machine Learning course](https://www.kaggle.com/learn/intro-to-machine-learning)**."
   ]
  },
  {
   "cell_type": "markdown",
   "id": "8ab1966d",
   "metadata": {
    "papermill": {
     "duration": 0.007424,
     "end_time": "2022-08-12T15:42:45.529744",
     "exception": false,
     "start_time": "2022-08-12T15:42:45.522320",
     "status": "completed"
    },
    "tags": []
   },
   "source": [
    "---\n",
    "\n",
    "\n",
    "\n",
    "\n",
    "*Have questions or comments? Visit the [course discussion forum](https://www.kaggle.com/learn/intro-to-programming/discussion) to chat with other learners.*"
   ]
  }
 ],
 "metadata": {
  "kernelspec": {
   "display_name": "Python 3",
   "language": "python",
   "name": "python3"
  },
  "language_info": {
   "codemirror_mode": {
    "name": "ipython",
    "version": 3
   },
   "file_extension": ".py",
   "mimetype": "text/x-python",
   "name": "python",
   "nbconvert_exporter": "python",
   "pygments_lexer": "ipython3",
   "version": "3.7.12"
  },
  "papermill": {
   "default_parameters": {},
   "duration": 11.671408,
   "end_time": "2022-08-12T15:42:46.259812",
   "environment_variables": {},
   "exception": null,
   "input_path": "__notebook__.ipynb",
   "output_path": "__notebook__.ipynb",
   "parameters": {},
   "start_time": "2022-08-12T15:42:34.588404",
   "version": "2.3.4"
  }
 },
 "nbformat": 4,
 "nbformat_minor": 5
}
